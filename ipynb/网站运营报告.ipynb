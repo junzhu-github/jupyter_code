{
 "cells": [
  {
   "cell_type": "markdown",
   "metadata": {},
   "source": [
    "### 导入库"
   ]
  },
  {
   "cell_type": "code",
   "execution_count": 1,
   "metadata": {},
   "outputs": [],
   "source": [
    "# import os\n",
    "import numpy as np\n",
    "import pandas as pd\n",
    "# import matplotlib.pyplot as plt\n",
    "# %matplotlib inline"
   ]
  },
  {
   "cell_type": "markdown",
   "metadata": {},
   "source": [
    "### 导入excel"
   ]
  },
  {
   "cell_type": "code",
   "execution_count": 4,
   "metadata": {},
   "outputs": [],
   "source": [
    "path = r'E:\\OneDrive - xbsf.cursotamandare.g12.br\\小鸡理财\\数据报告\\网站运营报告\\10月运营报告\\10月运营报告数据.xlsx'"
   ]
  },
  {
   "cell_type": "code",
   "execution_count": 5,
   "metadata": {
    "scrolled": true
   },
   "outputs": [],
   "source": [
    "with pd.ExcelFile(path) as xlsx:\n",
    "    df_tz = pd.read_excel(xlsx,'投资')\n",
    "    df_zc = pd.read_excel(xlsx,'注册')\n",
    "    df_yj = pd.read_excel(xlsx,'佣金')\n",
    "    df_vip = pd.read_excel(xlsx,'VIP变动')\n",
    "    df_quan = pd.read_excel(xlsx,'券')\n",
    "    df_zht = pd.read_excel(xlsx,'智慧投')"
   ]
  },
  {
   "cell_type": "markdown",
   "metadata": {},
   "source": [
    "## 2页"
   ]
  },
  {
   "cell_type": "markdown",
   "metadata": {},
   "source": [
    "- 成交额"
   ]
  },
  {
   "cell_type": "code",
   "execution_count": 6,
   "metadata": {
    "scrolled": true
   },
   "outputs": [
    {
     "name": "stdout",
     "output_type": "stream",
     "text": [
      "成交额：51087300\n"
     ]
    }
   ],
   "source": [
    "cheng_jiao_sum = df_tz['总投资额'].sum()\n",
    "print('成交额：%.0f' %cheng_jiao_sum)"
   ]
  },
  {
   "cell_type": "markdown",
   "metadata": {},
   "source": [
    "- 年化成交额"
   ]
  },
  {
   "cell_type": "code",
   "execution_count": 14,
   "metadata": {
    "scrolled": true
   },
   "outputs": [
    {
     "name": "stdout",
     "output_type": "stream",
     "text": [
      "年化成交额：17485425\n"
     ]
    }
   ],
   "source": [
    "df_tz['年化成交额'] = df_tz['投资期限'] * df_tz['总投资额'] / 360\n",
    "\n",
    "nianhua_cheng_jiao_sum = df_tz['年化成交额'].sum()\n",
    "print('年化成交额：%.0f' %nianhua_cheng_jiao_sum)"
   ]
  },
  {
   "cell_type": "markdown",
   "metadata": {},
   "source": [
    "- 为用户赚取收益"
   ]
  },
  {
   "cell_type": "code",
   "execution_count": 15,
   "metadata": {
    "scrolled": true
   },
   "outputs": [
    {
     "name": "stdout",
     "output_type": "stream",
     "text": [
      "投资利息（含加息标、加息券收益）2438595.93 + 佣金139159.16999999998 + 抵用券18617 + 现金券35568 = 2631940.10\n"
     ]
    }
   ],
   "source": [
    "diyong_quan_sum = df_quan[df_quan['大类']=='抵用券'].金额.sum()\n",
    "xianjin_quan_sum = df_quan[df_quan['大类']=='现金券'].金额.sum()\n",
    "\n",
    "tz_shouyi_sum = df_tz['预期收益'].sum()\n",
    "yj_sum = df_yj['佣金金额'].sum()\n",
    "\n",
    "print('投资利息（含加息标、加息券收益）{0} + 佣金{1} + 抵用券{2} + 现金券{3} = {4:.2f}'\n",
    "      .format(tz_shouyi_sum,\n",
    "              yj_sum,\n",
    "              diyong_quan_sum,\n",
    "              xianjin_quan_sum,\n",
    "              tz_shouyi_sum+yj_sum+diyong_quan_sum+xianjin_quan_sum))"
   ]
  },
  {
   "cell_type": "markdown",
   "metadata": {},
   "source": [
    "- 平台累计总交易额"
   ]
  },
  {
   "cell_type": "code",
   "execution_count": 16,
   "metadata": {},
   "outputs": [
    {
     "name": "stdout",
     "output_type": "stream",
     "text": [
      "上月累计成交额3272098484.03\n",
      "\n",
      "平台累计总交易额：上月3272098484.03 + 本月51087300.0 = 3323185784.03\n"
     ]
    }
   ],
   "source": [
    "last = input('上月累计成交额')\n",
    "\n",
    "print('\\n平台累计总交易额：上月{0} + 本月{1} = {2}'\\\n",
    "      .format(float(last),cheng_jiao_sum,float(last) + cheng_jiao_sum))"
   ]
  },
  {
   "cell_type": "markdown",
   "metadata": {},
   "source": [
    "## 3页"
   ]
  },
  {
   "cell_type": "markdown",
   "metadata": {},
   "source": [
    "- 新增用户数"
   ]
  },
  {
   "cell_type": "code",
   "execution_count": 17,
   "metadata": {},
   "outputs": [
    {
     "name": "stdout",
     "output_type": "stream",
     "text": [
      "新增用户数： 543\n"
     ]
    }
   ],
   "source": [
    "fresh_users = df_zc['用户名'].count()\n",
    "\n",
    "print('新增用户数：',fresh_users)"
   ]
  },
  {
   "cell_type": "markdown",
   "metadata": {},
   "source": [
    "- 累计注册用户数"
   ]
  },
  {
   "cell_type": "code",
   "execution_count": 18,
   "metadata": {},
   "outputs": [
    {
     "name": "stdout",
     "output_type": "stream",
     "text": [
      "上月累计注册用户数264108\n",
      "\n",
      "平台累计注册用户数：上月264108 + 本月543 = 264651\n"
     ]
    }
   ],
   "source": [
    "last_users = input('上月累计注册用户数')\n",
    "\n",
    "print('\\n平台累计注册用户数：上月{0} + 本月{1} = {2}'\\\n",
    "      .format(int(last_users),fresh_users,int(last_users) + fresh_users))"
   ]
  },
  {
   "cell_type": "markdown",
   "metadata": {},
   "source": [
    "## 4页"
   ]
  },
  {
   "cell_type": "code",
   "execution_count": 19,
   "metadata": {
    "scrolled": false
   },
   "outputs": [
    {
     "data": {
      "text/plain": [
       "array(['安卓端', '苹果端', '微信端', 'Web端'], dtype=object)"
      ]
     },
     "execution_count": 19,
     "metadata": {},
     "output_type": "execute_result"
    }
   ],
   "source": [
    "df_tz['投资来源'].unique()"
   ]
  },
  {
   "cell_type": "markdown",
   "metadata": {},
   "source": [
    "- 移动端投资额"
   ]
  },
  {
   "cell_type": "code",
   "execution_count": 20,
   "metadata": {},
   "outputs": [
    {
     "name": "stdout",
     "output_type": "stream",
     "text": [
      "移动端投资额：50138100\n"
     ]
    }
   ],
   "source": [
    "tz_yidong_sum = df_tz[df_tz['投资来源'].isin(['安卓端', '苹果端', '微信端', '手机H5'])].总投资额.sum()\n",
    "\n",
    "print('移动端投资额：%.0f'%tz_yidong_sum)"
   ]
  },
  {
   "cell_type": "markdown",
   "metadata": {},
   "source": [
    "- 移动端年化投资额"
   ]
  },
  {
   "cell_type": "code",
   "execution_count": 21,
   "metadata": {},
   "outputs": [
    {
     "name": "stdout",
     "output_type": "stream",
     "text": [
      "移动端投资额：17252442\n"
     ]
    }
   ],
   "source": [
    "nianhua_tz_yidong_sum = df_tz[df_tz['投资来源'].isin(['安卓端', '苹果端', '微信端', '手机H5'])].年化成交额.sum()\n",
    "\n",
    "print('移动端投资额：%.0f'%nianhua_tz_yidong_sum)"
   ]
  },
  {
   "cell_type": "markdown",
   "metadata": {},
   "source": [
    "- 年化投资额比例"
   ]
  },
  {
   "cell_type": "code",
   "execution_count": 23,
   "metadata": {
    "scrolled": true
   },
   "outputs": [
    {
     "name": "stdout",
     "output_type": "stream",
     "text": [
      "APP 93.15% , 微信 5.52% , PC 1.33%\n"
     ]
    }
   ],
   "source": [
    "gp = df_tz.groupby('投资来源')['年化成交额'].sum()\n",
    "\n",
    "temp = pd.DataFrame(gp)\n",
    "\n",
    "temp['total'] = nianhua_cheng_jiao_sum\n",
    "\n",
    "temp['percent'] = temp['年化成交额'] / temp['total']\n",
    "\n",
    "print('APP {0:.2%} , 微信 {1:.2%} , PC {2:.2%}'.format(\n",
    "    1 - temp.loc['微信端','percent'] - temp.loc['Web端','percent'],\n",
    "    temp.loc['微信端','percent'],\n",
    "    temp.loc['Web端','percent']))"
   ]
  },
  {
   "cell_type": "markdown",
   "metadata": {},
   "source": [
    "- 总投资额比例"
   ]
  },
  {
   "cell_type": "code",
   "execution_count": 24,
   "metadata": {},
   "outputs": [
    {
     "data": {
      "text/plain": [
       "group\n",
       "APP    92.582501\n",
       "PC      1.857996\n",
       "微信      5.559503\n",
       "Name: 总投资额, dtype: float64"
      ]
     },
     "execution_count": 24,
     "metadata": {},
     "output_type": "execute_result"
    }
   ],
   "source": [
    "#方法二：\n",
    "dt = {'安卓端':'APP','苹果端':'APP','微信端':'微信','Web端':'PC'}\n",
    "\n",
    "df_tz['group'] = df_tz['投资来源'].map(dt)\n",
    "grouped = df_tz.groupby('group')['总投资额'].sum()\n",
    "\n",
    "gp_pct = grouped.apply(lambda x : 100 * x / cheng_jiao_sum)\n",
    "gp_pct"
   ]
  },
  {
   "cell_type": "markdown",
   "metadata": {},
   "source": [
    "## 5页"
   ]
  },
  {
   "cell_type": "markdown",
   "metadata": {},
   "source": [
    "- 月度土豪奖"
   ]
  },
  {
   "cell_type": "code",
   "execution_count": 25,
   "metadata": {},
   "outputs": [
    {
     "name": "stdout",
     "output_type": "stream",
     "text": [
      "月度土豪奖:18968362985 | 163万\n"
     ]
    }
   ],
   "source": [
    "gp_tz_1 = df_zht.groupby('手机号码')['总投资金额'].sum().sort_values(ascending=False)\n",
    "\n",
    "phone = gp_tz_1.index[0]\n",
    "num = gp_tz_1.iloc[0]\n",
    "\n",
    "print('月度土豪奖:{0} | {1:.0f}万'.format(phone,num/10000))"
   ]
  },
  {
   "cell_type": "markdown",
   "metadata": {},
   "source": [
    "- 月度勤恳奖"
   ]
  },
  {
   "cell_type": "code",
   "execution_count": 26,
   "metadata": {},
   "outputs": [
    {
     "name": "stdout",
     "output_type": "stream",
     "text": [
      "月度勤恳奖:18968362985 | 40次\n"
     ]
    }
   ],
   "source": [
    "gp_tz_2 = df_zht.groupby('手机号码')['总投资金额'].count().sort_values(ascending=False)\n",
    "\n",
    "phone = gp_tz_2.index[0]\n",
    "num = gp_tz_2.iloc[0]\n",
    "\n",
    "print('月度勤恳奖:{0} | {1}次'.format(phone,num))"
   ]
  },
  {
   "cell_type": "markdown",
   "metadata": {},
   "source": [
    "- 月度收获奖"
   ]
  },
  {
   "cell_type": "code",
   "execution_count": 27,
   "metadata": {},
   "outputs": [
    {
     "name": "stdout",
     "output_type": "stream",
     "text": [
      "月度收获奖:18968362985 | 23万\n"
     ]
    }
   ],
   "source": [
    "df_zht['profit'] = df_zht['预期利息']+df_zht['抵用券成本']\n",
    "\n",
    "gp_tz_3 = df_zht.groupby('手机号码')['profit'].sum().sort_values(ascending=False)\n",
    "\n",
    "phone = gp_tz_3.index[0]\n",
    "num = gp_tz_3.iloc[0]\n",
    "\n",
    "print('月度收获奖:{0} | {1:.0f}万'.format(phone,num/10000))"
   ]
  },
  {
   "cell_type": "markdown",
   "metadata": {},
   "source": [
    "- 月度人气奖"
   ]
  },
  {
   "cell_type": "code",
   "execution_count": 28,
   "metadata": {},
   "outputs": [
    {
     "name": "stdout",
     "output_type": "stream",
     "text": [
      "月度人气奖:13972018698 | 32人\n"
     ]
    }
   ],
   "source": [
    "gp_zc_1 = df_zc.groupby('邀请人')['用户名'].count().sort_values(ascending=False)\n",
    "\n",
    "phone = gp_zc_1.index[0]\n",
    "num = gp_zc_1.iloc[0]\n",
    "\n",
    "print('月度人气奖:{0:.0f} | {1}人'.format(phone,num))"
   ]
  },
  {
   "cell_type": "markdown",
   "metadata": {},
   "source": [
    "## 6页"
   ]
  },
  {
   "cell_type": "markdown",
   "metadata": {},
   "source": [
    "- “壕”气冲天"
   ]
  },
  {
   "cell_type": "code",
   "execution_count": 29,
   "metadata": {},
   "outputs": [
    {
     "name": "stdout",
     "output_type": "stream",
     "text": [
      "“壕”气冲天:VIP7 | 94万\n"
     ]
    }
   ],
   "source": [
    "gp_tz_4 = df_tz.groupby('投资时会员类型')['总投资额'].sum()\n",
    "# print(gp_tz_4)\n",
    "\n",
    "gp_tz_5 = df_tz.groupby('投资时会员类型')['投资用户'].nunique()\n",
    "# print(gp_tz_5)\n",
    "\n",
    "gp_tz_6 = pd.concat([gp_tz_4, gp_tz_5], axis=1)\n",
    "gp_tz_6['avg'] = gp_tz_6['总投资额'] / gp_tz_6['投资用户']\n",
    "gp_tz_6.sort_values(by = 'avg',ascending = False,inplace = True)\n",
    "\n",
    "vip = gp_tz_6.index[0]\n",
    "num = gp_tz_6.iloc[0,2]\n",
    "\n",
    "print('“壕”气冲天:{0} | {1:.0f}万'.format(vip,num/10000))"
   ]
  },
  {
   "cell_type": "markdown",
   "metadata": {},
   "source": [
    "- “勇”争先锋"
   ]
  },
  {
   "cell_type": "code",
   "execution_count": 30,
   "metadata": {},
   "outputs": [
    {
     "name": "stdout",
     "output_type": "stream",
     "text": [
      "“勇”争先锋:VIP2 | 1200万\n"
     ]
    }
   ],
   "source": [
    "gp_tz_4.sort_values(ascending = False,inplace = True)\n",
    "\n",
    "vip = gp_tz_4.index[0]\n",
    "num = gp_tz_4.iloc[0]\n",
    "\n",
    "print('“勇”争先锋:{0} | {1:.0f}万'.format(vip,num/10000))"
   ]
  },
  {
   "cell_type": "markdown",
   "metadata": {},
   "source": [
    "- VIP用户升级情况"
   ]
  },
  {
   "cell_type": "code",
   "execution_count": 31,
   "metadata": {
    "scrolled": true
   },
   "outputs": [
    {
     "name": "stdout",
     "output_type": "stream",
     "text": [
      "199位用户的VIP等级提升，其中：\n",
      "\n"
     ]
    },
    {
     "name": "stderr",
     "output_type": "stream",
     "text": [
      "c:\\users\\dragon\\appdata\\local\\programs\\python\\python37\\lib\\site-packages\\ipykernel_launcher.py:4: SettingWithCopyWarning: \n",
      "A value is trying to be set on a copy of a slice from a DataFrame\n",
      "\n",
      "See the caveats in the documentation: http://pandas.pydata.org/pandas-docs/stable/user_guide/indexing.html#returning-a-view-versus-a-copy\n",
      "  after removing the cwd from sys.path.\n",
      "c:\\users\\dragon\\appdata\\local\\programs\\python\\python37\\lib\\site-packages\\ipykernel_launcher.py:5: SettingWithCopyWarning: \n",
      "A value is trying to be set on a copy of a slice from a DataFrame\n",
      "\n",
      "See the caveats in the documentation: http://pandas.pydata.org/pandas-docs/stable/user_guide/indexing.html#returning-a-view-versus-a-copy\n",
      "  \"\"\"\n"
     ]
    },
    {
     "data": {
      "text/plain": [
       "VIP 升级人数\n",
       "1    76\n",
       "2    66\n",
       "3    28\n",
       "4    20\n",
       "5     6\n",
       "6     2\n",
       "7     1\n",
       "Name: 用户名, dtype: int64"
      ]
     },
     "execution_count": 31,
     "metadata": {},
     "output_type": "execute_result"
    }
   ],
   "source": [
    "df_vip_up = df_vip[df_vip['变动原因'] == '升级']\n",
    "# df_vip_up['变动原因'].unique()\n",
    "\n",
    "df_vip_up.sort_values(by = '变动后等级',ascending = False,inplace = True)\n",
    "df_vip_up.drop_duplicates(subset=['用户名'],inplace = True)\n",
    "\n",
    "# df_vip_up.info()\n",
    "gp_vip = df_vip_up.groupby('变动后等级')['用户名'].count()\n",
    "gp_vip.index.name = 'VIP 升级人数' \n",
    "\n",
    "print('{0}位用户的VIP等级提升，其中：\\n'.format(gp_vip.sum()))\n",
    "gp_vip"
   ]
  },
  {
   "cell_type": "code",
   "execution_count": null,
   "metadata": {},
   "outputs": [],
   "source": []
  }
 ],
 "metadata": {
  "kernelspec": {
   "display_name": "Python 3",
   "language": "python",
   "name": "python3"
  },
  "language_info": {
   "codemirror_mode": {
    "name": "ipython",
    "version": 3
   },
   "file_extension": ".py",
   "mimetype": "text/x-python",
   "name": "python",
   "nbconvert_exporter": "python",
   "pygments_lexer": "ipython3",
   "version": "3.7.2"
  }
 },
 "nbformat": 4,
 "nbformat_minor": 2
}
