{
 "cells": [
  {
   "cell_type": "code",
   "execution_count": 1,
   "metadata": {},
   "outputs": [],
   "source": [
    "import os\n",
    "import time\n",
    "import numpy as np\n",
    "import pandas as pd\n",
    "import matplotlib.pyplot as plt\n",
    "%matplotlib inline"
   ]
  },
  {
   "cell_type": "code",
   "execution_count": 2,
   "metadata": {},
   "outputs": [],
   "source": [
    "file = os.listdir('.')"
   ]
  },
  {
   "cell_type": "code",
   "execution_count": 3,
   "metadata": {},
   "outputs": [
    {
     "data": {
      "text/plain": [
       "['.ipynb_checkpoints',\n",
       " 'btc_price_calculator.ipynb',\n",
       " 'Kaggle Housing Prices.ipynb',\n",
       " 'nba_play.ipynb',\n",
       " 'pyecharts_exercise.ipynb',\n",
       " 'python数据类型.ipynb',\n",
       " 'tempt_notebook.ipynb',\n",
       " 'Titanic data profiling.html',\n",
       " 'tutorial.ipynb']"
      ]
     },
     "execution_count": 3,
     "metadata": {},
     "output_type": "execute_result"
    }
   ],
   "source": [
    "file"
   ]
  },
  {
   "cell_type": "code",
   "execution_count": 4,
   "metadata": {},
   "outputs": [],
   "source": [
    "os.chdir(r'C:\\Users\\me\\Desktop\\111')"
   ]
  },
  {
   "cell_type": "code",
   "execution_count": 6,
   "metadata": {},
   "outputs": [
    {
     "data": {
      "text/plain": [
       "'C:\\\\Users\\\\me\\\\Desktop\\\\111'"
      ]
     },
     "execution_count": 6,
     "metadata": {},
     "output_type": "execute_result"
    }
   ],
   "source": [
    "os.getcwd()"
   ]
  },
  {
   "cell_type": "code",
   "execution_count": 7,
   "metadata": {},
   "outputs": [],
   "source": [
    "files = os.listdir('.')"
   ]
  },
  {
   "cell_type": "code",
   "execution_count": 8,
   "metadata": {},
   "outputs": [
    {
     "data": {
      "text/plain": [
       "['SaaS运营关键工具—同期群分析  人人都是产品经理.txt',\n",
       " 'ToB销售中的客户分析  人人都是产品经理.txt',\n",
       " '上 YouTube 观看“Python Pandas Tutorial (Part 9) Cleaning Data - Casting Datatypes and Handling Missing Values”.txt',\n",
       " '不知道怎么留住用户？我总结了13个挽留弹窗技巧  人人都是产品经理.txt',\n",
       " '互联网用户运营五部曲  人人都是产品经理.txt',\n",
       " '复盘：3年产品经理面试翻车  人人都是产品经理.txt',\n",
       " '带你遍历用户生命价值与流失挽救（上)  流量下的价值套路  人人都是产品经理.txt',\n",
       " '新媒体运营简历制作指南  运营派.txt',\n",
       " '案例解析：抽奖活动如何做提高用户体验？  运营派.txt',\n",
       " '设计原则 · 语雀.txt']"
      ]
     },
     "execution_count": 8,
     "metadata": {},
     "output_type": "execute_result"
    }
   ],
   "source": [
    "files"
   ]
  },
  {
   "cell_type": "code",
   "execution_count": 14,
   "metadata": {},
   "outputs": [],
   "source": [
    "with open(files[0], 'r') as fn:\n",
    "    all_data = fn.readline()"
   ]
  },
  {
   "cell_type": "code",
   "execution_count": 12,
   "metadata": {},
   "outputs": [
    {
     "data": {
      "text/plain": [
       "'http://www.woshipm.com/operate/4055110.html'"
      ]
     },
     "execution_count": 12,
     "metadata": {},
     "output_type": "execute_result"
    }
   ],
   "source": [
    "all_data"
   ]
  },
  {
   "cell_type": "code",
   "execution_count": 15,
   "metadata": {},
   "outputs": [
    {
     "data": {
      "text/plain": [
       "list"
      ]
     },
     "execution_count": 15,
     "metadata": {},
     "output_type": "execute_result"
    }
   ],
   "source": [
    "type(all_data)"
   ]
  },
  {
   "cell_type": "code",
   "execution_count": 16,
   "metadata": {},
   "outputs": [],
   "source": [
    "urls = []"
   ]
  },
  {
   "cell_type": "code",
   "execution_count": 17,
   "metadata": {},
   "outputs": [],
   "source": [
    "for i in files:\n",
    "    with open(i, 'r') as f:\n",
    "        url = f.readline()\n",
    "    urls.append(url)"
   ]
  },
  {
   "cell_type": "code",
   "execution_count": 18,
   "metadata": {},
   "outputs": [
    {
     "data": {
      "text/plain": [
       "['http://www.woshipm.com/operate/4055110.html',\n",
       " 'http://www.woshipm.com/user-research/4060866.html',\n",
       " 'https://youtu.be/KdmPHEnPJPs',\n",
       " 'http://www.woshipm.com/pd/4059023.html',\n",
       " 'http://www.woshipm.com/operate/4053045.html',\n",
       " 'http://www.woshipm.com/pmd/4060796.html',\n",
       " 'http://www.woshipm.com/user-research/4062500.html',\n",
       " 'https://www.yunyingpai.com/media/616278.html',\n",
       " 'https://www.yunyingpai.com/activity/617995.html',\n",
       " 'https://www.yuque.com/mo-college/vis-design/yygtlg']"
      ]
     },
     "execution_count": 18,
     "metadata": {},
     "output_type": "execute_result"
    }
   ],
   "source": [
    "urls"
   ]
  },
  {
   "cell_type": "code",
   "execution_count": 24,
   "metadata": {},
   "outputs": [],
   "source": [
    "with open('urls.txt','w') as fw:\n",
    "    fw.write('\\n'.join(urls))"
   ]
  },
  {
   "cell_type": "markdown",
   "metadata": {},
   "source": [
    "--- 20200811 ---"
   ]
  },
  {
   "cell_type": "code",
   "execution_count": null,
   "metadata": {},
   "outputs": [],
   "source": [
    "df = pd.read_excel('01.xlsx')"
   ]
  },
  {
   "cell_type": "code",
   "execution_count": null,
   "metadata": {},
   "outputs": [],
   "source": [
    "df.head()"
   ]
  },
  {
   "cell_type": "code",
   "execution_count": null,
   "metadata": {},
   "outputs": [],
   "source": [
    "df.info()"
   ]
  },
  {
   "cell_type": "code",
   "execution_count": null,
   "metadata": {},
   "outputs": [],
   "source": [
    "fuck_area = '滨江区|富阳区|建德市|江干区|临安区|桐庐县|萧山区|上城区·采荷|上城区·城站|上城区·鼓楼|上城区·近江|上城区·南星|下城区·北景园|下城区·东新|下城区·建国路|下城区·下城区·上塘|下城区·石桥|下城区·新天地|西湖区·美院象山|西湖区·宋城|西湖区·小和山|西湖区·转塘|余杭区·仓前|余杭区·崇贤|余杭区·老余杭|余杭区·良渚|余杭区·临平|余杭区·乔司|余杭区·仁和|余杭区·塘栖|余杭区·未来科技城|余杭区·五常|余杭区·星桥|余杭区·余之城购物中心'"
   ]
  },
  {
   "cell_type": "code",
   "execution_count": null,
   "metadata": {},
   "outputs": [],
   "source": [
    "df_fuck_area_result = df[~df['area'].str.contains(fuck_area)]"
   ]
  },
  {
   "cell_type": "code",
   "execution_count": null,
   "metadata": {},
   "outputs": [],
   "source": [
    "df_fuck_area_result.tail(10)"
   ]
  },
  {
   "cell_type": "code",
   "execution_count": null,
   "metadata": {},
   "outputs": [],
   "source": [
    "df_fuck_area_result.info()"
   ]
  },
  {
   "cell_type": "code",
   "execution_count": null,
   "metadata": {},
   "outputs": [],
   "source": [
    "ok_title = 'BA|BI|数据分析|数据运营|分析数据|报表|数据处理|数据产品|数据支持|数据专员|统计|销售运营|销售支持|数据应用|运营数据|应用数据|产品数据|处理数据|支持数据'"
   ]
  },
  {
   "cell_type": "code",
   "execution_count": null,
   "metadata": {},
   "outputs": [],
   "source": [
    "df_ok_title_result = df_fuck_area_result[df_fuck_area_result['title'].str.contains(ok_title)]"
   ]
  },
  {
   "cell_type": "code",
   "execution_count": null,
   "metadata": {},
   "outputs": [],
   "source": [
    "df_ok_title_result.info()"
   ]
  },
  {
   "cell_type": "code",
   "execution_count": null,
   "metadata": {},
   "outputs": [],
   "source": [
    "fuck_title = '助理|实习|外包|BIM|GIS数据'"
   ]
  },
  {
   "cell_type": "code",
   "execution_count": null,
   "metadata": {},
   "outputs": [],
   "source": [
    "df_fuck_title_result = df_ok_title_result[~df_ok_title_result['title'].str.contains(fuck_title)]"
   ]
  },
  {
   "cell_type": "code",
   "execution_count": null,
   "metadata": {},
   "outputs": [],
   "source": [
    "df_fuck_title_result.head(10)"
   ]
  },
  {
   "cell_type": "code",
   "execution_count": null,
   "metadata": {},
   "outputs": [],
   "source": [
    "df_fuck_title_result.tail(10)"
   ]
  },
  {
   "cell_type": "code",
   "execution_count": null,
   "metadata": {},
   "outputs": [],
   "source": [
    "df_fuck_title_result.info()"
   ]
  },
  {
   "cell_type": "code",
   "execution_count": null,
   "metadata": {},
   "outputs": [],
   "source": [
    "fuck_company = '盛锋管理|深大智能|蚂蚁金服|粉象生活|菜鸟网络|大搜车|盒马鲜生|迪安诊断|普天太力|微拍堂|蘑菇街|阿里巴巴|阿里云|溪鸟物流|腾讯|宋小菜|一周CP|中软国际|促佳贸易|网商银行'"
   ]
  },
  {
   "cell_type": "code",
   "execution_count": null,
   "metadata": {},
   "outputs": [],
   "source": [
    "df_fuck_company_result = df_fuck_title_result[~df_fuck_title_result['company'].str.contains(fuck_company)]"
   ]
  },
  {
   "cell_type": "code",
   "execution_count": null,
   "metadata": {},
   "outputs": [],
   "source": [
    "df_fuck_company_result.head(10)"
   ]
  },
  {
   "cell_type": "code",
   "execution_count": null,
   "metadata": {},
   "outputs": [],
   "source": [
    "df_fuck_company_result.info()"
   ]
  },
  {
   "cell_type": "code",
   "execution_count": null,
   "metadata": {},
   "outputs": [],
   "source": [
    "fuck_salary = '20-|21-|22-|23-|24-|25-|26-|27-|28-|29-|30-|31-|32-|33-|34-|35-|-5K|-6K'"
   ]
  },
  {
   "cell_type": "code",
   "execution_count": null,
   "metadata": {},
   "outputs": [],
   "source": [
    "df_result = df_fuck_company_result[~df_fuck_company_result['salary'].str.contains(fuck_salary)]"
   ]
  },
  {
   "cell_type": "code",
   "execution_count": null,
   "metadata": {},
   "outputs": [],
   "source": [
    "df_result = df_result.drop_duplicates('url')"
   ]
  },
  {
   "cell_type": "code",
   "execution_count": null,
   "metadata": {},
   "outputs": [],
   "source": [
    "df_result.info()"
   ]
  },
  {
   "cell_type": "code",
   "execution_count": null,
   "metadata": {},
   "outputs": [],
   "source": [
    "df_result.to_excel('01_result.xlsx')"
   ]
  },
  {
   "cell_type": "code",
   "execution_count": null,
   "metadata": {},
   "outputs": [],
   "source": []
  },
  {
   "cell_type": "code",
   "execution_count": null,
   "metadata": {},
   "outputs": [],
   "source": []
  },
  {
   "cell_type": "markdown",
   "metadata": {},
   "source": [
    "--- 20200808 ---"
   ]
  },
  {
   "cell_type": "code",
   "execution_count": null,
   "metadata": {},
   "outputs": [],
   "source": [
    "import json\n",
    "import pandas as pd\n",
    "from bs4 import BeautifulSoup,SoupStrainer"
   ]
  },
  {
   "cell_type": "code",
   "execution_count": null,
   "metadata": {},
   "outputs": [],
   "source": [
    "only_a_tags = SoupStrainer(\"div\",class_='job-primary')"
   ]
  },
  {
   "cell_type": "code",
   "execution_count": null,
   "metadata": {},
   "outputs": [],
   "source": [
    "with open('08.html','r', encoding='utf-8') as f:\n",
    "    soup = BeautifulSoup(f.read(), \"html.parser\",parse_only=only_a_tags)"
   ]
  },
  {
   "cell_type": "code",
   "execution_count": null,
   "metadata": {},
   "outputs": [],
   "source": [
    "print(soup.prettify())"
   ]
  },
  {
   "cell_type": "code",
   "execution_count": null,
   "metadata": {},
   "outputs": [],
   "source": [
    "for i in soup:\n",
    "    print(i.find_all('span')[2].contents)\n",
    "    print(type(i.find_all('span')[2].contents))\n",
    "    print('*' *10)"
   ]
  },
  {
   "cell_type": "code",
   "execution_count": null,
   "metadata": {
    "scrolled": true
   },
   "outputs": [],
   "source": [
    "for i in soup:\n",
    "    print(i.a['href'])   #url\n",
    "    print(i.a['title'])   #title\n",
    "    print(i.find_all('span')[2].contents[0])   #area\n",
    "    print(i.find_all('span')[4].contents[0])   #salary\n",
    "    print(i.find_all('a')[1].contents[0])   #company\n",
    "\n",
    "    print('*' *10)"
   ]
  },
  {
   "cell_type": "code",
   "execution_count": null,
   "metadata": {},
   "outputs": [],
   "source": [
    "url = []\n",
    "title = []\n",
    "area = []"
   ]
  },
  {
   "cell_type": "code",
   "execution_count": null,
   "metadata": {},
   "outputs": [],
   "source": [
    "for i in soup:\n",
    "    url.append(i.a['href'])\n",
    "    title.append(i.a['title'])\n",
    "    area.append(i.find_all('span')[2].contents)"
   ]
  },
  {
   "cell_type": "code",
   "execution_count": null,
   "metadata": {
    "scrolled": true
   },
   "outputs": [],
   "source": [
    "url"
   ]
  },
  {
   "cell_type": "code",
   "execution_count": null,
   "metadata": {
    "scrolled": true
   },
   "outputs": [],
   "source": [
    "title"
   ]
  },
  {
   "cell_type": "code",
   "execution_count": null,
   "metadata": {
    "scrolled": true
   },
   "outputs": [],
   "source": [
    "area"
   ]
  },
  {
   "cell_type": "code",
   "execution_count": null,
   "metadata": {},
   "outputs": [],
   "source": [
    "for i in soup:\n",
    "    print(type(i.a['href']))\n",
    "    print(type(i.a['title']))\n",
    "    print(type(i.find_all('span')[2].contents))\n",
    "    print('*' *10)"
   ]
  },
  {
   "cell_type": "code",
   "execution_count": null,
   "metadata": {
    "scrolled": true
   },
   "outputs": [],
   "source": [
    "for i in soup:\n",
    "    if i.find_all('span')[2].contents:\n",
    "        print(i.find_all('span')[2].contents)\n",
    "    else:\n",
    "        print('null')\n",
    "    print('*' *10)"
   ]
  },
  {
   "cell_type": "code",
   "execution_count": null,
   "metadata": {},
   "outputs": [],
   "source": [
    "d = dict()"
   ]
  },
  {
   "cell_type": "code",
   "execution_count": null,
   "metadata": {},
   "outputs": [],
   "source": [
    "d"
   ]
  },
  {
   "cell_type": "code",
   "execution_count": null,
   "metadata": {},
   "outputs": [],
   "source": [
    "d['a'] = ['x','y','z']"
   ]
  },
  {
   "cell_type": "code",
   "execution_count": null,
   "metadata": {},
   "outputs": [],
   "source": [
    "d"
   ]
  },
  {
   "cell_type": "code",
   "execution_count": null,
   "metadata": {},
   "outputs": [],
   "source": [
    "u = []"
   ]
  },
  {
   "cell_type": "code",
   "execution_count": null,
   "metadata": {},
   "outputs": [],
   "source": [
    "u"
   ]
  },
  {
   "cell_type": "code",
   "execution_count": null,
   "metadata": {},
   "outputs": [],
   "source": [
    "u.append('x')"
   ]
  },
  {
   "cell_type": "code",
   "execution_count": null,
   "metadata": {},
   "outputs": [],
   "source": [
    "u"
   ]
  },
  {
   "cell_type": "code",
   "execution_count": null,
   "metadata": {},
   "outputs": [],
   "source": [
    "def u():\n",
    "    x = 1\n",
    "    y = 2\n",
    "    return x,y"
   ]
  },
  {
   "cell_type": "code",
   "execution_count": null,
   "metadata": {},
   "outputs": [],
   "source": [
    "y = u()"
   ]
  },
  {
   "cell_type": "code",
   "execution_count": null,
   "metadata": {},
   "outputs": [],
   "source": [
    "type(y)"
   ]
  },
  {
   "cell_type": "code",
   "execution_count": null,
   "metadata": {},
   "outputs": [],
   "source": [
    "y[0]"
   ]
  },
  {
   "cell_type": "code",
   "execution_count": null,
   "metadata": {},
   "outputs": [],
   "source": [
    "data = {'Name':['Tom', 'Jack', 'Steve', 'Ricky'],'Age':[28,34,29,42]}\n",
    "df = pd.DataFrame(data)"
   ]
  },
  {
   "cell_type": "code",
   "execution_count": null,
   "metadata": {},
   "outputs": [],
   "source": [
    "df"
   ]
  },
  {
   "cell_type": "code",
   "execution_count": null,
   "metadata": {},
   "outputs": [],
   "source": [
    "only_a_tags = SoupStrainer('div',class_=\"e\")"
   ]
  },
  {
   "cell_type": "code",
   "execution_count": null,
   "metadata": {},
   "outputs": [],
   "source": [
    "with open('51.html','r', encoding='utf-8') as f:\n",
    "    soup = BeautifulSoup(f.read(), \"html.parser\",parse_only=only_a_tags)"
   ]
  },
  {
   "cell_type": "code",
   "execution_count": null,
   "metadata": {
    "scrolled": true
   },
   "outputs": [],
   "source": [
    "print(soup.prettify())"
   ]
  },
  {
   "cell_type": "code",
   "execution_count": null,
   "metadata": {
    "scrolled": true
   },
   "outputs": [],
   "source": [
    "for i in soup:\n",
    "    if i.input:\n",
    "        print(i.a['href'])\n",
    "        print(i.span['title'])\n",
    "        print(i.find('span',class_='d at').contents[0])\n",
    "        print(i.find('a',class_='cname at').contents[0])\n",
    "    else:\n",
    "        break\n",
    "    print('*' *10)"
   ]
  },
  {
   "cell_type": "code",
   "execution_count": null,
   "metadata": {},
   "outputs": [],
   "source": [
    "list1 = ['Google', 'Runoob', 1997, 2000]\n",
    "list2 = [1, 2, 3, 4, 5 ]\n",
    "list3 = [\"a\", \"b\", \"c\", \"d\"]"
   ]
  },
  {
   "cell_type": "code",
   "execution_count": null,
   "metadata": {},
   "outputs": [],
   "source": [
    "list1 += list2"
   ]
  },
  {
   "cell_type": "code",
   "execution_count": null,
   "metadata": {},
   "outputs": [],
   "source": [
    "list1"
   ]
  },
  {
   "cell_type": "markdown",
   "metadata": {},
   "source": [
    "--- 20200623 ---"
   ]
  },
  {
   "cell_type": "code",
   "execution_count": null,
   "metadata": {},
   "outputs": [],
   "source": [
    "import json\n",
    "import pandas as pd\n",
    "from bs4 import BeautifulSoup,SoupStrainer"
   ]
  },
  {
   "cell_type": "code",
   "execution_count": null,
   "metadata": {},
   "outputs": [],
   "source": [
    "only_a_tags = SoupStrainer(\"span\")"
   ]
  },
  {
   "cell_type": "code",
   "execution_count": null,
   "metadata": {},
   "outputs": [],
   "source": [
    "with open('10.html','r', encoding='utf-8') as f:\n",
    "    soup = BeautifulSoup(f.read(), \"html.parser\",parse_only=only_a_tags)"
   ]
  },
  {
   "cell_type": "code",
   "execution_count": null,
   "metadata": {},
   "outputs": [],
   "source": [
    "print(soup.prettify())"
   ]
  },
  {
   "cell_type": "code",
   "execution_count": null,
   "metadata": {},
   "outputs": [],
   "source": [
    "for link in soup.find_all(\"a\",target=\"_blank\",title=True,href=True,onmousedown=\"\"):\n",
    "    print(link.get('href'))\n",
    "#     print(link.get('title'))\n",
    "    print('-'*10)"
   ]
  },
  {
   "cell_type": "code",
   "execution_count": null,
   "metadata": {},
   "outputs": [],
   "source": [
    "l = [i for i in range(5)]"
   ]
  },
  {
   "cell_type": "code",
   "execution_count": null,
   "metadata": {},
   "outputs": [],
   "source": [
    "l_link = [link.get('href') for link in soup.find_all(\"a\",target=\"_blank\",title=True,href=True,onmousedown=\"\")]"
   ]
  },
  {
   "cell_type": "code",
   "execution_count": null,
   "metadata": {
    "scrolled": true
   },
   "outputs": [],
   "source": [
    "l_link"
   ]
  },
  {
   "cell_type": "code",
   "execution_count": null,
   "metadata": {},
   "outputs": [],
   "source": [
    "l_title = [link.get('title') for link in soup.find_all(\"a\",target=\"_blank\",title=True,href=True,onmousedown=\"\")]"
   ]
  },
  {
   "cell_type": "code",
   "execution_count": null,
   "metadata": {
    "scrolled": true
   },
   "outputs": [],
   "source": [
    "l_title"
   ]
  },
  {
   "cell_type": "code",
   "execution_count": null,
   "metadata": {},
   "outputs": [],
   "source": [
    "print(len(l_link),len(l_title))"
   ]
  },
  {
   "cell_type": "code",
   "execution_count": null,
   "metadata": {},
   "outputs": [],
   "source": [
    "data = {'link':l_link,'title':l_title}"
   ]
  },
  {
   "cell_type": "code",
   "execution_count": null,
   "metadata": {},
   "outputs": [],
   "source": [
    "df = pd.DataFrame(data)"
   ]
  },
  {
   "cell_type": "code",
   "execution_count": null,
   "metadata": {},
   "outputs": [],
   "source": [
    "df"
   ]
  },
  {
   "cell_type": "code",
   "execution_count": null,
   "metadata": {},
   "outputs": [],
   "source": [
    "df_all = df.iloc[1::2].reset_index()"
   ]
  },
  {
   "cell_type": "code",
   "execution_count": null,
   "metadata": {
    "scrolled": true
   },
   "outputs": [],
   "source": [
    "df_all"
   ]
  },
  {
   "cell_type": "code",
   "execution_count": null,
   "metadata": {},
   "outputs": [],
   "source": [
    "import numpy as np"
   ]
  },
  {
   "cell_type": "code",
   "execution_count": null,
   "metadata": {},
   "outputs": [],
   "source": [
    "df1 = pd.DataFrame(np.ones((3,4))*0, columns=['a','b','c','d'],index=[0,1,2])\n",
    "df2 = pd.DataFrame(np.ones((3,4))*1, columns=['e','b','c','d'],index=[4,5,6])"
   ]
  },
  {
   "cell_type": "code",
   "execution_count": null,
   "metadata": {},
   "outputs": [],
   "source": [
    "rs = pd.concat([df1,df2],axis=1,ignore_index=True)"
   ]
  },
  {
   "cell_type": "code",
   "execution_count": null,
   "metadata": {},
   "outputs": [],
   "source": [
    "rs"
   ]
  },
  {
   "cell_type": "code",
   "execution_count": null,
   "metadata": {},
   "outputs": [],
   "source": [
    "a = [1]\n",
    "b = [2]\n",
    "\n",
    "a += b"
   ]
  },
  {
   "cell_type": "code",
   "execution_count": null,
   "metadata": {},
   "outputs": [],
   "source": [
    "a"
   ]
  },
  {
   "cell_type": "code",
   "execution_count": null,
   "metadata": {},
   "outputs": [],
   "source": [
    "df = pd.read_excel('08.xlsx')"
   ]
  },
  {
   "cell_type": "code",
   "execution_count": null,
   "metadata": {
    "scrolled": true
   },
   "outputs": [],
   "source": [
    "df"
   ]
  },
  {
   "cell_type": "code",
   "execution_count": null,
   "metadata": {
    "scrolled": true
   },
   "outputs": [],
   "source": [
    "df['area'].str.contains('西湖')"
   ]
  },
  {
   "cell_type": "code",
   "execution_count": null,
   "metadata": {},
   "outputs": [],
   "source": [
    "lists = ['滨江','江干']"
   ]
  },
  {
   "cell_type": "code",
   "execution_count": null,
   "metadata": {},
   "outputs": [],
   "source": [
    "df['area'].str.contains(lists)"
   ]
  },
  {
   "cell_type": "markdown",
   "metadata": {},
   "source": [
    "--- 20200601 ---"
   ]
  },
  {
   "cell_type": "code",
   "execution_count": null,
   "metadata": {},
   "outputs": [],
   "source": [
    "import json\n",
    "import pandas as pd\n",
    "from bs4 import BeautifulSoup"
   ]
  },
  {
   "cell_type": "code",
   "execution_count": null,
   "metadata": {},
   "outputs": [],
   "source": [
    "only_a_tags = SoupStrainer(\"span\",class_='job-name')"
   ]
  },
  {
   "cell_type": "code",
   "execution_count": null,
   "metadata": {},
   "outputs": [],
   "source": [
    "with open('10.html','r', encoding='utf-8') as f:\n",
    "    soup = BeautifulSoup(f.read(), \"html.parser\",parse_only=only_a_tags)"
   ]
  },
  {
   "cell_type": "code",
   "execution_count": null,
   "metadata": {},
   "outputs": [],
   "source": [
    "for i in soup:\n",
    "    print(i)\n",
    "    print(i.a['title'])\n",
    "    print(type(i.a['title']))\n",
    "    bug"
   ]
  },
  {
   "cell_type": "code",
   "execution_count": null,
   "metadata": {},
   "outputs": [],
   "source": [
    "soup.prettify()"
   ]
  },
  {
   "cell_type": "code",
   "execution_count": null,
   "metadata": {},
   "outputs": [],
   "source": [
    "d = {}"
   ]
  },
  {
   "cell_type": "code",
   "execution_count": null,
   "metadata": {},
   "outputs": [],
   "source": [
    "url = 'https://www.zhipin.com/job_detail/2a8d55f3967f5b030XF93Nu1FVo~.html' "
   ]
  },
  {
   "cell_type": "code",
   "execution_count": null,
   "metadata": {},
   "outputs": [],
   "source": [
    "d[url] = '数据产品经理'"
   ]
  },
  {
   "cell_type": "code",
   "execution_count": null,
   "metadata": {},
   "outputs": [],
   "source": [
    "d"
   ]
  },
  {
   "cell_type": "code",
   "execution_count": null,
   "metadata": {},
   "outputs": [],
   "source": [
    "len(d)"
   ]
  },
  {
   "cell_type": "code",
   "execution_count": null,
   "metadata": {},
   "outputs": [],
   "source": [
    "d1 = {\"https://www.zhipin.com/job_detail/31cbcab5a283282b0H1_29m8ElI~.html\":'售后工程师'}"
   ]
  },
  {
   "cell_type": "code",
   "execution_count": null,
   "metadata": {},
   "outputs": [],
   "source": [
    "d1"
   ]
  },
  {
   "cell_type": "code",
   "execution_count": null,
   "metadata": {},
   "outputs": [],
   "source": [
    "d.update(d1)"
   ]
  },
  {
   "cell_type": "code",
   "execution_count": null,
   "metadata": {},
   "outputs": [],
   "source": [
    "d"
   ]
  },
  {
   "cell_type": "code",
   "execution_count": null,
   "metadata": {},
   "outputs": [],
   "source": [
    "for i in range(5):\n",
    "    x = i\n",
    "    print(x)"
   ]
  },
  {
   "cell_type": "code",
   "execution_count": null,
   "metadata": {},
   "outputs": [],
   "source": [
    "pd.DataFrame.from_dict(d, orient='index')"
   ]
  },
  {
   "cell_type": "code",
   "execution_count": null,
   "metadata": {},
   "outputs": [],
   "source": [
    "pd.Series(d)"
   ]
  },
  {
   "cell_type": "markdown",
   "metadata": {},
   "source": [
    "--- 2020.05.29 ---"
   ]
  },
  {
   "cell_type": "code",
   "execution_count": null,
   "metadata": {},
   "outputs": [],
   "source": [
    "import json\n",
    "import os\n",
    "import pandas as pd\n",
    "from bs4 import BeautifulSoup, SoupStrainer"
   ]
  },
  {
   "cell_type": "code",
   "execution_count": null,
   "metadata": {},
   "outputs": [],
   "source": [
    "os.chdir(r'D:\\bs')\n",
    "file_lists = os.listdir('.')"
   ]
  },
  {
   "cell_type": "code",
   "execution_count": null,
   "metadata": {},
   "outputs": [],
   "source": [
    "file_lists"
   ]
  },
  {
   "cell_type": "code",
   "execution_count": null,
   "metadata": {},
   "outputs": [],
   "source": [
    "l = []"
   ]
  },
  {
   "cell_type": "code",
   "execution_count": null,
   "metadata": {},
   "outputs": [],
   "source": [
    "l"
   ]
  },
  {
   "cell_type": "code",
   "execution_count": null,
   "metadata": {},
   "outputs": [],
   "source": [
    "l.append({'w':112,'r':31})"
   ]
  },
  {
   "cell_type": "code",
   "execution_count": null,
   "metadata": {},
   "outputs": [],
   "source": [
    "data = [{'a': 1, 'b': 2},{'a': 5, 'b': 10}]"
   ]
  },
  {
   "cell_type": "code",
   "execution_count": null,
   "metadata": {},
   "outputs": [],
   "source": [
    "df1 = pd.DataFrame(data)"
   ]
  },
  {
   "cell_type": "code",
   "execution_count": null,
   "metadata": {},
   "outputs": [],
   "source": [
    "df1"
   ]
  },
  {
   "cell_type": "code",
   "execution_count": null,
   "metadata": {},
   "outputs": [],
   "source": [
    "import json\n",
    "import requests\n",
    "from bs4 import BeautifulSoup"
   ]
  },
  {
   "cell_type": "code",
   "execution_count": null,
   "metadata": {},
   "outputs": [],
   "source": [
    "headers = {'User-Agent': 'Mozilla/5.0 (Macintosh; Intel Mac OS X 10_11_6) AppleWebKit/537.36 (KHTML, like Gecko) Chrome/74.0.3729.131 Safari/537.36'}"
   ]
  },
  {
   "cell_type": "code",
   "execution_count": null,
   "metadata": {},
   "outputs": [],
   "source": [
    "url = (\"http://www.reuters.com/video/2014/08/30/\"\n",
    "       \"woman-who-drank-restaurants-tainted-tea?videoId=341712453\")"
   ]
  },
  {
   "cell_type": "code",
   "execution_count": null,
   "metadata": {},
   "outputs": [],
   "source": [
    "r = requests.get(url, headers=headers, timeout=5)"
   ]
  },
  {
   "cell_type": "code",
   "execution_count": null,
   "metadata": {},
   "outputs": [],
   "source": [
    "soup = BeautifulSoup(r.text)"
   ]
  },
  {
   "cell_type": "code",
   "execution_count": null,
   "metadata": {},
   "outputs": [],
   "source": [
    "tag = soup.find(\"script\", type='application/ld+json')"
   ]
  },
  {
   "cell_type": "code",
   "execution_count": null,
   "metadata": {},
   "outputs": [],
   "source": [
    "tag"
   ]
  },
  {
   "cell_type": "code",
   "execution_count": null,
   "metadata": {},
   "outputs": [],
   "source": [
    "type(tag)"
   ]
  },
  {
   "cell_type": "code",
   "execution_count": null,
   "metadata": {},
   "outputs": [],
   "source": [
    "tag.name"
   ]
  },
  {
   "cell_type": "code",
   "execution_count": null,
   "metadata": {},
   "outputs": [],
   "source": [
    "tag['type']"
   ]
  },
  {
   "cell_type": "code",
   "execution_count": null,
   "metadata": {
    "scrolled": true
   },
   "outputs": [],
   "source": [
    "tag.attrs"
   ]
  },
  {
   "cell_type": "code",
   "execution_count": null,
   "metadata": {},
   "outputs": [],
   "source": [
    "tag.string"
   ]
  },
  {
   "cell_type": "code",
   "execution_count": null,
   "metadata": {},
   "outputs": [],
   "source": [
    "tag.contents[0]"
   ]
  },
  {
   "cell_type": "code",
   "execution_count": null,
   "metadata": {},
   "outputs": [],
   "source": [
    "len(tag.contents)"
   ]
  },
  {
   "cell_type": "code",
   "execution_count": null,
   "metadata": {},
   "outputs": [],
   "source": [
    "type(tag.contents[0])"
   ]
  },
  {
   "cell_type": "code",
   "execution_count": null,
   "metadata": {},
   "outputs": [],
   "source": [
    "for child in tag.descendants:\n",
    "    print(child)\n",
    "    print(type(child))\n",
    "    d = dict(child)"
   ]
  },
  {
   "cell_type": "code",
   "execution_count": null,
   "metadata": {},
   "outputs": [],
   "source": [
    "tag.descendants"
   ]
  },
  {
   "cell_type": "code",
   "execution_count": null,
   "metadata": {},
   "outputs": [],
   "source": [
    "l"
   ]
  },
  {
   "cell_type": "code",
   "execution_count": null,
   "metadata": {},
   "outputs": [],
   "source": [
    "for string in tag.strings:\n",
    "    print(repr(string))"
   ]
  },
  {
   "cell_type": "code",
   "execution_count": null,
   "metadata": {},
   "outputs": [],
   "source": [
    "tag.string"
   ]
  },
  {
   "cell_type": "code",
   "execution_count": null,
   "metadata": {},
   "outputs": [],
   "source": [
    "for string in tag.stripped_strings:\n",
    "    print(string)"
   ]
  },
  {
   "cell_type": "code",
   "execution_count": null,
   "metadata": {},
   "outputs": [],
   "source": [
    "scripts.contents"
   ]
  },
  {
   "cell_type": "code",
   "execution_count": null,
   "metadata": {},
   "outputs": [],
   "source": [
    "type(scripts.contents)"
   ]
  },
  {
   "cell_type": "code",
   "execution_count": null,
   "metadata": {},
   "outputs": [],
   "source": [
    "scripts.get_text()"
   ]
  },
  {
   "cell_type": "code",
   "execution_count": null,
   "metadata": {},
   "outputs": [],
   "source": [
    "scripts.contents[0][10:15]"
   ]
  },
  {
   "cell_type": "code",
   "execution_count": null,
   "metadata": {},
   "outputs": [],
   "source": [
    "for i in soup.find_all(\"script\", type='application/ld+json'):\n",
    "    print(i)\n",
    "    print('---')"
   ]
  },
  {
   "cell_type": "code",
   "execution_count": null,
   "metadata": {},
   "outputs": [],
   "source": [
    "s1"
   ]
  },
  {
   "cell_type": "code",
   "execution_count": null,
   "metadata": {},
   "outputs": [],
   "source": [
    "s1.select.get_text()"
   ]
  },
  {
   "cell_type": "code",
   "execution_count": null,
   "metadata": {},
   "outputs": [],
   "source": [
    "tag.string"
   ]
  },
  {
   "cell_type": "code",
   "execution_count": null,
   "metadata": {},
   "outputs": [],
   "source": [
    "import requests\n",
    "from bs4 import BeautifulSoup\n",
    "import json"
   ]
  },
  {
   "cell_type": "code",
   "execution_count": null,
   "metadata": {},
   "outputs": [],
   "source": [
    "url = 'https://vine.co/tags/funny'\n",
    "source_code = requests.get(url)\n",
    "plain_text = source_code.text\n",
    "soup = BeautifulSoup(plain_text, 'html.parser')\n",
    "# js = json.loads(soup.find(\"script\",type=\"application/ld+json\").text)"
   ]
  },
  {
   "cell_type": "code",
   "execution_count": null,
   "metadata": {
    "scrolled": true
   },
   "outputs": [],
   "source": [
    "s = soup.select_one(\"script[type=application/ld+json]\").text"
   ]
  },
  {
   "cell_type": "code",
   "execution_count": null,
   "metadata": {},
   "outputs": [],
   "source": [
    "js = json.loads(tag.string)"
   ]
  },
  {
   "cell_type": "code",
   "execution_count": null,
   "metadata": {},
   "outputs": [],
   "source": [
    "js"
   ]
  },
  {
   "cell_type": "code",
   "execution_count": null,
   "metadata": {},
   "outputs": [],
   "source": [
    "type(js)"
   ]
  },
  {
   "cell_type": "code",
   "execution_count": null,
   "metadata": {},
   "outputs": [],
   "source": [
    "df = pd.DataFrame(js, index=[0])"
   ]
  },
  {
   "cell_type": "code",
   "execution_count": null,
   "metadata": {},
   "outputs": [],
   "source": [
    "df"
   ]
  },
  {
   "cell_type": "code",
   "execution_count": null,
   "metadata": {},
   "outputs": [],
   "source": [
    "import json\n",
    "import pandas as pd\n",
    "from bs4 import BeautifulSoup,SoupStrainer"
   ]
  },
  {
   "cell_type": "code",
   "execution_count": null,
   "metadata": {},
   "outputs": [],
   "source": [
    "path = 'x.html'"
   ]
  },
  {
   "cell_type": "code",
   "execution_count": null,
   "metadata": {},
   "outputs": [],
   "source": [
    "only_a_tags = SoupStrainer(\"script\", type='application/ld+json')\n",
    "with open('x.html','r', encoding='utf-8') as f:\n",
    "    soup = BeautifulSoup(f.read(), \"html.parser\", parse_only=only_a_tags)"
   ]
  },
  {
   "cell_type": "code",
   "execution_count": null,
   "metadata": {},
   "outputs": [],
   "source": [
    "only_a_tags = SoupStrainer(\"script\", type='application/ld+json')\n",
    "soup = BeautifulSoup(r.text, \"html.parser\", parse_only=only_a_tags)"
   ]
  },
  {
   "cell_type": "code",
   "execution_count": null,
   "metadata": {},
   "outputs": [],
   "source": [
    "soup"
   ]
  },
  {
   "cell_type": "code",
   "execution_count": null,
   "metadata": {},
   "outputs": [],
   "source": [
    "js = json.loads(soup.string)"
   ]
  },
  {
   "cell_type": "code",
   "execution_count": null,
   "metadata": {},
   "outputs": [],
   "source": [
    "df = pd.DataFrame(js, index=[0])"
   ]
  },
  {
   "cell_type": "code",
   "execution_count": null,
   "metadata": {},
   "outputs": [],
   "source": [
    "df"
   ]
  },
  {
   "cell_type": "code",
   "execution_count": null,
   "metadata": {},
   "outputs": [],
   "source": [
    "df.to_excel('haha.xlsx')"
   ]
  },
  {
   "cell_type": "markdown",
   "metadata": {},
   "source": [
    "-- 2020.05.28 --"
   ]
  },
  {
   "cell_type": "code",
   "execution_count": null,
   "metadata": {},
   "outputs": [],
   "source": [
    "import re\n",
    "import requests\n",
    "import random\n",
    "import time"
   ]
  },
  {
   "cell_type": "code",
   "execution_count": null,
   "metadata": {},
   "outputs": [],
   "source": [
    "url = 'https://www.zhipin.com/job_detail/256a51b70316349c0H193NS-GVs~.html'"
   ]
  },
  {
   "cell_type": "code",
   "execution_count": null,
   "metadata": {},
   "outputs": [],
   "source": [
    "url = 'https://www.zhipin.com/job_detail/41ff4b15d684e9400H193di9FVQ~.html'"
   ]
  },
  {
   "cell_type": "code",
   "execution_count": null,
   "metadata": {},
   "outputs": [],
   "source": [
    "headers = {'User-Agent': 'Mozilla/5.0 (Macintosh; Intel Mac OS X 10_11_6) AppleWebKit/537.36 (KHTML, like Gecko) Chrome/74.0.3729.131 Safari/537.36'}"
   ]
  },
  {
   "cell_type": "code",
   "execution_count": null,
   "metadata": {},
   "outputs": [],
   "source": [
    "headers = {\n",
    "    'user-agent': \"Mozilla/5.0 (Macintosh; Intel Mac OS X 10_11_6) AppleWebKit/537.36 (KHTML, like Gecko) Chrome/74.0.3729.131 Safari/537.36\",\n",
    "    'cookie': \"toUrl=/; __g=-; Hm_lvt_194df3105ad7148dcf2b98a91b5e727a=1590674035; __c=1590674191; __zp_stoken__=80ddaEAtuFyJvaUsAHnsMKUd6cwwdZBUdF2g6Ii9kZXJrWGFbUEs4N3NFWEV0Xnp5BXY6CGZWZ0hEdkFnAzYfHXoHFT8ySHINFi9lAE89GyIlEQktF0MWKxYnGmF7DkkyR09%2FdxdfDT9abEU%3D; __l=r=&l=%2Flogin.zhipin.com%2F%3Fka%3Dheader-login&friend_source=0&friend_source=0; __a=86314846.1590674032.1590674032.1590674191.3.2.2.3; Hm_lpvt_194df3105ad7148dcf2b98a91b5e727a=1590674321; __zp_sseed__=kLw9lmo0aExBo652mf8GAKmOVcby7Uu9t0CKOsYdGgE=; __zp_sname__=4d8e1db6; __zp_sts__=1590674327609\",\n",
    "}"
   ]
  },
  {
   "cell_type": "code",
   "execution_count": null,
   "metadata": {},
   "outputs": [],
   "source": [
    "r = requests.get(url, headers=headers, timeout=5)"
   ]
  },
  {
   "cell_type": "code",
   "execution_count": null,
   "metadata": {},
   "outputs": [],
   "source": [
    "with open ('dx.txt','w', encoding='utf-8') as f:\n",
    "    f.write(r.text)"
   ]
  },
  {
   "cell_type": "markdown",
   "metadata": {},
   "source": [
    "\"pubDate\": \"2020-05-26T15:38:03\",\n",
    "\"upDate\":  \"2020-05-26T15:38:03\""
   ]
  },
  {
   "cell_type": "code",
   "execution_count": null,
   "metadata": {},
   "outputs": [],
   "source": [
    "t = \"pubDate: 2020-05-26T15:38:03\""
   ]
  },
  {
   "cell_type": "code",
   "execution_count": null,
   "metadata": {},
   "outputs": [],
   "source": [
    "from bs4 import BeautifulSoup"
   ]
  },
  {
   "cell_type": "code",
   "execution_count": null,
   "metadata": {},
   "outputs": [],
   "source": [
    "r.text[-100:-20]"
   ]
  },
  {
   "cell_type": "code",
   "execution_count": null,
   "metadata": {},
   "outputs": [],
   "source": [
    "type(r.text[-100:-20])"
   ]
  },
  {
   "cell_type": "code",
   "execution_count": null,
   "metadata": {},
   "outputs": [],
   "source": [
    "d = dict()"
   ]
  },
  {
   "cell_type": "code",
   "execution_count": null,
   "metadata": {},
   "outputs": [],
   "source": [
    "m = 's'"
   ]
  },
  {
   "cell_type": "code",
   "execution_count": null,
   "metadata": {},
   "outputs": [],
   "source": [
    "d[m] = 2"
   ]
  },
  {
   "cell_type": "code",
   "execution_count": null,
   "metadata": {},
   "outputs": [],
   "source": [
    "d"
   ]
  },
  {
   "cell_type": "code",
   "execution_count": null,
   "metadata": {},
   "outputs": [],
   "source": [
    "s = 'https://www.zhipin.com/job_detail/256a51b70316349c0H193NS-GVs~.html'"
   ]
  },
  {
   "cell_type": "code",
   "execution_count": null,
   "metadata": {},
   "outputs": [],
   "source": [
    "s[-33:-5]"
   ]
  },
  {
   "cell_type": "code",
   "execution_count": null,
   "metadata": {},
   "outputs": [],
   "source": [
    "len('256a51b70316349c0H193NS-GVs~.html')"
   ]
  },
  {
   "cell_type": "markdown",
   "metadata": {},
   "source": [
    "--- 2019.10.22 ---"
   ]
  },
  {
   "cell_type": "code",
   "execution_count": null,
   "metadata": {},
   "outputs": [],
   "source": [
    "s1 = pd.Series(['Tom ', ' William Rick', 'John', 'Alber@t', 'Alber@t'])"
   ]
  },
  {
   "cell_type": "code",
   "execution_count": null,
   "metadata": {},
   "outputs": [],
   "source": [
    "s2 = pd.Series(['Tom ', ' William Rick', 'John', 'Alber@t', 'Alber@t','plus'])"
   ]
  },
  {
   "cell_type": "code",
   "execution_count": null,
   "metadata": {},
   "outputs": [],
   "source": [
    "s1.str.cat(s1,sep=',')"
   ]
  },
  {
   "cell_type": "code",
   "execution_count": null,
   "metadata": {},
   "outputs": [],
   "source": [
    "s1 + ',' + s2"
   ]
  },
  {
   "cell_type": "code",
   "execution_count": null,
   "metadata": {},
   "outputs": [],
   "source": [
    "data = {'Name':['Tom','James','Ricky'],\n",
    "        'Age':[25,26,25],\n",
    "        'Rating':[4.23,3.24,3.98]\n",
    "        }\n",
    "\n",
    "df = pd.DataFrame(data)"
   ]
  },
  {
   "cell_type": "code",
   "execution_count": null,
   "metadata": {},
   "outputs": [],
   "source": [
    "df"
   ]
  },
  {
   "cell_type": "code",
   "execution_count": null,
   "metadata": {},
   "outputs": [],
   "source": [
    "df['Change'] = df.Rating.diff()\n",
    "df"
   ]
  },
  {
   "cell_type": "code",
   "execution_count": null,
   "metadata": {},
   "outputs": [],
   "source": [
    "df['Percent Change'] = df.Rating.pct_change()*100\n",
    "df"
   ]
  },
  {
   "cell_type": "code",
   "execution_count": null,
   "metadata": {},
   "outputs": [],
   "source": [
    "df.style.format({'Percent Change':'{:.2f}%'})"
   ]
  },
  {
   "cell_type": "code",
   "execution_count": null,
   "metadata": {},
   "outputs": [],
   "source": [
    "df = pd.DataFrame({'A':['x','y','z'],\n",
    "                  'B':['male','female','male'],\n",
    "                  'C':['female','male','male']})\n",
    "df"
   ]
  },
  {
   "cell_type": "code",
   "execution_count": null,
   "metadata": {},
   "outputs": [],
   "source": [
    "mapping = {'male':0,'female':1}\n",
    "cols = ['B','C']"
   ]
  },
  {
   "cell_type": "code",
   "execution_count": null,
   "metadata": {},
   "outputs": [],
   "source": [
    "df[cols] = df[cols].applymap(mapping.get)\n",
    "df"
   ]
  },
  {
   "cell_type": "code",
   "execution_count": null,
   "metadata": {},
   "outputs": [],
   "source": [
    "d = {'one' : pd.Series([1, 2, 3], index=['a', 'b', 'c']),\n",
    "      'two' : pd.Series([1, 2, 3, 4], index=['a', 'b', 'c', 'd'])}\n",
    "\n",
    "df = pd.DataFrame(d)"
   ]
  },
  {
   "cell_type": "code",
   "execution_count": null,
   "metadata": {},
   "outputs": [],
   "source": [
    "df"
   ]
  },
  {
   "cell_type": "code",
   "execution_count": null,
   "metadata": {},
   "outputs": [],
   "source": [
    "for col in df.columns:\n",
    "    df[f'{col}_plus'] = df[col] + 10"
   ]
  },
  {
   "cell_type": "code",
   "execution_count": null,
   "metadata": {},
   "outputs": [],
   "source": [
    "df"
   ]
  },
  {
   "cell_type": "markdown",
   "metadata": {},
   "source": [
    "--- 2019.8.27 ---"
   ]
  },
  {
   "cell_type": "code",
   "execution_count": null,
   "metadata": {},
   "outputs": [],
   "source": [
    "df = pd.DataFrame({'Team': ['Riders', 'Riders', 'Devils',],\n",
    "         'Rank': [1, 2, 2,],\n",
    "         'Year': [2014,2015,2014],\n",
    "         'Points':[876,789,863]})"
   ]
  },
  {
   "cell_type": "code",
   "execution_count": null,
   "metadata": {},
   "outputs": [],
   "source": [
    "df"
   ]
  },
  {
   "cell_type": "code",
   "execution_count": null,
   "metadata": {},
   "outputs": [],
   "source": [
    "df.groupby('Team').agg(avg_point=('Points','mean'),\n",
    "                      max_point=('Points','max'),\n",
    "                      min_year=('Year','min'))"
   ]
  },
  {
   "cell_type": "code",
   "execution_count": null,
   "metadata": {},
   "outputs": [],
   "source": [
    "print(pd.__version__) "
   ]
  },
  {
   "cell_type": "code",
   "execution_count": null,
   "metadata": {},
   "outputs": [],
   "source": [
    "df = pd.DataFrame({'From_To': ['LoNDon_paris', 'MAdrid_miLAN', 'londON_StockhOlm',\n",
    "                               'Budapest_PaRis', 'Brussels_londOn'],\n",
    "                   'RecentDelays': [[23, 47], [9], [24, 43, 87], [13], [67, 32]]},\n",
    "                 index={'a','b','c','d','e'})"
   ]
  },
  {
   "cell_type": "code",
   "execution_count": null,
   "metadata": {},
   "outputs": [],
   "source": [
    "df"
   ]
  },
  {
   "cell_type": "code",
   "execution_count": null,
   "metadata": {},
   "outputs": [],
   "source": [
    "df2 = df.explode('RecentDelays')\n",
    "df2"
   ]
  },
  {
   "cell_type": "code",
   "execution_count": null,
   "metadata": {},
   "outputs": [],
   "source": [
    "df['RecentDelays'] = df2.groupby(df2.index).RecentDelays.agg(list)\n",
    "df"
   ]
  },
  {
   "cell_type": "code",
   "execution_count": null,
   "metadata": {},
   "outputs": [],
   "source": [
    "d = {'one' : pd.Series([1, 2, 3], index=['a', 'b', 'c']),\n",
    "      'two' : pd.Series([1, 2, 3, 4], index=['a', 'b', 'c', 'd'])}\n",
    "\n",
    "df = pd.DataFrame(d)\n",
    "df"
   ]
  },
  {
   "cell_type": "code",
   "execution_count": null,
   "metadata": {},
   "outputs": [],
   "source": [
    "mean_two = df.two.mean()\n",
    "mean_two"
   ]
  },
  {
   "cell_type": "code",
   "execution_count": null,
   "metadata": {},
   "outputs": [],
   "source": [
    "df.query('two > @mean_two')"
   ]
  },
  {
   "cell_type": "code",
   "execution_count": null,
   "metadata": {},
   "outputs": [],
   "source": [
    "df.query('two > 3')"
   ]
  },
  {
   "cell_type": "code",
   "execution_count": null,
   "metadata": {},
   "outputs": [],
   "source": [
    "pd.set_option('display.max_columns',None)"
   ]
  },
  {
   "cell_type": "code",
   "execution_count": null,
   "metadata": {},
   "outputs": [],
   "source": [
    "df = pd.DataFrame({'Team': ['Riders', 'Riders', 'Devils',],\n",
    "         'Rank': [1, 2, 2,],\n",
    "         'Year': [2014,2015,2014],\n",
    "         'Points':[876,789,863]})"
   ]
  },
  {
   "cell_type": "code",
   "execution_count": null,
   "metadata": {},
   "outputs": [],
   "source": [
    "def top(df,n = 3, column = 'Year'):\n",
    "    return df.sort_values(by=column, ascending=False)[:n]"
   ]
  },
  {
   "cell_type": "code",
   "execution_count": null,
   "metadata": {},
   "outputs": [],
   "source": [
    "df.groupby('Team').apply(top)"
   ]
  },
  {
   "cell_type": "code",
   "execution_count": null,
   "metadata": {},
   "outputs": [],
   "source": [
    "data = {'Name':['Tom','James','Ricky'],\n",
    "        'Age':[25,26,25],\n",
    "        'Rating':[4.23,3.24,3.98]\n",
    "        }\n",
    "df = pd.DataFrame(data)\n",
    "df"
   ]
  },
  {
   "cell_type": "code",
   "execution_count": null,
   "metadata": {
    "scrolled": true
   },
   "outputs": [],
   "source": [
    "import pandas_profiling\n",
    "\n",
    "df.profile_report()"
   ]
  },
  {
   "cell_type": "code",
   "execution_count": null,
   "metadata": {},
   "outputs": [],
   "source": [
    "left = pd.DataFrame({\n",
    "         'id':[1,2,3,4,5],\n",
    "         'Name': ['Alex', 'Amy', 'Allen', 'Alice', 'Ayoung'],\n",
    "         'subject_id':['sub1','sub2','sub4','sub6','sub5']})\n",
    "right = pd.DataFrame(\n",
    "         {'id':[1,2,3,4,5],\n",
    "         'Name': ['Billy', 'Brian', 'Bran', 'Bryce', 'Betty'],\n",
    "         'subject_id':['sub2','sub4','sub3','sub6','sub5']})"
   ]
  },
  {
   "cell_type": "code",
   "execution_count": null,
   "metadata": {},
   "outputs": [],
   "source": [
    "pd.merge(left, right, on='subject_id', how='outer',indicator=True)"
   ]
  },
  {
   "cell_type": "code",
   "execution_count": null,
   "metadata": {},
   "outputs": [],
   "source": [
    "left = left.rename(columns = {'id':'left_id'})  # 改变连接关键列的名称\n",
    "right = right.rename(columns = {'id':'right_id'})   # 改变连接关键列的名称\n",
    "\n",
    "pd.merge(left,right,left_on = 'left_id',right_on = 'right_id')"
   ]
  },
  {
   "cell_type": "markdown",
   "metadata": {},
   "source": [
    "--- 2019.8.23 ---"
   ]
  },
  {
   "cell_type": "code",
   "execution_count": null,
   "metadata": {},
   "outputs": [],
   "source": [
    "s = 'tteese@xiaojilicai.cn,yc666yc@139.com'"
   ]
  },
  {
   "cell_type": "code",
   "execution_count": null,
   "metadata": {},
   "outputs": [],
   "source": [
    "type(s)"
   ]
  },
  {
   "cell_type": "code",
   "execution_count": null,
   "metadata": {},
   "outputs": [],
   "source": [
    "[s]"
   ]
  },
  {
   "cell_type": "code",
   "execution_count": null,
   "metadata": {},
   "outputs": [],
   "source": [
    "type([s])"
   ]
  },
  {
   "cell_type": "code",
   "execution_count": null,
   "metadata": {},
   "outputs": [],
   "source": [
    "import smtplib\n",
    "from email.mime.text import MIMEText\n",
    "from email.header import Header\n",
    "from smtplib import SMTP_SSL\n",
    "\n",
    "from email.mime.multipart import MIMEMultipart\n",
    "from email.header import Header\n",
    "from email.mime.base import MIMEBase\n",
    "from email import encoders\n",
    "\n",
    "smtp_server = 'smtp.mxhichina.com'\n",
    "\n",
    "##发件人和收件人信息\n",
    "sender = 'yingchao@xiaojilicai.cn' ## 发件人邮箱, 多人逗号分开\n",
    "password = 'xiaoji.1111'\n",
    "receiver = 'tteese@xiaojilicai.cn,yc666yc@139.com' ## 收件人邮箱, 多人逗号分开\n",
    "cc='dahuisdhaisduh@xiaojilicai.cn,yingchao@xiaojilicai.cn'  # #抄送邮箱, 多人逗号分开\n",
    "\n",
    "receiver_list = [\"tteese@xiaojilicai.cn\",\"yc666yc@139.com\"] ## 收件人邮箱, 多人逗号分开\n",
    "cc_list = [\"dahuisdhaisduh@xiaojilicai.cn\",\"yingchao@xiaojilicai.cn\"]  # #抄送邮箱, 多人逗号分开\n",
    "\n",
    "tolist=[\"one@one.org\",\"two@two.org\",\"three@three.org\",\"four@four.org\"]\n",
    "\n",
    "#邮件的正文内容\n",
    "mail_content = \"测试实施\"\n",
    "#邮件标题\n",
    "mail_title = '回款派券'\n",
    "\n",
    "msg = MIMEMultipart() \n",
    "msg.add_header('From',sender) \n",
    "msg.add_header('To',receiver) \n",
    "msg.add_header('Cc',cc)\n",
    "msg.add_header('Subject',mail_title) \n",
    "msg.attach(MIMEText(mail_content,'plain','utf-8')) \n",
    "##所有收信人信息\n",
    "toaddrs = receiver_list + cc_list\n",
    "\n",
    "\n",
    "# 添加附件就是加上一个MIMEBase，从本地读取一个图片:\n",
    "with open(r'C:\\百度云同步盘\\小鸡理财\\每日数据\\派券\\2019.08.22派券名单.xlsx', 'rb') as f:\n",
    "    # 设置附件的MIME和文件名，这里是png类型:\n",
    "    mime = MIMEBase('application','vnd.ms-excel')\n",
    "    # 加上必要的头信息:\n",
    "    mime.add_header('Content-Disposition', 'attachment', filename='派券名单.xlsx')\n",
    "    mime.add_header('Content-ID', '<0>')\n",
    "    mime.add_header('X-Attachment-Id', '0')\n",
    "    # 把附件的内容读进来:\n",
    "    mime.set_payload(f.read())\n",
    "    # 用Base64编码:\n",
    "    encoders.encode_base64(mime)\n",
    "    # 添加到MIMEMultipart:\n",
    "    msg.attach(mime)\n",
    "\n",
    "server = smtplib.SMTP(smtp_server, 25)\n",
    "server.set_debuglevel(0)\n",
    "server.login(sender, password)\n",
    "server.sendmail(sender, toaddrs, msg.as_string())\n",
    "server.quit()"
   ]
  },
  {
   "cell_type": "code",
   "execution_count": null,
   "metadata": {},
   "outputs": [],
   "source": [
    "dt_today = pd.to_datetime('today').strftime('%Y-%m-%d')\n",
    "dt_today"
   ]
  },
  {
   "cell_type": "code",
   "execution_count": null,
   "metadata": {},
   "outputs": [],
   "source": [
    "dt_today == '2019-08-23'"
   ]
  },
  {
   "cell_type": "code",
   "execution_count": null,
   "metadata": {},
   "outputs": [],
   "source": [
    "pd.to_datetime('today').strftime('%Y-%m-01')"
   ]
  },
  {
   "cell_type": "code",
   "execution_count": null,
   "metadata": {},
   "outputs": [],
   "source": [
    "dt_today = pd.to_datetime('today').strftime('%Y-%m-%d')\n",
    "day_of_week = pd.to_datetime('today').day_name()\n",
    "dt_hour = pd.datetime.now().hour\n",
    "print('\\nToday is {}\\t{}'.format(dt_today,day_of_week))"
   ]
  },
  {
   "cell_type": "code",
   "execution_count": null,
   "metadata": {},
   "outputs": [],
   "source": [
    "print('a')\n",
    "time.sleep(10)\n",
    "print('b')"
   ]
  },
  {
   "cell_type": "code",
   "execution_count": null,
   "metadata": {},
   "outputs": [],
   "source": [
    "x = [1,2,3]\n",
    "3 isin x"
   ]
  },
  {
   "cell_type": "code",
   "execution_count": null,
   "metadata": {},
   "outputs": [],
   "source": [
    "import time\n",
    "lineLength = 20\n",
    "delaySeconds = 0.05\n",
    "frontSymbol = '='\n",
    "frontSymbol2 = ['—', '\\\\', '|', '/']\n",
    "backSymbol  = ' '\n",
    "\n",
    "for i in range(10):\n",
    "    lineTmpla = \"{:%s<%s} {} {:<2}\"%(backSymbol, lineLength)\n",
    "    for j in range(lineLength):\n",
    "        tmpSymbol = frontSymbol2[j%(len(frontSymbol2))]\n",
    "        print(\"\\r\" + lineTmpla.format(frontSymbol * j, tmpSymbol, j), end='')\n",
    "        time.sleep(delaySeconds)"
   ]
  },
  {
   "cell_type": "code",
   "execution_count": null,
   "metadata": {},
   "outputs": [],
   "source": [
    "def count_down(n,s='离程序关闭还有'):\n",
    "    while n+1:\n",
    "        print('\\n\\r{}：{:>2d}s'.format(s,n),end='')\n",
    "        time.sleep(1)\n",
    "        n -= 1"
   ]
  },
  {
   "cell_type": "code",
   "execution_count": null,
   "metadata": {
    "scrolled": true
   },
   "outputs": [],
   "source": [
    "count_down(10)"
   ]
  },
  {
   "cell_type": "code",
   "execution_count": null,
   "metadata": {},
   "outputs": [],
   "source": [
    "import math\n",
    "starttime = int(time.time())\n",
    "jishi = input ( \"请设置倒计时时间____分钟：\")\n",
    "jishi *=60\n",
    "endtime = int(starttime +jishi)\n",
    "for i in range (endtime,starttime,-1):\n",
    "    time.sleep(1)\n",
    "    if i <= endtime+1:\n",
    "        print (i-starttime)\n",
    "time.sleep(1)\n",
    "print (\"time is over !!!\")"
   ]
  },
  {
   "cell_type": "code",
   "execution_count": null,
   "metadata": {},
   "outputs": [],
   "source": [
    "time.process_time()"
   ]
  },
  {
   "cell_type": "code",
   "execution_count": null,
   "metadata": {},
   "outputs": [],
   "source": [
    "for x in range(30, 0, -1):\n",
    "    print(\"\\r %d\" % x, end=\"\")\n",
    "    time.sleep(1)"
   ]
  },
  {
   "cell_type": "markdown",
   "metadata": {},
   "source": [
    "--- 2019.8.22 ---"
   ]
  },
  {
   "cell_type": "code",
   "execution_count": null,
   "metadata": {},
   "outputs": [],
   "source": [
    "1 == 2 or ''"
   ]
  },
  {
   "cell_type": "code",
   "execution_count": null,
   "metadata": {},
   "outputs": [],
   "source": [
    "os.getcwd()"
   ]
  },
  {
   "cell_type": "code",
   "execution_count": null,
   "metadata": {},
   "outputs": [],
   "source": [
    "from email import encoders\n",
    "from email.header import Header\n",
    "from email.mime.text import MIMEText\n",
    "from email.utils import parseaddr, formataddr\n",
    "\n",
    "import smtplib\n",
    "    \n",
    "def _format_addr(s):\n",
    "    name, addr = parseaddr(s)\n",
    "    return formataddr((Header(name, 'utf-8').encode(), addr))\n",
    "\n",
    "from_addr = 'yingchao@xiaojilicai.cn'\n",
    "password = 'xiaoji.1111'\n",
    "to_addr = 'yingchao@xiaojilicai.cn'\n",
    "smtp_server = 'smtp.mxhichina.com'\n",
    "\n",
    "# msg = MIMEText('hello, send by Python...', 'plain', 'utf-8')\n",
    "msg = MIMEText('<html><body><h1>Hello</h1>' +\n",
    "    '<p>send by <a href=\"http://www.python.org\">Python</a>...</p>' +\n",
    "    '</body></html>', 'html', 'utf-8')\n",
    "msg['From'] = _format_addr('Python爱好者 <%s>' % from_addr)\n",
    "msg['To'] = _format_addr('管理员 <%s>' % to_addr)\n",
    "msg['Subject'] = Header('来自SMTP的问候……', 'utf-8').encode()\n",
    "    \n",
    "server = smtplib.SMTP(smtp_server, 25)\n",
    "server.set_debuglevel(2)\n",
    "server.login(from_addr, password)\n",
    "server.sendmail(from_addr, [to_addr], msg.as_string())\n",
    "server.quit()"
   ]
  },
  {
   "cell_type": "code",
   "execution_count": null,
   "metadata": {},
   "outputs": [],
   "source": [
    "import smtplib\n",
    "from email.mime.text import MIMEText\n",
    "from email.header import Header\n",
    "from smtplib import SMTP_SSL\n",
    "\n",
    "from email.mime.multipart import MIMEMultipart\n",
    "from email.header import Header\n",
    "from email.mime.base import MIMEBase\n",
    "from email import encoders\n",
    "\n",
    "\n",
    "# #qq邮箱smtp服务器\n",
    "# host_server = 'smtp.mxhichina.com'\n",
    "# #pwd为qq邮箱的授权码\n",
    "# pwd = 'xiaoji.1111' ##\n",
    "# #发件人的邮箱\n",
    "# sender_qq_mail = 'yingchao@xiaojilicai.cn'\n",
    "# #收件人邮箱\n",
    "# receiver = 'yingchao@xiaojilicai.cn'\n",
    "\n",
    "\n",
    "# def _format_addr(s):\n",
    "#     name, addr = parseaddr(s)\n",
    "#     return formataddr((Header(name, 'utf-8').encode(), addr))\n",
    "\n",
    "# sender = 'yingchao@xiaojilicai.cn'\n",
    "\n",
    "# to_addr = ['yingchao@xiaojilicai.cn','yc66yc@139.com']\n",
    "smtp_server = 'smtp.mxhichina.com'\n",
    "\n",
    "##发件人和收件人信息\n",
    "sender = 'yingchao@xiaojilicai.cn' ## 发件人邮箱, 多人逗号分开\n",
    "password = 'xiaoji.1111'\n",
    "receiver = 'tteese@xiaojilicai.cn,yc666yc@139.com' ## 收件人邮箱, 多人逗号分开\n",
    "cc='dahuisdhaisduh@xiaojilicai.cn,yingchao@xiaojilicai.cn'  # #抄送邮箱, 多人逗号分开\n",
    "# bcc='bcc1@126.com,bcc2@126.com' # 暗抄邮箱, 多人逗号分开\n",
    "\n",
    "receiver_list = ['tteese@xiaojilicai.cn','yc666yc@139.com'] ## 收件人邮箱, 多人逗号分开\n",
    "cc_list = ['dahuisdhaisduh@xiaojilicai.cn','yingchao@xiaojilicai.cn']  # #抄送邮箱, 多人逗号分开\n",
    "\n",
    "#邮件的正文内容\n",
    "mail_content = \"测试实施\"\n",
    "#邮件标题\n",
    "mail_title = '回款派券'\n",
    "\n",
    "# msg = MIMEText(mail_content, 'plain', 'utf-8')\n",
    "# msg['Subject'] = Header(mail_title, 'utf-8').encode()\n",
    "msg = MIMEMultipart() \n",
    "msg.add_header('From',sender) \n",
    "msg.add_header('To',receiver) \n",
    "msg.add_header('Cc',cc)\n",
    "# msg.add_header('BCc',bcc) \n",
    "msg.add_header('Subject',mail_title) \n",
    "# msg.add_header('Date',subject)\n",
    "msg.attach(MIMEText(mail_content,'plain','utf-8')) \n",
    "##所有收信人信息\n",
    "toaddrs = [receiver_list] + [cc_list]\n",
    "\n",
    "# #邮件正文内容\n",
    "# msg = MIMEMultipart()\n",
    "# #msg = MIMEText(mail_content, \"plain\", 'utf-8')\n",
    "# msg[\"Subject\"] = Header(mail_title, 'utf-8')\n",
    "# msg[\"From\"] = sender_qq_mail\n",
    "# msg[\"To\"] = Header(\"接收者测试\", 'utf-8') ## 接收者的别名\n",
    "\n",
    "#邮件正文内容\n",
    "# msg.attach(MIMEText(mail_content, 'html', 'utf-8'))\n",
    "\n",
    "\n",
    "# # 构造附件1，传送当前目录下的 test.txt 文件\n",
    "# att1 = MIMEText(open(r'C:\\百度云同步盘\\小鸡理财\\每日数据\\派券\\2019.08.22派券名单.xlsx', 'rb').read(), 'base64', 'utf-8')\n",
    "# att1[\"Content-Type\"] = 'application/octet-stream'\n",
    "# # 这里的filename可以任意写，写什么名字，邮件中显示什么名字\n",
    "# att1[\"Content-Disposition\"] = 'attachment; filename=\"2019.08.22派券名单.xlsx\"'\n",
    "# msg.attach(att1)\n",
    "\n",
    "# 添加附件就是加上一个MIMEBase，从本地读取一个图片:\n",
    "with open(r'C:\\百度云同步盘\\小鸡理财\\每日数据\\派券\\2019.08.22派券名单.xlsx', 'rb') as f:\n",
    "    # 设置附件的MIME和文件名，这里是png类型:\n",
    "    mime = MIMEBase('application','vnd.ms-excel')\n",
    "    # 加上必要的头信息:\n",
    "    mime.add_header('Content-Disposition', 'attachment', filename='派券名单.xlsx')\n",
    "    mime.add_header('Content-ID', '<0>')\n",
    "    mime.add_header('X-Attachment-Id', '0')\n",
    "    # 把附件的内容读进来:\n",
    "    mime.set_payload(f.read())\n",
    "    # 用Base64编码:\n",
    "    encoders.encode_base64(mime)\n",
    "    # 添加到MIMEMultipart:\n",
    "    msg.attach(mime)\n",
    "\n",
    "\n",
    "# #ssl登录\n",
    "# smtp = SMTP_SSL(host_server)\n",
    "# #set_debuglevel()是用来调试的。参数值为1表示开启调试模式，参数值为0关闭调试模式\n",
    "# smtp.set_debuglevel(0)\n",
    "# smtp.ehlo(host_server)\n",
    "# smtp.login(sender_qq_mail, pwd)\n",
    "\n",
    "# smtp.sendmail(sender_qq_mail, receiver, msg.as_string())\n",
    "# smtp.quit()\n",
    "\n",
    "server = smtplib.SMTP(smtp_server, 25)\n",
    "server.set_debuglevel(0)\n",
    "server.login(sender, password)\n",
    "server.sendmail(sender, toaddrs, msg.as_string())\n",
    "server.quit()"
   ]
  },
  {
   "cell_type": "code",
   "execution_count": null,
   "metadata": {},
   "outputs": [],
   "source": [
    "from email.mime.text import MIMEText\n",
    "msg = MIMEText('hello...', 'plain', 'utf-8')"
   ]
  },
  {
   "cell_type": "code",
   "execution_count": null,
   "metadata": {},
   "outputs": [],
   "source": [
    "# 输入Email地址和口令:\n",
    "from_addr = 'yingchao@xiaojilicai.cn'\n",
    "password = 'xiaoji.1111'\n",
    "# 输入收件人地址:\n",
    "to_addr =  'yingchao@xiaojilicai.cn'\n",
    "# 输入SMTP服务器地址:\n",
    "smtp_server = 'smtp.mxhichina.com'\n",
    "\n",
    "import smtplib\n",
    "server = smtplib.SMTP(smtp_server, 25) # SMTP协议默认端口是25\n",
    "server.set_debuglevel(1)\n",
    "server.login(from_addr, password)\n",
    "server.sendmail(from_addr, [to_addr], msg.as_string())\n",
    "server.quit()"
   ]
  },
  {
   "cell_type": "markdown",
   "metadata": {},
   "source": [
    "--- 2019.8.21 ---"
   ]
  },
  {
   "cell_type": "code",
   "execution_count": null,
   "metadata": {},
   "outputs": [],
   "source": [
    "path_1 = r'C:\\Users\\Dragon\\Downloads\\多开分身虚拟定位-v2.0.1.apk'\n",
    "path_2 = r'C:\\test\\多开分身虚拟定位-v2.0.1.apk'\n",
    "\n",
    "os.rename(path_1,path_2)"
   ]
  },
  {
   "cell_type": "code",
   "execution_count": null,
   "metadata": {},
   "outputs": [],
   "source": [
    "s1 = time.time()"
   ]
  },
  {
   "cell_type": "code",
   "execution_count": null,
   "metadata": {},
   "outputs": [],
   "source": [
    "s2 = time.time()\n",
    "s2-s1"
   ]
  },
  {
   "cell_type": "markdown",
   "metadata": {},
   "source": [
    "--- 2019.8.20 ---"
   ]
  },
  {
   "cell_type": "code",
   "execution_count": null,
   "metadata": {},
   "outputs": [],
   "source": [
    "import antigravity"
   ]
  },
  {
   "cell_type": "code",
   "execution_count": null,
   "metadata": {},
   "outputs": [],
   "source": [
    "import os\n",
    "os.system('\"C:/Program Files/Internet Explorer/iexplore.exe\" https://www.jianshu.com/p/d4eea5b503ed')"
   ]
  },
  {
   "cell_type": "code",
   "execution_count": null,
   "metadata": {},
   "outputs": [],
   "source": [
    "import webbrowser\n",
    "\n",
    "url = 'https://translate.google.cn/'\n",
    "\n",
    "webbrowser.open(url)\n",
    "\n",
    "print(webbrowser.get())"
   ]
  },
  {
   "cell_type": "code",
   "execution_count": null,
   "metadata": {},
   "outputs": [],
   "source": [
    "import webbrowser\n",
    "import os \n",
    "webbrowser.open_new_tab(\"//www.jb51.net/\")\n",
    "os.system(\"pause\")#运行windows的pause 命令，等待用户输入\n",
    "\n",
    "i = 0 \n",
    "while i<100: \n",
    "  if downloadUrlList == None: \n",
    "    break \n",
    "  webbrowser.open_new_tab(downloadUrlList.pop()) \n",
    "  i = i + 1 \n",
    "  if i % 10 == 0: \n",
    "    os.system(\"pause\") "
   ]
  },
  {
   "cell_type": "code",
   "execution_count": null,
   "metadata": {},
   "outputs": [],
   "source": [
    "url = 'https://cg.xiaojilicai.com/admin/coupon/publishcoupon?username=&realname=&cellphone=&company_name=&coupon_alias=&use_status=1&refer_id=&pack_name=&bill_id=&start_time=&end_time=&start_time2=&end_time2=&export=1&async=0&__hash__=e776bcc8348b125590c7d83c83cb054d_c884f04a16d4ae6d1fee5a9407ca9481'"
   ]
  },
  {
   "cell_type": "code",
   "execution_count": null,
   "metadata": {},
   "outputs": [],
   "source": [
    "import webbrowser\n",
    "\n",
    "webbrowser.open(url)"
   ]
  },
  {
   "cell_type": "code",
   "execution_count": null,
   "metadata": {},
   "outputs": [],
   "source": [
    "from openpyxl import load_workbook"
   ]
  },
  {
   "cell_type": "code",
   "execution_count": null,
   "metadata": {},
   "outputs": [],
   "source": [
    "wb2 = load_workbook(r'C:\\Users\\Dragon\\Downloads\\券发放记录.xls')"
   ]
  },
  {
   "cell_type": "code",
   "execution_count": null,
   "metadata": {},
   "outputs": [],
   "source": [
    "import xlrd\n",
    "from openpyxl.workbook import Workbook\n",
    "from openpyxl.reader.excel import load_workbook, InvalidFileException\n",
    "\n",
    "def open_xls_as_xlsx(filename):\n",
    "    # first open using xlrd\n",
    "    book = xlrd.open_workbook(filename)\n",
    "    index = 0\n",
    "    nrows, ncols = 0, 0\n",
    "    while nrows * ncols == 0:\n",
    "        sheet = book.sheet_by_index(index)\n",
    "        nrows = sheet.nrows\n",
    "        ncols = sheet.ncols\n",
    "        index += 1\n",
    "\n",
    "    # prepare a xlsx sheet\n",
    "    book1 = Workbook()\n",
    "    sheet1 = book1.get_active_sheet()\n",
    "\n",
    "    for row in xrange(0, nrows):\n",
    "        for col in xrange(0, ncols):\n",
    "            sheet1.cell(row=row, column=col).value = sheet.cell_value(row, col)\n",
    "\n",
    "    return book1"
   ]
  },
  {
   "cell_type": "code",
   "execution_count": null,
   "metadata": {},
   "outputs": [],
   "source": [
    "filename = r'C:\\Users\\Dragon\\Downloads\\券发放记录 - 副本.xml'"
   ]
  },
  {
   "cell_type": "code",
   "execution_count": null,
   "metadata": {
    "scrolled": true
   },
   "outputs": [],
   "source": [
    "b = xlrd.open_workbook(filename)"
   ]
  },
  {
   "cell_type": "code",
   "execution_count": null,
   "metadata": {
    "scrolled": true
   },
   "outputs": [],
   "source": [
    "from openpyxl import load_workbook\n",
    " \n",
    "workbook = load_workbook(filename)"
   ]
  },
  {
   "cell_type": "code",
   "execution_count": null,
   "metadata": {},
   "outputs": [],
   "source": [
    "import pandas as pd\n",
    "data = pd.read_html(filename)"
   ]
  },
  {
   "cell_type": "code",
   "execution_count": null,
   "metadata": {
    "scrolled": true
   },
   "outputs": [],
   "source": [
    "df = pd.read_table(r'C:\\Users\\Dragon\\Downloads\\券发放记录.xls')"
   ]
  },
  {
   "cell_type": "code",
   "execution_count": null,
   "metadata": {},
   "outputs": [],
   "source": [
    "df = pd.DataFrame()"
   ]
  },
  {
   "cell_type": "code",
   "execution_count": null,
   "metadata": {},
   "outputs": [],
   "source": [
    "import xlwings as xw"
   ]
  },
  {
   "cell_type": "code",
   "execution_count": null,
   "metadata": {},
   "outputs": [],
   "source": [
    "app = xw.App(visible=False, add_book=False)\n",
    "\n",
    "xls = app.books.open(r'C:\\Users\\Dragon\\Downloads\\券发放记录.xls')\n",
    "\n",
    "xls\n",
    "\n",
    "sheet = xls.sheets[0]\n",
    "sheet\n",
    "\n",
    "df = sheet.range('A1').options(pd.DataFrame, expand='table').value\n",
    "\n",
    "df\n",
    "\n",
    "xls.close()\n",
    "\n",
    "app.quit()"
   ]
  },
  {
   "cell_type": "code",
   "execution_count": null,
   "metadata": {},
   "outputs": [],
   "source": [
    "pd.to_datetime('today').strftime('%Y-%m-%d')"
   ]
  },
  {
   "cell_type": "code",
   "execution_count": null,
   "metadata": {},
   "outputs": [],
   "source": [
    "a=b=1"
   ]
  },
  {
   "cell_type": "code",
   "execution_count": null,
   "metadata": {},
   "outputs": [],
   "source": [
    "import os\n",
    "\n",
    "file_dir = r'C:\\Users\\Dragon\\Downloads'\n",
    "file_dict = {}\n",
    "lists = os.listdir(file_dir) #先获取文件夹内的所有文件\n",
    "for i in lists: # 遍历所有文件\n",
    "    ctime = os.stat(os.path.join(file_dir, i)).st_ctime\n",
    "    file_dict[ctime] = i # 添加创建时间和文件名到字典\n",
    "max_ctime = max(file_dict.keys()) # 取值最大的时间\n",
    "print (file_dict[max_ctime]) #打印出最新文件名"
   ]
  },
  {
   "cell_type": "code",
   "execution_count": null,
   "metadata": {},
   "outputs": [],
   "source": [
    "for i in range(3):\n",
    "    locals()['ex_'+str(i)]=i\n",
    "    print ('ex_'+str(i))"
   ]
  },
  {
   "cell_type": "code",
   "execution_count": null,
   "metadata": {},
   "outputs": [],
   "source": [
    "ex_2"
   ]
  },
  {
   "cell_type": "code",
   "execution_count": null,
   "metadata": {},
   "outputs": [],
   "source": [
    "quan_not_use = 'a'\n",
    "quan_use = 'b'"
   ]
  },
  {
   "cell_type": "code",
   "execution_count": null,
   "metadata": {},
   "outputs": [],
   "source": [
    "download_url = [quan_not_use,quan_use]"
   ]
  },
  {
   "cell_type": "code",
   "execution_count": null,
   "metadata": {},
   "outputs": [],
   "source": [
    "t = ['quan_not_use','quan_use']"
   ]
  },
  {
   "cell_type": "code",
   "execution_count": null,
   "metadata": {},
   "outputs": [],
   "source": [
    "for i in download_url:\n",
    "    locals()['ex_'+str(i)]=i\n",
    "    print ('ex_'+str(i))"
   ]
  },
  {
   "cell_type": "code",
   "execution_count": null,
   "metadata": {},
   "outputs": [],
   "source": [
    "for i,j in zip(t,download_url):\n",
    "    locals()['ex_'+str(i)]=j\n",
    "    print ('ex_'+str(i))\n",
    "    \n",
    "def f(ex_quan_not_use):\n",
    "    print('ok')\n",
    "    \n",
    "f(ex_quan_not_use)"
   ]
  },
  {
   "cell_type": "code",
   "execution_count": null,
   "metadata": {},
   "outputs": [],
   "source": [
    "# 导入库\n",
    "import os\n",
    "import time\n",
    "import webbrowser\n",
    "\n",
    "import numpy as np\n",
    "import pandas as pd\n",
    "import xlwings as xw\n",
    "\n",
    "\n",
    "# 下载券表格\n",
    "def download_data(url):\n",
    "    webbrowser.open(url)\n",
    "\n",
    "# 获得最新表格\n",
    "def newest_xls():\n",
    "    file_dir = r'C:\\Users\\Dragon\\Downloads'\n",
    "    file_dict = {}\n",
    "    lists = os.listdir(file_dir) #先获取文件夹内的所有文件\n",
    "    for i in lists: # 遍历所有文件\n",
    "        ctime = os.stat(os.path.join(file_dir, i)).st_ctime\n",
    "        file_dict[ctime] = i # 添加创建时间和文件名到字典\n",
    "    max_ctime = max(file_dict.keys()) # 取值最大的时间\n",
    "    print('当前目录最新文件为：',file_dict[max_ctime])\n",
    "\n",
    "    return file_dict[max_ctime]\n",
    "\n",
    "# 处理表格\n",
    "def handle_xls(new_xls):\n",
    "    app = xw.App(visible=False, add_book=False)\n",
    "    xls = app.books.open(new_xls)\n",
    "    sheet = xls.sheets[0]\n",
    "    dataframe = sheet.range('A1').options(pd.DataFrame, expand='table').value\n",
    "    xls.close()\n",
    "    app.quit()   \n",
    "    return dataframe\n",
    "\n",
    "# 券名单生成\n",
    "def coupon_list(df_quan_not_use,df_quan_use):\n",
    "    print('coupon_list')"
   ]
  },
  {
   "cell_type": "code",
   "execution_count": null,
   "metadata": {},
   "outputs": [],
   "source": [
    "print('\\n派券系统启动!\\n')\n",
    "os.chdir(r'C:\\Users\\Dragon\\Downloads')\n",
    "\n",
    "quan_not_use = 'https://cg.xiaojilicai.com/admin/coupon/publishcoupon?username=&realname=&cellphone=&company_name=&coupon_alias=&use_status=1&refer_id=&pack_name=&bill_id=&start_time=&end_time=&start_time2=&end_time2=&export=1&async=0&__hash__=e776bcc8348b125590c7d83c83cb054d_c884f04a16d4ae6d1fee5a9407ca9481'\n",
    "quan_use = 'https://cg.xiaojilicai.com/admin/coupon/publishcoupon?username=&realname=&cellphone=&company_name=&coupon_alias=%E6%B8%85%E5%87%89%E4%B8%80%E5%A4%8F&use_status=&refer_id=&pack_name=&bill_id=&start_time=2019-08-01&end_time=&start_time2=&end_time2=&export=1&async=0&__hash__=e776bcc8348b125590c7d83c83cb054d_deac4801fd900e593f387d8f4620f25c'\n",
    "download_url = [quan_not_use,quan_use]\n",
    "xls_name = ['quan_not_use','quan_use']\n",
    "\n",
    "origin_file = newest_xls()\n",
    "count = 0\n",
    "\n",
    "for i,j in zip(xls_name,download_url):\n",
    "    download_data(j)    # 下载\n",
    "    time.sleep(30)\n",
    "    new_xls = newest_xls()  # 捕获下载文件\n",
    "    while new_xls == origin_file:\n",
    "        time.sleep(30)\n",
    "        new_xls = newest_xls()\n",
    "\n",
    "    new_df = handle_xls(new_xls)    # 转换下载文件\n",
    "    locals()['df_'+str(i)] = new_df # 批量生成变量名\n",
    "    print ('df_'+str(i))\n",
    "\n",
    "    count += 1\n",
    "    print('第 {} 个表格已经完成。'.format(count))\n",
    "\n",
    "    origin_file = new_xls"
   ]
  },
  {
   "cell_type": "code",
   "execution_count": null,
   "metadata": {},
   "outputs": [],
   "source": [
    "df_quan_not_use.head()"
   ]
  },
  {
   "cell_type": "code",
   "execution_count": null,
   "metadata": {},
   "outputs": [],
   "source": [
    "coupon_list(df_quan_not_use,df_quan_use)"
   ]
  },
  {
   "cell_type": "markdown",
   "metadata": {},
   "source": [
    "--- 2019.8.19 ---"
   ]
  },
  {
   "cell_type": "code",
   "execution_count": null,
   "metadata": {},
   "outputs": [],
   "source": [
    "import os\n",
    "import cv2\n",
    "import numpy"
   ]
  },
  {
   "cell_type": "code",
   "execution_count": null,
   "metadata": {},
   "outputs": [],
   "source": [
    "img = cv2.imread(r'D:\\VDownload\\0233D65D37C5E3D69C1FC2B9DAB30759.jpg')"
   ]
  },
  {
   "cell_type": "code",
   "execution_count": null,
   "metadata": {},
   "outputs": [],
   "source": [
    "img"
   ]
  },
  {
   "cell_type": "code",
   "execution_count": null,
   "metadata": {},
   "outputs": [],
   "source": [
    "img.shape"
   ]
  },
  {
   "cell_type": "code",
   "execution_count": null,
   "metadata": {},
   "outputs": [],
   "source": [
    "def testRaise(number):\n",
    "    if number < 1:\n",
    "        raise ValueError('0') #或者 raise ValueError,'Invalid value'\n",
    " \n",
    "testRaise(0)"
   ]
  },
  {
   "cell_type": "code",
   "execution_count": null,
   "metadata": {},
   "outputs": [],
   "source": [
    "a = 'a'\n",
    "'a' is a"
   ]
  },
  {
   "cell_type": "code",
   "execution_count": null,
   "metadata": {},
   "outputs": [],
   "source": [
    "path = r'D:\\VDownload'"
   ]
  },
  {
   "cell_type": "code",
   "execution_count": null,
   "metadata": {},
   "outputs": [],
   "source": [
    "os.chdir(path)\n",
    "os.getcwd()"
   ]
  },
  {
   "cell_type": "code",
   "execution_count": null,
   "metadata": {
    "scrolled": true
   },
   "outputs": [],
   "source": [
    "for file in os.listdir('.'):\n",
    "    img = cv2.imread(file)\n",
    "    try:\n",
    "        img.shape\n",
    "    except AttributeError:\n",
    "        print(\"{} is not a jpg!\".format(file))\n",
    "    else:\n",
    "        print('-',end='')\n",
    "#     continue\n",
    "#     print(file)\n",
    "#     img = cv2.imread(file)\n",
    "#     print(file,':',img.shape)"
   ]
  },
  {
   "cell_type": "code",
   "execution_count": null,
   "metadata": {},
   "outputs": [],
   "source": [
    "print('\\r进度: {:.4%}'.format((50/75)),end='')"
   ]
  },
  {
   "cell_type": "code",
   "execution_count": null,
   "metadata": {},
   "outputs": [],
   "source": [
    "img = cv2.imread('quancai.jpg')"
   ]
  },
  {
   "cell_type": "code",
   "execution_count": null,
   "metadata": {},
   "outputs": [],
   "source": [
    "print(img.shape)"
   ]
  },
  {
   "cell_type": "code",
   "execution_count": null,
   "metadata": {},
   "outputs": [],
   "source": [
    "data = []\n",
    "\n",
    "for i in range(img.shape[0]):\n",
    "    for j in range(img.shape[1]):\n",
    "        d = max(img[i,j,:]) - min(img[i,j,:])\n",
    "        data.append(d)"
   ]
  },
  {
   "cell_type": "code",
   "execution_count": null,
   "metadata": {},
   "outputs": [],
   "source": [
    "max(data)"
   ]
  },
  {
   "cell_type": "code",
   "execution_count": null,
   "metadata": {
    "scrolled": true
   },
   "outputs": [],
   "source": [
    "img"
   ]
  },
  {
   "cell_type": "code",
   "execution_count": null,
   "metadata": {},
   "outputs": [],
   "source": [
    "a = np.array([[1,2,3],[3,4,5],[4,5,6]]) "
   ]
  },
  {
   "cell_type": "code",
   "execution_count": null,
   "metadata": {},
   "outputs": [],
   "source": [
    "a"
   ]
  },
  {
   "cell_type": "code",
   "execution_count": null,
   "metadata": {},
   "outputs": [],
   "source": [
    "a.shape"
   ]
  },
  {
   "cell_type": "code",
   "execution_count": null,
   "metadata": {},
   "outputs": [],
   "source": [
    "max(a[2])"
   ]
  },
  {
   "cell_type": "code",
   "execution_count": null,
   "metadata": {},
   "outputs": [],
   "source": [
    "for i in range(6):\n",
    "    print(i)"
   ]
  },
  {
   "cell_type": "code",
   "execution_count": null,
   "metadata": {},
   "outputs": [],
   "source": [
    "x = np.array([[  0,  1,  2],[  3,  4,  5],[  6,  7,  8],[  9,  10,  11]]) "
   ]
  },
  {
   "cell_type": "code",
   "execution_count": null,
   "metadata": {},
   "outputs": [],
   "source": [
    "x.shape"
   ]
  },
  {
   "cell_type": "code",
   "execution_count": null,
   "metadata": {},
   "outputs": [],
   "source": [
    "y = np.arange(24).reshape(2,3,4)"
   ]
  },
  {
   "cell_type": "code",
   "execution_count": null,
   "metadata": {},
   "outputs": [],
   "source": [
    "y"
   ]
  },
  {
   "cell_type": "code",
   "execution_count": null,
   "metadata": {},
   "outputs": [],
   "source": [
    "y[0][1]"
   ]
  },
  {
   "cell_type": "code",
   "execution_count": null,
   "metadata": {},
   "outputs": [],
   "source": [
    "y[0,1,:]"
   ]
  },
  {
   "cell_type": "code",
   "execution_count": null,
   "metadata": {},
   "outputs": [],
   "source": [
    "y.shape"
   ]
  },
  {
   "cell_type": "code",
   "execution_count": null,
   "metadata": {},
   "outputs": [],
   "source": [
    "l = []\n",
    "l.append(6)"
   ]
  },
  {
   "cell_type": "code",
   "execution_count": null,
   "metadata": {},
   "outputs": [],
   "source": [
    "l"
   ]
  },
  {
   "cell_type": "code",
   "execution_count": null,
   "metadata": {},
   "outputs": [],
   "source": [
    "import pprint"
   ]
  },
  {
   "cell_type": "code",
   "execution_count": null,
   "metadata": {},
   "outputs": [],
   "source": [
    "pprint.pprint(y)"
   ]
  },
  {
   "cell_type": "code",
   "execution_count": null,
   "metadata": {},
   "outputs": [],
   "source": [
    "os.getcwd()"
   ]
  },
  {
   "cell_type": "code",
   "execution_count": null,
   "metadata": {},
   "outputs": [],
   "source": [
    "os.path.exists(r'D:\\black and white')"
   ]
  },
  {
   "cell_type": "markdown",
   "metadata": {},
   "source": [
    "--- 2019.8.16 ---"
   ]
  },
  {
   "cell_type": "code",
   "execution_count": null,
   "metadata": {},
   "outputs": [],
   "source": [
    "#importing Pandas \n",
    "import pandas as pd\n",
    "#importing plotly and cufflinks in offline mode\n",
    "import cufflinks as cf\n",
    "\n",
    "import plotly.offline\n",
    "cf.go_offline()\n",
    "cf.set_config_file(offline=False, world_readable=True)"
   ]
  },
  {
   "cell_type": "code",
   "execution_count": null,
   "metadata": {},
   "outputs": [],
   "source": [
    "# Depreciated: pre 2.0.0 version\n",
    "df = pd.read_csv('../data/train.csv')"
   ]
  },
  {
   "cell_type": "code",
   "execution_count": null,
   "metadata": {},
   "outputs": [],
   "source": [
    "df.iplot()"
   ]
  },
  {
   "cell_type": "code",
   "execution_count": null,
   "metadata": {},
   "outputs": [],
   "source": [
    "%lsmagic"
   ]
  },
  {
   "cell_type": "code",
   "execution_count": null,
   "metadata": {},
   "outputs": [],
   "source": [
    "# file.py\n",
    "def foo(x):\n",
    "    return x"
   ]
  },
  {
   "cell_type": "code",
   "execution_count": null,
   "metadata": {},
   "outputs": [],
   "source": [
    "%pastebin file.py"
   ]
  },
  {
   "cell_type": "code",
   "execution_count": null,
   "metadata": {},
   "outputs": [],
   "source": [
    "%%writefile foo.py\n",
    "def foo(x):\n",
    "    return x"
   ]
  },
  {
   "cell_type": "markdown",
   "metadata": {},
   "source": [
    "<div class=\"alert alert-block alert-info\">\n",
    "<b>Tip:</b> Use blue boxes (alert-info) for tips and notes. \n",
    "If it’s a note, you don’t have to include the word “Note”.\n",
    "</div>"
   ]
  },
  {
   "cell_type": "markdown",
   "metadata": {},
   "source": [
    "<div class=\"alert alert-block alert-warning\">\n",
    "<b>Example:</b> Yellow Boxes are generally used to include additional examples or mathematical formulas.\n",
    "</div>"
   ]
  },
  {
   "cell_type": "markdown",
   "metadata": {},
   "source": [
    "<div class=\"alert alert-block alert-success\">\n",
    "Use green box only when necessary like to display links to related content.\n",
    "</div>"
   ]
  },
  {
   "cell_type": "markdown",
   "metadata": {},
   "source": [
    "<div class=\"alert alert-block alert-danger\">\n",
    "It is good to avoid red boxes but can be used to alert users to not delete some important part of code etc. \n",
    "</div>"
   ]
  },
  {
   "cell_type": "code",
   "execution_count": null,
   "metadata": {},
   "outputs": [],
   "source": [
    "from IPython.core.interactiveshell import InteractiveShell\n",
    "InteractiveShell.ast_node_interactivity = \"all\""
   ]
  },
  {
   "cell_type": "code",
   "execution_count": null,
   "metadata": {},
   "outputs": [],
   "source": [
    "0+5          \n",
    "11+6\n",
    "12+7"
   ]
  },
  {
   "cell_type": "code",
   "execution_count": null,
   "metadata": {},
   "outputs": [],
   "source": [
    "# To revert to the original setting :\n",
    "InteractiveShell.ast_node_interactivity = \"last_expr\""
   ]
  },
  {
   "cell_type": "code",
   "execution_count": null,
   "metadata": {},
   "outputs": [],
   "source": []
  },
  {
   "cell_type": "markdown",
   "metadata": {},
   "source": [
    "--- 2019.8.15 ---"
   ]
  },
  {
   "cell_type": "code",
   "execution_count": null,
   "metadata": {},
   "outputs": [],
   "source": [
    "#importing the necessary packages\n",
    "import pandas as pd\n",
    "import pandas_profiling"
   ]
  },
  {
   "cell_type": "code",
   "execution_count": null,
   "metadata": {},
   "outputs": [],
   "source": [
    "# Depreciated: pre 2.0.0 version\n",
    "df = pd.read_csv('../data/train.csv')\n",
    "pandas_profiling.ProfileReport(df)"
   ]
  },
  {
   "cell_type": "code",
   "execution_count": null,
   "metadata": {},
   "outputs": [],
   "source": [
    "#Pandas-Profiling 2.0.0\n",
    "df.profile_report()"
   ]
  },
  {
   "cell_type": "code",
   "execution_count": null,
   "metadata": {},
   "outputs": [],
   "source": [
    "profile = df.profile_report(title='Pandas Profiling Report')\n",
    "profile.to_file(\"Titanic data profiling.html\")"
   ]
  },
  {
   "cell_type": "markdown",
   "metadata": {},
   "source": [
    "--- 2019.8.14 ---"
   ]
  },
  {
   "cell_type": "code",
   "execution_count": null,
   "metadata": {},
   "outputs": [],
   "source": [
    "# 导入库\n",
    "import numpy as np\n",
    "import pandas as pd\n",
    "\n",
    "# 导入表格\n",
    "df = pd.read_excel(r'C:\\百度云同步盘\\小鸡理财\\短信发送记录\\短信名单.xlsx')\n",
    "\n",
    "# 短信黑名单\n",
    "black_list = np.array([13175198841,13588059774], dtype=np.float64)\n",
    "\n",
    "# 计算列数\n",
    "n = df.shape[1]\n",
    "\n",
    "# 合并数据\n",
    "res = pd.DataFrame()\n",
    "for i in range(int(n/2)):\n",
    "    temp = df.iloc[:,[i*2,i*2+1]]\n",
    "    temp.columns = ['用户名', '手机号']\n",
    "    res = res.append(temp)\n",
    "\n",
    "# 去重\n",
    "res.drop_duplicates('用户名',inplace=True)\n",
    "\n",
    "# 去空值\n",
    "res.dropna(how = 'all',inplace=True)"
   ]
  },
  {
   "cell_type": "code",
   "execution_count": null,
   "metadata": {},
   "outputs": [],
   "source": [
    "res.head()"
   ]
  },
  {
   "cell_type": "code",
   "execution_count": null,
   "metadata": {},
   "outputs": [],
   "source": [
    "1.597916e+10 in res['手机号']"
   ]
  },
  {
   "cell_type": "code",
   "execution_count": null,
   "metadata": {},
   "outputs": [],
   "source": [
    "type(res.iloc[0,1])"
   ]
  },
  {
   "cell_type": "code",
   "execution_count": null,
   "metadata": {},
   "outputs": [],
   "source": [
    "x = res['手机号'].astype(str)"
   ]
  },
  {
   "cell_type": "code",
   "execution_count": null,
   "metadata": {},
   "outputs": [],
   "source": [
    "x.head()"
   ]
  },
  {
   "cell_type": "code",
   "execution_count": null,
   "metadata": {},
   "outputs": [],
   "source": [
    "'15979162336.0' in x"
   ]
  },
  {
   "cell_type": "code",
   "execution_count": null,
   "metadata": {},
   "outputs": [],
   "source": [
    "black_list = [13175198841,13588059774]\n",
    "\n",
    "for i in black_list:\n",
    "    for j in res['手机号']:\n",
    "        if i == j:\n",
    "            print('hit')"
   ]
  },
  {
   "cell_type": "code",
   "execution_count": null,
   "metadata": {},
   "outputs": [],
   "source": [
    "df = pd.DataFrame(np.arange(15).reshape(5,3),columns=['col1','col2','col3'])"
   ]
  },
  {
   "cell_type": "code",
   "execution_count": null,
   "metadata": {},
   "outputs": [],
   "source": [
    "df"
   ]
  },
  {
   "cell_type": "code",
   "execution_count": null,
   "metadata": {},
   "outputs": [],
   "source": [
    "del df[df.col3 == 5]"
   ]
  },
  {
   "cell_type": "markdown",
   "metadata": {},
   "source": [
    "--- 2019.8.13 ---"
   ]
  },
  {
   "cell_type": "code",
   "execution_count": null,
   "metadata": {},
   "outputs": [],
   "source": [
    "data = []"
   ]
  },
  {
   "cell_type": "code",
   "execution_count": null,
   "metadata": {},
   "outputs": [],
   "source": [
    "with open('..\\data\\home.ics','r', encoding='UTF-8') as f:\n",
    "    content = f.readlines()\n",
    "    cnt = 1\n",
    "    tp_list = []\n",
    "    for i in content:\n",
    "        \n",
    "        if i.startswith('DTSTART'):           \n",
    "            tp_list.append(cnt)\n",
    "            cnt += 1\n",
    "            tp_list.append(i.strip().split(':')[1].split('T')[0])\n",
    "            \n",
    "        elif i.startswith('SUMMARY'):          \n",
    "            tp_list.append(i.strip().split(':')[1])\n",
    "            data.append(tp_list)\n",
    "            tp_list = []    \n",
    "        else:\n",
    "            pass"
   ]
  },
  {
   "cell_type": "code",
   "execution_count": null,
   "metadata": {},
   "outputs": [],
   "source": [
    "data"
   ]
  },
  {
   "cell_type": "code",
   "execution_count": null,
   "metadata": {},
   "outputs": [],
   "source": [
    "df = pd.DataFrame(data)\n",
    "df.to_excel('test_calender.xlsx')"
   ]
  },
  {
   "cell_type": "code",
   "execution_count": null,
   "metadata": {},
   "outputs": [],
   "source": [
    "with open('..\\data\\ics.txt','r', encoding='UTF-8') as f:\n",
    "    cnt = 0\n",
    "    tp_list = []\n",
    "    while f.readline():\n",
    "        print(f.readline())"
   ]
  },
  {
   "cell_type": "code",
   "execution_count": null,
   "metadata": {},
   "outputs": [],
   "source": [
    "f = open('..\\data\\ics.txt','r', encoding='UTF-8')"
   ]
  },
  {
   "cell_type": "code",
   "execution_count": null,
   "metadata": {},
   "outputs": [],
   "source": [
    "content = f.readlines()\n",
    "content"
   ]
  },
  {
   "cell_type": "code",
   "execution_count": null,
   "metadata": {},
   "outputs": [],
   "source": [
    "c = '20120403'"
   ]
  },
  {
   "cell_type": "code",
   "execution_count": null,
   "metadata": {},
   "outputs": [],
   "source": [
    "c.split(':')"
   ]
  },
  {
   "cell_type": "markdown",
   "metadata": {},
   "source": [
    "--- 2019.8.9 ---"
   ]
  },
  {
   "cell_type": "code",
   "execution_count": null,
   "metadata": {},
   "outputs": [],
   "source": [
    "df = pd.DataFrame(np.arange(15).reshape(5,3),columns=['col1','col2','col3'])\n",
    "df"
   ]
  },
  {
   "cell_type": "code",
   "execution_count": null,
   "metadata": {},
   "outputs": [],
   "source": [
    "df.columns = ['x','col1','col2']\n",
    "df"
   ]
  },
  {
   "cell_type": "code",
   "execution_count": null,
   "metadata": {},
   "outputs": [],
   "source": [
    "l = ['y','col2','col2','t']\n",
    "df = df.reindex(columns=l)\n",
    "df"
   ]
  },
  {
   "cell_type": "markdown",
   "metadata": {},
   "source": [
    "--- 2019.8.6 ---"
   ]
  },
  {
   "cell_type": "code",
   "execution_count": null,
   "metadata": {},
   "outputs": [],
   "source": [
    "with pd.ExcelFile(r'C:\\Users\\Dragon\\Desktop\\表格3.xlsx') as xlsx:\n",
    "    df_1 = pd.read_excel(xlsx,'邀请')\n",
    "    df_2 = pd.read_excel(xlsx,'业务')\n",
    "    df_3 = pd.read_excel(xlsx,'回款')"
   ]
  },
  {
   "cell_type": "code",
   "execution_count": null,
   "metadata": {},
   "outputs": [],
   "source": [
    "df_hr = pd.merge(df_1,df_2,\n",
    "                 how='inner', \n",
    "                 left_on='邀请人', right_on='邀请人手机号码')"
   ]
  },
  {
   "cell_type": "code",
   "execution_count": null,
   "metadata": {},
   "outputs": [],
   "source": [
    "df_3['发放时间'] = pd.to_datetime(df_3['预计本次发放时间']).dt.strftime('%Y-%m')\n",
    "# df_3['发放时间'] = df_3['发放时间'].dt.strftime('%Y-%m')"
   ]
  },
  {
   "cell_type": "code",
   "execution_count": null,
   "metadata": {
    "scrolled": true
   },
   "outputs": [],
   "source": [
    "df_hk = df_3.groupby(['投资用户','真实姓名','手机号码','会员类型','发放时间'], as_index=False)['本次发放金额'].sum()"
   ]
  },
  {
   "cell_type": "code",
   "execution_count": null,
   "metadata": {},
   "outputs": [],
   "source": [
    "df = pd.merge(df_hr,df_hk,\n",
    "             how='inner',\n",
    "             left_on='用户名', right_on='投资用户',)"
   ]
  },
  {
   "cell_type": "code",
   "execution_count": null,
   "metadata": {},
   "outputs": [],
   "source": [
    "df.loc[:,['邀请人用户名', '邀请人真实姓名', '邀请人手机号码', '投资用户', '真实姓名', '手机号码','会员类型', '发放时间', '本次发放金额']].to_excel(r'C:\\Users\\Dragon\\Desktop\\表格4.xlsx',index=False)"
   ]
  },
  {
   "cell_type": "code",
   "execution_count": null,
   "metadata": {},
   "outputs": [],
   "source": [
    "exit()"
   ]
  },
  {
   "cell_type": "markdown",
   "metadata": {},
   "source": [
    "--- 2019.7.31 ---"
   ]
  },
  {
   "cell_type": "code",
   "execution_count": null,
   "metadata": {},
   "outputs": [],
   "source": [
    "a=1\n",
    "b=2\n",
    "a,b=b,a"
   ]
  },
  {
   "cell_type": "code",
   "execution_count": null,
   "metadata": {},
   "outputs": [],
   "source": [
    "a"
   ]
  },
  {
   "cell_type": "code",
   "execution_count": null,
   "metadata": {},
   "outputs": [],
   "source": [
    "b"
   ]
  },
  {
   "cell_type": "code",
   "execution_count": null,
   "metadata": {},
   "outputs": [],
   "source": [
    "print()\n",
    "print(\"\\#{'}${\\\"}@/\")\n",
    "print(\"\\#{'}${\"'\"'\"}@/\")\n",
    "print(r\"\"\"\\#{'}${\"}@/\"\"\")\n",
    "print('\\#{\\'}${\"}@/')\n",
    "print('\\#{'\"'\"'}${\"}@/')\n",
    "print(r'''\\#{'}${\"}@/''')\n",
    "print()"
   ]
  },
  {
   "cell_type": "code",
   "execution_count": null,
   "metadata": {},
   "outputs": [],
   "source": [
    "id(a)"
   ]
  },
  {
   "cell_type": "code",
   "execution_count": null,
   "metadata": {},
   "outputs": [],
   "source": [
    "s = b'abcdefg'\n",
    "list(s)"
   ]
  },
  {
   "cell_type": "code",
   "execution_count": null,
   "metadata": {},
   "outputs": [],
   "source": [
    "s.isdigit()"
   ]
  },
  {
   "cell_type": "code",
   "execution_count": null,
   "metadata": {},
   "outputs": [],
   "source": [
    "import time\n",
    "print()\n",
    "print(time.ctime())\n",
    "print()\n",
    "print(time.time())"
   ]
  },
  {
   "cell_type": "code",
   "execution_count": null,
   "metadata": {},
   "outputs": [],
   "source": [
    "import os\n",
    "import time\n",
    "# for windows\n",
    "# os.system('cls')\n",
    "os.system(\"ls\")\n",
    "time.sleep(2)"
   ]
  },
  {
   "cell_type": "code",
   "execution_count": null,
   "metadata": {},
   "outputs": [],
   "source": [
    "num_list = [45, 55, 60, 37, 100, 105, 220]\n",
    "# use anonymous function to filter\n",
    "result = list(filter(lambda x: (x % 15 == 0), num_list))\n",
    "print(\"Numbers divisible by 15 are\",result)"
   ]
  },
  {
   "cell_type": "code",
   "execution_count": null,
   "metadata": {},
   "outputs": [],
   "source": [
    "import glob\n",
    "file_list = glob.glob('*.*')\n",
    "print(file_list)"
   ]
  },
  {
   "cell_type": "code",
   "execution_count": null,
   "metadata": {},
   "outputs": [],
   "source": [
    "x = input(':')\n",
    "\n",
    "if x.isdigit():\n",
    "    print('it is a number')\n",
    "else:\n",
    "    print('it is not a number')"
   ]
  },
  {
   "cell_type": "code",
   "execution_count": null,
   "metadata": {},
   "outputs": [],
   "source": [
    "num_list = [1,2,3,-1,-5,50,-50]\n",
    "list(filter(lambda x:x>0,num_list))"
   ]
  },
  {
   "cell_type": "code",
   "execution_count": null,
   "metadata": {},
   "outputs": [],
   "source": [
    "sum(num_list)"
   ]
  },
  {
   "cell_type": "code",
   "execution_count": null,
   "metadata": {},
   "outputs": [],
   "source": [
    "reduce( (lambda x, y: x * y), num_list)"
   ]
  },
  {
   "cell_type": "code",
   "execution_count": null,
   "metadata": {},
   "outputs": [],
   "source": [
    "nums = [10, 20, 56, 35, 17, 99]\n",
    "# Create bytearray from list of integers.\n",
    "values = bytearray(nums)\n",
    "values"
   ]
  },
  {
   "cell_type": "code",
   "execution_count": null,
   "metadata": {},
   "outputs": [],
   "source": [
    "str_num = \"1234567890\"\n",
    "print()\n",
    "print(str_num[:6])\n",
    "print()"
   ]
  },
  {
   "cell_type": "code",
   "execution_count": null,
   "metadata": {},
   "outputs": [],
   "source": [
    "n=20\n",
    "type(n)()"
   ]
  },
  {
   "cell_type": "code",
   "execution_count": null,
   "metadata": {},
   "outputs": [],
   "source": [
    "n"
   ]
  },
  {
   "cell_type": "code",
   "execution_count": null,
   "metadata": {},
   "outputs": [],
   "source": [
    "s = 'JOIJDASNDOJOJASOFNOAS'\n",
    "\n",
    "for i in s:\n",
    "    if i != i.upper():\n",
    "        print('lowercase:',i)\n",
    "        break"
   ]
  },
  {
   "cell_type": "code",
   "execution_count": null,
   "metadata": {},
   "outputs": [],
   "source": [
    "ds = pd.Series([2, 4, 6, 8, 10])\n",
    "ds"
   ]
  },
  {
   "cell_type": "code",
   "execution_count": null,
   "metadata": {},
   "outputs": [],
   "source": [
    "ds.tolist()"
   ]
  },
  {
   "cell_type": "code",
   "execution_count": null,
   "metadata": {},
   "outputs": [],
   "source": [
    "ds1 = pd.Series([1, 3, 5, 7, 9])\n",
    "ds + ds1"
   ]
  },
  {
   "cell_type": "code",
   "execution_count": null,
   "metadata": {},
   "outputs": [],
   "source": [
    "ds2 = pd.Series({'a': 100, 'b': 200, 'c': 300, 'd': 400, 'e': 800})\n",
    "ds2"
   ]
  },
  {
   "cell_type": "code",
   "execution_count": null,
   "metadata": {},
   "outputs": [],
   "source": [
    "ds.astype('float64')"
   ]
  },
  {
   "cell_type": "code",
   "execution_count": null,
   "metadata": {},
   "outputs": [],
   "source": [
    "s = pd.Series([\n",
    "    ['Red', 'Green', 'White'],\n",
    "    ['Red', 'Black'],\n",
    "    ['Yellow']])\n",
    "s"
   ]
  },
  {
   "cell_type": "code",
   "execution_count": null,
   "metadata": {},
   "outputs": [],
   "source": [
    "s.apply(pd.Series).stack().reset_index(drop=1)"
   ]
  },
  {
   "cell_type": "code",
   "execution_count": null,
   "metadata": {},
   "outputs": [],
   "source": [
    "s = pd.Series(['100', '200', 'python', '300.12', '400'])\n",
    "s"
   ]
  },
  {
   "cell_type": "code",
   "execution_count": null,
   "metadata": {},
   "outputs": [],
   "source": [
    "s.sort_values()"
   ]
  },
  {
   "cell_type": "code",
   "execution_count": null,
   "metadata": {
    "scrolled": true
   },
   "outputs": [],
   "source": [
    "s.append(pd.Series(['500', 'php']))"
   ]
  },
  {
   "cell_type": "markdown",
   "metadata": {},
   "source": [
    "--- 2019.7.26 ---"
   ]
  },
  {
   "cell_type": "code",
   "execution_count": null,
   "metadata": {},
   "outputs": [],
   "source": [
    "from PIL import Image, ImageFont, ImageDraw # 导入模块\n",
    "im = Image.open(r'C:\\Users\\Dragon\\Downloads\\image.jpg') # 打开文件\n",
    "print(im.format, im.size, im.mode)\n",
    "draw = ImageDraw.Draw(im) #修改图片\n",
    "\n",
    "draw.text((500,100), 'smile', fill = (255, 0 ,0)) #利用ImageDraw的内置函数，在图片上写入文字\n",
    "im.show()\n",
    "im.save('mysmile.jpg', jpg)"
   ]
  },
  {
   "cell_type": "code",
   "execution_count": null,
   "metadata": {},
   "outputs": [],
   "source": [
    "from PIL import Image, ImageDraw, ImageFont\n",
    "img = Image.open(r'C:\\Users\\Dragon\\Downloads\\image.jpg')"
   ]
  },
  {
   "cell_type": "code",
   "execution_count": null,
   "metadata": {},
   "outputs": [],
   "source": [
    "draw = ImageDraw.Draw(img)\n",
    "ttfront = ImageFont.truetype('simhei.ttf', 50)#字体大小\n",
    "draw.text((90, 550),\"评论“666”可显示\",fill=(0,25,25), font=ttfront)#文字位置，内容，字体"
   ]
  },
  {
   "cell_type": "code",
   "execution_count": null,
   "metadata": {},
   "outputs": [],
   "source": [
    "img.show()"
   ]
  },
  {
   "cell_type": "code",
   "execution_count": null,
   "metadata": {},
   "outputs": [],
   "source": [
    "img.save(r'C:\\Users\\Dragon\\Downloads\\01.jpg)"
   ]
  },
  {
   "cell_type": "markdown",
   "metadata": {},
   "source": [
    "--- 2019.7.22 ---"
   ]
  },
  {
   "cell_type": "code",
   "execution_count": null,
   "metadata": {},
   "outputs": [],
   "source": [
    "import sys\n",
    "print(\"\\nPython Copyright Information\")\n",
    "print(sys.copyright)\n",
    "print()"
   ]
  },
  {
   "cell_type": "code",
   "execution_count": null,
   "metadata": {},
   "outputs": [],
   "source": [
    "import sys\n",
    "import textwrap\n",
    "module_name = ', '.join(sorted(sys.builtin_module_names))\n",
    "print(textwrap.fill(module_name, width=70))"
   ]
  },
  {
   "cell_type": "code",
   "execution_count": null,
   "metadata": {},
   "outputs": [],
   "source": [
    "import sys\n",
    "print()\n",
    "print(\"Current value of the recursion limit:\")\n",
    "print(sys.getrecursionlimit())\n",
    "print()"
   ]
  },
  {
   "cell_type": "code",
   "execution_count": null,
   "metadata": {},
   "outputs": [],
   "source": [
    "list_of_colors = ['Red', 'White', 'Black']  \n",
    "colors = '-'.join(list_of_colors)\n",
    "print()\n",
    "print(\"All Colors: \"+colors)\n",
    "print()"
   ]
  },
  {
   "cell_type": "code",
   "execution_count": null,
   "metadata": {},
   "outputs": [],
   "source": [
    "x = [10,20,'30']\n",
    "\n",
    "s = 0\n",
    "for i in x:\n",
    "    s += i\n",
    "s"
   ]
  },
  {
   "cell_type": "code",
   "execution_count": null,
   "metadata": {},
   "outputs": [],
   "source": [
    "ss = sum(x)\n",
    "ss"
   ]
  },
  {
   "cell_type": "code",
   "execution_count": null,
   "metadata": {},
   "outputs": [],
   "source": [
    "x = [10,20,30]\n",
    "\n",
    "c = 5\n",
    "\n",
    "min(x) > c"
   ]
  },
  {
   "cell_type": "code",
   "execution_count": null,
   "metadata": {},
   "outputs": [],
   "source": [
    "s = 'hdaoshdoasndoasiujdoasjfpjasdf'\n",
    "\n",
    "sep = 'j'\n",
    "\n",
    "s.count(sep)"
   ]
  },
  {
   "cell_type": "code",
   "execution_count": null,
   "metadata": {},
   "outputs": [],
   "source": [
    "import os  \n",
    "path=r\"C:\\Users\\Dragon\\Downloads\"  \n",
    "if os.path.isdir(path):  \n",
    "    print(\"\\nIt is a directory\")  \n",
    "elif os.path.isfile(path):  \n",
    "    print(\"\\nIt is a normal file\")  \n",
    "else:  \n",
    "    print(\"It is a special file (socket, FIFO, device file)\" )\n",
    "print()"
   ]
  },
  {
   "cell_type": "code",
   "execution_count": null,
   "metadata": {},
   "outputs": [],
   "source": [
    "print()\n",
    "print(ord('a'))\n",
    "print(ord('A'))\n",
    "print(ord('1'))\n",
    "print(ord('@'))\n",
    "print()"
   ]
  },
  {
   "cell_type": "code",
   "execution_count": null,
   "metadata": {},
   "outputs": [],
   "source": [
    "os.path.getsize(r\"C:\\Users\\Dragon\\Downloads\\存管标还款计划 (2).xls\")"
   ]
  },
  {
   "cell_type": "code",
   "execution_count": null,
   "metadata": {},
   "outputs": [],
   "source": [
    "print()\n",
    "print((lambda str='print(lambda str=%r: (str %% str))()': (str % str))())\n",
    "print()"
   ]
  },
  {
   "cell_type": "markdown",
   "metadata": {},
   "source": [
    "--- 2019.7.19 ---"
   ]
  },
  {
   "cell_type": "code",
   "execution_count": null,
   "metadata": {},
   "outputs": [],
   "source": [
    "players=['Garsol','Hardon','Bill','Duran','James','Barter']\n",
    "scores=[22,34,12,31,26,19]\n",
    "teams=['West','West','East','West','East','East']\n",
    "\n",
    "df = pd.DataFrame({'player':players,\n",
    "                  'score':scores,\n",
    "                  'team':teams})"
   ]
  },
  {
   "cell_type": "code",
   "execution_count": null,
   "metadata": {},
   "outputs": [],
   "source": [
    "df"
   ]
  },
  {
   "cell_type": "code",
   "execution_count": null,
   "metadata": {},
   "outputs": [],
   "source": [
    "df.info()"
   ]
  },
  {
   "cell_type": "code",
   "execution_count": null,
   "metadata": {},
   "outputs": [],
   "source": [
    "df.team.astype('category')"
   ]
  },
  {
   "cell_type": "code",
   "execution_count": null,
   "metadata": {},
   "outputs": [],
   "source": [
    "d = pd.Series(scores).describe()"
   ]
  },
  {
   "cell_type": "code",
   "execution_count": null,
   "metadata": {},
   "outputs": [],
   "source": [
    "d"
   ]
  },
  {
   "cell_type": "code",
   "execution_count": null,
   "metadata": {},
   "outputs": [],
   "source": [
    "score_ranges = [d['min']-1,d['mean'],d['max']+1]\n",
    "score_ranges"
   ]
  },
  {
   "cell_type": "code",
   "execution_count": null,
   "metadata": {},
   "outputs": [],
   "source": [
    "score_labels = ['role','star']\n",
    "score_labels"
   ]
  },
  {
   "cell_type": "code",
   "execution_count": null,
   "metadata": {},
   "outputs": [],
   "source": [
    "df['level'] = pd.cut(df['score'],bins=score_ranges,labels=score_labels)"
   ]
  },
  {
   "cell_type": "code",
   "execution_count": null,
   "metadata": {},
   "outputs": [],
   "source": [
    "df"
   ]
  },
  {
   "cell_type": "code",
   "execution_count": null,
   "metadata": {},
   "outputs": [],
   "source": [
    "cg=pd.Categorical(['Role','Role','Star','Role','Killer','Star'],categories=['Role', 'Star'])\n",
    "cg"
   ]
  },
  {
   "cell_type": "code",
   "execution_count": null,
   "metadata": {},
   "outputs": [],
   "source": [
    "s = pd.Series(cg)\n",
    "s"
   ]
  },
  {
   "cell_type": "code",
   "execution_count": null,
   "metadata": {},
   "outputs": [],
   "source": [
    "df=pd.DataFrame({'players':['Garsol','Hardon','Bill','Duran','James','Barter']})\n",
    "df"
   ]
  },
  {
   "cell_type": "code",
   "execution_count": null,
   "metadata": {
    "scrolled": true
   },
   "outputs": [],
   "source": [
    "df['level']=cg\n",
    "df"
   ]
  },
  {
   "cell_type": "markdown",
   "metadata": {},
   "source": [
    "--- 2019.7.18 ---"
   ]
  },
  {
   "cell_type": "code",
   "execution_count": null,
   "metadata": {},
   "outputs": [],
   "source": [
    "# 49. Write a Python program to list all files in a directory in Python. \n",
    "\n",
    "path = r'C:\\Users\\Dragon\\Downloads'\n",
    "\n",
    "os.listdir(path)"
   ]
  },
  {
   "cell_type": "code",
   "execution_count": null,
   "metadata": {
    "scrolled": true
   },
   "outputs": [],
   "source": [
    "import os\n",
    "# Access all environment variables \n",
    "print('*----------------------------------*')\n",
    "print(os.environ)\n",
    "print('*----------------------------------*')\n",
    "# Access a particular environment variable \n",
    "print(os.environ['HOME'])\n",
    "print('*----------------------------------*')\n",
    "print(os.environ['PATH'])\n",
    "print('*----------------------------------*')"
   ]
  },
  {
   "cell_type": "code",
   "execution_count": null,
   "metadata": {},
   "outputs": [],
   "source": [
    "import getpass\n",
    "print(getpass.getuser())"
   ]
  },
  {
   "cell_type": "code",
   "execution_count": null,
   "metadata": {},
   "outputs": [],
   "source": [
    "import socket\n",
    "print([l for l in ([ip for ip in socket.gethostbyname_ex(socket.gethostname())[2] \n",
    "if not ip.startswith(\"127.\")][:1], [[(s.connect(('8.8.8.8', 53)), \n",
    "s.getsockname()[0], s.close()) for s in [socket.socket(socket.AF_INET, \n",
    "socket.SOCK_DGRAM)]][0][1]]) if l][0][0])"
   ]
  },
  {
   "cell_type": "code",
   "execution_count": null,
   "metadata": {},
   "outputs": [],
   "source": [
    "import time\n",
    "def sum_of_n_numbers(n):\n",
    "    start_time = time.time()\n",
    "    s = 0\n",
    "    for i in range(1,n+1):\n",
    "        s = s + i\n",
    "    end_time = time.time()\n",
    "    return s,end_time-start_time\n",
    "\n",
    "n = 50000000\n",
    "print(\"\\nTime to sum of 1 to \",n,\" and required time to calculate is :\",sum_of_n_numbers(n))\n"
   ]
  },
  {
   "cell_type": "code",
   "execution_count": null,
   "metadata": {},
   "outputs": [],
   "source": [
    "import math\n",
    "\n",
    "math.sqrt(3**2 + 4**2)"
   ]
  },
  {
   "cell_type": "code",
   "execution_count": null,
   "metadata": {},
   "outputs": [],
   "source": [
    "import os\n",
    "\n",
    "os.path.abspath('tempt_notebook.ipynb')"
   ]
  },
  {
   "cell_type": "code",
   "execution_count": null,
   "metadata": {},
   "outputs": [],
   "source": [
    "os.path.getctime('tempt_notebook.ipynb')"
   ]
  },
  {
   "cell_type": "code",
   "execution_count": null,
   "metadata": {},
   "outputs": [],
   "source": [
    "import os.path, time\n",
    "\n",
    "file = 'tempt_notebook.ipynb'\n",
    "print(\"Last modified: %s\" % time.ctime(os.path.getmtime(file)))\n",
    "print(\"Created: %s\" % time.ctime(os.path.getctime(file)))"
   ]
  },
  {
   "cell_type": "code",
   "execution_count": null,
   "metadata": {},
   "outputs": [],
   "source": [
    "6 % 4"
   ]
  },
  {
   "cell_type": "code",
   "execution_count": null,
   "metadata": {},
   "outputs": [],
   "source": [
    "x = 12345678987654321\n",
    "s = 0\n",
    "\n",
    "for i in str(x):\n",
    "    s += int(i)\n",
    "    \n",
    "print(s)\n"
   ]
  },
  {
   "cell_type": "code",
   "execution_count": null,
   "metadata": {},
   "outputs": [],
   "source": [
    "print(hash('wynfrith'))"
   ]
  },
  {
   "cell_type": "code",
   "execution_count": null,
   "metadata": {},
   "outputs": [],
   "source": [
    "print(hash('wynfrith'))"
   ]
  },
  {
   "cell_type": "markdown",
   "metadata": {},
   "source": [
    "--- 2019.7.16 ---"
   ]
  },
  {
   "cell_type": "code",
   "execution_count": null,
   "metadata": {},
   "outputs": [],
   "source": [
    "df = pd.read_excel(r'C:\\Users\\Dragon\\Downloads\\短信名单.xlsx')"
   ]
  },
  {
   "cell_type": "code",
   "execution_count": null,
   "metadata": {},
   "outputs": [],
   "source": [
    "df.head()"
   ]
  },
  {
   "cell_type": "code",
   "execution_count": null,
   "metadata": {},
   "outputs": [],
   "source": [
    "n = df.shape[1]"
   ]
  },
  {
   "cell_type": "code",
   "execution_count": null,
   "metadata": {},
   "outputs": [],
   "source": [
    "n"
   ]
  },
  {
   "cell_type": "code",
   "execution_count": null,
   "metadata": {},
   "outputs": [],
   "source": [
    "res = pd.DataFrame()\n",
    "for i in range(int(n/2)):\n",
    "    temp = df.iloc[:,[i*2,i*2+1]]\n",
    "    temp.columns = ['From', 'To']\n",
    "    res = res.append(temp)"
   ]
  },
  {
   "cell_type": "code",
   "execution_count": null,
   "metadata": {},
   "outputs": [],
   "source": [
    "res.info()"
   ]
  },
  {
   "cell_type": "code",
   "execution_count": null,
   "metadata": {},
   "outputs": [],
   "source": [
    "res.drop_duplicates('From',inplace=True)\n",
    "\n",
    "res.dropna(how = 'all',inplace=True)"
   ]
  },
  {
   "cell_type": "code",
   "execution_count": null,
   "metadata": {},
   "outputs": [],
   "source": [
    "m = res.shape[0]\n",
    "print('一共有 {} 人'.format(m))\n",
    "\n",
    "res.to_excel(r'C:\\Users\\Dragon\\Desktop\\名单result.xlsx',index=False)\n",
    "\n",
    "quit = input('是否退出：y/n')\n",
    "\n",
    "if quit == 'y':\n",
    "    exit()"
   ]
  },
  {
   "cell_type": "markdown",
   "metadata": {},
   "source": [
    "--- 2019.7.10 ---"
   ]
  },
  {
   "cell_type": "code",
   "execution_count": null,
   "metadata": {},
   "outputs": [],
   "source": [
    "df = pd.DataFrame({'id':[i for i in range(1,6)],\n",
    "                   'gender':np.random.choice(['f','m'],5),\n",
    "                   'age':np.random.randint(20,30,size = 5),\n",
    "                   'level':pd.date_range('2019/11/03', periods=5)\n",
    "                   })"
   ]
  },
  {
   "cell_type": "code",
   "execution_count": null,
   "metadata": {},
   "outputs": [],
   "source": [
    "df"
   ]
  },
  {
   "cell_type": "code",
   "execution_count": null,
   "metadata": {},
   "outputs": [],
   "source": [
    "pd.get_dummies(df,columns = ['gender','level'])"
   ]
  },
  {
   "cell_type": "code",
   "execution_count": null,
   "metadata": {},
   "outputs": [],
   "source": [
    "df_1 = df.sample(frac=0.6,random_state=42)\n",
    "df_2 = df.drop(df_1.index)"
   ]
  },
  {
   "cell_type": "code",
   "execution_count": null,
   "metadata": {},
   "outputs": [],
   "source": [
    "df_1"
   ]
  },
  {
   "cell_type": "code",
   "execution_count": null,
   "metadata": {},
   "outputs": [],
   "source": [
    "df_2"
   ]
  },
  {
   "cell_type": "code",
   "execution_count": null,
   "metadata": {},
   "outputs": [],
   "source": [
    "df.select_dtypes(include='number')"
   ]
  },
  {
   "cell_type": "code",
   "execution_count": null,
   "metadata": {},
   "outputs": [],
   "source": [
    "df.select_dtypes(include=['number','object'])"
   ]
  },
  {
   "cell_type": "code",
   "execution_count": null,
   "metadata": {},
   "outputs": [],
   "source": [
    "df.select_dtypes(exclude=['datetime'])"
   ]
  },
  {
   "cell_type": "code",
   "execution_count": null,
   "metadata": {},
   "outputs": [],
   "source": [
    "s1 = pd.Series([1,2,3])"
   ]
  },
  {
   "cell_type": "code",
   "execution_count": null,
   "metadata": {},
   "outputs": [],
   "source": [
    "s2 = pd.Series([3,2,1])"
   ]
  },
  {
   "cell_type": "code",
   "execution_count": null,
   "metadata": {},
   "outputs": [],
   "source": [
    "s1 == s2"
   ]
  },
  {
   "cell_type": "code",
   "execution_count": null,
   "metadata": {},
   "outputs": [],
   "source": [
    "s1.equals(s2)"
   ]
  },
  {
   "cell_type": "code",
   "execution_count": null,
   "metadata": {},
   "outputs": [],
   "source": [
    "df = pd.util.testing.makeMixedDataFrame()"
   ]
  },
  {
   "cell_type": "code",
   "execution_count": null,
   "metadata": {},
   "outputs": [],
   "source": [
    "df"
   ]
  },
  {
   "cell_type": "code",
   "execution_count": null,
   "metadata": {},
   "outputs": [],
   "source": [
    "df.info()"
   ]
  },
  {
   "cell_type": "code",
   "execution_count": null,
   "metadata": {},
   "outputs": [],
   "source": [
    "d = {'one' : pd.Series([1, 2, 3], index=['a', 'b', 'c']),\n",
    "      'two' : pd.Series([1, 2, 3, 4], index=['a', 'b', 'c', 'd'])}\n",
    "\n",
    "df = pd.DataFrame(d)"
   ]
  },
  {
   "cell_type": "code",
   "execution_count": null,
   "metadata": {},
   "outputs": [],
   "source": [
    "df"
   ]
  },
  {
   "cell_type": "markdown",
   "metadata": {},
   "source": [
    "--- 2019.6.19 ---"
   ]
  },
  {
   "cell_type": "code",
   "execution_count": null,
   "metadata": {},
   "outputs": [],
   "source": [
    "x = [1,2,3,4,5,6,4,8,95,4]\n",
    "\n",
    "x.count(4)"
   ]
  },
  {
   "cell_type": "code",
   "execution_count": null,
   "metadata": {},
   "outputs": [],
   "source": [
    "s = 'Isa i am ok'\n",
    "if s.startswith('Is'):\n",
    "    print(s)\n",
    "else:\n",
    "    print('Is ' + s)"
   ]
  },
  {
   "cell_type": "code",
   "execution_count": null,
   "metadata": {},
   "outputs": [],
   "source": [
    "import datetime as dt\n",
    "\n",
    "d1 = dt.datetime.now().strftime('%Y-%m-%d %H:%M:%S')\n",
    "\n",
    "print(d1)"
   ]
  },
  {
   "cell_type": "code",
   "execution_count": null,
   "metadata": {},
   "outputs": [],
   "source": [
    "abs.__doc__"
   ]
  },
  {
   "cell_type": "code",
   "execution_count": null,
   "metadata": {},
   "outputs": [],
   "source": [
    "s = 'Isa i am ok'\n",
    "\n",
    "print(s[::-1])"
   ]
  },
  {
   "cell_type": "code",
   "execution_count": null,
   "metadata": {},
   "outputs": [],
   "source": [
    "def lcm(x, y):\n",
    "   if x > y:\n",
    "       z = x\n",
    "   else:\n",
    "       z = y\n",
    "\n",
    "   while(True):\n",
    "       if((z % x == 0) and (z % y == 0)):\n",
    "           lcm = z\n",
    "           break\n",
    "       z += 1\n",
    "\n",
    "   return lcm\n",
    "print(lcm(4, 6))\n",
    "print(lcm(15, 17))"
   ]
  },
  {
   "cell_type": "code",
   "execution_count": null,
   "metadata": {},
   "outputs": [],
   "source": [
    "a,b,c = 1,2,2\n",
    "\n",
    "if a==b or b==c or c==a:\n",
    "    s = 0\n",
    "else:\n",
    "    s = a+b+c\n",
    "\n",
    "s"
   ]
  },
  {
   "cell_type": "code",
   "execution_count": null,
   "metadata": {},
   "outputs": [],
   "source": [
    "a,b,c = 1,2,2\n",
    "\n",
    "(c==a or c==b)"
   ]
  },
  {
   "cell_type": "code",
   "execution_count": null,
   "metadata": {},
   "outputs": [],
   "source": [
    "a,b,c = 16,2,2\n",
    "\n",
    "if a+b >=15 and a+b <=20:\n",
    "    print('20')\n",
    "else:\n",
    "    print(a+b)"
   ]
  },
  {
   "cell_type": "code",
   "execution_count": null,
   "metadata": {},
   "outputs": [],
   "source": [
    "a,b,c = 16,'2',2\n",
    "\n",
    "if type(a) == type(b) == int:\n",
    "    print(a+b)\n",
    "    "
   ]
  },
  {
   "cell_type": "code",
   "execution_count": null,
   "metadata": {},
   "outputs": [],
   "source": [
    "a,b = 16,'2'\n",
    "if not (isinstance(a, int) and isinstance(b, int)):\n",
    "         print(\"Inputs must be integers\")\n",
    "else:\n",
    "    print(a+b)"
   ]
  },
  {
   "cell_type": "code",
   "execution_count": null,
   "metadata": {},
   "outputs": [],
   "source": [
    "x = 4\n",
    "y = 3\n",
    "\n",
    "s = (x+y)^2\n",
    "s2 = pow(x+y,3)\n",
    "print(s)"
   ]
  },
  {
   "cell_type": "code",
   "execution_count": null,
   "metadata": {},
   "outputs": [],
   "source": [
    "amt = 10000\n",
    "ints = 3.5\n",
    "years = 7\n",
    "\n",
    "s = amt * pow((1+ints/100),7)\n",
    "\n",
    "print(round(s,2))"
   ]
  },
  {
   "cell_type": "code",
   "execution_count": null,
   "metadata": {},
   "outputs": [],
   "source": [
    "x1, y1 = 1,1\n",
    "x2, y2 = 2,2\n",
    "\n",
    "s = pow((x2-x1)**2 + (y2-y1)**2,0.5)\n",
    "\n",
    "print(s)"
   ]
  },
  {
   "cell_type": "code",
   "execution_count": null,
   "metadata": {},
   "outputs": [],
   "source": [
    "import os\n",
    "\n",
    "f = open('abc.txt','w')\n",
    "f.close()\n",
    "\n",
    "print(os.path.isfile('abc.txt'))"
   ]
  },
  {
   "cell_type": "code",
   "execution_count": null,
   "metadata": {},
   "outputs": [],
   "source": [
    "import struct\n",
    "print(struct.calcsize(\"P\") * 8)"
   ]
  },
  {
   "cell_type": "code",
   "execution_count": null,
   "metadata": {},
   "outputs": [],
   "source": [
    "import sys\n",
    "sys.version"
   ]
  },
  {
   "cell_type": "code",
   "execution_count": null,
   "metadata": {},
   "outputs": [],
   "source": [
    "import platform\n",
    "import os\n",
    "print(os.name)\n",
    "print(platform.system())\n",
    "print(platform.release())"
   ]
  },
  {
   "cell_type": "code",
   "execution_count": null,
   "metadata": {},
   "outputs": [],
   "source": [
    "import platform,os\n",
    "\n",
    "def main():\n",
    "    print(os.name+'\\n'+platform.system()+'\\n'+platform.release())\n",
    "main()"
   ]
  },
  {
   "cell_type": "code",
   "execution_count": null,
   "metadata": {},
   "outputs": [],
   "source": [
    "import os, sys\n",
    "print(os.path.dirname(os.path.realpath(sys.argv[0])))"
   ]
  },
  {
   "cell_type": "code",
   "execution_count": null,
   "metadata": {},
   "outputs": [],
   "source": [
    "import os\n",
    "print(os.cpu_count())"
   ]
  },
  {
   "cell_type": "code",
   "execution_count": null,
   "metadata": {},
   "outputs": [],
   "source": [
    "s = '1'\n",
    "\n",
    "int(s)"
   ]
  },
  {
   "cell_type": "code",
   "execution_count": null,
   "metadata": {},
   "outputs": [],
   "source": [
    "import os\n",
    "\n",
    "d = os.getcwd()\n",
    "for i in os.listdir(d):\n",
    "    print(i)"
   ]
  },
  {
   "cell_type": "code",
   "execution_count": null,
   "metadata": {},
   "outputs": [],
   "source": [
    "for i in range(10):\n",
    "    print(i,end='')"
   ]
  },
  {
   "cell_type": "code",
   "execution_count": null,
   "metadata": {},
   "outputs": [],
   "source": [
    "import cProfile\n",
    "def sum():\n",
    "    s = 0\n",
    "    for i in range(19999999):\n",
    "        s += i\n",
    "    print(s)\n",
    "cProfile.run('sum()')"
   ]
  },
  {
   "cell_type": "markdown",
   "metadata": {},
   "source": [
    "--- 2019.6.13 ---"
   ]
  },
  {
   "cell_type": "code",
   "execution_count": null,
   "metadata": {},
   "outputs": [],
   "source": [
    "import sys\n",
    "sys.version"
   ]
  },
  {
   "cell_type": "code",
   "execution_count": null,
   "metadata": {},
   "outputs": [],
   "source": [
    "import datetime as dt\n",
    "\n",
    "dt.datetime.now().strftime(\"%Y-%m-%d %H:%M:%S\")"
   ]
  },
  {
   "cell_type": "code",
   "execution_count": null,
   "metadata": {},
   "outputs": [],
   "source": [
    "x = 'abcdefg'\n",
    "# reversed(x)\n",
    "x[::-1]"
   ]
  },
  {
   "cell_type": "code",
   "execution_count": null,
   "metadata": {},
   "outputs": [],
   "source": [
    "abs.__doc__"
   ]
  },
  {
   "cell_type": "code",
   "execution_count": null,
   "metadata": {},
   "outputs": [],
   "source": [
    "import datetime as dt\n",
    "\n",
    "x1 = dt.date(2014, 7, 2)\n",
    "x2 = dt.date(2014, 7, 11)\n",
    "\n",
    "print((x2-x1).days)"
   ]
  },
  {
   "cell_type": "code",
   "execution_count": null,
   "metadata": {},
   "outputs": [],
   "source": [
    "x = input('number:')\n",
    "if float(x) > 17:\n",
    "    print(abs(float(x)-17) * 2)"
   ]
  },
  {
   "cell_type": "code",
   "execution_count": null,
   "metadata": {},
   "outputs": [],
   "source": [
    "float(17.0) > 17"
   ]
  },
  {
   "cell_type": "code",
   "execution_count": null,
   "metadata": {},
   "outputs": [],
   "source": [
    "a,b,c = (3,3,3)\n",
    "\n",
    "if a == b == c:\n",
    "    print(a*3*3)\n",
    "else:\n",
    "    print(a+b+c)"
   ]
  },
  {
   "cell_type": "code",
   "execution_count": null,
   "metadata": {},
   "outputs": [],
   "source": [
    "s = 'a Is i am ok'\n",
    "\n",
    "if s.startswith('Is'):\n",
    "    print(s)\n",
    "else:\n",
    "    print('Is ' + s)"
   ]
  },
  {
   "cell_type": "code",
   "execution_count": null,
   "metadata": {},
   "outputs": [],
   "source": [
    "s = \"this is string example....wow!!!\"\n",
    "\n",
    "s.startswith( 'is', 3, 4 )"
   ]
  },
  {
   "cell_type": "code",
   "execution_count": null,
   "metadata": {},
   "outputs": [],
   "source": [
    "s = \"this is string example....wow!!!\"\n",
    "n = 3\n",
    "\n",
    "print(s*3)"
   ]
  },
  {
   "cell_type": "code",
   "execution_count": null,
   "metadata": {},
   "outputs": [],
   "source": [
    "n = 9\n",
    "\n",
    "if n%2:\n",
    "    print('odd')\n",
    "else:\n",
    "    print('even')"
   ]
  },
  {
   "cell_type": "code",
   "execution_count": null,
   "metadata": {},
   "outputs": [],
   "source": [
    "x = [1,2,3,4,5,4,3,2,1]\n",
    "n = 0\n",
    "for i in x:\n",
    "    if i == 5:\n",
    "        n += 1\n",
    "print(n)"
   ]
  },
  {
   "cell_type": "code",
   "execution_count": null,
   "metadata": {},
   "outputs": [],
   "source": [
    "x.count(4)"
   ]
  },
  {
   "cell_type": "code",
   "execution_count": null,
   "metadata": {},
   "outputs": [],
   "source": [
    "s = 'aeiou'\n",
    "n = 3\n",
    "\n",
    "if len(s) > 2:\n",
    "    print(s[:2]*n)\n",
    "else:\n",
    "    print(s*n)"
   ]
  },
  {
   "cell_type": "code",
   "execution_count": null,
   "metadata": {},
   "outputs": [],
   "source": [
    "'ae' in s"
   ]
  },
  {
   "cell_type": "code",
   "execution_count": null,
   "metadata": {},
   "outputs": [],
   "source": [
    "for i in x:\n",
    "    print('@'*i)\n",
    "#     print('\\n')"
   ]
  },
  {
   "cell_type": "code",
   "execution_count": null,
   "metadata": {},
   "outputs": [],
   "source": [
    "m = ''\n",
    "\n",
    "for i in x:\n",
    "    m = m + str(i)\n",
    "    \n",
    "print(m)"
   ]
  },
  {
   "cell_type": "code",
   "execution_count": null,
   "metadata": {},
   "outputs": [],
   "source": [
    "concat(x)"
   ]
  },
  {
   "cell_type": "code",
   "execution_count": null,
   "metadata": {},
   "outputs": [],
   "source": [
    "numbers = [    \n",
    "    386, 462, 47, 418, 907, 344, 236, 375, 823, 566, 597, 978, 328, 615, 953, 345, \n",
    "    399, 162, 758, 219, 918, 237, 412, 566, 826, 248, 866, 950, 626, 949, 687, 217, \n",
    "    815, 67, 104, 58, 512, 24, 892, 894, 767, 553, 81, 379, 843, 831, 445, 742, 717, \n",
    "    958,743, 527\n",
    "    ]\n",
    "\n",
    "for i in numbers:\n",
    "    if i == 237:\n",
    "        break\n",
    "    elif i%2==0:\n",
    "        print(i)"
   ]
  },
  {
   "cell_type": "code",
   "execution_count": null,
   "metadata": {},
   "outputs": [],
   "source": [
    "color_list_1 = set([\"White\", \"Black\", \"Red\"]) \n",
    "color_list_2 = set([\"Red\", \"Green\"])\n",
    "\n",
    "color_list_1 - color_list_2"
   ]
  },
  {
   "cell_type": "code",
   "execution_count": null,
   "metadata": {},
   "outputs": [],
   "source": [
    "int(17 / 2)"
   ]
  },
  {
   "cell_type": "code",
   "execution_count": null,
   "metadata": {},
   "outputs": [],
   "source": [
    "a = 3\n",
    "b = 9\n",
    "while b:\n",
    "    a,b=b,a%b\n",
    "print(a)"
   ]
  },
  {
   "cell_type": "code",
   "execution_count": null,
   "metadata": {},
   "outputs": [],
   "source": [
    "def gcd(x, y):\n",
    "    gcd = 1\n",
    "    \n",
    "    if x % y == 0:\n",
    "        return y\n",
    "    \n",
    "    for k in range(y, 0, -1):\n",
    "        if x % k == 0 and y % k == 0:\n",
    "            gcd = k\n",
    "            break  \n",
    "    return gcd\n",
    "\n",
    "print(gcd(12, 17))\n",
    "print(gcd(14, 16))"
   ]
  },
  {
   "cell_type": "markdown",
   "metadata": {},
   "source": [
    "--- line ---"
   ]
  },
  {
   "cell_type": "code",
   "execution_count": null,
   "metadata": {},
   "outputs": [],
   "source": [
    "import datetime\n",
    "print('Current date and time : ')\n",
    "print(datetime.datetime.now())\n",
    "print(datetime.datetime.now().strftime('%Y-%m-%d %H:%M:%S'))"
   ]
  },
  {
   "cell_type": "code",
   "execution_count": null,
   "metadata": {},
   "outputs": [],
   "source": [
    "import time\n",
    "print(time.ctime())"
   ]
  },
  {
   "cell_type": "code",
   "execution_count": null,
   "metadata": {},
   "outputs": [],
   "source": [
    "import math\n",
    "r = input('r:')\n",
    "area = float(r)**2 * math.pi\n",
    "print(area)"
   ]
  },
  {
   "cell_type": "code",
   "execution_count": null,
   "metadata": {},
   "outputs": [],
   "source": [
    "fname = input('first name:')\n",
    "lname = input('last name:')\n",
    "print(lname,' ',fname)\n",
    "print(''.join(reversed(lname+' '+fname)))"
   ]
  },
  {
   "cell_type": "code",
   "execution_count": null,
   "metadata": {},
   "outputs": [],
   "source": [
    "def reverse_slicing(s):\n",
    "    return s[::-1]\n",
    "\n",
    "input_str = 'ABç∂EF'\n",
    "\n",
    "if __name__ == \"__main__\":\n",
    "    print('Reverse String using slicing =', reverse_slicing(input_str))"
   ]
  },
  {
   "cell_type": "code",
   "execution_count": null,
   "metadata": {},
   "outputs": [],
   "source": [
    "sample = input('number')\n",
    "l = list(sample.split(','))\n",
    "t = tuple(sample.split(','))\n",
    "print(l)\n",
    "print(t)"
   ]
  },
  {
   "cell_type": "code",
   "execution_count": null,
   "metadata": {},
   "outputs": [],
   "source": [
    "filename = input('filename:')\n",
    "ext = filename.split('.')[-1]\n",
    "print('Output :',ext)"
   ]
  },
  {
   "cell_type": "code",
   "execution_count": null,
   "metadata": {},
   "outputs": [],
   "source": [
    "color  = [\"Red\",\"Green\",\"White\" ,\"Black\"]\n",
    "print('1st color:',color[0])\n",
    "print('last color:',color[-1])"
   ]
  },
  {
   "cell_type": "code",
   "execution_count": null,
   "metadata": {},
   "outputs": [],
   "source": [
    "n = (input('number:'))\n",
    "print('Result :',int(n) + int(n*2) + int(n*3))"
   ]
  },
  {
   "cell_type": "code",
   "execution_count": null,
   "metadata": {},
   "outputs": [],
   "source": [
    "print(abs.__doc__)"
   ]
  },
  {
   "cell_type": "code",
   "execution_count": null,
   "metadata": {},
   "outputs": [],
   "source": [
    "import calendar\n",
    "y = int(input(\"Input the year : \"))\n",
    "m = int(input(\"Input the month : \"))\n",
    "print(calendar.month(y, m))"
   ]
  },
  {
   "cell_type": "code",
   "execution_count": null,
   "metadata": {},
   "outputs": [],
   "source": [
    "print('''\n",
    "a string that you \"don\\'t\" have to escape\n",
    "This\n",
    "is a ....... multi-line\n",
    "heredoc string --------> example\n",
    "''')"
   ]
  },
  {
   "cell_type": "code",
   "execution_count": null,
   "metadata": {},
   "outputs": [],
   "source": [
    "import datetime as dt\n",
    "d1 = dt.date(2014, 7, 2)\n",
    "d2 = dt.date(2014, 7, 11)\n",
    "d = d2-d1\n",
    "print('gap:',d.days)"
   ]
  },
  {
   "cell_type": "code",
   "execution_count": null,
   "metadata": {},
   "outputs": [],
   "source": [
    "import math\n",
    "r = 6\n",
    "print('sphere:', 4/3 * math.pi * (r**3))"
   ]
  },
  {
   "cell_type": "markdown",
   "metadata": {},
   "source": [
    "--- line ---"
   ]
  },
  {
   "cell_type": "code",
   "execution_count": null,
   "metadata": {},
   "outputs": [],
   "source": [
    "import baostock as bs"
   ]
  },
  {
   "cell_type": "code",
   "execution_count": null,
   "metadata": {},
   "outputs": [],
   "source": [
    "#### 登陆系统 ####\n",
    "lg = bs.login()\n",
    "# 显示登陆返回信息\n",
    "print('login respond error_code:'+lg.error_code)\n",
    "print('login respond  error_msg:'+lg.error_msg)"
   ]
  },
  {
   "cell_type": "code",
   "execution_count": null,
   "metadata": {},
   "outputs": [],
   "source": [
    "#### 获取历史K线数据 ####\n",
    "# 详细指标参数，参见“历史行情指标参数”章节\n",
    "rs = bs.query_history_k_data_plus(\"sh.000001\",\n",
    "    \"date,code,open,high,low,close,preclose,volume,amount,adjustflag,turn,tradestatus,pctChg,peTTM,pbMRQ,psTTM,pcfNcfTTM,isST\",\n",
    "    start_date='2006-06-01', \n",
    "    frequency=\"d\", adjustflag=\"3\") #frequency=\"d\"取日k线，adjustflag=\"3\"默认不复权\n",
    "print('query_history_k_data_plus respond error_code:'+rs.error_code)\n",
    "print('query_history_k_data_plus respond  error_msg:'+rs.error_msg)"
   ]
  },
  {
   "cell_type": "code",
   "execution_count": null,
   "metadata": {
    "scrolled": true
   },
   "outputs": [],
   "source": [
    "#### 打印结果集 ####\n",
    "data_list = []\n",
    "while (rs.error_code == '0') & rs.next():\n",
    "    # 获取一条记录，将记录合并在一起\n",
    "    data_list.append(rs.get_row_data())\n",
    "result = pd.DataFrame(data_list, columns=rs.fields)\n",
    "#### 结果集输出到csv文件 ####\n",
    "result.to_csv(\"D:/history_k_data.csv\", encoding=\"gbk\", index=False)\n",
    "print('result')"
   ]
  },
  {
   "cell_type": "code",
   "execution_count": null,
   "metadata": {},
   "outputs": [],
   "source": [
    "result.head()"
   ]
  },
  {
   "cell_type": "markdown",
   "metadata": {},
   "source": [
    "--- line ---"
   ]
  },
  {
   "cell_type": "code",
   "execution_count": null,
   "metadata": {},
   "outputs": [],
   "source": [
    "import tushare as ts"
   ]
  },
  {
   "cell_type": "code",
   "execution_count": null,
   "metadata": {},
   "outputs": [],
   "source": [
    "pro = ts.pro_api()"
   ]
  },
  {
   "cell_type": "code",
   "execution_count": null,
   "metadata": {},
   "outputs": [],
   "source": [
    "pro = ts.pro_api('38a19bf305ac51e9a8e2f44bde3879cdb80723985cb204869d04c401')"
   ]
  },
  {
   "cell_type": "code",
   "execution_count": null,
   "metadata": {},
   "outputs": [],
   "source": [
    "df = pro.daily(ts_code='601766.SH', start_date='20060101', end_date='20190512')"
   ]
  },
  {
   "cell_type": "code",
   "execution_count": null,
   "metadata": {},
   "outputs": [],
   "source": [
    "df.head()"
   ]
  },
  {
   "cell_type": "code",
   "execution_count": null,
   "metadata": {},
   "outputs": [],
   "source": [
    "df.to_excel('601766SH.xlsx')"
   ]
  },
  {
   "cell_type": "code",
   "execution_count": null,
   "metadata": {
    "scrolled": true
   },
   "outputs": [],
   "source": [
    "ts.get_h_data('000001', index=True)"
   ]
  },
  {
   "cell_type": "code",
   "execution_count": null,
   "metadata": {},
   "outputs": [],
   "source": [
    "df = ts.get_h_data('000001', index=True)"
   ]
  },
  {
   "cell_type": "code",
   "execution_count": null,
   "metadata": {},
   "outputs": [],
   "source": [
    "df.to_excel('000001.xlsx')"
   ]
  },
  {
   "cell_type": "markdown",
   "metadata": {},
   "source": [
    "--- line ---"
   ]
  },
  {
   "cell_type": "code",
   "execution_count": null,
   "metadata": {},
   "outputs": [],
   "source": [
    "df = pd.DataFrame(np.arange(15).reshape(5,3),columns=['col1','col2','col3'])"
   ]
  },
  {
   "cell_type": "code",
   "execution_count": null,
   "metadata": {},
   "outputs": [],
   "source": [
    "df"
   ]
  },
  {
   "cell_type": "code",
   "execution_count": null,
   "metadata": {},
   "outputs": [],
   "source": [
    "for row,row_value in df.iterrows():\n",
    "   print (row,':',type(row_value))"
   ]
  },
  {
   "cell_type": "code",
   "execution_count": null,
   "metadata": {},
   "outputs": [],
   "source": [
    "d = {'one' : pd.Series([1, 2, 3], index=['a', 'b', 'c']),\n",
    "      'two' : pd.Series([1, 2, 3, 4], index=['a', 'b', 'c', 'd'])}\n",
    "\n",
    "df = pd.DataFrame(d)"
   ]
  },
  {
   "cell_type": "code",
   "execution_count": null,
   "metadata": {},
   "outputs": [],
   "source": [
    "df"
   ]
  },
  {
   "cell_type": "code",
   "execution_count": null,
   "metadata": {},
   "outputs": [],
   "source": [
    "df.select_dtypes(include=[np.number])"
   ]
  },
  {
   "cell_type": "code",
   "execution_count": null,
   "metadata": {},
   "outputs": [],
   "source": [
    "df.select_dtypes(exclude=['int64'])"
   ]
  },
  {
   "cell_type": "code",
   "execution_count": null,
   "metadata": {},
   "outputs": [],
   "source": [
    "df.dtypes"
   ]
  },
  {
   "cell_type": "code",
   "execution_count": null,
   "metadata": {},
   "outputs": [],
   "source": [
    "pd.crosstab(a,b)"
   ]
  },
  {
   "cell_type": "code",
   "execution_count": null,
   "metadata": {},
   "outputs": [],
   "source": [
    "a = np.array([\"foo\", \"foo\", \"foo\", \"foo\", \"bar\", \"bar\",\"bar\", \"bar\", \"foo\", \"foo\", \"foo\"], dtype=object)\n",
    "b = np.array([\"one\", \"one\", \"one\", \"two\", \"one\", \"one\",\"one\", \"two\", \"two\", \"two\", \"one\"], dtype=object)\n",
    "c = np.array([\"dull\", \"dull\", \"shiny\", \"dull\", \"dull\", \"shiny\",\"shiny\", \"dull\", \"shiny\", \"shiny\", \"shiny\"],dtype=object)"
   ]
  },
  {
   "cell_type": "code",
   "execution_count": null,
   "metadata": {},
   "outputs": [],
   "source": [
    "a"
   ]
  },
  {
   "cell_type": "code",
   "execution_count": null,
   "metadata": {},
   "outputs": [],
   "source": [
    "b"
   ]
  },
  {
   "cell_type": "code",
   "execution_count": null,
   "metadata": {},
   "outputs": [],
   "source": [
    "data = {'Name':['Tom','James','Ricky'],\n",
    "        'Age':[25,26,25],\n",
    "        'Rating':[4.23,3.24,3.98]\n",
    "        }\n",
    "\n",
    "df = pd.DataFrame(data)"
   ]
  },
  {
   "cell_type": "code",
   "execution_count": null,
   "metadata": {},
   "outputs": [],
   "source": [
    "pd.crosstab(df.Age,df.Rating)"
   ]
  },
  {
   "cell_type": "code",
   "execution_count": null,
   "metadata": {},
   "outputs": [],
   "source": [
    "df = pd.DataFrame({'a':np.random.randn(1000)+1,\n",
    "                   'b':np.random.randn(1000),\n",
    "                   'c':np.random.randn(1000) - 1},\n",
    "                   columns=['a', 'b', 'c'])\n",
    "\n",
    "# 直方图，按列分图\n",
    "df.plot.hist(bins=50)      # 列合并在一张图，参数bins表示宽度"
   ]
  },
  {
   "cell_type": "code",
   "execution_count": null,
   "metadata": {},
   "outputs": [],
   "source": [
    "df.hist(bins=20)      # 几列就几张图"
   ]
  },
  {
   "cell_type": "markdown",
   "metadata": {},
   "source": [
    "--- line ---"
   ]
  },
  {
   "cell_type": "code",
   "execution_count": null,
   "metadata": {},
   "outputs": [],
   "source": [
    "#首先定义一个字典，用来存放二维表格中的数据，并映射列名和对应列的值\n",
    "salesDict = {\n",
    "     '购药时间':[\"2018-01-01 星期五\",\"2018-01-02 星期六\",\"2018-01-03 星期日\"],\n",
    "     '社保卡号':['001616528','001616528','0012602828'],\n",
    "     '商品编码':[236701,236701,236701],\n",
    "     '商品名称':['强力VC银翘片','清热解毒口服液','感康'],\n",
    "     '销售数量':[6,1,2],\n",
    "     '应收金额':[82.8,28,16.8],\n",
    "     '实收金额':[69,24.64,15]\n",
    "     }"
   ]
  },
  {
   "cell_type": "code",
   "execution_count": null,
   "metadata": {},
   "outputs": [],
   "source": [
    "#接着使用DataFrame方法来定义数据框，将字典作为参数传入其中\n",
    "salesDf = pd.DataFrame(salesDict)"
   ]
  },
  {
   "cell_type": "code",
   "execution_count": null,
   "metadata": {},
   "outputs": [],
   "source": [
    "salesDf"
   ]
  },
  {
   "cell_type": "code",
   "execution_count": null,
   "metadata": {},
   "outputs": [],
   "source": [
    "from collections import OrderedDict"
   ]
  },
  {
   "cell_type": "code",
   "execution_count": null,
   "metadata": {},
   "outputs": [],
   "source": [
    "#首先定义一个字典，用来存放二维表格中的数据，并映射列名和对应列的值\n",
    "salesOrderDict = OrderedDict([\\\n",
    "     ('购药时间',[\"2018-01-01 星期五\",\"2018-01-02 星期六\",\"2018-01-03 星期日\"]),\\\n",
    "     ('社保卡号',['001616528','001616528','0012602828']),\\\n",
    "     ('商品编码',[236701,236701,236701]),\\\n",
    "     ('商品名称',['强力VC银翘片','清热解毒口服液','感康']),\\\n",
    "     ('销售数量',[6,1,2]),\\\n",
    "     ('应收金额',[82.8,28,16.8]),\\\n",
    "     ('实收金额',[69,24.64,15])\\\n",
    "     ])"
   ]
  },
  {
   "cell_type": "code",
   "execution_count": null,
   "metadata": {},
   "outputs": [],
   "source": [
    "#接着使用DataFrame方法来定义数据框，将字典作为参数传入其中\n",
    "salesDf = pd.DataFrame(salesOrderDict)"
   ]
  },
  {
   "cell_type": "code",
   "execution_count": null,
   "metadata": {},
   "outputs": [],
   "source": [
    "salesDf"
   ]
  },
  {
   "cell_type": "code",
   "execution_count": null,
   "metadata": {},
   "outputs": [],
   "source": [
    "salesDf.mean() #按每列来求平均值"
   ]
  },
  {
   "cell_type": "code",
   "execution_count": null,
   "metadata": {},
   "outputs": [],
   "source": [
    "salesDf.iloc[1,3] #根据行号列号查询"
   ]
  },
  {
   "cell_type": "code",
   "execution_count": null,
   "metadata": {},
   "outputs": [],
   "source": [
    "salesDf.iloc[1,:] #获取第2行全部数据"
   ]
  },
  {
   "cell_type": "code",
   "execution_count": null,
   "metadata": {},
   "outputs": [],
   "source": [
    "salesDf.iloc[:3,1] #第2列的第1至3行"
   ]
  },
  {
   "cell_type": "code",
   "execution_count": null,
   "metadata": {},
   "outputs": [],
   "source": [
    "salesDf.loc[0,'实收金额']"
   ]
  },
  {
   "cell_type": "code",
   "execution_count": null,
   "metadata": {},
   "outputs": [],
   "source": [
    "salesDf.loc[0,:] #获取第一行数据"
   ]
  },
  {
   "cell_type": "code",
   "execution_count": null,
   "metadata": {},
   "outputs": [],
   "source": [
    "salesDf.loc[0:3,'销售数量']"
   ]
  },
  {
   "cell_type": "code",
   "execution_count": null,
   "metadata": {},
   "outputs": [],
   "source": [
    "salesDf.loc[:,'商品名称':'销售数量']"
   ]
  },
  {
   "cell_type": "code",
   "execution_count": null,
   "metadata": {},
   "outputs": [],
   "source": [
    "querySer = salesDf.loc[:,'销售数量']>1"
   ]
  },
  {
   "cell_type": "code",
   "execution_count": null,
   "metadata": {},
   "outputs": [],
   "source": [
    "querySer"
   ]
  },
  {
   "cell_type": "code",
   "execution_count": null,
   "metadata": {},
   "outputs": [],
   "source": [
    "salesDf = pd.read_excel('..\\data\\朝阳医院2016年销售数据.xlsx')"
   ]
  },
  {
   "cell_type": "code",
   "execution_count": null,
   "metadata": {},
   "outputs": [],
   "source": [
    "salesDf.head(5)"
   ]
  },
  {
   "cell_type": "code",
   "execution_count": null,
   "metadata": {},
   "outputs": [],
   "source": [
    "salesDf.loc[:,'实收金额'].dtype"
   ]
  },
  {
   "cell_type": "code",
   "execution_count": null,
   "metadata": {},
   "outputs": [],
   "source": [
    "salesDf.shape"
   ]
  },
  {
   "cell_type": "code",
   "execution_count": null,
   "metadata": {},
   "outputs": [],
   "source": [
    "salesDf.describe()"
   ]
  },
  {
   "cell_type": "code",
   "execution_count": null,
   "metadata": {},
   "outputs": [],
   "source": [
    "subSalesDf = salesDf.loc[0:3,'购药时间':'商品名称']"
   ]
  },
  {
   "cell_type": "code",
   "execution_count": null,
   "metadata": {},
   "outputs": [],
   "source": [
    "subSalesDf"
   ]
  },
  {
   "cell_type": "code",
   "execution_count": null,
   "metadata": {},
   "outputs": [],
   "source": [
    "colNameDict = {'购药时间':'销售时间'} #先建立旧列名与新列名对应的字典关系\n",
    "salesDf.rename(columns = colNameDict,inplace = True) #再重命名\n",
    "salesDf.head(5)"
   ]
  },
  {
   "cell_type": "code",
   "execution_count": null,
   "metadata": {},
   "outputs": [],
   "source": [
    "salesDf = salesDf.dropna(subset = ['销售时间','社保卡号'], how = 'any')\n",
    "print('删除后的行数列数',salesDf.shape)"
   ]
  },
  {
   "cell_type": "markdown",
   "metadata": {},
   "source": [
    "--- line ---"
   ]
  },
  {
   "cell_type": "code",
   "execution_count": null,
   "metadata": {},
   "outputs": [],
   "source": [
    "print('\\n派券系统启动!\\n')\n",
    "os.chdir(r'C:\\百度云同步盘\\小鸡理财\\每日数据\\派券')\n",
    "\n",
    "start = time.time()"
   ]
  },
  {
   "cell_type": "code",
   "execution_count": null,
   "metadata": {},
   "outputs": [],
   "source": [
    "# 导入待派券名单\n",
    "with pd.ExcelFile(r'C:\\百度云同步盘\\小鸡理财\\每日数据\\派券\\5月派券.xlsx') as xlsx:\n",
    "    df_cg = pd.read_excel(xlsx,'存管回款')\n",
    "    df_quan = pd.read_excel(xlsx,'券')\n",
    "    df_quaned = pd.read_excel(xlsx,'已派券')\n",
    "    df_quan_used = pd.read_excel(xlsx,'券使用')"
   ]
  },
  {
   "cell_type": "code",
   "execution_count": null,
   "metadata": {},
   "outputs": [],
   "source": [
    "df_cg.head()"
   ]
  },
  {
   "cell_type": "code",
   "execution_count": null,
   "metadata": {},
   "outputs": [],
   "source": [
    "# 合并回款表\n",
    "df_hk = df_cg.copy()"
   ]
  },
  {
   "cell_type": "code",
   "execution_count": null,
   "metadata": {},
   "outputs": [],
   "source": [
    "# 整理回款表\n",
    "df_hk['发放时间'] = pd.to_datetime(df_hk['预计本次发放时间'])\n",
    "del df_hk['预计本次发放时间']"
   ]
  },
  {
   "cell_type": "code",
   "execution_count": null,
   "metadata": {},
   "outputs": [],
   "source": [
    "dtnow = pd.to_datetime('today')\n",
    "day_of_week = dtnow.day_name()\n",
    "dt_hour = pd.datetime.now().hour\n",
    "print('Today is ',day_of_week)"
   ]
  },
  {
   "cell_type": "code",
   "execution_count": null,
   "metadata": {},
   "outputs": [],
   "source": [
    "if day_of_week == 'Tuesday':\n",
    "\tprint('---happy 周末 !---\\n')\n",
    "\n",
    "\ttimediff = pd.Timedelta(1,unit='d')\n",
    "\tdt_ff_1 = dtnow + timediff\n",
    "\tdt_ff_1 = dt_ff_1.strftime('%Y.%m.%d')\n",
    "    \n",
    "    # 周末天数，默认 2 天\n",
    "\tweekend_num = 4\n",
    "\ttimediff = pd.Timedelta(weekend_num,unit='d')\n",
    "\tdt_ff_2 = dtnow + timediff\n",
    "\tdt_ff_2 = dt_ff_2.strftime('%Y.%m.%d')\n",
    "\n",
    "\tdf_hk_today = df_hk[(df_hk['发放时间'] >= dt_ff_1) & (df_hk['发放时间'] <= dt_ff_2)]\n",
    "\n",
    "\tdt_ff = str(dt_ff_1) + '-' + str(dt_ff_2)\n",
    "elif day_of_week == 'Sunday' and dt_hour < 12:\n",
    "\tprint('---上班干活!---\\n')\n",
    "\ttimediff = pd.Timedelta(0,unit='d')\n",
    "\tdt_ff = dtnow + timediff\n",
    "\tdt_ff = dt_ff.strftime('%Y.%m.%d')\n",
    "\n",
    "\tdf_hk_today = df_hk[(df_hk['发放时间'] == dt_ff)]\n",
    "else:\n",
    "\tprint('---平时 is choosed!---\\n')\n",
    "\ttimediff = pd.Timedelta(1,unit='d')\n",
    "\tdt_ff = dtnow + timediff\n",
    "\tdt_ff = dt_ff.strftime('%Y.%m.%d')\n",
    "\tdf_hk_today = df_hk[(df_hk['发放时间'] == dt_ff)]"
   ]
  },
  {
   "cell_type": "code",
   "execution_count": null,
   "metadata": {},
   "outputs": [],
   "source": [
    "# 归类\n",
    "class_pai = dict({360:'派券2',\n",
    "                  180:'派券2',\n",
    "                  90:'派券1',\n",
    "                  30:'派券1'})\n",
    "df_hk_today = df_hk_today.copy()\n",
    "df_hk_today['分类'] = df_hk_today.loc[:,'投资期限'].map(class_pai)"
   ]
  },
  {
   "cell_type": "code",
   "execution_count": null,
   "metadata": {},
   "outputs": [],
   "source": [
    "df_hk_today.head()"
   ]
  },
  {
   "cell_type": "code",
   "execution_count": null,
   "metadata": {},
   "outputs": [],
   "source": [
    "# 记录回款人数和金额\n",
    "hk_pp = df_hk_today['会员名'].nunique()\n",
    "hk_money = round(df_hk_today['本次发放金额'].sum() / 10000)"
   ]
  },
  {
   "cell_type": "code",
   "execution_count": null,
   "metadata": {},
   "outputs": [],
   "source": [
    "# 合并计算，排除当日回款金额小于 0 元\n",
    "# 排除总金额 < 0\n",
    "gp_hk = df_hk_today.groupby('会员名',as_index=False)['本次发放金额'].sum()\n",
    "l500 = gp_hk[gp_hk['本次发放金额'] >= 0]['会员名']\n",
    "# l500\n",
    "df_hk_today_res_1 = df_hk_today[df_hk_today['会员名'].isin(l500)]\n",
    "# 记录回款金额小于500元的人数\n",
    "pp_500 = gp_hk[gp_hk['本次发放金额'] < 0]['会员名']\n",
    "pp_500_num = len(pp_500)"
   ]
  },
  {
   "cell_type": "code",
   "execution_count": null,
   "metadata": {},
   "outputs": [],
   "source": [
    "# 排除有 3 张券以上的人\n",
    "df_quan['mark'] = 1\n",
    "df_quan_1 = df_quan[~(df_quan['大类'] == '现金券')]\t# 排除现金券\n",
    "gp_quan = df_quan_1.groupby('会员名',as_index=False)['mark'].sum()\n",
    "q3 = gp_quan[gp_quan['mark'] >= 3]['会员名']\n",
    "df_hk_today_res_2 = df_hk_today_res_1[~(df_hk_today_res_1['会员名'].isin(q3))]\n",
    "# 记录拥有 3 张券以上的人数\n",
    "df_q3 = df_hk_today[df_hk_today['会员名'].isin(q3)]\n",
    "df_q3_num = df_q3['会员名'].nunique()"
   ]
  },
  {
   "cell_type": "code",
   "execution_count": null,
   "metadata": {},
   "outputs": [],
   "source": [
    "# 排除已经派了 4 次的人\n",
    "df_quaned_select = df_quaned.loc[df_quaned['券别名'].isin(['小鸡春季福利（5）','小鸡春季福利（7）']),:]\n",
    "gp_quaned = df_quaned_select.groupby('会员名',as_index=False)['ID'].count()\n",
    "p4 = gp_quaned[gp_quaned['ID'] >= 4]\n",
    "df_hk_today_res_3 = df_hk_today_res_2[~(df_hk_today_res_2['会员名'].isin(p4['会员名']))]\n",
    "# 记录已经发放 4 次券包的人数\n",
    "df_p4 = df_hk_today[df_hk_today['会员名'].isin(p4['会员名'])]\n",
    "df_p4_num = df_p4['会员名'].nunique()"
   ]
  },
  {
   "cell_type": "code",
   "execution_count": null,
   "metadata": {},
   "outputs": [],
   "source": [
    "# 确定要派哪类券\n",
    "gp_class = df_hk_today_res_3.groupby(['会员名','真实姓名','分类'])['本次发放金额'].sum().unstack()\n",
    "gp_class.fillna(0,inplace=True)"
   ]
  },
  {
   "cell_type": "code",
   "execution_count": null,
   "metadata": {},
   "outputs": [],
   "source": [
    "gp_class.head()"
   ]
  },
  {
   "cell_type": "code",
   "execution_count": null,
   "metadata": {},
   "outputs": [],
   "source": [
    "if len(gp_class.columns) == 1:\n",
    "\tgp_class['派券分类'] = gp_class.columns[0]\n",
    "else:\n",
    "\tgp_class['派券分类'] = np.where(gp_class['派券2'] == 0,'派券1','派券2')\n",
    "\n",
    "print('名单整理完成! 开始导出EXCEL...')\n",
    "\n",
    "# 查找用户名等信息\n",
    "res_temp = gp_class.copy()\n",
    "res_temp = res_temp.reset_index()\n",
    "res = res_temp.loc[:,['会员名','真实姓名','派券分类']]\n",
    "# 记录本次派券人数\n",
    "p_num_13 = res.loc[res['派券分类']=='派券1','会员名'].nunique()\n",
    "p_num_612 = res.loc[res['派券分类']=='派券2','会员名'].nunique()\n",
    "p_num = res['会员名'].nunique()\n",
    "\n",
    "# 导出到表格\n",
    "name = str(dt_ff) + '派券名单' + '.xlsx'\n",
    "res.to_excel(name)\n",
    "\n",
    "print('名单导出完成!')\n",
    "\n",
    "write_time = time.time()\n",
    "\n",
    "print('本次派券运行: {:.2f} s\\n'.format(write_time-start))\n",
    "\n",
    "\n",
    "print('''\n",
    "TO 财务部：\n",
    "\n",
    "附件是 {} 派券名单!\n",
    "\t'''.format(dt_ff))\n",
    "print('{} 回款信息:共发放 {:.0f} 人，合计发放金额 {:.0f} 万元。'.format(dt_ff,hk_pp,hk_money))\n",
    "\n",
    "# print('其中发放金额小于500元 {} 人，当日拥有3张券及以上的 {} 人，当月已发放3次券包的 {} 人。\\n\\n{} 需派 券包1: {} 人，券包2: {} 人，合计 {} 人！'.format(\n",
    "#         pp_500_num,df_q3_num,df_p4_num,dt_ff,p_num_13,p_num_612,p_num))\n",
    "\n",
    "print('其中当日拥有3张券及以上的 {} 人，当月已发放4次券包的 {} 人。\\n\\n{} 需派 券包1: {} 人，券包2: {} 人，合计 {} 人！'.format(\n",
    "        df_q3_num,df_p4_num,dt_ff,p_num_13,p_num_612,p_num))"
   ]
  },
  {
   "cell_type": "markdown",
   "metadata": {},
   "source": [
    "--- line ---"
   ]
  },
  {
   "cell_type": "code",
   "execution_count": null,
   "metadata": {},
   "outputs": [],
   "source": [
    "pd.DataFrame(np.arange(20).reshape(4,5),index=list('cabd'))"
   ]
  },
  {
   "cell_type": "code",
   "execution_count": null,
   "metadata": {},
   "outputs": [],
   "source": [
    "data = {'Name':['Tom','James','Ricky','Vin','Steve','Minsu','Jack'],\n",
    "        'Age':[25,26,25,23,30,29,23],\n",
    "        'Rating':[4.23,3.24,3.98,2.56,3.20,4.6,3.8]\n",
    "        }\n",
    "\n",
    "df = pd.DataFrame(data)"
   ]
  },
  {
   "cell_type": "code",
   "execution_count": null,
   "metadata": {},
   "outputs": [],
   "source": [
    "df.columns.delete(2)"
   ]
  },
  {
   "cell_type": "code",
   "execution_count": null,
   "metadata": {},
   "outputs": [],
   "source": [
    "df.columns.insert(2,'insert_column')"
   ]
  },
  {
   "cell_type": "code",
   "execution_count": null,
   "metadata": {},
   "outputs": [],
   "source": [
    "df = pd.DataFrame([[1, 2], [3, 4]], columns = ['a','b'])"
   ]
  },
  {
   "cell_type": "code",
   "execution_count": null,
   "metadata": {},
   "outputs": [],
   "source": [
    "df"
   ]
  },
  {
   "cell_type": "code",
   "execution_count": null,
   "metadata": {},
   "outputs": [],
   "source": [
    "df.insert(1,'insert',value=9)"
   ]
  },
  {
   "cell_type": "code",
   "execution_count": null,
   "metadata": {},
   "outputs": [],
   "source": [
    "df"
   ]
  },
  {
   "cell_type": "code",
   "execution_count": null,
   "metadata": {},
   "outputs": [],
   "source": [
    "df.columns.insert(1,'insert')"
   ]
  },
  {
   "cell_type": "code",
   "execution_count": null,
   "metadata": {},
   "outputs": [],
   "source": [
    "df"
   ]
  },
  {
   "cell_type": "code",
   "execution_count": null,
   "metadata": {},
   "outputs": [],
   "source": [
    "d = {'one' : pd.Series([1, 2, 3], index=['a', 'b', 'c']),\n",
    "     'two' : pd.Series([1, 2, 3, 4], index=['a', 'b', 'c', 'd']),\n",
    "     'three' : pd.Series([10,20,30], index=['a','b','c'])}"
   ]
  },
  {
   "cell_type": "code",
   "execution_count": null,
   "metadata": {},
   "outputs": [],
   "source": [
    "df = pd.DataFrame(d)"
   ]
  },
  {
   "cell_type": "code",
   "execution_count": null,
   "metadata": {},
   "outputs": [],
   "source": [
    "df"
   ]
  },
  {
   "cell_type": "code",
   "execution_count": null,
   "metadata": {},
   "outputs": [],
   "source": [
    "df.drop('one',axis=1)"
   ]
  },
  {
   "cell_type": "code",
   "execution_count": null,
   "metadata": {},
   "outputs": [],
   "source": [
    "df"
   ]
  },
  {
   "cell_type": "code",
   "execution_count": null,
   "metadata": {},
   "outputs": [],
   "source": [
    "df.columns.delete(2)"
   ]
  },
  {
   "cell_type": "code",
   "execution_count": null,
   "metadata": {},
   "outputs": [],
   "source": [
    "df.index.delete(2)"
   ]
  },
  {
   "cell_type": "code",
   "execution_count": null,
   "metadata": {},
   "outputs": [],
   "source": [
    "df = pd.DataFrame({'c2':np.random.randn(10),\n",
    "                  'c3':np.random.randn(10)})"
   ]
  },
  {
   "cell_type": "code",
   "execution_count": null,
   "metadata": {},
   "outputs": [],
   "source": [
    "df"
   ]
  },
  {
   "cell_type": "code",
   "execution_count": null,
   "metadata": {},
   "outputs": [],
   "source": [
    "def func(x):\n",
    "    print('1-')\n",
    "    print(type(x))\n",
    "    print('-1')\n",
    "    level = x.apply(lambda x:'1' if x >=0 else '0')\n",
    "    print('2-')\n",
    "    print(level)\n",
    "    print('-2')    \n",
    "    label = level.c3\n",
    "    d = {'0':'no','1':'yes'}\n",
    "    result = d[label]\n",
    "    return result"
   ]
  },
  {
   "cell_type": "code",
   "execution_count": null,
   "metadata": {
    "scrolled": true
   },
   "outputs": [],
   "source": [
    "df.label = df.apply(func,axis=1)"
   ]
  },
  {
   "cell_type": "code",
   "execution_count": null,
   "metadata": {},
   "outputs": [],
   "source": [
    "df.label"
   ]
  },
  {
   "cell_type": "code",
   "execution_count": null,
   "metadata": {},
   "outputs": [],
   "source": []
  },
  {
   "cell_type": "code",
   "execution_count": null,
   "metadata": {},
   "outputs": [],
   "source": [
    "list('abcdefg')"
   ]
  },
  {
   "cell_type": "code",
   "execution_count": null,
   "metadata": {},
   "outputs": [],
   "source": [
    "np.random.rand(10)"
   ]
  },
  {
   "cell_type": "code",
   "execution_count": null,
   "metadata": {},
   "outputs": [],
   "source": [
    "df = pd.DataFrame({'c1':list('abcabcabca'),\n",
    "                  'c2':list('klmnopqrst'),\n",
    "                  'c3':np.random.rand(10)})"
   ]
  },
  {
   "cell_type": "code",
   "execution_count": null,
   "metadata": {},
   "outputs": [],
   "source": [
    "df"
   ]
  },
  {
   "cell_type": "code",
   "execution_count": null,
   "metadata": {},
   "outputs": [],
   "source": [
    "def func(x,n=3,asc=False):\n",
    "    r = x.sort_values('c3',ascending=asc)\n",
    "    return r[:n]"
   ]
  },
  {
   "cell_type": "code",
   "execution_count": null,
   "metadata": {},
   "outputs": [],
   "source": [
    "df.groupby('c1').apply(func,n=2,asc=True)"
   ]
  },
  {
   "cell_type": "code",
   "execution_count": null,
   "metadata": {},
   "outputs": [],
   "source": [
    "x = df.query('c3 < 0.3')"
   ]
  },
  {
   "cell_type": "code",
   "execution_count": null,
   "metadata": {},
   "outputs": [],
   "source": [
    "type(x)"
   ]
  },
  {
   "cell_type": "code",
   "execution_count": null,
   "metadata": {},
   "outputs": [],
   "source": [
    "df[df.c3 < 0.3]"
   ]
  },
  {
   "cell_type": "code",
   "execution_count": null,
   "metadata": {},
   "outputs": [],
   "source": [
    "df = pd.DataFrame({'data1' : ['a'] * 4 + ['b'] * 4,\n",
    "                   'data2' : np.random.randint(0, 4, 8)})"
   ]
  },
  {
   "cell_type": "code",
   "execution_count": null,
   "metadata": {},
   "outputs": [],
   "source": [
    "df"
   ]
  },
  {
   "cell_type": "code",
   "execution_count": null,
   "metadata": {},
   "outputs": [],
   "source": [
    "df[~df.duplicated()]"
   ]
  },
  {
   "cell_type": "code",
   "execution_count": null,
   "metadata": {},
   "outputs": [],
   "source": [
    "left = pd.DataFrame({\n",
    "         'id':[1,2,3,4,5],\n",
    "         'Name': ['Alex', 'Amy', 'Allen', 'Alice', 'Ayoung'],\n",
    "         'subject_id':['sub1','sub2','sub4','sub6','sub5']})\n",
    "right = pd.DataFrame(\n",
    "         {'id':[1,2,3,4,5],\n",
    "         'Name': ['Billy', 'Brian', 'Bran', 'Bryce', 'Betty'],\n",
    "         'subject_id':['sub2','sub4','sub3','sub6','sub5']})"
   ]
  },
  {
   "cell_type": "code",
   "execution_count": null,
   "metadata": {},
   "outputs": [],
   "source": [
    "left.join(right, lsuffix='_left', rsuffix='right')"
   ]
  },
  {
   "cell_type": "code",
   "execution_count": null,
   "metadata": {},
   "outputs": [],
   "source": [
    "s = pd.Series([\n",
    "    ['Red', 'Green', 'White'],\n",
    "    ['Red', 'Black'],\n",
    "    ['Yellow']])"
   ]
  },
  {
   "cell_type": "code",
   "execution_count": null,
   "metadata": {},
   "outputs": [],
   "source": [
    "s"
   ]
  },
  {
   "cell_type": "code",
   "execution_count": null,
   "metadata": {},
   "outputs": [],
   "source": [
    "s.apply(pd.Series).stack().reset_index()"
   ]
  },
  {
   "cell_type": "code",
   "execution_count": null,
   "metadata": {},
   "outputs": [],
   "source": [
    "s = s.apply(pd.Series).stack().reset_index(drop=True)"
   ]
  },
  {
   "cell_type": "code",
   "execution_count": null,
   "metadata": {},
   "outputs": [],
   "source": [
    "s"
   ]
  },
  {
   "cell_type": "code",
   "execution_count": null,
   "metadata": {},
   "outputs": [],
   "source": []
  },
  {
   "cell_type": "code",
   "execution_count": null,
   "metadata": {},
   "outputs": [],
   "source": [
    "s1 = pd.Series(['100', '200', 'python', '300.12', '400'])"
   ]
  },
  {
   "cell_type": "code",
   "execution_count": null,
   "metadata": {},
   "outputs": [],
   "source": [
    "s1"
   ]
  },
  {
   "cell_type": "code",
   "execution_count": null,
   "metadata": {},
   "outputs": [],
   "source": [
    "s2 = pd.to_numeric(s1, errors='coerce')"
   ]
  },
  {
   "cell_type": "code",
   "execution_count": null,
   "metadata": {},
   "outputs": [],
   "source": [
    "s2"
   ]
  },
  {
   "cell_type": "code",
   "execution_count": null,
   "metadata": {},
   "outputs": [],
   "source": [
    "s = pd.Series([2, 4, 6, 8, 10])"
   ]
  },
  {
   "cell_type": "code",
   "execution_count": null,
   "metadata": {},
   "outputs": [],
   "source": [
    "s"
   ]
  },
  {
   "cell_type": "code",
   "execution_count": null,
   "metadata": {},
   "outputs": [],
   "source": [
    "s.tolist()"
   ]
  },
  {
   "cell_type": "code",
   "execution_count": null,
   "metadata": {},
   "outputs": [],
   "source": [
    "pd.to_datetime('today') - pd.Timedelta(1,unit = 'd')"
   ]
  },
  {
   "cell_type": "code",
   "execution_count": null,
   "metadata": {},
   "outputs": [],
   "source": [
    "data = {'Name':['Tom','James','Ricky'],\n",
    "        'Age':[25,26,25],\n",
    "        'Rating':[4.23,3.24,3.98]\n",
    "        }\n",
    "\n",
    "df = pd.DataFrame(data)"
   ]
  },
  {
   "cell_type": "code",
   "execution_count": null,
   "metadata": {},
   "outputs": [],
   "source": [
    "df"
   ]
  },
  {
   "cell_type": "code",
   "execution_count": null,
   "metadata": {},
   "outputs": [],
   "source": [
    "df.Age.cumcount()"
   ]
  },
  {
   "cell_type": "code",
   "execution_count": null,
   "metadata": {},
   "outputs": [],
   "source": [
    "df = pd.DataFrame({'Team': ['Riders', 'Riders', 'Devils',],\n",
    "         'Rank': [1, 2, 2,],\n",
    "         'Year': [2014,2015,2014],\n",
    "         'Points':[876,789,863]})"
   ]
  },
  {
   "cell_type": "code",
   "execution_count": null,
   "metadata": {},
   "outputs": [],
   "source": [
    "df.groupby('Year').cumcount()"
   ]
  },
  {
   "cell_type": "code",
   "execution_count": null,
   "metadata": {},
   "outputs": [],
   "source": [
    "df = pd.DataFrame(np.arange(15).reshape(5,3),columns=['col1','col2','col3'])"
   ]
  },
  {
   "cell_type": "code",
   "execution_count": null,
   "metadata": {},
   "outputs": [],
   "source": [
    "df"
   ]
  },
  {
   "cell_type": "code",
   "execution_count": null,
   "metadata": {},
   "outputs": [],
   "source": [
    "def f(a, b):\n",
    "    if a >= b:\n",
    "        return b\n",
    "    else:\n",
    "        return a"
   ]
  },
  {
   "cell_type": "code",
   "execution_count": null,
   "metadata": {},
   "outputs": [],
   "source": [
    "s = df.apply(lambda x:f(x['col1'],x['col2']),axis=1)"
   ]
  },
  {
   "cell_type": "code",
   "execution_count": null,
   "metadata": {},
   "outputs": [],
   "source": [
    "s"
   ]
  },
  {
   "cell_type": "code",
   "execution_count": null,
   "metadata": {},
   "outputs": [],
   "source": [
    "time = pd.DataFrame({'时间':pd.date_range(start='20180301', end='20180731', freq='D')})\n",
    "time\n",
    "\n",
    "#构造一个二级行索引，使得每人对应20180301-20180731的每一天\n",
    "index = pd.MultiIndex.from_product([time['时间'],df_md['身份证']], names = ['时间','身份证'])\n",
    "s = pd.Series(1,index=index)\n",
    "\n",
    "df= s.to_frame().reset_index()\n",
    "del df[0]"
   ]
  },
  {
   "cell_type": "code",
   "execution_count": null,
   "metadata": {},
   "outputs": [],
   "source": [
    "t = pd.date_range(start='20180301', end='20180303', freq='D')\n",
    "\n",
    "s = pd.Series([1,2])\n",
    "\n",
    "index = pd.MultiIndex.from_product([t,s], names = ['t','value'])\n",
    "\n",
    "df = pd.DataFrame(index=index).reset_index()"
   ]
  },
  {
   "cell_type": "code",
   "execution_count": null,
   "metadata": {},
   "outputs": [],
   "source": [
    "s = pd.Series([1,2])"
   ]
  },
  {
   "cell_type": "code",
   "execution_count": null,
   "metadata": {
    "scrolled": false
   },
   "outputs": [],
   "source": [
    "index = pd.MultiIndex.from_product([t,s], names = ['t','value'])"
   ]
  },
  {
   "cell_type": "code",
   "execution_count": null,
   "metadata": {},
   "outputs": [],
   "source": [
    "df = pd.DataFrame(index=index).reset_index()"
   ]
  },
  {
   "cell_type": "code",
   "execution_count": null,
   "metadata": {},
   "outputs": [],
   "source": [
    "df"
   ]
  },
  {
   "cell_type": "code",
   "execution_count": null,
   "metadata": {},
   "outputs": [],
   "source": [
    "df = pd.read_excel('sales-funnel.xlsx')"
   ]
  },
  {
   "cell_type": "code",
   "execution_count": null,
   "metadata": {},
   "outputs": [],
   "source": [
    "df = pd.DataFrame(index=['a','b','c'])"
   ]
  },
  {
   "cell_type": "code",
   "execution_count": null,
   "metadata": {},
   "outputs": [],
   "source": [
    "df"
   ]
  },
  {
   "cell_type": "code",
   "execution_count": null,
   "metadata": {},
   "outputs": [],
   "source": [
    "df[\"Status\"] = df[\"Status\"].astype(\"category\")"
   ]
  },
  {
   "cell_type": "code",
   "execution_count": null,
   "metadata": {},
   "outputs": [],
   "source": [
    "df[\"Status\"].cat.set_categories([\"won\",\"pending\",\"presented\",\"declined\"],inplace=True)"
   ]
  },
  {
   "cell_type": "code",
   "execution_count": null,
   "metadata": {},
   "outputs": [],
   "source": [
    "table = pd.pivot_table(df,index=[\"Manager\",\"Status\"],columns=[\"Product\"],values=[\"Quantity\",\"Price\"],\n",
    "               aggfunc={\"Quantity\":len,\"Price\":np.sum},fill_value=0,margins=True)"
   ]
  },
  {
   "cell_type": "code",
   "execution_count": null,
   "metadata": {},
   "outputs": [],
   "source": [
    "table"
   ]
  },
  {
   "cell_type": "code",
   "execution_count": null,
   "metadata": {},
   "outputs": [],
   "source": [
    "table.query('Status == [\"pending\",\"won\"]')"
   ]
  },
  {
   "cell_type": "code",
   "execution_count": null,
   "metadata": {},
   "outputs": [],
   "source": [
    "table.stack('Product')"
   ]
  },
  {
   "cell_type": "code",
   "execution_count": null,
   "metadata": {},
   "outputs": [],
   "source": [
    "age = np.random.randint(12,80,size = 10)\n",
    "s = pd.Series(age)\n",
    "s"
   ]
  },
  {
   "cell_type": "code",
   "execution_count": null,
   "metadata": {},
   "outputs": [],
   "source": [
    "age_cut = pd.cut(s,bins = [0,18,45,60,80],right = False,labels = ['未成年','青年','中年','老年'])\n",
    "age_cut"
   ]
  },
  {
   "cell_type": "code",
   "execution_count": null,
   "metadata": {},
   "outputs": [],
   "source": [
    "age_cut = pd.cut(s,4,labels = ['未成年','青年','中年','老年'])\n",
    "age_cut"
   ]
  },
  {
   "cell_type": "code",
   "execution_count": null,
   "metadata": {},
   "outputs": [],
   "source": [
    "age_cut = pd.qcut(s,4)"
   ]
  },
  {
   "cell_type": "code",
   "execution_count": null,
   "metadata": {},
   "outputs": [],
   "source": [
    "age_cut"
   ]
  },
  {
   "cell_type": "code",
   "execution_count": null,
   "metadata": {},
   "outputs": [],
   "source": [
    "pd.value_counts(age_cut)"
   ]
  },
  {
   "cell_type": "code",
   "execution_count": null,
   "metadata": {},
   "outputs": [],
   "source": [
    "df = pd.DataFrame([[1, 2], [3, 4]], columns = ['a','b'])\n",
    "df2 = pd.DataFrame([[5, 6], [7, 8]], columns = ['a','b'])"
   ]
  },
  {
   "cell_type": "code",
   "execution_count": null,
   "metadata": {},
   "outputs": [],
   "source": [
    "df = df.append(df2)"
   ]
  },
  {
   "cell_type": "code",
   "execution_count": null,
   "metadata": {},
   "outputs": [],
   "source": [
    "df"
   ]
  },
  {
   "cell_type": "code",
   "execution_count": null,
   "metadata": {},
   "outputs": [],
   "source": [
    "df.drop(0)"
   ]
  },
  {
   "cell_type": "code",
   "execution_count": null,
   "metadata": {},
   "outputs": [],
   "source": [
    "del df['one']"
   ]
  },
  {
   "cell_type": "code",
   "execution_count": null,
   "metadata": {},
   "outputs": [],
   "source": [
    "os.chdir(r'C:\\Users\\Dragon\\Desktop')"
   ]
  },
  {
   "cell_type": "code",
   "execution_count": null,
   "metadata": {},
   "outputs": [],
   "source": [
    "# start = time.time()\n",
    "\n",
    "# - 导入待派券名单\n",
    "with pd.ExcelFile(r'C:\\Users\\Dragon\\Desktop\\工作簿8.xlsx') as xlsx:\n",
    "    df_1 = pd.read_excel(xlsx,'1')\n",
    "    df_2 = pd.read_excel(xlsx,'2')\n",
    "#     df_cg = pd.read_excel(xlsx,'存管回款')\n",
    "#     df_quan = pd.read_excel(xlsx,'券')"
   ]
  },
  {
   "cell_type": "code",
   "execution_count": null,
   "metadata": {},
   "outputs": [],
   "source": [
    "df = pd.merge(df_1,df_2,\n",
    "             on = '手机号',\n",
    "             how = 'left')"
   ]
  },
  {
   "cell_type": "code",
   "execution_count": null,
   "metadata": {},
   "outputs": [],
   "source": [
    "df.shape"
   ]
  },
  {
   "cell_type": "code",
   "execution_count": null,
   "metadata": {},
   "outputs": [],
   "source": [
    "df_1.shape"
   ]
  },
  {
   "cell_type": "code",
   "execution_count": null,
   "metadata": {},
   "outputs": [],
   "source": [
    "df.to_excel('1111.xlsx')"
   ]
  },
  {
   "cell_type": "code",
   "execution_count": null,
   "metadata": {},
   "outputs": [],
   "source": [
    "# - 导入已派券名单\n",
    "df_rcd = pd.read_excel(r'D:\\小鸡理财\\百度云同步盘\\小鸡理财\\每日数据\\派券\\已派券记录.xlsx')\n",
    "\n",
    "print('派券名单导入完成!\\n')"
   ]
  },
  {
   "cell_type": "code",
   "execution_count": null,
   "metadata": {},
   "outputs": [],
   "source": [
    "# - 合并回款表\n",
    "df_hk = df_jd_bj.append([df_jd_lx,df_cg], ignore_index=True,sort=True)\n",
    "\n",
    "# - 整理回款表\n",
    "df_hk['发放时间'] = pd.to_datetime(df_hk['预计本次发放时间'])\n",
    "del df_hk['预计本次发放时间']"
   ]
  },
  {
   "cell_type": "code",
   "execution_count": null,
   "metadata": {},
   "outputs": [],
   "source": [
    "dtnow = pd.to_datetime('today')\n",
    "day_of_week = dtnow.day_name()\n",
    "hour_of_day = int(dtnow.hour)\n",
    "print('Today is ',day_of_week)\n",
    "\n",
    "if day_of_week == 'Friday':\n",
    "\tprint('---happy 周末 !---\\n')\n",
    "\n",
    "\ttimediff = pd.Timedelta(1,unit='d')\n",
    "\tdt_ff_1 = dtnow + timediff\n",
    "\tdt_ff_1 = dt_ff_1.strftime('%Y.%m.%d')\n",
    "\n",
    "\ttimediff = pd.Timedelta(2,unit='d')\n",
    "\tdt_ff_2 = dtnow + timediff\n",
    "\tdt_ff_2 = dt_ff_2.strftime('%Y.%m.%d')\n",
    "\n",
    "\ttimediff = pd.Timedelta(3,unit='d')\n",
    "\tdt_ff_3 = dtnow + timediff\n",
    "\tdt_ff_3 = dt_ff_3.strftime('%Y.%m.%d')\n",
    "\n",
    "\tdf_hk_today = df_hk[(df_hk['发放时间'] == dt_ff_1) | (df_hk['发放时间'] == dt_ff_2) | (df_hk['发放时间'] == dt_ff_3)]\n",
    "\n",
    "\tdt_ff = str(dt_ff_1) + '-' + str(dt_ff_3)\n",
    "\n",
    "else:\n",
    "\tprint('---平时 is choosed!---\\n')\n",
    "\ttimediff = pd.Timedelta(1,unit='d')\n",
    "\tdt_ff = dtnow + timediff\n",
    "\tdt_ff = dt_ff.strftime('%Y.%m.%d')\n",
    "\tdf_hk_today = df_hk[(df_hk['发放时间'] == dt_ff)]"
   ]
  },
  {
   "cell_type": "code",
   "execution_count": null,
   "metadata": {},
   "outputs": [],
   "source": [
    "#归类\n",
    "class_pai = dict({'6月标':'派券2',\n",
    "                  '12月标':'派券2',\n",
    "                  360:'派券2',\n",
    "                  180:'派券2',\n",
    "                  90:'派券1',\n",
    "                  30:'派券1'})\n",
    "\n",
    "df_hk_today = df_hk_today.copy()\n",
    "df_hk_today['分类'] = df_hk_today.loc[:,'投资期限'].map(class_pai)"
   ]
  },
  {
   "cell_type": "code",
   "execution_count": null,
   "metadata": {},
   "outputs": [],
   "source": [
    "df_hk_today.head(10)"
   ]
  },
  {
   "cell_type": "code",
   "execution_count": null,
   "metadata": {},
   "outputs": [],
   "source": [
    "hk_pp = df_hk_today['会员名'].nunique()"
   ]
  },
  {
   "cell_type": "code",
   "execution_count": null,
   "metadata": {},
   "outputs": [],
   "source": [
    "hk_money = round(df_hk_today['本次发放金额'].sum() / 10000)"
   ]
  },
  {
   "cell_type": "code",
   "execution_count": null,
   "metadata": {},
   "outputs": [],
   "source": [
    "hk_money"
   ]
  },
  {
   "cell_type": "code",
   "execution_count": null,
   "metadata": {},
   "outputs": [],
   "source": [
    "print('{} 回款信息:共回款 {:.0f} 人，合计回款金额 {:.0f} 万元'.format(dt_ff,hk_pp,hk_money))"
   ]
  },
  {
   "cell_type": "code",
   "execution_count": null,
   "metadata": {},
   "outputs": [],
   "source": [
    "# - 合并计算，排除当日回款金额小于500元\n",
    "#排除总金额<500\n",
    "gp_hk = df_hk_today.groupby('会员名',as_index=False)['本次发放金额'].sum()\n",
    "l500 = gp_hk[gp_hk['本次发放金额'] >= 500]['会员名']\n",
    "# l500\n",
    "df_hk_today_res_1 = df_hk_today[df_hk_today['会员名'].isin(l500)]"
   ]
  },
  {
   "cell_type": "code",
   "execution_count": null,
   "metadata": {},
   "outputs": [],
   "source": [
    "pp_500_num = len(gp_hk[gp_hk['本次发放金额'] < 500]['会员名'])"
   ]
  },
  {
   "cell_type": "code",
   "execution_count": null,
   "metadata": {},
   "outputs": [],
   "source": [
    "pp_500"
   ]
  },
  {
   "cell_type": "code",
   "execution_count": null,
   "metadata": {},
   "outputs": [],
   "source": [
    "# - 排除有3张券以上的人\n",
    "df_quan['mark'] = 1\n",
    "gp_quan = df_quan.groupby('会员名',as_index=False)['mark'].sum()\n",
    "q3 = gp_quan[gp_quan['mark'] >= 3]['会员名']\n",
    "df_hk_today_res_2 = df_hk_today_res_1[~df_hk_today_res_1['会员名'].isin(q3)]"
   ]
  },
  {
   "cell_type": "code",
   "execution_count": null,
   "metadata": {},
   "outputs": [],
   "source": [
    "df_q3 = df_hk_today[df_hk_today['会员名'].isin(q3)]"
   ]
  },
  {
   "cell_type": "code",
   "execution_count": null,
   "metadata": {},
   "outputs": [],
   "source": [
    "df_q3.head()"
   ]
  },
  {
   "cell_type": "code",
   "execution_count": null,
   "metadata": {},
   "outputs": [],
   "source": [
    "df_q3_num = df_q3['会员名'].nunique()"
   ]
  },
  {
   "cell_type": "code",
   "execution_count": null,
   "metadata": {},
   "outputs": [],
   "source": [
    "# - 排除已经派了4次的人\n",
    "df_rcd['mark'] = 1\n",
    "gp_rcd = df_rcd.groupby('会员名',as_index=False)['mark'].sum()\n",
    "p4 = gp_rcd[gp_rcd['mark'] >= 4]\n",
    "df_hk_today_res_3 = df_hk_today_res_2[~df_hk_today_res_2['会员名'].isin(p4['会员名'])]"
   ]
  },
  {
   "cell_type": "code",
   "execution_count": null,
   "metadata": {},
   "outputs": [],
   "source": [
    "df_p4 = df_hk_today[df_hk_today['会员名'].isin(p4['会员名'])]"
   ]
  },
  {
   "cell_type": "code",
   "execution_count": null,
   "metadata": {},
   "outputs": [],
   "source": [
    "df_p4_num = df_p4['会员名'].nunique()"
   ]
  },
  {
   "cell_type": "code",
   "execution_count": null,
   "metadata": {},
   "outputs": [],
   "source": [
    "# - 确定要派哪类券\n",
    "gp_class = df_hk_today_res_3.groupby(['会员名','真实姓名','分类'])['本次发放金额'].sum().unstack()\n",
    "gp_class.fillna(0,inplace=True)\n",
    "\n",
    "if len(gp_class.columns) == 1:\n",
    "\tgp_class['派券分类'] = gp_class.columns[0]\n",
    "else:\n",
    "\tgp_class['派券分类'] = np.where(gp_class['派券2'] == 0,'派券1','派券2')\n",
    "\n",
    "print('class_ok!\\n')\n",
    "\n",
    "# class_time = time.time()\n",
    "# print('class_time:{} s\\n'.format(class_time-filter_time))\n",
    "\n",
    "# - 查找用户名等信息\n",
    "res_temp = gp_class.copy()\n",
    "res_temp = res_temp.reset_index()\n",
    "res = res_temp.loc[:,['会员名','真实姓名','派券分类']]\n"
   ]
  },
  {
   "cell_type": "code",
   "execution_count": null,
   "metadata": {},
   "outputs": [],
   "source": [
    "p_num = res['会员名'].nunique()"
   ]
  },
  {
   "cell_type": "code",
   "execution_count": null,
   "metadata": {},
   "outputs": [],
   "source": [
    "print('其中回款金额小于500元 {} 人，拥有3张券以上的 {} 人，已经发放4次券包的 {} 人。\\n{} 派券 {} 人！'.format(\n",
    "        pp_500,df_q3_num,df_p4_num,dt_ff,p_num))"
   ]
  },
  {
   "cell_type": "code",
   "execution_count": null,
   "metadata": {},
   "outputs": [],
   "source": [
    "print('''\n",
    "TO 财务部：\n",
    "\n",
    "附件是 {} 新规则派券名单\n",
    "\t'''.format(dt_ff))\n",
    "print('{} 回款信息:共回款 {:.0f} 人，合计回款金额 {:.0f} 万元。'.format(dt_ff,hk_pp,hk_money))\n",
    "print('其中回款金额小于500元 {} 人，拥有3张券以上的 {} 人，已经发放4次券包的 {} 人。\\n\\n{} 派券 {} 人！'.format(\n",
    "        pp_500_num,df_q3_num,df_p4_num,dt_ff,p_num))"
   ]
  },
  {
   "cell_type": "code",
   "execution_count": null,
   "metadata": {},
   "outputs": [],
   "source": [
    "%timeit df = pd.read_csv(r\"D:\\VDownload\\NYC Yellow Taxi data\\fhv_tripdata_2018-03.csv\")"
   ]
  },
  {
   "cell_type": "code",
   "execution_count": null,
   "metadata": {},
   "outputs": [],
   "source": [
    "df.shape"
   ]
  },
  {
   "cell_type": "code",
   "execution_count": null,
   "metadata": {},
   "outputs": [],
   "source": [
    "df.head()"
   ]
  },
  {
   "cell_type": "code",
   "execution_count": null,
   "metadata": {},
   "outputs": [],
   "source": [
    "with pd.ExcelFile(r'C:\\Users\\Xiaoji\\Desktop\\渠道表.xlsx') as xlsx:\n",
    "    df_tz = pd.read_excel(xlsx,'投资')\n",
    "    df_zc = pd.read_excel(xlsx,'注册')\n",
    "#     df_yj = pd.read_excel(xlsx,'佣金')\n",
    "#     df_vip = pd.read_excel(xlsx,'VIP变动')\n",
    "#     df_quan = pd.read_excel(xlsx,'券')\n",
    "#     df_zht = pd.read_excel(xlsx,'智慧投')"
   ]
  },
  {
   "cell_type": "code",
   "execution_count": null,
   "metadata": {},
   "outputs": [],
   "source": [
    "df = pd.merge(df_tz,df_zc,\n",
    "             on='手机号',\n",
    "             how='left')"
   ]
  },
  {
   "cell_type": "code",
   "execution_count": null,
   "metadata": {},
   "outputs": [],
   "source": [
    "df.to_excel('1030.xlsx')"
   ]
  },
  {
   "cell_type": "code",
   "execution_count": null,
   "metadata": {},
   "outputs": [],
   "source": [
    "df = pd.read_csv(r'D:\\VDownload\\NYC Yellow Taxi data\\green_tripdata_2013-08_2.csv',\n",
    "                     sep=r'(?:,|\\t|\\r|\\f|\\v)',\n",
    "                    engine='python')"
   ]
  },
  {
   "cell_type": "code",
   "execution_count": null,
   "metadata": {},
   "outputs": [],
   "source": [
    "df.head()"
   ]
  },
  {
   "cell_type": "code",
   "execution_count": null,
   "metadata": {},
   "outputs": [],
   "source": [
    "reader = pd.read_csv(r'D:\\VDownload\\NYC Yellow Taxi data\\green_tripdata_2013-08_2.csv',\n",
    "                     sep=',',nrows=0)\n",
    "#                      chunksize=10)"
   ]
  },
  {
   "cell_type": "code",
   "execution_count": null,
   "metadata": {},
   "outputs": [],
   "source": [
    "reader.info()"
   ]
  },
  {
   "cell_type": "code",
   "execution_count": null,
   "metadata": {},
   "outputs": [],
   "source": [
    "reader = pd.read_csv(r'D:\\VDownload\\NYC Yellow Taxi data\\yellow_tripdata_2012-03.csv',\n",
    "                     sep=',',\n",
    "                     nrows=0)"
   ]
  },
  {
   "cell_type": "code",
   "execution_count": null,
   "metadata": {},
   "outputs": [],
   "source": [
    "reader.info()"
   ]
  },
  {
   "cell_type": "code",
   "execution_count": null,
   "metadata": {},
   "outputs": [],
   "source": [
    "reader.info()"
   ]
  },
  {
   "cell_type": "code",
   "execution_count": null,
   "metadata": {},
   "outputs": [],
   "source": [
    "reader"
   ]
  },
  {
   "cell_type": "code",
   "execution_count": null,
   "metadata": {},
   "outputs": [],
   "source": [
    "for chunk in reader:\n",
    "    print(chunk.shape[0])\n",
    "#     print(chunk.head())\n",
    "    print('='*50)"
   ]
  },
  {
   "cell_type": "code",
   "execution_count": null,
   "metadata": {},
   "outputs": [],
   "source": [
    "n = 1"
   ]
  },
  {
   "cell_type": "code",
   "execution_count": null,
   "metadata": {},
   "outputs": [],
   "source": [
    "while n:\n",
    "    "
   ]
  },
  {
   "cell_type": "code",
   "execution_count": null,
   "metadata": {},
   "outputs": [],
   "source": [
    "l = [1,2,3]"
   ]
  },
  {
   "cell_type": "code",
   "execution_count": null,
   "metadata": {},
   "outputs": [],
   "source": [
    "print(reader.next())"
   ]
  },
  {
   "cell_type": "code",
   "execution_count": null,
   "metadata": {},
   "outputs": [],
   "source": [
    "import re"
   ]
  },
  {
   "cell_type": "code",
   "execution_count": null,
   "metadata": {},
   "outputs": [],
   "source": [
    "m = re.match(r'a([bcd]*)e','abce')"
   ]
  },
  {
   "cell_type": "code",
   "execution_count": null,
   "metadata": {},
   "outputs": [],
   "source": [
    "m.string"
   ]
  },
  {
   "cell_type": "code",
   "execution_count": null,
   "metadata": {},
   "outputs": [],
   "source": [
    "sep=r'(?:,|\\s+)'"
   ]
  },
  {
   "cell_type": "code",
   "execution_count": null,
   "metadata": {},
   "outputs": [],
   "source": [
    "l = [1,5,12,2]\n",
    "s = ''\n",
    "\n",
    "for i in l:\n",
    "    s = s + str(i)\n",
    "print(s)"
   ]
  },
  {
   "cell_type": "code",
   "execution_count": null,
   "metadata": {},
   "outputs": [],
   "source": [
    "color_list_1 = set([\"White\", \"Black\", \"Red\"])\n",
    "color_list_2 = set([\"Red\", \"Green\"])\n",
    "\n",
    "print(color_list_1.difference(color_list_2))"
   ]
  },
  {
   "cell_type": "code",
   "execution_count": null,
   "metadata": {},
   "outputs": [],
   "source": [
    "def gcd(a, b):\n",
    "    return a if b == 0 else gcd(b, a%b)\n",
    "\n",
    "gcd(336,360)"
   ]
  },
  {
   "cell_type": "code",
   "execution_count": null,
   "metadata": {},
   "outputs": [],
   "source": [
    "def lcm(a, b):\n",
    "    return int(a * b / gcd(a, b))\n",
    "\n",
    "print(lcm(15, 17))"
   ]
  },
  {
   "cell_type": "code",
   "execution_count": null,
   "metadata": {},
   "outputs": [],
   "source": [
    "char = '@'\n",
    "\n",
    "l = [2,3,6,5]\n",
    "\n",
    "for i in l:\n",
    "    print(char * i)"
   ]
  },
  {
   "cell_type": "code",
   "execution_count": null,
   "metadata": {},
   "outputs": [],
   "source": [
    "s = pd.Series([1,2,3,4,5])\n",
    "s"
   ]
  },
  {
   "cell_type": "code",
   "execution_count": null,
   "metadata": {},
   "outputs": [],
   "source": [
    "l = list(s)\n",
    "l"
   ]
  },
  {
   "cell_type": "code",
   "execution_count": null,
   "metadata": {},
   "outputs": [],
   "source": [
    "s.tolist()"
   ]
  },
  {
   "cell_type": "code",
   "execution_count": null,
   "metadata": {},
   "outputs": [],
   "source": [
    "s1 = pd.Series([2, 4, 6, 8, 10])\n",
    "s2 = pd.Series([1, 3, 5, 7, 9])"
   ]
  },
  {
   "cell_type": "code",
   "execution_count": null,
   "metadata": {},
   "outputs": [],
   "source": [
    "s1+s2"
   ]
  },
  {
   "cell_type": "code",
   "execution_count": null,
   "metadata": {},
   "outputs": [],
   "source": [
    "s1-s2"
   ]
  },
  {
   "cell_type": "code",
   "execution_count": null,
   "metadata": {},
   "outputs": [],
   "source": [
    "s1 * s2"
   ]
  },
  {
   "cell_type": "code",
   "execution_count": null,
   "metadata": {},
   "outputs": [],
   "source": [
    "s1 / s2"
   ]
  },
  {
   "cell_type": "code",
   "execution_count": null,
   "metadata": {},
   "outputs": [],
   "source": [
    "s = pd.Series({'a': 100, 'b': 200, 'c': 300, 'd': 400, 'e': 800})"
   ]
  },
  {
   "cell_type": "code",
   "execution_count": null,
   "metadata": {},
   "outputs": [],
   "source": [
    "s"
   ]
  },
  {
   "cell_type": "code",
   "execution_count": null,
   "metadata": {},
   "outputs": [],
   "source": [
    "n = np.array([10, 20, 30, 40, 50])"
   ]
  },
  {
   "cell_type": "code",
   "execution_count": null,
   "metadata": {},
   "outputs": [],
   "source": [
    "n"
   ]
  },
  {
   "cell_type": "code",
   "execution_count": null,
   "metadata": {},
   "outputs": [],
   "source": [
    "s = pd.Series(n)"
   ]
  },
  {
   "cell_type": "code",
   "execution_count": null,
   "metadata": {},
   "outputs": [],
   "source": [
    "s"
   ]
  },
  {
   "cell_type": "code",
   "execution_count": null,
   "metadata": {},
   "outputs": [],
   "source": [
    "s1 = pd.Series(['100', '200', 'python', '300.12', '400'])"
   ]
  },
  {
   "cell_type": "code",
   "execution_count": null,
   "metadata": {},
   "outputs": [],
   "source": [
    "s2 = pd.to_numeric(s1, errors='coerce')"
   ]
  },
  {
   "cell_type": "code",
   "execution_count": null,
   "metadata": {},
   "outputs": [],
   "source": [
    "s2"
   ]
  },
  {
   "cell_type": "code",
   "execution_count": null,
   "metadata": {},
   "outputs": [],
   "source": [
    "d = {'col1': [1, 2, 3, 4, 7, 11], 'col2': [4, 5, 6, 9, 5, 0], 'col3': [7, 5, 8, 12, 1,11]}\n",
    "df = pd.DataFrame(data=d)"
   ]
  },
  {
   "cell_type": "code",
   "execution_count": null,
   "metadata": {},
   "outputs": [],
   "source": [
    "s = df.col1"
   ]
  },
  {
   "cell_type": "code",
   "execution_count": null,
   "metadata": {},
   "outputs": [],
   "source": [
    "s"
   ]
  },
  {
   "cell_type": "code",
   "execution_count": null,
   "metadata": {},
   "outputs": [],
   "source": [
    "s = pd.Series([\n",
    "    ['Red', 'Green', 'White'],\n",
    "    ['Red', 'Black'],\n",
    "    ['Yellow']])"
   ]
  },
  {
   "cell_type": "code",
   "execution_count": null,
   "metadata": {},
   "outputs": [],
   "source": [
    "s"
   ]
  },
  {
   "cell_type": "code",
   "execution_count": null,
   "metadata": {},
   "outputs": [],
   "source": [
    "s.apply(pd.Series).stack().reset_index(drop=True)"
   ]
  },
  {
   "cell_type": "code",
   "execution_count": null,
   "metadata": {},
   "outputs": [],
   "source": [
    "s = pd.Series(['100', '200', 'python', '300.12', '400'])\n",
    "s.sort_values()"
   ]
  },
  {
   "cell_type": "code",
   "execution_count": null,
   "metadata": {},
   "outputs": [],
   "source": [
    "s = pd.Series([0, 1,2,3,4,5,6,7,8,9,10])\n",
    "print(\"Original Data Series:\")\n",
    "print(s)\n",
    "print(\"\\nSubset of the above Data Series:\")\n",
    "n = 3\n",
    "new_s = s[s < n]\n",
    "print(new_s)"
   ]
  },
  {
   "cell_type": "code",
   "execution_count": null,
   "metadata": {},
   "outputs": [],
   "source": [
    "s = pd.Series(data = [1,2,3,4,5,6,7,8,9,5,3])"
   ]
  },
  {
   "cell_type": "code",
   "execution_count": null,
   "metadata": {},
   "outputs": [],
   "source": [
    "s.std()"
   ]
  },
  {
   "cell_type": "code",
   "execution_count": null,
   "metadata": {},
   "outputs": [],
   "source": [
    "df = pd.DataFrame( {'X':[78,85,96,80,86], 'Y':[84,94,89,83,86],'Z':[86,97,96,72,83]})"
   ]
  },
  {
   "cell_type": "code",
   "execution_count": null,
   "metadata": {},
   "outputs": [],
   "source": [
    "df"
   ]
  },
  {
   "cell_type": "code",
   "execution_count": null,
   "metadata": {},
   "outputs": [],
   "source": [
    "exam_data = {'name': ['Anastasia', 'Dima', 'Katherine', 'James', 'Emily', 'Michael', 'Matthew', 'Laura', 'Kevin', 'Jonas'],\n",
    "'score': [12.5, 9, 16.5, np.nan, 9, 20, 14.5, np.nan, 8, 19],\n",
    "'attempts': [1, 3, 2, 3, 2, 3, 1, 1, 2, 1],\n",
    "'qualify': ['yes', 'no', 'yes', 'no', 'no', 'yes', 'yes', 'no', 'no', 'yes']}\n",
    "\n",
    "labels = ['a', 'b', 'c', 'd', 'e', 'f', 'g', 'h', 'i', 'j']\n",
    "\n",
    "df = pd.DataFrame(exam_data,index=labels)\n",
    "df"
   ]
  },
  {
   "cell_type": "code",
   "execution_count": null,
   "metadata": {},
   "outputs": [],
   "source": [
    "df.info()"
   ]
  },
  {
   "cell_type": "code",
   "execution_count": null,
   "metadata": {},
   "outputs": [],
   "source": [
    "df.iloc[:3,:]"
   ]
  },
  {
   "cell_type": "code",
   "execution_count": null,
   "metadata": {},
   "outputs": [],
   "source": [
    "df.loc[df.attempts > 2]"
   ]
  },
  {
   "cell_type": "code",
   "execution_count": null,
   "metadata": {},
   "outputs": [],
   "source": [
    "df.shape"
   ]
  },
  {
   "cell_type": "code",
   "execution_count": null,
   "metadata": {},
   "outputs": [],
   "source": [
    "df.isnull()"
   ]
  }
 ],
 "metadata": {
  "kernelspec": {
   "display_name": "Python 3",
   "language": "python",
   "name": "python3"
  },
  "language_info": {
   "codemirror_mode": {
    "name": "ipython",
    "version": 3
   },
   "file_extension": ".py",
   "mimetype": "text/x-python",
   "name": "python",
   "nbconvert_exporter": "python",
   "pygments_lexer": "ipython3",
   "version": "3.7.4"
  }
 },
 "nbformat": 4,
 "nbformat_minor": 2
}
