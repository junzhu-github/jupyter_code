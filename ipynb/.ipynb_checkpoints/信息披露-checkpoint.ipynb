{
 "cells": [
  {
   "cell_type": "markdown",
   "metadata": {},
   "source": [
    "### 导入库"
   ]
  },
  {
   "cell_type": "code",
   "execution_count": 1,
   "metadata": {},
   "outputs": [],
   "source": [
    "import numpy as np\n",
    "import pandas as pd"
   ]
  },
  {
   "cell_type": "markdown",
   "metadata": {},
   "source": [
    "### 导入excel"
   ]
  },
  {
   "cell_type": "code",
   "execution_count": 2,
   "metadata": {},
   "outputs": [],
   "source": [
    "path = r'C:\\百度云同步盘\\小鸡理财\\数据报告\\互金协会数据报送\\每月数据获取\\2019.08\\1-出借数据\\8月\\8月数据披露.xlsx'"
   ]
  },
  {
   "cell_type": "code",
   "execution_count": 3,
   "metadata": {
    "scrolled": true
   },
   "outputs": [],
   "source": [
    "with pd.ExcelFile(path) as xlsx:\n",
    "    df_tz = pd.read_excel(xlsx,'当月投资')\n",
    "    df_cg = pd.read_excel(xlsx,'存管回款')\n",
    "    df_2019_cj = pd.read_excel(xlsx,'2019累计出借人数量')\n",
    "    df_ljcj = pd.read_excel(xlsx,'累计出借人数量')"
   ]
  },
  {
   "cell_type": "markdown",
   "metadata": {},
   "source": [
    "- 累计借贷金额(万元)*"
   ]
  },
  {
   "cell_type": "code",
   "execution_count": 5,
   "metadata": {},
   "outputs": [
    {
     "name": "stdout",
     "output_type": "stream",
     "text": [
      "本月借贷金额： 54187700.0\n"
     ]
    }
   ],
   "source": [
    "#本月借贷金额\n",
    "cheng_jiao_sum = df_tz['总投资额'].sum()\n",
    "print('本月借贷金额：',cheng_jiao_sum)"
   ]
  },
  {
   "cell_type": "code",
   "execution_count": 6,
   "metadata": {},
   "outputs": [
    {
     "name": "stdout",
     "output_type": "stream",
     "text": [
      "上月累计借贷金额3151713184.03\n",
      "\n",
      "累计借贷金额：上月3151713184.03 + 本月54187700.0 = 3205900884.03\n",
      "\n",
      "累计借贷金额(万元):320590\n"
     ]
    }
   ],
   "source": [
    "last = input('上月累计借贷金额')\n",
    "ljjd_sum = float(last) + cheng_jiao_sum\n",
    "\n",
    "print('\\n累计借贷金额：上月{0} + 本月{1} = {2}'\\\n",
    "      .format(float(last),cheng_jiao_sum,ljjd_sum))\n",
    "\n",
    "print('\\n累计借贷金额(万元):{:.0f}'.format(ljjd_sum/10000))"
   ]
  },
  {
   "cell_type": "markdown",
   "metadata": {},
   "source": [
    "- 累计出借笔数(笔)*"
   ]
  },
  {
   "cell_type": "code",
   "execution_count": 7,
   "metadata": {},
   "outputs": [
    {
     "name": "stdout",
     "output_type": "stream",
     "text": [
      "本月出借笔数： 14512\n"
     ]
    }
   ],
   "source": [
    "#本月出借笔数\n",
    "cheng_jiao_count = df_tz['总投资额'].count()\n",
    "print('本月出借笔数：',cheng_jiao_count)"
   ]
  },
  {
   "cell_type": "code",
   "execution_count": 8,
   "metadata": {
    "scrolled": false
   },
   "outputs": [
    {
     "name": "stdout",
     "output_type": "stream",
     "text": [
      "上月累计出借笔数654204\n",
      "\n",
      "累计出借笔数：上月654204 + 本月14512 = 668716\n"
     ]
    }
   ],
   "source": [
    "last_count = input('上月累计出借笔数')\n",
    "\n",
    "print('\\n累计出借笔数：上月{0} + 本月{1} = {2}'\\\n",
    "      .format(int(last_count),cheng_jiao_count,int(last_count) + cheng_jiao_count))"
   ]
  },
  {
   "cell_type": "markdown",
   "metadata": {},
   "source": [
    "- 借贷余额（万元）-本金"
   ]
  },
  {
   "cell_type": "code",
   "execution_count": 9,
   "metadata": {
    "scrolled": false
   },
   "outputs": [
    {
     "name": "stdout",
     "output_type": "stream",
     "text": [
      "借贷余额: 295420910.3\n",
      "借贷余额（万元）:29542\n"
     ]
    }
   ],
   "source": [
    "df_bj = df_cg.loc[:,['身份证','投资时间','预计本次发放时间','本次发放本金']]\n",
    "# df_cg_bj.head()\n",
    "\n",
    "# df_bj = df_jd_bj.append(df_cg_bj, ignore_index=True,sort=True)\n",
    "# df_bj.info()\n",
    "\n",
    "bj_sum = df_bj['本次发放本金'].sum()\n",
    "print('借贷余额:',bj_sum)\n",
    "print('借贷余额（万元）:{:.0f}'.format(bj_sum/10000))"
   ]
  },
  {
   "cell_type": "markdown",
   "metadata": {},
   "source": [
    "- 借贷余额笔数(笔)"
   ]
  },
  {
   "cell_type": "code",
   "execution_count": 10,
   "metadata": {
    "scrolled": true
   },
   "outputs": [
    {
     "name": "stdout",
     "output_type": "stream",
     "text": [
      "借贷余额笔数: 129320\n"
     ]
    }
   ],
   "source": [
    "df_yebs = df_bj.drop_duplicates(subset = ['投资时间','身份证'])\n",
    "print('借贷余额笔数:',df_yebs.shape[0])"
   ]
  },
  {
   "cell_type": "markdown",
   "metadata": {},
   "source": [
    "- 利息余额(万元)"
   ]
  },
  {
   "cell_type": "code",
   "execution_count": 11,
   "metadata": {
    "scrolled": true
   },
   "outputs": [
    {
     "name": "stdout",
     "output_type": "stream",
     "text": [
      "利息余额: 15799678.840000007\n",
      "利息余额（万元）:1580\n"
     ]
    }
   ],
   "source": [
    "df_lx = df_cg.loc[:,['总利息','投资时间','预计本次发放时间','身份证']]\n",
    "# df_cg_bj.head()\n",
    "\n",
    "# df_lx = df_jd_lx.append(df_cg_lx, ignore_index=True,sort=True)\n",
    "# df_lx.info()\n",
    "\n",
    "bj_lx = df_lx['总利息'].sum()\n",
    "print('利息余额:',bj_lx)\n",
    "print('利息余额（万元）:{:.0f}'.format(bj_lx/10000))"
   ]
  },
  {
   "cell_type": "markdown",
   "metadata": {},
   "source": [
    "- 累计出借人数量(人)"
   ]
  },
  {
   "cell_type": "code",
   "execution_count": 12,
   "metadata": {
    "scrolled": false
   },
   "outputs": [
    {
     "name": "stdout",
     "output_type": "stream",
     "text": [
      "累计出借人数量: 39335\n"
     ]
    }
   ],
   "source": [
    "df_ljcj_new = df_ljcj.append(df_cg['身份证'].to_frame())\n",
    "# df_ljcj_new.info()\n",
    "\n",
    "#检查身份证是否有小写x，会影响到去重计算\n",
    "while df_ljcj_new[df_ljcj_new['身份证'].str.contains('x')].shape[0]:\n",
    "    df_ljcj_new['身份证'] = df_ljcj_new['身份证'].str.upper()\n",
    "\n",
    "df_ljcj_new.drop_duplicates(inplace=True)\n",
    "print('累计出借人数量:',df_ljcj_new.shape[0])\n",
    "\n",
    "df_ljcj_new.to_excel('累计出借人数量.xlsx', sheet_name='Sheet1',index=False)"
   ]
  },
  {
   "cell_type": "markdown",
   "metadata": {},
   "source": [
    "- 当前出借人数量(人)"
   ]
  },
  {
   "cell_type": "code",
   "execution_count": 13,
   "metadata": {
    "scrolled": false
   },
   "outputs": [
    {
     "name": "stdout",
     "output_type": "stream",
     "text": [
      "当前出借人数量: 3386\n"
     ]
    }
   ],
   "source": [
    "# df_dqcj_new = df_jd_bj['身份证'].append([df_jd_lx['身份证'],df_cg['身份证']])\n",
    "df_dqcj_new = df_cg['身份证']\n",
    "\n",
    "#检查身份证是否有小写x，会影响到去重计算\n",
    "while df_dqcj_new[df_dqcj_new.str.contains('x')].shape[0]:\n",
    "    df_dqcj_new = df_dqcj_new.str.upper()\n",
    "\n",
    "\n",
    "df_dqcj_new.drop_duplicates(inplace=True)\n",
    "print('当前出借人数量:',df_dqcj_new.shape[0])"
   ]
  },
  {
   "cell_type": "markdown",
   "metadata": {},
   "source": [
    "- 人均累计出借金额（万元）"
   ]
  },
  {
   "cell_type": "code",
   "execution_count": 14,
   "metadata": {
    "scrolled": true
   },
   "outputs": [
    {
     "name": "stdout",
     "output_type": "stream",
     "text": [
      "人均累计出借金额:81502.50118291598\n",
      "\n",
      "人均累计出借金额（万元）:8.15\n"
     ]
    }
   ],
   "source": [
    "print('人均累计出借金额:{}'.format(ljjd_sum / df_ljcj_new.shape[0]))\n",
    "print('\\n人均累计出借金额（万元）:{:.2f}'.format(ljjd_sum / df_ljcj_new.shape[0] / 10000))"
   ]
  },
  {
   "cell_type": "markdown",
   "metadata": {},
   "source": [
    "- 最大单户出借余额占比"
   ]
  },
  {
   "cell_type": "code",
   "execution_count": 15,
   "metadata": {
    "scrolled": false
   },
   "outputs": [
    {
     "name": "stdout",
     "output_type": "stream",
     "text": [
      "最大单户出借余额占比:2.42%\n"
     ]
    }
   ],
   "source": [
    "#检查身份证是否有小写x，会影响到计算\n",
    "while df_bj[df_bj['身份证'].str.contains('x')].shape[0]:\n",
    "    df_bj['身份证'] = df_bj['身份证'].str.upper()\n",
    "\n",
    "gp_bj = df_bj.groupby('身份证',as_index=False)['本次发放本金'].sum().sort_values(by='本次发放本金',ascending=False)\n",
    "# gp_bj\n",
    "\n",
    "print('最大单户出借余额占比:{:.2%}'.format(gp_bj.iloc[0,1] / df_bj['本次发放本金'].sum()))"
   ]
  },
  {
   "cell_type": "markdown",
   "metadata": {},
   "source": [
    "- 最大十户出借余额占比"
   ]
  },
  {
   "cell_type": "code",
   "execution_count": 16,
   "metadata": {
    "scrolled": true
   },
   "outputs": [
    {
     "name": "stdout",
     "output_type": "stream",
     "text": [
      "最大十户出借余额占比:9.12%\n"
     ]
    }
   ],
   "source": [
    "gp_bj['ranking'] = gp_bj['本次发放本金'].rank(method='min',ascending=False)\n",
    "# gp_bj\n",
    "\n",
    "first_10_sum = gp_bj[gp_bj['ranking'] < 11]['本次发放本金'].sum()\n",
    "print('最大十户出借余额占比:{:.2%}'.format(first_10_sum / df_bj['本次发放本金'].sum()))"
   ]
  },
  {
   "cell_type": "markdown",
   "metadata": {},
   "source": [
    "- 当月出借人数量"
   ]
  },
  {
   "cell_type": "code",
   "execution_count": 17,
   "metadata": {},
   "outputs": [
    {
     "name": "stdout",
     "output_type": "stream",
     "text": [
      "当月出借人数量 : 1638 人\n"
     ]
    }
   ],
   "source": [
    "cj_pp_sum = df_tz['身份证'].nunique()\n",
    "\n",
    "print('当月出借人数量 : {0} 人'.format(cj_pp_sum))"
   ]
  },
  {
   "cell_type": "markdown",
   "metadata": {},
   "source": [
    "- 2019年出借人数量"
   ]
  },
  {
   "cell_type": "code",
   "execution_count": 18,
   "metadata": {},
   "outputs": [
    {
     "name": "stdout",
     "output_type": "stream",
     "text": [
      "2019年出借人数量 : 4579 人\n"
     ]
    }
   ],
   "source": [
    "df_2019_cj_new = df_2019_cj['身份证号码'].append(df_tz['身份证'])\n",
    "\n",
    "df_2019_cj_new = df_2019_cj_new.str.upper().drop_duplicates()\n",
    "\n",
    "df_2019_cj_sum = df_2019_cj_new.shape[0]\n",
    "\n",
    "print('2019年出借人数量 : {0} 人'.format(df_2019_cj_sum))\n",
    "\n",
    "df_2019_cj_new.to_excel('2019年出借人.xlsx')"
   ]
  },
  {
   "cell_type": "code",
   "execution_count": null,
   "metadata": {},
   "outputs": [],
   "source": []
  }
 ],
 "metadata": {
  "kernelspec": {
   "display_name": "Python 3",
   "language": "python",
   "name": "python3"
  },
  "language_info": {
   "codemirror_mode": {
    "name": "ipython",
    "version": 3
   },
   "file_extension": ".py",
   "mimetype": "text/x-python",
   "name": "python",
   "nbconvert_exporter": "python",
   "pygments_lexer": "ipython3",
   "version": "3.7.2"
  }
 },
 "nbformat": 4,
 "nbformat_minor": 2
}
