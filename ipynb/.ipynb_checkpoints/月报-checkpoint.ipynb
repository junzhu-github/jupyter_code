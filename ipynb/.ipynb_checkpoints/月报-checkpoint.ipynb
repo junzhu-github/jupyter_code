{
 "cells": [
  {
   "cell_type": "markdown",
   "metadata": {},
   "source": [
    "### 导入库"
   ]
  },
  {
   "cell_type": "code",
   "execution_count": 1,
   "metadata": {},
   "outputs": [],
   "source": [
    "import numpy as np\n",
    "import pandas as pd"
   ]
  },
  {
   "cell_type": "code",
   "execution_count": 7,
   "metadata": {},
   "outputs": [],
   "source": [
    "pd.set_option('display.max_columns', 100)"
   ]
  },
  {
   "cell_type": "markdown",
   "metadata": {},
   "source": [
    "### 导入excel"
   ]
  },
  {
   "cell_type": "code",
   "execution_count": 12,
   "metadata": {
    "scrolled": true
   },
   "outputs": [],
   "source": [
    "with pd.ExcelFile(r'C:\\百度云同步盘\\小鸡理财\\数据报告\\月报\\7月\\7月.xlsx') as xlsx:\n",
    "    df_tz = pd.read_excel(xlsx,'投资')\n",
    "#     df_zc = pd.read_excel(xlsx,'注册')\n",
    "#     df_yj = pd.read_excel(xlsx,'佣金')\n",
    "#     df_vip = pd.read_excel(xlsx,'VIP变动')\n",
    "    df_quan = pd.read_excel(xlsx,'券使用')\n",
    "#     df_zht = pd.read_excel(xlsx,'智慧投')"
   ]
  },
  {
   "attachments": {
    "image.png": {
     "image/png": "[encoded data removed]"
    }
   },
   "cell_type": "markdown",
   "metadata": {},
   "source": [
    "![image.png](attachment:image.png)"
   ]
  },
  {
   "cell_type": "code",
   "execution_count": 9,
   "metadata": {},
   "outputs": [
    {
     "data": {
      "text/plain": [
       "57064000"
      ]
     },
     "execution_count": 9,
     "metadata": {},
     "output_type": "execute_result"
    }
   ],
   "source": [
    "df_tz['总投资金额'].sum()"
   ]
  },
  {
   "attachments": {
    "image.png": {
     "image/png": "[encoded data removed]"
    }
   },
   "cell_type": "markdown",
   "metadata": {},
   "source": [
    "![image.png](attachment:image.png)"
   ]
  },
  {
   "cell_type": "code",
   "execution_count": 11,
   "metadata": {},
   "outputs": [
    {
     "name": "stdout",
     "output_type": "stream",
     "text": [
      "计划名称\n",
      "新手标一月       406800\n",
      "新手标三月       326600\n",
      "智慧投12月    10297000\n",
      "智慧投1月     22740100\n",
      "智慧投3月     13508700\n",
      "智慧投6月      9784800\n",
      "Name: 总投资金额, dtype: int64\n"
     ]
    }
   ],
   "source": [
    "print(df_tz.groupby('计划名称')['总投资金额'].sum())"
   ]
  },
  {
   "attachments": {
    "image.png": {
     "image/png": "[encoded data removed]"
    }
   },
   "cell_type": "markdown",
   "metadata": {},
   "source": [
    "![image.png](attachment:image.png)"
   ]
  },
  {
   "cell_type": "code",
   "execution_count": null,
   "metadata": {},
   "outputs": [],
   "source": [
    "df_quan.groupby()"
   ]
  },
  {
   "cell_type": "code",
   "execution_count": null,
   "metadata": {},
   "outputs": [],
   "source": []
  },
  {
   "cell_type": "code",
   "execution_count": 14,
   "metadata": {},
   "outputs": [
    {
     "data": {
      "text/html": [
       "<div>\n",
       "<style scoped>\n",
       "    .dataframe tbody tr th:only-of-type {\n",
       "        vertical-align: middle;\n",
       "    }\n",
       "\n",
       "    .dataframe tbody tr th {\n",
       "        vertical-align: top;\n",
       "    }\n",
       "\n",
       "    .dataframe thead th {\n",
       "        text-align: right;\n",
       "    }\n",
       "</style>\n",
       "<table border=\"1\" class=\"dataframe\">\n",
       "  <thead>\n",
       "    <tr style=\"text-align: right;\">\n",
       "      <th></th>\n",
       "      <th>序号</th>\n",
       "      <th>ID</th>\n",
       "      <th>会员名</th>\n",
       "      <th>真实姓名</th>\n",
       "      <th>手机号码</th>\n",
       "      <th>所属公司</th>\n",
       "      <th>金额</th>\n",
       "      <th>利息率</th>\n",
       "      <th>成本</th>\n",
       "      <th>大类</th>\n",
       "      <th>使用状态</th>\n",
       "      <th>状态</th>\n",
       "      <th>生效时间</th>\n",
       "      <th>失效时间</th>\n",
       "      <th>创建时间</th>\n",
       "      <th>处理时间</th>\n",
       "      <th>使用时间</th>\n",
       "      <th>投标号</th>\n",
       "      <th>投标金额</th>\n",
       "      <th>冻结的匹配金额</th>\n",
       "      <th>券别名</th>\n",
       "      <th>描述</th>\n",
       "      <th>处理人</th>\n",
       "      <th>期限</th>\n",
       "      <th>一级上线</th>\n",
       "      <th>一级等级</th>\n",
       "      <th>一级部门</th>\n",
       "      <th>身份证</th>\n",
       "      <th>用户来源</th>\n",
       "    </tr>\n",
       "  </thead>\n",
       "  <tbody>\n",
       "    <tr>\n",
       "      <th>0</th>\n",
       "      <td>1</td>\n",
       "      <td>968456</td>\n",
       "      <td>XJLC_6461623120790c96</td>\n",
       "      <td>金岳友</td>\n",
       "      <td>18968342668</td>\n",
       "      <td>NaN</td>\n",
       "      <td>0</td>\n",
       "      <td>1.2</td>\n",
       "      <td>1.2</td>\n",
       "      <td>加息券</td>\n",
       "      <td>投标冻结</td>\n",
       "      <td>正常</td>\n",
       "      <td>2019-07-31 00:00:00</td>\n",
       "      <td>2019-08-14 23:59:59</td>\n",
       "      <td>2019-07-31 20:26:27</td>\n",
       "      <td>2019-07-31 20:26:27</td>\n",
       "      <td>2019-07-31 20:27:14</td>\n",
       "      <td>0</td>\n",
       "      <td>0.0</td>\n",
       "      <td>200</td>\n",
       "      <td>玩转一夏（2）</td>\n",
       "      <td>砸金蛋券包</td>\n",
       "      <td>平台</td>\n",
       "      <td>180</td>\n",
       "      <td>fensi</td>\n",
       "      <td>普通</td>\n",
       "      <td>其他</td>\n",
       "      <td>332621197007222234</td>\n",
       "      <td>存管版</td>\n",
       "    </tr>\n",
       "  </tbody>\n",
       "</table>\n",
       "</div>"
      ],
      "text/plain": [
       "   序号      ID                    会员名 真实姓名         手机号码 所属公司  金额  利息率   成本  \\\n",
       "0   1  968456  XJLC_6461623120790c96  金岳友  18968342668  NaN   0  1.2  1.2   \n",
       "\n",
       "    大类  使用状态  状态                 生效时间                 失效时间  \\\n",
       "0  加息券  投标冻结  正常  2019-07-31 00:00:00  2019-08-14 23:59:59   \n",
       "\n",
       "                  创建时间                 处理时间                 使用时间 投标号  投标金额  \\\n",
       "0  2019-07-31 20:26:27  2019-07-31 20:26:27  2019-07-31 20:27:14   0   0.0   \n",
       "\n",
       "   冻结的匹配金额      券别名     描述 处理人   期限   一级上线 一级等级 一级部门                 身份证 用户来源  \n",
       "0      200  玩转一夏（2）  砸金蛋券包  平台  180  fensi   普通   其他  332621197007222234  存管版  "
      ]
     },
     "execution_count": 14,
     "metadata": {},
     "output_type": "execute_result"
    }
   ],
   "source": [
    "df_quan.head(1)"
   ]
  },
  {
   "cell_type": "code",
   "execution_count": 13,
   "metadata": {},
   "outputs": [
    {
     "data": {
      "text/html": [
       "<div>\n",
       "<style scoped>\n",
       "    .dataframe tbody tr th:only-of-type {\n",
       "        vertical-align: middle;\n",
       "    }\n",
       "\n",
       "    .dataframe tbody tr th {\n",
       "        vertical-align: top;\n",
       "    }\n",
       "\n",
       "    .dataframe thead th {\n",
       "        text-align: right;\n",
       "    }\n",
       "</style>\n",
       "<table border=\"1\" class=\"dataframe\">\n",
       "  <thead>\n",
       "    <tr style=\"text-align: right;\">\n",
       "      <th></th>\n",
       "      <th>用户名</th>\n",
       "      <th>真实姓名</th>\n",
       "      <th>手机号码</th>\n",
       "      <th>身份证号码</th>\n",
       "      <th>所属公司</th>\n",
       "      <th>投资时VIP等级</th>\n",
       "      <th>注册时间</th>\n",
       "      <th>计划名称</th>\n",
       "      <th>计划期限</th>\n",
       "      <th>年利率</th>\n",
       "      <th>奖励利率</th>\n",
       "      <th>总投资金额</th>\n",
       "      <th>新充金额</th>\n",
       "      <th>续投金额</th>\n",
       "      <th>预期利息</th>\n",
       "      <th>抵用券成本</th>\n",
       "      <th>加息券成本</th>\n",
       "      <th>加息标成本</th>\n",
       "      <th>投资时间</th>\n",
       "      <th>投资来源</th>\n",
       "      <th>渠道</th>\n",
       "      <th>首投时间</th>\n",
       "      <th>综合券成本</th>\n",
       "      <th>邀请渠道</th>\n",
       "    </tr>\n",
       "  </thead>\n",
       "  <tbody>\n",
       "    <tr>\n",
       "      <th>0</th>\n",
       "      <td>XJLC_5244576690eedf7</td>\n",
       "      <td>龚亚飞</td>\n",
       "      <td>15869327728</td>\n",
       "      <td>330224196212311421</td>\n",
       "      <td>NaN</td>\n",
       "      <td>VIP1</td>\n",
       "      <td>2016-05-29</td>\n",
       "      <td>智慧投1月</td>\n",
       "      <td>1月</td>\n",
       "      <td>8.00%</td>\n",
       "      <td>0.00%</td>\n",
       "      <td>300</td>\n",
       "      <td>0.0</td>\n",
       "      <td>300.0</td>\n",
       "      <td>2.0</td>\n",
       "      <td>0</td>\n",
       "      <td>0.0</td>\n",
       "      <td>0.0</td>\n",
       "      <td>2019-07-31 23:52:09</td>\n",
       "      <td>安卓端</td>\n",
       "      <td>平台</td>\n",
       "      <td>2016-07-23 13:15:43</td>\n",
       "      <td>0.0</td>\n",
       "      <td>业务邀请</td>\n",
       "    </tr>\n",
       "  </tbody>\n",
       "</table>\n",
       "</div>"
      ],
      "text/plain": [
       "                    用户名 真实姓名         手机号码               身份证号码 所属公司 投资时VIP等级  \\\n",
       "0  XJLC_5244576690eedf7  龚亚飞  15869327728  330224196212311421  NaN     VIP1   \n",
       "\n",
       "         注册时间   计划名称 计划期限    年利率   奖励利率  总投资金额  新充金额   续投金额  预期利息  抵用券成本  \\\n",
       "0  2016-05-29  智慧投1月   1月  8.00%  0.00%    300   0.0  300.0   2.0      0   \n",
       "\n",
       "   加息券成本  加息标成本                 投资时间 投资来源  渠道                 首投时间  综合券成本  \\\n",
       "0    0.0    0.0  2019-07-31 23:52:09  安卓端  平台  2016-07-23 13:15:43    0.0   \n",
       "\n",
       "   邀请渠道  \n",
       "0  业务邀请  "
      ]
     },
     "execution_count": 13,
     "metadata": {},
     "output_type": "execute_result"
    }
   ],
   "source": [
    "df_tz.head(1)"
   ]
  },
  {
   "cell_type": "markdown",
   "metadata": {},
   "source": [
    "- 成交额"
   ]
  },
  {
   "cell_type": "code",
   "execution_count": 14,
   "metadata": {
    "scrolled": true
   },
   "outputs": [
    {
     "name": "stdout",
     "output_type": "stream",
     "text": [
      "成交额：53324000\n"
     ]
    }
   ],
   "source": [
    "cheng_jiao_sum = df_tz['总投资额'].sum()\n",
    "print('成交额：%.0f' %cheng_jiao_sum)"
   ]
  },
  {
   "cell_type": "markdown",
   "metadata": {},
   "source": [
    "- 为用户赚取收益"
   ]
  },
  {
   "cell_type": "code",
   "execution_count": 5,
   "metadata": {
    "scrolled": true
   },
   "outputs": [
    {
     "name": "stdout",
     "output_type": "stream",
     "text": [
      "投资利息（含加息标、加息券收益）2679889.23 + 佣金172370.43999999997 + 抵用券16305 + 现金券741 = 2869305.67\n"
     ]
    }
   ],
   "source": [
    "diyong_quan_sum = df_quan[df_quan['大类']=='抵用券'].金额.sum()\n",
    "xianjin_quan_sum = df_quan[df_quan['大类']=='现金券'].金额.sum()\n",
    "\n",
    "tz_shouyi_sum = df_tz['预期收益'].sum()\n",
    "yj_sum = df_yj['佣金金额'].sum()\n",
    "\n",
    "print('投资利息（含加息标、加息券收益）{0} + 佣金{1} + 抵用券{2} + 现金券{3} = {4:.2f}'\n",
    "      .format(tz_shouyi_sum,\n",
    "              yj_sum,\n",
    "              diyong_quan_sum,\n",
    "              xianjin_quan_sum,\n",
    "              tz_shouyi_sum+yj_sum+diyong_quan_sum+xianjin_quan_sum))"
   ]
  },
  {
   "cell_type": "markdown",
   "metadata": {},
   "source": [
    "- 平台累计总交易额"
   ]
  },
  {
   "cell_type": "code",
   "execution_count": 6,
   "metadata": {},
   "outputs": [
    {
     "name": "stdout",
     "output_type": "stream",
     "text": [
      "上月累计成交额3098389184.03\n",
      "\n",
      "平台累计总交易额：上月3098389184.03 + 本月53324000.0 = 3151713184.03\n"
     ]
    }
   ],
   "source": [
    "last = input('上月累计成交额')\n",
    "\n",
    "print('\\n平台累计总交易额：上月{0} + 本月{1} = {2}'\\\n",
    "      .format(float(last),cheng_jiao_sum,float(last) + cheng_jiao_sum))"
   ]
  },
  {
   "cell_type": "markdown",
   "metadata": {},
   "source": [
    "## 3页"
   ]
  },
  {
   "cell_type": "markdown",
   "metadata": {},
   "source": [
    "- 新增用户数"
   ]
  },
  {
   "cell_type": "code",
   "execution_count": 7,
   "metadata": {},
   "outputs": [
    {
     "name": "stdout",
     "output_type": "stream",
     "text": [
      "新增用户数： 1238\n"
     ]
    }
   ],
   "source": [
    "fresh_users = df_zc['用户名'].count()\n",
    "\n",
    "print('新增用户数：',fresh_users)"
   ]
  },
  {
   "cell_type": "markdown",
   "metadata": {},
   "source": [
    "- 累计注册用户数"
   ]
  },
  {
   "cell_type": "code",
   "execution_count": 8,
   "metadata": {},
   "outputs": [
    {
     "name": "stdout",
     "output_type": "stream",
     "text": [
      "上月累计注册用户数261332\n",
      "\n",
      "平台累计注册用户数：上月261332 + 本月1238 = 262570\n"
     ]
    }
   ],
   "source": [
    "last_users = input('上月累计注册用户数')\n",
    "\n",
    "print('\\n平台累计注册用户数：上月{0} + 本月{1} = {2}'\\\n",
    "      .format(int(last_users),fresh_users,int(last_users) + fresh_users))"
   ]
  },
  {
   "cell_type": "markdown",
   "metadata": {},
   "source": [
    "## 4页"
   ]
  },
  {
   "cell_type": "code",
   "execution_count": 9,
   "metadata": {
    "scrolled": true
   },
   "outputs": [
    {
     "data": {
      "text/plain": [
       "array(['安卓端', '苹果端', '微信端', 'Web端', '手机H5'], dtype=object)"
      ]
     },
     "execution_count": 9,
     "metadata": {},
     "output_type": "execute_result"
    }
   ],
   "source": [
    "df_tz['投资来源'].unique()"
   ]
  },
  {
   "cell_type": "markdown",
   "metadata": {},
   "source": [
    "- 移动端投资额"
   ]
  },
  {
   "cell_type": "code",
   "execution_count": 13,
   "metadata": {},
   "outputs": [
    {
     "name": "stdout",
     "output_type": "stream",
     "text": [
      "移动端投资额：53014800\n"
     ]
    }
   ],
   "source": [
    "tz_yidong_sum = df_tz[df_tz['投资来源'].isin(['安卓端', '苹果端', '微信端', '手机H5'])].总投资额.sum()\n",
    "\n",
    "print('移动端投资额：%.0f'%tz_yidong_sum)"
   ]
  },
  {
   "cell_type": "markdown",
   "metadata": {},
   "source": [
    "- 比例"
   ]
  },
  {
   "cell_type": "code",
   "execution_count": 15,
   "metadata": {
    "scrolled": true
   },
   "outputs": [
    {
     "name": "stdout",
     "output_type": "stream",
     "text": [
      "APP 95.53% , 微信 3.89% , PC 0.58%\n"
     ]
    }
   ],
   "source": [
    "gp = df_tz.groupby('投资来源')['总投资额'].sum()\n",
    "\n",
    "temp = pd.DataFrame(gp)\n",
    "\n",
    "temp['total'] = cheng_jiao_sum\n",
    "\n",
    "temp['percent'] = temp['总投资额'] / temp['total']\n",
    "\n",
    "print('APP {0:.2%} , 微信 {1:.2%} , PC {2:.2%}'.format(\n",
    "    1 - temp.loc['微信端','percent'] - temp.loc['Web端','percent'],\n",
    "    temp.loc['微信端','percent'],\n",
    "    temp.loc['Web端','percent']))"
   ]
  },
  {
   "cell_type": "code",
   "execution_count": 16,
   "metadata": {},
   "outputs": [
    {
     "data": {
      "text/plain": [
       "group\n",
       "APP    95.511590\n",
       "PC      0.579851\n",
       "微信      3.894869\n",
       "Name: 总投资额, dtype: float64"
      ]
     },
     "execution_count": 16,
     "metadata": {},
     "output_type": "execute_result"
    }
   ],
   "source": [
    "#方法二：\n",
    "dt = {'安卓端':'APP','苹果端':'APP','微信端':'微信','Web端':'PC'}\n",
    "\n",
    "df_tz['group'] = df_tz['投资来源'].map(dt)\n",
    "grouped = df_tz.groupby('group')['总投资额'].sum()\n",
    "\n",
    "gp_pct = grouped.apply(lambda x : 100 * x / cheng_jiao_sum)\n",
    "gp_pct"
   ]
  },
  {
   "cell_type": "markdown",
   "metadata": {},
   "source": [
    "## 5页"
   ]
  },
  {
   "cell_type": "markdown",
   "metadata": {},
   "source": [
    "- 月度土豪奖"
   ]
  },
  {
   "cell_type": "code",
   "execution_count": 17,
   "metadata": {},
   "outputs": [
    {
     "name": "stdout",
     "output_type": "stream",
     "text": [
      "月度土豪奖:13606596070 | 129万\n"
     ]
    }
   ],
   "source": [
    "gp_tz_1 = df_zht.groupby('手机号码')['总投资金额'].sum().sort_values(ascending=False)\n",
    "\n",
    "phone = gp_tz_1.index[0]\n",
    "num = gp_tz_1.iloc[0]\n",
    "\n",
    "print('月度土豪奖:{0} | {1:.0f}万'.format(phone,num/10000))"
   ]
  },
  {
   "cell_type": "markdown",
   "metadata": {},
   "source": [
    "- 月度勤恳奖"
   ]
  },
  {
   "cell_type": "code",
   "execution_count": 18,
   "metadata": {},
   "outputs": [
    {
     "name": "stdout",
     "output_type": "stream",
     "text": [
      "月度勤恳奖:13056856785 | 48次\n"
     ]
    }
   ],
   "source": [
    "gp_tz_2 = df_zht.groupby('手机号码')['总投资金额'].count().sort_values(ascending=False)\n",
    "\n",
    "phone = gp_tz_2.index[0]\n",
    "num = gp_tz_2.iloc[0]\n",
    "\n",
    "print('月度勤恳奖:{0} | {1}次'.format(phone,num))"
   ]
  },
  {
   "cell_type": "markdown",
   "metadata": {},
   "source": [
    "- 月度收获奖"
   ]
  },
  {
   "cell_type": "code",
   "execution_count": 19,
   "metadata": {},
   "outputs": [
    {
     "name": "stdout",
     "output_type": "stream",
     "text": [
      "月度收获奖:13777157617 | 6万\n"
     ]
    }
   ],
   "source": [
    "df_zht['profit'] = df_zht['预期利息']+df_zht['抵用券成本']\n",
    "\n",
    "gp_tz_3 = df_zht.groupby('手机号码')['profit'].sum().sort_values(ascending=False)\n",
    "\n",
    "phone = gp_tz_3.index[0]\n",
    "num = gp_tz_3.iloc[0]\n",
    "\n",
    "print('月度收获奖:{0} | {1:.0f}万'.format(phone,num/10000))"
   ]
  },
  {
   "cell_type": "markdown",
   "metadata": {},
   "source": [
    "- 月度人气奖"
   ]
  },
  {
   "cell_type": "code",
   "execution_count": 20,
   "metadata": {},
   "outputs": [
    {
     "name": "stdout",
     "output_type": "stream",
     "text": [
      "月度人气奖:13567444503 | 132人\n"
     ]
    }
   ],
   "source": [
    "gp_zc_1 = df_zc.groupby('邀请人')['用户名'].count().sort_values(ascending=False)\n",
    "\n",
    "phone = gp_zc_1.index[0]\n",
    "num = gp_zc_1.iloc[0]\n",
    "\n",
    "print('月度人气奖:{0:.0f} | {1}人'.format(phone,num))"
   ]
  },
  {
   "cell_type": "markdown",
   "metadata": {},
   "source": [
    "## 6页"
   ]
  },
  {
   "cell_type": "markdown",
   "metadata": {},
   "source": [
    "- “壕”气冲天"
   ]
  },
  {
   "cell_type": "code",
   "execution_count": 21,
   "metadata": {},
   "outputs": [
    {
     "name": "stdout",
     "output_type": "stream",
     "text": [
      "“壕”气冲天:VIP6 | 23万\n"
     ]
    }
   ],
   "source": [
    "gp_tz_4 = df_tz.groupby('投资时会员类型')['总投资额'].sum()\n",
    "# print(gp_tz_4)\n",
    "\n",
    "gp_tz_5 = df_tz.groupby('投资时会员类型')['投资用户'].nunique()\n",
    "# print(gp_tz_5)\n",
    "\n",
    "gp_tz_6 = pd.concat([gp_tz_4, gp_tz_5], axis=1)\n",
    "gp_tz_6['avg'] = gp_tz_6['总投资额'] / gp_tz_6['投资用户']\n",
    "gp_tz_6.sort_values(by = 'avg',ascending = False,inplace = True)\n",
    "\n",
    "vip = gp_tz_6.index[0]\n",
    "num = gp_tz_6.iloc[0,2]\n",
    "\n",
    "print('“壕”气冲天:{0} | {1:.0f}万'.format(vip,num/10000))"
   ]
  },
  {
   "cell_type": "markdown",
   "metadata": {},
   "source": [
    "- “勇”争先锋"
   ]
  },
  {
   "cell_type": "code",
   "execution_count": 22,
   "metadata": {},
   "outputs": [
    {
     "name": "stdout",
     "output_type": "stream",
     "text": [
      "“勇”争先锋:VIP2 | 1343万\n"
     ]
    }
   ],
   "source": [
    "gp_tz_4.sort_values(ascending = False,inplace = True)\n",
    "\n",
    "vip = gp_tz_4.index[0]\n",
    "num = gp_tz_4.iloc[0]\n",
    "\n",
    "print('“勇”争先锋:{0} | {1:.0f}万'.format(vip,num/10000))"
   ]
  },
  {
   "cell_type": "markdown",
   "metadata": {},
   "source": [
    "- VIP用户升级情况"
   ]
  },
  {
   "cell_type": "code",
   "execution_count": 23,
   "metadata": {
    "scrolled": true
   },
   "outputs": [
    {
     "name": "stdout",
     "output_type": "stream",
     "text": [
      "263位用户的VIP等级提升，其中：\n",
      "\n"
     ]
    },
    {
     "name": "stderr",
     "output_type": "stream",
     "text": [
      "c:\\users\\dragon\\appdata\\local\\programs\\python\\python37\\lib\\site-packages\\ipykernel_launcher.py:4: SettingWithCopyWarning: \n",
      "A value is trying to be set on a copy of a slice from a DataFrame\n",
      "\n",
      "See the caveats in the documentation: http://pandas.pydata.org/pandas-docs/stable/indexing.html#indexing-view-versus-copy\n",
      "  after removing the cwd from sys.path.\n",
      "c:\\users\\dragon\\appdata\\local\\programs\\python\\python37\\lib\\site-packages\\ipykernel_launcher.py:5: SettingWithCopyWarning: \n",
      "A value is trying to be set on a copy of a slice from a DataFrame\n",
      "\n",
      "See the caveats in the documentation: http://pandas.pydata.org/pandas-docs/stable/indexing.html#indexing-view-versus-copy\n",
      "  \"\"\"\n"
     ]
    },
    {
     "data": {
      "text/plain": [
       "VIP 升级人数\n",
       "1    104\n",
       "2     78\n",
       "3     45\n",
       "4     19\n",
       "5     15\n",
       "6      2\n",
       "Name: 用户名, dtype: int64"
      ]
     },
     "execution_count": 23,
     "metadata": {},
     "output_type": "execute_result"
    }
   ],
   "source": [
    "df_vip_up = df_vip[df_vip['变动原因'] == '升级']\n",
    "# df_vip_up['变动原因'].unique()\n",
    "\n",
    "df_vip_up.sort_values(by = '变动后等级',ascending = False,inplace = True)\n",
    "df_vip_up.drop_duplicates(subset=['用户名'],inplace = True)\n",
    "\n",
    "# df_vip_up.info()\n",
    "gp_vip = df_vip_up.groupby('变动后等级')['用户名'].count()\n",
    "gp_vip.index.name = 'VIP 升级人数' \n",
    "\n",
    "print('{0}位用户的VIP等级提升，其中：\\n'.format(gp_vip.sum()))\n",
    "gp_vip"
   ]
  },
  {
   "cell_type": "code",
   "execution_count": null,
   "metadata": {},
   "outputs": [],
   "source": []
  }
 ],
 "metadata": {
  "kernelspec": {
   "display_name": "Python 3",
   "language": "python",
   "name": "python3"
  },
  "language_info": {
   "codemirror_mode": {
    "name": "ipython",
    "version": 3
   },
   "file_extension": ".py",
   "mimetype": "text/x-python",
   "name": "python",
   "nbconvert_exporter": "python",
   "pygments_lexer": "ipython3",
   "version": "3.7.2"
  }
 },
 "nbformat": 4,
 "nbformat_minor": 2
}
