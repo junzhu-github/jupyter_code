{
 "cells": [
  {
   "cell_type": "code",
   "execution_count": 16,
   "metadata": {},
   "outputs": [],
   "source": [
    "import os\n",
    "import time\n",
    "import numpy as np\n",
    "import pandas as pd\n",
    "import matplotlib.pyplot as plt\n",
    "%matplotlib inline"
   ]
  },
  {
   "cell_type": "markdown",
   "metadata": {},
   "source": [
    "- read data"
   ]
  },
  {
   "cell_type": "code",
   "execution_count": 17,
   "metadata": {},
   "outputs": [],
   "source": [
    "os.chdir(r'C:\\Users\\Dragon\\OneDrive\\invest')"
   ]
  },
  {
   "cell_type": "code",
   "execution_count": 18,
   "metadata": {},
   "outputs": [],
   "source": [
    "df_btc_price = pd.read_excel('btc_price.xlsx')"
   ]
  },
  {
   "cell_type": "code",
   "execution_count": 19,
   "metadata": {},
   "outputs": [
    {
     "data": {
      "text/html": [
       "<div>\n",
       "<style scoped>\n",
       "    .dataframe tbody tr th:only-of-type {\n",
       "        vertical-align: middle;\n",
       "    }\n",
       "\n",
       "    .dataframe tbody tr th {\n",
       "        vertical-align: top;\n",
       "    }\n",
       "\n",
       "    .dataframe thead th {\n",
       "        text-align: right;\n",
       "    }\n",
       "</style>\n",
       "<table border=\"1\" class=\"dataframe\">\n",
       "  <thead>\n",
       "    <tr style=\"text-align: right;\">\n",
       "      <th></th>\n",
       "      <th>Close</th>\n",
       "    </tr>\n",
       "  </thead>\n",
       "  <tbody>\n",
       "    <tr>\n",
       "      <td>count</td>\n",
       "      <td>674.000000</td>\n",
       "    </tr>\n",
       "    <tr>\n",
       "      <td>mean</td>\n",
       "      <td>7287.555712</td>\n",
       "    </tr>\n",
       "    <tr>\n",
       "      <td>std</td>\n",
       "      <td>2353.278570</td>\n",
       "    </tr>\n",
       "    <tr>\n",
       "      <td>min</td>\n",
       "      <td>3236.760000</td>\n",
       "    </tr>\n",
       "    <tr>\n",
       "      <td>25%</td>\n",
       "      <td>5670.610000</td>\n",
       "    </tr>\n",
       "    <tr>\n",
       "      <td>50%</td>\n",
       "      <td>7284.650000</td>\n",
       "    </tr>\n",
       "    <tr>\n",
       "      <td>75%</td>\n",
       "      <td>8973.007500</td>\n",
       "    </tr>\n",
       "    <tr>\n",
       "      <td>max</td>\n",
       "      <td>13016.230000</td>\n",
       "    </tr>\n",
       "  </tbody>\n",
       "</table>\n",
       "</div>"
      ],
      "text/plain": [
       "              Close\n",
       "count    674.000000\n",
       "mean    7287.555712\n",
       "std     2353.278570\n",
       "min     3236.760000\n",
       "25%     5670.610000\n",
       "50%     7284.650000\n",
       "75%     8973.007500\n",
       "max    13016.230000"
      ]
     },
     "execution_count": 19,
     "metadata": {},
     "output_type": "execute_result"
    }
   ],
   "source": [
    "df_btc_price.describe()"
   ]
  },
  {
   "cell_type": "code",
   "execution_count": 20,
   "metadata": {},
   "outputs": [
    {
     "name": "stdout",
     "output_type": "stream",
     "text": [
      "<class 'pandas.core.frame.DataFrame'>\n",
      "RangeIndex: 674 entries, 0 to 673\n",
      "Data columns (total 2 columns):\n",
      "Date     674 non-null datetime64[ns]\n",
      "Close    674 non-null float64\n",
      "dtypes: datetime64[ns](1), float64(1)\n",
      "memory usage: 10.7 KB\n"
     ]
    }
   ],
   "source": [
    "df_btc_price.info()"
   ]
  },
  {
   "cell_type": "code",
   "execution_count": 21,
   "metadata": {},
   "outputs": [
    {
     "data": {
      "text/html": [
       "<div>\n",
       "<style scoped>\n",
       "    .dataframe tbody tr th:only-of-type {\n",
       "        vertical-align: middle;\n",
       "    }\n",
       "\n",
       "    .dataframe tbody tr th {\n",
       "        vertical-align: top;\n",
       "    }\n",
       "\n",
       "    .dataframe thead th {\n",
       "        text-align: right;\n",
       "    }\n",
       "</style>\n",
       "<table border=\"1\" class=\"dataframe\">\n",
       "  <thead>\n",
       "    <tr style=\"text-align: right;\">\n",
       "      <th></th>\n",
       "      <th>Date</th>\n",
       "      <th>Close</th>\n",
       "    </tr>\n",
       "  </thead>\n",
       "  <tbody>\n",
       "    <tr>\n",
       "      <td>0</td>\n",
       "      <td>2018-01-22</td>\n",
       "      <td>10931.4</td>\n",
       "    </tr>\n",
       "    <tr>\n",
       "      <td>1</td>\n",
       "      <td>2018-01-23</td>\n",
       "      <td>10868.4</td>\n",
       "    </tr>\n",
       "    <tr>\n",
       "      <td>2</td>\n",
       "      <td>2018-01-24</td>\n",
       "      <td>11359.4</td>\n",
       "    </tr>\n",
       "    <tr>\n",
       "      <td>3</td>\n",
       "      <td>2018-01-25</td>\n",
       "      <td>11259.4</td>\n",
       "    </tr>\n",
       "    <tr>\n",
       "      <td>4</td>\n",
       "      <td>2018-01-26</td>\n",
       "      <td>11171.4</td>\n",
       "    </tr>\n",
       "  </tbody>\n",
       "</table>\n",
       "</div>"
      ],
      "text/plain": [
       "        Date    Close\n",
       "0 2018-01-22  10931.4\n",
       "1 2018-01-23  10868.4\n",
       "2 2018-01-24  11359.4\n",
       "3 2018-01-25  11259.4\n",
       "4 2018-01-26  11171.4"
      ]
     },
     "execution_count": 21,
     "metadata": {},
     "output_type": "execute_result"
    }
   ],
   "source": [
    "df_btc_price.head()"
   ]
  },
  {
   "cell_type": "code",
   "execution_count": 22,
   "metadata": {},
   "outputs": [
    {
     "data": {
      "text/html": [
       "<div>\n",
       "<style scoped>\n",
       "    .dataframe tbody tr th:only-of-type {\n",
       "        vertical-align: middle;\n",
       "    }\n",
       "\n",
       "    .dataframe tbody tr th {\n",
       "        vertical-align: top;\n",
       "    }\n",
       "\n",
       "    .dataframe thead th {\n",
       "        text-align: right;\n",
       "    }\n",
       "</style>\n",
       "<table border=\"1\" class=\"dataframe\">\n",
       "  <thead>\n",
       "    <tr style=\"text-align: right;\">\n",
       "      <th></th>\n",
       "      <th>Date</th>\n",
       "      <th>Close</th>\n",
       "    </tr>\n",
       "  </thead>\n",
       "  <tbody>\n",
       "    <tr>\n",
       "      <td>669</td>\n",
       "      <td>2019-11-22</td>\n",
       "      <td>7296.58</td>\n",
       "    </tr>\n",
       "    <tr>\n",
       "      <td>670</td>\n",
       "      <td>2019-11-23</td>\n",
       "      <td>7397.80</td>\n",
       "    </tr>\n",
       "    <tr>\n",
       "      <td>671</td>\n",
       "      <td>2019-11-24</td>\n",
       "      <td>7047.92</td>\n",
       "    </tr>\n",
       "    <tr>\n",
       "      <td>672</td>\n",
       "      <td>2019-11-25</td>\n",
       "      <td>7146.13</td>\n",
       "    </tr>\n",
       "    <tr>\n",
       "      <td>673</td>\n",
       "      <td>2019-11-26</td>\n",
       "      <td>7218.37</td>\n",
       "    </tr>\n",
       "  </tbody>\n",
       "</table>\n",
       "</div>"
      ],
      "text/plain": [
       "          Date    Close\n",
       "669 2019-11-22  7296.58\n",
       "670 2019-11-23  7397.80\n",
       "671 2019-11-24  7047.92\n",
       "672 2019-11-25  7146.13\n",
       "673 2019-11-26  7218.37"
      ]
     },
     "execution_count": 22,
     "metadata": {},
     "output_type": "execute_result"
    }
   ],
   "source": [
    "df_btc_price.tail()"
   ]
  },
  {
   "cell_type": "code",
   "execution_count": 23,
   "metadata": {},
   "outputs": [
    {
     "data": {
      "text/plain": [
       "11171.4"
      ]
     },
     "execution_count": 23,
     "metadata": {},
     "output_type": "execute_result"
    }
   ],
   "source": [
    "df_btc_price.loc[df_btc_price.index[4],'Close']"
   ]
  },
  {
   "cell_type": "code",
   "execution_count": 24,
   "metadata": {},
   "outputs": [
    {
     "data": {
      "text/plain": [
       "4"
      ]
     },
     "execution_count": 24,
     "metadata": {},
     "output_type": "execute_result"
    }
   ],
   "source": [
    "df_btc_price.index[4]"
   ]
  },
  {
   "cell_type": "markdown",
   "metadata": {},
   "source": [
    "- set varible"
   ]
  },
  {
   "cell_type": "code",
   "execution_count": 39,
   "metadata": {},
   "outputs": [],
   "source": [
    "below_percent_buy = 0.1\n",
    "above_price_percent = 1.1\n",
    "sale_btc_amount = 0.1"
   ]
  },
  {
   "cell_type": "markdown",
   "metadata": {},
   "source": [
    "- first buy"
   ]
  },
  {
   "cell_type": "code",
   "execution_count": 26,
   "metadata": {},
   "outputs": [],
   "source": [
    "df_btc_price.loc[0,'out_money'] = 1000\n",
    "df_btc_price.loc[0,'cum_out_money'] = 1000\n",
    "df_btc_price.loc[0,'in_amount'] = 1000 / 10931.4\n",
    "df_btc_price.loc[0,'cum_in_amount'] = 1000 / 10931.4\n",
    "df_btc_price.loc[0,'out_amount'] = 0\n",
    "df_btc_price.loc[0,'cum_out_amount'] = 0\n",
    "df_btc_price.loc[0,'in_money'] = 0\n",
    "df_btc_price.loc[0,'cum_in_money'] = 0\n",
    "df_btc_price.loc[0,'own_amount'] = 1000 / 10931.4\n",
    "df_btc_price.loc[0,'cost'] = 10931.4\n",
    "df_btc_price.loc[0,'cost_change_percent'] = np.nan\n",
    "df_btc_price.loc[0,'btc_value'] = 1000\n",
    "df_btc_price.loc[0,'own_value'] = 1000\n",
    "df_btc_price.loc[0,'value_gap'] = 0\n",
    "df_btc_price.loc[0,'value_gap_percent'] = np.nan"
   ]
  },
  {
   "cell_type": "code",
   "execution_count": 40,
   "metadata": {
    "scrolled": true
   },
   "outputs": [
    {
     "data": {
      "text/html": [
       "<div>\n",
       "<style scoped>\n",
       "    .dataframe tbody tr th:only-of-type {\n",
       "        vertical-align: middle;\n",
       "    }\n",
       "\n",
       "    .dataframe tbody tr th {\n",
       "        vertical-align: top;\n",
       "    }\n",
       "\n",
       "    .dataframe thead th {\n",
       "        text-align: right;\n",
       "    }\n",
       "</style>\n",
       "<table border=\"1\" class=\"dataframe\">\n",
       "  <thead>\n",
       "    <tr style=\"text-align: right;\">\n",
       "      <th></th>\n",
       "      <th>Date</th>\n",
       "      <th>Close</th>\n",
       "      <th>out_money</th>\n",
       "      <th>cum_out_money</th>\n",
       "      <th>in_amount</th>\n",
       "      <th>cum_in_amount</th>\n",
       "      <th>out_amount</th>\n",
       "      <th>cum_out_amount</th>\n",
       "      <th>in_money</th>\n",
       "      <th>cum_in_money</th>\n",
       "      <th>own_amount</th>\n",
       "      <th>cost</th>\n",
       "      <th>cost_change_percent</th>\n",
       "      <th>btc_value</th>\n",
       "      <th>own_value</th>\n",
       "      <th>value_gap</th>\n",
       "      <th>value_gap_percent</th>\n",
       "    </tr>\n",
       "  </thead>\n",
       "  <tbody>\n",
       "    <tr>\n",
       "      <td>0</td>\n",
       "      <td>2018-01-22</td>\n",
       "      <td>10931.4</td>\n",
       "      <td>1000.0</td>\n",
       "      <td>1000.0</td>\n",
       "      <td>0.09148</td>\n",
       "      <td>0.09148</td>\n",
       "      <td>0.0</td>\n",
       "      <td>0.0</td>\n",
       "      <td>0.0</td>\n",
       "      <td>0.0</td>\n",
       "      <td>0.09148</td>\n",
       "      <td>10931.4</td>\n",
       "      <td>NaN</td>\n",
       "      <td>1000.000000</td>\n",
       "      <td>1000.000000</td>\n",
       "      <td>0.000000</td>\n",
       "      <td>NaN</td>\n",
       "    </tr>\n",
       "    <tr>\n",
       "      <td>1</td>\n",
       "      <td>2018-01-23</td>\n",
       "      <td>10868.4</td>\n",
       "      <td>0.0</td>\n",
       "      <td>1000.0</td>\n",
       "      <td>0.00000</td>\n",
       "      <td>0.09148</td>\n",
       "      <td>0.0</td>\n",
       "      <td>0.0</td>\n",
       "      <td>0.0</td>\n",
       "      <td>0.0</td>\n",
       "      <td>0.09148</td>\n",
       "      <td>10931.4</td>\n",
       "      <td>0.0</td>\n",
       "      <td>994.236786</td>\n",
       "      <td>994.236786</td>\n",
       "      <td>-5.763214</td>\n",
       "      <td>-0.576321</td>\n",
       "    </tr>\n",
       "    <tr>\n",
       "      <td>2</td>\n",
       "      <td>2018-01-24</td>\n",
       "      <td>11359.4</td>\n",
       "      <td>0.0</td>\n",
       "      <td>1000.0</td>\n",
       "      <td>0.00000</td>\n",
       "      <td>0.09148</td>\n",
       "      <td>0.0</td>\n",
       "      <td>0.0</td>\n",
       "      <td>0.0</td>\n",
       "      <td>0.0</td>\n",
       "      <td>0.09148</td>\n",
       "      <td>10931.4</td>\n",
       "      <td>0.0</td>\n",
       "      <td>1039.153265</td>\n",
       "      <td>1039.153265</td>\n",
       "      <td>39.153265</td>\n",
       "      <td>3.915326</td>\n",
       "    </tr>\n",
       "    <tr>\n",
       "      <td>3</td>\n",
       "      <td>2018-01-25</td>\n",
       "      <td>11259.4</td>\n",
       "      <td>0.0</td>\n",
       "      <td>1000.0</td>\n",
       "      <td>0.00000</td>\n",
       "      <td>0.09148</td>\n",
       "      <td>0.0</td>\n",
       "      <td>0.0</td>\n",
       "      <td>0.0</td>\n",
       "      <td>0.0</td>\n",
       "      <td>0.09148</td>\n",
       "      <td>10931.4</td>\n",
       "      <td>0.0</td>\n",
       "      <td>1030.005306</td>\n",
       "      <td>1030.005306</td>\n",
       "      <td>30.005306</td>\n",
       "      <td>3.000531</td>\n",
       "    </tr>\n",
       "    <tr>\n",
       "      <td>4</td>\n",
       "      <td>2018-01-26</td>\n",
       "      <td>11171.4</td>\n",
       "      <td>0.0</td>\n",
       "      <td>1000.0</td>\n",
       "      <td>0.00000</td>\n",
       "      <td>0.09148</td>\n",
       "      <td>0.0</td>\n",
       "      <td>0.0</td>\n",
       "      <td>0.0</td>\n",
       "      <td>0.0</td>\n",
       "      <td>0.09148</td>\n",
       "      <td>10931.4</td>\n",
       "      <td>0.0</td>\n",
       "      <td>1021.955102</td>\n",
       "      <td>1021.955102</td>\n",
       "      <td>21.955102</td>\n",
       "      <td>2.195510</td>\n",
       "    </tr>\n",
       "  </tbody>\n",
       "</table>\n",
       "</div>"
      ],
      "text/plain": [
       "        Date    Close  out_money  cum_out_money  in_amount  cum_in_amount  \\\n",
       "0 2018-01-22  10931.4     1000.0         1000.0    0.09148        0.09148   \n",
       "1 2018-01-23  10868.4        0.0         1000.0    0.00000        0.09148   \n",
       "2 2018-01-24  11359.4        0.0         1000.0    0.00000        0.09148   \n",
       "3 2018-01-25  11259.4        0.0         1000.0    0.00000        0.09148   \n",
       "4 2018-01-26  11171.4        0.0         1000.0    0.00000        0.09148   \n",
       "\n",
       "   out_amount  cum_out_amount  in_money  cum_in_money  own_amount     cost  \\\n",
       "0         0.0             0.0       0.0           0.0     0.09148  10931.4   \n",
       "1         0.0             0.0       0.0           0.0     0.09148  10931.4   \n",
       "2         0.0             0.0       0.0           0.0     0.09148  10931.4   \n",
       "3         0.0             0.0       0.0           0.0     0.09148  10931.4   \n",
       "4         0.0             0.0       0.0           0.0     0.09148  10931.4   \n",
       "\n",
       "   cost_change_percent    btc_value    own_value  value_gap  value_gap_percent  \n",
       "0                  NaN  1000.000000  1000.000000   0.000000                NaN  \n",
       "1                  0.0   994.236786   994.236786  -5.763214          -0.576321  \n",
       "2                  0.0  1039.153265  1039.153265  39.153265           3.915326  \n",
       "3                  0.0  1030.005306  1030.005306  30.005306           3.000531  \n",
       "4                  0.0  1021.955102  1021.955102  21.955102           2.195510  "
      ]
     },
     "execution_count": 40,
     "metadata": {},
     "output_type": "execute_result"
    }
   ],
   "source": [
    "df_btc_price.head()"
   ]
  },
  {
   "cell_type": "code",
   "execution_count": 28,
   "metadata": {},
   "outputs": [
    {
     "data": {
      "text/plain": [
       "3"
      ]
     },
     "execution_count": 28,
     "metadata": {},
     "output_type": "execute_result"
    }
   ],
   "source": [
    "x = df_btc_price.loc[3,'Date'] - df_btc_price.loc[0,'Date']\n",
    "x.days"
   ]
  },
  {
   "cell_type": "markdown",
   "metadata": {},
   "source": [
    "- following calculator"
   ]
  },
  {
   "cell_type": "code",
   "execution_count": 29,
   "metadata": {},
   "outputs": [],
   "source": [
    "def buy_btc(n,price):\n",
    "    df_btc_price.loc[n,'out_money'] = 1000\n",
    "    df_btc_price.loc[n,'cum_out_money'] = df_btc_price.loc[n-1,'cum_out_money'] + 1000\n",
    "    df_btc_price.loc[n,'in_amount'] = 1000 / price\n",
    "    df_btc_price.loc[n,'cum_in_amount'] = df_btc_price.loc[n,'in_amount'] + df_btc_price.loc[n-1,'cum_in_amount']\n",
    "    df_btc_price.loc[n,'out_amount'] = 0\n",
    "    df_btc_price.loc[n,'cum_out_amount'] = df_btc_price.loc[n-1,'cum_out_amount']\n",
    "    df_btc_price.loc[n,'in_money'] = 0\n",
    "    df_btc_price.loc[n,'cum_in_money'] = df_btc_price.loc[n-1,'cum_in_money']\n",
    "    df_btc_price.loc[n,'own_amount'] = df_btc_price.loc[n,'cum_in_amount'] - df_btc_price.loc[n,'cum_out_amount']\n",
    "    df_btc_price.loc[n,'cost'] = (df_btc_price.loc[n,'cum_out_money'] - df_btc_price.loc[n,'cum_in_money']) / df_btc_price.loc[n,'own_amount']\n",
    "    df_btc_price.loc[n,'cost_change_percent'] = (df_btc_price.loc[n,'cost'] / df_btc_price.loc[n-1,'cost'] -1) * 100\n",
    "    df_btc_price.loc[n,'btc_value'] = price * df_btc_price.loc[n,'own_amount']\n",
    "    df_btc_price.loc[n,'own_value'] = df_btc_price.loc[n,'btc_value'] + df_btc_price.loc[n,'cum_in_money']\n",
    "    df_btc_price.loc[n,'value_gap'] = df_btc_price.loc[n,'own_value'] - df_btc_price.loc[n,'cum_out_money']\n",
    "    df_btc_price.loc[n,'value_gap_percent'] = (df_btc_price.loc[n,'value_gap'] / df_btc_price.loc[n,'cum_out_money']) * 100"
   ]
  },
  {
   "cell_type": "code",
   "execution_count": 30,
   "metadata": {},
   "outputs": [],
   "source": [
    "def sale_btc(n,price,sale_btc_amount):\n",
    "    df_btc_price.loc[n,'out_money'] = 0\n",
    "    df_btc_price.loc[n,'cum_out_money'] = df_btc_price.loc[n-1,'cum_out_money']\n",
    "    df_btc_price.loc[n,'in_amount'] = 0\n",
    "    df_btc_price.loc[n,'cum_in_amount'] = df_btc_price.loc[n-1,'cum_in_amount']\n",
    "    df_btc_price.loc[n,'out_amount'] = df_btc_price.loc[n-1,'own_amount'] * sale_btc_amount\n",
    "    df_btc_price.loc[n,'cum_out_amount'] = df_btc_price.loc[n,'out_amount'] + df_btc_price.loc[n-1,'cum_out_amount']\n",
    "    df_btc_price.loc[n,'in_money'] = df_btc_price.loc[n,'out_amount'] * price\n",
    "    df_btc_price.loc[n,'cum_in_money'] = df_btc_price.loc[n,'in_money'] + df_btc_price.loc[n-1,'cum_in_money']\n",
    "    df_btc_price.loc[n,'own_amount'] = df_btc_price.loc[n,'cum_in_amount'] - df_btc_price.loc[n,'cum_out_amount']\n",
    "    df_btc_price.loc[n,'cost'] = (df_btc_price.loc[n,'cum_out_money'] - df_btc_price.loc[n,'cum_in_money']) / df_btc_price.loc[n,'own_amount']\n",
    "    df_btc_price.loc[n,'cost_change_percent'] = (df_btc_price.loc[n,'cost'] / df_btc_price.loc[n-1,'cost'] -1) * 100\n",
    "    df_btc_price.loc[n,'btc_value'] = price * df_btc_price.loc[n,'own_amount']\n",
    "    df_btc_price.loc[n,'own_value'] = df_btc_price.loc[n,'btc_value'] + df_btc_price.loc[n,'cum_in_money']\n",
    "    df_btc_price.loc[n,'value_gap'] = df_btc_price.loc[n,'own_value'] - df_btc_price.loc[n,'cum_out_money']\n",
    "    df_btc_price.loc[n,'value_gap_percent'] = (df_btc_price.loc[n,'value_gap'] / df_btc_price.loc[n,'cum_out_money']) * 100"
   ]
  },
  {
   "cell_type": "code",
   "execution_count": 31,
   "metadata": {},
   "outputs": [],
   "source": [
    "def no_action(n,price):\n",
    "    df_btc_price.loc[n,'out_money'] = 0\n",
    "    df_btc_price.loc[n,'cum_out_money'] = df_btc_price.loc[n-1,'cum_out_money']\n",
    "    df_btc_price.loc[n,'in_amount'] = 0\n",
    "    df_btc_price.loc[n,'cum_in_amount'] = df_btc_price.loc[n-1,'cum_in_amount']\n",
    "    df_btc_price.loc[n,'out_amount'] = 0\n",
    "    df_btc_price.loc[n,'cum_out_amount'] = df_btc_price.loc[n-1,'cum_out_amount']\n",
    "    df_btc_price.loc[n,'in_money'] = 0\n",
    "    df_btc_price.loc[n,'cum_in_money'] = df_btc_price.loc[n-1,'cum_in_money']\n",
    "    df_btc_price.loc[n,'own_amount'] = df_btc_price.loc[n-1,'own_amount']\n",
    "    df_btc_price.loc[n,'cost'] = df_btc_price.loc[n-1,'cost']\n",
    "    df_btc_price.loc[n,'cost_change_percent'] = 0\n",
    "    df_btc_price.loc[n,'btc_value'] = price * df_btc_price.loc[n,'own_amount']\n",
    "    df_btc_price.loc[n,'own_value'] = df_btc_price.loc[n,'btc_value'] + df_btc_price.loc[n,'cum_in_money']\n",
    "    df_btc_price.loc[n,'value_gap'] = df_btc_price.loc[n,'own_value'] - df_btc_price.loc[n,'cum_out_money']\n",
    "    df_btc_price.loc[n,'value_gap_percent'] = (df_btc_price.loc[n,'value_gap'] / df_btc_price.loc[n,'cum_out_money']) * 100"
   ]
  },
  {
   "cell_type": "code",
   "execution_count": 41,
   "metadata": {},
   "outputs": [],
   "source": [
    "for i in range(1,df_btc_price.shape[0]):\n",
    "    price = df_btc_price.loc[i,'Close']\n",
    "    if df_btc_price.loc[i-1,'cost'] * below_percent_buy - price >=0:\n",
    "        buy_btc(i,price)\n",
    "    elif price - df_btc_price.loc[i-1,'cost'] * above_price_percent >= 0:\n",
    "        sale_btc(i,price,sale_btc_amount)\n",
    "    else:\n",
    "        no_action(i,price)\n",
    "    \n",
    "    if df_btc_price.loc[i,'cost'] <= 0:\n",
    "        break        "
   ]
  },
  {
   "cell_type": "code",
   "execution_count": 42,
   "metadata": {},
   "outputs": [],
   "source": [
    "df = df_btc_price.dropna(subset=['out_money'])\n",
    "\n",
    "end_day = df.loc[df.index[-1],'Date']\n",
    "during_days = df.shape[0]\n",
    "\n",
    "max_out_money = df['cum_out_money'].max()\n",
    "\n",
    "max_own_value = df['own_value'].max()\n",
    "max_own_value_day = df.iloc[df['own_value'].idxmax(),0]\n",
    "\n",
    "last_own_value = df.loc[df.index[-1],'own_value']\n",
    "\n",
    "max_recall_percent = df['value_gap_percent'].min()\n",
    "\n",
    "max_earn_percent = df['value_gap_percent'].max()\n",
    "max_earn_percent_day = df.iloc[df['value_gap_percent'].idxmax(),0]"
   ]
  },
  {
   "cell_type": "code",
   "execution_count": 43,
   "metadata": {},
   "outputs": [
    {
     "data": {
      "text/html": [
       "<div>\n",
       "<style scoped>\n",
       "    .dataframe tbody tr th:only-of-type {\n",
       "        vertical-align: middle;\n",
       "    }\n",
       "\n",
       "    .dataframe tbody tr th {\n",
       "        vertical-align: top;\n",
       "    }\n",
       "\n",
       "    .dataframe thead th {\n",
       "        text-align: right;\n",
       "    }\n",
       "</style>\n",
       "<table border=\"1\" class=\"dataframe\">\n",
       "  <thead>\n",
       "    <tr style=\"text-align: right;\">\n",
       "      <th></th>\n",
       "      <th>Date</th>\n",
       "      <th>Close</th>\n",
       "      <th>out_money</th>\n",
       "      <th>cum_out_money</th>\n",
       "      <th>in_amount</th>\n",
       "      <th>cum_in_amount</th>\n",
       "      <th>out_amount</th>\n",
       "      <th>cum_out_amount</th>\n",
       "      <th>in_money</th>\n",
       "      <th>cum_in_money</th>\n",
       "      <th>own_amount</th>\n",
       "      <th>cost</th>\n",
       "      <th>cost_change_percent</th>\n",
       "      <th>btc_value</th>\n",
       "      <th>own_value</th>\n",
       "      <th>value_gap</th>\n",
       "      <th>value_gap_percent</th>\n",
       "    </tr>\n",
       "  </thead>\n",
       "  <tbody>\n",
       "    <tr>\n",
       "      <td>547</td>\n",
       "      <td>2019-07-23</td>\n",
       "      <td>9900.77</td>\n",
       "      <td>0.0</td>\n",
       "      <td>1000.0</td>\n",
       "      <td>0.0</td>\n",
       "      <td>0.09148</td>\n",
       "      <td>0.000901</td>\n",
       "      <td>0.083372</td>\n",
       "      <td>8.919251</td>\n",
       "      <td>975.109615</td>\n",
       "      <td>0.008108</td>\n",
       "      <td>3069.938583</td>\n",
       "      <td>-18.200884</td>\n",
       "      <td>80.273260</td>\n",
       "      <td>1055.382875</td>\n",
       "      <td>55.382875</td>\n",
       "      <td>5.538288</td>\n",
       "    </tr>\n",
       "    <tr>\n",
       "      <td>548</td>\n",
       "      <td>2019-07-24</td>\n",
       "      <td>9811.93</td>\n",
       "      <td>0.0</td>\n",
       "      <td>1000.0</td>\n",
       "      <td>0.0</td>\n",
       "      <td>0.09148</td>\n",
       "      <td>0.000811</td>\n",
       "      <td>0.084183</td>\n",
       "      <td>7.955297</td>\n",
       "      <td>983.064911</td>\n",
       "      <td>0.007297</td>\n",
       "      <td>2320.828425</td>\n",
       "      <td>-24.401470</td>\n",
       "      <td>71.597669</td>\n",
       "      <td>1054.662580</td>\n",
       "      <td>54.662580</td>\n",
       "      <td>5.466258</td>\n",
       "    </tr>\n",
       "    <tr>\n",
       "      <td>549</td>\n",
       "      <td>2019-07-25</td>\n",
       "      <td>9911.84</td>\n",
       "      <td>0.0</td>\n",
       "      <td>1000.0</td>\n",
       "      <td>0.0</td>\n",
       "      <td>0.09148</td>\n",
       "      <td>0.000730</td>\n",
       "      <td>0.084912</td>\n",
       "      <td>7.232671</td>\n",
       "      <td>990.297583</td>\n",
       "      <td>0.006567</td>\n",
       "      <td>1477.382695</td>\n",
       "      <td>-36.342442</td>\n",
       "      <td>65.094041</td>\n",
       "      <td>1055.391623</td>\n",
       "      <td>55.391623</td>\n",
       "      <td>5.539162</td>\n",
       "    </tr>\n",
       "    <tr>\n",
       "      <td>550</td>\n",
       "      <td>2019-07-26</td>\n",
       "      <td>9870.30</td>\n",
       "      <td>0.0</td>\n",
       "      <td>1000.0</td>\n",
       "      <td>0.0</td>\n",
       "      <td>0.09148</td>\n",
       "      <td>0.000657</td>\n",
       "      <td>0.085569</td>\n",
       "      <td>6.482124</td>\n",
       "      <td>996.779706</td>\n",
       "      <td>0.005911</td>\n",
       "      <td>544.836328</td>\n",
       "      <td>-63.121517</td>\n",
       "      <td>58.339112</td>\n",
       "      <td>1055.118818</td>\n",
       "      <td>55.118818</td>\n",
       "      <td>5.511882</td>\n",
       "    </tr>\n",
       "    <tr>\n",
       "      <td>551</td>\n",
       "      <td>2019-07-27</td>\n",
       "      <td>9477.68</td>\n",
       "      <td>0.0</td>\n",
       "      <td>1000.0</td>\n",
       "      <td>0.0</td>\n",
       "      <td>0.09148</td>\n",
       "      <td>0.000591</td>\n",
       "      <td>0.086160</td>\n",
       "      <td>5.601850</td>\n",
       "      <td>1002.381556</td>\n",
       "      <td>0.005320</td>\n",
       "      <td>-447.701858</td>\n",
       "      <td>-182.171807</td>\n",
       "      <td>50.416653</td>\n",
       "      <td>1052.798209</td>\n",
       "      <td>52.798209</td>\n",
       "      <td>5.279821</td>\n",
       "    </tr>\n",
       "  </tbody>\n",
       "</table>\n",
       "</div>"
      ],
      "text/plain": [
       "          Date    Close  out_money  cum_out_money  in_amount  cum_in_amount  \\\n",
       "547 2019-07-23  9900.77        0.0         1000.0        0.0        0.09148   \n",
       "548 2019-07-24  9811.93        0.0         1000.0        0.0        0.09148   \n",
       "549 2019-07-25  9911.84        0.0         1000.0        0.0        0.09148   \n",
       "550 2019-07-26  9870.30        0.0         1000.0        0.0        0.09148   \n",
       "551 2019-07-27  9477.68        0.0         1000.0        0.0        0.09148   \n",
       "\n",
       "     out_amount  cum_out_amount  in_money  cum_in_money  own_amount  \\\n",
       "547    0.000901        0.083372  8.919251    975.109615    0.008108   \n",
       "548    0.000811        0.084183  7.955297    983.064911    0.007297   \n",
       "549    0.000730        0.084912  7.232671    990.297583    0.006567   \n",
       "550    0.000657        0.085569  6.482124    996.779706    0.005911   \n",
       "551    0.000591        0.086160  5.601850   1002.381556    0.005320   \n",
       "\n",
       "            cost  cost_change_percent  btc_value    own_value  value_gap  \\\n",
       "547  3069.938583           -18.200884  80.273260  1055.382875  55.382875   \n",
       "548  2320.828425           -24.401470  71.597669  1054.662580  54.662580   \n",
       "549  1477.382695           -36.342442  65.094041  1055.391623  55.391623   \n",
       "550   544.836328           -63.121517  58.339112  1055.118818  55.118818   \n",
       "551  -447.701858          -182.171807  50.416653  1052.798209  52.798209   \n",
       "\n",
       "     value_gap_percent  \n",
       "547           5.538288  \n",
       "548           5.466258  \n",
       "549           5.539162  \n",
       "550           5.511882  \n",
       "551           5.279821  "
      ]
     },
     "execution_count": 43,
     "metadata": {},
     "output_type": "execute_result"
    }
   ],
   "source": [
    "df.tail()"
   ]
  },
  {
   "cell_type": "code",
   "execution_count": 44,
   "metadata": {},
   "outputs": [
    {
     "name": "stdout",
     "output_type": "stream",
     "text": [
      "结束日: 2019-07-27 00:00:00\n",
      "运行时长: 552\n",
      "最终投入金额: 1000.0\n",
      "最大资产价值: 1190.7193955028633\n",
      "最大资产价值的日期: 2019-06-26 00:00:00\n",
      "最终资产价值: 1052.7982092599816\n",
      "最大回撤: -70.39025193479334\n",
      "最大收益率: 19.071939550286334\n",
      "最大收益率日期: 2019-06-26 00:00:00\n"
     ]
    }
   ],
   "source": [
    "print('结束日:',end_day)\n",
    "print('运行时长:',during_days)\n",
    "print('最终投入金额:',max_out_money)\n",
    "print('最大资产价值:',max_own_value)\n",
    "print('最大资产价值的日期:',max_own_value_day)\n",
    "print('最终资产价值:',last_own_value)\n",
    "print('最大回撤:',max_recall_percent)\n",
    "print('最大收益率:',max_earn_percent)\n",
    "print('最大收益率日期:',max_earn_percent_day)"
   ]
  },
  {
   "cell_type": "code",
   "execution_count": 45,
   "metadata": {},
   "outputs": [
    {
     "data": {
      "text/html": [
       "<div>\n",
       "<style scoped>\n",
       "    .dataframe tbody tr th:only-of-type {\n",
       "        vertical-align: middle;\n",
       "    }\n",
       "\n",
       "    .dataframe tbody tr th {\n",
       "        vertical-align: top;\n",
       "    }\n",
       "\n",
       "    .dataframe thead th {\n",
       "        text-align: right;\n",
       "    }\n",
       "</style>\n",
       "<table border=\"1\" class=\"dataframe\">\n",
       "  <thead>\n",
       "    <tr style=\"text-align: right;\">\n",
       "      <th></th>\n",
       "      <th>Date</th>\n",
       "      <th>Close</th>\n",
       "      <th>out_money</th>\n",
       "      <th>cum_out_money</th>\n",
       "      <th>in_amount</th>\n",
       "      <th>cum_in_amount</th>\n",
       "      <th>out_amount</th>\n",
       "      <th>cum_out_amount</th>\n",
       "      <th>in_money</th>\n",
       "      <th>cum_in_money</th>\n",
       "      <th>own_amount</th>\n",
       "      <th>cost</th>\n",
       "      <th>cost_change_percent</th>\n",
       "      <th>btc_value</th>\n",
       "      <th>own_value</th>\n",
       "      <th>value_gap</th>\n",
       "      <th>value_gap_percent</th>\n",
       "    </tr>\n",
       "  </thead>\n",
       "  <tbody>\n",
       "    <tr>\n",
       "      <td>0</td>\n",
       "      <td>2018-01-22</td>\n",
       "      <td>10931.4</td>\n",
       "      <td>1000.0</td>\n",
       "      <td>1000.0</td>\n",
       "      <td>0.09148</td>\n",
       "      <td>0.09148</td>\n",
       "      <td>0.0</td>\n",
       "      <td>0.0</td>\n",
       "      <td>0.0</td>\n",
       "      <td>0.0</td>\n",
       "      <td>0.09148</td>\n",
       "      <td>10931.4</td>\n",
       "      <td>NaN</td>\n",
       "      <td>1000.0</td>\n",
       "      <td>1000.0</td>\n",
       "      <td>0.0</td>\n",
       "      <td>NaN</td>\n",
       "    </tr>\n",
       "  </tbody>\n",
       "</table>\n",
       "</div>"
      ],
      "text/plain": [
       "        Date    Close  out_money  cum_out_money  in_amount  cum_in_amount  \\\n",
       "0 2018-01-22  10931.4     1000.0         1000.0    0.09148        0.09148   \n",
       "\n",
       "   out_amount  cum_out_amount  in_money  cum_in_money  own_amount     cost  \\\n",
       "0         0.0             0.0       0.0           0.0     0.09148  10931.4   \n",
       "\n",
       "   cost_change_percent  btc_value  own_value  value_gap  value_gap_percent  \n",
       "0                  NaN     1000.0     1000.0        0.0                NaN  "
      ]
     },
     "execution_count": 45,
     "metadata": {},
     "output_type": "execute_result"
    }
   ],
   "source": [
    "df_btc_price[df_btc_price.out_money > 0].head()"
   ]
  },
  {
   "cell_type": "code",
   "execution_count": null,
   "metadata": {},
   "outputs": [],
   "source": []
  },
  {
   "cell_type": "code",
   "execution_count": null,
   "metadata": {},
   "outputs": [],
   "source": []
  },
  {
   "cell_type": "code",
   "execution_count": 89,
   "metadata": {},
   "outputs": [
    {
     "data": {
      "text/plain": [
       "array([0. , 0.1, 0.2, 0.3, 0.4, 0.5, 0.6, 0.7, 0.8, 0.9])"
      ]
     },
     "execution_count": 89,
     "metadata": {},
     "output_type": "execute_result"
    }
   ],
   "source": [
    "np.linspace(0,1,10,endpoint=False)"
   ]
  },
  {
   "cell_type": "code",
   "execution_count": 4,
   "metadata": {},
   "outputs": [
    {
     "name": "stdout",
     "output_type": "stream",
     "text": [
      "0.1\n",
      "0.19\n",
      "0.28\n",
      "0.37\n",
      "0.45999999999999996\n",
      "0.5499999999999999\n",
      "0.64\n",
      "0.73\n",
      "0.82\n",
      "0.9099999999999999\n"
     ]
    }
   ],
   "source": [
    "for i in np.linspace(0.1,1,10,endpoint=False):\n",
    "    print(i)"
   ]
  },
  {
   "cell_type": "code",
   "execution_count": 12,
   "metadata": {},
   "outputs": [
    {
     "data": {
      "text/plain": [
       "[0.1,\n",
       " 0.2,\n",
       " 0.30000000000000004,\n",
       " 0.4,\n",
       " 0.5,\n",
       " 0.6000000000000001,\n",
       " 0.7000000000000001,\n",
       " 0.8,\n",
       " 0.9]"
      ]
     },
     "execution_count": 12,
     "metadata": {},
     "output_type": "execute_result"
    }
   ],
   "source": [
    "[x * 0.1 for x in range(1, 10)]"
   ]
  },
  {
   "cell_type": "code",
   "execution_count": 10,
   "metadata": {},
   "outputs": [
    {
     "name": "stdout",
     "output_type": "stream",
     "text": [
      "1.1\n",
      "1.2\n",
      "1.3\n",
      "1.4\n",
      "1.5\n",
      "1.6\n",
      "1.7000000000000002\n",
      "1.8\n",
      "1.9\n",
      "2.0\n",
      "2.1\n",
      "2.2\n",
      "2.3\n",
      "2.4000000000000004\n",
      "2.5\n",
      "2.6\n",
      "2.7\n",
      "2.8\n",
      "2.9000000000000004\n",
      "3.0\n"
     ]
    }
   ],
   "source": [
    "for i in [x * 0.1+1 for x in range(1, 21)]:\n",
    "    print(i)"
   ]
  },
  {
   "cell_type": "code",
   "execution_count": 13,
   "metadata": {},
   "outputs": [],
   "source": [
    "a = []"
   ]
  },
  {
   "cell_type": "code",
   "execution_count": 14,
   "metadata": {},
   "outputs": [
    {
     "data": {
      "text/plain": [
       "[[1]]"
      ]
     },
     "execution_count": 14,
     "metadata": {},
     "output_type": "execute_result"
    }
   ],
   "source": [
    "b = [1]\n",
    "a.append(b)\n",
    "a"
   ]
  },
  {
   "cell_type": "code",
   "execution_count": 15,
   "metadata": {},
   "outputs": [
    {
     "data": {
      "text/plain": [
       "[[1], [2]]"
      ]
     },
     "execution_count": 15,
     "metadata": {},
     "output_type": "execute_result"
    }
   ],
   "source": [
    "c = [2]\n",
    "a.append(c)\n",
    "a"
   ]
  },
  {
   "cell_type": "code",
   "execution_count": 46,
   "metadata": {},
   "outputs": [],
   "source": [
    "n = 0"
   ]
  },
  {
   "cell_type": "code",
   "execution_count": 47,
   "metadata": {},
   "outputs": [],
   "source": [
    "n += 1"
   ]
  },
  {
   "cell_type": "code",
   "execution_count": 48,
   "metadata": {},
   "outputs": [
    {
     "data": {
      "text/plain": [
       "1"
      ]
     },
     "execution_count": 48,
     "metadata": {},
     "output_type": "execute_result"
    }
   ],
   "source": [
    "n"
   ]
  },
  {
   "cell_type": "code",
   "execution_count": null,
   "metadata": {},
   "outputs": [],
   "source": []
  }
 ],
 "metadata": {
  "kernelspec": {
   "display_name": "Python 3",
   "language": "python",
   "name": "python3"
  },
  "language_info": {
   "codemirror_mode": {
    "name": "ipython",
    "version": 3
   },
   "file_extension": ".py",
   "mimetype": "text/x-python",
   "name": "python",
   "nbconvert_exporter": "python",
   "pygments_lexer": "ipython3",
   "version": "3.7.2"
  }
 },
 "nbformat": 4,
 "nbformat_minor": 2
}
