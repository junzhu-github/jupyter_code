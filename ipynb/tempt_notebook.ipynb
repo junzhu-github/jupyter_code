{
 "cells": [
  {
   "cell_type": "code",
   "execution_count": 1,
   "metadata": {},
   "outputs": [],
   "source": [
    "import os\n",
    "import time\n",
    "import numpy as np\n",
    "import pandas as pd\n",
    "import matplotlib.pyplot as plt\n",
    "%matplotlib inline"
   ]
  },
  {
   "cell_type": "markdown",
   "metadata": {},
   "source": [
    "--- 20200811 ---"
   ]
  },
  {
   "cell_type": "code",
   "execution_count": 3,
   "metadata": {},
   "outputs": [],
   "source": [
    "df = pd.read_excel('01.xlsx')"
   ]
  },
  {
   "cell_type": "code",
   "execution_count": 21,
   "metadata": {},
   "outputs": [
    {
     "data": {
      "text/html": [
       "<div>\n",
       "<style scoped>\n",
       "    .dataframe tbody tr th:only-of-type {\n",
       "        vertical-align: middle;\n",
       "    }\n",
       "\n",
       "    .dataframe tbody tr th {\n",
       "        vertical-align: top;\n",
       "    }\n",
       "\n",
       "    .dataframe thead th {\n",
       "        text-align: right;\n",
       "    }\n",
       "</style>\n",
       "<table border=\"1\" class=\"dataframe\">\n",
       "  <thead>\n",
       "    <tr style=\"text-align: right;\">\n",
       "      <th></th>\n",
       "      <th>url</th>\n",
       "      <th>title</th>\n",
       "      <th>area</th>\n",
       "      <th>salary</th>\n",
       "      <th>company</th>\n",
       "    </tr>\n",
       "  </thead>\n",
       "  <tbody>\n",
       "    <tr>\n",
       "      <th>0</th>\n",
       "      <td>https://www.zhipin.com/job_detail/24e09896e56a...</td>\n",
       "      <td>数据分析</td>\n",
       "      <td>杭州·西湖区·三墩</td>\n",
       "      <td>8-13K·13薪</td>\n",
       "      <td>浙江网新恒天</td>\n",
       "    </tr>\n",
       "    <tr>\n",
       "      <th>1</th>\n",
       "      <td>https://www.zhipin.com/job_detail/951c5cd5c7d6...</td>\n",
       "      <td>数据运营</td>\n",
       "      <td>杭州·余杭区·仓前</td>\n",
       "      <td>11-20K</td>\n",
       "      <td>今日头条</td>\n",
       "    </tr>\n",
       "    <tr>\n",
       "      <th>2</th>\n",
       "      <td>https://www.zhipin.com/job_detail/be3b8e0fa527...</td>\n",
       "      <td>数据运营专员</td>\n",
       "      <td>杭州·拱墅区·莫干山路</td>\n",
       "      <td>6-9K</td>\n",
       "      <td>杭州盛锋管理咨询</td>\n",
       "    </tr>\n",
       "    <tr>\n",
       "      <th>3</th>\n",
       "      <td>https://www.zhipin.com/job_detail/c2d8e62f516f...</td>\n",
       "      <td>分析数据（运营）</td>\n",
       "      <td>杭州·西湖区·文二路</td>\n",
       "      <td>6-10K·14薪</td>\n",
       "      <td>富数科技</td>\n",
       "    </tr>\n",
       "    <tr>\n",
       "      <th>4</th>\n",
       "      <td>https://www.zhipin.com/job_detail/eae8c4178b9f...</td>\n",
       "      <td>项目运营</td>\n",
       "      <td>杭州·西湖区·西溪</td>\n",
       "      <td>7-12K</td>\n",
       "      <td>车点点</td>\n",
       "    </tr>\n",
       "  </tbody>\n",
       "</table>\n",
       "</div>"
      ],
      "text/plain": [
       "                                                 url     title         area  \\\n",
       "0  https://www.zhipin.com/job_detail/24e09896e56a...      数据分析    杭州·西湖区·三墩   \n",
       "1  https://www.zhipin.com/job_detail/951c5cd5c7d6...      数据运营    杭州·余杭区·仓前   \n",
       "2  https://www.zhipin.com/job_detail/be3b8e0fa527...    数据运营专员  杭州·拱墅区·莫干山路   \n",
       "3  https://www.zhipin.com/job_detail/c2d8e62f516f...  分析数据（运营）   杭州·西湖区·文二路   \n",
       "4  https://www.zhipin.com/job_detail/eae8c4178b9f...      项目运营    杭州·西湖区·西溪   \n",
       "\n",
       "      salary   company  \n",
       "0  8-13K·13薪    浙江网新恒天  \n",
       "1     11-20K      今日头条  \n",
       "2       6-9K  杭州盛锋管理咨询  \n",
       "3  6-10K·14薪      富数科技  \n",
       "4      7-12K       车点点  "
      ]
     },
     "execution_count": 21,
     "metadata": {},
     "output_type": "execute_result"
    }
   ],
   "source": [
    "df.head()"
   ]
  },
  {
   "cell_type": "code",
   "execution_count": 22,
   "metadata": {},
   "outputs": [
    {
     "name": "stdout",
     "output_type": "stream",
     "text": [
      "<class 'pandas.core.frame.DataFrame'>\n",
      "RangeIndex: 1530 entries, 0 to 1529\n",
      "Data columns (total 5 columns):\n",
      "url        1530 non-null object\n",
      "title      1530 non-null object\n",
      "area       1530 non-null object\n",
      "salary     1530 non-null object\n",
      "company    1530 non-null object\n",
      "dtypes: object(5)\n",
      "memory usage: 59.9+ KB\n"
     ]
    }
   ],
   "source": [
    "df.info()"
   ]
  },
  {
   "cell_type": "code",
   "execution_count": 5,
   "metadata": {},
   "outputs": [],
   "source": [
    "fuck_area = '滨江区|富阳区|建德市|江干区|临安区|桐庐县|萧山区|上城区·采荷|上城区·城站|上城区·鼓楼|上城区·近江|上城区·南星|下城区·北景园|下城区·东新|下城区·建国路|下城区·下城区·上塘|下城区·石桥|下城区·新天地|西湖区·美院象山|西湖区·宋城|西湖区·小和山|西湖区·转塘|余杭区·仓前|余杭区·崇贤|余杭区·老余杭|余杭区·良渚|余杭区·临平|余杭区·乔司|余杭区·仁和|余杭区·塘栖|余杭区·未来科技城|余杭区·五常|余杭区·星桥|余杭区·余之城购物中心'"
   ]
  },
  {
   "cell_type": "code",
   "execution_count": 8,
   "metadata": {},
   "outputs": [],
   "source": [
    "df_fuck_area_result = df[~df['area'].str.contains(fuck_area)]"
   ]
  },
  {
   "cell_type": "code",
   "execution_count": 10,
   "metadata": {},
   "outputs": [
    {
     "data": {
      "text/html": [
       "<div>\n",
       "<style scoped>\n",
       "    .dataframe tbody tr th:only-of-type {\n",
       "        vertical-align: middle;\n",
       "    }\n",
       "\n",
       "    .dataframe tbody tr th {\n",
       "        vertical-align: top;\n",
       "    }\n",
       "\n",
       "    .dataframe thead th {\n",
       "        text-align: right;\n",
       "    }\n",
       "</style>\n",
       "<table border=\"1\" class=\"dataframe\">\n",
       "  <thead>\n",
       "    <tr style=\"text-align: right;\">\n",
       "      <th></th>\n",
       "      <th>url</th>\n",
       "      <th>title</th>\n",
       "      <th>area</th>\n",
       "      <th>salary</th>\n",
       "      <th>company</th>\n",
       "    </tr>\n",
       "  </thead>\n",
       "  <tbody>\n",
       "    <tr>\n",
       "      <th>1505</th>\n",
       "      <td>https://www.zhipin.com/job_detail/ec40938096dc...</td>\n",
       "      <td>渠道销售工程师（江浙）(J10555)</td>\n",
       "      <td>杭州·拱墅区·小河</td>\n",
       "      <td>8-10K</td>\n",
       "      <td>诺瓦星云科技股份</td>\n",
       "    </tr>\n",
       "    <tr>\n",
       "      <th>1510</th>\n",
       "      <td>https://www.zhipin.com/job_detail/d851a8191e4f...</td>\n",
       "      <td>销售助理</td>\n",
       "      <td>杭州·拱墅区·大关</td>\n",
       "      <td>5-8K</td>\n",
       "      <td>唇爱服饰</td>\n",
       "    </tr>\n",
       "    <tr>\n",
       "      <th>1512</th>\n",
       "      <td>https://www.zhipin.com/job_detail/4167d397a66b...</td>\n",
       "      <td>销售助理</td>\n",
       "      <td>杭州·拱墅区·上塘</td>\n",
       "      <td>4-9K</td>\n",
       "      <td>环世通</td>\n",
       "    </tr>\n",
       "    <tr>\n",
       "      <th>1513</th>\n",
       "      <td>https://www.zhipin.com/job_detail/2638c51080d0...</td>\n",
       "      <td>销售运营</td>\n",
       "      <td>杭州·西湖区·三墩</td>\n",
       "      <td>10-15K</td>\n",
       "      <td>杭州链家</td>\n",
       "    </tr>\n",
       "    <tr>\n",
       "      <th>1515</th>\n",
       "      <td>https://www.zhipin.com/job_detail/61ec0c060ed7...</td>\n",
       "      <td>渠道销售</td>\n",
       "      <td>杭州·西湖区·三墩</td>\n",
       "      <td>4-7K</td>\n",
       "      <td>杭州万方</td>\n",
       "    </tr>\n",
       "    <tr>\n",
       "      <th>1516</th>\n",
       "      <td>https://www.zhipin.com/job_detail/4d3a7c55e6c6...</td>\n",
       "      <td>销售助理</td>\n",
       "      <td>杭州·拱墅区·上塘</td>\n",
       "      <td>4-6K</td>\n",
       "      <td>朗烁照明</td>\n",
       "    </tr>\n",
       "    <tr>\n",
       "      <th>1517</th>\n",
       "      <td>https://www.zhipin.com/job_detail/01aef0704e4b...</td>\n",
       "      <td>销售助理</td>\n",
       "      <td>杭州·西湖区·文二路</td>\n",
       "      <td>4-6K</td>\n",
       "      <td>美思特智能</td>\n",
       "    </tr>\n",
       "    <tr>\n",
       "      <th>1523</th>\n",
       "      <td>https://www.zhipin.com/job_detail/2c2fc722bfbf...</td>\n",
       "      <td>广告销售总监</td>\n",
       "      <td>杭州·拱墅区·上塘</td>\n",
       "      <td>10-15K</td>\n",
       "      <td>丰巢科技</td>\n",
       "    </tr>\n",
       "    <tr>\n",
       "      <th>1524</th>\n",
       "      <td>https://www.zhipin.com/job_detail/d6f509ea8c59...</td>\n",
       "      <td>销售助理</td>\n",
       "      <td>杭州·下城区·德胜</td>\n",
       "      <td>3-5K</td>\n",
       "      <td>爱康国宾集团</td>\n",
       "    </tr>\n",
       "    <tr>\n",
       "      <th>1528</th>\n",
       "      <td>https://www.zhipin.com/job_detail/b7b41c07a6a3...</td>\n",
       "      <td>渠道销售</td>\n",
       "      <td>杭州·拱墅区·三墩</td>\n",
       "      <td>10-15K</td>\n",
       "      <td>鼎利机电</td>\n",
       "    </tr>\n",
       "  </tbody>\n",
       "</table>\n",
       "</div>"
      ],
      "text/plain": [
       "                                                    url                title  \\\n",
       "1505  https://www.zhipin.com/job_detail/ec40938096dc...  渠道销售工程师（江浙）(J10555)   \n",
       "1510  https://www.zhipin.com/job_detail/d851a8191e4f...                 销售助理   \n",
       "1512  https://www.zhipin.com/job_detail/4167d397a66b...                 销售助理   \n",
       "1513  https://www.zhipin.com/job_detail/2638c51080d0...                 销售运营   \n",
       "1515  https://www.zhipin.com/job_detail/61ec0c060ed7...                 渠道销售   \n",
       "1516  https://www.zhipin.com/job_detail/4d3a7c55e6c6...                 销售助理   \n",
       "1517  https://www.zhipin.com/job_detail/01aef0704e4b...                 销售助理   \n",
       "1523  https://www.zhipin.com/job_detail/2c2fc722bfbf...               广告销售总监   \n",
       "1524  https://www.zhipin.com/job_detail/d6f509ea8c59...                 销售助理   \n",
       "1528  https://www.zhipin.com/job_detail/b7b41c07a6a3...                 渠道销售   \n",
       "\n",
       "            area  salary   company  \n",
       "1505   杭州·拱墅区·小河   8-10K  诺瓦星云科技股份  \n",
       "1510   杭州·拱墅区·大关    5-8K      唇爱服饰  \n",
       "1512   杭州·拱墅区·上塘    4-9K       环世通  \n",
       "1513   杭州·西湖区·三墩  10-15K      杭州链家  \n",
       "1515   杭州·西湖区·三墩    4-7K      杭州万方  \n",
       "1516   杭州·拱墅区·上塘    4-6K      朗烁照明  \n",
       "1517  杭州·西湖区·文二路    4-6K     美思特智能  \n",
       "1523   杭州·拱墅区·上塘  10-15K      丰巢科技  \n",
       "1524   杭州·下城区·德胜    3-5K    爱康国宾集团  \n",
       "1528   杭州·拱墅区·三墩  10-15K      鼎利机电  "
      ]
     },
     "execution_count": 10,
     "metadata": {},
     "output_type": "execute_result"
    }
   ],
   "source": [
    "df_fuck_area_result.tail(10)"
   ]
  },
  {
   "cell_type": "code",
   "execution_count": 23,
   "metadata": {},
   "outputs": [
    {
     "name": "stdout",
     "output_type": "stream",
     "text": [
      "<class 'pandas.core.frame.DataFrame'>\n",
      "Int64Index: 558 entries, 0 to 1528\n",
      "Data columns (total 5 columns):\n",
      "url        558 non-null object\n",
      "title      558 non-null object\n",
      "area       558 non-null object\n",
      "salary     558 non-null object\n",
      "company    558 non-null object\n",
      "dtypes: object(5)\n",
      "memory usage: 26.2+ KB\n"
     ]
    }
   ],
   "source": [
    "df_fuck_area_result.info()"
   ]
  },
  {
   "cell_type": "code",
   "execution_count": 11,
   "metadata": {},
   "outputs": [],
   "source": [
    "ok_title = 'BA|BI|数据分析|数据运营|分析数据|报表|数据处理|数据产品|数据支持|数据专员|统计|销售运营|销售支持|数据应用|运营数据|应用数据|产品数据|处理数据|支持数据'"
   ]
  },
  {
   "cell_type": "code",
   "execution_count": 12,
   "metadata": {},
   "outputs": [],
   "source": [
    "df_ok_title_result = df_fuck_area_result[df_fuck_area_result['title'].str.contains(ok_title)]"
   ]
  },
  {
   "cell_type": "code",
   "execution_count": 24,
   "metadata": {},
   "outputs": [
    {
     "name": "stdout",
     "output_type": "stream",
     "text": [
      "<class 'pandas.core.frame.DataFrame'>\n",
      "Int64Index: 270 entries, 0 to 1513\n",
      "Data columns (total 5 columns):\n",
      "url        270 non-null object\n",
      "title      270 non-null object\n",
      "area       270 non-null object\n",
      "salary     270 non-null object\n",
      "company    270 non-null object\n",
      "dtypes: object(5)\n",
      "memory usage: 12.7+ KB\n"
     ]
    }
   ],
   "source": [
    "df_ok_title_result.info()"
   ]
  },
  {
   "cell_type": "code",
   "execution_count": 35,
   "metadata": {},
   "outputs": [],
   "source": [
    "fuck_title = '助理|实习|外包|BIM|GIS数据'"
   ]
  },
  {
   "cell_type": "code",
   "execution_count": 14,
   "metadata": {},
   "outputs": [],
   "source": [
    "df_fuck_title_result = df_ok_title_result[~df_ok_title_result['title'].str.contains(fuck_title)]"
   ]
  },
  {
   "cell_type": "code",
   "execution_count": 15,
   "metadata": {},
   "outputs": [
    {
     "data": {
      "text/html": [
       "<div>\n",
       "<style scoped>\n",
       "    .dataframe tbody tr th:only-of-type {\n",
       "        vertical-align: middle;\n",
       "    }\n",
       "\n",
       "    .dataframe tbody tr th {\n",
       "        vertical-align: top;\n",
       "    }\n",
       "\n",
       "    .dataframe thead th {\n",
       "        text-align: right;\n",
       "    }\n",
       "</style>\n",
       "<table border=\"1\" class=\"dataframe\">\n",
       "  <thead>\n",
       "    <tr style=\"text-align: right;\">\n",
       "      <th></th>\n",
       "      <th>url</th>\n",
       "      <th>title</th>\n",
       "      <th>area</th>\n",
       "      <th>salary</th>\n",
       "      <th>company</th>\n",
       "    </tr>\n",
       "  </thead>\n",
       "  <tbody>\n",
       "    <tr>\n",
       "      <th>0</th>\n",
       "      <td>https://www.zhipin.com/job_detail/24e09896e56a...</td>\n",
       "      <td>数据分析</td>\n",
       "      <td>杭州·西湖区·三墩</td>\n",
       "      <td>8-13K·13薪</td>\n",
       "      <td>浙江网新恒天</td>\n",
       "    </tr>\n",
       "    <tr>\n",
       "      <th>2</th>\n",
       "      <td>https://www.zhipin.com/job_detail/be3b8e0fa527...</td>\n",
       "      <td>数据运营专员</td>\n",
       "      <td>杭州·拱墅区·莫干山路</td>\n",
       "      <td>6-9K</td>\n",
       "      <td>杭州盛锋管理咨询</td>\n",
       "    </tr>\n",
       "    <tr>\n",
       "      <th>3</th>\n",
       "      <td>https://www.zhipin.com/job_detail/c2d8e62f516f...</td>\n",
       "      <td>分析数据（运营）</td>\n",
       "      <td>杭州·西湖区·文二路</td>\n",
       "      <td>6-10K·14薪</td>\n",
       "      <td>富数科技</td>\n",
       "    </tr>\n",
       "    <tr>\n",
       "      <th>8</th>\n",
       "      <td>https://www.zhipin.com/job_detail/55d6edef340a...</td>\n",
       "      <td>BI开发工程师</td>\n",
       "      <td>杭州·西湖区·三墩</td>\n",
       "      <td>10-15K·13薪</td>\n",
       "      <td>笛佛软件</td>\n",
       "    </tr>\n",
       "    <tr>\n",
       "      <th>11</th>\n",
       "      <td>https://www.zhipin.com/job_detail/10126a40dd27...</td>\n",
       "      <td>BI开发工程师</td>\n",
       "      <td>杭州·西湖区·文三路</td>\n",
       "      <td>10-14K</td>\n",
       "      <td>深大智能</td>\n",
       "    </tr>\n",
       "    <tr>\n",
       "      <th>13</th>\n",
       "      <td>https://www.zhipin.com/job_detail/dfc540347e9a...</td>\n",
       "      <td>大数据开发工程师（离线分析和数据分析）</td>\n",
       "      <td>杭州·西湖区·高新文教区</td>\n",
       "      <td>9-14K</td>\n",
       "      <td>开启网络</td>\n",
       "    </tr>\n",
       "    <tr>\n",
       "      <th>14</th>\n",
       "      <td>https://www.zhipin.com/job_detail/e18d94f8ec59...</td>\n",
       "      <td>BI数据产品经理</td>\n",
       "      <td>杭州·西湖区·文新</td>\n",
       "      <td>12-20K</td>\n",
       "      <td>明纪本元</td>\n",
       "    </tr>\n",
       "    <tr>\n",
       "      <th>15</th>\n",
       "      <td>https://www.zhipin.com/job_detail/1f35acbe87e6...</td>\n",
       "      <td>数据产品经理（物联网方向）</td>\n",
       "      <td>杭州·拱墅区·小河</td>\n",
       "      <td>14-16K</td>\n",
       "      <td>启融科技</td>\n",
       "    </tr>\n",
       "    <tr>\n",
       "      <th>21</th>\n",
       "      <td>https://www.zhipin.com/job_detail/00f7d654054e...</td>\n",
       "      <td>BI测试</td>\n",
       "      <td>杭州·西湖区·西溪</td>\n",
       "      <td>10-15K</td>\n",
       "      <td>万里牛</td>\n",
       "    </tr>\n",
       "    <tr>\n",
       "      <th>22</th>\n",
       "      <td>https://www.zhipin.com/job_detail/f7fc9c1ee9ba...</td>\n",
       "      <td>数据产品经理</td>\n",
       "      <td>杭州·西湖区·文三路</td>\n",
       "      <td>8-13K</td>\n",
       "      <td>孟想</td>\n",
       "    </tr>\n",
       "  </tbody>\n",
       "</table>\n",
       "</div>"
      ],
      "text/plain": [
       "                                                  url                title  \\\n",
       "0   https://www.zhipin.com/job_detail/24e09896e56a...                 数据分析   \n",
       "2   https://www.zhipin.com/job_detail/be3b8e0fa527...               数据运营专员   \n",
       "3   https://www.zhipin.com/job_detail/c2d8e62f516f...             分析数据（运营）   \n",
       "8   https://www.zhipin.com/job_detail/55d6edef340a...              BI开发工程师   \n",
       "11  https://www.zhipin.com/job_detail/10126a40dd27...              BI开发工程师   \n",
       "13  https://www.zhipin.com/job_detail/dfc540347e9a...  大数据开发工程师（离线分析和数据分析）   \n",
       "14  https://www.zhipin.com/job_detail/e18d94f8ec59...             BI数据产品经理   \n",
       "15  https://www.zhipin.com/job_detail/1f35acbe87e6...        数据产品经理（物联网方向）   \n",
       "21  https://www.zhipin.com/job_detail/00f7d654054e...                 BI测试   \n",
       "22  https://www.zhipin.com/job_detail/f7fc9c1ee9ba...               数据产品经理   \n",
       "\n",
       "            area      salary   company  \n",
       "0      杭州·西湖区·三墩   8-13K·13薪    浙江网新恒天  \n",
       "2    杭州·拱墅区·莫干山路        6-9K  杭州盛锋管理咨询  \n",
       "3     杭州·西湖区·文二路   6-10K·14薪      富数科技  \n",
       "8      杭州·西湖区·三墩  10-15K·13薪      笛佛软件  \n",
       "11    杭州·西湖区·文三路      10-14K      深大智能  \n",
       "13  杭州·西湖区·高新文教区       9-14K      开启网络  \n",
       "14     杭州·西湖区·文新      12-20K      明纪本元  \n",
       "15     杭州·拱墅区·小河      14-16K      启融科技  \n",
       "21     杭州·西湖区·西溪      10-15K       万里牛  \n",
       "22    杭州·西湖区·文三路       8-13K        孟想  "
      ]
     },
     "execution_count": 15,
     "metadata": {},
     "output_type": "execute_result"
    }
   ],
   "source": [
    "df_fuck_title_result.head(10)"
   ]
  },
  {
   "cell_type": "code",
   "execution_count": 16,
   "metadata": {},
   "outputs": [
    {
     "data": {
      "text/html": [
       "<div>\n",
       "<style scoped>\n",
       "    .dataframe tbody tr th:only-of-type {\n",
       "        vertical-align: middle;\n",
       "    }\n",
       "\n",
       "    .dataframe tbody tr th {\n",
       "        vertical-align: top;\n",
       "    }\n",
       "\n",
       "    .dataframe thead th {\n",
       "        text-align: right;\n",
       "    }\n",
       "</style>\n",
       "<table border=\"1\" class=\"dataframe\">\n",
       "  <thead>\n",
       "    <tr style=\"text-align: right;\">\n",
       "      <th></th>\n",
       "      <th>url</th>\n",
       "      <th>title</th>\n",
       "      <th>area</th>\n",
       "      <th>salary</th>\n",
       "      <th>company</th>\n",
       "    </tr>\n",
       "  </thead>\n",
       "  <tbody>\n",
       "    <tr>\n",
       "      <th>1456</th>\n",
       "      <td>https://www.zhipin.com/job_detail/0987d3b13bc1...</td>\n",
       "      <td>销售运营</td>\n",
       "      <td>杭州·西湖区·西溪</td>\n",
       "      <td>7-12K</td>\n",
       "      <td>慧工科技</td>\n",
       "    </tr>\n",
       "    <tr>\n",
       "      <th>1467</th>\n",
       "      <td>https://www.zhipin.com/job_detail/e0755827c146...</td>\n",
       "      <td>销售运营</td>\n",
       "      <td>杭州·余杭区·西溪</td>\n",
       "      <td>7-12K</td>\n",
       "      <td>耕辰科技</td>\n",
       "    </tr>\n",
       "    <tr>\n",
       "      <th>1468</th>\n",
       "      <td>https://www.zhipin.com/job_detail/87f8d658906a...</td>\n",
       "      <td>销售运营</td>\n",
       "      <td>杭州·下城区·众安桥</td>\n",
       "      <td>4-6K</td>\n",
       "      <td>杭州花上花艺有限公司</td>\n",
       "    </tr>\n",
       "    <tr>\n",
       "      <th>1471</th>\n",
       "      <td>https://www.zhipin.com/job_detail/068bc72ee17d...</td>\n",
       "      <td>销售运营专家-新零售</td>\n",
       "      <td>杭州·西湖区·西溪</td>\n",
       "      <td>20-40K</td>\n",
       "      <td>有赞</td>\n",
       "    </tr>\n",
       "    <tr>\n",
       "      <th>1488</th>\n",
       "      <td>https://www.zhipin.com/job_detail/0a18e6d41294...</td>\n",
       "      <td>销售运营</td>\n",
       "      <td>杭州·下城区·众安桥</td>\n",
       "      <td>4-9K</td>\n",
       "      <td>乐学同游</td>\n",
       "    </tr>\n",
       "    <tr>\n",
       "      <th>1490</th>\n",
       "      <td>https://www.zhipin.com/job_detail/7326179693ab...</td>\n",
       "      <td>销售运营</td>\n",
       "      <td>杭州·西湖区·文二路</td>\n",
       "      <td>3-6K</td>\n",
       "      <td>器物说</td>\n",
       "    </tr>\n",
       "    <tr>\n",
       "      <th>1493</th>\n",
       "      <td>https://www.zhipin.com/job_detail/fc5a05c6e66f...</td>\n",
       "      <td>销售运营专家</td>\n",
       "      <td>杭州·西湖区·西湖</td>\n",
       "      <td>25-50K·16薪</td>\n",
       "      <td>饿了么</td>\n",
       "    </tr>\n",
       "    <tr>\n",
       "      <th>1494</th>\n",
       "      <td>https://www.zhipin.com/job_detail/1c7da07daa85...</td>\n",
       "      <td>销售运营</td>\n",
       "      <td>杭州·拱墅区·蓝钻天城购物中心</td>\n",
       "      <td>6-11K</td>\n",
       "      <td>智普贸易</td>\n",
       "    </tr>\n",
       "    <tr>\n",
       "      <th>1499</th>\n",
       "      <td>https://www.zhipin.com/job_detail/8d329a459030...</td>\n",
       "      <td>销售运营</td>\n",
       "      <td>杭州·下城区·上塘</td>\n",
       "      <td>20-30K</td>\n",
       "      <td>修元</td>\n",
       "    </tr>\n",
       "    <tr>\n",
       "      <th>1513</th>\n",
       "      <td>https://www.zhipin.com/job_detail/2638c51080d0...</td>\n",
       "      <td>销售运营</td>\n",
       "      <td>杭州·西湖区·三墩</td>\n",
       "      <td>10-15K</td>\n",
       "      <td>杭州链家</td>\n",
       "    </tr>\n",
       "  </tbody>\n",
       "</table>\n",
       "</div>"
      ],
      "text/plain": [
       "                                                    url       title  \\\n",
       "1456  https://www.zhipin.com/job_detail/0987d3b13bc1...        销售运营   \n",
       "1467  https://www.zhipin.com/job_detail/e0755827c146...        销售运营   \n",
       "1468  https://www.zhipin.com/job_detail/87f8d658906a...        销售运营   \n",
       "1471  https://www.zhipin.com/job_detail/068bc72ee17d...  销售运营专家-新零售   \n",
       "1488  https://www.zhipin.com/job_detail/0a18e6d41294...        销售运营   \n",
       "1490  https://www.zhipin.com/job_detail/7326179693ab...        销售运营   \n",
       "1493  https://www.zhipin.com/job_detail/fc5a05c6e66f...      销售运营专家   \n",
       "1494  https://www.zhipin.com/job_detail/1c7da07daa85...        销售运营   \n",
       "1499  https://www.zhipin.com/job_detail/8d329a459030...        销售运营   \n",
       "1513  https://www.zhipin.com/job_detail/2638c51080d0...        销售运营   \n",
       "\n",
       "                 area      salary     company  \n",
       "1456        杭州·西湖区·西溪       7-12K        慧工科技  \n",
       "1467        杭州·余杭区·西溪       7-12K        耕辰科技  \n",
       "1468       杭州·下城区·众安桥        4-6K  杭州花上花艺有限公司  \n",
       "1471        杭州·西湖区·西溪      20-40K          有赞  \n",
       "1488       杭州·下城区·众安桥        4-9K        乐学同游  \n",
       "1490       杭州·西湖区·文二路        3-6K         器物说  \n",
       "1493        杭州·西湖区·西湖  25-50K·16薪         饿了么  \n",
       "1494  杭州·拱墅区·蓝钻天城购物中心       6-11K        智普贸易  \n",
       "1499        杭州·下城区·上塘      20-30K          修元  \n",
       "1513        杭州·西湖区·三墩      10-15K        杭州链家  "
      ]
     },
     "execution_count": 16,
     "metadata": {},
     "output_type": "execute_result"
    }
   ],
   "source": [
    "df_fuck_title_result.tail(10)"
   ]
  },
  {
   "cell_type": "code",
   "execution_count": 25,
   "metadata": {},
   "outputs": [
    {
     "name": "stdout",
     "output_type": "stream",
     "text": [
      "<class 'pandas.core.frame.DataFrame'>\n",
      "Int64Index: 252 entries, 0 to 1513\n",
      "Data columns (total 5 columns):\n",
      "url        252 non-null object\n",
      "title      252 non-null object\n",
      "area       252 non-null object\n",
      "salary     252 non-null object\n",
      "company    252 non-null object\n",
      "dtypes: object(5)\n",
      "memory usage: 11.8+ KB\n"
     ]
    }
   ],
   "source": [
    "df_fuck_title_result.info()"
   ]
  },
  {
   "cell_type": "code",
   "execution_count": 17,
   "metadata": {},
   "outputs": [],
   "source": [
    "fuck_company = '盛锋管理|深大智能|蚂蚁金服|粉象生活|菜鸟网络|大搜车|盒马鲜生|迪安诊断|普天太力|微拍堂|蘑菇街|阿里巴巴|阿里云|溪鸟物流|腾讯|宋小菜|一周CP|中软国际|促佳贸易|网商银行'"
   ]
  },
  {
   "cell_type": "code",
   "execution_count": 28,
   "metadata": {},
   "outputs": [],
   "source": [
    "df_fuck_company_result = df_fuck_title_result[~df_fuck_title_result['company'].str.contains(fuck_company)]"
   ]
  },
  {
   "cell_type": "code",
   "execution_count": 29,
   "metadata": {},
   "outputs": [
    {
     "data": {
      "text/html": [
       "<div>\n",
       "<style scoped>\n",
       "    .dataframe tbody tr th:only-of-type {\n",
       "        vertical-align: middle;\n",
       "    }\n",
       "\n",
       "    .dataframe tbody tr th {\n",
       "        vertical-align: top;\n",
       "    }\n",
       "\n",
       "    .dataframe thead th {\n",
       "        text-align: right;\n",
       "    }\n",
       "</style>\n",
       "<table border=\"1\" class=\"dataframe\">\n",
       "  <thead>\n",
       "    <tr style=\"text-align: right;\">\n",
       "      <th></th>\n",
       "      <th>url</th>\n",
       "      <th>title</th>\n",
       "      <th>area</th>\n",
       "      <th>salary</th>\n",
       "      <th>company</th>\n",
       "    </tr>\n",
       "  </thead>\n",
       "  <tbody>\n",
       "    <tr>\n",
       "      <th>0</th>\n",
       "      <td>https://www.zhipin.com/job_detail/24e09896e56a...</td>\n",
       "      <td>数据分析</td>\n",
       "      <td>杭州·西湖区·三墩</td>\n",
       "      <td>8-13K·13薪</td>\n",
       "      <td>浙江网新恒天</td>\n",
       "    </tr>\n",
       "    <tr>\n",
       "      <th>3</th>\n",
       "      <td>https://www.zhipin.com/job_detail/c2d8e62f516f...</td>\n",
       "      <td>分析数据（运营）</td>\n",
       "      <td>杭州·西湖区·文二路</td>\n",
       "      <td>6-10K·14薪</td>\n",
       "      <td>富数科技</td>\n",
       "    </tr>\n",
       "    <tr>\n",
       "      <th>8</th>\n",
       "      <td>https://www.zhipin.com/job_detail/55d6edef340a...</td>\n",
       "      <td>BI开发工程师</td>\n",
       "      <td>杭州·西湖区·三墩</td>\n",
       "      <td>10-15K·13薪</td>\n",
       "      <td>笛佛软件</td>\n",
       "    </tr>\n",
       "    <tr>\n",
       "      <th>13</th>\n",
       "      <td>https://www.zhipin.com/job_detail/dfc540347e9a...</td>\n",
       "      <td>大数据开发工程师（离线分析和数据分析）</td>\n",
       "      <td>杭州·西湖区·高新文教区</td>\n",
       "      <td>9-14K</td>\n",
       "      <td>开启网络</td>\n",
       "    </tr>\n",
       "    <tr>\n",
       "      <th>14</th>\n",
       "      <td>https://www.zhipin.com/job_detail/e18d94f8ec59...</td>\n",
       "      <td>BI数据产品经理</td>\n",
       "      <td>杭州·西湖区·文新</td>\n",
       "      <td>12-20K</td>\n",
       "      <td>明纪本元</td>\n",
       "    </tr>\n",
       "    <tr>\n",
       "      <th>15</th>\n",
       "      <td>https://www.zhipin.com/job_detail/1f35acbe87e6...</td>\n",
       "      <td>数据产品经理（物联网方向）</td>\n",
       "      <td>杭州·拱墅区·小河</td>\n",
       "      <td>14-16K</td>\n",
       "      <td>启融科技</td>\n",
       "    </tr>\n",
       "    <tr>\n",
       "      <th>21</th>\n",
       "      <td>https://www.zhipin.com/job_detail/00f7d654054e...</td>\n",
       "      <td>BI测试</td>\n",
       "      <td>杭州·西湖区·西溪</td>\n",
       "      <td>10-15K</td>\n",
       "      <td>万里牛</td>\n",
       "    </tr>\n",
       "    <tr>\n",
       "      <th>22</th>\n",
       "      <td>https://www.zhipin.com/job_detail/f7fc9c1ee9ba...</td>\n",
       "      <td>数据产品经理</td>\n",
       "      <td>杭州·西湖区·文三路</td>\n",
       "      <td>8-13K</td>\n",
       "      <td>孟想</td>\n",
       "    </tr>\n",
       "    <tr>\n",
       "      <th>34</th>\n",
       "      <td>https://www.zhipin.com/job_detail/dab467eb5230...</td>\n",
       "      <td>BI数据分析师</td>\n",
       "      <td>杭州·拱墅区·城西银泰城</td>\n",
       "      <td>15-25K</td>\n",
       "      <td>凡声科技</td>\n",
       "    </tr>\n",
       "    <tr>\n",
       "      <th>47</th>\n",
       "      <td>https://www.zhipin.com/job_detail/7cecea061e26...</td>\n",
       "      <td>数据分析师-AKZX03</td>\n",
       "      <td>杭州·余杭区·金家渡</td>\n",
       "      <td>8-13K·14薪</td>\n",
       "      <td>艾卡资产</td>\n",
       "    </tr>\n",
       "  </tbody>\n",
       "</table>\n",
       "</div>"
      ],
      "text/plain": [
       "                                                  url                title  \\\n",
       "0   https://www.zhipin.com/job_detail/24e09896e56a...                 数据分析   \n",
       "3   https://www.zhipin.com/job_detail/c2d8e62f516f...             分析数据（运营）   \n",
       "8   https://www.zhipin.com/job_detail/55d6edef340a...              BI开发工程师   \n",
       "13  https://www.zhipin.com/job_detail/dfc540347e9a...  大数据开发工程师（离线分析和数据分析）   \n",
       "14  https://www.zhipin.com/job_detail/e18d94f8ec59...             BI数据产品经理   \n",
       "15  https://www.zhipin.com/job_detail/1f35acbe87e6...        数据产品经理（物联网方向）   \n",
       "21  https://www.zhipin.com/job_detail/00f7d654054e...                 BI测试   \n",
       "22  https://www.zhipin.com/job_detail/f7fc9c1ee9ba...               数据产品经理   \n",
       "34  https://www.zhipin.com/job_detail/dab467eb5230...              BI数据分析师   \n",
       "47  https://www.zhipin.com/job_detail/7cecea061e26...         数据分析师-AKZX03   \n",
       "\n",
       "            area      salary company  \n",
       "0      杭州·西湖区·三墩   8-13K·13薪  浙江网新恒天  \n",
       "3     杭州·西湖区·文二路   6-10K·14薪    富数科技  \n",
       "8      杭州·西湖区·三墩  10-15K·13薪    笛佛软件  \n",
       "13  杭州·西湖区·高新文教区       9-14K    开启网络  \n",
       "14     杭州·西湖区·文新      12-20K    明纪本元  \n",
       "15     杭州·拱墅区·小河      14-16K    启融科技  \n",
       "21     杭州·西湖区·西溪      10-15K     万里牛  \n",
       "22    杭州·西湖区·文三路       8-13K      孟想  \n",
       "34  杭州·拱墅区·城西银泰城      15-25K    凡声科技  \n",
       "47    杭州·余杭区·金家渡   8-13K·14薪    艾卡资产  "
      ]
     },
     "execution_count": 29,
     "metadata": {},
     "output_type": "execute_result"
    }
   ],
   "source": [
    "df_fuck_company_result.head(10)"
   ]
  },
  {
   "cell_type": "code",
   "execution_count": 30,
   "metadata": {},
   "outputs": [
    {
     "name": "stdout",
     "output_type": "stream",
     "text": [
      "<class 'pandas.core.frame.DataFrame'>\n",
      "Int64Index: 232 entries, 0 to 1513\n",
      "Data columns (total 5 columns):\n",
      "url        232 non-null object\n",
      "title      232 non-null object\n",
      "area       232 non-null object\n",
      "salary     232 non-null object\n",
      "company    232 non-null object\n",
      "dtypes: object(5)\n",
      "memory usage: 10.9+ KB\n"
     ]
    }
   ],
   "source": [
    "df_fuck_company_result.info()"
   ]
  },
  {
   "cell_type": "code",
   "execution_count": 31,
   "metadata": {},
   "outputs": [],
   "source": [
    "fuck_salary = '20-|21-|22-|23-|24-|25-|26-|27-|28-|29-|30-|31-|32-|33-|34-|35-|-5K|-6K'"
   ]
  },
  {
   "cell_type": "code",
   "execution_count": 32,
   "metadata": {},
   "outputs": [],
   "source": [
    "df_result = df_fuck_company_result[~df_fuck_company_result['salary'].str.contains(fuck_salary)]"
   ]
  },
  {
   "cell_type": "code",
   "execution_count": 37,
   "metadata": {},
   "outputs": [],
   "source": [
    "df_result = df_result.drop_duplicates('url')"
   ]
  },
  {
   "cell_type": "code",
   "execution_count": 38,
   "metadata": {},
   "outputs": [
    {
     "name": "stdout",
     "output_type": "stream",
     "text": [
      "<class 'pandas.core.frame.DataFrame'>\n",
      "Int64Index: 114 entries, 0 to 1513\n",
      "Data columns (total 5 columns):\n",
      "url        114 non-null object\n",
      "title      114 non-null object\n",
      "area       114 non-null object\n",
      "salary     114 non-null object\n",
      "company    114 non-null object\n",
      "dtypes: object(5)\n",
      "memory usage: 5.3+ KB\n"
     ]
    }
   ],
   "source": [
    "df_result.info()"
   ]
  },
  {
   "cell_type": "code",
   "execution_count": 34,
   "metadata": {},
   "outputs": [],
   "source": [
    "df_result.to_excel('01_result.xlsx')"
   ]
  },
  {
   "cell_type": "code",
   "execution_count": null,
   "metadata": {},
   "outputs": [],
   "source": []
  },
  {
   "cell_type": "code",
   "execution_count": null,
   "metadata": {},
   "outputs": [],
   "source": []
  },
  {
   "cell_type": "markdown",
   "metadata": {},
   "source": [
    "--- 20200808 ---"
   ]
  },
  {
   "cell_type": "code",
   "execution_count": 1,
   "metadata": {},
   "outputs": [],
   "source": [
    "import json\n",
    "import pandas as pd\n",
    "from bs4 import BeautifulSoup,SoupStrainer"
   ]
  },
  {
   "cell_type": "code",
   "execution_count": 5,
   "metadata": {},
   "outputs": [],
   "source": [
    "only_a_tags = SoupStrainer(\"div\",class_='job-primary')"
   ]
  },
  {
   "cell_type": "code",
   "execution_count": 6,
   "metadata": {},
   "outputs": [],
   "source": [
    "with open('08.html','r', encoding='utf-8') as f:\n",
    "    soup = BeautifulSoup(f.read(), \"html.parser\",parse_only=only_a_tags)"
   ]
  },
  {
   "cell_type": "code",
   "execution_count": 7,
   "metadata": {},
   "outputs": [
    {
     "name": "stdout",
     "output_type": "stream",
     "text": [
      "<div class=\"job-primary\">\n",
      " <div class=\"info-primary\">\n",
      "  <div class=\"primary-wrapper\">\n",
      "   <div class=\"primary-box\" data-index=\"0\" data-itemid=\"31\" data-jid=\"c67403f9b66fd4a533J50t2-F1c~\" data-jobid=\"86390375\" data-lid=\"nlp-7pjAjobJYgm.search.31\" href=\"/job_detail/c67403f9b66fd4a533J50t2-F1c~.html\" ka=\"search_list_31\" target=\"_blank\">\n",
      "    <div class=\"job-title\">\n",
      "     <span class=\"job-name\">\n",
      "      <a data-index=\"0\" data-itemid=\"31\" data-jid=\"c67403f9b66fd4a533J50t2-F1c~\" data-jobid=\"86390375\" data-lid=\"nlp-7pjAjobJYgm.search.31\" href=\"https://www.zhipin.com/job_detail/c67403f9b66fd4a533J50t2-F1c~.html\" ka=\"search_list_jname_31\" target=\"_blank\" title=\"用户运营\">\n",
      "       用户运营\n",
      "      </a>\n",
      "     </span>\n",
      "     <span class=\"job-area-wrapper\">\n",
      "      <span class=\"job-area\">\n",
      "       杭州·江干区·钱江新城\n",
      "      </span>\n",
      "     </span>\n",
      "     <span class=\"job-pub-time\">\n",
      "      发布于08月03日\n",
      "     </span>\n",
      "    </div>\n",
      "    <div class=\"job-limit clearfix\">\n",
      "     <span class=\"red\">\n",
      "      7-12K·16薪\n",
      "     </span>\n",
      "     <p>\n",
      "      3-5年\n",
      "      <em class=\"vline\">\n",
      "      </em>\n",
      "      本科\n",
      "     </p>\n",
      "     <div class=\"info-publis\">\n",
      "      <h3 class=\"name\">\n",
      "       <img class=\"icon-chat\" src=\"data:image/png;base64,iVBORw0KGgoAAAANSUhEUgAAABoAAAAaCAYAAACpSkzOAAAC/0lEQVRIia2WvW4aQRCAt3DpIu8QyU26NGlygM8G7oxtOFvITYrkDdKgSKnyCuF1AN3+sH/HRbhFqdPQ0jMpdvduOZbYRU769I1mdmYOYXlB6IXno9YXkaCTSOJZxMmmzfGuzfEu4mQTSTyLBJ1caX3x0pyTT1zK9y1B5y2eQ4vjIJGtRTyHSOTzqJTvX73gB8DZJcfTliR7s+Q0bY4rtzmGliT7mOPpD8jP/rnk83r9pi3ooiMwdIRpdm5zDG3hWWBo87y2jyCL0Tp/E1ySQ34WC7ro8Bw6HBuEZ4Ghw/Pafmzrl55jQRc5wPEniyWeXnJz6JJbhOcQL5yPOZ4effGxovtYYPivKLqP/T+QrqDzK4GhSew5buSuBIYrSWr7sXemK+gcIYRQpvXFtSTwKgSubQdde0Ov7ZJmX6b1BUrEctKVBLp2QNcb1MQ/E6LZ7+JktZygvmSzniTQs4d7XqOfMzGubCCeQ+eN+5LNUKrZpicx9CSGviSV/djVe1VMGvGpuiHRbIP6kuzc4IoV/T7ebs/7K/rdzyeqrqW2lqjjnkTVeesdSiTZuUJiC+Pt9hwhhMbb7bnLufpRTf47b9mhVJLfqaKQKgqJJJAqCqn31okkkDoUOailyuaO8mae46ZgG3RbsPmNImCgnimkNnbD/Fy4XvtGmZe7UQQGks3QQLNvA0VhYJcMqmXkIGcgnkkjF0Ab3/5aTtDdc/HONd7axltFDdpzgIGqHXoRN+/JXYzDFZvd2aHOYYhnYs8ah/pNzGbV/7rHUn640xTubcN9I747hfIcYrXcP5Xl4a07VOznvaZwr+pFRyjPqpHTFIaaVR5qBqOSH14T5uKDs2FByahgMNQ0jKsV7DCuzrDKmebhiw8hhLKCfxlpBqPComntIMxzHT9ouvi6Xoevcrco0xQyzSCzjZmuF2V2aVawMKvl/qHk05OfxD0Pa/n5oWDwWjJNK2cFm39qfvGnnqeyfDsu+Z9Tgx+txyXbPRZs87his/Gv5eTp+eUfkH8B95QiEYjrEUMAAAAASUVORK5CYII=\"/>\n",
      "       王永禄\n",
      "       <em class=\"vline\">\n",
      "       </em>\n",
      "       产品运营经理\n",
      "      </h3>\n",
      "     </div>\n",
      "     <button class=\"btn btn-startchat sf-hidden\" data-url=\"/wapi/zpgeek/friend/add.json?jobId=c67403f9b66fd4a533J50t2-F1c~&amp;lid=nlp-7pjAjobJYgm.search.31\" href=\"javascript:;\" redirect-url=\"/web/geek/chat?id=4f4f5c09bc776b4b0XZ62NW7F1I~\">\n",
      "      <img alt=\"\" class=\"icon-chat icon-chat-hover\" data-single-file-origin-u-r-l=\"https://z.zhipin.com/web/geek/resource/icon-chat-hover-v2.png\" src=\"data:image/gif;base64,R0lGODlhAQABAAAAACH5BAEKAAEALAAAAAABAAEAAAICTAEAOw==\"/>\n",
      "      <span>\n",
      "       立即沟通\n",
      "      </span>\n",
      "     </button>\n",
      "    </div>\n",
      "    <div class=\"info-detail sf-hidden\">\n",
      "    </div>\n",
      "   </div>\n",
      "  </div>\n",
      "  <div class=\"info-company\">\n",
      "   <div class=\"company-text\">\n",
      "    <h3 class=\"name\">\n",
      "     <a href=\"https://www.zhipin.com/gongsi/0d98f955363061550nR_29u_.html\" ka=\"search_list_company_31_custompage\" target=\"_blank\" title=\"东信北邮招聘\">\n",
      "      东信北邮\n",
      "     </a>\n",
      "    </h3>\n",
      "    <p>\n",
      "     <a class=\"false-link\" href=\"https://www.zhipin.com/i100019/\" ka=\"search_list_company_industry_31_custompage\" target=\"_blank\" title=\"移动互联网行业招聘信息\">\n",
      "      移动互联网\n",
      "     </a>\n",
      "     <em class=\"vline\">\n",
      "     </em>\n",
      "     未融资\n",
      "     <em class=\"vline\">\n",
      "     </em>\n",
      "     1000-9999人\n",
      "    </p>\n",
      "   </div>\n",
      "   <a href=\"https://www.zhipin.com/gongsi/0d98f955363061550nR_29u_.html\" ka=\"search_list_company_31_custompage_logo\" target=\"_blank\">\n",
      "    <img alt=\"\" class=\"company-logo\" src=\"data:image/jpeg;base64,/9j/4AAQSkZJRgABAQAAAQABAAD/2wBDAAEBAQEBAQEBAQEBAQEBAQEBAQEBAQEBAQEBAQEBAQEBAQEBAQICAQECAQEBAgICAgICAgICAQICAgICAgICAgL/2wBDAQEBAQEBAQEBAQECAQEBAgICAgICAgICAgICAgICAgICAgICAgICAgICAgICAgICAgICAgICAgICAgICAgICAgL/wAARCABkAGQDAREAAhEBAxEB/8QAHwAAAgIBBQEBAAAAAAAAAAAAAAoJCwgBAwQFBwYC/8QARRAAAQQCAQMCAgMJEAAHAAAAAgEDBAUGBwgAERIJEyExChRBFRkiUVhhcXexFxojMjc4OVeBlZeztLbV1yQ0cpGWosH/xAAdAQACAgIDAQAAAAAAAAAAAAAACQUIBgcCAwQB/8QAThEAAgEDAgQDAgYNCQUJAAAAAQIDBAYRAAUHEiExCBNBIlEUGDJWYXQVIzY3QnGBlKGys9PUFiRSYnJ1kZO0M4OSsdIXNENTY2RlwcL/2gAMAwEAAhEDEQA/AH+OjRo6NGjo0a48qVHhR3ZUt5qNGYAnX333AZZZaAVI3XXXCQW2xFFUiVURERVVeydHUlQAWLEAAdTknA/TrhJJHEjSSuI40GSxOAB6knsAPedRj799YngNx9kz6e53IxsLKYBONPYvp+vPYEwH2vgcd29gvt0kSSJ/gk0/aNOCQqKgiiqJuG1eAvFK7kSehtqTbaSTGJ68/A0wezcsgM7Ke4ZIWB9M5GdO3Vx84YWnJNTVVwruVbDkGGhX4UwYd1LoRCGB6FWlBU9Gxg4yZ1fykx7cHE2Nyxw7HLuNjVtrzMNh0uM5K5Ar71yDioXyjX2btY9NjwZL50TieTRyRbGQi/wiiqLhG+2huFvXjNZe41MZr6ashpJJYuZ4gZjGOdeZY2YKsmcELkjHbWZbJeVHcFkQ3tt9PIKKppJquOKXlSQrEJDyNymRQWMeMgsAD6nS+jH0mkPcFJXD10WkXsax94Nk4qfaoo5qnshfmVe35+raSeDSo8omO/o2lx2O3sAT+P4Wen08v5NVOXxmQiQrJYj+WDgkV682PeB8Exn6C35fXWUeqfpGHETLJkeBs7ANvanN5RR21Wspc5xyJ5L2Mn5VBZNWRAPdFT2ql0iRF/BRURCwbe/CRxG29Hl2jcKHf0TPsK708zfiWWPyifo88azm3/Fvw/3SVYN222v2J2xlmjjqIgfpaKQSY+nySdTE6J5YccuTFT92NGbfwvYrQMg/MrqW2aDIqptzxQCusVnozZUvdSRE+tRGe6oqD37dV/uWzbqs+q+CXNsFTs8pJAM0ZEbEd+SUZikx68jtj1xkZsDbV72neEPn21vtPuygZKxuPMX+3E3LInrjmQZwcZwcZDdY1rKtHRo0dGjR0aNHRo0dGjWBnOj1DNEcEcIbuti2a3+eXsWUeDaqoJMY8syl5lFbSW8JqQ4/jYPp4v2UofaHwJuO3KkoMY9k8N+Fl0cTt0NFskAg2+nI+E1soPwenBGQCcfbJSOqxJliOrcqZbWsuJPFW2eGe2fC93qBPuFQD8Go42HnzN2B90cQPypXwB2UM2FKUHMz1P8AlPzUs7GBmeXyMM1e++6lZqHBpUqqxJqF5qrAZG60YyM0no2gKb1gbjKOIRxYsQS9tGN8OeB9j8OYaeopaIbrv0YUtX1ShpgwGSYV+RAoOf8AZ5OOjMdLi4icbr44h1EkVTXtt2ylj5dFTFkhwegErfKnYj+me56KOmufxo9Jvm9ymhwL/DdUv4bhFkjTkTPtqSnMIxyTGeTyanV0SVEdtbyvIF7g/X1spgvscT4ddN5cfeGdlSS0VVvH2W3GAkNTUCipdWHcPIGSCNgc5VpefPUqAdd1ncA+JN6xx1lFtB2vbZe1RXMadMf1EKtPIuOzJFyY6c2nNtV6HyHjF6a8vQ2V3FRf5Drbj3tOltLihGaFPPkyKXMLZXa9LGO0+rAjYiCK60BErSr4iioiLouK6Ke9OKj3RSUslHS7zu1LLHFLymRF82FQH5SV5vZ64JA950xPYLYqbM4S/wAl6yoSqqtn2usieSMMI3YxzuSnMA3L7WASATjsO2kHuMGlQ5GchNSaMcyE8TDaWcVGHLkjdalydN91nSZSeNUU2Mk9WyRF9tZDPkndPcH59NUvy5ZLOtDf7njpFr32WnefyWfyxJy4HKXAYrkkDIViM9j20q2ybaS8Lw2O2HqzQpvVSsBmC85j5yfaCEqGx7iyj6R31NJuT6OXylw6HMstO7Q1puNiMBm3S2LVlrbKp3iCkLUCNZuT6s3VIfH/AMRbxh7qhd+3wSt9veL6zq50huK3azYOYgGSJkrYRk9ScCGUAd+kTH6PfY24vCBeVBHJLb++Ue/qoJEcgekmP0AN5sRP0mZR+LUNGf6p5LcOdlV8fN8Y2VonZNHJOZQXCFaY3Ye5FJBKyxTKql4WrSMKkg/Wa+U81+F4+58e3ViNr32xuJWzSfAK2jujaqgYlhYLJge6WCVRJG3foyL0PQnVfNz2G9uG28RNXUVZbe605zHMOaPqO5imQtG6noeZHIPTsRqfX0+/X2yign0mrebRFk+PPuRa6r3rVQG28io0JUZbPYVHWMiGQVwio+djBZbnNI2pyItgbhvN1X4seFenMdRvvDUfB5kDPJtcr+w/r/NJWwYz3xDIWU/gMnRdWo4T+KWqhkp9j4kN58L8qR7kqnzEPbNTGMiQHpmWMK4/CV+p02fjGT49mmPU2V4ndVeR43kNbDt6S8pZ0azqrSsnsBJhzoE+G4bUuK4y4BAYEQki90VeqN1NLU0VRPR1lO9LV0zFJI5FKOjqcMrK3VWB7g6vRR1lLuFLT1tFUJVUtUivHJGwdHVhkMrDowPoRrveujXp0dGjR0aNYBeolzwwjgbo2dn1s3Gvti5GUmi1Rgpvo25kuTpHFw5lggGjjGMV7TrMixfFEVAJqK2YyZcdC2Xwp4a7pxQuiHZaMtS7bS8sldVcuVggJxhc+yZpOqxIT3BdhyKc6v4r8TNs4ZW1NutTifc6rmioqckAzT8pILD5Qhj6NKwGSCEU8zDCE9xc8iedvIcps48h29vHbmQhHiRI4IbrzrimUeuro3cY+P4vAggfiPdmDXw4hOOE002Z9NEhprO4T2gY4hHsVubHESXJ6sfwndsc0s8zdSSOaRyABkquldT1F48V7vMkhl324N6mwqY7An2UVeixxRKMAZCooJJADNpwz07fRX0xxcrqHZO8YFDuXfntMTvesYv3RwDXc38F4IuH01gwI2luw8g97ea0r3mwhwWIKefur54seIe5r+nqNq2KWW3rTHMojjYpU1Sn8KpkU5CMOvkIeQZyzMemmCcJfDxbdj09Pum/RR7/AHM3KxZ156alYfgwRt0Z1PedxzdMKqjrqcYGwDugCgov2J8v/b7Oq6gAZPqep+nVkAAowBgD0934vdrx/kT/ACAbx/VBsv8A2Vd9S9v/AHQbB9epP28eoS5/uauH6jV/6eTVfP6Y/wDSB8SP134f/q3Omu8cPvTX59Qf9pHpUHBX77Vjf3jD+tqx76UZpvevKNxaO1Nv/CLPXW4cDx3P8QtWzF+oyGEMoI8ggIG7CtlCov1Fq15krMuK4zJYJfJp0C+PUrse+bzbW4w7tb+5zbRuMHyZYHKH6Q4B5ZFPZkcMrDoQdQm/W7slzbfLte/bZFutDLnKSqGwcEcyN8qNxn2XQqw9D30l76ofo65dw/Sz3RpFy2zzjucn3LiNIUp2XamKS8gsN5A6yyKXGIq44DbFoIi5HVRYsAQvbmSmH8EvERRX01PbN3tHtl1oEWGbqsFeR09nJxDUdMmPPIwyVI+SF38bvD1W2Ks1y2vz7nazMTIhBaah9Rz8oPmQ9cCTAK9OcYy2uF6RHqlX3EXOKzSu3ryXZcas2t2oqvTnTknqK/s5HimU1CudyaxR6S75XEIfwRQysowpIbkMzuzxBcEKa9duqLptujEN37ahaSONQPshEnVkfA61CjJjkOCwHlsSCnLw8P8AxuqbJ3KK2bhqjNale4UM5z8ClY4Eq9M+STgSIOxIcDo2XnIM6JZw4thAkMy4U2OzKiSo7oPR5MaQ2LrEhh5olF5k2jAhIVUSEkVFVF6WwysjMjoY3QkMrAhlYdCpB6gg9CD1BBB6jTK45I5USWJxJHIAyspBVlIyCCOhBHUEdCCCOh1yuvmueuDZ2EKprp9pZSo8GvroUqfOmynW2I0SHDYORJkyHnSQWmG2WzIyJUQRFVVUROvqq0jpFGC0spAVR8okkAAAdSSSAMdc66ppY4YpZZWCRRKzMScAKoySfoA76ro/Uk5kXfNrlFmOxW5swtdY/IkYZqCkdVxtmtwaqlutxbJYa9vatbaV71lLUkJ0TntxVMmojCC2ngvw6puGlkUW3yxqu77gq1W4ydz57Llo8/0KdAIlA6ZQuM8xypPjJxCqeJF711dFKzbPSMaagj9BArY8zl/pVDfbST1AZQe2mtPRo9Oas4mabgbg2RRNryG27SQ7G1OfHRZmu8KsEZsKrBISOj5Q7F1sYcu5JEEil+1DLyCABuUZ8QXFqo4g3LNs201LLaOwyMkKgjkqp1LK9WwB9oZyIO/KmW7ucXm8PvCSnsO3YN83SmH8q98iV5WYHmp4G5WSnGR0JADTYHVsD8HrNt1XoADsMasXo6+6NY1cn9hYVR6Q3TU2eS1Ue0k6o2LFarhkjIne/Iw+4aZbciRfNxlSNweymIj8e6r2RV6mbcRpLit9EGWNdSdP9/HqCug4tq4fqNX+wk0gz6Y/9IFxI/Xfh3+rc/P01rjh96a/PqEn7SPSoOCnXizYp9+4wfrase+lGab5o6NGuruqWpyKps6G9roVvS3MGXV21XYxmZtfZVs+O5EmwJ0SQBNyoj0V51txsxUTBxRJFRVTrnFLNTzRVFNKaeogZXSRTh0deqspHUMpwQfTGumopoKuCalqYVnp6lWSRGGVdGBDKwPQgg4IOkEfVy9P4+EG/AnYTAl/uDbdctL/AFq8avSAxmdFfZLItfS5jndXCgOTYjsE3CU3q6ewhOPSI8pzpovh+4rf9o9sPRbpIDdFvhYqonANRGQfKqlGB8oIUlxnEqM5wJEyrbxAcKm4c3OtXtcBFtb6ZJaUjJELqQZKZiexTIaPJ6xEDujanp9AbmzM3Vpq64yZ/cFMz7Q8CFIwqTNe9ybeajlPJBhRlMl8n3aG0cjwFJfgEG0q2RRfbMuqt+KLhtFatz0927VTiHaLpZvOVeixVqDmckYwFqQWkAByZUlY9CNWj8LvEp7ntye091n8zdrYRfJZj1konPKq+8mnYLH/AFY3iUHodMM9Vb1azUR3ra8gJWh+Bew49POODk+5bCt0xRvMueEgIuVNS5uXON+JISCWD02SMeY/xHJ7SqvdRRd3eHi00uzinscdRH5tDsavuEwIyP5vjyc/79o/x9jrRPiMup7X4Ybz8Hl8mt30rQREHBxPkzY9cmFHH0A/l0qp6OvGGJyf5v6+rMhrm7LBdVxpW4c0iyA84c6NiUyvax2pkiQKD7MnMrPHheYP4PQ2pQ9lRC7Xj8RV6S2dw13P4FN8H3S4HWhp2BIZPNDNO6gYOVgRwGHyZHQ5zqjvh4spb04j7aa2IT7bsSmtnUjKsIiFhjbpjDzFMqflRq69Mg6sGgHxAR+XiIj2/F2RE6VaBgAe7TWNfr5dfdGsJ9/71sIk6Zg+GTThLEIo9/dxTRJKv+Ke7WQHxXvH9vv2edBUPz7tioeBqZo1i3muhs4yHR218unkxRVjOr89tGjtEeOysW2MVtpSOMQwHuDZoBdjeNtSQ0MRMV7rOWzJ5NyW9JjPLXUn7ePUHc/3N3Bnt8Cqv8PIcn9GlAPTH/pAuJHf+u/Dv9W501fjf96W/B2/mEn6ZItKf4KdOLNij3bjB+tqx76UZpvmjo0aOjRqOn1UuMEPlVwt2zh8etGdm2GU0vZ+tXQaVyYzmOFQZdk3AhIKd/es6VLip7fEU+7nn28gFR2lwZvOWxuItv7sZTHt9VIKSsGcKaaoZUYn0+1sUlGf/Lx2J1qfjXZsd78O9+21YhJXUcTVdKcZIqKdS6qPX7YoaI49Hz6aSh9Mzf0zjdzc0PnqzShY9Z5jB1/nCKfhGdw7Pnm8Ztn5ieQ+4xDdnw7IUVe3u0rSr37dlY5xvtSK8+GVy7ckYnq6WA1lKcZImp1EwC+8yIrRHGPlHByM6XFwUumazeJVtVrv5VLVTpS1AJwDDVFYmLH3IxST8aY7Eg2OQL3EV79+4ovf8fdEXv0pAHIB9+m6A5APv0qf9JgzySjXFHWjTxjFde2nnFlFE19px+KGHUFHIMe3xcBuXkAiv2I8ff59Xc8Gm2hqi+t6ZPbijpaVD/Vd55XGfefLhb8mqO+MndXWCydmH+zkarqWHbqqwRofyc0q/l1i16GvLfiHxBicgMp5DbPiYJmOcSsGocVjP4nm2QvO43Qs5BPt32pOK41ObitPWdrXiQOm2ZLWCSCSIipmnibsPiDftXalJaWyvuu3bZHUSzMJYI1WeVkRVImmiYkRpkFQR7RHTrrCfDJflh2FT3RWXVvabXuG5NTxxK0c7kwxh2JBiikAy74IJBwAeoOmAvv13pp/lJRP8NNxf9f9VY+Lrxn+Z7fnFH/F6tX8Yrg/88Iv8is/htdlT+sDwIz2yi4Zrje8bI88yVXanEKINfbThFa5BKYdGshLLtMJYjRROUjaK48800CKpGYiiqkbu/AzitsO21u8bva5pNs26NpZpTPSt5ca9WYqlSzEAeiqT7hqS2bjnwv3/dKDZtpuiOs3LcpFihiENUpd27DmenVRn3swHvOt/QuJNZ5slkrofr0OqYlZHZNyV9xJ77UlhtlqR59/dE50xtxxC7oYtEJd0JetU/p1tzBHQ9xrNjkOiDx/3giIiImn9loiJ8EREwq77IidS1v/AHQbB9epP28eoO5/uauH6jV/6eTVddwU2ThmnuYnHXaGxLkcewfBtqY3keUXZw7GxGrp6+SRy5awamI/JlIIL38GWXHC+Qiq9Nx4q7LuVxcO7u2XZ6c1m57lRyRQRAopkkJVlXmdkVQSvUkgencjSj+Fu77ZsHES1963iqFFtu21scs0hDMFRSSThQzHqAMKpPXODjBdg+/X+mn+UlE/w03F/wBf9Lg+Ltxn+Z7fnFH/ABemPfGK4P8Azwi/yKz+G0ffr/TT/KSid/1abi/b+5/0fF24z/M9s/WKP+L0fGK4P/PCL/IrP4bR9+v9NP8AKSif4abi/wCv/wAfR8XbjP8AM9vzij/i9HxiuD/zwi/yKz+G1tu+tV6aDzTjJ8kIRA6BtmJ6z3CokJiokhCuv+yiqL8U/P18Ph24zgZFnt091RRZ/J/O++uLeIng8yspvCIhgQR8HrOoIwR/3bSH+3zw+HuTZzusrYLXAo+yMxe1/dxYs6AE7EgyawdxaxYh2UdmTDQ6dIJi2+02835ILjYGiijPbdi3Ge09ih3yE0+6PQwJVxuVLJN5KrMjFCyHD82SpIx1B0sS4Jtugurd59mnFVtcdXM9LIoYBohKxpyA4V1AXk6MARjVmJozMj2DpXUOeyHGzfzbWGBZa+YKiAb2R4rVXDpCir/F9yaXbpOO/wBEu1b7vW2Y5PsdV1EGPd5Uzx469enL66chbm4Nutv7HufyzuFHTTE9Bkywo5P4zzZ0qv8ASW2Hh2zxekkBIw9r/YjDbqovgTsbJaJx5sS+0hblx1VPsR1Px9Xe8Gbr9hr5iz7a1VGx/EYpwD/ipH4wdUf8Zit9mLHkx7Bpqxc+8iWAn/AEZ1HJwF9KrZnqAYJm2c4BtLXmEMYNlzOJWNVl0fI5FhJek00O5j2Mf7i17wDDJuS60iGSH5xDXx8eyrtvirx42vhVvW3bNuNuVO7NuVN8JSWGaKNQBI0ZQrIpJYFeYkHGGAxk9NScKeBW48Vdm3Hddv32m2w7dUfB2jmSRmbMayBwUBABDcuCOpVjkY657fvazkh+UHpH+7s8/wCF61f8ci2vmVuH51Tf9GtpfE3uX53UP+XUfu9enaX+j+8idJbXwHbcrden8hia8yWvymZRVkLNGrK2h1bivy4FecqnRoZ7sZHRZ9whD3CHyIR7r1i17eKa3rstK4LbitOuo5d6pZqdZWqKdljaRCFYqqAkA4JAOsqsfws3FaN3W9cslzUVVHstVDO0SpPzOqMCyqSigErkDJ741NjxgyGJR7JWFNcFoMhp5VRGcIkEfr6SYk2M2qr8F8xiPAKfMjcBE7qqItKjjJx21dskkknudZgcif5AN4/qg2X/ALKu+pW3/ug2D69Sft49QVz/AHNXD9Rq/wDTyarV9D6itd97l11pqjtK6luNk5VX4pW21sMk6yvl2ZmDUqaENs3Sjio9yRsSLt8kXpx133HDaVtbzctRTvVw7NA87RIVVpAg6qGbIU46gkEdMeuQnG0rcmu+6dotmnqVo596qFgSV1LIjOSAWC+1y5xnHX1GcYM2y/R4d/oqp+71p74firs17f2d6fqrY8Y1tZ9qzq/8lRTj/wDJ/wCerRfE3ur1u3b/APgqf3Z0fveHf/8AX1p7+7s1/wCH65fHGtj5nV/5zT/u9ffib3T87dv/AOCo/daP3vDv/wDr609/d2a/8P0fHGtj5nV/5zT/ALvR8Te6fnbt/wDwVH7rR+94d/8A9fWnv7uzX/8AKfoPjGtjBxZ1fn6zT/8AQNfR4N7oBBN2UBH9io/dj/nqDjdGsp2l9ubK1FaW1fe2etM3yXBrK4qRkBW2FhjFtKp5sqEMoBcGOUmI74oYiSJ/GRF7p1ai1t8S57c2O4I6dqRN7poahYnILxrOodVZh0JAYcxGB3x21Va5tia2bj3m3nqVrJNmqZaZpUBCSNDIUZkDZYKWU4z19Tqx44T1kup4ccUqyeSrNgcctKRJSmSoSvsa3xsHPJO/8bzRU/s6T9frxyX1ecigMr7rXkEn/wBzJ2x0I+nTfeHkLw2HZsTsSybZRZ/N0PqPTOPyahH+koaukW2k+PO34sc3W8G2Nk+E2jrYIqsRNh0ES0hvPkndQYSbgStIXwH3J4Cq+Rii2V8H29rSXTc+wySYO7Ucc6DHd6WbBx17+XUN2/BBPpqtnjD2Q1Nr2vvqJzDa6uWBz7lqYeZfyc8A/LgeusYvo1+4YlRtDkJoywli07mmI43sjHmHXEEXJeEWMuhv2Y4kv4cp2Dl1S4oj3VWqgzVFQFUcy8Y1vSS7faF0RLlKKWejmI6kCdVliJ9w5oXA+nt11hXg5uBIN1uy2ZpOVq6GGrhU49poHaOQD6QsyHHXpk9hpvlF7p3T5L8U6ofq/WtFRFRUX4oqKip+Zfn0aNRx721NZ4JkL+XY+y+ONWE36+zIh+aHj9m497yx3TbXvHYWQvnGc+CJ3RruhgKmaNdTnXJ52XoPbmOZrWSJVhI1RsCtj3tYjHeS4/h9vGZcsYLhto24pmPm40SovfujI/HqbtqIzXJb0anDNXUmP89DqCug4tq4fqNX+wk0lH6cP8+3iv8ArlxX/Oe6a7xp+9XfP93z/q6U9wWOeLNjH37hD+tqwQL5r+lf29KH037WnRo0dGjXz+W5PT4TiuTZnkMoINBiWP3OTXk1xfFuJUUNdJtLKSa/YIQ4rxL/AOnr1UFFUbnuFFtlIvPVbhIkMYHUl5HVEH5WYDXi3Gug2ygrtxqX5KeghlnkPbCRIXc9enQA6rlZ72R8g97zHosd2Rlu69ryDixUVXXXsi2NlxqzH8vmZFZXKCi/FVUk6cuq0lm2bGrnyqO2ttQZ7AJSUyjOe2eWPJ9OYkdtJnc1N33mSoMlXcW4EgevPVVBKjp16Fwp9e576s5sNxyFh+I4tiVaPjXYvjtJjtePy8YVLWxq2KPy+xiM30meuqHra2rrJRmWrlkkb+1I5c/pJ05qgpEoKGioY+sdHFHEv4o0CD9A1i3z+44Jyv4kbn0rGZjuZDf4s9aYU7IUQGPnOMSGMjxNffX/AMs09cVkeK+aKnaNPeRe6KqLmHDS7Hse+7buYMRT0E4Wox3NNMDFUDHqRG5YA+qjGDgjCuKNoi+bFuG3AoM9XAzwE+lTCRLAR7sugUn3N1yuQUBeJG/sn4d8ota7ljwrBiXrfLzi5hjrgHFnWONyfrOP5vjUhh/x9me5TS7NoEdT+AlttuEKE0nZqXEK0qLiPY267BHMsv2XpxJSzKQVWoUCWmmDA4K84XLD/wAJnAwTpWFgXNW8O772nehGwO1VHJUxH2WaBiY6iNh0PN5ZblHbzAhPbVkngGc4tszCsV2BhNxEyDEsxx+pyXHbmCaORbKnuIbU2DKaXv3HyYdHyAuxgSKBoJiSIn+v2+s2qtq9s3CnakrtvkeGaJhho5I2KspH0EdPQjBBIIOnA7ZuNFu1BR7nt1QtVQ10aSxSKQVdHAZSCPoPX3HIOCCNfX9eTXu1syY0eYw9FlsNSY0hs2X2H2xdZeacRRNtxs0VDBRVUVFTsqL8ejRrCbkxxy169pvcl9UtWGPy4esNhWIxq2QBVrrsbE7iSgFEmMuqy2RB28WTaFEX4Iny6m7Zl8m5LekxzFa6k6f7+PUFdHW2rg+pVX+HkPn9GkT/AE4v593Ff9cuK/573TXeNP3q75/u+f8AV0p7gqMcWbGHu3CH9YasEC+a/pX9vSh9N+1p0aNHRo1CB64nLOHp3jqGgsbsmx2Jv4TgWUeO8P1ul1fXSW3MjnyQAlVkLSY0xVMiYoMmO9Z+C+Uck6s/4XeH8ty3p/Kqsp87NaREill9mStcEQIpIwfJHNM+OxVAcFlOqv8Aii4gRW3ZptSiqQN5uoFGVWw0dGhBlc46jzTiJPU5Y4wDqHv0K+MEve/NKg2LZQCewbjtEHY9vKdaJYbuYOrIr9eVXuInYZqXKSrVpPko4k6i/Yi2T8UV6pb3D6XYoJQm53Y/wYKDh/g6APUOR/QYFIcjGC3fVZPDFZMl0cQId7qIi232qvwl2I9k1B9inTPbmyWlwev2oHpnT4SJ2RE/EiJ+P5fn+3pZgGAB2xpnegkQkUV+SoqL+hU7dBGQRnGdGkr/AF3fT/naZ21L5Xa2pTPVm4LdXdgx66MqR8K2hOUnJk+S20naNTXxocoHVRRG1KY04YfWYTZsO8LvFSLfNmFgb1U43jY0HwEvgGoo8kiMHPtSU3yeTqxh5GAwjnS6/FBwqk2HemvvZabm2jfHAqwgP83q+gD4HyUnA5i3RRLzAnLqD33opeqfX6GnwuKXIXIgr9Q5BZmer85tpCBA1vkdrJVyVjl9KeJBg4RYTnnXm5JELVZPfcN/tDlvPwvL4j+CE9wrPftpUnm71TpmvpUHtVUUa9J4x+FURoAHXvLGoxmRAsnr8OHHKK3mgsO7aoRbJM+KGqkYgUsjt1gkLfJgkY5Vu0UhOQI3LRuXMvsyWm347rb7LoA4060YuNuNuChg42YqqGBCqKioqoqL3Tpfh9lip6MDgj1B0wdHV1DowZWGQR2IPuOt3o1y145yJ/kA3j+qDZf+yrvqWt/7oNg+vUn7ePUHc/3NXD9Rq/8ATyar0/Ti/n3cV/1y4r/nvdNi40/ervn+75/1dKe4Lffasf8AvGL9fVggXzX9K/t6UPpvutOjto1jLyw5X6p4fantdo7QtmwUAfh4liUWQymRZ1knskcSgoYrhdyJT8CkySH2IbHk++qCgiWa2FYVw8Q7gp9h2KnPMxUzzsCI6aHmAeWVsYUAZCrkM7eyMDJGD39f2wcO9hn3zfKlQFBWCAMPMqZsErGi9z16s3UKOp64BRI3Zt/cXNzkRY5teQ5+U7E2dkdfj+J4hRNSJgQmJUoK3FcHxaAnckhsA6wy0KJ5vuuOSnyOQ+84TWbXtu2uFlmR7bBKlDtGxwSTVFTJ08xwC81RKWOS0h9OmAFQAYA0qa6bluTipekm4VCPWbpu8wipoI+oRWblhgiUZwqjA6ZGeZj3Onw/TM4T1vB3jRj+vZYwpezMpdbzLbl5FUXgm5hYRGW/uPDlKnd2mqoAR4MZU7A6UZ+YgNnMcHpYHF3iHU8Srzrd7y0e00v83oIm6FKZCcOwHTzJ2+2yeoJCH5Omd8HeHNPw1s6j2gqrbtWYnrpB1DVDKMopPXy4V+1p6EAsOjakO61hra2jo0a+C2brPCNw4JlOtdjY5XZXheZVEqjyKhtWyciT6+WHiY92yE48kDRt1h5ogeYfZbfZMHWwMfdtm6bjsm4Um7bTVvQ7lQSLLDLGcMjr1B9xB+SwIIZCVIKkjUZu+0bfvu21u07pSpWUG4xmKaNxlXRu494I+UpGCrgMCCAdIc+pb6WmzuDeYWGV4zFts7443lo4uLbAZjlJmYoUt5Vi4nsEYzXjXWjZEjUaf4hEshETb9mSrsNlnXBjjnsvEihg2vcpo9rvGnTElMTypVco6zUhPyge7w5MkRznmQc+lh8ZuBu88Oq+p3HbIpNytSZiY6kDLU+ScRVIHyGXsJcCOQAFSGJQeq+nr61W5OI8On1dtuJZ7p0TBFmDWQ354JsDX0AOzbbOI3Fift29Iy0q+3UzzBsBBtqHOgMgrRwPFzw2bHfMtRvtryR25c8uWkAQCkq3PrKiAGJzj2pY88zHLoxJbU5wl8SO+2NDT7FcUb3BbcZVUyw+E0qf+i7ZDouekUnQAYVgMLpuHjX6gPEvlfWQpGn9w4zY5BIZbOVgV9MZxjYNe8rfm+y/iNy61KlttkhCUiGMmGSj/ByDFUVaIXdwzvixpnjuK356anU4WpRfOpX/ALM8fNGD/Ucq4yAVBIGr52jxRsa9oI5Ng3+Gedh7VPIwiqUx3zDJyuwH9NA6H0boce08hyQuP+8FRe6LqDZfb/4Vd/i6xm3iG3+3yOxrqT/UR6yO5jm2rh+o1f8Ap5NV6npxfz7eLC/i3Liv+e8n7V6bHxp+9VfJ/wDj5/1dKf4Lffasb6dxh/X0/wB3l7SY1WzbvI7mqoKavbORPt7uxh1VZCYbRSN+XPnvNtRmRFFVSMxFETuq9KPpaSqrZkp6OneqqJSAscal3Yk4AVFBZiT0wATpudVW0lDE9RW1KUkEfUvK6xoAOpyzkLgDqTnAHfUNfLn1s+N2jodpjmkpEfkDssAfjRnKCS4zrKmmIiAEm2zEQ8chZAjQ0Zp0kg+jRNFOiEvuDY7h54Y72uyWGruWJrR2Q9W89c1ci+ojp85TmGcNNy+8KwB1XPiF4nLJtSKektyVbs3lQygQtikjfHQyT4+2YODywhgR0LrpVfdG9eQvNvcMXIM6sb7Y+f5LOaosOw/Hq6VIiVoTpKJAxXBsUrhc+qx1dUERtoHJEhxFelOyJBOPFfe2bVs7hXbctLtkUWz7VRoZaqpmdQ8pVcvNUzuV526dMkBRhVAA1QS57tvLitciVG5TS7tuda6xU9NEhKR8zHkhp4UB5Fy3YZJOSxJOm0/SK9JBjixGgcgd/V9bZcg7Wu7Y5jSkxY1+oKuyjkEptqU2RNTs6kRHTalSmlJqGy65CiuOI5IfeoTx549TcQZpLZtd3prQpXy8hyj7g6N7LsMArTowzHEernEjj5Ki93AXgRFYkaXNcsST3bOoCRfKWhjdfaUHJBqWUkM4GEU8inJY6n8RET4InZOq0atGBjprXo0aOjRo6NGukyPGsezCjtcZyqkqsjx28gyay5o7uBFtKi1rpjZMyoNjXTWjamxHGiUTbcAgJF7Kip1201RU0VRDV0VQ9JVU7BkkjYo6MvyWV1IZWX0III9CNeerpKaup5qSsp0qqWoUo8ciq6OrDBVkYFWBHcMCD7tLV81vo9OIZlNts94b5RB15cySkTZOos0fnyMHkyD7vE1iWTMtyJmLoRISBFltTo3m4gNyILAoCW94b+K/dtnjg2q/6N98o15EFdAFFWqgYzPESsU5Axl0ML4HteY3U0+4j+FHbN0eo3KwatdoqpCXNDOWNKSfwYZVDSQjOcI4lTJ6FBgBbnenCPlvxfs3x29o/YeIRK9/u1l0OqkXmGuONmJNvQs4xxZNaTiqoEI/WheHyTzbAu6JcK2eKPDu9oFGzXJR1bzDDUszCKfHXKvT1Cxuw75ARl+kg6p7c/DC/wCyKgtvFvVdItO2RURo0kPTGGWogaSMZ/BPOrdOwIOHReFVxa33o54db3tpY3VtM4zbaWZZ206TY2Eo2mM+jNLJmTHTceIGWmmx8iXxBoRTsiInS4uJNPS0/HTdaeihSCnj3mkCpEqqi5anJCqgCgZPoO50xvhxU1VZwG2yprZXnq59nq+dpGZ5C3LUL7TMSxPQDr9A0hXiOX5RgOT02Z4VfWeMZXjlgzaUGQU0pyDa1FlHJSjzoEtpUKNJAl7iYqhCvxRUXpqW5bbt+80FXte50sdft9ahSaKQBo3Q91dfUdOx6ZHX3aVltu5bhsu5U267bPJR11G/PDLGSjo4yAysOoIz0I669ByTYnIDkJexIWV5ptzdORSn0Svr7m+y7P7V18uwAFfXyZMpxT+IiItB8O6CKJ8E6gaLZLJsunaoodv2626dRlpAlPTAgDuZMISB9LED6NTW4b3el41EcVfX7jcNRKcKjyVFSSxI6Ih5gOvoo1JHxf8ARD5s8hJFbaZdiI8fsBlK07JyXarEmFkhxSUVdWp10yiWj81G1QgCwGrYc7on1pPj21Be/ib4dWtFPDtNU12bsuVWOi6wBsYBerdRFy98mITEYxykEHW3bK8NHEW6XgqNzpP5L7Y2CZKwYm5SckJTKxlLeoDiJTnJdSMFsTg76YXGvg3Xt2mE0jmZ7WlQ1jXW3MzjxZeUui+2gzYWOxwH6viFM4amisQxR51tACbLmK2BpRfiPxivHibUMN3qhRbMjExUFPzLAvX2WkyeaZxge1J0BGUVB01ezhtwas/htAku2Unw3enULLXVAVp26e0I8DlhU9fZTqR0Zm76kbRET5IifoTt1qvA6nHU621rXo0aOjRo6NGjo0aOjRo6NGtp1hl4TB1oHAcFRMDFCExJOxCSL8xVPmnXHlHfsfeCQe+e/wD99x6a4siurK6h1buD1B+jB9Po7a6ZzF8bdoJuKHRVS4zYwrCunUAwY4VEqBag+3Zw34ANo0caQEqSjwKPi575+SL5L371nnSdKpZ3FTGwdZOY86uuCrB88wZcDlOcjAx210mkpWpXojTp8DdShi5QIyjZDKVAxg5ORjrk576xQienVwNgvI/H4fcdFcQkJPrGpsNmAip8l9mZUuB/9e3w6ziXinxKnTy5b83Zk7dK+oHpjusgOsGj4UcM4mDJYm1Bh76KA/oKEayPwvVOsNcRih6913g+CQzEAKLh2K0eMxiBtFRsSYpYLAqKIq9k7fb1iG4bpum7OZN03Oo3GQ/hTzyzN+MGRmIP0jWW7fsmzbShj2raqfbUOMinhjhBx2B8tVyPx5196IoKdkTsnZE/sT4J14dSmtejRo6NGjo0aOjRr//Z\"/>\n",
      "   </a>\n",
      "  </div>\n",
      " </div>\n",
      " <div class=\"info-append clearfix\">\n",
      "  <div class=\"tags\">\n",
      "   <span class=\"tag-item\">\n",
      "    用户增长\n",
      "   </span>\n",
      "   <span class=\"tag-item\">\n",
      "    活动运营\n",
      "   </span>\n",
      "   <span class=\"tag-item\">\n",
      "    用户生命周期\n",
      "   </span>\n",
      "   <span class=\"tag-item\">\n",
      "    促活\n",
      "   </span>\n",
      "   <span class=\"tag-item\">\n",
      "    精细化运营\n",
      "   </span>\n",
      "  </div>\n",
      "  <div class=\"info-desc\">\n",
      "   定期体检，节日福利，餐补，五险一金，年终奖，通讯补贴，员工旅游，住房补贴，带薪年假，加班补助，补充医疗保险，交通补助\n",
      "  </div>\n",
      " </div>\n",
      "</div>\n",
      "<div class=\"job-primary\">\n",
      " <div class=\"info-primary\">\n",
      "  <div class=\"primary-wrapper\">\n",
      "   <div class=\"primary-box\" data-index=\"1\" data-itemid=\"32\" data-jid=\"472d38bc239b95d533By39-1EFY~\" data-jobid=\"84842804\" data-lid=\"nlp-7pjAjobJYgm.search.32\" href=\"/job_detail/472d38bc239b95d533By39-1EFY~.html\" ka=\"search_list_32\" target=\"_blank\">\n",
      "    <div class=\"job-title\">\n",
      "     <span class=\"job-name\">\n",
      "      <a data-index=\"1\" data-itemid=\"32\" data-jid=\"472d38bc239b95d533By39-1EFY~\" data-jobid=\"84842804\" data-lid=\"nlp-7pjAjobJYgm.search.32\" href=\"https://www.zhipin.com/job_detail/472d38bc239b95d533By39-1EFY~.html\" ka=\"search_list_jname_32\" target=\"_blank\" title=\"用户运营\">\n",
      "       用户运营\n",
      "      </a>\n",
      "     </span>\n",
      "     <span class=\"job-area-wrapper\">\n",
      "      <span class=\"job-area\">\n",
      "       杭州·滨江区·长河\n",
      "      </span>\n",
      "     </span>\n",
      "     <span class=\"job-pub-time\">\n",
      "      发布于07月31日\n",
      "     </span>\n",
      "    </div>\n",
      "    <div class=\"job-limit clearfix\">\n",
      "     <span class=\"red\">\n",
      "      9-14K\n",
      "     </span>\n",
      "     <p>\n",
      "      3-5年\n",
      "      <em class=\"vline\">\n",
      "      </em>\n",
      "      大专\n",
      "     </p>\n",
      "     <div class=\"info-publis\">\n",
      "      <h3 class=\"name\">\n",
      "       <img class=\"icon-chat\" src=\"data:image/png;base64,iVBORw0KGgoAAAANSUhEUgAAABoAAAAaCAYAAACpSkzOAAAC/0lEQVRIia2WvW4aQRCAt3DpIu8QyU26NGlygM8G7oxtOFvITYrkDdKgSKnyCuF1AN3+sH/HRbhFqdPQ0jMpdvduOZbYRU769I1mdmYOYXlB6IXno9YXkaCTSOJZxMmmzfGuzfEu4mQTSTyLBJ1caX3x0pyTT1zK9y1B5y2eQ4vjIJGtRTyHSOTzqJTvX73gB8DZJcfTliR7s+Q0bY4rtzmGliT7mOPpD8jP/rnk83r9pi3ooiMwdIRpdm5zDG3hWWBo87y2jyCL0Tp/E1ySQ34WC7ro8Bw6HBuEZ4Ghw/Pafmzrl55jQRc5wPEniyWeXnJz6JJbhOcQL5yPOZ4effGxovtYYPivKLqP/T+QrqDzK4GhSew5buSuBIYrSWr7sXemK+gcIYRQpvXFtSTwKgSubQdde0Ov7ZJmX6b1BUrEctKVBLp2QNcb1MQ/E6LZ7+JktZygvmSzniTQs4d7XqOfMzGubCCeQ+eN+5LNUKrZpicx9CSGviSV/djVe1VMGvGpuiHRbIP6kuzc4IoV/T7ebs/7K/rdzyeqrqW2lqjjnkTVeesdSiTZuUJiC+Pt9hwhhMbb7bnLufpRTf47b9mhVJLfqaKQKgqJJJAqCqn31okkkDoUOailyuaO8mae46ZgG3RbsPmNImCgnimkNnbD/Fy4XvtGmZe7UQQGks3QQLNvA0VhYJcMqmXkIGcgnkkjF0Ab3/5aTtDdc/HONd7axltFDdpzgIGqHXoRN+/JXYzDFZvd2aHOYYhnYs8ah/pNzGbV/7rHUn640xTubcN9I747hfIcYrXcP5Xl4a07VOznvaZwr+pFRyjPqpHTFIaaVR5qBqOSH14T5uKDs2FByahgMNQ0jKsV7DCuzrDKmebhiw8hhLKCfxlpBqPComntIMxzHT9ouvi6Xoevcrco0xQyzSCzjZmuF2V2aVawMKvl/qHk05OfxD0Pa/n5oWDwWjJNK2cFm39qfvGnnqeyfDsu+Z9Tgx+txyXbPRZs87his/Gv5eTp+eUfkH8B95QiEYjrEUMAAAAASUVORK5CYII=\"/>\n",
      "       杨琪\n",
      "       <em class=\"vline\">\n",
      "       </em>\n",
      "       人事\n",
      "      </h3>\n",
      "     </div>\n",
      "     <button class=\"btn btn-startchat sf-hidden\" data-url=\"/wapi/zpgeek/friend/add.json?jobId=472d38bc239b95d533By39-1EFY~&amp;lid=nlp-7pjAjobJYgm.search.32\" href=\"javascript:;\" redirect-url=\"/web/geek/chat?id=c8ecbcd245e0c1fd0XF50tW8ElA~\">\n",
      "      <img alt=\"\" class=\"icon-chat icon-chat-hover\" data-single-file-origin-u-r-l=\"https://z.zhipin.com/web/geek/resource/icon-chat-hover-v2.png\" src=\"data:image/gif;base64,R0lGODlhAQABAAAAACH5BAEKAAEALAAAAAABAAEAAAICTAEAOw==\"/>\n",
      "      <span>\n",
      "       立即沟通\n",
      "      </span>\n",
      "     </button>\n",
      "    </div>\n",
      "    <div class=\"info-detail sf-hidden\">\n",
      "    </div>\n",
      "   </div>\n",
      "  </div>\n",
      "  <div class=\"info-company\">\n",
      "   <div class=\"company-text\">\n",
      "    <h3 class=\"name\">\n",
      "     <a href=\"https://www.zhipin.com/gongsi/6a2441b122fa31b90nN9296_GA~~.html\" ka=\"search_list_company_32_custompage\" target=\"_blank\" title=\"仁享集市招聘\">\n",
      "      仁享集市\n",
      "     </a>\n",
      "    </h3>\n",
      "    <p>\n",
      "     <a class=\"false-link\" href=\"https://www.zhipin.com/i100017/\" ka=\"search_list_company_industry_32_custompage\" target=\"_blank\" title=\"新零售行业招聘信息\">\n",
      "      新零售\n",
      "     </a>\n",
      "     <em class=\"vline\">\n",
      "     </em>\n",
      "     天使轮\n",
      "     <em class=\"vline\">\n",
      "     </em>\n",
      "     20-99人\n",
      "    </p>\n",
      "   </div>\n",
      "   <a href=\"https://www.zhipin.com/gongsi/6a2441b122fa31b90nN9296_GA~~.html\" ka=\"search_list_company_32_custompage_logo\" target=\"_blank\">\n",
      "    <img alt=\"\" class=\"company-logo\" src=\"data:image/jpeg;base64,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\"/>\n",
      "   </a>\n",
      "  </div>\n",
      " </div>\n",
      " <div class=\"info-append clearfix\">\n",
      "  <div class=\"tags\">\n",
      "   <span class=\"tag-item\">\n",
      "    用户增长\n",
      "   </span>\n",
      "   <span class=\"tag-item\">\n",
      "    拉新\n",
      "   </span>\n",
      "   <span class=\"tag-item\">\n",
      "    获客\n",
      "   </span>\n",
      "   <span class=\"tag-item\">\n",
      "    提高用户活跃度\n",
      "   </span>\n",
      "   <span class=\"tag-item\">\n",
      "    留存率\n",
      "   </span>\n",
      "  </div>\n",
      "  <div class=\"info-desc\">\n",
      "   五险一金，带薪年假，员工旅游，餐补，节日福利\n",
      "  </div>\n",
      " </div>\n",
      "</div>\n",
      "<div class=\"job-primary\">\n",
      " <div class=\"info-primary\">\n",
      "  <div class=\"primary-wrapper\">\n",
      "   <div class=\"primary-box\" data-index=\"2\" data-itemid=\"33\" data-jid=\"4d4748fa3f3d7d7d3nV_3dy1GVI~\" data-jobid=\"91561890\" data-lid=\"nlp-7pjAjobJYgm.search.33\" href=\"/job_detail/4d4748fa3f3d7d7d3nV_3dy1GVI~.html\" ka=\"search_list_33\" target=\"_blank\">\n",
      "    <div class=\"job-title\">\n",
      "     <span class=\"job-name\">\n",
      "      <a data-index=\"2\" data-itemid=\"33\" data-jid=\"4d4748fa3f3d7d7d3nV_3dy1GVI~\" data-jobid=\"91561890\" data-lid=\"nlp-7pjAjobJYgm.search.33\" href=\"https://www.zhipin.com/job_detail/4d4748fa3f3d7d7d3nV_3dy1GVI~.html\" ka=\"search_list_jname_33\" target=\"_blank\" title=\"资深用户运营（金融方向）\">\n",
      "       资深用户运营（金融方向）\n",
      "      </a>\n",
      "     </span>\n",
      "     <span class=\"job-area-wrapper\">\n",
      "      <span class=\"job-area\">\n",
      "       杭州·西湖区·黄龙\n",
      "      </span>\n",
      "     </span>\n",
      "     <span class=\"job-pub-time\">\n",
      "      发布于昨天\n",
      "     </span>\n",
      "    </div>\n",
      "    <div class=\"job-limit clearfix\">\n",
      "     <span class=\"red\">\n",
      "      15-20K\n",
      "     </span>\n",
      "     <p>\n",
      "      3-5年\n",
      "      <em class=\"vline\">\n",
      "      </em>\n",
      "      本科\n",
      "     </p>\n",
      "     <div class=\"info-publis\">\n",
      "      <h3 class=\"name\">\n",
      "       <img class=\"icon-chat\" src=\"data:image/png;base64,iVBORw0KGgoAAAANSUhEUgAAABoAAAAaCAYAAACpSkzOAAAC/0lEQVRIia2WvW4aQRCAt3DpIu8QyU26NGlygM8G7oxtOFvITYrkDdKgSKnyCuF1AN3+sH/HRbhFqdPQ0jMpdvduOZbYRU769I1mdmYOYXlB6IXno9YXkaCTSOJZxMmmzfGuzfEu4mQTSTyLBJ1caX3x0pyTT1zK9y1B5y2eQ4vjIJGtRTyHSOTzqJTvX73gB8DZJcfTliR7s+Q0bY4rtzmGliT7mOPpD8jP/rnk83r9pi3ooiMwdIRpdm5zDG3hWWBo87y2jyCL0Tp/E1ySQ34WC7ro8Bw6HBuEZ4Ghw/Pafmzrl55jQRc5wPEniyWeXnJz6JJbhOcQL5yPOZ4effGxovtYYPivKLqP/T+QrqDzK4GhSew5buSuBIYrSWr7sXemK+gcIYRQpvXFtSTwKgSubQdde0Ov7ZJmX6b1BUrEctKVBLp2QNcb1MQ/E6LZ7+JktZygvmSzniTQs4d7XqOfMzGubCCeQ+eN+5LNUKrZpicx9CSGviSV/djVe1VMGvGpuiHRbIP6kuzc4IoV/T7ebs/7K/rdzyeqrqW2lqjjnkTVeesdSiTZuUJiC+Pt9hwhhMbb7bnLufpRTf47b9mhVJLfqaKQKgqJJJAqCqn31okkkDoUOailyuaO8mae46ZgG3RbsPmNImCgnimkNnbD/Fy4XvtGmZe7UQQGks3QQLNvA0VhYJcMqmXkIGcgnkkjF0Ab3/5aTtDdc/HONd7axltFDdpzgIGqHXoRN+/JXYzDFZvd2aHOYYhnYs8ah/pNzGbV/7rHUn640xTubcN9I747hfIcYrXcP5Xl4a07VOznvaZwr+pFRyjPqpHTFIaaVR5qBqOSH14T5uKDs2FByahgMNQ0jKsV7DCuzrDKmebhiw8hhLKCfxlpBqPComntIMxzHT9ouvi6Xoevcrco0xQyzSCzjZmuF2V2aVawMKvl/qHk05OfxD0Pa/n5oWDwWjJNK2cFm39qfvGnnqeyfDsu+Z9Tgx+txyXbPRZs87his/Gv5eTp+eUfkH8B95QiEYjrEUMAAAAASUVORK5CYII=\"/>\n",
      "       史先生\n",
      "       <em class=\"vline\">\n",
      "       </em>\n",
      "       人事\n",
      "      </h3>\n",
      "     </div>\n",
      "     <button class=\"btn btn-startchat sf-hidden\" data-url=\"/wapi/zpgeek/friend/add.json?jobId=4d4748fa3f3d7d7d3nV_3dy1GVI~&amp;lid=nlp-7pjAjobJYgm.search.33\" href=\"javascript:;\" redirect-url=\"/web/geek/chat?id=069e3317694e47a303Z52tW9FlE~\">\n",
      "      <img alt=\"\" class=\"icon-chat icon-chat-hover\" data-single-file-origin-u-r-l=\"https://z.zhipin.com/web/geek/resource/icon-chat-hover-v2.png\" src=\"data:image/gif;base64,R0lGODlhAQABAAAAACH5BAEKAAEALAAAAAABAAEAAAICTAEAOw==\"/>\n",
      "      <span>\n",
      "       立即沟通\n",
      "      </span>\n",
      "     </button>\n",
      "    </div>\n",
      "    <div class=\"info-detail sf-hidden\">\n",
      "    </div>\n",
      "   </div>\n",
      "  </div>\n",
      "  <div class=\"info-company\">\n",
      "   <div class=\"company-text\">\n",
      "    <h3 class=\"name\">\n",
      "     <a href=\"https://www.zhipin.com/gongsi/920a1ef349a5ec5503x439m4Eg~~.html\" ka=\"search_list_company_33_custompage\" target=\"_blank\" title=\"新超越招聘\">\n",
      "      新超越\n",
      "     </a>\n",
      "    </h3>\n",
      "    <p>\n",
      "     <a class=\"false-link\" href=\"https://www.zhipin.com/i100021/\" ka=\"search_list_company_industry_33_custompage\" target=\"_blank\" title=\"计算机软件行业招聘信息\">\n",
      "      计算机软件\n",
      "     </a>\n",
      "     <em class=\"vline\">\n",
      "     </em>\n",
      "     20-99人\n",
      "    </p>\n",
      "   </div>\n",
      "   <a href=\"https://www.zhipin.com/gongsi/920a1ef349a5ec5503x439m4Eg~~.html\" ka=\"search_list_company_33_custompage_logo\" target=\"_blank\">\n",
      "    <img alt=\"\" class=\"company-logo\" src=\"data:image/png;base64,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\"/>\n",
      "   </a>\n",
      "  </div>\n",
      " </div>\n",
      " <div class=\"info-append clearfix\">\n",
      "  <div class=\"tags\">\n",
      "   <span class=\"tag-item\">\n",
      "    生命周期管理\n",
      "   </span>\n",
      "   <span class=\"tag-item\">\n",
      "    用户行为分析\n",
      "   </span>\n",
      "   <span class=\"tag-item\">\n",
      "    促活\n",
      "   </span>\n",
      "   <span class=\"tag-item\">\n",
      "    用户增长\n",
      "   </span>\n",
      "   <span class=\"tag-item\">\n",
      "    拉新\n",
      "   </span>\n",
      "  </div>\n",
      "  <div class=\"info-desc\">\n",
      "  </div>\n",
      " </div>\n",
      "</div>\n",
      "<div class=\"job-primary\">\n",
      " <div class=\"info-primary\">\n",
      "  <div class=\"primary-wrapper\">\n",
      "   <div class=\"primary-box\" data-index=\"3\" data-itemid=\"34\" data-jid=\"8ec937ac6312275833153tu9GVE~\" data-jobid=\"89356093\" data-lid=\"nlp-7pjAjobJYgm.search.34\" href=\"/job_detail/8ec937ac6312275833153tu9GVE~.html\" ka=\"search_list_34\" target=\"_blank\">\n",
      "    <div class=\"job-title\">\n",
      "     <span class=\"job-name\">\n",
      "      <a data-index=\"3\" data-itemid=\"34\" data-jid=\"8ec937ac6312275833153tu9GVE~\" data-jobid=\"89356093\" data-lid=\"nlp-7pjAjobJYgm.search.34\" href=\"https://www.zhipin.com/job_detail/8ec937ac6312275833153tu9GVE~.html\" ka=\"search_list_jname_34\" target=\"_blank\" title=\"用户运营\">\n",
      "       用户运营\n",
      "      </a>\n",
      "     </span>\n",
      "     <span class=\"job-area-wrapper\">\n",
      "      <span class=\"job-area\">\n",
      "       杭州·余杭区·仓前\n",
      "      </span>\n",
      "     </span>\n",
      "     <span class=\"job-pub-time\">\n",
      "      发布于07月23日\n",
      "     </span>\n",
      "    </div>\n",
      "    <div class=\"job-limit clearfix\">\n",
      "     <span class=\"red\">\n",
      "      5-10K·13薪\n",
      "     </span>\n",
      "     <p>\n",
      "      1-3年\n",
      "      <em class=\"vline\">\n",
      "      </em>\n",
      "      本科\n",
      "     </p>\n",
      "     <div class=\"info-publis\">\n",
      "      <h3 class=\"name\">\n",
      "       <img class=\"icon-chat\" src=\"data:image/png;base64,iVBORw0KGgoAAAANSUhEUgAAABoAAAAaCAYAAACpSkzOAAAC/0lEQVRIia2WvW4aQRCAt3DpIu8QyU26NGlygM8G7oxtOFvITYrkDdKgSKnyCuF1AN3+sH/HRbhFqdPQ0jMpdvduOZbYRU769I1mdmYOYXlB6IXno9YXkaCTSOJZxMmmzfGuzfEu4mQTSTyLBJ1caX3x0pyTT1zK9y1B5y2eQ4vjIJGtRTyHSOTzqJTvX73gB8DZJcfTliR7s+Q0bY4rtzmGliT7mOPpD8jP/rnk83r9pi3ooiMwdIRpdm5zDG3hWWBo87y2jyCL0Tp/E1ySQ34WC7ro8Bw6HBuEZ4Ghw/Pafmzrl55jQRc5wPEniyWeXnJz6JJbhOcQL5yPOZ4effGxovtYYPivKLqP/T+QrqDzK4GhSew5buSuBIYrSWr7sXemK+gcIYRQpvXFtSTwKgSubQdde0Ov7ZJmX6b1BUrEctKVBLp2QNcb1MQ/E6LZ7+JktZygvmSzniTQs4d7XqOfMzGubCCeQ+eN+5LNUKrZpicx9CSGviSV/djVe1VMGvGpuiHRbIP6kuzc4IoV/T7ebs/7K/rdzyeqrqW2lqjjnkTVeesdSiTZuUJiC+Pt9hwhhMbb7bnLufpRTf47b9mhVJLfqaKQKgqJJJAqCqn31okkkDoUOailyuaO8mae46ZgG3RbsPmNImCgnimkNnbD/Fy4XvtGmZe7UQQGks3QQLNvA0VhYJcMqmXkIGcgnkkjF0Ab3/5aTtDdc/HONd7axltFDdpzgIGqHXoRN+/JXYzDFZvd2aHOYYhnYs8ah/pNzGbV/7rHUn640xTubcN9I747hfIcYrXcP5Xl4a07VOznvaZwr+pFRyjPqpHTFIaaVR5qBqOSH14T5uKDs2FByahgMNQ0jKsV7DCuzrDKmebhiw8hhLKCfxlpBqPComntIMxzHT9ouvi6Xoevcrco0xQyzSCzjZmuF2V2aVawMKvl/qHk05OfxD0Pa/n5oWDwWjJNK2cFm39qfvGnnqeyfDsu+Z9Tgx+txyXbPRZs87his/Gv5eTp+eUfkH8B95QiEYjrEUMAAAAASUVORK5CYII=\"/>\n",
      "       潘虹\n",
      "       <em class=\"vline\">\n",
      "       </em>\n",
      "       人力资源经理\n",
      "      </h3>\n",
      "     </div>\n",
      "     <button class=\"btn btn-startchat sf-hidden\" data-url=\"/wapi/zpgeek/friend/add.json?jobId=8ec937ac6312275833153tu9GVE~&amp;lid=nlp-7pjAjobJYgm.search.34\" href=\"javascript:;\" redirect-url=\"/web/geek/chat?id=5044a5dbaf44c2a01HR53di9Eg~~\">\n",
      "      <img alt=\"\" class=\"icon-chat icon-chat-hover\" data-single-file-origin-u-r-l=\"https://z.zhipin.com/web/geek/resource/icon-chat-hover-v2.png\" src=\"data:image/gif;base64,R0lGODlhAQABAAAAACH5BAEKAAEALAAAAAABAAEAAAICTAEAOw==\"/>\n",
      "      <span>\n",
      "       立即沟通\n",
      "      </span>\n",
      "     </button>\n",
      "    </div>\n",
      "    <div class=\"info-detail sf-hidden\">\n",
      "    </div>\n",
      "   </div>\n",
      "  </div>\n",
      "  <div class=\"info-company\">\n",
      "   <div class=\"company-text\">\n",
      "    <h3 class=\"name\">\n",
      "     <a href=\"https://www.zhipin.com/gongsi/83ae8fab07d459ed3nF_0t--Fg~~.html\" ka=\"search_list_company_34_custompage\" target=\"_blank\" title=\"一早科技招聘\">\n",
      "      一早科技\n",
      "     </a>\n",
      "    </h3>\n",
      "    <p>\n",
      "     <a class=\"false-link\" href=\"https://www.zhipin.com/i100012/\" ka=\"search_list_company_industry_34_custompage\" target=\"_blank\" title=\"在线教育行业招聘信息\">\n",
      "      在线教育\n",
      "     </a>\n",
      "     <em class=\"vline\">\n",
      "     </em>\n",
      "     不需要融资\n",
      "     <em class=\"vline\">\n",
      "     </em>\n",
      "     100-499人\n",
      "    </p>\n",
      "   </div>\n",
      "   <a href=\"https://www.zhipin.com/gongsi/83ae8fab07d459ed3nF_0t--Fg~~.html\" ka=\"search_list_company_34_custompage_logo\" target=\"_blank\">\n",
      "    <img alt=\"\" class=\"company-logo\" src=\"data:image/png;base64,iVBORw0KGgoAAAANSUhEUgAAAGQAAABkCAYAAABw4pVUAAADzklEQVR4Ae3BTW+UZRSA4fuceTrTmX5TiitKK5aPEBcUagQDLIBEjFRDKYWiqMSIMcEF4kKMK135F9zoQmPCQhNWJiYu/AMmro2JGqOxQKGU2mnf93G6qAsS+vnO9HTmXJfEChxWKA5LFIclisMSxWGJ4rBEcViiOCxRHJYoDksUhyWKwxLFYYnisERxWKI4LFEcligOSxSHJYrDEsVhieKwRHFYojgsCdSBOFfm/icfwfw8m1HL5bcJOwdYEKgHScLs998Ry7NsRsWXR2HnAAsUhyWKwxLFYYnisCTQQEoXLqEdndRMmjL95efE6QesVKBhCMWR84Qd/dTM/Dwz394kmX7ASimOqhFWTXFYojgsURyWBBpG5OEXnyFtHdSCdnRSeuUNVivQQGZufUOtlMZfQ1RZLcWRNSkUKJ0ZA2HVFEfW8oeOkOvtYy0UR6ZEKZ27CCKsheLIUtOeveT3H2StwuS1dzBBoDg8QuHYcaql5fIVtKubamra9zSEwFqF2R9/wArt2Ubh2HGqQ2h+4SXCjn4sUyyJNDzFYYnisCTQSNIUkoRaiUlCZHUCDSMyefVNCIGaiZDenuCxQqA4PELT3n0sCjSQ5O+/sCLs2kPbezfI7z8IIiwKTYNDWCAi5A88Q72TlhZaXn+L0oVLSKGZR0lM04gVIqxF/HeGf44fIpZnMUuEwuEjtF37gFxvH48TEMFRVdqzjbZ336f55CnI5VhKoB6Ikuvrh3KZ9YppQvL7bxAjS5H2dnJbtrKcpsEhWq9cRbd0sxISK6gHSUIW0sm7TAyfIJZnWUrx7Djt12+wLFUQYaUC9SKXIxOqrIgI5HJkTXFYojgsURyWBOpAenuC5M8/yEKcmoKYspz0zgRzP/9ElnLbe5FYwSb38OZXTH36MZuZ5PN0f30LpR4IFcJmlj98lNz2XhTHhhOlNDrOAsWx0cJTu8gPDrFAcWy00sgYhMCCQB3Qji7CwG4gsm5Jwvyvv0CMLEU7O9GeJ1gvKZYonDzFIokVbHYxQoxkIb17h4nhE8TyLEspjo7Tfv1DMqHKokA9EAERMqHKygiokjXFYYnisERxWKI41kSoioBjNbSzi+ZTpymdf5VqCDiWJULoe5LimTGan38R7eyiWgKOxwpN5A8MUTp3kfyzzyH5AtUWcDxKWltpPnqa0tlxwsBuUKVWJFbg+N/8HOm9e2j3VjaCxAocVigOSxSHJYrDEsVhieKwRHFYojgsURyWKA5LFIclisMSxWGJ4rBEcViiOCxRHJYoDksUhyWKwxLFYYnisERxWPIfWtfEAmEEYzkAAAAASUVORK5CYII=\"/>\n",
      "   </a>\n",
      "  </div>\n",
      " </div>\n",
      " <div class=\"info-append clearfix\">\n",
      "  <div class=\"tags\">\n",
      "   <span class=\"tag-item\">\n",
      "    用户增长\n",
      "   </span>\n",
      "   <span class=\"tag-item\">\n",
      "    社群搭建\n",
      "   </span>\n",
      "   <span class=\"tag-item\">\n",
      "    激励体系\n",
      "   </span>\n",
      "   <span class=\"tag-item\">\n",
      "    用户画像\n",
      "   </span>\n",
      "   <span class=\"tag-item\">\n",
      "    客户运营\n",
      "   </span>\n",
      "  </div>\n",
      "  <div class=\"info-desc\">\n",
      "   五险一金，带薪年假，节日福利，加班补助，员工旅游，年终奖，餐补，交通补助\n",
      "  </div>\n",
      " </div>\n",
      "</div>\n",
      "<div class=\"job-primary\">\n",
      " <div class=\"info-primary\">\n",
      "  <div class=\"primary-wrapper\">\n",
      "   <div class=\"primary-box\" data-index=\"4\" data-itemid=\"35\" data-jid=\"f26ccb5273e51df0331z3N68FVE~\" data-jobid=\"89973153\" data-lid=\"nlp-7pjAjobJYgm.search.35\" href=\"/job_detail/f26ccb5273e51df0331z3N68FVE~.html\" ka=\"search_list_35\" target=\"_blank\">\n",
      "    <div class=\"job-title\">\n",
      "     <span class=\"job-name\">\n",
      "      <a data-index=\"4\" data-itemid=\"35\" data-jid=\"f26ccb5273e51df0331z3N68FVE~\" data-jobid=\"89973153\" data-lid=\"nlp-7pjAjobJYgm.search.35\" href=\"https://www.zhipin.com/job_detail/f26ccb5273e51df0331z3N68FVE~.html\" ka=\"search_list_jname_35\" target=\"_blank\" title=\"用户运营\">\n",
      "       用户运营\n",
      "      </a>\n",
      "     </span>\n",
      "     <span class=\"job-area-wrapper\">\n",
      "      <span class=\"job-area\">\n",
      "       杭州·余杭区·仓前\n",
      "      </span>\n",
      "     </span>\n",
      "     <span class=\"job-pub-time\">\n",
      "      发布于07月27日\n",
      "     </span>\n",
      "    </div>\n",
      "    <div class=\"job-limit clearfix\">\n",
      "     <span class=\"red\">\n",
      "      10-15K\n",
      "     </span>\n",
      "     <p>\n",
      "      3-5年\n",
      "      <em class=\"vline\">\n",
      "      </em>\n",
      "      本科\n",
      "     </p>\n",
      "     <div class=\"info-publis\">\n",
      "      <h3 class=\"name\">\n",
      "       <img class=\"icon-chat\" src=\"data:image/png;base64,iVBORw0KGgoAAAANSUhEUgAAABoAAAAaCAYAAACpSkzOAAAC/0lEQVRIia2WvW4aQRCAt3DpIu8QyU26NGlygM8G7oxtOFvITYrkDdKgSKnyCuF1AN3+sH/HRbhFqdPQ0jMpdvduOZbYRU769I1mdmYOYXlB6IXno9YXkaCTSOJZxMmmzfGuzfEu4mQTSTyLBJ1caX3x0pyTT1zK9y1B5y2eQ4vjIJGtRTyHSOTzqJTvX73gB8DZJcfTliR7s+Q0bY4rtzmGliT7mOPpD8jP/rnk83r9pi3ooiMwdIRpdm5zDG3hWWBo87y2jyCL0Tp/E1ySQ34WC7ro8Bw6HBuEZ4Ghw/Pafmzrl55jQRc5wPEniyWeXnJz6JJbhOcQL5yPOZ4effGxovtYYPivKLqP/T+QrqDzK4GhSew5buSuBIYrSWr7sXemK+gcIYRQpvXFtSTwKgSubQdde0Ov7ZJmX6b1BUrEctKVBLp2QNcb1MQ/E6LZ7+JktZygvmSzniTQs4d7XqOfMzGubCCeQ+eN+5LNUKrZpicx9CSGviSV/djVe1VMGvGpuiHRbIP6kuzc4IoV/T7ebs/7K/rdzyeqrqW2lqjjnkTVeesdSiTZuUJiC+Pt9hwhhMbb7bnLufpRTf47b9mhVJLfqaKQKgqJJJAqCqn31okkkDoUOailyuaO8mae46ZgG3RbsPmNImCgnimkNnbD/Fy4XvtGmZe7UQQGks3QQLNvA0VhYJcMqmXkIGcgnkkjF0Ab3/5aTtDdc/HONd7axltFDdpzgIGqHXoRN+/JXYzDFZvd2aHOYYhnYs8ah/pNzGbV/7rHUn640xTubcN9I747hfIcYrXcP5Xl4a07VOznvaZwr+pFRyjPqpHTFIaaVR5qBqOSH14T5uKDs2FByahgMNQ0jKsV7DCuzrDKmebhiw8hhLKCfxlpBqPComntIMxzHT9ouvi6Xoevcrco0xQyzSCzjZmuF2V2aVawMKvl/qHk05OfxD0Pa/n5oWDwWjJNK2cFm39qfvGnnqeyfDsu+Z9Tgx+txyXbPRZs87his/Gv5eTp+eUfkH8B95QiEYjrEUMAAAAASUVORK5CYII=\"/>\n",
      "       陈晓君\n",
      "       <em class=\"vline\">\n",
      "       </em>\n",
      "       HRM\n",
      "      </h3>\n",
      "     </div>\n",
      "     <button class=\"btn btn-startchat sf-hidden\" data-url=\"/wapi/zpgeek/friend/add.json?jobId=f26ccb5273e51df0331z3N68FVE~&amp;lid=nlp-7pjAjobJYgm.search.35\" href=\"javascript:;\" redirect-url=\"/web/geek/chat?id=fd1181fa3fdc7d6e1XR82tm-GFs~\">\n",
      "      <img alt=\"\" class=\"icon-chat icon-chat-hover\" data-single-file-origin-u-r-l=\"https://z.zhipin.com/web/geek/resource/icon-chat-hover-v2.png\" src=\"data:image/gif;base64,R0lGODlhAQABAAAAACH5BAEKAAEALAAAAAABAAEAAAICTAEAOw==\"/>\n",
      "      <span>\n",
      "       立即沟通\n",
      "      </span>\n",
      "     </button>\n",
      "    </div>\n",
      "    <div class=\"info-detail sf-hidden\">\n",
      "    </div>\n",
      "   </div>\n",
      "  </div>\n",
      "  <div class=\"info-company\">\n",
      "   <div class=\"company-text\">\n",
      "    <h3 class=\"name\">\n",
      "     <a href=\"https://www.zhipin.com/gongsi/25d5a5b20cb407ce3nB729q-Ew~~.html\" ka=\"search_list_company_35_custompage\" target=\"_blank\" title=\"杭泰科技招聘\">\n",
      "      杭泰科技\n",
      "     </a>\n",
      "    </h3>\n",
      "    <p>\n",
      "     <a class=\"false-link\" href=\"https://www.zhipin.com/i100019/\" ka=\"search_list_company_industry_35_custompage\" target=\"_blank\" title=\"移动互联网行业招聘信息\">\n",
      "      移动互联网\n",
      "     </a>\n",
      "     <em class=\"vline\">\n",
      "     </em>\n",
      "     0-20人\n",
      "    </p>\n",
      "   </div>\n",
      "   <a href=\"https://www.zhipin.com/gongsi/25d5a5b20cb407ce3nB729q-Ew~~.html\" ka=\"search_list_company_35_custompage_logo\" target=\"_blank\">\n",
      "    <img alt=\"\" class=\"company-logo\" src=\"data:image/png;base64,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\"/>\n",
      "   </a>\n",
      "  </div>\n",
      " </div>\n",
      " <div class=\"info-append clearfix\">\n",
      "  <div class=\"tags\">\n",
      "   <span class=\"tag-item\">\n",
      "    用户增长\n",
      "   </span>\n",
      "   <span class=\"tag-item\">\n",
      "    社群运营\n",
      "   </span>\n",
      "   <span class=\"tag-item\">\n",
      "    粉丝运营\n",
      "   </span>\n",
      "   <span class=\"tag-item\">\n",
      "    活动运营\n",
      "   </span>\n",
      "   <span class=\"tag-item\">\n",
      "    电商运营\n",
      "   </span>\n",
      "  </div>\n",
      "  <div class=\"info-desc\">\n",
      "  </div>\n",
      " </div>\n",
      "</div>\n",
      "<div class=\"job-primary\">\n",
      " <div class=\"info-primary\">\n",
      "  <div class=\"primary-wrapper\">\n",
      "   <div class=\"primary-box\" data-index=\"5\" data-itemid=\"36\" data-jid=\"a40bca08721e168b0nV73dq6ElQ~\" data-jobid=\"51167726\" data-lid=\"nlp-7pjAjobJYgm.search.36\" href=\"/job_detail/a40bca08721e168b0nV73dq6ElQ~.html\" ka=\"search_list_36\" target=\"_blank\">\n",
      "    <div class=\"job-title\">\n",
      "     <span class=\"job-name\">\n",
      "      <a data-index=\"5\" data-itemid=\"36\" data-jid=\"a40bca08721e168b0nV73dq6ElQ~\" data-jobid=\"51167726\" data-lid=\"nlp-7pjAjobJYgm.search.36\" href=\"https://www.zhipin.com/job_detail/a40bca08721e168b0nV73dq6ElQ~.html\" ka=\"search_list_jname_36\" target=\"_blank\" title=\"聪明伶俐的用户运营\">\n",
      "       聪明伶俐的用户运营\n",
      "      </a>\n",
      "     </span>\n",
      "     <span class=\"job-area-wrapper\">\n",
      "      <span class=\"job-area\">\n",
      "       杭州·西湖区·文二路\n",
      "      </span>\n",
      "     </span>\n",
      "     <span class=\"job-pub-time\">\n",
      "      发布于07月13日\n",
      "     </span>\n",
      "    </div>\n",
      "    <div class=\"job-limit clearfix\">\n",
      "     <span class=\"red\">\n",
      "      10-15K\n",
      "     </span>\n",
      "     <p>\n",
      "      3-5年\n",
      "      <em class=\"vline\">\n",
      "      </em>\n",
      "      本科\n",
      "     </p>\n",
      "     <div class=\"info-publis\">\n",
      "      <h3 class=\"name\">\n",
      "       <img class=\"icon-chat\" src=\"data:image/png;base64,iVBORw0KGgoAAAANSUhEUgAAABoAAAAaCAYAAACpSkzOAAAC/0lEQVRIia2WvW4aQRCAt3DpIu8QyU26NGlygM8G7oxtOFvITYrkDdKgSKnyCuF1AN3+sH/HRbhFqdPQ0jMpdvduOZbYRU769I1mdmYOYXlB6IXno9YXkaCTSOJZxMmmzfGuzfEu4mQTSTyLBJ1caX3x0pyTT1zK9y1B5y2eQ4vjIJGtRTyHSOTzqJTvX73gB8DZJcfTliR7s+Q0bY4rtzmGliT7mOPpD8jP/rnk83r9pi3ooiMwdIRpdm5zDG3hWWBo87y2jyCL0Tp/E1ySQ34WC7ro8Bw6HBuEZ4Ghw/Pafmzrl55jQRc5wPEniyWeXnJz6JJbhOcQL5yPOZ4effGxovtYYPivKLqP/T+QrqDzK4GhSew5buSuBIYrSWr7sXemK+gcIYRQpvXFtSTwKgSubQdde0Ov7ZJmX6b1BUrEctKVBLp2QNcb1MQ/E6LZ7+JktZygvmSzniTQs4d7XqOfMzGubCCeQ+eN+5LNUKrZpicx9CSGviSV/djVe1VMGvGpuiHRbIP6kuzc4IoV/T7ebs/7K/rdzyeqrqW2lqjjnkTVeesdSiTZuUJiC+Pt9hwhhMbb7bnLufpRTf47b9mhVJLfqaKQKgqJJJAqCqn31okkkDoUOailyuaO8mae46ZgG3RbsPmNImCgnimkNnbD/Fy4XvtGmZe7UQQGks3QQLNvA0VhYJcMqmXkIGcgnkkjF0Ab3/5aTtDdc/HONd7axltFDdpzgIGqHXoRN+/JXYzDFZvd2aHOYYhnYs8ah/pNzGbV/7rHUn640xTubcN9I747hfIcYrXcP5Xl4a07VOznvaZwr+pFRyjPqpHTFIaaVR5qBqOSH14T5uKDs2FByahgMNQ0jKsV7DCuzrDKmebhiw8hhLKCfxlpBqPComntIMxzHT9ouvi6Xoevcrco0xQyzSCzjZmuF2V2aVawMKvl/qHk05OfxD0Pa/n5oWDwWjJNK2cFm39qfvGnnqeyfDsu+Z9Tgx+txyXbPRZs87his/Gv5eTp+eUfkH8B95QiEYjrEUMAAAAASUVORK5CYII=\"/>\n",
      "       杜先生\n",
      "       <em class=\"vline\">\n",
      "       </em>\n",
      "       招聘者\n",
      "      </h3>\n",
      "     </div>\n",
      "     <button class=\"btn btn-startchat sf-hidden\" data-url=\"/wapi/zpgeek/friend/add.json?jobId=a40bca08721e168b0nV73dq6ElQ~&amp;lid=nlp-7pjAjobJYgm.search.36\" href=\"javascript:;\" redirect-url=\"/web/geek/chat?id=cc0e7f9128c6a7650HV83967EFE~\">\n",
      "      <img alt=\"\" class=\"icon-chat icon-chat-hover\" data-single-file-origin-u-r-l=\"https://z.zhipin.com/web/geek/resource/icon-chat-hover-v2.png\" src=\"data:image/gif;base64,R0lGODlhAQABAAAAACH5BAEKAAEALAAAAAABAAEAAAICTAEAOw==\"/>\n",
      "      <span>\n",
      "       立即沟通\n",
      "      </span>\n",
      "     </button>\n",
      "    </div>\n",
      "    <div class=\"info-detail sf-hidden\">\n",
      "    </div>\n",
      "   </div>\n",
      "  </div>\n",
      "  <div class=\"info-company\">\n",
      "   <div class=\"company-text\">\n",
      "    <h3 class=\"name\">\n",
      "     <a href=\"https://www.zhipin.com/gongsi/8f1f37a9d0ace5220nd73Nu9Fg~~.html\" ka=\"search_list_company_36_custompage\" target=\"_blank\" title=\"浙江乐见科技招聘\">\n",
      "      浙江乐见科技\n",
      "     </a>\n",
      "    </h3>\n",
      "    <p>\n",
      "     <a class=\"false-link\" href=\"https://www.zhipin.com/i100020/\" ka=\"search_list_company_industry_36_custompage\" target=\"_blank\" title=\"互联网行业招聘信息\">\n",
      "      互联网\n",
      "     </a>\n",
      "     <em class=\"vline\">\n",
      "     </em>\n",
      "     A轮\n",
      "     <em class=\"vline\">\n",
      "     </em>\n",
      "     20-99人\n",
      "    </p>\n",
      "   </div>\n",
      "   <a href=\"https://www.zhipin.com/gongsi/8f1f37a9d0ace5220nd73Nu9Fg~~.html\" ka=\"search_list_company_36_custompage_logo\" target=\"_blank\">\n",
      "    <img alt=\"\" class=\"company-logo\" src=\"data:image/jpeg;base64,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\"/>\n",
      "   </a>\n",
      "  </div>\n",
      " </div>\n",
      " <div class=\"info-append clearfix\">\n",
      "  <div class=\"tags\">\n",
      "   <span class=\"tag-item\">\n",
      "    电商用户运营\n",
      "   </span>\n",
      "   <span class=\"tag-item\">\n",
      "    线上用户运营\n",
      "   </span>\n",
      "   <span class=\"tag-item\">\n",
      "    游戏用户运营\n",
      "   </span>\n",
      "   <span class=\"tag-item\">\n",
      "    用户增长\n",
      "   </span>\n",
      "   <span class=\"tag-item\">\n",
      "    互联网创业公司\n",
      "   </span>\n",
      "  </div>\n",
      "  <div class=\"info-desc\">\n",
      "   股票期权，员工旅游，零食下午茶\n",
      "  </div>\n",
      " </div>\n",
      "</div>\n",
      "<div class=\"job-primary\">\n",
      " <div class=\"info-primary\">\n",
      "  <div class=\"primary-wrapper\">\n",
      "   <div class=\"primary-box\" data-index=\"6\" data-itemid=\"37\" data-jid=\"11f7a4c4c708297a33B-39q5F1A~\" data-jobid=\"84447472\" data-lid=\"nlp-7pjAjobJYgm.search.37\" href=\"/job_detail/11f7a4c4c708297a33B-39q5F1A~.html\" ka=\"search_list_37\" target=\"_blank\">\n",
      "    <div class=\"job-title\">\n",
      "     <span class=\"job-name\">\n",
      "      <a data-index=\"6\" data-itemid=\"37\" data-jid=\"11f7a4c4c708297a33B-39q5F1A~\" data-jobid=\"84447472\" data-lid=\"nlp-7pjAjobJYgm.search.37\" href=\"https://www.zhipin.com/job_detail/11f7a4c4c708297a33B-39q5F1A~.html\" ka=\"search_list_jname_37\" target=\"_blank\" title=\"用户运营\">\n",
      "       用户运营\n",
      "      </a>\n",
      "     </span>\n",
      "     <span class=\"job-area-wrapper\">\n",
      "      <span class=\"job-area\">\n",
      "       杭州·西湖区·西湖\n",
      "      </span>\n",
      "     </span>\n",
      "     <span class=\"job-pub-time\">\n",
      "      发布于07月15日\n",
      "     </span>\n",
      "    </div>\n",
      "    <div class=\"job-limit clearfix\">\n",
      "     <span class=\"red\">\n",
      "      6-10K\n",
      "     </span>\n",
      "     <p>\n",
      "      经验不限\n",
      "      <em class=\"vline\">\n",
      "      </em>\n",
      "      本科\n",
      "     </p>\n",
      "     <div class=\"info-publis\">\n",
      "      <h3 class=\"name\">\n",
      "       <img class=\"icon-chat\" src=\"data:image/png;base64,iVBORw0KGgoAAAANSUhEUgAAABoAAAAaCAYAAACpSkzOAAAC/0lEQVRIia2WvW4aQRCAt3DpIu8QyU26NGlygM8G7oxtOFvITYrkDdKgSKnyCuF1AN3+sH/HRbhFqdPQ0jMpdvduOZbYRU769I1mdmYOYXlB6IXno9YXkaCTSOJZxMmmzfGuzfEu4mQTSTyLBJ1caX3x0pyTT1zK9y1B5y2eQ4vjIJGtRTyHSOTzqJTvX73gB8DZJcfTliR7s+Q0bY4rtzmGliT7mOPpD8jP/rnk83r9pi3ooiMwdIRpdm5zDG3hWWBo87y2jyCL0Tp/E1ySQ34WC7ro8Bw6HBuEZ4Ghw/Pafmzrl55jQRc5wPEniyWeXnJz6JJbhOcQL5yPOZ4effGxovtYYPivKLqP/T+QrqDzK4GhSew5buSuBIYrSWr7sXemK+gcIYRQpvXFtSTwKgSubQdde0Ov7ZJmX6b1BUrEctKVBLp2QNcb1MQ/E6LZ7+JktZygvmSzniTQs4d7XqOfMzGubCCeQ+eN+5LNUKrZpicx9CSGviSV/djVe1VMGvGpuiHRbIP6kuzc4IoV/T7ebs/7K/rdzyeqrqW2lqjjnkTVeesdSiTZuUJiC+Pt9hwhhMbb7bnLufpRTf47b9mhVJLfqaKQKgqJJJAqCqn31okkkDoUOailyuaO8mae46ZgG3RbsPmNImCgnimkNnbD/Fy4XvtGmZe7UQQGks3QQLNvA0VhYJcMqmXkIGcgnkkjF0Ab3/5aTtDdc/HONd7axltFDdpzgIGqHXoRN+/JXYzDFZvd2aHOYYhnYs8ah/pNzGbV/7rHUn640xTubcN9I747hfIcYrXcP5Xl4a07VOznvaZwr+pFRyjPqpHTFIaaVR5qBqOSH14T5uKDs2FByahgMNQ0jKsV7DCuzrDKmebhiw8hhLKCfxlpBqPComntIMxzHT9ouvi6Xoevcrco0xQyzSCzjZmuF2V2aVawMKvl/qHk05OfxD0Pa/n5oWDwWjJNK2cFm39qfvGnnqeyfDsu+Z9Tgx+txyXbPRZs87his/Gv5eTp+eUfkH8B95QiEYjrEUMAAAAASUVORK5CYII=\"/>\n",
      "       潘妍\n",
      "       <em class=\"vline\">\n",
      "       </em>\n",
      "       HR\n",
      "      </h3>\n",
      "     </div>\n",
      "     <button class=\"btn btn-startchat sf-hidden\" data-url=\"/wapi/zpgeek/friend/add.json?jobId=11f7a4c4c708297a33B-39q5F1A~&amp;lid=nlp-7pjAjobJYgm.search.37\" href=\"javascript:;\" redirect-url=\"/web/geek/chat?id=6fd41a3d78cc02630nB43Nu0F1c~\">\n",
      "      <img alt=\"\" class=\"icon-chat icon-chat-hover\" data-single-file-origin-u-r-l=\"https://z.zhipin.com/web/geek/resource/icon-chat-hover-v2.png\" src=\"data:image/gif;base64,R0lGODlhAQABAAAAACH5BAEKAAEALAAAAAABAAEAAAICTAEAOw==\"/>\n",
      "      <span>\n",
      "       立即沟通\n",
      "      </span>\n",
      "     </button>\n",
      "    </div>\n",
      "    <div class=\"info-detail sf-hidden\">\n",
      "    </div>\n",
      "   </div>\n",
      "  </div>\n",
      "  <div class=\"info-company\">\n",
      "   <div class=\"company-text\">\n",
      "    <h3 class=\"name\">\n",
      "     <a href=\"https://www.zhipin.com/gongsi/b166e12f0d0446251XB43dS9Ew~~.html\" ka=\"search_list_company_37_custompage\" target=\"_blank\" title=\"共链科技招聘\">\n",
      "      共链科技\n",
      "     </a>\n",
      "    </h3>\n",
      "    <p>\n",
      "     <a class=\"false-link\" href=\"https://www.zhipin.com/i100206/\" ka=\"search_list_company_industry_37_custompage\" target=\"_blank\" title=\"互联网金融行业招聘信息\">\n",
      "      互联网金融\n",
      "     </a>\n",
      "     <em class=\"vline\">\n",
      "     </em>\n",
      "     天使轮\n",
      "     <em class=\"vline\">\n",
      "     </em>\n",
      "     100-499人\n",
      "    </p>\n",
      "   </div>\n",
      "   <a href=\"https://www.zhipin.com/gongsi/b166e12f0d0446251XB43dS9Ew~~.html\" ka=\"search_list_company_37_custompage_logo\" target=\"_blank\">\n",
      "    <img alt=\"\" class=\"company-logo\" src=\"data:image/jpeg;base64,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\"/>\n",
      "   </a>\n",
      "  </div>\n",
      " </div>\n",
      " <div class=\"info-append clearfix\">\n",
      "  <div class=\"tags\">\n",
      "   <span class=\"tag-item\">\n",
      "    海外运营\n",
      "   </span>\n",
      "   <span class=\"tag-item\">\n",
      "    电子商务\n",
      "   </span>\n",
      "   <span class=\"tag-item\">\n",
      "    英语\n",
      "   </span>\n",
      "   <span class=\"tag-item\">\n",
      "    游戏\n",
      "   </span>\n",
      "   <span class=\"tag-item\">\n",
      "    平台运营\n",
      "   </span>\n",
      "  </div>\n",
      "  <div class=\"info-desc\">\n",
      "   节日福利，加班补助，全勤奖，带薪年假，定期体检，零食下午茶，员工旅游\n",
      "  </div>\n",
      " </div>\n",
      "</div>\n",
      "<div class=\"job-primary\">\n",
      " <div class=\"info-primary\">\n",
      "  <div class=\"primary-wrapper\">\n",
      "   <div class=\"primary-box\" data-index=\"7\" data-itemid=\"38\" data-jid=\"3a45b44dea42c63f3nR92NW4FFo~\" data-jobid=\"90738548\" data-lid=\"nlp-7pjAjobJYgm.search.38\" href=\"/job_detail/3a45b44dea42c63f3nR92NW4FFo~.html\" ka=\"search_list_38\" target=\"_blank\">\n",
      "    <div class=\"job-title\">\n",
      "     <span class=\"job-name\">\n",
      "      <a data-index=\"7\" data-itemid=\"38\" data-jid=\"3a45b44dea42c63f3nR92NW4FFo~\" data-jobid=\"90738548\" data-lid=\"nlp-7pjAjobJYgm.search.38\" href=\"https://www.zhipin.com/job_detail/3a45b44dea42c63f3nR92NW4FFo~.html\" ka=\"search_list_jname_38\" target=\"_blank\" title=\"产品运营\">\n",
      "       产品运营\n",
      "      </a>\n",
      "     </span>\n",
      "     <span class=\"job-area-wrapper\">\n",
      "      <span class=\"job-area\">\n",
      "       杭州·余杭区·五常\n",
      "      </span>\n",
      "     </span>\n",
      "     <span class=\"job-pub-time\">\n",
      "      发布于07月31日\n",
      "     </span>\n",
      "    </div>\n",
      "    <div class=\"job-limit clearfix\">\n",
      "     <span class=\"red\">\n",
      "      12-18K·13薪\n",
      "     </span>\n",
      "     <p>\n",
      "      1-3年\n",
      "      <em class=\"vline\">\n",
      "      </em>\n",
      "      本科\n",
      "     </p>\n",
      "     <div class=\"info-publis\">\n",
      "      <h3 class=\"name\">\n",
      "       <img class=\"icon-chat\" src=\"data:image/png;base64,iVBORw0KGgoAAAANSUhEUgAAABoAAAAaCAYAAACpSkzOAAAC/0lEQVRIia2WvW4aQRCAt3DpIu8QyU26NGlygM8G7oxtOFvITYrkDdKgSKnyCuF1AN3+sH/HRbhFqdPQ0jMpdvduOZbYRU769I1mdmYOYXlB6IXno9YXkaCTSOJZxMmmzfGuzfEu4mQTSTyLBJ1caX3x0pyTT1zK9y1B5y2eQ4vjIJGtRTyHSOTzqJTvX73gB8DZJcfTliR7s+Q0bY4rtzmGliT7mOPpD8jP/rnk83r9pi3ooiMwdIRpdm5zDG3hWWBo87y2jyCL0Tp/E1ySQ34WC7ro8Bw6HBuEZ4Ghw/Pafmzrl55jQRc5wPEniyWeXnJz6JJbhOcQL5yPOZ4effGxovtYYPivKLqP/T+QrqDzK4GhSew5buSuBIYrSWr7sXemK+gcIYRQpvXFtSTwKgSubQdde0Ov7ZJmX6b1BUrEctKVBLp2QNcb1MQ/E6LZ7+JktZygvmSzniTQs4d7XqOfMzGubCCeQ+eN+5LNUKrZpicx9CSGviSV/djVe1VMGvGpuiHRbIP6kuzc4IoV/T7ebs/7K/rdzyeqrqW2lqjjnkTVeesdSiTZuUJiC+Pt9hwhhMbb7bnLufpRTf47b9mhVJLfqaKQKgqJJJAqCqn31okkkDoUOailyuaO8mae46ZgG3RbsPmNImCgnimkNnbD/Fy4XvtGmZe7UQQGks3QQLNvA0VhYJcMqmXkIGcgnkkjF0Ab3/5aTtDdc/HONd7axltFDdpzgIGqHXoRN+/JXYzDFZvd2aHOYYhnYs8ah/pNzGbV/7rHUn640xTubcN9I747hfIcYrXcP5Xl4a07VOznvaZwr+pFRyjPqpHTFIaaVR5qBqOSH14T5uKDs2FByahgMNQ0jKsV7DCuzrDKmebhiw8hhLKCfxlpBqPComntIMxzHT9ouvi6Xoevcrco0xQyzSCzjZmuF2V2aVawMKvl/qHk05OfxD0Pa/n5oWDwWjJNK2cFm39qfvGnnqeyfDsu+Z9Tgx+txyXbPRZs87his/Gv5eTp+eUfkH8B95QiEYjrEUMAAAAASUVORK5CYII=\"/>\n",
      "       朱先生\n",
      "       <em class=\"vline\">\n",
      "       </em>\n",
      "       HRBP\n",
      "      </h3>\n",
      "     </div>\n",
      "     <button class=\"btn btn-startchat sf-hidden\" data-url=\"/wapi/zpgeek/friend/add.json?jobId=3a45b44dea42c63f3nR92NW4FFo~&amp;lid=nlp-7pjAjobJYgm.search.38\" href=\"javascript:;\" redirect-url=\"/web/geek/chat?id=68b42e97db988e641XR83NW8ElE~\">\n",
      "      <img alt=\"\" class=\"icon-chat icon-chat-hover\" data-single-file-origin-u-r-l=\"https://z.zhipin.com/web/geek/resource/icon-chat-hover-v2.png\" src=\"data:image/gif;base64,R0lGODlhAQABAAAAACH5BAEKAAEALAAAAAABAAEAAAICTAEAOw==\"/>\n",
      "      <span>\n",
      "       立即沟通\n",
      "      </span>\n",
      "     </button>\n",
      "    </div>\n",
      "    <div class=\"info-detail sf-hidden\">\n",
      "    </div>\n",
      "   </div>\n",
      "  </div>\n",
      "  <div class=\"info-company\">\n",
      "   <div class=\"company-text\">\n",
      "    <h3 class=\"name\">\n",
      "     <a href=\"https://www.zhipin.com/gongsi/d3c00b0642f9d8901nNz3ds~.html\" ka=\"search_list_company_38_custompage\" target=\"_blank\" title=\"蜜芽招聘\">\n",
      "      蜜芽\n",
      "     </a>\n",
      "    </h3>\n",
      "    <p>\n",
      "     <a class=\"false-link\" href=\"https://www.zhipin.com/i100020/\" ka=\"search_list_company_industry_38_custompage\" target=\"_blank\" title=\"互联网行业招聘信息\">\n",
      "      互联网\n",
      "     </a>\n",
      "     <em class=\"vline\">\n",
      "     </em>\n",
      "     D轮及以上\n",
      "     <em class=\"vline\">\n",
      "     </em>\n",
      "     1000-9999人\n",
      "    </p>\n",
      "   </div>\n",
      "   <a href=\"https://www.zhipin.com/gongsi/d3c00b0642f9d8901nNz3ds~.html\" ka=\"search_list_company_38_custompage_logo\" target=\"_blank\">\n",
      "    <img alt=\"\" class=\"company-logo\" src=\"data:image/jpeg;base64,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\"/>\n",
      "   </a>\n",
      "  </div>\n",
      " </div>\n",
      " <div class=\"info-append clearfix\">\n",
      "  <div class=\"tags\">\n",
      "   <span class=\"tag-item\">\n",
      "    互联网产品运营\n",
      "   </span>\n",
      "   <span class=\"tag-item\">\n",
      "    数据发现\n",
      "   </span>\n",
      "   <span class=\"tag-item\">\n",
      "    产品能力\n",
      "   </span>\n",
      "   <span class=\"tag-item\">\n",
      "    客户需求挖掘\n",
      "   </span>\n",
      "   <span class=\"tag-item\">\n",
      "    阶段性目标\n",
      "   </span>\n",
      "  </div>\n",
      "  <div class=\"info-desc\">\n",
      "   五险一金，带薪年假，餐补，年终奖，节日福利，补充医疗保险，定期体检\n",
      "  </div>\n",
      " </div>\n",
      "</div>\n",
      "<div class=\"job-primary\">\n",
      " <div class=\"info-primary\">\n",
      "  <div class=\"primary-wrapper\">\n",
      "   <div class=\"primary-box\" data-index=\"8\" data-itemid=\"39\" data-jid=\"af13ed4c503268e9331y0tW7FVo~\" data-jobid=\"89898658\" data-lid=\"nlp-7pjAjobJYgm.search.39\" href=\"/job_detail/af13ed4c503268e9331y0tW7FVo~.html\" ka=\"search_list_39\" target=\"_blank\">\n",
      "    <div class=\"job-title\">\n",
      "     <span class=\"job-name\">\n",
      "      <a data-index=\"8\" data-itemid=\"39\" data-jid=\"af13ed4c503268e9331y0tW7FVo~\" data-jobid=\"89898658\" data-lid=\"nlp-7pjAjobJYgm.search.39\" href=\"https://www.zhipin.com/job_detail/af13ed4c503268e9331y0tW7FVo~.html\" ka=\"search_list_jname_39\" target=\"_blank\" title=\"用户运营\">\n",
      "       用户运营\n",
      "      </a>\n",
      "     </span>\n",
      "     <span class=\"job-area-wrapper\">\n",
      "      <span class=\"job-area\">\n",
      "       杭州·西湖区·高新文教区\n",
      "      </span>\n",
      "     </span>\n",
      "     <span class=\"job-pub-time\">\n",
      "      发布于昨天\n",
      "     </span>\n",
      "    </div>\n",
      "    <div class=\"job-limit clearfix\">\n",
      "     <span class=\"red\">\n",
      "      11-18K\n",
      "     </span>\n",
      "     <p>\n",
      "      1-3年\n",
      "      <em class=\"vline\">\n",
      "      </em>\n",
      "      大专\n",
      "     </p>\n",
      "     <div class=\"info-publis\">\n",
      "      <h3 class=\"name\">\n",
      "       <img class=\"icon-chat\" src=\"data:image/png;base64,iVBORw0KGgoAAAANSUhEUgAAABoAAAAaCAYAAACpSkzOAAAC/0lEQVRIia2WvW4aQRCAt3DpIu8QyU26NGlygM8G7oxtOFvITYrkDdKgSKnyCuF1AN3+sH/HRbhFqdPQ0jMpdvduOZbYRU769I1mdmYOYXlB6IXno9YXkaCTSOJZxMmmzfGuzfEu4mQTSTyLBJ1caX3x0pyTT1zK9y1B5y2eQ4vjIJGtRTyHSOTzqJTvX73gB8DZJcfTliR7s+Q0bY4rtzmGliT7mOPpD8jP/rnk83r9pi3ooiMwdIRpdm5zDG3hWWBo87y2jyCL0Tp/E1ySQ34WC7ro8Bw6HBuEZ4Ghw/Pafmzrl55jQRc5wPEniyWeXnJz6JJbhOcQL5yPOZ4effGxovtYYPivKLqP/T+QrqDzK4GhSew5buSuBIYrSWr7sXemK+gcIYRQpvXFtSTwKgSubQdde0Ov7ZJmX6b1BUrEctKVBLp2QNcb1MQ/E6LZ7+JktZygvmSzniTQs4d7XqOfMzGubCCeQ+eN+5LNUKrZpicx9CSGviSV/djVe1VMGvGpuiHRbIP6kuzc4IoV/T7ebs/7K/rdzyeqrqW2lqjjnkTVeesdSiTZuUJiC+Pt9hwhhMbb7bnLufpRTf47b9mhVJLfqaKQKgqJJJAqCqn31okkkDoUOailyuaO8mae46ZgG3RbsPmNImCgnimkNnbD/Fy4XvtGmZe7UQQGks3QQLNvA0VhYJcMqmXkIGcgnkkjF0Ab3/5aTtDdc/HONd7axltFDdpzgIGqHXoRN+/JXYzDFZvd2aHOYYhnYs8ah/pNzGbV/7rHUn640xTubcN9I747hfIcYrXcP5Xl4a07VOznvaZwr+pFRyjPqpHTFIaaVR5qBqOSH14T5uKDs2FByahgMNQ0jKsV7DCuzrDKmebhiw8hhLKCfxlpBqPComntIMxzHT9ouvi6Xoevcrco0xQyzSCzjZmuF2V2aVawMKvl/qHk05OfxD0Pa/n5oWDwWjJNK2cFm39qfvGnnqeyfDsu+Z9Tgx+txyXbPRZs87his/Gv5eTp+eUfkH8B95QiEYjrEUMAAAAASUVORK5CYII=\"/>\n",
      "       林颖\n",
      "       <em class=\"vline\">\n",
      "       </em>\n",
      "       人事\n",
      "      </h3>\n",
      "     </div>\n",
      "     <button class=\"btn btn-startchat sf-hidden\" data-url=\"/wapi/zpgeek/friend/add.json?jobId=af13ed4c503268e9331y0tW7FVo~&amp;lid=nlp-7pjAjobJYgm.search.39\" href=\"javascript:;\" redirect-url=\"/web/geek/chat?id=96b3c9cf31f56ce23nB829-6EVs~\">\n",
      "      <img alt=\"\" class=\"icon-chat icon-chat-hover\" data-single-file-origin-u-r-l=\"https://z.zhipin.com/web/geek/resource/icon-chat-hover-v2.png\" src=\"data:image/gif;base64,R0lGODlhAQABAAAAACH5BAEKAAEALAAAAAABAAEAAAICTAEAOw==\"/>\n",
      "      <span>\n",
      "       立即沟通\n",
      "      </span>\n",
      "     </button>\n",
      "    </div>\n",
      "    <div class=\"info-detail sf-hidden\">\n",
      "    </div>\n",
      "   </div>\n",
      "  </div>\n",
      "  <div class=\"info-company\">\n",
      "   <div class=\"company-text\">\n",
      "    <h3 class=\"name\">\n",
      "     <a href=\"https://www.zhipin.com/gongsi/090ea1a61fc6287b0X1-3ti5GQ~~.html\" ka=\"search_list_company_39_custompage\" target=\"_blank\" title=\"非淘科技招聘\">\n",
      "      非淘科技\n",
      "     </a>\n",
      "    </h3>\n",
      "    <p>\n",
      "     <a class=\"false-link\" href=\"https://www.zhipin.com/i100020/\" ka=\"search_list_company_industry_39_custompage\" target=\"_blank\" title=\"互联网行业招聘信息\">\n",
      "      互联网\n",
      "     </a>\n",
      "     <em class=\"vline\">\n",
      "     </em>\n",
      "     不需要融资\n",
      "     <em class=\"vline\">\n",
      "     </em>\n",
      "     20-99人\n",
      "    </p>\n",
      "   </div>\n",
      "   <a href=\"https://www.zhipin.com/gongsi/090ea1a61fc6287b0X1-3ti5GQ~~.html\" ka=\"search_list_company_39_custompage_logo\" target=\"_blank\">\n",
      "    <img alt=\"\" class=\"company-logo\" src=\"data:image/jpeg;base64,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\"/>\n",
      "   </a>\n",
      "  </div>\n",
      " </div>\n",
      " <div class=\"info-append clearfix\">\n",
      "  <div class=\"tags\">\n",
      "   <span class=\"tag-item\">\n",
      "    用户增长\n",
      "   </span>\n",
      "   <span class=\"tag-item\">\n",
      "    用户行为分析\n",
      "   </span>\n",
      "   <span class=\"tag-item\">\n",
      "    产品运营\n",
      "   </span>\n",
      "   <span class=\"tag-item\">\n",
      "    电商运营\n",
      "   </span>\n",
      "   <span class=\"tag-item\">\n",
      "    数据分析\n",
      "   </span>\n",
      "  </div>\n",
      "  <div class=\"info-desc\">\n",
      "   全勤奖，五险一金，定期体检，员工旅游，年终奖\n",
      "  </div>\n",
      " </div>\n",
      "</div>\n",
      "<div class=\"job-primary\">\n",
      " <div class=\"info-primary\">\n",
      "  <div class=\"primary-wrapper\">\n",
      "   <div class=\"primary-box\" data-index=\"9\" data-itemid=\"40\" data-jid=\"31bfa6c6487a3de533Nz2tm8GFs~\" data-jobid=\"87914189\" data-lid=\"nlp-7pjAjobJYgm.search.40\" href=\"/job_detail/31bfa6c6487a3de533Nz2tm8GFs~.html\" ka=\"search_list_40\" target=\"_blank\">\n",
      "    <div class=\"job-title\">\n",
      "     <span class=\"job-name\">\n",
      "      <a data-index=\"9\" data-itemid=\"40\" data-jid=\"31bfa6c6487a3de533Nz2tm8GFs~\" data-jobid=\"87914189\" data-lid=\"nlp-7pjAjobJYgm.search.40\" href=\"https://www.zhipin.com/job_detail/31bfa6c6487a3de533Nz2tm8GFs~.html\" ka=\"search_list_jname_40\" target=\"_blank\" title=\"用户运营\">\n",
      "       用户运营\n",
      "      </a>\n",
      "     </span>\n",
      "     <span class=\"job-area-wrapper\">\n",
      "      <span class=\"job-area\">\n",
      "       杭州·江干区·高沙商业街\n",
      "      </span>\n",
      "     </span>\n",
      "     <span class=\"job-pub-time\">\n",
      "      发布于08月02日\n",
      "     </span>\n",
      "    </div>\n",
      "    <div class=\"job-limit clearfix\">\n",
      "     <span class=\"red\">\n",
      "      5-9K\n",
      "     </span>\n",
      "     <p>\n",
      "      经验不限\n",
      "      <em class=\"vline\">\n",
      "      </em>\n",
      "      中专/中技\n",
      "     </p>\n",
      "     <div class=\"info-publis\">\n",
      "      <h3 class=\"name\">\n",
      "       <img class=\"icon-chat\" src=\"data:image/png;base64,iVBORw0KGgoAAAANSUhEUgAAABoAAAAaCAYAAACpSkzOAAAC/0lEQVRIia2WvW4aQRCAt3DpIu8QyU26NGlygM8G7oxtOFvITYrkDdKgSKnyCuF1AN3+sH/HRbhFqdPQ0jMpdvduOZbYRU769I1mdmYOYXlB6IXno9YXkaCTSOJZxMmmzfGuzfEu4mQTSTyLBJ1caX3x0pyTT1zK9y1B5y2eQ4vjIJGtRTyHSOTzqJTvX73gB8DZJcfTliR7s+Q0bY4rtzmGliT7mOPpD8jP/rnk83r9pi3ooiMwdIRpdm5zDG3hWWBo87y2jyCL0Tp/E1ySQ34WC7ro8Bw6HBuEZ4Ghw/Pafmzrl55jQRc5wPEniyWeXnJz6JJbhOcQL5yPOZ4effGxovtYYPivKLqP/T+QrqDzK4GhSew5buSuBIYrSWr7sXemK+gcIYRQpvXFtSTwKgSubQdde0Ov7ZJmX6b1BUrEctKVBLp2QNcb1MQ/E6LZ7+JktZygvmSzniTQs4d7XqOfMzGubCCeQ+eN+5LNUKrZpicx9CSGviSV/djVe1VMGvGpuiHRbIP6kuzc4IoV/T7ebs/7K/rdzyeqrqW2lqjjnkTVeesdSiTZuUJiC+Pt9hwhhMbb7bnLufpRTf47b9mhVJLfqaKQKgqJJJAqCqn31okkkDoUOailyuaO8mae46ZgG3RbsPmNImCgnimkNnbD/Fy4XvtGmZe7UQQGks3QQLNvA0VhYJcMqmXkIGcgnkkjF0Ab3/5aTtDdc/HONd7axltFDdpzgIGqHXoRN+/JXYzDFZvd2aHOYYhnYs8ah/pNzGbV/7rHUn640xTubcN9I747hfIcYrXcP5Xl4a07VOznvaZwr+pFRyjPqpHTFIaaVR5qBqOSH14T5uKDs2FByahgMNQ0jKsV7DCuzrDKmebhiw8hhLKCfxlpBqPComntIMxzHT9ouvi6Xoevcrco0xQyzSCzjZmuF2V2aVawMKvl/qHk05OfxD0Pa/n5oWDwWjJNK2cFm39qfvGnnqeyfDsu+Z9Tgx+txyXbPRZs87his/Gv5eTp+eUfkH8B95QiEYjrEUMAAAAASUVORK5CYII=\"/>\n",
      "       邵女士\n",
      "       <em class=\"vline\">\n",
      "       </em>\n",
      "       人事\n",
      "      </h3>\n",
      "     </div>\n",
      "     <button class=\"btn btn-startchat sf-hidden\" data-url=\"/wapi/zpgeek/friend/add.json?jobId=31bfa6c6487a3de533Nz2tm8GFs~&amp;lid=nlp-7pjAjobJYgm.search.40\" href=\"javascript:;\" redirect-url=\"/web/geek/chat?id=492a920fd0dc7dc50XN73d28FA~~\">\n",
      "      <img alt=\"\" class=\"icon-chat icon-chat-hover\" data-single-file-origin-u-r-l=\"https://z.zhipin.com/web/geek/resource/icon-chat-hover-v2.png\" src=\"data:image/gif;base64,R0lGODlhAQABAAAAACH5BAEKAAEALAAAAAABAAEAAAICTAEAOw==\"/>\n",
      "      <span>\n",
      "       立即沟通\n",
      "      </span>\n",
      "     </button>\n",
      "    </div>\n",
      "    <div class=\"info-detail sf-hidden\">\n",
      "    </div>\n",
      "   </div>\n",
      "  </div>\n",
      "  <div class=\"info-company\">\n",
      "   <div class=\"company-text\">\n",
      "    <h3 class=\"name\">\n",
      "     <a href=\"https://www.zhipin.com/gongsi/0bc562732fcf91fe3nJy.html\" ka=\"search_list_company_40_custompage\" target=\"_blank\" title=\"货拉拉科技招聘\">\n",
      "      货拉拉科技\n",
      "     </a>\n",
      "    </h3>\n",
      "    <p>\n",
      "     <a class=\"false-link\" href=\"https://www.zhipin.com/i100020/\" ka=\"search_list_company_industry_40_custompage\" target=\"_blank\" title=\"互联网行业招聘信息\">\n",
      "      互联网\n",
      "     </a>\n",
      "     <em class=\"vline\">\n",
      "     </em>\n",
      "     D轮及以上\n",
      "     <em class=\"vline\">\n",
      "     </em>\n",
      "     1000-9999人\n",
      "    </p>\n",
      "   </div>\n",
      "   <a href=\"https://www.zhipin.com/gongsi/0bc562732fcf91fe3nJy.html\" ka=\"search_list_company_40_custompage_logo\" target=\"_blank\">\n",
      "    <img alt=\"\" class=\"company-logo\" src=\"data:image/png;base64,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\"/>\n",
      "   </a>\n",
      "  </div>\n",
      " </div>\n",
      " <div class=\"info-append clearfix\">\n",
      "  <div class=\"tags\">\n",
      "   <span class=\"tag-item\">\n",
      "    数据运营\n",
      "   </span>\n",
      "   <span class=\"tag-item\">\n",
      "    全职\n",
      "   </span>\n",
      "   <span class=\"tag-item\">\n",
      "    激励体系\n",
      "   </span>\n",
      "   <span class=\"tag-item\">\n",
      "    函数公式\n",
      "   </span>\n",
      "   <span class=\"tag-item\">\n",
      "    数据表格\n",
      "   </span>\n",
      "  </div>\n",
      "  <div class=\"info-desc\">\n",
      "   年终奖，员工旅游，零食下午茶，节日福利，带薪年假，交通补助，五险一金\n",
      "  </div>\n",
      " </div>\n",
      "</div>\n",
      "<div class=\"job-primary\">\n",
      " <div class=\"info-primary\">\n",
      "  <div class=\"primary-wrapper\">\n",
      "   <div class=\"primary-box\" data-index=\"10\" data-itemid=\"41\" data-jid=\"2fe662d89a97ce3d33xz2tm7FFU~\" data-jobid=\"88914647\" data-lid=\"nlp-7pjAjobJYgm.search.41\" href=\"/job_detail/2fe662d89a97ce3d33xz2tm7FFU~.html\" ka=\"search_list_41\" target=\"_blank\">\n",
      "    <div class=\"job-title\">\n",
      "     <span class=\"job-name\">\n",
      "      <a data-index=\"10\" data-itemid=\"41\" data-jid=\"2fe662d89a97ce3d33xz2tm7FFU~\" data-jobid=\"88914647\" data-lid=\"nlp-7pjAjobJYgm.search.41\" href=\"https://www.zhipin.com/job_detail/2fe662d89a97ce3d33xz2tm7FFU~.html\" ka=\"search_list_jname_41\" target=\"_blank\" title=\"用户运营\">\n",
      "       用户运营\n",
      "      </a>\n",
      "     </span>\n",
      "     <span class=\"job-area-wrapper\">\n",
      "      <span class=\"job-area\">\n",
      "       杭州·余杭区·五常\n",
      "      </span>\n",
      "     </span>\n",
      "     <span class=\"job-pub-time\">\n",
      "      发布于07月22日\n",
      "     </span>\n",
      "    </div>\n",
      "    <div class=\"job-limit clearfix\">\n",
      "     <span class=\"red\">\n",
      "      15-30K·15薪\n",
      "     </span>\n",
      "     <p>\n",
      "      5-10年\n",
      "      <em class=\"vline\">\n",
      "      </em>\n",
      "      本科\n",
      "     </p>\n",
      "     <div class=\"info-publis\">\n",
      "      <h3 class=\"name\">\n",
      "       <img class=\"icon-chat\" src=\"data:image/png;base64,iVBORw0KGgoAAAANSUhEUgAAABoAAAAaCAYAAACpSkzOAAAC/0lEQVRIia2WvW4aQRCAt3DpIu8QyU26NGlygM8G7oxtOFvITYrkDdKgSKnyCuF1AN3+sH/HRbhFqdPQ0jMpdvduOZbYRU769I1mdmYOYXlB6IXno9YXkaCTSOJZxMmmzfGuzfEu4mQTSTyLBJ1caX3x0pyTT1zK9y1B5y2eQ4vjIJGtRTyHSOTzqJTvX73gB8DZJcfTliR7s+Q0bY4rtzmGliT7mOPpD8jP/rnk83r9pi3ooiMwdIRpdm5zDG3hWWBo87y2jyCL0Tp/E1ySQ34WC7ro8Bw6HBuEZ4Ghw/Pafmzrl55jQRc5wPEniyWeXnJz6JJbhOcQL5yPOZ4effGxovtYYPivKLqP/T+QrqDzK4GhSew5buSuBIYrSWr7sXemK+gcIYRQpvXFtSTwKgSubQdde0Ov7ZJmX6b1BUrEctKVBLp2QNcb1MQ/E6LZ7+JktZygvmSzniTQs4d7XqOfMzGubCCeQ+eN+5LNUKrZpicx9CSGviSV/djVe1VMGvGpuiHRbIP6kuzc4IoV/T7ebs/7K/rdzyeqrqW2lqjjnkTVeesdSiTZuUJiC+Pt9hwhhMbb7bnLufpRTf47b9mhVJLfqaKQKgqJJJAqCqn31okkkDoUOailyuaO8mae46ZgG3RbsPmNImCgnimkNnbD/Fy4XvtGmZe7UQQGks3QQLNvA0VhYJcMqmXkIGcgnkkjF0Ab3/5aTtDdc/HONd7axltFDdpzgIGqHXoRN+/JXYzDFZvd2aHOYYhnYs8ah/pNzGbV/7rHUn640xTubcN9I747hfIcYrXcP5Xl4a07VOznvaZwr+pFRyjPqpHTFIaaVR5qBqOSH14T5uKDs2FByahgMNQ0jKsV7DCuzrDKmebhiw8hhLKCfxlpBqPComntIMxzHT9ouvi6Xoevcrco0xQyzSCzjZmuF2V2aVawMKvl/qHk05OfxD0Pa/n5oWDwWjJNK2cFm39qfvGnnqeyfDsu+Z9Tgx+txyXbPRZs87his/Gv5eTp+eUfkH8B95QiEYjrEUMAAAAASUVORK5CYII=\"/>\n",
      "       曾凯\n",
      "       <em class=\"vline\">\n",
      "       </em>\n",
      "       招聘者\n",
      "      </h3>\n",
      "     </div>\n",
      "     <button class=\"btn btn-startchat sf-hidden\" data-url=\"/wapi/zpgeek/friend/add.json?jobId=2fe662d89a97ce3d33xz2tm7FFU~&amp;lid=nlp-7pjAjobJYgm.search.41\" href=\"javascript:;\" redirect-url=\"/web/geek/chat?id=6e2fa2110e97cddd1XJ-39i-EFY~\">\n",
      "      <img alt=\"\" class=\"icon-chat icon-chat-hover\" data-single-file-origin-u-r-l=\"https://z.zhipin.com/web/geek/resource/icon-chat-hover-v2.png\" src=\"data:image/gif;base64,R0lGODlhAQABAAAAACH5BAEKAAEALAAAAAABAAEAAAICTAEAOw==\"/>\n",
      "      <span>\n",
      "       立即沟通\n",
      "      </span>\n",
      "     </button>\n",
      "    </div>\n",
      "    <div class=\"info-detail sf-hidden\">\n",
      "    </div>\n",
      "   </div>\n",
      "  </div>\n",
      "  <div class=\"info-company\">\n",
      "   <div class=\"company-text\">\n",
      "    <h3 class=\"name\">\n",
      "     <a href=\"https://www.zhipin.com/gongsi/5d627415a46b4a750nJ9.html\" ka=\"search_list_company_41_custompage\" target=\"_blank\" title=\"阿里巴巴集团招聘\">\n",
      "      阿里巴巴集团\n",
      "     </a>\n",
      "    </h3>\n",
      "    <p>\n",
      "     <a class=\"false-link\" href=\"https://www.zhipin.com/i100020/\" ka=\"search_list_company_industry_41_custompage\" target=\"_blank\" title=\"互联网行业招聘信息\">\n",
      "      互联网\n",
      "     </a>\n",
      "     <em class=\"vline\">\n",
      "     </em>\n",
      "     已上市\n",
      "     <em class=\"vline\">\n",
      "     </em>\n",
      "     10000人以上\n",
      "    </p>\n",
      "   </div>\n",
      "   <a href=\"https://www.zhipin.com/gongsi/5d627415a46b4a750nJ9.html\" ka=\"search_list_company_41_custompage_logo\" target=\"_blank\">\n",
      "    <img alt=\"\" class=\"company-logo\" src=\"data:image/jpeg;base64,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\"/>\n",
      "   </a>\n",
      "  </div>\n",
      " </div>\n",
      " <div class=\"info-append clearfix\">\n",
      "  <div class=\"tags\">\n",
      "   <span class=\"tag-item\">\n",
      "    用户增长\n",
      "   </span>\n",
      "   <span class=\"tag-item\">\n",
      "    生命周期管理\n",
      "   </span>\n",
      "   <span class=\"tag-item\">\n",
      "    用户行为分析\n",
      "   </span>\n",
      "   <span class=\"tag-item\">\n",
      "    电子商务\n",
      "   </span>\n",
      "   <span class=\"tag-item\">\n",
      "    驱动增长\n",
      "   </span>\n",
      "  </div>\n",
      "  <div class=\"info-desc\">\n",
      "   年终奖，带薪年假，股票期权，五险一金，定期体检，加班补助，员工旅游，补充医疗保险，免费班车，餐补，交通补助，节日福利\n",
      "  </div>\n",
      " </div>\n",
      "</div>\n",
      "<div class=\"job-primary\">\n",
      " <div class=\"info-primary\">\n",
      "  <div class=\"primary-wrapper\">\n",
      "   <div class=\"primary-box\" data-index=\"11\" data-itemid=\"42\" data-jid=\"0afa7ec3a285ec003nV72di6GFU~\" data-jobid=\"91125787\" data-lid=\"nlp-7pjAjobJYgm.search.42\" href=\"/job_detail/0afa7ec3a285ec003nV72di6GFU~.html\" ka=\"search_list_42\" target=\"_blank\">\n",
      "    <div class=\"job-title\">\n",
      "     <span class=\"job-name\">\n",
      "      <a data-index=\"11\" data-itemid=\"42\" data-jid=\"0afa7ec3a285ec003nV72di6GFU~\" data-jobid=\"91125787\" data-lid=\"nlp-7pjAjobJYgm.search.42\" href=\"https://www.zhipin.com/job_detail/0afa7ec3a285ec003nV72di6GFU~.html\" ka=\"search_list_jname_42\" target=\"_blank\" title=\"用户运营\">\n",
      "       用户运营\n",
      "      </a>\n",
      "     </span>\n",
      "     <span class=\"job-area-wrapper\">\n",
      "      <span class=\"job-area\">\n",
      "       杭州·西湖区·西溪\n",
      "      </span>\n",
      "     </span>\n",
      "     <span class=\"job-pub-time\">\n",
      "      发布于08月03日\n",
      "     </span>\n",
      "    </div>\n",
      "    <div class=\"job-limit clearfix\">\n",
      "     <span class=\"red\">\n",
      "      7-10K\n",
      "     </span>\n",
      "     <p>\n",
      "      1-3年\n",
      "      <em class=\"vline\">\n",
      "      </em>\n",
      "      本科\n",
      "     </p>\n",
      "     <div class=\"info-publis\">\n",
      "      <h3 class=\"name\">\n",
      "       <img class=\"icon-chat\" src=\"data:image/png;base64,iVBORw0KGgoAAAANSUhEUgAAABoAAAAaCAYAAACpSkzOAAAC/0lEQVRIia2WvW4aQRCAt3DpIu8QyU26NGlygM8G7oxtOFvITYrkDdKgSKnyCuF1AN3+sH/HRbhFqdPQ0jMpdvduOZbYRU769I1mdmYOYXlB6IXno9YXkaCTSOJZxMmmzfGuzfEu4mQTSTyLBJ1caX3x0pyTT1zK9y1B5y2eQ4vjIJGtRTyHSOTzqJTvX73gB8DZJcfTliR7s+Q0bY4rtzmGliT7mOPpD8jP/rnk83r9pi3ooiMwdIRpdm5zDG3hWWBo87y2jyCL0Tp/E1ySQ34WC7ro8Bw6HBuEZ4Ghw/Pafmzrl55jQRc5wPEniyWeXnJz6JJbhOcQL5yPOZ4effGxovtYYPivKLqP/T+QrqDzK4GhSew5buSuBIYrSWr7sXemK+gcIYRQpvXFtSTwKgSubQdde0Ov7ZJmX6b1BUrEctKVBLp2QNcb1MQ/E6LZ7+JktZygvmSzniTQs4d7XqOfMzGubCCeQ+eN+5LNUKrZpicx9CSGviSV/djVe1VMGvGpuiHRbIP6kuzc4IoV/T7ebs/7K/rdzyeqrqW2lqjjnkTVeesdSiTZuUJiC+Pt9hwhhMbb7bnLufpRTf47b9mhVJLfqaKQKgqJJJAqCqn31okkkDoUOailyuaO8mae46ZgG3RbsPmNImCgnimkNnbD/Fy4XvtGmZe7UQQGks3QQLNvA0VhYJcMqmXkIGcgnkkjF0Ab3/5aTtDdc/HONd7axltFDdpzgIGqHXoRN+/JXYzDFZvd2aHOYYhnYs8ah/pNzGbV/7rHUn640xTubcN9I747hfIcYrXcP5Xl4a07VOznvaZwr+pFRyjPqpHTFIaaVR5qBqOSH14T5uKDs2FByahgMNQ0jKsV7DCuzrDKmebhiw8hhLKCfxlpBqPComntIMxzHT9ouvi6Xoevcrco0xQyzSCzjZmuF2V2aVawMKvl/qHk05OfxD0Pa/n5oWDwWjJNK2cFm39qfvGnnqeyfDsu+Z9Tgx+txyXbPRZs87his/Gv5eTp+eUfkH8B95QiEYjrEUMAAAAASUVORK5CYII=\"/>\n",
      "       张莎莎\n",
      "       <em class=\"vline\">\n",
      "       </em>\n",
      "       HRM\n",
      "      </h3>\n",
      "     </div>\n",
      "     <button class=\"btn btn-startchat sf-hidden\" data-url=\"/wapi/zpgeek/friend/add.json?jobId=0afa7ec3a285ec003nV72di6GFU~&amp;lid=nlp-7pjAjobJYgm.search.42\" href=\"javascript:;\" redirect-url=\"/web/geek/chat?id=245340ddf1dae6eb1HR82tS1E1o~\">\n",
      "      <img alt=\"\" class=\"icon-chat icon-chat-hover\" data-single-file-origin-u-r-l=\"https://z.zhipin.com/web/geek/resource/icon-chat-hover-v2.png\" src=\"data:image/gif;base64,R0lGODlhAQABAAAAACH5BAEKAAEALAAAAAABAAEAAAICTAEAOw==\"/>\n",
      "      <span>\n",
      "       立即沟通\n",
      "      </span>\n",
      "     </button>\n",
      "    </div>\n",
      "    <div class=\"info-detail sf-hidden\">\n",
      "    </div>\n",
      "   </div>\n",
      "  </div>\n",
      "  <div class=\"info-company\">\n",
      "   <div class=\"company-text\">\n",
      "    <h3 class=\"name\">\n",
      "     <a href=\"https://www.zhipin.com/gongsi/f9ffb80fccb8cb821HF73dk~.html\" ka=\"search_list_company_42_custompage\" target=\"_blank\" title=\"二更招聘\">\n",
      "      二更\n",
      "     </a>\n",
      "    </h3>\n",
      "    <p>\n",
      "     <a class=\"false-link\" href=\"https://www.zhipin.com/i100020/\" ka=\"search_list_company_industry_42_custompage\" target=\"_blank\" title=\"互联网行业招聘信息\">\n",
      "      互联网\n",
      "     </a>\n",
      "     <em class=\"vline\">\n",
      "     </em>\n",
      "     B轮\n",
      "     <em class=\"vline\">\n",
      "     </em>\n",
      "     500-999人\n",
      "    </p>\n",
      "   </div>\n",
      "   <a href=\"https://www.zhipin.com/gongsi/f9ffb80fccb8cb821HF73dk~.html\" ka=\"search_list_company_42_custompage_logo\" target=\"_blank\">\n",
      "    <img alt=\"\" class=\"company-logo\" src=\"data:image/png;base64,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\"/>\n",
      "   </a>\n",
      "  </div>\n",
      " </div>\n",
      " <div class=\"info-append clearfix\">\n",
      "  <div class=\"tags\">\n",
      "   <span class=\"tag-item\">\n",
      "    用户行为分析\n",
      "   </span>\n",
      "   <span class=\"tag-item\">\n",
      "    社群搭建\n",
      "   </span>\n",
      "   <span class=\"tag-item\">\n",
      "    用户增长\n",
      "   </span>\n",
      "   <span class=\"tag-item\">\n",
      "    拼团\n",
      "   </span>\n",
      "   <span class=\"tag-item\">\n",
      "    社群运营\n",
      "   </span>\n",
      "  </div>\n",
      "  <div class=\"info-desc\">\n",
      "   五险一金，员工旅游，补充医疗保险，带薪年假，餐补，年终奖，定期体检，节日福利\n",
      "  </div>\n",
      " </div>\n",
      "</div>\n",
      "<div class=\"job-primary\">\n",
      " <div class=\"info-primary\">\n",
      "  <div class=\"primary-wrapper\">\n",
      "   <div class=\"primary-box\" data-index=\"12\" data-itemid=\"43\" data-jid=\"12b557476d94cee63nV-2di8F1c~\" data-jobid=\"91425175\" data-lid=\"nlp-7pjAjobJYgm.search.43\" href=\"/job_detail/12b557476d94cee63nV-2di8F1c~.html\" ka=\"search_list_43\" target=\"_blank\">\n",
      "    <div class=\"job-title\">\n",
      "     <span class=\"job-name\">\n",
      "      <a data-index=\"12\" data-itemid=\"43\" data-jid=\"12b557476d94cee63nV-2di8F1c~\" data-jobid=\"91425175\" data-lid=\"nlp-7pjAjobJYgm.search.43\" href=\"https://www.zhipin.com/job_detail/12b557476d94cee63nV-2di8F1c~.html\" ka=\"search_list_jname_43\" target=\"_blank\" title=\"资深用户运营\">\n",
      "       资深用户运营\n",
      "      </a>\n",
      "     </span>\n",
      "     <span class=\"job-area-wrapper\">\n",
      "      <span class=\"job-area\">\n",
      "       杭州·拱墅区·城西银泰城\n",
      "      </span>\n",
      "     </span>\n",
      "     <span class=\"job-pub-time\">\n",
      "      发布于昨天\n",
      "     </span>\n",
      "    </div>\n",
      "    <div class=\"job-limit clearfix\">\n",
      "     <span class=\"red\">\n",
      "      10-15K\n",
      "     </span>\n",
      "     <p>\n",
      "      3-5年\n",
      "      <em class=\"vline\">\n",
      "      </em>\n",
      "      本科\n",
      "     </p>\n",
      "     <div class=\"info-publis\">\n",
      "      <h3 class=\"name\">\n",
      "       <img class=\"icon-chat\" src=\"data:image/png;base64,iVBORw0KGgoAAAANSUhEUgAAABoAAAAaCAYAAACpSkzOAAAC/0lEQVRIia2WvW4aQRCAt3DpIu8QyU26NGlygM8G7oxtOFvITYrkDdKgSKnyCuF1AN3+sH/HRbhFqdPQ0jMpdvduOZbYRU769I1mdmYOYXlB6IXno9YXkaCTSOJZxMmmzfGuzfEu4mQTSTyLBJ1caX3x0pyTT1zK9y1B5y2eQ4vjIJGtRTyHSOTzqJTvX73gB8DZJcfTliR7s+Q0bY4rtzmGliT7mOPpD8jP/rnk83r9pi3ooiMwdIRpdm5zDG3hWWBo87y2jyCL0Tp/E1ySQ34WC7ro8Bw6HBuEZ4Ghw/Pafmzrl55jQRc5wPEniyWeXnJz6JJbhOcQL5yPOZ4effGxovtYYPivKLqP/T+QrqDzK4GhSew5buSuBIYrSWr7sXemK+gcIYRQpvXFtSTwKgSubQdde0Ov7ZJmX6b1BUrEctKVBLp2QNcb1MQ/E6LZ7+JktZygvmSzniTQs4d7XqOfMzGubCCeQ+eN+5LNUKrZpicx9CSGviSV/djVe1VMGvGpuiHRbIP6kuzc4IoV/T7ebs/7K/rdzyeqrqW2lqjjnkTVeesdSiTZuUJiC+Pt9hwhhMbb7bnLufpRTf47b9mhVJLfqaKQKgqJJJAqCqn31okkkDoUOailyuaO8mae46ZgG3RbsPmNImCgnimkNnbD/Fy4XvtGmZe7UQQGks3QQLNvA0VhYJcMqmXkIGcgnkkjF0Ab3/5aTtDdc/HONd7axltFDdpzgIGqHXoRN+/JXYzDFZvd2aHOYYhnYs8ah/pNzGbV/7rHUn640xTubcN9I747hfIcYrXcP5Xl4a07VOznvaZwr+pFRyjPqpHTFIaaVR5qBqOSH14T5uKDs2FByahgMNQ0jKsV7DCuzrDKmebhiw8hhLKCfxlpBqPComntIMxzHT9ouvi6Xoevcrco0xQyzSCzjZmuF2V2aVawMKvl/qHk05OfxD0Pa/n5oWDwWjJNK2cFm39qfvGnnqeyfDsu+Z9Tgx+txyXbPRZs87his/Gv5eTp+eUfkH8B95QiEYjrEUMAAAAASUVORK5CYII=\"/>\n",
      "       汤女士\n",
      "       <em class=\"vline\">\n",
      "       </em>\n",
      "       HR\n",
      "      </h3>\n",
      "     </div>\n",
      "     <button class=\"btn btn-startchat sf-hidden\" data-url=\"/wapi/zpgeek/friend/add.json?jobId=12b557476d94cee63nV-2di8F1c~&amp;lid=nlp-7pjAjobJYgm.search.43\" href=\"javascript:;\" redirect-url=\"/web/geek/chat?id=e8979090e7252c240XN72dy7E1c~\">\n",
      "      <img alt=\"\" class=\"icon-chat icon-chat-hover\" data-single-file-origin-u-r-l=\"https://z.zhipin.com/web/geek/resource/icon-chat-hover-v2.png\" src=\"data:image/gif;base64,R0lGODlhAQABAAAAACH5BAEKAAEALAAAAAABAAEAAAICTAEAOw==\"/>\n",
      "      <span>\n",
      "       立即沟通\n",
      "      </span>\n",
      "     </button>\n",
      "    </div>\n",
      "    <div class=\"info-detail sf-hidden\">\n",
      "    </div>\n",
      "   </div>\n",
      "  </div>\n",
      "  <div class=\"info-company\">\n",
      "   <div class=\"company-text\">\n",
      "    <h3 class=\"name\">\n",
      "     <a href=\"https://www.zhipin.com/gongsi/4bc385d9cd06b9d51nd_29m0Fg~~.html\" ka=\"search_list_company_43_custompage\" target=\"_blank\" title=\"潘哒教育招聘\">\n",
      "      潘哒教育\n",
      "     </a>\n",
      "    </h3>\n",
      "    <p>\n",
      "     <a class=\"false-link\" href=\"https://www.zhipin.com/i100012/\" ka=\"search_list_company_industry_43_custompage\" target=\"_blank\" title=\"在线教育行业招聘信息\">\n",
      "      在线教育\n",
      "     </a>\n",
      "     <em class=\"vline\">\n",
      "     </em>\n",
      "     A轮\n",
      "     <em class=\"vline\">\n",
      "     </em>\n",
      "     500-999人\n",
      "    </p>\n",
      "   </div>\n",
      "   <a href=\"https://www.zhipin.com/gongsi/4bc385d9cd06b9d51nd_29m0Fg~~.html\" ka=\"search_list_company_43_custompage_logo\" target=\"_blank\">\n",
      "    <img alt=\"\" class=\"company-logo\" src=\"data:image/jpeg;base64,/9j/4AAQSkZJRgABAQAAAQABAAD/4gxYSUNDX1BST0ZJTEUAAQEAAAxITGlubwIQAABtbnRyUkdCIFhZWiAHzgACAAkABgAxAABhY3NwTVNGVAAAAABJRUMgc1JHQgAAAAAAAAAAAAAAAAAA9tYAAQAAAADTLUhQICAAAAAAAAAAAAAAAAAAAAAAAAAAAAAAAAAAAAAAAAAAAAAAAAAAAAAAAAAAAAAAABFjcHJ0AAABUAAAADNkZXNjAAABhAAAAGx3dHB0AAAB8AAAABRia3B0AAACBAAAABRyWFlaAAACGAAAABRnWFlaAAACLAAAABRiWFlaAAACQAAAABRkbW5kAAACVAAAAHBkbWRkAAACxAAAAIh2dWVkAAADTAAAAIZ2aWV3AAAD1AAAACRsdW1pAAAD+AAAABRtZWFzAAAEDAAAACR0ZWNoAAAEMAAAAAxyVFJDAAAEPAAACAxnVFJDAAAEPAAACAxiVFJDAAAEPAAACAx0ZXh0AAAAAENvcHlyaWdodCAoYykgMTk5OCBIZXdsZXR0LVBhY2thcmQgQ29tcGFueQAAZGVzYwAAAAAAAAASc1JHQiBJRUM2MTk2Ni0yLjEAAAAAAAAAAAAAABJzUkdCIElFQzYxOTY2LTIuMQAAAAAAAAAAAAAAAAAAAAAAAAAAAAAAAAAAAAAAAAAAAAAAAAAAAAAAAAAAAAAAAAAAWFlaIAAAAAAAAPNRAAEAAAABFsxYWVogAAAAAAAAAAAAAAAAAAAAAFhZWiAAAAAAAABvogAAOPUAAAOQWFlaIAAAAAAAAGKZAAC3hQAAGNpYWVogAAAAAAAAJKAAAA+EAAC2z2Rlc2MAAAAAAAAAFklFQyBodHRwOi8vd3d3LmllYy5jaAAAAAAAAAAAAAAAFklFQyBodHRwOi8vd3d3LmllYy5jaAAAAAAAAAAAAAAAAAAAAAAAAAAAAAAAAAAAAAAAAAAAAAAAAAAAAAAAAAAAAABkZXNjAAAAAAAAAC5JRUMgNjE5NjYtMi4xIERlZmF1bHQgUkdCIGNvbG91ciBzcGFjZSAtIHNSR0IAAAAAAAAAAAAAAC5JRUMgNjE5NjYtMi4xIERlZmF1bHQgUkdCIGNvbG91ciBzcGFjZSAtIHNSR0IAAAAAAAAAAAAAAAAAAAAAAAAAAAAAZGVzYwAAAAAAAAAsUmVmZXJlbmNlIFZpZXdpbmcgQ29uZGl0aW9uIGluIElFQzYxOTY2LTIuMQAAAAAAAAAAAAAALFJlZmVyZW5jZSBWaWV3aW5nIENvbmRpdGlvbiBpbiBJRUM2MTk2Ni0yLjEAAAAAAAAAAAAAAAAAAAAAAAAAAAAAAAAAAHZpZXcAAAAAABOk/gAUXy4AEM8UAAPtzAAEEwsAA1yeAAAAAVhZWiAAAAAAAEwJVgBQAAAAVx/nbWVhcwAAAAAAAAABAAAAAAAAAAAAAAAAAAAAAAAAAo8AAAACc2lnIAAAAABDUlQgY3VydgAAAAAAAAQAAAAABQAKAA8AFAAZAB4AIwAoAC0AMgA3ADsAQABFAEoATwBUAFkAXgBjAGgAbQByAHcAfACBAIYAiwCQAJUAmgCfAKQAqQCuALIAtwC8AMEAxgDLANAA1QDbAOAA5QDrAPAA9gD7AQEBBwENARMBGQEfASUBKwEyATgBPgFFAUwBUgFZAWABZwFuAXUBfAGDAYsBkgGaAaEBqQGxAbkBwQHJAdEB2QHhAekB8gH6AgMCDAIUAh0CJgIvAjgCQQJLAlQCXQJnAnECegKEAo4CmAKiAqwCtgLBAssC1QLgAusC9QMAAwsDFgMhAy0DOANDA08DWgNmA3IDfgOKA5YDogOuA7oDxwPTA+AD7AP5BAYEEwQgBC0EOwRIBFUEYwRxBH4EjASaBKgEtgTEBNME4QTwBP4FDQUcBSsFOgVJBVgFZwV3BYYFlgWmBbUFxQXVBeUF9gYGBhYGJwY3BkgGWQZqBnsGjAadBq8GwAbRBuMG9QcHBxkHKwc9B08HYQd0B4YHmQesB78H0gflB/gICwgfCDIIRghaCG4IggiWCKoIvgjSCOcI+wkQCSUJOglPCWQJeQmPCaQJugnPCeUJ+woRCicKPQpUCmoKgQqYCq4KxQrcCvMLCwsiCzkLUQtpC4ALmAuwC8gL4Qv5DBIMKgxDDFwMdQyODKcMwAzZDPMNDQ0mDUANWg10DY4NqQ3DDd4N+A4TDi4OSQ5kDn8Omw62DtIO7g8JDyUPQQ9eD3oPlg+zD88P7BAJECYQQxBhEH4QmxC5ENcQ9RETETERTxFtEYwRqhHJEegSBxImEkUSZBKEEqMSwxLjEwMTIxNDE2MTgxOkE8UT5RQGFCcUSRRqFIsUrRTOFPAVEhU0FVYVeBWbFb0V4BYDFiYWSRZsFo8WshbWFvoXHRdBF2UXiReuF9IX9xgbGEAYZRiKGK8Y1Rj6GSAZRRlrGZEZtxndGgQaKhpRGncanhrFGuwbFBs7G2MbihuyG9ocAhwqHFIcexyjHMwc9R0eHUcdcB2ZHcMd7B4WHkAeah6UHr4e6R8THz4faR+UH78f6iAVIEEgbCCYIMQg8CEcIUghdSGhIc4h+yInIlUigiKvIt0jCiM4I2YjlCPCI/AkHyRNJHwkqyTaJQklOCVoJZclxyX3JicmVyaHJrcm6CcYJ0kneierJ9woDSg/KHEooijUKQYpOClrKZ0p0CoCKjUqaCqbKs8rAis2K2krnSvRLAUsOSxuLKIs1y0MLUEtdi2rLeEuFi5MLoIuty7uLyQvWi+RL8cv/jA1MGwwpDDbMRIxSjGCMbox8jIqMmMymzLUMw0zRjN/M7gz8TQrNGU0njTYNRM1TTWHNcI1/TY3NnI2rjbpNyQ3YDecN9c4FDhQOIw4yDkFOUI5fzm8Ofk6Njp0OrI67zstO2s7qjvoPCc8ZTykPOM9Ij1hPaE94D4gPmA+oD7gPyE/YT+iP+JAI0BkQKZA50EpQWpBrEHuQjBCckK1QvdDOkN9Q8BEA0RHRIpEzkUSRVVFmkXeRiJGZ0arRvBHNUd7R8BIBUhLSJFI10kdSWNJqUnwSjdKfUrESwxLU0uaS+JMKkxyTLpNAk1KTZNN3E4lTm5Ot08AT0lPk0/dUCdQcVC7UQZRUFGbUeZSMVJ8UsdTE1NfU6pT9lRCVI9U21UoVXVVwlYPVlxWqVb3V0RXklfgWC9YfVjLWRpZaVm4WgdaVlqmWvVbRVuVW+VcNVyGXNZdJ114XcleGl5sXr1fD19hX7NgBWBXYKpg/GFPYaJh9WJJYpxi8GNDY5dj62RAZJRk6WU9ZZJl52Y9ZpJm6Gc9Z5Nn6Wg/aJZo7GlDaZpp8WpIap9q92tPa6dr/2xXbK9tCG1gbbluEm5rbsRvHm94b9FwK3CGcOBxOnGVcfByS3KmcwFzXXO4dBR0cHTMdSh1hXXhdj52m3b4d1Z3s3gReG54zHkqeYl553pGeqV7BHtje8J8IXyBfOF9QX2hfgF+Yn7CfyN/hH/lgEeAqIEKgWuBzYIwgpKC9INXg7qEHYSAhOOFR4Wrhg6GcobXhzuHn4gEiGmIzokziZmJ/opkisqLMIuWi/yMY4zKjTGNmI3/jmaOzo82j56QBpBukNaRP5GokhGSepLjk02TtpQglIqU9JVflcmWNJaflwqXdZfgmEyYuJkkmZCZ/JpomtWbQpuvnByciZz3nWSd0p5Anq6fHZ+Ln/qgaaDYoUehtqImopajBqN2o+akVqTHpTilqaYapoum/adup+CoUqjEqTepqaocqo+rAqt1q+msXKzQrUStuK4trqGvFq+LsACwdbDqsWCx1rJLssKzOLOutCW0nLUTtYq2AbZ5tvC3aLfguFm40blKucK6O7q1uy67p7whvJu9Fb2Pvgq+hL7/v3q/9cBwwOzBZ8Hjwl/C28NYw9TEUcTOxUvFyMZGxsPHQce/yD3IvMk6ybnKOMq3yzbLtsw1zLXNNc21zjbOts83z7jQOdC60TzRvtI/0sHTRNPG1EnUy9VO1dHWVdbY11zX4Nhk2OjZbNnx2nba+9uA3AXcit0Q3ZbeHN6i3ynfr+A24L3hROHM4lPi2+Nj4+vkc+T85YTmDeaW5x/nqegy6LzpRunQ6lvq5etw6/vshu0R7ZzuKO6070DvzPBY8OXxcvH/8ozzGfOn9DT0wvVQ9d72bfb794r4Gfio+Tj5x/pX+uf7d/wH/Jj9Kf26/kv+3P9t////2wBDAAIBAQIBAQICAgICAgICAwUDAwMDAwYEBAMFBwYHBwcGBwcICQsJCAgKCAcHCg0KCgsMDAwMBwkODw0MDgsMDAz/2wBDAQICAgMDAwYDAwYMCAcIDAwMDAwMDAwMDAwMDAwMDAwMDAwMDAwMDAwMDAwMDAwMDAwMDAwMDAwMDAwMDAwMDAz/wAARCABkAGQDAREAAhEBAxEB/8QAHgABAAEFAQEBAQAAAAAAAAAAAAkEBQYHCAoCAQP/xAA4EAABAwQBAwIEAwYFBQAAAAACAQMEAAUGBxEICRITIQoUIjEVMkEWIzNRYWIXGCSBkkNWcZXS/8QAHAEBAAICAwEAAAAAAAAAAAAAAAECBAUDBgcI/8QAMREAAgEDBAAEBAQHAQAAAAAAAAECAwQRBRIhMQYTQVEHFGFxIjJSkRYzYoGSobHh/9oADAMBAAIRAxEAPwCfygFAKAUAoBQCgFAKAUAoBQCgFAKAUAoBQFsseaWfJ7hcYltu1suMq0PfLTmY0oHnITvHPpuiKqoFx78FwtAXOgFAKAUAoBQCgFAKAUBHH8SV3Hs36Cul7F7VrqadkynZNwkQvxlsUV62RGGwJ5WVX2F41daFD+4j5qnBeJCJSIW+3FuTrC2z1SRHNH5VsfJsxR0Zdw+Yuz0q3G35fUdwWQasK0q+3Lq+6/l+rihZ4OxtTdovO2+5pe8Y35G2Fj+WbjOVllm2Rquc+3a7bPcV2VLiPm40qC15Ko+/iYkLfuQOoSCMnbLfY43Riao5ivXZv+A8z/AC6vvXSOPH2QmilCKp/tQjJz53OtPdybUfTHcbU1s6LtDCYarIuN6w+CNqyhIoivIPNtCBqzx7l6Cmaoi+a+PNCVgjT7cHdu210I9QFkvEbLshveHyZzQZBj0+c7KiXGMRojqiBqqNvoKqoODwSEiIvkKkKiWj1oIvKUKCgFAKAUAoBQEavxSeq8X2N2+rI5cW5bucM5dAgYWzFRFcnTpSk25GJF+4EwLh+3v5st+/HKKJR1Z21OgfF+3X0q49gdhhRBuyRm5ORXNsE9W8XEgT1niL7qKFyLYr+UEFP5qohs3hZ8ntuQuPhb7jBnHFLweGO+Dqsl/IkFV4X+i0BWkSCKqqoiJ7qq/pQFHZMmtuTNOOW24QbgDJ+DhRnxdQC/kqiq8L/SgIOO6L2std6F70eisvnQvwvUW68rYC7Q4gCEeHdxeBSZX9AYkmbJF/JCk+PCCPAsnwTqUKigFAKAUAoBQEdndFb/xg7vPQ9rd767bEvF4zKSyvuLjsGOD8clT+1Y7v/NaEroj6+In7yOY7j6hsg0Nre+T7JgmISitF9ctzxMv5HcRXxfacMVQvl2j5a9P7GYGReSeCCJSNL3/plyPsl9RuIX+07ltEvcmJBb71lGF22FMaRmC+415xFlcKzLQgcFDb+lfAvMefFFoM5JKviity5Fb9b6p1Zb8u/YXFdhyrpcMrvJet6YQbe3G/cmLKK44BlK/hCn1mLSLwiqtCERPbi0xsLs+5Vqbb+otuJfca2ZbnLrjWSWiO9bvnhjm2kiLLhuqvsKutoTbnkJeSoqIqKiC3ZJT3FOrSB3TPh4Q3bBjtWnLtdZFbJ1wjxlXm1XZmU1Ee9NV5VAJuaLwIqqqA4HKqqLQhdksujtg/4taVw/K0ERTJrJCu3A/ZPXYB3hP+dCplNAKAUAoBQCgIw+8xt2zdFPdE6Qd7ZLPYj4tbHbzjl591cehMSGPS+ZRoeXDABlOEXgKqnpInCqQoolEDnX7Owu99ZexrxrvKxzLDshv0u82y5fJyYbnpyXSe9I23wA/NtTUFLjgvFCT78ILIlc7b3SJvPuP2/Edw9REvA42uMMgsSoV3mQLeF6zVuESOxWZ85oVeSA062Ju+qaK56fuJKvqDWc4wi5SeEjkoW9SvVjQoRcpyaSSTbbfCSS5bfokbn2PBz3vD4/dMIy4NPYptLX/N3waZYX3sits1xANmc3O9ZlWFgSWzab9P6zReCISQUEtbbazZ3Fb5ehPdLGeOv36O4av8OvEOk6atV1O2dKk5KK3NKTby0tud3SfaRD33Ust3yO6rTg+9oNqx6dr23JbLHj1mjw4tptENeFT5ZqL+7EXPEV8vzKgii8IKIm0Olo3XqXq+1RpbsM7A0pa8vPINv7fyaJOk2cLdKYj2ZlH4i8FIdbFk1RuH9Sif5nxRORBSoPU9IPTdrs9QdO+BYk483IcxfHLfaCdAvIXVjxm2lJF/VF8OeaFDNKAUAoBQCgFAedb4s/VWc2zrrx7MLpFuD+CXXGo1vsk1BIokd5px4n43P2F3yL1OPuQuDxz4rwLRIqKFjrftDdy7IOgDqQtDE+8OHqPLJzVvzWyyxOTAdgvKjT0pGRQl9ZpslNFAfI0BQXlC4qs4qUXGSymclGtUo1I1qMnGUWmmuGmuU0/dMkO68+8N04dMvSvkDfR3k0U9pZrLatUm4Bb7o3JstuIXHHn2HJrQgJIQNtiIryiuofCq2iprrDR7SzlKVtDDffb/AOnbvFHxB8QeIqVOhrFw6kKfKWIxWcYy9qWXj1ecc47ZCJe75Nya8Srjcpkq4XCc6T8mVJdJ16Q4S8kZmSqpEqqqqqryqrWzOmnxbLZJvVyjw4cd+XLluCywwy2rjjxkvAiIp7kSqqIiJ7qq0B7A+2LguZax7fGn8f2AMlvL7Ri8ONcGZC8vxVEP3bLnP/Ubb8AL+4FocbN7UAoBQCgFAKA19tDduqrVeSxDNMu19GuEtGlKyXu6QweeRwuGv9O6XkXkScD9Puqe1AVn+WvXP/YGE/8Ao4v/AMUBVWnQ2DWCQTsHDMUhOmKgRsWiO2RCv3RVQE9v6UBb7xYdZY9k1txy4QsEg3nKAfG32uQzEalXYWg83kaZJEJ5ABeT8UXxReV4SgP5X7Q+rsXsc253DCMGiwLcwcmS+djjeLLQCpGa/R9kFFX/AGqlSpGEXObwlyzItLWrc14W1CO6c2oxS7bbwkvuywagyTRWSX9iRhDusTvA8+j+GNw25o8+3sIojic/+KxLfU7Su8UakW/ZNZ/Y32reC9f0uLqahZ1acV6yhJR/yxj/AGbfrOOsigFAKAUAoBQEC/fUkacY7k29R2u153R3SrAYKXhIJRv/AKv+n49L2RePP3d+jxQ/1VORZF6PubbL0rt+BfdhbHyew2nQdiwCxua5gyWYszOrhc7S29Odkq8JKSNmjhEvgS+KAgq0RedCMFRiPVp1D411RQ85d3ZklxwiL1WyNPphclkHI7kB99TMieVfIhFpUbbAhX01TyEk+1CcGAa66rtg5t1W9P3U3lWwlzy8Xa3bQvULCUAEj4M5bLRKVu3CIF5IrrYxyVCESVPAuSUvNQOm+0n185Lk15yDDs12nL27l2d6qXaMqTd32XLBhrvm4BWomGgVwfoeYcdFCQUH6RbFfcse7ltoTlxwn3116/T3NtoFBVtUtqL3fiqQX4GlPmSX4G+FL9LfGcZPm54JhmyZM/8AGc/0TiSXWb889LsFvur8mOaryqNC6giAf2CqCn6IleVSoW1ZvzKtKGXnMVNtfbPX26PuqhqusadGn8nYX1x5cdijWnQjFr03OLbk/wCppy92yUPSFlj47p3GIUS8zciiMWyOjFzlkpPT21bRRdJV9/qRUX390TjmvU7GChbwjGTksLl9v6nw14nualxq9zWq0Y0ZOcswj+WDy8xX2ftwZTWUaIUAoBQCgFARodybuNau6Het7I1k6RteaZ/+wrcx2+yLlHaKR6avSI0Um3eUFsFikSmn77kx9NpxEJUEmp+uTrb6fM0tGBbc2B0qQcquW1MZlvQr1dZzlqNZVudk+nbyccYBxXSKIygOCHkoPiPCioi4CyUsbuKaUkdIEPbjfTriTVtlbseyL8OnbAYt0pm8Aww8N7UXuCKSQOqSMCKioCJ/lNKDBfOlzqs6d8yWTu6N044Fgl6hbEi4/Gmu5Q0Tsly+NkzMkm0234sEsZCJGpIA26Kn4Gh+Q0DK3tB7N0N1Qbi2hjWF6Y11pjJomMXW2tXOx3ibKmT4DskWZDyMvw44i0Lvp/xCR0fEE9MQ904LmkqtGdNvGU1n7o2Wj307LUKF5CO905xko+7jJPH98YKi3BarfHDBw3Fptu3xYL1jHnHpZsSgcJzylOSSj+CSEU/pMXPFPEff25Xy2PlxXyquKeEnH8rw8+reMZ+ucH3LWd1Uk9blpF45ylGr/OpqUXFRxCNNVN3lvHMXDc8vjniTLQmCN6w0piuPM3Vb4zZ7YxGbuHKKksRBEQx4VU8VT8qcrwPHuv3r03T6CoW1OipbtqSz7nxP4r1WWp6zdX8qXlOpOUnD9Lb6fC5Xrwuc8Iy6sw6+KAUAoBQCgONet3tAWXrP3lNzKZfrLAZu9th2u526bj5z0nssG4S8ujLZMORMUFA8UEh81Qy8VADVW6/h18d3BhGB46mzLtAtGB2+bDisybQN0V83J8idHJTkvGYgLjwC82JcSBYbTlpE9hOT9t/w5uDz+m4cGvmVuvT3MojXxydaYky2xI0QI0WE/CjxUmn7vQo5Mq/IcfJPmHiROS4oMmxLP2VLFieL7Ot9n2Tm4Sc/yeyZDEnXaU9e3rU1aXmH4kF0ZbzgS2W3GlQVcFD9NQAycQEVQyW/oo7KwdImf5veHdjvX2Pl+Ky8WJmPa34jjiPvI587JVyY+2ckAFGx+XajtoKr9H244biiqtKVJvG5NfusGw0nUJWN9RvoRUnSnGaT6e1p4f0eDcWK9DZ2jo1LWkiXiyXtY7kUb03j7ToiJOqvmTbir5OeCqnnyiovCp7pyujpaFt075JuO7GN21e/s/XHqenX/wAUFW8X/wASU4VfK3KXlOtJPKjjClHqO7nbhrHD4eDcWmNYx9L6ox/FIkqROj2CC3CCQ/x6jyAnHkqJ7J/RE+ycJ+lbiytVbUIUIvKisHnfiTW6msapcapVioyrScml0svr/wB9ezJqyjSCgFAKAUAoBQCgFAKAUAoBQCgFAKAUAoBQCgFAKAUAoBQCgFAKAUB//9k=\"/>\n",
      "   </a>\n",
      "  </div>\n",
      " </div>\n",
      " <div class=\"info-append clearfix\">\n",
      "  <div class=\"tags\">\n",
      "   <span class=\"tag-item\">\n",
      "    社群运营\n",
      "   </span>\n",
      "   <span class=\"tag-item\">\n",
      "    用户运营\n",
      "   </span>\n",
      "   <span class=\"tag-item\">\n",
      "    裂变工具\n",
      "   </span>\n",
      "   <span class=\"tag-item\">\n",
      "    拉新\n",
      "   </span>\n",
      "   <span class=\"tag-item\">\n",
      "    用户增长\n",
      "   </span>\n",
      "  </div>\n",
      "  <div class=\"info-desc\">\n",
      "   五险一金，餐补，交通补助，带薪年假，节日福利，年终奖，员工旅游\n",
      "  </div>\n",
      " </div>\n",
      "</div>\n",
      "<div class=\"job-primary\">\n",
      " <div class=\"info-primary\">\n",
      "  <div class=\"primary-wrapper\">\n",
      "   <div class=\"primary-box\" data-index=\"13\" data-itemid=\"44\" data-jid=\"2cad767deba3282933J92t2_GFI~\" data-jobid=\"86710280\" data-lid=\"nlp-7pjAjobJYgm.search.44\" href=\"/job_detail/2cad767deba3282933J92t2_GFI~.html\" ka=\"search_list_44\" target=\"_blank\">\n",
      "    <div class=\"job-title\">\n",
      "     <span class=\"job-name\">\n",
      "      <a data-index=\"13\" data-itemid=\"44\" data-jid=\"2cad767deba3282933J92t2_GFI~\" data-jobid=\"86710280\" data-lid=\"nlp-7pjAjobJYgm.search.44\" href=\"https://www.zhipin.com/job_detail/2cad767deba3282933J92t2_GFI~.html\" ka=\"search_list_jname_44\" target=\"_blank\" title=\"用户运营\">\n",
      "       用户运营\n",
      "      </a>\n",
      "     </span>\n",
      "     <span class=\"job-area-wrapper\">\n",
      "      <span class=\"job-area\">\n",
      "       杭州·西湖区·西湖\n",
      "      </span>\n",
      "     </span>\n",
      "     <span class=\"job-pub-time\">\n",
      "      发布于07月16日\n",
      "     </span>\n",
      "    </div>\n",
      "    <div class=\"job-limit clearfix\">\n",
      "     <span class=\"red\">\n",
      "      30-50K·16薪\n",
      "     </span>\n",
      "     <p>\n",
      "      10年以上\n",
      "      <em class=\"vline\">\n",
      "      </em>\n",
      "      本科\n",
      "     </p>\n",
      "     <div class=\"info-publis\">\n",
      "      <h3 class=\"name\">\n",
      "       <img class=\"icon-chat\" src=\"data:image/png;base64,iVBORw0KGgoAAAANSUhEUgAAABoAAAAaCAYAAACpSkzOAAAC/0lEQVRIia2WvW4aQRCAt3DpIu8QyU26NGlygM8G7oxtOFvITYrkDdKgSKnyCuF1AN3+sH/HRbhFqdPQ0jMpdvduOZbYRU769I1mdmYOYXlB6IXno9YXkaCTSOJZxMmmzfGuzfEu4mQTSTyLBJ1caX3x0pyTT1zK9y1B5y2eQ4vjIJGtRTyHSOTzqJTvX73gB8DZJcfTliR7s+Q0bY4rtzmGliT7mOPpD8jP/rnk83r9pi3ooiMwdIRpdm5zDG3hWWBo87y2jyCL0Tp/E1ySQ34WC7ro8Bw6HBuEZ4Ghw/Pafmzrl55jQRc5wPEniyWeXnJz6JJbhOcQL5yPOZ4effGxovtYYPivKLqP/T+QrqDzK4GhSew5buSuBIYrSWr7sXemK+gcIYRQpvXFtSTwKgSubQdde0Ov7ZJmX6b1BUrEctKVBLp2QNcb1MQ/E6LZ7+JktZygvmSzniTQs4d7XqOfMzGubCCeQ+eN+5LNUKrZpicx9CSGviSV/djVe1VMGvGpuiHRbIP6kuzc4IoV/T7ebs/7K/rdzyeqrqW2lqjjnkTVeesdSiTZuUJiC+Pt9hwhhMbb7bnLufpRTf47b9mhVJLfqaKQKgqJJJAqCqn31okkkDoUOailyuaO8mae46ZgG3RbsPmNImCgnimkNnbD/Fy4XvtGmZe7UQQGks3QQLNvA0VhYJcMqmXkIGcgnkkjF0Ab3/5aTtDdc/HONd7axltFDdpzgIGqHXoRN+/JXYzDFZvd2aHOYYhnYs8ah/pNzGbV/7rHUn640xTubcN9I747hfIcYrXcP5Xl4a07VOznvaZwr+pFRyjPqpHTFIaaVR5qBqOSH14T5uKDs2FByahgMNQ0jKsV7DCuzrDKmebhiw8hhLKCfxlpBqPComntIMxzHT9ouvi6Xoevcrco0xQyzSCzjZmuF2V2aVawMKvl/qHk05OfxD0Pa/n5oWDwWjJNK2cFm39qfvGnnqeyfDsu+Z9Tgx+txyXbPRZs87his/Gv5eTp+eUfkH8B95QiEYjrEUMAAAAASUVORK5CYII=\"/>\n",
      "       张青峰\n",
      "       <em class=\"vline\">\n",
      "       </em>\n",
      "       运营专家\n",
      "      </h3>\n",
      "     </div>\n",
      "     <button class=\"btn btn-startchat sf-hidden\" data-url=\"/wapi/zpgeek/friend/add.json?jobId=2cad767deba3282933J92t2_GFI~&amp;lid=nlp-7pjAjobJYgm.search.44\" href=\"javascript:;\" redirect-url=\"/web/geek/chat?id=52f672fc1fdce2a40X1709m4FVo~\">\n",
      "      <img alt=\"\" class=\"icon-chat icon-chat-hover\" data-single-file-origin-u-r-l=\"https://z.zhipin.com/web/geek/resource/icon-chat-hover-v2.png\" src=\"data:image/gif;base64,R0lGODlhAQABAAAAACH5BAEKAAEALAAAAAABAAEAAAICTAEAOw==\"/>\n",
      "      <span>\n",
      "       立即沟通\n",
      "      </span>\n",
      "     </button>\n",
      "    </div>\n",
      "    <div class=\"info-detail sf-hidden\">\n",
      "    </div>\n",
      "   </div>\n",
      "  </div>\n",
      "  <div class=\"info-company\">\n",
      "   <div class=\"company-text\">\n",
      "    <h3 class=\"name\">\n",
      "     <a href=\"https://www.zhipin.com/gongsi/e9a2427bc19f1b1a33Z_3t0~.html\" ka=\"search_list_company_44_custompage\" target=\"_blank\" title=\"蚂蚁金服招聘\">\n",
      "      蚂蚁金服\n",
      "     </a>\n",
      "    </h3>\n",
      "    <p>\n",
      "     <a class=\"false-link\" href=\"https://www.zhipin.com/i100020/\" ka=\"search_list_company_industry_44_custompage\" target=\"_blank\" title=\"互联网行业招聘信息\">\n",
      "      互联网\n",
      "     </a>\n",
      "     <em class=\"vline\">\n",
      "     </em>\n",
      "     不需要融资\n",
      "     <em class=\"vline\">\n",
      "     </em>\n",
      "     10000人以上\n",
      "    </p>\n",
      "   </div>\n",
      "   <a href=\"https://www.zhipin.com/gongsi/e9a2427bc19f1b1a33Z_3t0~.html\" ka=\"search_list_company_44_custompage_logo\" target=\"_blank\">\n",
      "    <img alt=\"\" class=\"company-logo\" src=\"data:image/jpeg;base64,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\"/>\n",
      "   </a>\n",
      "  </div>\n",
      " </div>\n",
      " <div class=\"info-append clearfix\">\n",
      "  <div class=\"tags\">\n",
      "   <span class=\"tag-item\">\n",
      "    用户增长\n",
      "   </span>\n",
      "   <span class=\"tag-item\">\n",
      "    社群运营\n",
      "   </span>\n",
      "   <span class=\"tag-item\">\n",
      "    活动运营\n",
      "   </span>\n",
      "   <span class=\"tag-item\">\n",
      "    运营专员\n",
      "   </span>\n",
      "   <span class=\"tag-item\">\n",
      "    C端用户运营\n",
      "   </span>\n",
      "  </div>\n",
      "  <div class=\"info-desc\">\n",
      "   节日福利，股票期权，五险一金，包吃，餐补，年终奖，带薪年假，定期体检，免费班车，员工旅游，补充医疗保险\n",
      "  </div>\n",
      " </div>\n",
      "</div>\n",
      "<div class=\"job-primary\">\n",
      " <div class=\"info-primary\">\n",
      "  <div class=\"primary-wrapper\">\n",
      "   <div class=\"primary-box\" data-index=\"14\" data-itemid=\"45\" data-jid=\"27b7b47142ce170733F52NS8Els~\" data-jobid=\"85339129\" data-lid=\"nlp-7pjAjobJYgm.search.45\" href=\"/job_detail/27b7b47142ce170733F52NS8Els~.html\" ka=\"search_list_45\" target=\"_blank\">\n",
      "    <div class=\"job-title\">\n",
      "     <span class=\"job-name\">\n",
      "      <a data-index=\"14\" data-itemid=\"45\" data-jid=\"27b7b47142ce170733F52NS8Els~\" data-jobid=\"85339129\" data-lid=\"nlp-7pjAjobJYgm.search.45\" href=\"https://www.zhipin.com/job_detail/27b7b47142ce170733F52NS8Els~.html\" ka=\"search_list_jname_45\" target=\"_blank\" title=\"用户运营\">\n",
      "       用户运营\n",
      "      </a>\n",
      "     </span>\n",
      "     <span class=\"job-area-wrapper\">\n",
      "      <span class=\"job-area\">\n",
      "       杭州·拱墅区·城西银泰城\n",
      "      </span>\n",
      "     </span>\n",
      "     <span class=\"job-pub-time\">\n",
      "      发布于07月08日\n",
      "     </span>\n",
      "    </div>\n",
      "    <div class=\"job-limit clearfix\">\n",
      "     <span class=\"red\">\n",
      "      5-10K\n",
      "     </span>\n",
      "     <p>\n",
      "      1-3年\n",
      "      <em class=\"vline\">\n",
      "      </em>\n",
      "      本科\n",
      "     </p>\n",
      "     <div class=\"info-publis\">\n",
      "      <h3 class=\"name\">\n",
      "       <img class=\"icon-chat\" src=\"data:image/png;base64,iVBORw0KGgoAAAANSUhEUgAAABoAAAAaCAYAAACpSkzOAAAC/0lEQVRIia2WvW4aQRCAt3DpIu8QyU26NGlygM8G7oxtOFvITYrkDdKgSKnyCuF1AN3+sH/HRbhFqdPQ0jMpdvduOZbYRU769I1mdmYOYXlB6IXno9YXkaCTSOJZxMmmzfGuzfEu4mQTSTyLBJ1caX3x0pyTT1zK9y1B5y2eQ4vjIJGtRTyHSOTzqJTvX73gB8DZJcfTliR7s+Q0bY4rtzmGliT7mOPpD8jP/rnk83r9pi3ooiMwdIRpdm5zDG3hWWBo87y2jyCL0Tp/E1ySQ34WC7ro8Bw6HBuEZ4Ghw/Pafmzrl55jQRc5wPEniyWeXnJz6JJbhOcQL5yPOZ4effGxovtYYPivKLqP/T+QrqDzK4GhSew5buSuBIYrSWr7sXemK+gcIYRQpvXFtSTwKgSubQdde0Ov7ZJmX6b1BUrEctKVBLp2QNcb1MQ/E6LZ7+JktZygvmSzniTQs4d7XqOfMzGubCCeQ+eN+5LNUKrZpicx9CSGviSV/djVe1VMGvGpuiHRbIP6kuzc4IoV/T7ebs/7K/rdzyeqrqW2lqjjnkTVeesdSiTZuUJiC+Pt9hwhhMbb7bnLufpRTf47b9mhVJLfqaKQKgqJJJAqCqn31okkkDoUOailyuaO8mae46ZgG3RbsPmNImCgnimkNnbD/Fy4XvtGmZe7UQQGks3QQLNvA0VhYJcMqmXkIGcgnkkjF0Ab3/5aTtDdc/HONd7axltFDdpzgIGqHXoRN+/JXYzDFZvd2aHOYYhnYs8ah/pNzGbV/7rHUn640xTubcN9I747hfIcYrXcP5Xl4a07VOznvaZwr+pFRyjPqpHTFIaaVR5qBqOSH14T5uKDs2FByahgMNQ0jKsV7DCuzrDKmebhiw8hhLKCfxlpBqPComntIMxzHT9ouvi6Xoevcrco0xQyzSCzjZmuF2V2aVawMKvl/qHk05OfxD0Pa/n5oWDwWjJNK2cFm39qfvGnnqeyfDsu+Z9Tgx+txyXbPRZs87his/Gv5eTp+eUfkH8B95QiEYjrEUMAAAAASUVORK5CYII=\"/>\n",
      "       姚女士\n",
      "       <em class=\"vline\">\n",
      "       </em>\n",
      "       人事专员\n",
      "      </h3>\n",
      "     </div>\n",
      "     <button class=\"btn btn-startchat sf-hidden\" data-url=\"/wapi/zpgeek/friend/add.json?jobId=27b7b47142ce170733F52NS8Els~&amp;lid=nlp-7pjAjobJYgm.search.45\" href=\"javascript:;\" redirect-url=\"/web/geek/chat?id=4c9a26d8b1098eb31Hd-3t-0GFc~\">\n",
      "      <img alt=\"\" class=\"icon-chat icon-chat-hover\" data-single-file-origin-u-r-l=\"https://z.zhipin.com/web/geek/resource/icon-chat-hover-v2.png\" src=\"data:image/gif;base64,R0lGODlhAQABAAAAACH5BAEKAAEALAAAAAABAAEAAAICTAEAOw==\"/>\n",
      "      <span>\n",
      "       立即沟通\n",
      "      </span>\n",
      "     </button>\n",
      "    </div>\n",
      "    <div class=\"info-detail sf-hidden\">\n",
      "    </div>\n",
      "   </div>\n",
      "  </div>\n",
      "  <div class=\"info-company\">\n",
      "   <div class=\"company-text\">\n",
      "    <h3 class=\"name\">\n",
      "     <a href=\"https://www.zhipin.com/gongsi/e29398c82d97008403B409m8.html\" ka=\"search_list_company_45_custompage\" target=\"_blank\" title=\"三六五网络招聘\">\n",
      "      三六五网络\n",
      "     </a>\n",
      "    </h3>\n",
      "    <p>\n",
      "     <a class=\"false-link\" href=\"https://www.zhipin.com/i100019/\" ka=\"search_list_company_industry_45_custompage\" target=\"_blank\" title=\"移动互联网行业招聘信息\">\n",
      "      移动互联网\n",
      "     </a>\n",
      "     <em class=\"vline\">\n",
      "     </em>\n",
      "     已上市\n",
      "     <em class=\"vline\">\n",
      "     </em>\n",
      "     1000-9999人\n",
      "    </p>\n",
      "   </div>\n",
      "   <a href=\"https://www.zhipin.com/gongsi/e29398c82d97008403B409m8.html\" ka=\"search_list_company_45_custompage_logo\" target=\"_blank\">\n",
      "    <img alt=\"\" class=\"company-logo\" src=\"data:image/jpeg;base64,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\"/>\n",
      "   </a>\n",
      "  </div>\n",
      " </div>\n",
      " <div class=\"info-append clearfix\">\n",
      "  <div class=\"tags\">\n",
      "   <span class=\"tag-item\">\n",
      "    社群运营\n",
      "   </span>\n",
      "   <span class=\"tag-item\">\n",
      "    专题制作\n",
      "   </span>\n",
      "   <span class=\"tag-item\">\n",
      "    线下活动\n",
      "   </span>\n",
      "   <span class=\"tag-item\">\n",
      "    提高用户粘度\n",
      "   </span>\n",
      "   <span class=\"tag-item\">\n",
      "    留存率\n",
      "   </span>\n",
      "  </div>\n",
      "  <div class=\"info-desc\">\n",
      "   零食下午茶，餐补，补充医疗保险，交通补助，节日福利，带薪年假，年终奖，定期体检，员工旅游，五险一金，通讯补贴\n",
      "  </div>\n",
      " </div>\n",
      "</div>\n",
      "<div class=\"job-primary\">\n",
      " <div class=\"info-primary\">\n",
      "  <div class=\"primary-wrapper\">\n",
      "   <div class=\"primary-box\" data-index=\"15\" data-itemid=\"46\" data-jid=\"06029904f73028953nV_2ty9GFM~\" data-jobid=\"91511081\" data-lid=\"nlp-7pjAjobJYgm.search.46\" href=\"/job_detail/06029904f73028953nV_2ty9GFM~.html\" ka=\"search_list_46\" target=\"_blank\">\n",
      "    <div class=\"job-title\">\n",
      "     <span class=\"job-name\">\n",
      "      <a data-index=\"15\" data-itemid=\"46\" data-jid=\"06029904f73028953nV_2ty9GFM~\" data-jobid=\"91511081\" data-lid=\"nlp-7pjAjobJYgm.search.46\" href=\"https://www.zhipin.com/job_detail/06029904f73028953nV_2ty9GFM~.html\" ka=\"search_list_jname_46\" target=\"_blank\" title=\"用户运营专家\">\n",
      "       用户运营专家\n",
      "      </a>\n",
      "     </span>\n",
      "     <span class=\"job-area-wrapper\">\n",
      "      <span class=\"job-area\">\n",
      "       杭州·萧山区·钱江世纪城\n",
      "      </span>\n",
      "     </span>\n",
      "     <span class=\"job-pub-time\">\n",
      "      发布于昨天\n",
      "     </span>\n",
      "    </div>\n",
      "    <div class=\"job-limit clearfix\">\n",
      "     <span class=\"red\">\n",
      "      10-15K\n",
      "     </span>\n",
      "     <p>\n",
      "      3-5年\n",
      "      <em class=\"vline\">\n",
      "      </em>\n",
      "      本科\n",
      "     </p>\n",
      "     <div class=\"info-publis\">\n",
      "      <h3 class=\"name\">\n",
      "       <img class=\"icon-chat\" src=\"data:image/png;base64,iVBORw0KGgoAAAANSUhEUgAAABoAAAAaCAYAAACpSkzOAAAC/0lEQVRIia2WvW4aQRCAt3DpIu8QyU26NGlygM8G7oxtOFvITYrkDdKgSKnyCuF1AN3+sH/HRbhFqdPQ0jMpdvduOZbYRU769I1mdmYOYXlB6IXno9YXkaCTSOJZxMmmzfGuzfEu4mQTSTyLBJ1caX3x0pyTT1zK9y1B5y2eQ4vjIJGtRTyHSOTzqJTvX73gB8DZJcfTliR7s+Q0bY4rtzmGliT7mOPpD8jP/rnk83r9pi3ooiMwdIRpdm5zDG3hWWBo87y2jyCL0Tp/E1ySQ34WC7ro8Bw6HBuEZ4Ghw/Pafmzrl55jQRc5wPEniyWeXnJz6JJbhOcQL5yPOZ4effGxovtYYPivKLqP/T+QrqDzK4GhSew5buSuBIYrSWr7sXemK+gcIYRQpvXFtSTwKgSubQdde0Ov7ZJmX6b1BUrEctKVBLp2QNcb1MQ/E6LZ7+JktZygvmSzniTQs4d7XqOfMzGubCCeQ+eN+5LNUKrZpicx9CSGviSV/djVe1VMGvGpuiHRbIP6kuzc4IoV/T7ebs/7K/rdzyeqrqW2lqjjnkTVeesdSiTZuUJiC+Pt9hwhhMbb7bnLufpRTf47b9mhVJLfqaKQKgqJJJAqCqn31okkkDoUOailyuaO8mae46ZgG3RbsPmNImCgnimkNnbD/Fy4XvtGmZe7UQQGks3QQLNvA0VhYJcMqmXkIGcgnkkjF0Ab3/5aTtDdc/HONd7axltFDdpzgIGqHXoRN+/JXYzDFZvd2aHOYYhnYs8ah/pNzGbV/7rHUn640xTubcN9I747hfIcYrXcP5Xl4a07VOznvaZwr+pFRyjPqpHTFIaaVR5qBqOSH14T5uKDs2FByahgMNQ0jKsV7DCuzrDKmebhiw8hhLKCfxlpBqPComntIMxzHT9ouvi6Xoevcrco0xQyzSCzjZmuF2V2aVawMKvl/qHk05OfxD0Pa/n5oWDwWjJNK2cFm39qfvGnnqeyfDsu+Z9Tgx+txyXbPRZs87his/Gv5eTp+eUfkH8B95QiEYjrEUMAAAAASUVORK5CYII=\"/>\n",
      "       丁华琴\n",
      "       <em class=\"vline\">\n",
      "       </em>\n",
      "       人事\n",
      "      </h3>\n",
      "     </div>\n",
      "     <button class=\"btn btn-startchat sf-hidden\" data-url=\"/wapi/zpgeek/friend/add.json?jobId=06029904f73028953nV_2ty9GFM~&amp;lid=nlp-7pjAjobJYgm.search.46\" href=\"javascript:;\" redirect-url=\"/web/geek/chat?id=e6102a26759c616e1X1_2tS6FVI~\">\n",
      "      <img alt=\"\" class=\"icon-chat icon-chat-hover\" data-single-file-origin-u-r-l=\"https://z.zhipin.com/web/geek/resource/icon-chat-hover-v2.png\" src=\"data:image/gif;base64,R0lGODlhAQABAAAAACH5BAEKAAEALAAAAAABAAEAAAICTAEAOw==\"/>\n",
      "      <span>\n",
      "       立即沟通\n",
      "      </span>\n",
      "     </button>\n",
      "    </div>\n",
      "    <div class=\"info-detail sf-hidden\">\n",
      "    </div>\n",
      "   </div>\n",
      "  </div>\n",
      "  <div class=\"info-company\">\n",
      "   <div class=\"company-text\">\n",
      "    <h3 class=\"name\">\n",
      "     <a href=\"https://www.zhipin.com/gongsi/e314f4f24086603803B82di_EQ~~.html\" ka=\"search_list_company_46_custompage\" target=\"_blank\" title=\"智马科技招聘\">\n",
      "      智马科技\n",
      "     </a>\n",
      "    </h3>\n",
      "    <p>\n",
      "     <a class=\"false-link\" href=\"https://www.zhipin.com/i100019/\" ka=\"search_list_company_industry_46_custompage\" target=\"_blank\" title=\"移动互联网行业招聘信息\">\n",
      "      移动互联网\n",
      "     </a>\n",
      "     <em class=\"vline\">\n",
      "     </em>\n",
      "     天使轮\n",
      "     <em class=\"vline\">\n",
      "     </em>\n",
      "     100-499人\n",
      "    </p>\n",
      "   </div>\n",
      "   <a href=\"https://www.zhipin.com/gongsi/e314f4f24086603803B82di_EQ~~.html\" ka=\"search_list_company_46_custompage_logo\" target=\"_blank\">\n",
      "    <img alt=\"\" class=\"company-logo\" src=\"data:image/jpeg;base64,/9j/4AAQSkZJRgABAQAAAQABAAD/2wBDAAcFBQYFBAcGBgYIBwcICxILCwoKCxYPEA0SGhYbGhkWGRgcICgiHB4mHhgZIzAkJiorLS4tGyIyNTEsNSgsLSz/2wBDAQcICAsJCxULCxUsHRkdLCwsLCwsLCwsLCwsLCwsLCwsLCwsLCwsLCwsLCwsLCwsLCwsLCwsLCwsLCwsLCwsLCz/wAARCABkAGQDASIAAhEBAxEB/8QAHAABAAIDAQEBAAAAAAAAAAAAAAQGAQMFBwII/8QAMxAAAQMDAgQFAgMJAAAAAAAAAQACAwQRIQUSBhMxYRRBUXGRIqEHFYEjMlNiorGy0fD/xAAaAQEAAwEBAQAAAAAAAAAAAAAAAgMEAQUG/8QAJhEBAAICAQIEBwAAAAAAAAAAAAECAxEhBBITMZHBBTJBUaHR8P/aAAwDAQACEQMRAD8A/SCIi64IiICIiAiIgIiICIiAiIgIiICIiAijV9dBptDLV1DtscYufU+gHdeZ6rxXqurTOEUslPB5RwkjHcjJU60mzH1PV06f5uZn6PVUXjFPqWowScyCrqGubklrz91euFOLnanKKGu2ipt9EgFhJ2I9VK2OYjajB8Rx5rdsxqZW1ERVPTEREBERAREQEREFK/Eaoe2loqYGzJHOee9gAP8AIrE2pDhLhvSzRU0T31bBJI5984BPT3+yn8daXJX6MyoiaXSUri4gddp6/wBgf0VS1/W6bU9J0umgbIH0se2TcLC+1ox8K+sd0RDwuqvOHLkvvUzEa91r13iD8gko20lHDtq/2kuLX6ennnqVXuL4I9H4qgqaNoiLmtns3A3Bx/0ovE2t0usOofDtkAgj2v3C2cdPhSXw0vE3FFIzTmVHh2sbzjM4uIAJJySfKw91Kte3Uyqz5vGm1KzvmNe+npYNwD6oiLM+iEREBERAREQEvmy01jDJQzsBeC5jgDGbO6eR9VSn1Akq4yXuY7adr21YNsC9rvwb3yT0tgqURtnzZvC1wvaqmr8B0dbM6ajlNI92S3buYT2HkpFSOXwy8eKjcZpWuY7n3a4BzbhpcR5A4v65XDMrXyVbY5Imu3N2EyRtAwL2PNx+l1KsTHMSzdRel4it67fUH4cTGQc/UGBn8jCSflW7SNHotGpeVRstuy55N3PPcrXVVUo1OmfTMdVRGB5dHFI0XuW7XWJFxh2e652kVFSabSGmGSCAFwc90jdsl2usLB1znt5JM2tHLuLFhwX1SvP39P2siKuwONXWVwiifVgbWvc9xjc7JIDTizRY+5PzL0m3jahjaJ8BhPLe505eL2a61ifQjKjpprl7pjj+9HXREUV4iIgIiINdRIIaaSQvawMaXbndBjqeyrrtJIlbt1GKDw4cyzTLZt2g/wATFhYqxTwiop5ISbB7S0n3UJujQtidGJH7XFx75btUonSjLj758to9PA6LSYqXxrIxGHOMnKIcWDqbOJsbnrlaItKoaeqqnw1AgkadzZBkgAAO3Xw7PX38iug7TXyA76glzw5rsY2utcC5x+79ysu0wPJvMdoLnMAGWuc7cTfzz/xTaE4t648mh8Uj6llVDXRRSCFsTw6A2N3GxsSCLm4so0NFJAyhjfqUMkFM8SAGItJFnAZufMrpP05s0olmeHyjZYhtrbXF2Pmy+HaS18b4pJXOjcA2wFiGgk2v7nr2Tbs453vX5Yjkhhr6qczxjnNbtB6ja25v+jgVnTWujqasyyMfNNIHuEYO1tmNba588fdYn0hlQ2TmTO3vB+oC1iQ0X/o+5W+GjMNUZBK4s+ohndxuffN/lEoi2/JKREUV4iIgIiICIiAiIgIiICIiAiIgIiICIiAiIgIiICIiAiIgIiICIiD/2Q==\"/>\n",
      "   </a>\n",
      "  </div>\n",
      " </div>\n",
      " <div class=\"info-append clearfix\">\n",
      "  <div class=\"tags\">\n",
      "   <span class=\"tag-item\">\n",
      "    用户增长\n",
      "   </span>\n",
      "   <span class=\"tag-item\">\n",
      "    社群运营\n",
      "   </span>\n",
      "   <span class=\"tag-item\">\n",
      "    活动运营\n",
      "   </span>\n",
      "   <span class=\"tag-item\">\n",
      "    用户行为分析\n",
      "   </span>\n",
      "   <span class=\"tag-item\">\n",
      "    产品运营\n",
      "   </span>\n",
      "  </div>\n",
      "  <div class=\"info-desc\">\n",
      "   社会保险，带薪年假，餐补，全勤奖，生日福利，节日福利，加班补助，交通补助，零食下午茶\n",
      "  </div>\n",
      " </div>\n",
      "</div>\n",
      "<div class=\"job-primary\">\n",
      " <div class=\"info-primary\">\n",
      "  <div class=\"primary-wrapper\">\n",
      "   <div class=\"primary-box\" data-index=\"16\" data-itemid=\"47\" data-jid=\"02b494e130400b4033Jy2dq9EVA~\" data-jobid=\"86827012\" data-lid=\"nlp-7pjAjobJYgm.search.47\" href=\"/job_detail/02b494e130400b4033Jy2dq9EVA~.html\" ka=\"search_list_47\" target=\"_blank\">\n",
      "    <div class=\"job-title\">\n",
      "     <span class=\"job-name\">\n",
      "      <a data-index=\"16\" data-itemid=\"47\" data-jid=\"02b494e130400b4033Jy2dq9EVA~\" data-jobid=\"86827012\" data-lid=\"nlp-7pjAjobJYgm.search.47\" href=\"https://www.zhipin.com/job_detail/02b494e130400b4033Jy2dq9EVA~.html\" ka=\"search_list_jname_47\" target=\"_blank\" title=\"用户运营 (MJ000038)\">\n",
      "       用户运营 (MJ000038)\n",
      "      </a>\n",
      "     </span>\n",
      "     <span class=\"job-area-wrapper\">\n",
      "      <span class=\"job-area\">\n",
      "       杭州·西湖区·文二路\n",
      "      </span>\n",
      "     </span>\n",
      "     <span class=\"job-pub-time\">\n",
      "      发布于10:14\n",
      "     </span>\n",
      "    </div>\n",
      "    <div class=\"job-limit clearfix\">\n",
      "     <span class=\"red\">\n",
      "      12-24K·14薪\n",
      "     </span>\n",
      "     <p>\n",
      "      3-5年\n",
      "      <em class=\"vline\">\n",
      "      </em>\n",
      "      大专\n",
      "     </p>\n",
      "     <div class=\"info-publis\">\n",
      "      <h3 class=\"name\">\n",
      "       <img class=\"icon-chat\" src=\"data:image/png;base64,iVBORw0KGgoAAAANSUhEUgAAABoAAAAaCAYAAACpSkzOAAAC/0lEQVRIia2WvW4aQRCAt3DpIu8QyU26NGlygM8G7oxtOFvITYrkDdKgSKnyCuF1AN3+sH/HRbhFqdPQ0jMpdvduOZbYRU769I1mdmYOYXlB6IXno9YXkaCTSOJZxMmmzfGuzfEu4mQTSTyLBJ1caX3x0pyTT1zK9y1B5y2eQ4vjIJGtRTyHSOTzqJTvX73gB8DZJcfTliR7s+Q0bY4rtzmGliT7mOPpD8jP/rnk83r9pi3ooiMwdIRpdm5zDG3hWWBo87y2jyCL0Tp/E1ySQ34WC7ro8Bw6HBuEZ4Ghw/Pafmzrl55jQRc5wPEniyWeXnJz6JJbhOcQL5yPOZ4effGxovtYYPivKLqP/T+QrqDzK4GhSew5buSuBIYrSWr7sXemK+gcIYRQpvXFtSTwKgSubQdde0Ov7ZJmX6b1BUrEctKVBLp2QNcb1MQ/E6LZ7+JktZygvmSzniTQs4d7XqOfMzGubCCeQ+eN+5LNUKrZpicx9CSGviSV/djVe1VMGvGpuiHRbIP6kuzc4IoV/T7ebs/7K/rdzyeqrqW2lqjjnkTVeesdSiTZuUJiC+Pt9hwhhMbb7bnLufpRTf47b9mhVJLfqaKQKgqJJJAqCqn31okkkDoUOailyuaO8mae46ZgG3RbsPmNImCgnimkNnbD/Fy4XvtGmZe7UQQGks3QQLNvA0VhYJcMqmXkIGcgnkkjF0Ab3/5aTtDdc/HONd7axltFDdpzgIGqHXoRN+/JXYzDFZvd2aHOYYhnYs8ah/pNzGbV/7rHUn640xTubcN9I747hfIcYrXcP5Xl4a07VOznvaZwr+pFRyjPqpHTFIaaVR5qBqOSH14T5uKDs2FByahgMNQ0jKsV7DCuzrDKmebhiw8hhLKCfxlpBqPComntIMxzHT9ouvi6Xoevcrco0xQyzSCzjZmuF2V2aVawMKvl/qHk05OfxD0Pa/n5oWDwWjJNK2cFm39qfvGnnqeyfDsu+Z9Tgx+txyXbPRZs87his/Gv5eTp+eUfkH8B95QiEYjrEUMAAAAASUVORK5CYII=\"/>\n",
      "       朱先生\n",
      "       <em class=\"vline\">\n",
      "       </em>\n",
      "       招聘专家\n",
      "      </h3>\n",
      "     </div>\n",
      "     <button class=\"btn btn-startchat sf-hidden\" data-url=\"/wapi/zpgeek/friend/add.json?jobId=02b494e130400b4033Jy2dq9EVA~&amp;lid=nlp-7pjAjobJYgm.search.47\" href=\"javascript:;\" redirect-url=\"/web/geek/chat?id=661f507c2b918ddb1Xx83Nm0FFs~\">\n",
      "      <img alt=\"\" class=\"icon-chat icon-chat-hover\" data-single-file-origin-u-r-l=\"https://z.zhipin.com/web/geek/resource/icon-chat-hover-v2.png\" src=\"data:image/gif;base64,R0lGODlhAQABAAAAACH5BAEKAAEALAAAAAABAAEAAAICTAEAOw==\"/>\n",
      "      <span>\n",
      "       立即沟通\n",
      "      </span>\n",
      "     </button>\n",
      "    </div>\n",
      "    <div class=\"info-detail sf-hidden\">\n",
      "    </div>\n",
      "   </div>\n",
      "  </div>\n",
      "  <div class=\"info-company\">\n",
      "   <div class=\"company-text\">\n",
      "    <h3 class=\"name\">\n",
      "     <a href=\"https://www.zhipin.com/gongsi/2e80bd4edde272231nJy3Nq_.html\" ka=\"search_list_company_47_custompage\" target=\"_blank\" title=\"微拍堂招聘\">\n",
      "      微拍堂\n",
      "     </a>\n",
      "    </h3>\n",
      "    <p>\n",
      "     <a class=\"false-link\" href=\"https://www.zhipin.com/i100001/\" ka=\"search_list_company_industry_47_custompage\" target=\"_blank\" title=\"电子商务行业招聘信息\">\n",
      "      电子商务\n",
      "     </a>\n",
      "     <em class=\"vline\">\n",
      "     </em>\n",
      "     A轮\n",
      "     <em class=\"vline\">\n",
      "     </em>\n",
      "     500-999人\n",
      "    </p>\n",
      "   </div>\n",
      "   <a href=\"https://www.zhipin.com/gongsi/2e80bd4edde272231nJy3Nq_.html\" ka=\"search_list_company_47_custompage_logo\" target=\"_blank\">\n",
      "    <img alt=\"\" class=\"company-logo\" src=\"data:image/jpeg;base64,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\"/>\n",
      "   </a>\n",
      "  </div>\n",
      " </div>\n",
      " <div class=\"info-append clearfix\">\n",
      "  <div class=\"tags\">\n",
      "   <span class=\"tag-item\">\n",
      "    用户增长\n",
      "   </span>\n",
      "   <span class=\"tag-item\">\n",
      "    用户拉新\n",
      "   </span>\n",
      "   <span class=\"tag-item\">\n",
      "    促活\n",
      "   </span>\n",
      "   <span class=\"tag-item\">\n",
      "    用户促活\n",
      "   </span>\n",
      "   <span class=\"tag-item\">\n",
      "    会员体系\n",
      "   </span>\n",
      "  </div>\n",
      "  <div class=\"info-desc\">\n",
      "   住房补贴，员工旅游，节日福利，零食下午茶，年终奖，加班补助，全勤奖，餐补\n",
      "  </div>\n",
      " </div>\n",
      "</div>\n",
      "<div class=\"job-primary\">\n",
      " <div class=\"info-primary\">\n",
      "  <div class=\"primary-wrapper\">\n",
      "   <div class=\"primary-box\" data-index=\"17\" data-itemid=\"48\" data-jid=\"6b682a2af6cb451833R43tu8ElM~\" data-jobid=\"80256121\" data-lid=\"nlp-7pjAjobJYgm.search.48\" href=\"/job_detail/6b682a2af6cb451833R43tu8ElM~.html\" ka=\"search_list_48\" target=\"_blank\">\n",
      "    <div class=\"job-title\">\n",
      "     <span class=\"job-name\">\n",
      "      <a data-index=\"17\" data-itemid=\"48\" data-jid=\"6b682a2af6cb451833R43tu8ElM~\" data-jobid=\"80256121\" data-lid=\"nlp-7pjAjobJYgm.search.48\" href=\"https://www.zhipin.com/job_detail/6b682a2af6cb451833R43tu8ElM~.html\" ka=\"search_list_jname_48\" target=\"_blank\" title=\"用户运营\">\n",
      "       用户运营\n",
      "      </a>\n",
      "     </span>\n",
      "     <span class=\"job-area-wrapper\">\n",
      "      <span class=\"job-area\">\n",
      "       杭州·拱墅区·湖墅南路\n",
      "      </span>\n",
      "     </span>\n",
      "     <span class=\"job-pub-time\">\n",
      "      发布于05月29日\n",
      "     </span>\n",
      "    </div>\n",
      "    <div class=\"job-limit clearfix\">\n",
      "     <span class=\"red\">\n",
      "      6-10K\n",
      "     </span>\n",
      "     <p>\n",
      "      1-3年\n",
      "      <em class=\"vline\">\n",
      "      </em>\n",
      "      本科\n",
      "     </p>\n",
      "     <div class=\"info-publis\">\n",
      "      <h3 class=\"name\">\n",
      "       <img class=\"icon-chat\" src=\"data:image/png;base64,iVBORw0KGgoAAAANSUhEUgAAABoAAAAaCAYAAACpSkzOAAAC/0lEQVRIia2WvW4aQRCAt3DpIu8QyU26NGlygM8G7oxtOFvITYrkDdKgSKnyCuF1AN3+sH/HRbhFqdPQ0jMpdvduOZbYRU769I1mdmYOYXlB6IXno9YXkaCTSOJZxMmmzfGuzfEu4mQTSTyLBJ1caX3x0pyTT1zK9y1B5y2eQ4vjIJGtRTyHSOTzqJTvX73gB8DZJcfTliR7s+Q0bY4rtzmGliT7mOPpD8jP/rnk83r9pi3ooiMwdIRpdm5zDG3hWWBo87y2jyCL0Tp/E1ySQ34WC7ro8Bw6HBuEZ4Ghw/Pafmzrl55jQRc5wPEniyWeXnJz6JJbhOcQL5yPOZ4effGxovtYYPivKLqP/T+QrqDzK4GhSew5buSuBIYrSWr7sXemK+gcIYRQpvXFtSTwKgSubQdde0Ov7ZJmX6b1BUrEctKVBLp2QNcb1MQ/E6LZ7+JktZygvmSzniTQs4d7XqOfMzGubCCeQ+eN+5LNUKrZpicx9CSGviSV/djVe1VMGvGpuiHRbIP6kuzc4IoV/T7ebs/7K/rdzyeqrqW2lqjjnkTVeesdSiTZuUJiC+Pt9hwhhMbb7bnLufpRTf47b9mhVJLfqaKQKgqJJJAqCqn31okkkDoUOailyuaO8mae46ZgG3RbsPmNImCgnimkNnbD/Fy4XvtGmZe7UQQGks3QQLNvA0VhYJcMqmXkIGcgnkkjF0Ab3/5aTtDdc/HONd7axltFDdpzgIGqHXoRN+/JXYzDFZvd2aHOYYhnYs8ah/pNzGbV/7rHUn640xTubcN9I747hfIcYrXcP5Xl4a07VOznvaZwr+pFRyjPqpHTFIaaVR5qBqOSH14T5uKDs2FByahgMNQ0jKsV7DCuzrDKmebhiw8hhLKCfxlpBqPComntIMxzHT9ouvi6Xoevcrco0xQyzSCzjZmuF2V2aVawMKvl/qHk05OfxD0Pa/n5oWDwWjJNK2cFm39qfvGnnqeyfDsu+Z9Tgx+txyXbPRZs87his/Gv5eTp+eUfkH8B95QiEYjrEUMAAAAASUVORK5CYII=\"/>\n",
      "       陈胜\n",
      "       <em class=\"vline\">\n",
      "       </em>\n",
      "       造价BG副总经理\n",
      "      </h3>\n",
      "     </div>\n",
      "     <button class=\"btn btn-startchat sf-hidden\" data-url=\"/wapi/zpgeek/friend/add.json?jobId=6b682a2af6cb451833R43tu8ElM~&amp;lid=nlp-7pjAjobJYgm.search.48\" href=\"javascript:;\" redirect-url=\"/web/geek/chat?id=84f1fa004bc072041HJ429y5Elo~\">\n",
      "      <img alt=\"\" class=\"icon-chat icon-chat-hover\" data-single-file-origin-u-r-l=\"https://z.zhipin.com/web/geek/resource/icon-chat-hover-v2.png\" src=\"data:image/gif;base64,R0lGODlhAQABAAAAACH5BAEKAAEALAAAAAABAAEAAAICTAEAOw==\"/>\n",
      "      <span>\n",
      "       立即沟通\n",
      "      </span>\n",
      "     </button>\n",
      "    </div>\n",
      "    <div class=\"info-detail sf-hidden\">\n",
      "    </div>\n",
      "   </div>\n",
      "  </div>\n",
      "  <div class=\"info-company\">\n",
      "   <div class=\"company-text\">\n",
      "    <h3 class=\"name\">\n",
      "     <a href=\"https://www.zhipin.com/gongsi/4fa92e12ce0816061nJ-2d-5GQ~~.html\" ka=\"search_list_company_48_custompage\" target=\"_blank\" title=\"擎洲软件/广联达招聘\">\n",
      "      擎洲软件/广联达\n",
      "     </a>\n",
      "    </h3>\n",
      "    <p>\n",
      "     <a class=\"false-link\" href=\"https://www.zhipin.com/i100703/\" ka=\"search_list_company_industry_48_custompage\" target=\"_blank\" title=\"建筑设计行业招聘信息\">\n",
      "      建筑设计\n",
      "     </a>\n",
      "     <em class=\"vline\">\n",
      "     </em>\n",
      "     已上市\n",
      "     <em class=\"vline\">\n",
      "     </em>\n",
      "     100-499人\n",
      "    </p>\n",
      "   </div>\n",
      "   <a href=\"https://www.zhipin.com/gongsi/4fa92e12ce0816061nJ-2d-5GQ~~.html\" ka=\"search_list_company_48_custompage_logo\" target=\"_blank\">\n",
      "    <img alt=\"\" class=\"company-logo\" src=\"data:image/jpeg;base64,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\"/>\n",
      "   </a>\n",
      "  </div>\n",
      " </div>\n",
      " <div class=\"info-append clearfix\">\n",
      "  <div class=\"tags\">\n",
      "   <span class=\"tag-item\">\n",
      "    用户行为分析\n",
      "   </span>\n",
      "   <span class=\"tag-item\">\n",
      "    客户运营\n",
      "   </span>\n",
      "   <span class=\"tag-item\">\n",
      "    分析用户\n",
      "   </span>\n",
      "   <span class=\"tag-item\">\n",
      "    产品上线\n",
      "   </span>\n",
      "   <span class=\"tag-item\">\n",
      "    B端\n",
      "   </span>\n",
      "  </div>\n",
      "  <div class=\"info-desc\">\n",
      "   年终奖，定期体检，员工旅游，带薪年假，补充医疗保险，餐补，通讯补贴，五险一金，节日福利，交通补助\n",
      "  </div>\n",
      " </div>\n",
      "</div>\n",
      "<div class=\"job-primary\">\n",
      " <div class=\"info-primary\">\n",
      "  <div class=\"primary-wrapper\">\n",
      "   <div class=\"primary-box\" data-index=\"18\" data-itemid=\"49\" data-jid=\"059880a0731afd29331y3t68F1U~\" data-jobid=\"89853177\" data-lid=\"nlp-7pjAjobJYgm.search.49\" href=\"/job_detail/059880a0731afd29331y3t68F1U~.html\" ka=\"search_list_49\" target=\"_blank\">\n",
      "    <div class=\"job-title\">\n",
      "     <span class=\"job-name\">\n",
      "      <a data-index=\"18\" data-itemid=\"49\" data-jid=\"059880a0731afd29331y3t68F1U~\" data-jobid=\"89853177\" data-lid=\"nlp-7pjAjobJYgm.search.49\" href=\"https://www.zhipin.com/job_detail/059880a0731afd29331y3t68F1U~.html\" ka=\"search_list_jname_49\" target=\"_blank\" title=\"用户运营\">\n",
      "       用户运营\n",
      "      </a>\n",
      "     </span>\n",
      "     <span class=\"job-area-wrapper\">\n",
      "      <span class=\"job-area\">\n",
      "       杭州·滨江区·长河\n",
      "      </span>\n",
      "     </span>\n",
      "     <span class=\"job-pub-time\">\n",
      "      发布于07月30日\n",
      "     </span>\n",
      "    </div>\n",
      "    <div class=\"job-limit clearfix\">\n",
      "     <span class=\"red\">\n",
      "      8-12K\n",
      "     </span>\n",
      "     <p>\n",
      "      1-3年\n",
      "      <em class=\"vline\">\n",
      "      </em>\n",
      "      本科\n",
      "     </p>\n",
      "     <div class=\"info-publis\">\n",
      "      <h3 class=\"name\">\n",
      "       <img class=\"icon-chat\" src=\"data:image/png;base64,iVBORw0KGgoAAAANSUhEUgAAABoAAAAaCAYAAACpSkzOAAAC/0lEQVRIia2WvW4aQRCAt3DpIu8QyU26NGlygM8G7oxtOFvITYrkDdKgSKnyCuF1AN3+sH/HRbhFqdPQ0jMpdvduOZbYRU769I1mdmYOYXlB6IXno9YXkaCTSOJZxMmmzfGuzfEu4mQTSTyLBJ1caX3x0pyTT1zK9y1B5y2eQ4vjIJGtRTyHSOTzqJTvX73gB8DZJcfTliR7s+Q0bY4rtzmGliT7mOPpD8jP/rnk83r9pi3ooiMwdIRpdm5zDG3hWWBo87y2jyCL0Tp/E1ySQ34WC7ro8Bw6HBuEZ4Ghw/Pafmzrl55jQRc5wPEniyWeXnJz6JJbhOcQL5yPOZ4effGxovtYYPivKLqP/T+QrqDzK4GhSew5buSuBIYrSWr7sXemK+gcIYRQpvXFtSTwKgSubQdde0Ov7ZJmX6b1BUrEctKVBLp2QNcb1MQ/E6LZ7+JktZygvmSzniTQs4d7XqOfMzGubCCeQ+eN+5LNUKrZpicx9CSGviSV/djVe1VMGvGpuiHRbIP6kuzc4IoV/T7ebs/7K/rdzyeqrqW2lqjjnkTVeesdSiTZuUJiC+Pt9hwhhMbb7bnLufpRTf47b9mhVJLfqaKQKgqJJJAqCqn31okkkDoUOailyuaO8mae46ZgG3RbsPmNImCgnimkNnbD/Fy4XvtGmZe7UQQGks3QQLNvA0VhYJcMqmXkIGcgnkkjF0Ab3/5aTtDdc/HONd7axltFDdpzgIGqHXoRN+/JXYzDFZvd2aHOYYhnYs8ah/pNzGbV/7rHUn640xTubcN9I747hfIcYrXcP5Xl4a07VOznvaZwr+pFRyjPqpHTFIaaVR5qBqOSH14T5uKDs2FByahgMNQ0jKsV7DCuzrDKmebhiw8hhLKCfxlpBqPComntIMxzHT9ouvi6Xoevcrco0xQyzSCzjZmuF2V2aVawMKvl/qHk05OfxD0Pa/n5oWDwWjJNK2cFm39qfvGnnqeyfDsu+Z9Tgx+txyXbPRZs87his/Gv5eTp+eUfkH8B95QiEYjrEUMAAAAASUVORK5CYII=\"/>\n",
      "       邵女士\n",
      "       <em class=\"vline\">\n",
      "       </em>\n",
      "       HR\n",
      "      </h3>\n",
      "     </div>\n",
      "     <button class=\"btn btn-startchat sf-hidden\" data-url=\"/wapi/zpgeek/friend/add.json?jobId=059880a0731afd29331y3t68F1U~&amp;lid=nlp-7pjAjobJYgm.search.49\" href=\"javascript:;\" redirect-url=\"/web/geek/chat?id=b22496c0efd18c891nZ-3N-8FFc~\">\n",
      "      <img alt=\"\" class=\"icon-chat icon-chat-hover\" data-single-file-origin-u-r-l=\"https://z.zhipin.com/web/geek/resource/icon-chat-hover-v2.png\" src=\"data:image/gif;base64,R0lGODlhAQABAAAAACH5BAEKAAEALAAAAAABAAEAAAICTAEAOw==\"/>\n",
      "      <span>\n",
      "       立即沟通\n",
      "      </span>\n",
      "     </button>\n",
      "    </div>\n",
      "    <div class=\"info-detail sf-hidden\">\n",
      "    </div>\n",
      "   </div>\n",
      "  </div>\n",
      "  <div class=\"info-company\">\n",
      "   <div class=\"company-text\">\n",
      "    <h3 class=\"name\">\n",
      "     <a href=\"https://www.zhipin.com/gongsi/f7c5f4cb70e7d26803Z729S4GA~~.html\" ka=\"search_list_company_49_custompage\" target=\"_blank\" title=\"道成商务招聘\">\n",
      "      道成商务\n",
      "     </a>\n",
      "    </h3>\n",
      "    <p>\n",
      "     <a class=\"false-link\" href=\"https://www.zhipin.com/i100015/\" ka=\"search_list_company_industry_49_custompage\" target=\"_blank\" title=\"企业服务行业招聘信息\">\n",
      "      企业服务\n",
      "     </a>\n",
      "     <em class=\"vline\">\n",
      "     </em>\n",
      "     未融资\n",
      "     <em class=\"vline\">\n",
      "     </em>\n",
      "     0-20人\n",
      "    </p>\n",
      "   </div>\n",
      "   <a href=\"https://www.zhipin.com/gongsi/f7c5f4cb70e7d26803Z729S4GA~~.html\" ka=\"search_list_company_49_custompage_logo\" target=\"_blank\">\n",
      "    <img alt=\"\" class=\"company-logo\" src=\"data:image/png;base64,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\"/>\n",
      "   </a>\n",
      "  </div>\n",
      " </div>\n",
      " <div class=\"info-append clearfix\">\n",
      "  <div class=\"tags\">\n",
      "   <span class=\"tag-item\">\n",
      "    用户增长\n",
      "   </span>\n",
      "   <span class=\"tag-item\">\n",
      "    社群运营\n",
      "   </span>\n",
      "   <span class=\"tag-item\">\n",
      "    活动运营\n",
      "   </span>\n",
      "   <span class=\"tag-item\">\n",
      "    内容运营\n",
      "   </span>\n",
      "   <span class=\"tag-item\">\n",
      "    运营经理\n",
      "   </span>\n",
      "  </div>\n",
      "  <div class=\"info-desc\">\n",
      "   零食下午茶，五险一金，全勤奖，节日福利，加班补助，年终奖，交通补助\n",
      "  </div>\n",
      " </div>\n",
      "</div>\n",
      "<div class=\"job-primary\">\n",
      " <div class=\"info-primary\">\n",
      "  <div class=\"primary-wrapper\">\n",
      "   <div class=\"primary-box\" data-index=\"19\" data-itemid=\"50\" data-jid=\"41432d4f8d8aded33nVy0t28F1I~\" data-jobid=\"91890170\" data-lid=\"nlp-7pjAjobJYgm.search.50\" href=\"/job_detail/41432d4f8d8aded33nVy0t28F1I~.html\" ka=\"search_list_50\" target=\"_blank\">\n",
      "    <div class=\"job-title\">\n",
      "     <span class=\"job-name\">\n",
      "      <a data-index=\"19\" data-itemid=\"50\" data-jid=\"41432d4f8d8aded33nVy0t28F1I~\" data-jobid=\"91890170\" data-lid=\"nlp-7pjAjobJYgm.search.50\" href=\"https://www.zhipin.com/job_detail/41432d4f8d8aded33nVy0t28F1I~.html\" ka=\"search_list_jname_50\" target=\"_blank\" title=\"用户运营\">\n",
      "       用户运营\n",
      "      </a>\n",
      "     </span>\n",
      "     <span class=\"job-area-wrapper\">\n",
      "      <span class=\"job-area\">\n",
      "       杭州·江干区·火车东站\n",
      "      </span>\n",
      "     </span>\n",
      "     <span class=\"job-pub-time\">\n",
      "      发布于16:33\n",
      "     </span>\n",
      "    </div>\n",
      "    <div class=\"job-limit clearfix\">\n",
      "     <span class=\"red\">\n",
      "      7-12K\n",
      "     </span>\n",
      "     <p>\n",
      "      经验不限\n",
      "      <em class=\"vline\">\n",
      "      </em>\n",
      "      学历不限\n",
      "     </p>\n",
      "     <div class=\"info-publis\">\n",
      "      <h3 class=\"name\">\n",
      "       <img class=\"icon-chat\" src=\"data:image/png;base64,iVBORw0KGgoAAAANSUhEUgAAABoAAAAaCAYAAACpSkzOAAAC/0lEQVRIia2WvW4aQRCAt3DpIu8QyU26NGlygM8G7oxtOFvITYrkDdKgSKnyCuF1AN3+sH/HRbhFqdPQ0jMpdvduOZbYRU769I1mdmYOYXlB6IXno9YXkaCTSOJZxMmmzfGuzfEu4mQTSTyLBJ1caX3x0pyTT1zK9y1B5y2eQ4vjIJGtRTyHSOTzqJTvX73gB8DZJcfTliR7s+Q0bY4rtzmGliT7mOPpD8jP/rnk83r9pi3ooiMwdIRpdm5zDG3hWWBo87y2jyCL0Tp/E1ySQ34WC7ro8Bw6HBuEZ4Ghw/Pafmzrl55jQRc5wPEniyWeXnJz6JJbhOcQL5yPOZ4effGxovtYYPivKLqP/T+QrqDzK4GhSew5buSuBIYrSWr7sXemK+gcIYRQpvXFtSTwKgSubQdde0Ov7ZJmX6b1BUrEctKVBLp2QNcb1MQ/E6LZ7+JktZygvmSzniTQs4d7XqOfMzGubCCeQ+eN+5LNUKrZpicx9CSGviSV/djVe1VMGvGpuiHRbIP6kuzc4IoV/T7ebs/7K/rdzyeqrqW2lqjjnkTVeesdSiTZuUJiC+Pt9hwhhMbb7bnLufpRTf47b9mhVJLfqaKQKgqJJJAqCqn31okkkDoUOailyuaO8mae46ZgG3RbsPmNImCgnimkNnbD/Fy4XvtGmZe7UQQGks3QQLNvA0VhYJcMqmXkIGcgnkkjF0Ab3/5aTtDdc/HONd7axltFDdpzgIGqHXoRN+/JXYzDFZvd2aHOYYhnYs8ah/pNzGbV/7rHUn640xTubcN9I747hfIcYrXcP5Xl4a07VOznvaZwr+pFRyjPqpHTFIaaVR5qBqOSH14T5uKDs2FByahgMNQ0jKsV7DCuzrDKmebhiw8hhLKCfxlpBqPComntIMxzHT9ouvi6Xoevcrco0xQyzSCzjZmuF2V2aVawMKvl/qHk05OfxD0Pa/n5oWDwWjJNK2cFm39qfvGnnqeyfDsu+Z9Tgx+txyXbPRZs87his/Gv5eTp+eUfkH8B95QiEYjrEUMAAAAASUVORK5CYII=\"/>\n",
      "       童毅振\n",
      "       <em class=\"vline\">\n",
      "       </em>\n",
      "       招聘者\n",
      "      </h3>\n",
      "     </div>\n",
      "     <button class=\"btn btn-startchat sf-hidden\" data-url=\"/wapi/zpgeek/friend/add.json?jobId=41432d4f8d8aded33nVy0t28F1I~&amp;lid=nlp-7pjAjobJYgm.search.50\" href=\"javascript:;\" redirect-url=\"/web/geek/chat?id=0ccdeafc956611001nZ839W8F1s~\">\n",
      "      <img alt=\"\" class=\"icon-chat icon-chat-hover\" data-single-file-origin-u-r-l=\"https://z.zhipin.com/web/geek/resource/icon-chat-hover-v2.png\" src=\"data:image/gif;base64,R0lGODlhAQABAAAAACH5BAEKAAEALAAAAAABAAEAAAICTAEAOw==\"/>\n",
      "      <span>\n",
      "       立即沟通\n",
      "      </span>\n",
      "     </button>\n",
      "    </div>\n",
      "    <div class=\"info-detail sf-hidden\">\n",
      "    </div>\n",
      "   </div>\n",
      "  </div>\n",
      "  <div class=\"info-company\">\n",
      "   <div class=\"company-text\">\n",
      "    <h3 class=\"name\">\n",
      "     <a href=\"https://www.zhipin.com/gongsi/af820620570baeeb1HZy39S7Fg~~.html\" ka=\"search_list_company_50_custompage\" target=\"_blank\" title=\"宾果体育发展有限公司招聘\">\n",
      "      宾果体育发展有限公司\n",
      "     </a>\n",
      "    </h3>\n",
      "    <p>\n",
      "     <a class=\"false-link\" href=\"https://www.zhipin.com/i100303/\" ka=\"search_list_company_industry_50_custompage\" target=\"_blank\" title=\"培训机构行业招聘信息\">\n",
      "      培训机构\n",
      "     </a>\n",
      "     <em class=\"vline\">\n",
      "     </em>\n",
      "     天使轮\n",
      "     <em class=\"vline\">\n",
      "     </em>\n",
      "     20-99人\n",
      "    </p>\n",
      "   </div>\n",
      "   <a href=\"https://www.zhipin.com/gongsi/af820620570baeeb1HZy39S7Fg~~.html\" ka=\"search_list_company_50_custompage_logo\" target=\"_blank\">\n",
      "    <img alt=\"\" class=\"company-logo\" src=\"data:image/jpeg;base64,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\"/>\n",
      "   </a>\n",
      "  </div>\n",
      " </div>\n",
      " <div class=\"info-append clearfix\">\n",
      "  <div class=\"tags\">\n",
      "   <span class=\"tag-item\">\n",
      "    用户行为分析\n",
      "   </span>\n",
      "   <span class=\"tag-item\">\n",
      "    产品运营\n",
      "   </span>\n",
      "   <span class=\"tag-item\">\n",
      "    用户增长\n",
      "   </span>\n",
      "   <span class=\"tag-item\">\n",
      "    用户策略\n",
      "   </span>\n",
      "   <span class=\"tag-item\">\n",
      "    激励体系\n",
      "   </span>\n",
      "  </div>\n",
      "  <div class=\"info-desc\">\n",
      "   五险一金，扁平管理，带薪年假，节日福利，年终奖，高温福利\n",
      "  </div>\n",
      " </div>\n",
      "</div>\n",
      "<div class=\"job-primary\">\n",
      " <div class=\"info-primary\">\n",
      "  <div class=\"primary-wrapper\">\n",
      "   <div class=\"primary-box\" data-index=\"20\" data-itemid=\"51\" data-jid=\"98332ba25e1a883e33J429S7GVs~\" data-jobid=\"86209699\" data-lid=\"nlp-7pjAjobJYgm.search.51\" href=\"/job_detail/98332ba25e1a883e33J429S7GVs~.html\" ka=\"search_list_51\" target=\"_blank\">\n",
      "    <div class=\"job-title\">\n",
      "     <span class=\"job-name\">\n",
      "      <a data-index=\"20\" data-itemid=\"51\" data-jid=\"98332ba25e1a883e33J429S7GVs~\" data-jobid=\"86209699\" data-lid=\"nlp-7pjAjobJYgm.search.51\" href=\"https://www.zhipin.com/job_detail/98332ba25e1a883e33J429S7GVs~.html\" ka=\"search_list_jname_51\" target=\"_blank\" title=\"用户运营\">\n",
      "       用户运营\n",
      "      </a>\n",
      "     </span>\n",
      "     <span class=\"job-area-wrapper\">\n",
      "      <span class=\"job-area\">\n",
      "       杭州·滨江区·西兴\n",
      "      </span>\n",
      "     </span>\n",
      "     <span class=\"job-pub-time\">\n",
      "      发布于07月29日\n",
      "     </span>\n",
      "    </div>\n",
      "    <div class=\"job-limit clearfix\">\n",
      "     <span class=\"red\">\n",
      "      12-15K\n",
      "     </span>\n",
      "     <p>\n",
      "      5-10年\n",
      "      <em class=\"vline\">\n",
      "      </em>\n",
      "      大专\n",
      "     </p>\n",
      "     <div class=\"info-publis\">\n",
      "      <h3 class=\"name\">\n",
      "       <img class=\"icon-chat\" src=\"data:image/png;base64,iVBORw0KGgoAAAANSUhEUgAAABoAAAAaCAYAAACpSkzOAAAC/0lEQVRIia2WvW4aQRCAt3DpIu8QyU26NGlygM8G7oxtOFvITYrkDdKgSKnyCuF1AN3+sH/HRbhFqdPQ0jMpdvduOZbYRU769I1mdmYOYXlB6IXno9YXkaCTSOJZxMmmzfGuzfEu4mQTSTyLBJ1caX3x0pyTT1zK9y1B5y2eQ4vjIJGtRTyHSOTzqJTvX73gB8DZJcfTliR7s+Q0bY4rtzmGliT7mOPpD8jP/rnk83r9pi3ooiMwdIRpdm5zDG3hWWBo87y2jyCL0Tp/E1ySQ34WC7ro8Bw6HBuEZ4Ghw/Pafmzrl55jQRc5wPEniyWeXnJz6JJbhOcQL5yPOZ4effGxovtYYPivKLqP/T+QrqDzK4GhSew5buSuBIYrSWr7sXemK+gcIYRQpvXFtSTwKgSubQdde0Ov7ZJmX6b1BUrEctKVBLp2QNcb1MQ/E6LZ7+JktZygvmSzniTQs4d7XqOfMzGubCCeQ+eN+5LNUKrZpicx9CSGviSV/djVe1VMGvGpuiHRbIP6kuzc4IoV/T7ebs/7K/rdzyeqrqW2lqjjnkTVeesdSiTZuUJiC+Pt9hwhhMbb7bnLufpRTf47b9mhVJLfqaKQKgqJJJAqCqn31okkkDoUOailyuaO8mae46ZgG3RbsPmNImCgnimkNnbD/Fy4XvtGmZe7UQQGks3QQLNvA0VhYJcMqmXkIGcgnkkjF0Ab3/5aTtDdc/HONd7axltFDdpzgIGqHXoRN+/JXYzDFZvd2aHOYYhnYs8ah/pNzGbV/7rHUn640xTubcN9I747hfIcYrXcP5Xl4a07VOznvaZwr+pFRyjPqpHTFIaaVR5qBqOSH14T5uKDs2FByahgMNQ0jKsV7DCuzrDKmebhiw8hhLKCfxlpBqPComntIMxzHT9ouvi6Xoevcrco0xQyzSCzjZmuF2V2aVawMKvl/qHk05OfxD0Pa/n5oWDwWjJNK2cFm39qfvGnnqeyfDsu+Z9Tgx+txyXbPRZs87his/Gv5eTp+eUfkH8B95QiEYjrEUMAAAAASUVORK5CYII=\"/>\n",
      "       张先生\n",
      "       <em class=\"vline\">\n",
      "       </em>\n",
      "       招聘者\n",
      "      </h3>\n",
      "     </div>\n",
      "     <button class=\"btn btn-startchat sf-hidden\" data-url=\"/wapi/zpgeek/friend/add.json?jobId=98332ba25e1a883e33J429S7GVs~&amp;lid=nlp-7pjAjobJYgm.search.51\" href=\"javascript:;\" redirect-url=\"/web/geek/chat?id=4d9b0cdb4e8300fd03R40tq8FlQ~\">\n",
      "      <img alt=\"\" class=\"icon-chat icon-chat-hover\" data-single-file-origin-u-r-l=\"https://z.zhipin.com/web/geek/resource/icon-chat-hover-v2.png\" src=\"data:image/gif;base64,R0lGODlhAQABAAAAACH5BAEKAAEALAAAAAABAAEAAAICTAEAOw==\"/>\n",
      "      <span>\n",
      "       立即沟通\n",
      "      </span>\n",
      "     </button>\n",
      "    </div>\n",
      "    <div class=\"info-detail sf-hidden\">\n",
      "    </div>\n",
      "   </div>\n",
      "  </div>\n",
      "  <div class=\"info-company\">\n",
      "   <div class=\"company-text\">\n",
      "    <h3 class=\"name\">\n",
      "     <a href=\"https://www.zhipin.com/gongsi/a4b87a127a72a05f03R93t6_Eg~~.html\" ka=\"search_list_company_51_custompage\" target=\"_blank\" title=\"风云科技招聘\">\n",
      "      风云科技\n",
      "     </a>\n",
      "    </h3>\n",
      "    <p>\n",
      "     <a class=\"false-link\" href=\"https://www.zhipin.com/i100021/\" ka=\"search_list_company_industry_51_custompage\" target=\"_blank\" title=\"计算机软件行业招聘信息\">\n",
      "      计算机软件\n",
      "     </a>\n",
      "     <em class=\"vline\">\n",
      "     </em>\n",
      "     不需要融资\n",
      "     <em class=\"vline\">\n",
      "     </em>\n",
      "     20-99人\n",
      "    </p>\n",
      "   </div>\n",
      "   <a href=\"https://www.zhipin.com/gongsi/a4b87a127a72a05f03R93t6_Eg~~.html\" ka=\"search_list_company_51_custompage_logo\" target=\"_blank\">\n",
      "    <img alt=\"\" class=\"company-logo\" src=\"data:image/jpeg;base64,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\"/>\n",
      "   </a>\n",
      "  </div>\n",
      " </div>\n",
      " <div class=\"info-append clearfix\">\n",
      "  <div class=\"tags\">\n",
      "   <span class=\"tag-item\">\n",
      "    用户增长\n",
      "   </span>\n",
      "   <span class=\"tag-item\">\n",
      "    促活\n",
      "   </span>\n",
      "   <span class=\"tag-item\">\n",
      "    拉新\n",
      "   </span>\n",
      "   <span class=\"tag-item\">\n",
      "    种子用户\n",
      "   </span>\n",
      "   <span class=\"tag-item\">\n",
      "    用户画像\n",
      "   </span>\n",
      "  </div>\n",
      "  <div class=\"info-desc\">\n",
      "   全勤奖，股票期权，五险一金\n",
      "  </div>\n",
      " </div>\n",
      "</div>\n",
      "<div class=\"job-primary\">\n",
      " <div class=\"info-primary\">\n",
      "  <div class=\"primary-wrapper\">\n",
      "   <div class=\"primary-box\" data-index=\"21\" data-itemid=\"52\" data-jid=\"7928452df13ca40c33F82Ny8EVE~\" data-jobid=\"85631113\" data-lid=\"nlp-7pjAjobJYgm.search.52\" href=\"/job_detail/7928452df13ca40c33F82Ny8EVE~.html\" ka=\"search_list_52\" target=\"_blank\">\n",
      "    <div class=\"job-title\">\n",
      "     <span class=\"job-name\">\n",
      "      <a data-index=\"21\" data-itemid=\"52\" data-jid=\"7928452df13ca40c33F82Ny8EVE~\" data-jobid=\"85631113\" data-lid=\"nlp-7pjAjobJYgm.search.52\" href=\"https://www.zhipin.com/job_detail/7928452df13ca40c33F82Ny8EVE~.html\" ka=\"search_list_jname_52\" target=\"_blank\" title=\"用户运营\">\n",
      "       用户运营\n",
      "      </a>\n",
      "     </span>\n",
      "     <span class=\"job-area-wrapper\">\n",
      "      <span class=\"job-area\">\n",
      "       杭州·西湖区·翠苑\n",
      "      </span>\n",
      "     </span>\n",
      "     <span class=\"job-pub-time\">\n",
      "      发布于07月30日\n",
      "     </span>\n",
      "    </div>\n",
      "    <div class=\"job-limit clearfix\">\n",
      "     <span class=\"red\">\n",
      "      10-15K\n",
      "     </span>\n",
      "     <p>\n",
      "      3-5年\n",
      "      <em class=\"vline\">\n",
      "      </em>\n",
      "      大专\n",
      "     </p>\n",
      "     <div class=\"info-publis\">\n",
      "      <h3 class=\"name\">\n",
      "       <img class=\"icon-chat\" src=\"data:image/png;base64,iVBORw0KGgoAAAANSUhEUgAAABoAAAAaCAYAAACpSkzOAAAC/0lEQVRIia2WvW4aQRCAt3DpIu8QyU26NGlygM8G7oxtOFvITYrkDdKgSKnyCuF1AN3+sH/HRbhFqdPQ0jMpdvduOZbYRU769I1mdmYOYXlB6IXno9YXkaCTSOJZxMmmzfGuzfEu4mQTSTyLBJ1caX3x0pyTT1zK9y1B5y2eQ4vjIJGtRTyHSOTzqJTvX73gB8DZJcfTliR7s+Q0bY4rtzmGliT7mOPpD8jP/rnk83r9pi3ooiMwdIRpdm5zDG3hWWBo87y2jyCL0Tp/E1ySQ34WC7ro8Bw6HBuEZ4Ghw/Pafmzrl55jQRc5wPEniyWeXnJz6JJbhOcQL5yPOZ4effGxovtYYPivKLqP/T+QrqDzK4GhSew5buSuBIYrSWr7sXemK+gcIYRQpvXFtSTwKgSubQdde0Ov7ZJmX6b1BUrEctKVBLp2QNcb1MQ/E6LZ7+JktZygvmSzniTQs4d7XqOfMzGubCCeQ+eN+5LNUKrZpicx9CSGviSV/djVe1VMGvGpuiHRbIP6kuzc4IoV/T7ebs/7K/rdzyeqrqW2lqjjnkTVeesdSiTZuUJiC+Pt9hwhhMbb7bnLufpRTf47b9mhVJLfqaKQKgqJJJAqCqn31okkkDoUOailyuaO8mae46ZgG3RbsPmNImCgnimkNnbD/Fy4XvtGmZe7UQQGks3QQLNvA0VhYJcMqmXkIGcgnkkjF0Ab3/5aTtDdc/HONd7axltFDdpzgIGqHXoRN+/JXYzDFZvd2aHOYYhnYs8ah/pNzGbV/7rHUn640xTubcN9I747hfIcYrXcP5Xl4a07VOznvaZwr+pFRyjPqpHTFIaaVR5qBqOSH14T5uKDs2FByahgMNQ0jKsV7DCuzrDKmebhiw8hhLKCfxlpBqPComntIMxzHT9ouvi6Xoevcrco0xQyzSCzjZmuF2V2aVawMKvl/qHk05OfxD0Pa/n5oWDwWjJNK2cFm39qfvGnnqeyfDsu+Z9Tgx+txyXbPRZs87his/Gv5eTp+eUfkH8B95QiEYjrEUMAAAAASUVORK5CYII=\"/>\n",
      "       吴女士\n",
      "       <em class=\"vline\">\n",
      "       </em>\n",
      "       HRBP\n",
      "      </h3>\n",
      "     </div>\n",
      "     <button class=\"btn btn-startchat sf-hidden\" data-url=\"/wapi/zpgeek/friend/add.json?jobId=7928452df13ca40c33F82Ny8EVE~&amp;lid=nlp-7pjAjobJYgm.search.52\" href=\"javascript:;\" redirect-url=\"/web/geek/chat?id=2f3d16b67e5143eb03Zz3ty0FVc~\">\n",
      "      <img alt=\"\" class=\"icon-chat icon-chat-hover\" data-single-file-origin-u-r-l=\"https://z.zhipin.com/web/geek/resource/icon-chat-hover-v2.png\" src=\"data:image/gif;base64,R0lGODlhAQABAAAAACH5BAEKAAEALAAAAAABAAEAAAICTAEAOw==\"/>\n",
      "      <span>\n",
      "       立即沟通\n",
      "      </span>\n",
      "     </button>\n",
      "    </div>\n",
      "    <div class=\"info-detail sf-hidden\">\n",
      "    </div>\n",
      "   </div>\n",
      "  </div>\n",
      "  <div class=\"info-company\">\n",
      "   <div class=\"company-text\">\n",
      "    <h3 class=\"name\">\n",
      "     <a href=\"https://www.zhipin.com/gongsi/464da1a4a17f3acd1Xdz0tW-.html\" ka=\"search_list_company_52_custompage\" target=\"_blank\" title=\"宋小菜招聘\">\n",
      "      宋小菜\n",
      "     </a>\n",
      "    </h3>\n",
      "    <p>\n",
      "     <a class=\"false-link\" href=\"https://www.zhipin.com/i100020/\" ka=\"search_list_company_industry_52_custompage\" target=\"_blank\" title=\"互联网行业招聘信息\">\n",
      "      互联网\n",
      "     </a>\n",
      "     <em class=\"vline\">\n",
      "     </em>\n",
      "     B轮\n",
      "     <em class=\"vline\">\n",
      "     </em>\n",
      "     500-999人\n",
      "    </p>\n",
      "   </div>\n",
      "   <a href=\"https://www.zhipin.com/gongsi/464da1a4a17f3acd1Xdz0tW-.html\" ka=\"search_list_company_52_custompage_logo\" target=\"_blank\">\n",
      "    <img alt=\"\" class=\"company-logo\" src=\"data:image/jpeg;base64,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\"/>\n",
      "   </a>\n",
      "  </div>\n",
      " </div>\n",
      " <div class=\"info-append clearfix\">\n",
      "  <div class=\"tags\">\n",
      "   <span class=\"tag-item\">\n",
      "    社群运营\n",
      "   </span>\n",
      "   <span class=\"tag-item\">\n",
      "    社群转化\n",
      "   </span>\n",
      "   <span class=\"tag-item\">\n",
      "    社群搭建\n",
      "   </span>\n",
      "   <span class=\"tag-item\">\n",
      "    私域流量\n",
      "   </span>\n",
      "   <span class=\"tag-item\">\n",
      "    用户标签\n",
      "   </span>\n",
      "  </div>\n",
      "  <div class=\"info-desc\">\n",
      "   年终奖，餐补，定期体检，员工旅游，股票期权，节日福利，带薪年假，五险一金\n",
      "  </div>\n",
      " </div>\n",
      "</div>\n",
      "<div class=\"job-primary\">\n",
      " <div class=\"info-primary\">\n",
      "  <div class=\"primary-wrapper\">\n",
      "   <div class=\"primary-box\" data-index=\"22\" data-itemid=\"53\" data-jid=\"b42a826d6c03b73c03Z62du-GVE~\" data-jobid=\"42026393\" data-lid=\"nlp-7pjAjobJYgm.search.53\" href=\"/job_detail/b42a826d6c03b73c03Z62du-GVE~.html\" ka=\"search_list_53\" target=\"_blank\">\n",
      "    <div class=\"job-title\">\n",
      "     <span class=\"job-name\">\n",
      "      <a data-index=\"22\" data-itemid=\"53\" data-jid=\"b42a826d6c03b73c03Z62du-GVE~\" data-jobid=\"42026393\" data-lid=\"nlp-7pjAjobJYgm.search.53\" href=\"https://www.zhipin.com/job_detail/b42a826d6c03b73c03Z62du-GVE~.html\" ka=\"search_list_jname_53\" target=\"_blank\" title=\"用户运营\">\n",
      "       用户运营\n",
      "      </a>\n",
      "     </span>\n",
      "     <span class=\"job-area-wrapper\">\n",
      "      <span class=\"job-area\">\n",
      "       杭州·西湖区·西溪\n",
      "      </span>\n",
      "     </span>\n",
      "     <span class=\"job-pub-time\">\n",
      "      发布于07月02日\n",
      "     </span>\n",
      "    </div>\n",
      "    <div class=\"job-limit clearfix\">\n",
      "     <span class=\"red\">\n",
      "      6-11K\n",
      "     </span>\n",
      "     <p>\n",
      "      1-3年\n",
      "      <em class=\"vline\">\n",
      "      </em>\n",
      "      本科\n",
      "     </p>\n",
      "     <div class=\"info-publis\">\n",
      "      <h3 class=\"name\">\n",
      "       <img class=\"icon-chat\" src=\"data:image/png;base64,iVBORw0KGgoAAAANSUhEUgAAABoAAAAaCAYAAACpSkzOAAAC/0lEQVRIia2WvW4aQRCAt3DpIu8QyU26NGlygM8G7oxtOFvITYrkDdKgSKnyCuF1AN3+sH/HRbhFqdPQ0jMpdvduOZbYRU769I1mdmYOYXlB6IXno9YXkaCTSOJZxMmmzfGuzfEu4mQTSTyLBJ1caX3x0pyTT1zK9y1B5y2eQ4vjIJGtRTyHSOTzqJTvX73gB8DZJcfTliR7s+Q0bY4rtzmGliT7mOPpD8jP/rnk83r9pi3ooiMwdIRpdm5zDG3hWWBo87y2jyCL0Tp/E1ySQ34WC7ro8Bw6HBuEZ4Ghw/Pafmzrl55jQRc5wPEniyWeXnJz6JJbhOcQL5yPOZ4effGxovtYYPivKLqP/T+QrqDzK4GhSew5buSuBIYrSWr7sXemK+gcIYRQpvXFtSTwKgSubQdde0Ov7ZJmX6b1BUrEctKVBLp2QNcb1MQ/E6LZ7+JktZygvmSzniTQs4d7XqOfMzGubCCeQ+eN+5LNUKrZpicx9CSGviSV/djVe1VMGvGpuiHRbIP6kuzc4IoV/T7ebs/7K/rdzyeqrqW2lqjjnkTVeesdSiTZuUJiC+Pt9hwhhMbb7bnLufpRTf47b9mhVJLfqaKQKgqJJJAqCqn31okkkDoUOailyuaO8mae46ZgG3RbsPmNImCgnimkNnbD/Fy4XvtGmZe7UQQGks3QQLNvA0VhYJcMqmXkIGcgnkkjF0Ab3/5aTtDdc/HONd7axltFDdpzgIGqHXoRN+/JXYzDFZvd2aHOYYhnYs8ah/pNzGbV/7rHUn640xTubcN9I747hfIcYrXcP5Xl4a07VOznvaZwr+pFRyjPqpHTFIaaVR5qBqOSH14T5uKDs2FByahgMNQ0jKsV7DCuzrDKmebhiw8hhLKCfxlpBqPComntIMxzHT9ouvi6Xoevcrco0xQyzSCzjZmuF2V2aVawMKvl/qHk05OfxD0Pa/n5oWDwWjJNK2cFm39qfvGnnqeyfDsu+Z9Tgx+txyXbPRZs87his/Gv5eTp+eUfkH8B95QiEYjrEUMAAAAASUVORK5CYII=\"/>\n",
      "       沈女士\n",
      "       <em class=\"vline\">\n",
      "       </em>\n",
      "       招聘者\n",
      "      </h3>\n",
      "     </div>\n",
      "     <button class=\"btn btn-startchat sf-hidden\" data-url=\"/wapi/zpgeek/friend/add.json?jobId=b42a826d6c03b73c03Z62du-GVE~&amp;lid=nlp-7pjAjobJYgm.search.53\" href=\"javascript:;\" redirect-url=\"/web/geek/chat?id=76ee0ce5393e35581nR92NS0\">\n",
      "      <img alt=\"\" class=\"icon-chat icon-chat-hover\" data-single-file-origin-u-r-l=\"https://z.zhipin.com/web/geek/resource/icon-chat-hover-v2.png\" src=\"data:image/gif;base64,R0lGODlhAQABAAAAACH5BAEKAAEALAAAAAABAAEAAAICTAEAOw==\"/>\n",
      "      <span>\n",
      "       立即沟通\n",
      "      </span>\n",
      "     </button>\n",
      "    </div>\n",
      "    <div class=\"info-detail sf-hidden\">\n",
      "    </div>\n",
      "   </div>\n",
      "  </div>\n",
      "  <div class=\"info-company\">\n",
      "   <div class=\"company-text\">\n",
      "    <h3 class=\"name\">\n",
      "     <a href=\"https://www.zhipin.com/gongsi/900085d15306ebfd03B_2dq1Fg~~.html\" ka=\"search_list_company_53_custompage\" target=\"_blank\" title=\"和跃文化招聘\">\n",
      "      和跃文化\n",
      "     </a>\n",
      "    </h3>\n",
      "    <p>\n",
      "     <a class=\"false-link\" href=\"https://www.zhipin.com/i100104/\" ka=\"search_list_company_industry_53_custompage\" target=\"_blank\" title=\"文化/体育/娱乐行业招聘信息\">\n",
      "      文化/体育/娱乐\n",
      "     </a>\n",
      "     <em class=\"vline\">\n",
      "     </em>\n",
      "     20-99人\n",
      "    </p>\n",
      "   </div>\n",
      "   <a href=\"https://www.zhipin.com/gongsi/900085d15306ebfd03B_2dq1Fg~~.html\" ka=\"search_list_company_53_custompage_logo\" target=\"_blank\">\n",
      "    <img alt=\"\" class=\"company-logo\" src=\"data:image/png;base64,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\"/>\n",
      "   </a>\n",
      "  </div>\n",
      " </div>\n",
      " <div class=\"info-append clearfix\">\n",
      "  <div class=\"tags\">\n",
      "   <span class=\"tag-item\">\n",
      "    电商运营\n",
      "   </span>\n",
      "   <span class=\"tag-item\">\n",
      "    数据分析\n",
      "   </span>\n",
      "   <span class=\"tag-item\">\n",
      "    客户资源管理\n",
      "   </span>\n",
      "   <span class=\"tag-item\">\n",
      "    文字表达能力\n",
      "   </span>\n",
      "   <span class=\"tag-item\">\n",
      "    制作美食\n",
      "   </span>\n",
      "  </div>\n",
      "  <div class=\"info-desc\">\n",
      "  </div>\n",
      " </div>\n",
      "</div>\n",
      "<div class=\"job-primary\">\n",
      " <div class=\"info-primary\">\n",
      "  <div class=\"primary-wrapper\">\n",
      "   <div class=\"primary-box\" data-index=\"23\" data-itemid=\"54\" data-jid=\"7ed5d4295ff10feb3nR409i1GFI~\" data-jobid=\"90285880\" data-lid=\"nlp-7pjAjobJYgm.search.54\" href=\"/job_detail/7ed5d4295ff10feb3nR409i1GFI~.html\" ka=\"search_list_54\" target=\"_blank\">\n",
      "    <div class=\"job-title\">\n",
      "     <span class=\"job-name\">\n",
      "      <a data-index=\"23\" data-itemid=\"54\" data-jid=\"7ed5d4295ff10feb3nR409i1GFI~\" data-jobid=\"90285880\" data-lid=\"nlp-7pjAjobJYgm.search.54\" href=\"https://www.zhipin.com/job_detail/7ed5d4295ff10feb3nR409i1GFI~.html\" ka=\"search_list_jname_54\" target=\"_blank\" title=\"用户运营\">\n",
      "       用户运营\n",
      "      </a>\n",
      "     </span>\n",
      "     <span class=\"job-area-wrapper\">\n",
      "      <span class=\"job-area\">\n",
      "       杭州·西湖区·古荡\n",
      "      </span>\n",
      "     </span>\n",
      "     <span class=\"job-pub-time\">\n",
      "      发布于08月04日\n",
      "     </span>\n",
      "    </div>\n",
      "    <div class=\"job-limit clearfix\">\n",
      "     <span class=\"red\">\n",
      "      7-12K\n",
      "     </span>\n",
      "     <p>\n",
      "      1-3年\n",
      "      <em class=\"vline\">\n",
      "      </em>\n",
      "      本科\n",
      "     </p>\n",
      "     <div class=\"info-publis\">\n",
      "      <h3 class=\"name\">\n",
      "       <img class=\"icon-chat\" src=\"data:image/png;base64,iVBORw0KGgoAAAANSUhEUgAAABoAAAAaCAYAAACpSkzOAAAC/0lEQVRIia2WvW4aQRCAt3DpIu8QyU26NGlygM8G7oxtOFvITYrkDdKgSKnyCuF1AN3+sH/HRbhFqdPQ0jMpdvduOZbYRU769I1mdmYOYXlB6IXno9YXkaCTSOJZxMmmzfGuzfEu4mQTSTyLBJ1caX3x0pyTT1zK9y1B5y2eQ4vjIJGtRTyHSOTzqJTvX73gB8DZJcfTliR7s+Q0bY4rtzmGliT7mOPpD8jP/rnk83r9pi3ooiMwdIRpdm5zDG3hWWBo87y2jyCL0Tp/E1ySQ34WC7ro8Bw6HBuEZ4Ghw/Pafmzrl55jQRc5wPEniyWeXnJz6JJbhOcQL5yPOZ4effGxovtYYPivKLqP/T+QrqDzK4GhSew5buSuBIYrSWr7sXemK+gcIYRQpvXFtSTwKgSubQdde0Ov7ZJmX6b1BUrEctKVBLp2QNcb1MQ/E6LZ7+JktZygvmSzniTQs4d7XqOfMzGubCCeQ+eN+5LNUKrZpicx9CSGviSV/djVe1VMGvGpuiHRbIP6kuzc4IoV/T7ebs/7K/rdzyeqrqW2lqjjnkTVeesdSiTZuUJiC+Pt9hwhhMbb7bnLufpRTf47b9mhVJLfqaKQKgqJJJAqCqn31okkkDoUOailyuaO8mae46ZgG3RbsPmNImCgnimkNnbD/Fy4XvtGmZe7UQQGks3QQLNvA0VhYJcMqmXkIGcgnkkjF0Ab3/5aTtDdc/HONd7axltFDdpzgIGqHXoRN+/JXYzDFZvd2aHOYYhnYs8ah/pNzGbV/7rHUn640xTubcN9I747hfIcYrXcP5Xl4a07VOznvaZwr+pFRyjPqpHTFIaaVR5qBqOSH14T5uKDs2FByahgMNQ0jKsV7DCuzrDKmebhiw8hhLKCfxlpBqPComntIMxzHT9ouvi6Xoevcrco0xQyzSCzjZmuF2V2aVawMKvl/qHk05OfxD0Pa/n5oWDwWjJNK2cFm39qfvGnnqeyfDsu+Z9Tgx+txyXbPRZs87his/Gv5eTp+eUfkH8B95QiEYjrEUMAAAAASUVORK5CYII=\"/>\n",
      "       吴女士\n",
      "       <em class=\"vline\">\n",
      "       </em>\n",
      "       HRBP\n",
      "      </h3>\n",
      "     </div>\n",
      "     <button class=\"btn btn-startchat sf-hidden\" data-url=\"/wapi/zpgeek/friend/add.json?jobId=7ed5d4295ff10feb3nR409i1GFI~&amp;lid=nlp-7pjAjobJYgm.search.54\" href=\"javascript:;\" redirect-url=\"/web/geek/chat?id=e735ff79356708b00nx_2N24EA~~\">\n",
      "      <img alt=\"\" class=\"icon-chat icon-chat-hover\" data-single-file-origin-u-r-l=\"https://z.zhipin.com/web/geek/resource/icon-chat-hover-v2.png\" src=\"data:image/gif;base64,R0lGODlhAQABAAAAACH5BAEKAAEALAAAAAABAAEAAAICTAEAOw==\"/>\n",
      "      <span>\n",
      "       立即沟通\n",
      "      </span>\n",
      "     </button>\n",
      "    </div>\n",
      "    <div class=\"info-detail sf-hidden\">\n",
      "    </div>\n",
      "   </div>\n",
      "  </div>\n",
      "  <div class=\"info-company\">\n",
      "   <div class=\"company-text\">\n",
      "    <h3 class=\"name\">\n",
      "     <a href=\"https://www.zhipin.com/gongsi/cbf43c842b6492871HRy0tS-.html\" ka=\"search_list_company_54_custompage\" target=\"_blank\" title=\"年糕妈妈招聘\">\n",
      "      年糕妈妈\n",
      "     </a>\n",
      "    </h3>\n",
      "    <p>\n",
      "     <a class=\"false-link\" href=\"https://www.zhipin.com/i100001/\" ka=\"search_list_company_industry_54_custompage\" target=\"_blank\" title=\"电子商务行业招聘信息\">\n",
      "      电子商务\n",
      "     </a>\n",
      "     <em class=\"vline\">\n",
      "     </em>\n",
      "     B轮\n",
      "     <em class=\"vline\">\n",
      "     </em>\n",
      "     100-499人\n",
      "    </p>\n",
      "   </div>\n",
      "   <a href=\"https://www.zhipin.com/gongsi/cbf43c842b6492871HRy0tS-.html\" ka=\"search_list_company_54_custompage_logo\" target=\"_blank\">\n",
      "    <img alt=\"\" class=\"company-logo\" src=\"data:image/jpeg;base64,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\"/>\n",
      "   </a>\n",
      "  </div>\n",
      " </div>\n",
      " <div class=\"info-append clearfix\">\n",
      "  <div class=\"tags\">\n",
      "   <span class=\"tag-item\">\n",
      "    用户行为分析\n",
      "   </span>\n",
      "   <span class=\"tag-item\">\n",
      "    会员运营\n",
      "   </span>\n",
      "   <span class=\"tag-item\">\n",
      "    会员体系\n",
      "   </span>\n",
      "   <span class=\"tag-item\">\n",
      "    精准用户\n",
      "   </span>\n",
      "   <span class=\"tag-item\">\n",
      "    激励体系\n",
      "   </span>\n",
      "  </div>\n",
      "  <div class=\"info-desc\">\n",
      "   餐补，股票期权，加班补助，星座派对，带薪年假，员工旅游，补充医疗保险，内购会，节日福利，五险一金，全勤奖，年终奖，定期体检\n",
      "  </div>\n",
      " </div>\n",
      "</div>\n",
      "<div class=\"job-primary\">\n",
      " <div class=\"info-primary\">\n",
      "  <div class=\"primary-wrapper\">\n",
      "   <div class=\"primary-box\" data-index=\"24\" data-itemid=\"55\" data-jid=\"de5e3411aea4d3480Hd639y5FFc~\" data-jobid=\"73041445\" data-lid=\"nlp-7pjAjobJYgm.search.55\" href=\"/job_detail/de5e3411aea4d3480Hd639y5FFc~.html\" ka=\"search_list_55\" target=\"_blank\">\n",
      "    <div class=\"job-title\">\n",
      "     <span class=\"job-name\">\n",
      "      <a data-index=\"24\" data-itemid=\"55\" data-jid=\"de5e3411aea4d3480Hd639y5FFc~\" data-jobid=\"73041445\" data-lid=\"nlp-7pjAjobJYgm.search.55\" href=\"https://www.zhipin.com/job_detail/de5e3411aea4d3480Hd639y5FFc~.html\" ka=\"search_list_jname_55\" target=\"_blank\" title=\"用户运营\">\n",
      "       用户运营\n",
      "      </a>\n",
      "     </span>\n",
      "     <span class=\"job-area-wrapper\">\n",
      "      <span class=\"job-area\">\n",
      "       杭州·西湖区·西湖\n",
      "      </span>\n",
      "     </span>\n",
      "     <span class=\"job-pub-time\">\n",
      "      发布于06月12日\n",
      "     </span>\n",
      "    </div>\n",
      "    <div class=\"job-limit clearfix\">\n",
      "     <span class=\"red\">\n",
      "      20-40K\n",
      "     </span>\n",
      "     <p>\n",
      "      5-10年\n",
      "      <em class=\"vline\">\n",
      "      </em>\n",
      "      本科\n",
      "     </p>\n",
      "     <div class=\"info-publis\">\n",
      "      <h3 class=\"name\">\n",
      "       <img class=\"icon-chat\" src=\"data:image/png;base64,iVBORw0KGgoAAAANSUhEUgAAABoAAAAaCAYAAACpSkzOAAAC/0lEQVRIia2WvW4aQRCAt3DpIu8QyU26NGlygM8G7oxtOFvITYrkDdKgSKnyCuF1AN3+sH/HRbhFqdPQ0jMpdvduOZbYRU769I1mdmYOYXlB6IXno9YXkaCTSOJZxMmmzfGuzfEu4mQTSTyLBJ1caX3x0pyTT1zK9y1B5y2eQ4vjIJGtRTyHSOTzqJTvX73gB8DZJcfTliR7s+Q0bY4rtzmGliT7mOPpD8jP/rnk83r9pi3ooiMwdIRpdm5zDG3hWWBo87y2jyCL0Tp/E1ySQ34WC7ro8Bw6HBuEZ4Ghw/Pafmzrl55jQRc5wPEniyWeXnJz6JJbhOcQL5yPOZ4effGxovtYYPivKLqP/T+QrqDzK4GhSew5buSuBIYrSWr7sXemK+gcIYRQpvXFtSTwKgSubQdde0Ov7ZJmX6b1BUrEctKVBLp2QNcb1MQ/E6LZ7+JktZygvmSzniTQs4d7XqOfMzGubCCeQ+eN+5LNUKrZpicx9CSGviSV/djVe1VMGvGpuiHRbIP6kuzc4IoV/T7ebs/7K/rdzyeqrqW2lqjjnkTVeesdSiTZuUJiC+Pt9hwhhMbb7bnLufpRTf47b9mhVJLfqaKQKgqJJJAqCqn31okkkDoUOailyuaO8mae46ZgG3RbsPmNImCgnimkNnbD/Fy4XvtGmZe7UQQGks3QQLNvA0VhYJcMqmXkIGcgnkkjF0Ab3/5aTtDdc/HONd7axltFDdpzgIGqHXoRN+/JXYzDFZvd2aHOYYhnYs8ah/pNzGbV/7rHUn640xTubcN9I747hfIcYrXcP5Xl4a07VOznvaZwr+pFRyjPqpHTFIaaVR5qBqOSH14T5uKDs2FByahgMNQ0jKsV7DCuzrDKmebhiw8hhLKCfxlpBqPComntIMxzHT9ouvi6Xoevcrco0xQyzSCzjZmuF2V2aVawMKvl/qHk05OfxD0Pa/n5oWDwWjJNK2cFm39qfvGnnqeyfDsu+Z9Tgx+txyXbPRZs87his/Gv5eTp+eUfkH8B95QiEYjrEUMAAAAASUVORK5CYII=\"/>\n",
      "       陈先生\n",
      "       <em class=\"vline\">\n",
      "       </em>\n",
      "       运营专家\n",
      "      </h3>\n",
      "     </div>\n",
      "     <button class=\"btn btn-startchat sf-hidden\" data-url=\"/wapi/zpgeek/friend/add.json?jobId=de5e3411aea4d3480Hd639y5FFc~&amp;lid=nlp-7pjAjobJYgm.search.55\" href=\"javascript:;\" redirect-url=\"/web/geek/chat?id=6e871def74d93f151nR739W4GVRR\">\n",
      "      <img alt=\"\" class=\"icon-chat icon-chat-hover\" data-single-file-origin-u-r-l=\"https://z.zhipin.com/web/geek/resource/icon-chat-hover-v2.png\" src=\"data:image/gif;base64,R0lGODlhAQABAAAAACH5BAEKAAEALAAAAAABAAEAAAICTAEAOw==\"/>\n",
      "      <span>\n",
      "       立即沟通\n",
      "      </span>\n",
      "     </button>\n",
      "    </div>\n",
      "    <div class=\"info-detail sf-hidden\">\n",
      "    </div>\n",
      "   </div>\n",
      "  </div>\n",
      "  <div class=\"info-company\">\n",
      "   <div class=\"company-text\">\n",
      "    <h3 class=\"name\">\n",
      "     <a href=\"https://www.zhipin.com/gongsi/12e92393bff967950HNy3w~~.html\" ka=\"search_list_company_55_custompage\" target=\"_blank\" title=\"饿了么招聘\">\n",
      "      饿了么\n",
      "     </a>\n",
      "    </h3>\n",
      "    <p>\n",
      "     <a class=\"false-link\" href=\"https://www.zhipin.com/i100008/\" ka=\"search_list_company_industry_55_custompage\" target=\"_blank\" title=\"O2O行业招聘信息\">\n",
      "      O2O\n",
      "     </a>\n",
      "     <em class=\"vline\">\n",
      "     </em>\n",
      "     不需要融资\n",
      "     <em class=\"vline\">\n",
      "     </em>\n",
      "     10000人以上\n",
      "    </p>\n",
      "   </div>\n",
      "   <a href=\"https://www.zhipin.com/gongsi/12e92393bff967950HNy3w~~.html\" ka=\"search_list_company_55_custompage_logo\" target=\"_blank\">\n",
      "    <img alt=\"\" class=\"company-logo\" src=\"data:image/jpeg;base64,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\"/>\n",
      "   </a>\n",
      "  </div>\n",
      " </div>\n",
      " <div class=\"info-append clearfix\">\n",
      "  <div class=\"tags\">\n",
      "   <span class=\"tag-item\">\n",
      "    商家运营\n",
      "   </span>\n",
      "   <span class=\"tag-item\">\n",
      "    活动运营\n",
      "   </span>\n",
      "   <span class=\"tag-item\">\n",
      "    内容运营\n",
      "   </span>\n",
      "   <span class=\"tag-item\">\n",
      "    数据分析\n",
      "   </span>\n",
      "   <span class=\"tag-item\">\n",
      "    社群搭建\n",
      "   </span>\n",
      "  </div>\n",
      "  <div class=\"info-desc\">\n",
      "   定期体检，交通补助，通讯补贴，五险一金，员工旅游，包吃，节日福利，免费班车，股票期权，年终奖，公司团建，带薪年假，零食下午茶，补充医疗保险，餐补\n",
      "  </div>\n",
      " </div>\n",
      "</div>\n",
      "<div class=\"job-primary\">\n",
      " <div class=\"info-primary\">\n",
      "  <div class=\"primary-wrapper\">\n",
      "   <div class=\"primary-box\" data-index=\"25\" data-itemid=\"56\" data-jid=\"ea29fd31cccfb24d33F42t61E1s~\" data-jobid=\"85213839\" data-lid=\"nlp-7pjAjobJYgm.search.56\" href=\"/job_detail/ea29fd31cccfb24d33F42t61E1s~.html\" ka=\"search_list_56\" target=\"_blank\">\n",
      "    <div class=\"job-title\">\n",
      "     <span class=\"job-name\">\n",
      "      <a data-index=\"25\" data-itemid=\"56\" data-jid=\"ea29fd31cccfb24d33F42t61E1s~\" data-jobid=\"85213839\" data-lid=\"nlp-7pjAjobJYgm.search.56\" href=\"https://www.zhipin.com/job_detail/ea29fd31cccfb24d33F42t61E1s~.html\" ka=\"search_list_jname_56\" target=\"_blank\" title=\"用户运营\">\n",
      "       用户运营\n",
      "      </a>\n",
      "     </span>\n",
      "     <span class=\"job-area-wrapper\">\n",
      "      <span class=\"job-area\">\n",
      "       杭州·拱墅区·上塘\n",
      "      </span>\n",
      "     </span>\n",
      "     <span class=\"job-pub-time\">\n",
      "      发布于06月30日\n",
      "     </span>\n",
      "    </div>\n",
      "    <div class=\"job-limit clearfix\">\n",
      "     <span class=\"red\">\n",
      "      12-20K\n",
      "     </span>\n",
      "     <p>\n",
      "      5-10年\n",
      "      <em class=\"vline\">\n",
      "      </em>\n",
      "      本科\n",
      "     </p>\n",
      "     <div class=\"info-publis\">\n",
      "      <h3 class=\"name\">\n",
      "       <img class=\"icon-chat\" src=\"data:image/png;base64,iVBORw0KGgoAAAANSUhEUgAAABoAAAAaCAYAAACpSkzOAAAC/0lEQVRIia2WvW4aQRCAt3DpIu8QyU26NGlygM8G7oxtOFvITYrkDdKgSKnyCuF1AN3+sH/HRbhFqdPQ0jMpdvduOZbYRU769I1mdmYOYXlB6IXno9YXkaCTSOJZxMmmzfGuzfEu4mQTSTyLBJ1caX3x0pyTT1zK9y1B5y2eQ4vjIJGtRTyHSOTzqJTvX73gB8DZJcfTliR7s+Q0bY4rtzmGliT7mOPpD8jP/rnk83r9pi3ooiMwdIRpdm5zDG3hWWBo87y2jyCL0Tp/E1ySQ34WC7ro8Bw6HBuEZ4Ghw/Pafmzrl55jQRc5wPEniyWeXnJz6JJbhOcQL5yPOZ4effGxovtYYPivKLqP/T+QrqDzK4GhSew5buSuBIYrSWr7sXemK+gcIYRQpvXFtSTwKgSubQdde0Ov7ZJmX6b1BUrEctKVBLp2QNcb1MQ/E6LZ7+JktZygvmSzniTQs4d7XqOfMzGubCCeQ+eN+5LNUKrZpicx9CSGviSV/djVe1VMGvGpuiHRbIP6kuzc4IoV/T7ebs/7K/rdzyeqrqW2lqjjnkTVeesdSiTZuUJiC+Pt9hwhhMbb7bnLufpRTf47b9mhVJLfqaKQKgqJJJAqCqn31okkkDoUOailyuaO8mae46ZgG3RbsPmNImCgnimkNnbD/Fy4XvtGmZe7UQQGks3QQLNvA0VhYJcMqmXkIGcgnkkjF0Ab3/5aTtDdc/HONd7axltFDdpzgIGqHXoRN+/JXYzDFZvd2aHOYYhnYs8ah/pNzGbV/7rHUn640xTubcN9I747hfIcYrXcP5Xl4a07VOznvaZwr+pFRyjPqpHTFIaaVR5qBqOSH14T5uKDs2FByahgMNQ0jKsV7DCuzrDKmebhiw8hhLKCfxlpBqPComntIMxzHT9ouvi6Xoevcrco0xQyzSCzjZmuF2V2aVawMKvl/qHk05OfxD0Pa/n5oWDwWjJNK2cFm39qfvGnnqeyfDsu+Z9Tgx+txyXbPRZs87his/Gv5eTp+eUfkH8B95QiEYjrEUMAAAAASUVORK5CYII=\"/>\n",
      "       尤女士\n",
      "       <em class=\"vline\">\n",
      "       </em>\n",
      "       人事专员\n",
      "      </h3>\n",
      "     </div>\n",
      "     <button class=\"btn btn-startchat sf-hidden\" data-url=\"/wapi/zpgeek/friend/add.json?jobId=ea29fd31cccfb24d33F42t61E1s~&amp;lid=nlp-7pjAjobJYgm.search.56\" href=\"javascript:;\" redirect-url=\"/web/geek/chat?id=44f2d80097b069cd1Xxz2965F1I~\">\n",
      "      <img alt=\"\" class=\"icon-chat icon-chat-hover\" data-single-file-origin-u-r-l=\"https://z.zhipin.com/web/geek/resource/icon-chat-hover-v2.png\" src=\"data:image/gif;base64,R0lGODlhAQABAAAAACH5BAEKAAEALAAAAAABAAEAAAICTAEAOw==\"/>\n",
      "      <span>\n",
      "       立即沟通\n",
      "      </span>\n",
      "     </button>\n",
      "    </div>\n",
      "    <div class=\"info-detail sf-hidden\">\n",
      "    </div>\n",
      "   </div>\n",
      "  </div>\n",
      "  <div class=\"info-company\">\n",
      "   <div class=\"company-text\">\n",
      "    <h3 class=\"name\">\n",
      "     <a href=\"https://www.zhipin.com/gongsi/8f1ff330e22a4edd1HN50tQ~.html\" ka=\"search_list_company_56_custompage\" target=\"_blank\" title=\"新船帮招聘\">\n",
      "      新船帮\n",
      "     </a>\n",
      "    </h3>\n",
      "    <p>\n",
      "     <a class=\"false-link\" href=\"https://www.zhipin.com/i100020/\" ka=\"search_list_company_industry_56_custompage\" target=\"_blank\" title=\"互联网行业招聘信息\">\n",
      "      互联网\n",
      "     </a>\n",
      "     <em class=\"vline\">\n",
      "     </em>\n",
      "     未融资\n",
      "     <em class=\"vline\">\n",
      "     </em>\n",
      "     20-99人\n",
      "    </p>\n",
      "   </div>\n",
      "   <a href=\"https://www.zhipin.com/gongsi/8f1ff330e22a4edd1HN50tQ~.html\" ka=\"search_list_company_56_custompage_logo\" target=\"_blank\">\n",
      "    <img alt=\"\" class=\"company-logo\" src=\"data:image/jpeg;base64,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\"/>\n",
      "   </a>\n",
      "  </div>\n",
      " </div>\n",
      " <div class=\"info-append clearfix\">\n",
      "  <div class=\"tags\">\n",
      "   <span class=\"tag-item\">\n",
      "    用户增长\n",
      "   </span>\n",
      "   <span class=\"tag-item\">\n",
      "    社群运营\n",
      "   </span>\n",
      "   <span class=\"tag-item\">\n",
      "    粉丝运营\n",
      "   </span>\n",
      "   <span class=\"tag-item\">\n",
      "    用户拉新\n",
      "   </span>\n",
      "   <span class=\"tag-item\">\n",
      "    互联网产品运营\n",
      "   </span>\n",
      "  </div>\n",
      "  <div class=\"info-desc\">\n",
      "   加班补助，通讯补贴，带薪年假，餐补，股票期权，全勤奖，节日福利，零食下午茶\n",
      "  </div>\n",
      " </div>\n",
      "</div>\n",
      "<div class=\"job-primary\">\n",
      " <div class=\"info-primary\">\n",
      "  <div class=\"primary-wrapper\">\n",
      "   <div class=\"primary-box\" data-index=\"26\" data-itemid=\"57\" data-jid=\"960b9bf3ac8388953nV93t64Elo~\" data-jobid=\"91753528\" data-lid=\"nlp-7pjAjobJYgm.search.57\" href=\"/job_detail/960b9bf3ac8388953nV93t64Elo~.html\" ka=\"search_list_57\" target=\"_blank\">\n",
      "    <div class=\"job-title\">\n",
      "     <span class=\"job-name\">\n",
      "      <a data-index=\"26\" data-itemid=\"57\" data-jid=\"960b9bf3ac8388953nV93t64Elo~\" data-jobid=\"91753528\" data-lid=\"nlp-7pjAjobJYgm.search.57\" href=\"https://www.zhipin.com/job_detail/960b9bf3ac8388953nV93t64Elo~.html\" ka=\"search_list_jname_57\" target=\"_blank\" title=\"用户运营\">\n",
      "       用户运营\n",
      "      </a>\n",
      "     </span>\n",
      "     <span class=\"job-area-wrapper\">\n",
      "      <span class=\"job-area\">\n",
      "       杭州·余杭区·仓前\n",
      "      </span>\n",
      "     </span>\n",
      "     <span class=\"job-pub-time\">\n",
      "      发布于11:07\n",
      "     </span>\n",
      "    </div>\n",
      "    <div class=\"job-limit clearfix\">\n",
      "     <span class=\"red\">\n",
      "      6-7K\n",
      "     </span>\n",
      "     <p>\n",
      "      1-3年\n",
      "      <em class=\"vline\">\n",
      "      </em>\n",
      "      本科\n",
      "     </p>\n",
      "     <div class=\"info-publis\">\n",
      "      <h3 class=\"name\">\n",
      "       <img class=\"icon-chat\" src=\"data:image/png;base64,iVBORw0KGgoAAAANSUhEUgAAABoAAAAaCAYAAACpSkzOAAAC/0lEQVRIia2WvW4aQRCAt3DpIu8QyU26NGlygM8G7oxtOFvITYrkDdKgSKnyCuF1AN3+sH/HRbhFqdPQ0jMpdvduOZbYRU769I1mdmYOYXlB6IXno9YXkaCTSOJZxMmmzfGuzfEu4mQTSTyLBJ1caX3x0pyTT1zK9y1B5y2eQ4vjIJGtRTyHSOTzqJTvX73gB8DZJcfTliR7s+Q0bY4rtzmGliT7mOPpD8jP/rnk83r9pi3ooiMwdIRpdm5zDG3hWWBo87y2jyCL0Tp/E1ySQ34WC7ro8Bw6HBuEZ4Ghw/Pafmzrl55jQRc5wPEniyWeXnJz6JJbhOcQL5yPOZ4effGxovtYYPivKLqP/T+QrqDzK4GhSew5buSuBIYrSWr7sXemK+gcIYRQpvXFtSTwKgSubQdde0Ov7ZJmX6b1BUrEctKVBLp2QNcb1MQ/E6LZ7+JktZygvmSzniTQs4d7XqOfMzGubCCeQ+eN+5LNUKrZpicx9CSGviSV/djVe1VMGvGpuiHRbIP6kuzc4IoV/T7ebs/7K/rdzyeqrqW2lqjjnkTVeesdSiTZuUJiC+Pt9hwhhMbb7bnLufpRTf47b9mhVJLfqaKQKgqJJJAqCqn31okkkDoUOailyuaO8mae46ZgG3RbsPmNImCgnimkNnbD/Fy4XvtGmZe7UQQGks3QQLNvA0VhYJcMqmXkIGcgnkkjF0Ab3/5aTtDdc/HONd7axltFDdpzgIGqHXoRN+/JXYzDFZvd2aHOYYhnYs8ah/pNzGbV/7rHUn640xTubcN9I747hfIcYrXcP5Xl4a07VOznvaZwr+pFRyjPqpHTFIaaVR5qBqOSH14T5uKDs2FByahgMNQ0jKsV7DCuzrDKmebhiw8hhLKCfxlpBqPComntIMxzHT9ouvi6Xoevcrco0xQyzSCzjZmuF2V2aVawMKvl/qHk05OfxD0Pa/n5oWDwWjJNK2cFm39qfvGnnqeyfDsu+Z9Tgx+txyXbPRZs87his/Gv5eTp+eUfkH8B95QiEYjrEUMAAAAASUVORK5CYII=\"/>\n",
      "       王女士\n",
      "       <em class=\"vline\">\n",
      "       </em>\n",
      "       资深hr\n",
      "      </h3>\n",
      "     </div>\n",
      "     <button class=\"btn btn-startchat sf-hidden\" data-url=\"/wapi/zpgeek/friend/add.json?jobId=960b9bf3ac8388953nV93t64Elo~&amp;lid=nlp-7pjAjobJYgm.search.57\" href=\"javascript:;\" redirect-url=\"/web/geek/chat?id=7d09b711d77e51ee0HRz09i9EVo~\">\n",
      "      <img alt=\"\" class=\"icon-chat icon-chat-hover\" data-single-file-origin-u-r-l=\"https://z.zhipin.com/web/geek/resource/icon-chat-hover-v2.png\" src=\"data:image/gif;base64,R0lGODlhAQABAAAAACH5BAEKAAEALAAAAAABAAEAAAICTAEAOw==\"/>\n",
      "      <span>\n",
      "       立即沟通\n",
      "      </span>\n",
      "     </button>\n",
      "    </div>\n",
      "    <div class=\"info-detail sf-hidden\">\n",
      "    </div>\n",
      "   </div>\n",
      "  </div>\n",
      "  <div class=\"info-company\">\n",
      "   <div class=\"company-text\">\n",
      "    <h3 class=\"name\">\n",
      "     <a href=\"https://www.zhipin.com/gongsi/3a12f5d48d85ecde1nd53tq8FA~~.html\" ka=\"search_list_company_57_custompage\" target=\"_blank\" title=\"杭州河象招聘\">\n",
      "      杭州河象\n",
      "     </a>\n",
      "    </h3>\n",
      "    <p>\n",
      "     <a class=\"false-link\" href=\"https://www.zhipin.com/i100020/\" ka=\"search_list_company_industry_57_custompage\" target=\"_blank\" title=\"互联网行业招聘信息\">\n",
      "      互联网\n",
      "     </a>\n",
      "     <em class=\"vline\">\n",
      "     </em>\n",
      "     B轮\n",
      "     <em class=\"vline\">\n",
      "     </em>\n",
      "     1000-9999人\n",
      "    </p>\n",
      "   </div>\n",
      "   <a href=\"https://www.zhipin.com/gongsi/3a12f5d48d85ecde1nd53tq8FA~~.html\" ka=\"search_list_company_57_custompage_logo\" target=\"_blank\">\n",
      "    <img alt=\"\" class=\"company-logo\" src=\"data:image/jpeg;base64,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\"/>\n",
      "   </a>\n",
      "  </div>\n",
      " </div>\n",
      " <div class=\"info-append clearfix\">\n",
      "  <div class=\"tags\">\n",
      "   <span class=\"tag-item\">\n",
      "    用户分层\n",
      "   </span>\n",
      "   <span class=\"tag-item\">\n",
      "    社群搭建\n",
      "   </span>\n",
      "   <span class=\"tag-item\">\n",
      "    社区运营\n",
      "   </span>\n",
      "   <span class=\"tag-item\">\n",
      "    用户画像\n",
      "   </span>\n",
      "   <span class=\"tag-item\">\n",
      "    KOL\n",
      "   </span>\n",
      "  </div>\n",
      "  <div class=\"info-desc\">\n",
      "   通讯补贴，员工旅游，带薪年假，零食下午茶，加班补助，五险一金，节日福利\n",
      "  </div>\n",
      " </div>\n",
      "</div>\n",
      "<div class=\"job-primary\">\n",
      " <div class=\"info-primary\">\n",
      "  <div class=\"primary-wrapper\">\n",
      "   <div class=\"primary-box\" data-index=\"27\" data-itemid=\"58\" data-jid=\"2cc2f1eb11beb17f331z0tS-E1E~\" data-jobid=\"89999333\" data-lid=\"nlp-7pjAjobJYgm.search.58\" href=\"/job_detail/2cc2f1eb11beb17f331z0tS-E1E~.html\" ka=\"search_list_58\" target=\"_blank\">\n",
      "    <div class=\"job-title\">\n",
      "     <span class=\"job-name\">\n",
      "      <a data-index=\"27\" data-itemid=\"58\" data-jid=\"2cc2f1eb11beb17f331z0tS-E1E~\" data-jobid=\"89999333\" data-lid=\"nlp-7pjAjobJYgm.search.58\" href=\"https://www.zhipin.com/job_detail/2cc2f1eb11beb17f331z0tS-E1E~.html\" ka=\"search_list_jname_58\" target=\"_blank\" title=\"用户运营\">\n",
      "       用户运营\n",
      "      </a>\n",
      "     </span>\n",
      "     <span class=\"job-area-wrapper\">\n",
      "      <span class=\"job-area\">\n",
      "       杭州·余杭区·仓前\n",
      "      </span>\n",
      "     </span>\n",
      "     <span class=\"job-pub-time\">\n",
      "      发布于07月28日\n",
      "     </span>\n",
      "    </div>\n",
      "    <div class=\"job-limit clearfix\">\n",
      "     <span class=\"red\">\n",
      "      8-12K·14薪\n",
      "     </span>\n",
      "     <p>\n",
      "      3-5年\n",
      "      <em class=\"vline\">\n",
      "      </em>\n",
      "      本科\n",
      "     </p>\n",
      "     <div class=\"info-publis\">\n",
      "      <h3 class=\"name\">\n",
      "       <img class=\"icon-chat\" src=\"data:image/png;base64,iVBORw0KGgoAAAANSUhEUgAAABoAAAAaCAYAAACpSkzOAAAC/0lEQVRIia2WvW4aQRCAt3DpIu8QyU26NGlygM8G7oxtOFvITYrkDdKgSKnyCuF1AN3+sH/HRbhFqdPQ0jMpdvduOZbYRU769I1mdmYOYXlB6IXno9YXkaCTSOJZxMmmzfGuzfEu4mQTSTyLBJ1caX3x0pyTT1zK9y1B5y2eQ4vjIJGtRTyHSOTzqJTvX73gB8DZJcfTliR7s+Q0bY4rtzmGliT7mOPpD8jP/rnk83r9pi3ooiMwdIRpdm5zDG3hWWBo87y2jyCL0Tp/E1ySQ34WC7ro8Bw6HBuEZ4Ghw/Pafmzrl55jQRc5wPEniyWeXnJz6JJbhOcQL5yPOZ4effGxovtYYPivKLqP/T+QrqDzK4GhSew5buSuBIYrSWr7sXemK+gcIYRQpvXFtSTwKgSubQdde0Ov7ZJmX6b1BUrEctKVBLp2QNcb1MQ/E6LZ7+JktZygvmSzniTQs4d7XqOfMzGubCCeQ+eN+5LNUKrZpicx9CSGviSV/djVe1VMGvGpuiHRbIP6kuzc4IoV/T7ebs/7K/rdzyeqrqW2lqjjnkTVeesdSiTZuUJiC+Pt9hwhhMbb7bnLufpRTf47b9mhVJLfqaKQKgqJJJAqCqn31okkkDoUOailyuaO8mae46ZgG3RbsPmNImCgnimkNnbD/Fy4XvtGmZe7UQQGks3QQLNvA0VhYJcMqmXkIGcgnkkjF0Ab3/5aTtDdc/HONd7axltFDdpzgIGqHXoRN+/JXYzDFZvd2aHOYYhnYs8ah/pNzGbV/7rHUn640xTubcN9I747hfIcYrXcP5Xl4a07VOznvaZwr+pFRyjPqpHTFIaaVR5qBqOSH14T5uKDs2FByahgMNQ0jKsV7DCuzrDKmebhiw8hhLKCfxlpBqPComntIMxzHT9ouvi6Xoevcrco0xQyzSCzjZmuF2V2aVawMKvl/qHk05OfxD0Pa/n5oWDwWjJNK2cFm39qfvGnnqeyfDsu+Z9Tgx+txyXbPRZs87his/Gv5eTp+eUfkH8B95QiEYjrEUMAAAAASUVORK5CYII=\"/>\n",
      "       熊美霞\n",
      "       <em class=\"vline\">\n",
      "       </em>\n",
      "       HR\n",
      "      </h3>\n",
      "     </div>\n",
      "     <button class=\"btn btn-startchat sf-hidden\" data-url=\"/wapi/zpgeek/friend/add.json?jobId=2cc2f1eb11beb17f331z0tS-E1E~&amp;lid=nlp-7pjAjobJYgm.search.58\" href=\"javascript:;\" redirect-url=\"/web/geek/chat?id=ebe8029fb5f0e7421HNy3tS8EVU~\">\n",
      "      <img alt=\"\" class=\"icon-chat icon-chat-hover\" data-single-file-origin-u-r-l=\"https://z.zhipin.com/web/geek/resource/icon-chat-hover-v2.png\" src=\"data:image/gif;base64,R0lGODlhAQABAAAAACH5BAEKAAEALAAAAAABAAEAAAICTAEAOw==\"/>\n",
      "      <span>\n",
      "       立即沟通\n",
      "      </span>\n",
      "     </button>\n",
      "    </div>\n",
      "    <div class=\"info-detail sf-hidden\">\n",
      "    </div>\n",
      "   </div>\n",
      "  </div>\n",
      "  <div class=\"info-company\">\n",
      "   <div class=\"company-text\">\n",
      "    <h3 class=\"name\">\n",
      "     <a href=\"https://www.zhipin.com/gongsi/1f23d2f0453057711nR43Ng~.html\" ka=\"search_list_company_58_custompage\" target=\"_blank\" title=\"邻汇吧招聘\">\n",
      "      邻汇吧\n",
      "     </a>\n",
      "    </h3>\n",
      "    <p>\n",
      "     <a class=\"false-link\" href=\"https://www.zhipin.com/i100020/\" ka=\"search_list_company_industry_58_custompage\" target=\"_blank\" title=\"互联网行业招聘信息\">\n",
      "      互联网\n",
      "     </a>\n",
      "     <em class=\"vline\">\n",
      "     </em>\n",
      "     B轮\n",
      "     <em class=\"vline\">\n",
      "     </em>\n",
      "     100-499人\n",
      "    </p>\n",
      "   </div>\n",
      "   <a href=\"https://www.zhipin.com/gongsi/1f23d2f0453057711nR43Ng~.html\" ka=\"search_list_company_58_custompage_logo\" target=\"_blank\">\n",
      "    <img alt=\"\" class=\"company-logo\" src=\"data:image/jpeg;base64,/9j/4AAQSkZJRgABAQAAAQABAAD/4gxYSUNDX1BST0ZJTEUAAQEAAAxITGlubwIQAABtbnRyUkdCIFhZWiAHzgACAAkABgAxAABhY3NwTVNGVAAAAABJRUMgc1JHQgAAAAAAAAAAAAAAAAAA9tYAAQAAAADTLUhQICAAAAAAAAAAAAAAAAAAAAAAAAAAAAAAAAAAAAAAAAAAAAAAAAAAAAAAAAAAAAAAABFjcHJ0AAABUAAAADNkZXNjAAABhAAAAGx3dHB0AAAB8AAAABRia3B0AAACBAAAABRyWFlaAAACGAAAABRnWFlaAAACLAAAABRiWFlaAAACQAAAABRkbW5kAAACVAAAAHBkbWRkAAACxAAAAIh2dWVkAAADTAAAAIZ2aWV3AAAD1AAAACRsdW1pAAAD+AAAABRtZWFzAAAEDAAAACR0ZWNoAAAEMAAAAAxyVFJDAAAEPAAACAxnVFJDAAAEPAAACAxiVFJDAAAEPAAACAx0ZXh0AAAAAENvcHlyaWdodCAoYykgMTk5OCBIZXdsZXR0LVBhY2thcmQgQ29tcGFueQAAZGVzYwAAAAAAAAASc1JHQiBJRUM2MTk2Ni0yLjEAAAAAAAAAAAAAABJzUkdCIElFQzYxOTY2LTIuMQAAAAAAAAAAAAAAAAAAAAAAAAAAAAAAAAAAAAAAAAAAAAAAAAAAAAAAAAAAAAAAAAAAWFlaIAAAAAAAAPNRAAEAAAABFsxYWVogAAAAAAAAAAAAAAAAAAAAAFhZWiAAAAAAAABvogAAOPUAAAOQWFlaIAAAAAAAAGKZAAC3hQAAGNpYWVogAAAAAAAAJKAAAA+EAAC2z2Rlc2MAAAAAAAAAFklFQyBodHRwOi8vd3d3LmllYy5jaAAAAAAAAAAAAAAAFklFQyBodHRwOi8vd3d3LmllYy5jaAAAAAAAAAAAAAAAAAAAAAAAAAAAAAAAAAAAAAAAAAAAAAAAAAAAAAAAAAAAAABkZXNjAAAAAAAAAC5JRUMgNjE5NjYtMi4xIERlZmF1bHQgUkdCIGNvbG91ciBzcGFjZSAtIHNSR0IAAAAAAAAAAAAAAC5JRUMgNjE5NjYtMi4xIERlZmF1bHQgUkdCIGNvbG91ciBzcGFjZSAtIHNSR0IAAAAAAAAAAAAAAAAAAAAAAAAAAAAAZGVzYwAAAAAAAAAsUmVmZXJlbmNlIFZpZXdpbmcgQ29uZGl0aW9uIGluIElFQzYxOTY2LTIuMQAAAAAAAAAAAAAALFJlZmVyZW5jZSBWaWV3aW5nIENvbmRpdGlvbiBpbiBJRUM2MTk2Ni0yLjEAAAAAAAAAAAAAAAAAAAAAAAAAAAAAAAAAAHZpZXcAAAAAABOk/gAUXy4AEM8UAAPtzAAEEwsAA1yeAAAAAVhZWiAAAAAAAEwJVgBQAAAAVx/nbWVhcwAAAAAAAAABAAAAAAAAAAAAAAAAAAAAAAAAAo8AAAACc2lnIAAAAABDUlQgY3VydgAAAAAAAAQAAAAABQAKAA8AFAAZAB4AIwAoAC0AMgA3ADsAQABFAEoATwBUAFkAXgBjAGgAbQByAHcAfACBAIYAiwCQAJUAmgCfAKQAqQCuALIAtwC8AMEAxgDLANAA1QDbAOAA5QDrAPAA9gD7AQEBBwENARMBGQEfASUBKwEyATgBPgFFAUwBUgFZAWABZwFuAXUBfAGDAYsBkgGaAaEBqQGxAbkBwQHJAdEB2QHhAekB8gH6AgMCDAIUAh0CJgIvAjgCQQJLAlQCXQJnAnECegKEAo4CmAKiAqwCtgLBAssC1QLgAusC9QMAAwsDFgMhAy0DOANDA08DWgNmA3IDfgOKA5YDogOuA7oDxwPTA+AD7AP5BAYEEwQgBC0EOwRIBFUEYwRxBH4EjASaBKgEtgTEBNME4QTwBP4FDQUcBSsFOgVJBVgFZwV3BYYFlgWmBbUFxQXVBeUF9gYGBhYGJwY3BkgGWQZqBnsGjAadBq8GwAbRBuMG9QcHBxkHKwc9B08HYQd0B4YHmQesB78H0gflB/gICwgfCDIIRghaCG4IggiWCKoIvgjSCOcI+wkQCSUJOglPCWQJeQmPCaQJugnPCeUJ+woRCicKPQpUCmoKgQqYCq4KxQrcCvMLCwsiCzkLUQtpC4ALmAuwC8gL4Qv5DBIMKgxDDFwMdQyODKcMwAzZDPMNDQ0mDUANWg10DY4NqQ3DDd4N+A4TDi4OSQ5kDn8Omw62DtIO7g8JDyUPQQ9eD3oPlg+zD88P7BAJECYQQxBhEH4QmxC5ENcQ9RETETERTxFtEYwRqhHJEegSBxImEkUSZBKEEqMSwxLjEwMTIxNDE2MTgxOkE8UT5RQGFCcUSRRqFIsUrRTOFPAVEhU0FVYVeBWbFb0V4BYDFiYWSRZsFo8WshbWFvoXHRdBF2UXiReuF9IX9xgbGEAYZRiKGK8Y1Rj6GSAZRRlrGZEZtxndGgQaKhpRGncanhrFGuwbFBs7G2MbihuyG9ocAhwqHFIcexyjHMwc9R0eHUcdcB2ZHcMd7B4WHkAeah6UHr4e6R8THz4faR+UH78f6iAVIEEgbCCYIMQg8CEcIUghdSGhIc4h+yInIlUigiKvIt0jCiM4I2YjlCPCI/AkHyRNJHwkqyTaJQklOCVoJZclxyX3JicmVyaHJrcm6CcYJ0kneierJ9woDSg/KHEooijUKQYpOClrKZ0p0CoCKjUqaCqbKs8rAis2K2krnSvRLAUsOSxuLKIs1y0MLUEtdi2rLeEuFi5MLoIuty7uLyQvWi+RL8cv/jA1MGwwpDDbMRIxSjGCMbox8jIqMmMymzLUMw0zRjN/M7gz8TQrNGU0njTYNRM1TTWHNcI1/TY3NnI2rjbpNyQ3YDecN9c4FDhQOIw4yDkFOUI5fzm8Ofk6Njp0OrI67zstO2s7qjvoPCc8ZTykPOM9Ij1hPaE94D4gPmA+oD7gPyE/YT+iP+JAI0BkQKZA50EpQWpBrEHuQjBCckK1QvdDOkN9Q8BEA0RHRIpEzkUSRVVFmkXeRiJGZ0arRvBHNUd7R8BIBUhLSJFI10kdSWNJqUnwSjdKfUrESwxLU0uaS+JMKkxyTLpNAk1KTZNN3E4lTm5Ot08AT0lPk0/dUCdQcVC7UQZRUFGbUeZSMVJ8UsdTE1NfU6pT9lRCVI9U21UoVXVVwlYPVlxWqVb3V0RXklfgWC9YfVjLWRpZaVm4WgdaVlqmWvVbRVuVW+VcNVyGXNZdJ114XcleGl5sXr1fD19hX7NgBWBXYKpg/GFPYaJh9WJJYpxi8GNDY5dj62RAZJRk6WU9ZZJl52Y9ZpJm6Gc9Z5Nn6Wg/aJZo7GlDaZpp8WpIap9q92tPa6dr/2xXbK9tCG1gbbluEm5rbsRvHm94b9FwK3CGcOBxOnGVcfByS3KmcwFzXXO4dBR0cHTMdSh1hXXhdj52m3b4d1Z3s3gReG54zHkqeYl553pGeqV7BHtje8J8IXyBfOF9QX2hfgF+Yn7CfyN/hH/lgEeAqIEKgWuBzYIwgpKC9INXg7qEHYSAhOOFR4Wrhg6GcobXhzuHn4gEiGmIzokziZmJ/opkisqLMIuWi/yMY4zKjTGNmI3/jmaOzo82j56QBpBukNaRP5GokhGSepLjk02TtpQglIqU9JVflcmWNJaflwqXdZfgmEyYuJkkmZCZ/JpomtWbQpuvnByciZz3nWSd0p5Anq6fHZ+Ln/qgaaDYoUehtqImopajBqN2o+akVqTHpTilqaYapoum/adup+CoUqjEqTepqaocqo+rAqt1q+msXKzQrUStuK4trqGvFq+LsACwdbDqsWCx1rJLssKzOLOutCW0nLUTtYq2AbZ5tvC3aLfguFm40blKucK6O7q1uy67p7whvJu9Fb2Pvgq+hL7/v3q/9cBwwOzBZ8Hjwl/C28NYw9TEUcTOxUvFyMZGxsPHQce/yD3IvMk6ybnKOMq3yzbLtsw1zLXNNc21zjbOts83z7jQOdC60TzRvtI/0sHTRNPG1EnUy9VO1dHWVdbY11zX4Nhk2OjZbNnx2nba+9uA3AXcit0Q3ZbeHN6i3ynfr+A24L3hROHM4lPi2+Nj4+vkc+T85YTmDeaW5x/nqegy6LzpRunQ6lvq5etw6/vshu0R7ZzuKO6070DvzPBY8OXxcvH/8ozzGfOn9DT0wvVQ9d72bfb794r4Gfio+Tj5x/pX+uf7d/wH/Jj9Kf26/kv+3P9t////2wBDAAIBAQIBAQICAgICAgICAwUDAwMDAwYEBAMFBwYHBwcGBwcICQsJCAgKCAcHCg0KCgsMDAwMBwkODw0MDgsMDAz/2wBDAQICAgMDAwYDAwYMCAcIDAwMDAwMDAwMDAwMDAwMDAwMDAwMDAwMDAwMDAwMDAwMDAwMDAwMDAwMDAwMDAwMDAz/wAARCABkAGQDAREAAhEBAxEB/8QAHAABAAICAwEAAAAAAAAAAAAAAAYIAwcCBAUJ/8QALhAAAQMEAgIBBAECBwAAAAAAAQIDBAAFBhEHEgghEwkUIjEVFkEXI0JhcZGh/8QAGgEBAAMBAQEAAAAAAAAAAAAAAAIGBwQFA//EADARAAIBAwMCAwYGAwAAAAAAAAABAgMFEQQGIRIxFFFhEzJBcYGhByKRsdHwQuHx/9oADAMBAAIRAxEAPwD7+UAoBQCgFAKAUAoBQCgFAKAUAoBQCgFAKAUAoBQCgFAKAUAoBQCgFAKAUAoBQCgFAKAUAoBQCgFAKAUAoBQCgFAKAUAoBQCgFAKA1p5F+VeMeNEK3/zQuE+53dZRBtluZD0uURoEhJIASCQNk+yfQJqz7b2lrr1KfhsRhD3pyeIr688/T54PBvm49Ja4x9vmUpdoxWW/7/wxeOnlpi/koLjHtLdytd5tBH3tqubAZlMAnQVoEgp369HYOtgbG57k2hrrL0T1DjOnP3ZxeYv0+HP7/DPJGx7l0l06o0U4zj3jJYa/1/WbQqqlgFAKAUAoBQCgFAKAUAoCl3mPyqONvPXBr7j9tkZrf7NaXIk2wRWHHH2EL+QocQUpVpZS8T6BICBv0oGtt2XaXrdqarS6uaoUpzTjUbSTaxlPLXCcfu8djKt03Hwu4dPqNPF1akYtOCTbSecNYT5al9vUxeLXLv8Aif8AUOyG+ZHaZWC3q52IW+3WOZHcbkzAnotS1qUhO1BDJOiB60BvoTU912fwO0KOl0dRainGp1SqRacY5ykkk3w3LHx9e5Hb1z8XuWpqNTB0Zyh0xg003jDbfC5wv47F1qw81cp39QXlvHcT5hhR+ROSpGF4FYrG1NbsuPZcLRkORT5cwRkuFtDzbxixm0KWSCEqK1n38RFAaAyeXd+SWczt8vlO7Zfa+OuL8ou2M5BjObvq/lDFlIVCkzHIjoS5Jbbc+JaXCrt8YUrfagN8eSnJVy4mt2H3a7Tc3thuPGdytVqusK8pNrfvareuSG5LQHcSAiKpbMgLIJ7p9HRIEp4R8JIOb8L4herjydzw5cLvZYc2StHI11QlTrjCFrIAd0B2UfX9qA1L5gysmg8h823S3chciWYcZwsR/h4UDIH2IajLeU2+XmwdOFaUjZPsnZO90BW2Tnsadx7NzB/k7KkZoeLrplaVpziagjIG7v8AGxpgPhAUGtJEcI6FP+g/ugPsPa3XH7ZGW7sOraSpexo9iBv1/wA0BnoBQGpfIPzTwjxuvMW13t64zrzLb+ZNvtkcSH0N+9LUCpKUg6OgTs6J1qrft3ZFzvNOVfTJRpp46pPCz5Lht/pgrd63XoLXNUq7bm+emKy8eb7L7ka+nvzJJ8h+M7tld7TaXskF0egPPx4jbL6YyQhbTSykbUkdzrf/AKQTXqfiLZIWfW09BpupUuhSSbbXU8qTWeE3jn+Dz9k3SVy0s9ZXw6nU4tpJPHDSfyzwZ/qDcryeBuGmMtsv8THyePOahwJUqG2+6lDhJdbbKhsdkIO9f2B/voj5/h3aIXW5O36nqdFxcpJNpZXut48m+PUnvW5St2hWsoYVVSSTaTfPdLPmlyev48+cGEeRt8cs1qduNtvrTPzfYXKOGHXkAAlTelKSoDe9b3r3rW649x7EudmpLUV0pU28dUXlJ+T4TX6Yzxk6bJu3QXOo6FFuM0s9Mlhv5d8/ud3ybXmdoi2q4YVx5jPIUkqejzolxltQ5DKS0osONuOjoUB3QWk/l1XtOyDVMLQVlX9PnkbC7TMsmPR8buNwyrjK74/fr5PmGJDVd7rckyJjqUNoW6oJS46Wx0CSltCSpNAbP8k/E/LOchh2EtCI1hmEYxMkIuDzqU/yl7Xb37dEbLYJW220h515SiCCVtpG9K0Bn4p5h5m444uxvHpHjxkMt+w2qLbnH2cusvxvKZZS2Vp7SAepKdjYB0fYoCIeTHjNyfyHyLyExYMbtEqxcvRMaRKuMm9JjuY0u3SFLeDjIQov7SodS2r9/wDdAR/xu4nufjjxtY8dvPig7leS4066leSQP6dcFwWJDi25Dbr8lD/tJSQVpSoa/Q1QF5I7inmELU2ppS0glCiCpB1+jokbH+xIoDnQCgKk8oHJPF3zQyLkY4TeM2x7L7azFaftbJfk2txtDSCggA9Qot796BChokpIOv2rwV923Rs3iY0KtGTbU3iM023n1az64x2w0zNbh4q03yrc/YSq06sUsxWXFpJY+uPv34weH40eN/Kty5Lu3JtvnI4zj5Ne/uZGNy4pc+5hFfdXdB11X7UE7SlWyogoBG+/dG5bDDRU7JWj4p0qeFVTxieMLD+K7Zw2uy5xxyWCxXeeqndaUvDqpPLptZzHOeV8H5cJ93wZfLLxn5Un57D5Ek3FrkODjF9RNgYrHilAbghzv1Cf0tzSUJVpKlEe9nXWobQ3RYoaSVnhDw0qtNxlWbzmeMd/guW1yku3HcluSwXeWojc5S9vGnNONNL/ABzn6vsnw2+/PY9HC5WS+WnmFhubt4Le8IsODxXkyZt1ZLEietaFJDKQQOyQVH9bABXvRIFc2uhotv7d1NseqjXq12sRg8qKTX5n5Pj6vGM4bPvpJaq83qhr1p5UYUU8uSw5Np8evf8Af5FkoNiv9v5eudx7w5GPXODFYShc1xL0N1oyCtSGfjKCF/I0Ce6T+HsHQ3jpphHLxwxkN6xK3QBk8yBMhZLcb197HfcKwy67OcitEHQcS0X4wU0v/LUlkp9jVAcV8S5dc8LwmI/lb9sutkDi7vKt7nYTVLjOt9U/MhYUgOLSr807ASCDsUB1ci4kzN7DMdt9vvbCpkTE5eO3F92e+1uQ+3ESmegpQouONlh0pCuhPzH80+9gSjI8FvF0yDLJMa6FiPesfj2yA38qx9nKQqaVv6HpPYSGB2T+R+L3+k0BDuPOEcyxXinJ7G9kKEXC+ONIiyVzHZZtrZYZZfW2oNs6V+LjiEpQn81bUs9iQBP+JMYu2F8eW20Xq4t3adbEKjCYnv2ksoWpLKl9ypRc+II7kqVtfY7O90BI6AUAoBQCgFAKAUAoBQCgFAKAUAoBQCgFAKAUAoBQCgFAKAUAoBQCgFAKAUAoBQCgFAKAUAoBQCgFAKAUAoBQCgFAKAUAoBQCgFAKAUAoBQCgFAKAUAoBQCgFAf/Z\"/>\n",
      "   </a>\n",
      "  </div>\n",
      " </div>\n",
      " <div class=\"info-append clearfix\">\n",
      "  <div class=\"tags\">\n",
      "   <span class=\"tag-item\">\n",
      "    用户增长\n",
      "   </span>\n",
      "   <span class=\"tag-item\">\n",
      "    商家运营\n",
      "   </span>\n",
      "   <span class=\"tag-item\">\n",
      "    激励体系\n",
      "   </span>\n",
      "   <span class=\"tag-item\">\n",
      "    活跃用户\n",
      "   </span>\n",
      "   <span class=\"tag-item\">\n",
      "    运营效果\n",
      "   </span>\n",
      "  </div>\n",
      "  <div class=\"info-desc\">\n",
      "   交通补助，带薪年假，定期体检，节日福利，零食下午茶，年终奖，餐补，员工旅游，股票期权，免费培训，通讯补贴，五险一金\n",
      "  </div>\n",
      " </div>\n",
      "</div>\n",
      "<div class=\"job-primary\">\n",
      " <div class=\"info-primary\">\n",
      "  <div class=\"primary-wrapper\">\n",
      "   <div class=\"primary-box\" data-index=\"28\" data-itemid=\"59\" data-jid=\"824334f88b28208333Nz3Nq8ElU~\" data-jobid=\"87977127\" data-lid=\"nlp-7pjAjobJYgm.search.59\" href=\"/job_detail/824334f88b28208333Nz3Nq8ElU~.html\" ka=\"search_list_59\" target=\"_blank\">\n",
      "    <div class=\"job-title\">\n",
      "     <span class=\"job-name\">\n",
      "      <a data-index=\"28\" data-itemid=\"59\" data-jid=\"824334f88b28208333Nz3Nq8ElU~\" data-jobid=\"87977127\" data-lid=\"nlp-7pjAjobJYgm.search.59\" href=\"https://www.zhipin.com/job_detail/824334f88b28208333Nz3Nq8ElU~.html\" ka=\"search_list_jname_59\" target=\"_blank\" title=\"用户运营\">\n",
      "       用户运营\n",
      "      </a>\n",
      "     </span>\n",
      "     <span class=\"job-area-wrapper\">\n",
      "      <span class=\"job-area\">\n",
      "       杭州·西湖区·高新文教区\n",
      "      </span>\n",
      "     </span>\n",
      "     <span class=\"job-pub-time\">\n",
      "      发布于10:01\n",
      "     </span>\n",
      "    </div>\n",
      "    <div class=\"job-limit clearfix\">\n",
      "     <span class=\"red\">\n",
      "      6-9K\n",
      "     </span>\n",
      "     <p>\n",
      "      1-3年\n",
      "      <em class=\"vline\">\n",
      "      </em>\n",
      "      本科\n",
      "     </p>\n",
      "     <div class=\"info-publis\">\n",
      "      <h3 class=\"name\">\n",
      "       <img class=\"icon-chat\" src=\"data:image/png;base64,iVBORw0KGgoAAAANSUhEUgAAABoAAAAaCAYAAACpSkzOAAAC/0lEQVRIia2WvW4aQRCAt3DpIu8QyU26NGlygM8G7oxtOFvITYrkDdKgSKnyCuF1AN3+sH/HRbhFqdPQ0jMpdvduOZbYRU769I1mdmYOYXlB6IXno9YXkaCTSOJZxMmmzfGuzfEu4mQTSTyLBJ1caX3x0pyTT1zK9y1B5y2eQ4vjIJGtRTyHSOTzqJTvX73gB8DZJcfTliR7s+Q0bY4rtzmGliT7mOPpD8jP/rnk83r9pi3ooiMwdIRpdm5zDG3hWWBo87y2jyCL0Tp/E1ySQ34WC7ro8Bw6HBuEZ4Ghw/Pafmzrl55jQRc5wPEniyWeXnJz6JJbhOcQL5yPOZ4effGxovtYYPivKLqP/T+QrqDzK4GhSew5buSuBIYrSWr7sXemK+gcIYRQpvXFtSTwKgSubQdde0Ov7ZJmX6b1BUrEctKVBLp2QNcb1MQ/E6LZ7+JktZygvmSzniTQs4d7XqOfMzGubCCeQ+eN+5LNUKrZpicx9CSGviSV/djVe1VMGvGpuiHRbIP6kuzc4IoV/T7ebs/7K/rdzyeqrqW2lqjjnkTVeesdSiTZuUJiC+Pt9hwhhMbb7bnLufpRTf47b9mhVJLfqaKQKgqJJJAqCqn31okkkDoUOailyuaO8mae46ZgG3RbsPmNImCgnimkNnbD/Fy4XvtGmZe7UQQGks3QQLNvA0VhYJcMqmXkIGcgnkkjF0Ab3/5aTtDdc/HONd7axltFDdpzgIGqHXoRN+/JXYzDFZvd2aHOYYhnYs8ah/pNzGbV/7rHUn640xTubcN9I747hfIcYrXcP5Xl4a07VOznvaZwr+pFRyjPqpHTFIaaVR5qBqOSH14T5uKDs2FByahgMNQ0jKsV7DCuzrDKmebhiw8hhLKCfxlpBqPComntIMxzHT9ouvi6Xoevcrco0xQyzSCzjZmuF2V2aVawMKvl/qHk05OfxD0Pa/n5oWDwWjJNK2cFm39qfvGnnqeyfDsu+Z9Tgx+txyXbPRZs87his/Gv5eTp+eUfkH8B95QiEYjrEUMAAAAASUVORK5CYII=\"/>\n",
      "       黄女士\n",
      "       <em class=\"vline\">\n",
      "       </em>\n",
      "       招聘专员\n",
      "      </h3>\n",
      "     </div>\n",
      "     <button class=\"btn btn-startchat sf-hidden\" data-url=\"/wapi/zpgeek/friend/add.json?jobId=824334f88b28208333Nz3Nq8ElU~&amp;lid=nlp-7pjAjobJYgm.search.59\" href=\"javascript:;\" redirect-url=\"/web/geek/chat?id=bf19d4a95cfeb9220XV82NS1EFQ~\">\n",
      "      <img alt=\"\" class=\"icon-chat icon-chat-hover\" data-single-file-origin-u-r-l=\"https://z.zhipin.com/web/geek/resource/icon-chat-hover-v2.png\" src=\"data:image/gif;base64,R0lGODlhAQABAAAAACH5BAEKAAEALAAAAAABAAEAAAICTAEAOw==\"/>\n",
      "      <span>\n",
      "       立即沟通\n",
      "      </span>\n",
      "     </button>\n",
      "    </div>\n",
      "    <div class=\"info-detail sf-hidden\">\n",
      "    </div>\n",
      "   </div>\n",
      "  </div>\n",
      "  <div class=\"info-company\">\n",
      "   <div class=\"company-text\">\n",
      "    <h3 class=\"name\">\n",
      "     <a href=\"https://www.zhipin.com/gongsi/58c4f679182cf9e21XN93ty5.html\" ka=\"search_list_company_59_custompage\" target=\"_blank\" title=\"飞鸟电商招聘\">\n",
      "      飞鸟电商\n",
      "     </a>\n",
      "    </h3>\n",
      "    <p>\n",
      "     <a class=\"false-link\" href=\"https://www.zhipin.com/i100001/\" ka=\"search_list_company_industry_59_custompage\" target=\"_blank\" title=\"电子商务行业招聘信息\">\n",
      "      电子商务\n",
      "     </a>\n",
      "     <em class=\"vline\">\n",
      "     </em>\n",
      "     不需要融资\n",
      "     <em class=\"vline\">\n",
      "     </em>\n",
      "     100-499人\n",
      "    </p>\n",
      "   </div>\n",
      "   <a href=\"https://www.zhipin.com/gongsi/58c4f679182cf9e21XN93ty5.html\" ka=\"search_list_company_59_custompage_logo\" target=\"_blank\">\n",
      "    <img alt=\"\" class=\"company-logo\" src=\"data:image/jpeg;base64,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\"/>\n",
      "   </a>\n",
      "  </div>\n",
      " </div>\n",
      " <div class=\"info-append clearfix\">\n",
      "  <div class=\"tags\">\n",
      "   <span class=\"tag-item\">\n",
      "    商家运营\n",
      "   </span>\n",
      "   <span class=\"tag-item\">\n",
      "    OTA\n",
      "   </span>\n",
      "   <span class=\"tag-item\">\n",
      "    旅游管理\n",
      "   </span>\n",
      "   <span class=\"tag-item\">\n",
      "    产品上架\n",
      "   </span>\n",
      "   <span class=\"tag-item\">\n",
      "    运营专员\n",
      "   </span>\n",
      "  </div>\n",
      "  <div class=\"info-desc\">\n",
      "   全勤奖，定期团建，加班补助，年终奖，零食下午茶，节日福利，五险一金，带薪年假，员工旅游\n",
      "  </div>\n",
      " </div>\n",
      "</div>\n",
      "<div class=\"job-primary\">\n",
      " <div class=\"info-primary\">\n",
      "  <div class=\"primary-wrapper\">\n",
      "   <div class=\"primary-box\" data-index=\"29\" data-itemid=\"60\" data-jid=\"f32baa362fa511bf33Vz3dW9FFY~\" data-jobid=\"81968044\" data-lid=\"nlp-7pjAjobJYgm.search.60\" href=\"/job_detail/f32baa362fa511bf33Vz3dW9FFY~.html\" ka=\"search_list_60\" target=\"_blank\">\n",
      "    <div class=\"job-title\">\n",
      "     <span class=\"job-name\">\n",
      "      <a data-index=\"29\" data-itemid=\"60\" data-jid=\"f32baa362fa511bf33Vz3dW9FFY~\" data-jobid=\"81968044\" data-lid=\"nlp-7pjAjobJYgm.search.60\" href=\"https://www.zhipin.com/job_detail/f32baa362fa511bf33Vz3dW9FFY~.html\" ka=\"search_list_jname_60\" target=\"_blank\" title=\"用户运营\">\n",
      "       用户运营\n",
      "      </a>\n",
      "     </span>\n",
      "     <span class=\"job-area-wrapper\">\n",
      "      <span class=\"job-area\">\n",
      "       杭州·西湖区·西溪\n",
      "      </span>\n",
      "     </span>\n",
      "     <span class=\"job-pub-time\">\n",
      "      发布于07月07日\n",
      "     </span>\n",
      "    </div>\n",
      "    <div class=\"job-limit clearfix\">\n",
      "     <span class=\"red\">\n",
      "      12-24K\n",
      "     </span>\n",
      "     <p>\n",
      "      3-5年\n",
      "      <em class=\"vline\">\n",
      "      </em>\n",
      "      大专\n",
      "     </p>\n",
      "     <div class=\"info-publis\">\n",
      "      <h3 class=\"name\">\n",
      "       <img class=\"icon-chat\" src=\"data:image/png;base64,iVBORw0KGgoAAAANSUhEUgAAABoAAAAaCAYAAACpSkzOAAAC/0lEQVRIia2WvW4aQRCAt3DpIu8QyU26NGlygM8G7oxtOFvITYrkDdKgSKnyCuF1AN3+sH/HRbhFqdPQ0jMpdvduOZbYRU769I1mdmYOYXlB6IXno9YXkaCTSOJZxMmmzfGuzfEu4mQTSTyLBJ1caX3x0pyTT1zK9y1B5y2eQ4vjIJGtRTyHSOTzqJTvX73gB8DZJcfTliR7s+Q0bY4rtzmGliT7mOPpD8jP/rnk83r9pi3ooiMwdIRpdm5zDG3hWWBo87y2jyCL0Tp/E1ySQ34WC7ro8Bw6HBuEZ4Ghw/Pafmzrl55jQRc5wPEniyWeXnJz6JJbhOcQL5yPOZ4effGxovtYYPivKLqP/T+QrqDzK4GhSew5buSuBIYrSWr7sXemK+gcIYRQpvXFtSTwKgSubQdde0Ov7ZJmX6b1BUrEctKVBLp2QNcb1MQ/E6LZ7+JktZygvmSzniTQs4d7XqOfMzGubCCeQ+eN+5LNUKrZpicx9CSGviSV/djVe1VMGvGpuiHRbIP6kuzc4IoV/T7ebs/7K/rdzyeqrqW2lqjjnkTVeesdSiTZuUJiC+Pt9hwhhMbb7bnLufpRTf47b9mhVJLfqaKQKgqJJJAqCqn31okkkDoUOailyuaO8mae46ZgG3RbsPmNImCgnimkNnbD/Fy4XvtGmZe7UQQGks3QQLNvA0VhYJcMqmXkIGcgnkkjF0Ab3/5aTtDdc/HONd7axltFDdpzgIGqHXoRN+/JXYzDFZvd2aHOYYhnYs8ah/pNzGbV/7rHUn640xTubcN9I747hfIcYrXcP5Xl4a07VOznvaZwr+pFRyjPqpHTFIaaVR5qBqOSH14T5uKDs2FByahgMNQ0jKsV7DCuzrDKmebhiw8hhLKCfxlpBqPComntIMxzHT9ouvi6Xoevcrco0xQyzSCzjZmuF2V2aVawMKvl/qHk05OfxD0Pa/n5oWDwWjJNK2cFm39qfvGnnqeyfDsu+Z9Tgx+txyXbPRZs87his/Gv5eTp+eUfkH8B95QiEYjrEUMAAAAASUVORK5CYII=\"/>\n",
      "       刘女士\n",
      "       <em class=\"vline\">\n",
      "       </em>\n",
      "       HR\n",
      "      </h3>\n",
      "     </div>\n",
      "     <button class=\"btn btn-startchat sf-hidden\" data-url=\"/wapi/zpgeek/friend/add.json?jobId=f32baa362fa511bf33Vz3dW9FFY~&amp;lid=nlp-7pjAjobJYgm.search.60\" href=\"javascript:;\" redirect-url=\"/web/geek/chat?id=1de67d8abbaf7a710HRz2tu4E1s~\">\n",
      "      <img alt=\"\" class=\"icon-chat icon-chat-hover\" data-single-file-origin-u-r-l=\"https://z.zhipin.com/web/geek/resource/icon-chat-hover-v2.png\" src=\"data:image/gif;base64,R0lGODlhAQABAAAAACH5BAEKAAEALAAAAAABAAEAAAICTAEAOw==\"/>\n",
      "      <span>\n",
      "       立即沟通\n",
      "      </span>\n",
      "     </button>\n",
      "    </div>\n",
      "    <div class=\"info-detail sf-hidden\">\n",
      "    </div>\n",
      "   </div>\n",
      "  </div>\n",
      "  <div class=\"info-company\">\n",
      "   <div class=\"company-text\">\n",
      "    <h3 class=\"name\">\n",
      "     <a href=\"https://www.zhipin.com/gongsi/06b6fa73ef043d4e03R-3du6Ew~~.html\" ka=\"search_list_company_60_custompage\" target=\"_blank\" title=\"粉象生活招聘\">\n",
      "      粉象生活\n",
      "     </a>\n",
      "    </h3>\n",
      "    <p>\n",
      "     <a class=\"false-link\" href=\"https://www.zhipin.com/i100001/\" ka=\"search_list_company_industry_60_custompage\" target=\"_blank\" title=\"电子商务行业招聘信息\">\n",
      "      电子商务\n",
      "     </a>\n",
      "     <em class=\"vline\">\n",
      "     </em>\n",
      "     A轮\n",
      "     <em class=\"vline\">\n",
      "     </em>\n",
      "     100-499人\n",
      "    </p>\n",
      "   </div>\n",
      "   <a href=\"https://www.zhipin.com/gongsi/06b6fa73ef043d4e03R-3du6Ew~~.html\" ka=\"search_list_company_60_custompage_logo\" target=\"_blank\">\n",
      "    <img alt=\"\" class=\"company-logo\" src=\"data:image/jpeg;base64,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\"/>\n",
      "   </a>\n",
      "  </div>\n",
      " </div>\n",
      " <div class=\"info-append clearfix\">\n",
      "  <div class=\"tags\">\n",
      "   <span class=\"tag-item\">\n",
      "    用户行为分析\n",
      "   </span>\n",
      "   <span class=\"tag-item\">\n",
      "    用户分层\n",
      "   </span>\n",
      "   <span class=\"tag-item\">\n",
      "    裂变玩法\n",
      "   </span>\n",
      "   <span class=\"tag-item\">\n",
      "    促活\n",
      "   </span>\n",
      "   <span class=\"tag-item\">\n",
      "    精细化运营\n",
      "   </span>\n",
      "  </div>\n",
      "  <div class=\"info-desc\">\n",
      "   带薪年假，年终奖，五险一金，节日福利，员工旅游，餐补，零食下午茶，补充医疗保险，全勤奖，股票期权\n",
      "  </div>\n",
      " </div>\n",
      "</div>\n"
     ]
    }
   ],
   "source": [
    "print(soup.prettify())"
   ]
  },
  {
   "cell_type": "code",
   "execution_count": 8,
   "metadata": {
    "collapsed": true
   },
   "outputs": [
    {
     "name": "stdout",
     "output_type": "stream",
     "text": [
      "['杭州·江干区·钱江新城']\n",
      "<class 'list'>\n",
      "**********\n",
      "['杭州·滨江区·长河']\n",
      "<class 'list'>\n",
      "**********\n",
      "['杭州·西湖区·黄龙']\n",
      "<class 'list'>\n",
      "**********\n",
      "['杭州·余杭区·仓前']\n",
      "<class 'list'>\n",
      "**********\n",
      "['杭州·余杭区·仓前']\n",
      "<class 'list'>\n",
      "**********\n",
      "['杭州·西湖区·文二路']\n",
      "<class 'list'>\n",
      "**********\n",
      "['杭州·西湖区·西湖']\n",
      "<class 'list'>\n",
      "**********\n",
      "['杭州·余杭区·五常']\n",
      "<class 'list'>\n",
      "**********\n",
      "['杭州·西湖区·高新文教区']\n",
      "<class 'list'>\n",
      "**********\n",
      "['杭州·江干区·高沙商业街']\n",
      "<class 'list'>\n",
      "**********\n",
      "['杭州·余杭区·五常']\n",
      "<class 'list'>\n",
      "**********\n",
      "['杭州·西湖区·西溪']\n",
      "<class 'list'>\n",
      "**********\n",
      "['杭州·拱墅区·城西银泰城']\n",
      "<class 'list'>\n",
      "**********\n",
      "['杭州·西湖区·西湖']\n",
      "<class 'list'>\n",
      "**********\n",
      "['杭州·拱墅区·城西银泰城']\n",
      "<class 'list'>\n",
      "**********\n",
      "['杭州·萧山区·钱江世纪城']\n",
      "<class 'list'>\n",
      "**********\n",
      "['杭州·西湖区·文二路']\n",
      "<class 'list'>\n",
      "**********\n",
      "['杭州·拱墅区·湖墅南路']\n",
      "<class 'list'>\n",
      "**********\n",
      "['杭州·滨江区·长河']\n",
      "<class 'list'>\n",
      "**********\n",
      "['杭州·江干区·火车东站']\n",
      "<class 'list'>\n",
      "**********\n",
      "['杭州·滨江区·西兴']\n",
      "<class 'list'>\n",
      "**********\n",
      "['杭州·西湖区·翠苑']\n",
      "<class 'list'>\n",
      "**********\n",
      "['杭州·西湖区·西溪']\n",
      "<class 'list'>\n",
      "**********\n",
      "['杭州·西湖区·古荡']\n",
      "<class 'list'>\n",
      "**********\n",
      "['杭州·西湖区·西湖']\n",
      "<class 'list'>\n",
      "**********\n",
      "['杭州·拱墅区·上塘']\n",
      "<class 'list'>\n",
      "**********\n",
      "['杭州·余杭区·仓前']\n",
      "<class 'list'>\n",
      "**********\n",
      "['杭州·余杭区·仓前']\n",
      "<class 'list'>\n",
      "**********\n",
      "['杭州·西湖区·高新文教区']\n",
      "<class 'list'>\n",
      "**********\n",
      "['杭州·西湖区·西溪']\n",
      "<class 'list'>\n",
      "**********\n"
     ]
    }
   ],
   "source": [
    "for i in soup:\n",
    "    print(i.find_all('span')[2].contents)\n",
    "    print(type(i.find_all('span')[2].contents))\n",
    "    print('*' *10)"
   ]
  },
  {
   "cell_type": "code",
   "execution_count": 22,
   "metadata": {
    "scrolled": true
   },
   "outputs": [
    {
     "name": "stdout",
     "output_type": "stream",
     "text": [
      "https://www.zhipin.com/job_detail/c67403f9b66fd4a533J50t2-F1c~.html\n",
      "用户运营\n",
      "杭州·江干区·钱江新城\n",
      "7-12K·16薪\n",
      "东信北邮\n",
      "**********\n",
      "https://www.zhipin.com/job_detail/472d38bc239b95d533By39-1EFY~.html\n",
      "用户运营\n",
      "杭州·滨江区·长河\n",
      "9-14K\n",
      "仁享集市\n",
      "**********\n",
      "https://www.zhipin.com/job_detail/4d4748fa3f3d7d7d3nV_3dy1GVI~.html\n",
      "资深用户运营（金融方向）\n",
      "杭州·西湖区·黄龙\n",
      "15-20K\n",
      "新超越\n",
      "**********\n",
      "https://www.zhipin.com/job_detail/8ec937ac6312275833153tu9GVE~.html\n",
      "用户运营\n",
      "杭州·余杭区·仓前\n",
      "5-10K·13薪\n",
      "一早科技\n",
      "**********\n",
      "https://www.zhipin.com/job_detail/f26ccb5273e51df0331z3N68FVE~.html\n",
      "用户运营\n",
      "杭州·余杭区·仓前\n",
      "10-15K\n",
      "杭泰科技\n",
      "**********\n",
      "https://www.zhipin.com/job_detail/a40bca08721e168b0nV73dq6ElQ~.html\n",
      "聪明伶俐的用户运营\n",
      "杭州·西湖区·文二路\n",
      "10-15K\n",
      "浙江乐见科技\n",
      "**********\n",
      "https://www.zhipin.com/job_detail/11f7a4c4c708297a33B-39q5F1A~.html\n",
      "用户运营\n",
      "杭州·西湖区·西湖\n",
      "6-10K\n",
      "共链科技\n",
      "**********\n",
      "https://www.zhipin.com/job_detail/3a45b44dea42c63f3nR92NW4FFo~.html\n",
      "产品运营\n",
      "杭州·余杭区·五常\n",
      "12-18K·13薪\n",
      "蜜芽\n",
      "**********\n",
      "https://www.zhipin.com/job_detail/af13ed4c503268e9331y0tW7FVo~.html\n",
      "用户运营\n",
      "杭州·西湖区·高新文教区\n",
      "11-18K\n",
      "非淘科技\n",
      "**********\n",
      "https://www.zhipin.com/job_detail/31bfa6c6487a3de533Nz2tm8GFs~.html\n",
      "用户运营\n",
      "杭州·江干区·高沙商业街\n",
      "5-9K\n",
      "货拉拉科技\n",
      "**********\n",
      "https://www.zhipin.com/job_detail/2fe662d89a97ce3d33xz2tm7FFU~.html\n",
      "用户运营\n",
      "杭州·余杭区·五常\n",
      "15-30K·15薪\n",
      "阿里巴巴集团\n",
      "**********\n",
      "https://www.zhipin.com/job_detail/0afa7ec3a285ec003nV72di6GFU~.html\n",
      "用户运营\n",
      "杭州·西湖区·西溪\n",
      "7-10K\n",
      "二更\n",
      "**********\n",
      "https://www.zhipin.com/job_detail/12b557476d94cee63nV-2di8F1c~.html\n",
      "资深用户运营\n",
      "杭州·拱墅区·城西银泰城\n",
      "10-15K\n",
      "潘哒教育\n",
      "**********\n",
      "https://www.zhipin.com/job_detail/2cad767deba3282933J92t2_GFI~.html\n",
      "用户运营\n",
      "杭州·西湖区·西湖\n",
      "30-50K·16薪\n",
      "蚂蚁金服\n",
      "**********\n",
      "https://www.zhipin.com/job_detail/27b7b47142ce170733F52NS8Els~.html\n",
      "用户运营\n",
      "杭州·拱墅区·城西银泰城\n",
      "5-10K\n",
      "三六五网络\n",
      "**********\n",
      "https://www.zhipin.com/job_detail/06029904f73028953nV_2ty9GFM~.html\n",
      "用户运营专家\n",
      "杭州·萧山区·钱江世纪城\n",
      "10-15K\n",
      "智马科技\n",
      "**********\n",
      "https://www.zhipin.com/job_detail/02b494e130400b4033Jy2dq9EVA~.html\n",
      "用户运营 (MJ000038)\n",
      "杭州·西湖区·文二路\n",
      "12-24K·14薪\n",
      "微拍堂\n",
      "**********\n",
      "https://www.zhipin.com/job_detail/6b682a2af6cb451833R43tu8ElM~.html\n",
      "用户运营\n",
      "杭州·拱墅区·湖墅南路\n",
      "6-10K\n",
      "擎洲软件/广联达\n",
      "**********\n",
      "https://www.zhipin.com/job_detail/059880a0731afd29331y3t68F1U~.html\n",
      "用户运营\n",
      "杭州·滨江区·长河\n",
      "8-12K\n",
      "道成商务\n",
      "**********\n",
      "https://www.zhipin.com/job_detail/41432d4f8d8aded33nVy0t28F1I~.html\n",
      "用户运营\n",
      "杭州·江干区·火车东站\n",
      "7-12K\n",
      "宾果体育发展有限公司\n",
      "**********\n",
      "https://www.zhipin.com/job_detail/98332ba25e1a883e33J429S7GVs~.html\n",
      "用户运营\n",
      "杭州·滨江区·西兴\n",
      "12-15K\n",
      "风云科技\n",
      "**********\n",
      "https://www.zhipin.com/job_detail/7928452df13ca40c33F82Ny8EVE~.html\n",
      "用户运营\n",
      "杭州·西湖区·翠苑\n",
      "10-15K\n",
      "宋小菜\n",
      "**********\n",
      "https://www.zhipin.com/job_detail/b42a826d6c03b73c03Z62du-GVE~.html\n",
      "用户运营\n",
      "杭州·西湖区·西溪\n",
      "6-11K\n",
      "和跃文化\n",
      "**********\n",
      "https://www.zhipin.com/job_detail/7ed5d4295ff10feb3nR409i1GFI~.html\n",
      "用户运营\n",
      "杭州·西湖区·古荡\n",
      "7-12K\n",
      "年糕妈妈\n",
      "**********\n",
      "https://www.zhipin.com/job_detail/de5e3411aea4d3480Hd639y5FFc~.html\n",
      "用户运营\n",
      "杭州·西湖区·西湖\n",
      "20-40K\n",
      "饿了么\n",
      "**********\n",
      "https://www.zhipin.com/job_detail/ea29fd31cccfb24d33F42t61E1s~.html\n",
      "用户运营\n",
      "杭州·拱墅区·上塘\n",
      "12-20K\n",
      "新船帮\n",
      "**********\n",
      "https://www.zhipin.com/job_detail/960b9bf3ac8388953nV93t64Elo~.html\n",
      "用户运营\n",
      "杭州·余杭区·仓前\n",
      "6-7K\n",
      "杭州河象\n",
      "**********\n",
      "https://www.zhipin.com/job_detail/2cc2f1eb11beb17f331z0tS-E1E~.html\n",
      "用户运营\n",
      "杭州·余杭区·仓前\n",
      "8-12K·14薪\n",
      "邻汇吧\n",
      "**********\n",
      "https://www.zhipin.com/job_detail/824334f88b28208333Nz3Nq8ElU~.html\n",
      "用户运营\n",
      "杭州·西湖区·高新文教区\n",
      "6-9K\n",
      "飞鸟电商\n",
      "**********\n",
      "https://www.zhipin.com/job_detail/f32baa362fa511bf33Vz3dW9FFY~.html\n",
      "用户运营\n",
      "杭州·西湖区·西溪\n",
      "12-24K\n",
      "粉象生活\n",
      "**********\n"
     ]
    }
   ],
   "source": [
    "for i in soup:\n",
    "    print(i.a['href'])   #url\n",
    "    print(i.a['title'])   #title\n",
    "    print(i.find_all('span')[2].contents[0])   #area\n",
    "    print(i.find_all('span')[4].contents[0])   #salary\n",
    "    print(i.find_all('a')[1].contents[0])   #company\n",
    "\n",
    "    print('*' *10)"
   ]
  },
  {
   "cell_type": "code",
   "execution_count": null,
   "metadata": {},
   "outputs": [],
   "source": [
    "url = []\n",
    "title = []\n",
    "area = []"
   ]
  },
  {
   "cell_type": "code",
   "execution_count": null,
   "metadata": {},
   "outputs": [],
   "source": [
    "for i in soup:\n",
    "    url.append(i.a['href'])\n",
    "    title.append(i.a['title'])\n",
    "    area.append(i.find_all('span')[2].contents)"
   ]
  },
  {
   "cell_type": "code",
   "execution_count": null,
   "metadata": {
    "scrolled": true
   },
   "outputs": [],
   "source": [
    "url"
   ]
  },
  {
   "cell_type": "code",
   "execution_count": null,
   "metadata": {
    "scrolled": true
   },
   "outputs": [],
   "source": [
    "title"
   ]
  },
  {
   "cell_type": "code",
   "execution_count": null,
   "metadata": {
    "scrolled": true
   },
   "outputs": [],
   "source": [
    "area"
   ]
  },
  {
   "cell_type": "code",
   "execution_count": null,
   "metadata": {},
   "outputs": [],
   "source": [
    "for i in soup:\n",
    "    print(type(i.a['href']))\n",
    "    print(type(i.a['title']))\n",
    "    print(type(i.find_all('span')[2].contents))\n",
    "    print('*' *10)"
   ]
  },
  {
   "cell_type": "code",
   "execution_count": null,
   "metadata": {
    "scrolled": true
   },
   "outputs": [],
   "source": [
    "for i in soup:\n",
    "    if i.find_all('span')[2].contents:\n",
    "        print(i.find_all('span')[2].contents)\n",
    "    else:\n",
    "        print('null')\n",
    "    print('*' *10)"
   ]
  },
  {
   "cell_type": "code",
   "execution_count": null,
   "metadata": {},
   "outputs": [],
   "source": [
    "d = dict()"
   ]
  },
  {
   "cell_type": "code",
   "execution_count": null,
   "metadata": {},
   "outputs": [],
   "source": [
    "d"
   ]
  },
  {
   "cell_type": "code",
   "execution_count": null,
   "metadata": {},
   "outputs": [],
   "source": [
    "d['a'] = ['x','y','z']"
   ]
  },
  {
   "cell_type": "code",
   "execution_count": null,
   "metadata": {},
   "outputs": [],
   "source": [
    "d"
   ]
  },
  {
   "cell_type": "code",
   "execution_count": null,
   "metadata": {},
   "outputs": [],
   "source": [
    "u = []"
   ]
  },
  {
   "cell_type": "code",
   "execution_count": null,
   "metadata": {},
   "outputs": [],
   "source": [
    "u"
   ]
  },
  {
   "cell_type": "code",
   "execution_count": null,
   "metadata": {},
   "outputs": [],
   "source": [
    "u.append('x')"
   ]
  },
  {
   "cell_type": "code",
   "execution_count": null,
   "metadata": {},
   "outputs": [],
   "source": [
    "u"
   ]
  },
  {
   "cell_type": "code",
   "execution_count": null,
   "metadata": {},
   "outputs": [],
   "source": [
    "def u():\n",
    "    x = 1\n",
    "    y = 2\n",
    "    return x,y"
   ]
  },
  {
   "cell_type": "code",
   "execution_count": null,
   "metadata": {},
   "outputs": [],
   "source": [
    "y = u()"
   ]
  },
  {
   "cell_type": "code",
   "execution_count": null,
   "metadata": {},
   "outputs": [],
   "source": [
    "type(y)"
   ]
  },
  {
   "cell_type": "code",
   "execution_count": null,
   "metadata": {},
   "outputs": [],
   "source": [
    "y[0]"
   ]
  },
  {
   "cell_type": "code",
   "execution_count": null,
   "metadata": {},
   "outputs": [],
   "source": [
    "data = {'Name':['Tom', 'Jack', 'Steve', 'Ricky'],'Age':[28,34,29,42]}\n",
    "df = pd.DataFrame(data)"
   ]
  },
  {
   "cell_type": "code",
   "execution_count": null,
   "metadata": {},
   "outputs": [],
   "source": [
    "df"
   ]
  },
  {
   "cell_type": "code",
   "execution_count": null,
   "metadata": {},
   "outputs": [],
   "source": [
    "only_a_tags = SoupStrainer('div',class_=\"e\")"
   ]
  },
  {
   "cell_type": "code",
   "execution_count": null,
   "metadata": {},
   "outputs": [],
   "source": [
    "with open('51.html','r', encoding='utf-8') as f:\n",
    "    soup = BeautifulSoup(f.read(), \"html.parser\",parse_only=only_a_tags)"
   ]
  },
  {
   "cell_type": "code",
   "execution_count": null,
   "metadata": {
    "scrolled": true
   },
   "outputs": [],
   "source": [
    "print(soup.prettify())"
   ]
  },
  {
   "cell_type": "code",
   "execution_count": null,
   "metadata": {
    "scrolled": true
   },
   "outputs": [],
   "source": [
    "for i in soup:\n",
    "    if i.input:\n",
    "        print(i.a['href'])\n",
    "        print(i.span['title'])\n",
    "        print(i.find('span',class_='d at').contents[0])\n",
    "        print(i.find('a',class_='cname at').contents[0])\n",
    "    else:\n",
    "        break\n",
    "    print('*' *10)"
   ]
  },
  {
   "cell_type": "code",
   "execution_count": null,
   "metadata": {},
   "outputs": [],
   "source": [
    "list1 = ['Google', 'Runoob', 1997, 2000]\n",
    "list2 = [1, 2, 3, 4, 5 ]\n",
    "list3 = [\"a\", \"b\", \"c\", \"d\"]"
   ]
  },
  {
   "cell_type": "code",
   "execution_count": null,
   "metadata": {},
   "outputs": [],
   "source": [
    "list1 += list2"
   ]
  },
  {
   "cell_type": "code",
   "execution_count": null,
   "metadata": {},
   "outputs": [],
   "source": [
    "list1"
   ]
  },
  {
   "cell_type": "markdown",
   "metadata": {},
   "source": [
    "--- 20200623 ---"
   ]
  },
  {
   "cell_type": "code",
   "execution_count": null,
   "metadata": {},
   "outputs": [],
   "source": [
    "import json\n",
    "import pandas as pd\n",
    "from bs4 import BeautifulSoup,SoupStrainer"
   ]
  },
  {
   "cell_type": "code",
   "execution_count": null,
   "metadata": {},
   "outputs": [],
   "source": [
    "only_a_tags = SoupStrainer(\"span\")"
   ]
  },
  {
   "cell_type": "code",
   "execution_count": null,
   "metadata": {},
   "outputs": [],
   "source": [
    "with open('10.html','r', encoding='utf-8') as f:\n",
    "    soup = BeautifulSoup(f.read(), \"html.parser\",parse_only=only_a_tags)"
   ]
  },
  {
   "cell_type": "code",
   "execution_count": null,
   "metadata": {},
   "outputs": [],
   "source": [
    "print(soup.prettify())"
   ]
  },
  {
   "cell_type": "code",
   "execution_count": null,
   "metadata": {},
   "outputs": [],
   "source": [
    "for link in soup.find_all(\"a\",target=\"_blank\",title=True,href=True,onmousedown=\"\"):\n",
    "    print(link.get('href'))\n",
    "#     print(link.get('title'))\n",
    "    print('-'*10)"
   ]
  },
  {
   "cell_type": "code",
   "execution_count": null,
   "metadata": {},
   "outputs": [],
   "source": [
    "l = [i for i in range(5)]"
   ]
  },
  {
   "cell_type": "code",
   "execution_count": null,
   "metadata": {},
   "outputs": [],
   "source": [
    "l_link = [link.get('href') for link in soup.find_all(\"a\",target=\"_blank\",title=True,href=True,onmousedown=\"\")]"
   ]
  },
  {
   "cell_type": "code",
   "execution_count": null,
   "metadata": {
    "scrolled": true
   },
   "outputs": [],
   "source": [
    "l_link"
   ]
  },
  {
   "cell_type": "code",
   "execution_count": null,
   "metadata": {},
   "outputs": [],
   "source": [
    "l_title = [link.get('title') for link in soup.find_all(\"a\",target=\"_blank\",title=True,href=True,onmousedown=\"\")]"
   ]
  },
  {
   "cell_type": "code",
   "execution_count": null,
   "metadata": {
    "scrolled": true
   },
   "outputs": [],
   "source": [
    "l_title"
   ]
  },
  {
   "cell_type": "code",
   "execution_count": null,
   "metadata": {},
   "outputs": [],
   "source": [
    "print(len(l_link),len(l_title))"
   ]
  },
  {
   "cell_type": "code",
   "execution_count": null,
   "metadata": {},
   "outputs": [],
   "source": [
    "data = {'link':l_link,'title':l_title}"
   ]
  },
  {
   "cell_type": "code",
   "execution_count": null,
   "metadata": {},
   "outputs": [],
   "source": [
    "df = pd.DataFrame(data)"
   ]
  },
  {
   "cell_type": "code",
   "execution_count": null,
   "metadata": {},
   "outputs": [],
   "source": [
    "df"
   ]
  },
  {
   "cell_type": "code",
   "execution_count": null,
   "metadata": {},
   "outputs": [],
   "source": [
    "df_all = df.iloc[1::2].reset_index()"
   ]
  },
  {
   "cell_type": "code",
   "execution_count": null,
   "metadata": {
    "scrolled": true
   },
   "outputs": [],
   "source": [
    "df_all"
   ]
  },
  {
   "cell_type": "code",
   "execution_count": null,
   "metadata": {},
   "outputs": [],
   "source": [
    "import numpy as np"
   ]
  },
  {
   "cell_type": "code",
   "execution_count": null,
   "metadata": {},
   "outputs": [],
   "source": [
    "df1 = pd.DataFrame(np.ones((3,4))*0, columns=['a','b','c','d'],index=[0,1,2])\n",
    "df2 = pd.DataFrame(np.ones((3,4))*1, columns=['e','b','c','d'],index=[4,5,6])"
   ]
  },
  {
   "cell_type": "code",
   "execution_count": null,
   "metadata": {},
   "outputs": [],
   "source": [
    "rs = pd.concat([df1,df2],axis=1,ignore_index=True)"
   ]
  },
  {
   "cell_type": "code",
   "execution_count": null,
   "metadata": {},
   "outputs": [],
   "source": [
    "rs"
   ]
  },
  {
   "cell_type": "code",
   "execution_count": null,
   "metadata": {},
   "outputs": [],
   "source": [
    "a = [1]\n",
    "b = [2]\n",
    "\n",
    "a += b"
   ]
  },
  {
   "cell_type": "code",
   "execution_count": null,
   "metadata": {},
   "outputs": [],
   "source": [
    "a"
   ]
  },
  {
   "cell_type": "code",
   "execution_count": null,
   "metadata": {},
   "outputs": [],
   "source": [
    "df = pd.read_excel('08.xlsx')"
   ]
  },
  {
   "cell_type": "code",
   "execution_count": null,
   "metadata": {
    "scrolled": true
   },
   "outputs": [],
   "source": [
    "df"
   ]
  },
  {
   "cell_type": "code",
   "execution_count": null,
   "metadata": {
    "scrolled": true
   },
   "outputs": [],
   "source": [
    "df['area'].str.contains('西湖')"
   ]
  },
  {
   "cell_type": "code",
   "execution_count": null,
   "metadata": {},
   "outputs": [],
   "source": [
    "lists = ['滨江','江干']"
   ]
  },
  {
   "cell_type": "code",
   "execution_count": null,
   "metadata": {},
   "outputs": [],
   "source": [
    "df['area'].str.contains(lists)"
   ]
  },
  {
   "cell_type": "markdown",
   "metadata": {},
   "source": [
    "--- 20200601 ---"
   ]
  },
  {
   "cell_type": "code",
   "execution_count": null,
   "metadata": {},
   "outputs": [],
   "source": [
    "import json\n",
    "import pandas as pd\n",
    "from bs4 import BeautifulSoup"
   ]
  },
  {
   "cell_type": "code",
   "execution_count": null,
   "metadata": {},
   "outputs": [],
   "source": [
    "only_a_tags = SoupStrainer(\"span\",class_='job-name')"
   ]
  },
  {
   "cell_type": "code",
   "execution_count": null,
   "metadata": {},
   "outputs": [],
   "source": [
    "with open('10.html','r', encoding='utf-8') as f:\n",
    "    soup = BeautifulSoup(f.read(), \"html.parser\",parse_only=only_a_tags)"
   ]
  },
  {
   "cell_type": "code",
   "execution_count": null,
   "metadata": {},
   "outputs": [],
   "source": [
    "for i in soup:\n",
    "    print(i)\n",
    "    print(i.a['title'])\n",
    "    print(type(i.a['title']))\n",
    "    bug"
   ]
  },
  {
   "cell_type": "code",
   "execution_count": null,
   "metadata": {},
   "outputs": [],
   "source": [
    "soup.prettify()"
   ]
  },
  {
   "cell_type": "code",
   "execution_count": null,
   "metadata": {},
   "outputs": [],
   "source": [
    "d = {}"
   ]
  },
  {
   "cell_type": "code",
   "execution_count": null,
   "metadata": {},
   "outputs": [],
   "source": [
    "url = 'https://www.zhipin.com/job_detail/2a8d55f3967f5b030XF93Nu1FVo~.html' "
   ]
  },
  {
   "cell_type": "code",
   "execution_count": null,
   "metadata": {},
   "outputs": [],
   "source": [
    "d[url] = '数据产品经理'"
   ]
  },
  {
   "cell_type": "code",
   "execution_count": null,
   "metadata": {},
   "outputs": [],
   "source": [
    "d"
   ]
  },
  {
   "cell_type": "code",
   "execution_count": null,
   "metadata": {},
   "outputs": [],
   "source": [
    "len(d)"
   ]
  },
  {
   "cell_type": "code",
   "execution_count": null,
   "metadata": {},
   "outputs": [],
   "source": [
    "d1 = {\"https://www.zhipin.com/job_detail/31cbcab5a283282b0H1_29m8ElI~.html\":'售后工程师'}"
   ]
  },
  {
   "cell_type": "code",
   "execution_count": null,
   "metadata": {},
   "outputs": [],
   "source": [
    "d1"
   ]
  },
  {
   "cell_type": "code",
   "execution_count": null,
   "metadata": {},
   "outputs": [],
   "source": [
    "d.update(d1)"
   ]
  },
  {
   "cell_type": "code",
   "execution_count": null,
   "metadata": {},
   "outputs": [],
   "source": [
    "d"
   ]
  },
  {
   "cell_type": "code",
   "execution_count": null,
   "metadata": {},
   "outputs": [],
   "source": [
    "for i in range(5):\n",
    "    x = i\n",
    "    print(x)"
   ]
  },
  {
   "cell_type": "code",
   "execution_count": null,
   "metadata": {},
   "outputs": [],
   "source": [
    "pd.DataFrame.from_dict(d, orient='index')"
   ]
  },
  {
   "cell_type": "code",
   "execution_count": null,
   "metadata": {},
   "outputs": [],
   "source": [
    "pd.Series(d)"
   ]
  },
  {
   "cell_type": "markdown",
   "metadata": {},
   "source": [
    "--- 2020.05.29 ---"
   ]
  },
  {
   "cell_type": "code",
   "execution_count": null,
   "metadata": {},
   "outputs": [],
   "source": [
    "import json\n",
    "import os\n",
    "import pandas as pd\n",
    "from bs4 import BeautifulSoup, SoupStrainer"
   ]
  },
  {
   "cell_type": "code",
   "execution_count": null,
   "metadata": {},
   "outputs": [],
   "source": [
    "os.chdir(r'D:\\bs')\n",
    "file_lists = os.listdir('.')"
   ]
  },
  {
   "cell_type": "code",
   "execution_count": null,
   "metadata": {},
   "outputs": [],
   "source": [
    "file_lists"
   ]
  },
  {
   "cell_type": "code",
   "execution_count": null,
   "metadata": {},
   "outputs": [],
   "source": [
    "l = []"
   ]
  },
  {
   "cell_type": "code",
   "execution_count": null,
   "metadata": {},
   "outputs": [],
   "source": [
    "l"
   ]
  },
  {
   "cell_type": "code",
   "execution_count": null,
   "metadata": {},
   "outputs": [],
   "source": [
    "l.append({'w':112,'r':31})"
   ]
  },
  {
   "cell_type": "code",
   "execution_count": null,
   "metadata": {},
   "outputs": [],
   "source": [
    "data = [{'a': 1, 'b': 2},{'a': 5, 'b': 10}]"
   ]
  },
  {
   "cell_type": "code",
   "execution_count": null,
   "metadata": {},
   "outputs": [],
   "source": [
    "df1 = pd.DataFrame(data)"
   ]
  },
  {
   "cell_type": "code",
   "execution_count": null,
   "metadata": {},
   "outputs": [],
   "source": [
    "df1"
   ]
  },
  {
   "cell_type": "code",
   "execution_count": null,
   "metadata": {},
   "outputs": [],
   "source": [
    "import json\n",
    "import requests\n",
    "from bs4 import BeautifulSoup"
   ]
  },
  {
   "cell_type": "code",
   "execution_count": null,
   "metadata": {},
   "outputs": [],
   "source": [
    "headers = {'User-Agent': 'Mozilla/5.0 (Macintosh; Intel Mac OS X 10_11_6) AppleWebKit/537.36 (KHTML, like Gecko) Chrome/74.0.3729.131 Safari/537.36'}"
   ]
  },
  {
   "cell_type": "code",
   "execution_count": null,
   "metadata": {},
   "outputs": [],
   "source": [
    "url = (\"http://www.reuters.com/video/2014/08/30/\"\n",
    "       \"woman-who-drank-restaurants-tainted-tea?videoId=341712453\")"
   ]
  },
  {
   "cell_type": "code",
   "execution_count": null,
   "metadata": {},
   "outputs": [],
   "source": [
    "r = requests.get(url, headers=headers, timeout=5)"
   ]
  },
  {
   "cell_type": "code",
   "execution_count": null,
   "metadata": {},
   "outputs": [],
   "source": [
    "soup = BeautifulSoup(r.text)"
   ]
  },
  {
   "cell_type": "code",
   "execution_count": null,
   "metadata": {},
   "outputs": [],
   "source": [
    "tag = soup.find(\"script\", type='application/ld+json')"
   ]
  },
  {
   "cell_type": "code",
   "execution_count": null,
   "metadata": {},
   "outputs": [],
   "source": [
    "tag"
   ]
  },
  {
   "cell_type": "code",
   "execution_count": null,
   "metadata": {},
   "outputs": [],
   "source": [
    "type(tag)"
   ]
  },
  {
   "cell_type": "code",
   "execution_count": null,
   "metadata": {},
   "outputs": [],
   "source": [
    "tag.name"
   ]
  },
  {
   "cell_type": "code",
   "execution_count": null,
   "metadata": {},
   "outputs": [],
   "source": [
    "tag['type']"
   ]
  },
  {
   "cell_type": "code",
   "execution_count": null,
   "metadata": {
    "scrolled": true
   },
   "outputs": [],
   "source": [
    "tag.attrs"
   ]
  },
  {
   "cell_type": "code",
   "execution_count": null,
   "metadata": {},
   "outputs": [],
   "source": [
    "tag.string"
   ]
  },
  {
   "cell_type": "code",
   "execution_count": null,
   "metadata": {},
   "outputs": [],
   "source": [
    "tag.contents[0]"
   ]
  },
  {
   "cell_type": "code",
   "execution_count": null,
   "metadata": {},
   "outputs": [],
   "source": [
    "len(tag.contents)"
   ]
  },
  {
   "cell_type": "code",
   "execution_count": null,
   "metadata": {},
   "outputs": [],
   "source": [
    "type(tag.contents[0])"
   ]
  },
  {
   "cell_type": "code",
   "execution_count": null,
   "metadata": {},
   "outputs": [],
   "source": [
    "for child in tag.descendants:\n",
    "    print(child)\n",
    "    print(type(child))\n",
    "    d = dict(child)"
   ]
  },
  {
   "cell_type": "code",
   "execution_count": null,
   "metadata": {},
   "outputs": [],
   "source": [
    "tag.descendants"
   ]
  },
  {
   "cell_type": "code",
   "execution_count": null,
   "metadata": {},
   "outputs": [],
   "source": [
    "l"
   ]
  },
  {
   "cell_type": "code",
   "execution_count": null,
   "metadata": {},
   "outputs": [],
   "source": [
    "for string in tag.strings:\n",
    "    print(repr(string))"
   ]
  },
  {
   "cell_type": "code",
   "execution_count": null,
   "metadata": {},
   "outputs": [],
   "source": [
    "tag.string"
   ]
  },
  {
   "cell_type": "code",
   "execution_count": null,
   "metadata": {},
   "outputs": [],
   "source": [
    "for string in tag.stripped_strings:\n",
    "    print(string)"
   ]
  },
  {
   "cell_type": "code",
   "execution_count": null,
   "metadata": {},
   "outputs": [],
   "source": [
    "scripts.contents"
   ]
  },
  {
   "cell_type": "code",
   "execution_count": null,
   "metadata": {},
   "outputs": [],
   "source": [
    "type(scripts.contents)"
   ]
  },
  {
   "cell_type": "code",
   "execution_count": null,
   "metadata": {},
   "outputs": [],
   "source": [
    "scripts.get_text()"
   ]
  },
  {
   "cell_type": "code",
   "execution_count": null,
   "metadata": {},
   "outputs": [],
   "source": [
    "scripts.contents[0][10:15]"
   ]
  },
  {
   "cell_type": "code",
   "execution_count": null,
   "metadata": {},
   "outputs": [],
   "source": [
    "for i in soup.find_all(\"script\", type='application/ld+json'):\n",
    "    print(i)\n",
    "    print('---')"
   ]
  },
  {
   "cell_type": "code",
   "execution_count": null,
   "metadata": {},
   "outputs": [],
   "source": [
    "s1"
   ]
  },
  {
   "cell_type": "code",
   "execution_count": null,
   "metadata": {},
   "outputs": [],
   "source": [
    "s1.select.get_text()"
   ]
  },
  {
   "cell_type": "code",
   "execution_count": null,
   "metadata": {},
   "outputs": [],
   "source": [
    "tag.string"
   ]
  },
  {
   "cell_type": "code",
   "execution_count": null,
   "metadata": {},
   "outputs": [],
   "source": [
    "import requests\n",
    "from bs4 import BeautifulSoup\n",
    "import json"
   ]
  },
  {
   "cell_type": "code",
   "execution_count": null,
   "metadata": {},
   "outputs": [],
   "source": [
    "url = 'https://vine.co/tags/funny'\n",
    "source_code = requests.get(url)\n",
    "plain_text = source_code.text\n",
    "soup = BeautifulSoup(plain_text, 'html.parser')\n",
    "# js = json.loads(soup.find(\"script\",type=\"application/ld+json\").text)"
   ]
  },
  {
   "cell_type": "code",
   "execution_count": null,
   "metadata": {
    "scrolled": true
   },
   "outputs": [],
   "source": [
    "s = soup.select_one(\"script[type=application/ld+json]\").text"
   ]
  },
  {
   "cell_type": "code",
   "execution_count": null,
   "metadata": {},
   "outputs": [],
   "source": [
    "js = json.loads(tag.string)"
   ]
  },
  {
   "cell_type": "code",
   "execution_count": null,
   "metadata": {},
   "outputs": [],
   "source": [
    "js"
   ]
  },
  {
   "cell_type": "code",
   "execution_count": null,
   "metadata": {},
   "outputs": [],
   "source": [
    "type(js)"
   ]
  },
  {
   "cell_type": "code",
   "execution_count": null,
   "metadata": {},
   "outputs": [],
   "source": [
    "df = pd.DataFrame(js, index=[0])"
   ]
  },
  {
   "cell_type": "code",
   "execution_count": null,
   "metadata": {},
   "outputs": [],
   "source": [
    "df"
   ]
  },
  {
   "cell_type": "code",
   "execution_count": null,
   "metadata": {},
   "outputs": [],
   "source": [
    "import json\n",
    "import pandas as pd\n",
    "from bs4 import BeautifulSoup,SoupStrainer"
   ]
  },
  {
   "cell_type": "code",
   "execution_count": null,
   "metadata": {},
   "outputs": [],
   "source": [
    "path = 'x.html'"
   ]
  },
  {
   "cell_type": "code",
   "execution_count": null,
   "metadata": {},
   "outputs": [],
   "source": [
    "only_a_tags = SoupStrainer(\"script\", type='application/ld+json')\n",
    "with open('x.html','r', encoding='utf-8') as f:\n",
    "    soup = BeautifulSoup(f.read(), \"html.parser\", parse_only=only_a_tags)"
   ]
  },
  {
   "cell_type": "code",
   "execution_count": null,
   "metadata": {},
   "outputs": [],
   "source": [
    "only_a_tags = SoupStrainer(\"script\", type='application/ld+json')\n",
    "soup = BeautifulSoup(r.text, \"html.parser\", parse_only=only_a_tags)"
   ]
  },
  {
   "cell_type": "code",
   "execution_count": null,
   "metadata": {},
   "outputs": [],
   "source": [
    "soup"
   ]
  },
  {
   "cell_type": "code",
   "execution_count": null,
   "metadata": {},
   "outputs": [],
   "source": [
    "js = json.loads(soup.string)"
   ]
  },
  {
   "cell_type": "code",
   "execution_count": null,
   "metadata": {},
   "outputs": [],
   "source": [
    "df = pd.DataFrame(js, index=[0])"
   ]
  },
  {
   "cell_type": "code",
   "execution_count": null,
   "metadata": {},
   "outputs": [],
   "source": [
    "df"
   ]
  },
  {
   "cell_type": "code",
   "execution_count": null,
   "metadata": {},
   "outputs": [],
   "source": [
    "df.to_excel('haha.xlsx')"
   ]
  },
  {
   "cell_type": "markdown",
   "metadata": {},
   "source": [
    "-- 2020.05.28 --"
   ]
  },
  {
   "cell_type": "code",
   "execution_count": null,
   "metadata": {},
   "outputs": [],
   "source": [
    "import re\n",
    "import requests\n",
    "import random\n",
    "import time"
   ]
  },
  {
   "cell_type": "code",
   "execution_count": null,
   "metadata": {},
   "outputs": [],
   "source": [
    "url = 'https://www.zhipin.com/job_detail/256a51b70316349c0H193NS-GVs~.html'"
   ]
  },
  {
   "cell_type": "code",
   "execution_count": null,
   "metadata": {},
   "outputs": [],
   "source": [
    "url = 'https://www.zhipin.com/job_detail/41ff4b15d684e9400H193di9FVQ~.html'"
   ]
  },
  {
   "cell_type": "code",
   "execution_count": null,
   "metadata": {},
   "outputs": [],
   "source": [
    "headers = {'User-Agent': 'Mozilla/5.0 (Macintosh; Intel Mac OS X 10_11_6) AppleWebKit/537.36 (KHTML, like Gecko) Chrome/74.0.3729.131 Safari/537.36'}"
   ]
  },
  {
   "cell_type": "code",
   "execution_count": null,
   "metadata": {},
   "outputs": [],
   "source": [
    "headers = {\n",
    "    'user-agent': \"Mozilla/5.0 (Macintosh; Intel Mac OS X 10_11_6) AppleWebKit/537.36 (KHTML, like Gecko) Chrome/74.0.3729.131 Safari/537.36\",\n",
    "    'cookie': \"toUrl=/; __g=-; Hm_lvt_194df3105ad7148dcf2b98a91b5e727a=1590674035; __c=1590674191; __zp_stoken__=80ddaEAtuFyJvaUsAHnsMKUd6cwwdZBUdF2g6Ii9kZXJrWGFbUEs4N3NFWEV0Xnp5BXY6CGZWZ0hEdkFnAzYfHXoHFT8ySHINFi9lAE89GyIlEQktF0MWKxYnGmF7DkkyR09%2FdxdfDT9abEU%3D; __l=r=&l=%2Flogin.zhipin.com%2F%3Fka%3Dheader-login&friend_source=0&friend_source=0; __a=86314846.1590674032.1590674032.1590674191.3.2.2.3; Hm_lpvt_194df3105ad7148dcf2b98a91b5e727a=1590674321; __zp_sseed__=kLw9lmo0aExBo652mf8GAKmOVcby7Uu9t0CKOsYdGgE=; __zp_sname__=4d8e1db6; __zp_sts__=1590674327609\",\n",
    "}"
   ]
  },
  {
   "cell_type": "code",
   "execution_count": null,
   "metadata": {},
   "outputs": [],
   "source": [
    "r = requests.get(url, headers=headers, timeout=5)"
   ]
  },
  {
   "cell_type": "code",
   "execution_count": null,
   "metadata": {},
   "outputs": [],
   "source": [
    "with open ('dx.txt','w', encoding='utf-8') as f:\n",
    "    f.write(r.text)"
   ]
  },
  {
   "cell_type": "markdown",
   "metadata": {},
   "source": [
    "\"pubDate\": \"2020-05-26T15:38:03\",\n",
    "\"upDate\":  \"2020-05-26T15:38:03\""
   ]
  },
  {
   "cell_type": "code",
   "execution_count": null,
   "metadata": {},
   "outputs": [],
   "source": [
    "t = \"pubDate: 2020-05-26T15:38:03\""
   ]
  },
  {
   "cell_type": "code",
   "execution_count": null,
   "metadata": {},
   "outputs": [],
   "source": [
    "from bs4 import BeautifulSoup"
   ]
  },
  {
   "cell_type": "code",
   "execution_count": null,
   "metadata": {},
   "outputs": [],
   "source": [
    "r.text[-100:-20]"
   ]
  },
  {
   "cell_type": "code",
   "execution_count": null,
   "metadata": {},
   "outputs": [],
   "source": [
    "type(r.text[-100:-20])"
   ]
  },
  {
   "cell_type": "code",
   "execution_count": null,
   "metadata": {},
   "outputs": [],
   "source": [
    "d = dict()"
   ]
  },
  {
   "cell_type": "code",
   "execution_count": null,
   "metadata": {},
   "outputs": [],
   "source": [
    "m = 's'"
   ]
  },
  {
   "cell_type": "code",
   "execution_count": null,
   "metadata": {},
   "outputs": [],
   "source": [
    "d[m] = 2"
   ]
  },
  {
   "cell_type": "code",
   "execution_count": null,
   "metadata": {},
   "outputs": [],
   "source": [
    "d"
   ]
  },
  {
   "cell_type": "code",
   "execution_count": null,
   "metadata": {},
   "outputs": [],
   "source": [
    "s = 'https://www.zhipin.com/job_detail/256a51b70316349c0H193NS-GVs~.html'"
   ]
  },
  {
   "cell_type": "code",
   "execution_count": null,
   "metadata": {},
   "outputs": [],
   "source": [
    "s[-33:-5]"
   ]
  },
  {
   "cell_type": "code",
   "execution_count": null,
   "metadata": {},
   "outputs": [],
   "source": [
    "len('256a51b70316349c0H193NS-GVs~.html')"
   ]
  },
  {
   "cell_type": "markdown",
   "metadata": {},
   "source": [
    "--- 2019.10.22 ---"
   ]
  },
  {
   "cell_type": "code",
   "execution_count": null,
   "metadata": {},
   "outputs": [],
   "source": [
    "s1 = pd.Series(['Tom ', ' William Rick', 'John', 'Alber@t', 'Alber@t'])"
   ]
  },
  {
   "cell_type": "code",
   "execution_count": null,
   "metadata": {},
   "outputs": [],
   "source": [
    "s2 = pd.Series(['Tom ', ' William Rick', 'John', 'Alber@t', 'Alber@t','plus'])"
   ]
  },
  {
   "cell_type": "code",
   "execution_count": null,
   "metadata": {},
   "outputs": [],
   "source": [
    "s1.str.cat(s1,sep=',')"
   ]
  },
  {
   "cell_type": "code",
   "execution_count": null,
   "metadata": {},
   "outputs": [],
   "source": [
    "s1 + ',' + s2"
   ]
  },
  {
   "cell_type": "code",
   "execution_count": null,
   "metadata": {},
   "outputs": [],
   "source": [
    "data = {'Name':['Tom','James','Ricky'],\n",
    "        'Age':[25,26,25],\n",
    "        'Rating':[4.23,3.24,3.98]\n",
    "        }\n",
    "\n",
    "df = pd.DataFrame(data)"
   ]
  },
  {
   "cell_type": "code",
   "execution_count": null,
   "metadata": {},
   "outputs": [],
   "source": [
    "df"
   ]
  },
  {
   "cell_type": "code",
   "execution_count": null,
   "metadata": {},
   "outputs": [],
   "source": [
    "df['Change'] = df.Rating.diff()\n",
    "df"
   ]
  },
  {
   "cell_type": "code",
   "execution_count": null,
   "metadata": {},
   "outputs": [],
   "source": [
    "df['Percent Change'] = df.Rating.pct_change()*100\n",
    "df"
   ]
  },
  {
   "cell_type": "code",
   "execution_count": null,
   "metadata": {},
   "outputs": [],
   "source": [
    "df.style.format({'Percent Change':'{:.2f}%'})"
   ]
  },
  {
   "cell_type": "code",
   "execution_count": null,
   "metadata": {},
   "outputs": [],
   "source": [
    "df = pd.DataFrame({'A':['x','y','z'],\n",
    "                  'B':['male','female','male'],\n",
    "                  'C':['female','male','male']})\n",
    "df"
   ]
  },
  {
   "cell_type": "code",
   "execution_count": null,
   "metadata": {},
   "outputs": [],
   "source": [
    "mapping = {'male':0,'female':1}\n",
    "cols = ['B','C']"
   ]
  },
  {
   "cell_type": "code",
   "execution_count": null,
   "metadata": {},
   "outputs": [],
   "source": [
    "df[cols] = df[cols].applymap(mapping.get)\n",
    "df"
   ]
  },
  {
   "cell_type": "code",
   "execution_count": null,
   "metadata": {},
   "outputs": [],
   "source": [
    "d = {'one' : pd.Series([1, 2, 3], index=['a', 'b', 'c']),\n",
    "      'two' : pd.Series([1, 2, 3, 4], index=['a', 'b', 'c', 'd'])}\n",
    "\n",
    "df = pd.DataFrame(d)"
   ]
  },
  {
   "cell_type": "code",
   "execution_count": null,
   "metadata": {},
   "outputs": [],
   "source": [
    "df"
   ]
  },
  {
   "cell_type": "code",
   "execution_count": null,
   "metadata": {},
   "outputs": [],
   "source": [
    "for col in df.columns:\n",
    "    df[f'{col}_plus'] = df[col] + 10"
   ]
  },
  {
   "cell_type": "code",
   "execution_count": null,
   "metadata": {},
   "outputs": [],
   "source": [
    "df"
   ]
  },
  {
   "cell_type": "markdown",
   "metadata": {},
   "source": [
    "--- 2019.8.27 ---"
   ]
  },
  {
   "cell_type": "code",
   "execution_count": null,
   "metadata": {},
   "outputs": [],
   "source": [
    "df = pd.DataFrame({'Team': ['Riders', 'Riders', 'Devils',],\n",
    "         'Rank': [1, 2, 2,],\n",
    "         'Year': [2014,2015,2014],\n",
    "         'Points':[876,789,863]})"
   ]
  },
  {
   "cell_type": "code",
   "execution_count": null,
   "metadata": {},
   "outputs": [],
   "source": [
    "df"
   ]
  },
  {
   "cell_type": "code",
   "execution_count": null,
   "metadata": {},
   "outputs": [],
   "source": [
    "df.groupby('Team').agg(avg_point=('Points','mean'),\n",
    "                      max_point=('Points','max'),\n",
    "                      min_year=('Year','min'))"
   ]
  },
  {
   "cell_type": "code",
   "execution_count": null,
   "metadata": {},
   "outputs": [],
   "source": [
    "print(pd.__version__) "
   ]
  },
  {
   "cell_type": "code",
   "execution_count": null,
   "metadata": {},
   "outputs": [],
   "source": [
    "df = pd.DataFrame({'From_To': ['LoNDon_paris', 'MAdrid_miLAN', 'londON_StockhOlm',\n",
    "                               'Budapest_PaRis', 'Brussels_londOn'],\n",
    "                   'RecentDelays': [[23, 47], [9], [24, 43, 87], [13], [67, 32]]},\n",
    "                 index={'a','b','c','d','e'})"
   ]
  },
  {
   "cell_type": "code",
   "execution_count": null,
   "metadata": {},
   "outputs": [],
   "source": [
    "df"
   ]
  },
  {
   "cell_type": "code",
   "execution_count": null,
   "metadata": {},
   "outputs": [],
   "source": [
    "df2 = df.explode('RecentDelays')\n",
    "df2"
   ]
  },
  {
   "cell_type": "code",
   "execution_count": null,
   "metadata": {},
   "outputs": [],
   "source": [
    "df['RecentDelays'] = df2.groupby(df2.index).RecentDelays.agg(list)\n",
    "df"
   ]
  },
  {
   "cell_type": "code",
   "execution_count": null,
   "metadata": {},
   "outputs": [],
   "source": [
    "d = {'one' : pd.Series([1, 2, 3], index=['a', 'b', 'c']),\n",
    "      'two' : pd.Series([1, 2, 3, 4], index=['a', 'b', 'c', 'd'])}\n",
    "\n",
    "df = pd.DataFrame(d)\n",
    "df"
   ]
  },
  {
   "cell_type": "code",
   "execution_count": null,
   "metadata": {},
   "outputs": [],
   "source": [
    "mean_two = df.two.mean()\n",
    "mean_two"
   ]
  },
  {
   "cell_type": "code",
   "execution_count": null,
   "metadata": {},
   "outputs": [],
   "source": [
    "df.query('two > @mean_two')"
   ]
  },
  {
   "cell_type": "code",
   "execution_count": null,
   "metadata": {},
   "outputs": [],
   "source": [
    "df.query('two > 3')"
   ]
  },
  {
   "cell_type": "code",
   "execution_count": null,
   "metadata": {},
   "outputs": [],
   "source": [
    "pd.set_option('display.max_columns',None)"
   ]
  },
  {
   "cell_type": "code",
   "execution_count": null,
   "metadata": {},
   "outputs": [],
   "source": [
    "df = pd.DataFrame({'Team': ['Riders', 'Riders', 'Devils',],\n",
    "         'Rank': [1, 2, 2,],\n",
    "         'Year': [2014,2015,2014],\n",
    "         'Points':[876,789,863]})"
   ]
  },
  {
   "cell_type": "code",
   "execution_count": null,
   "metadata": {},
   "outputs": [],
   "source": [
    "def top(df,n = 3, column = 'Year'):\n",
    "    return df.sort_values(by=column, ascending=False)[:n]"
   ]
  },
  {
   "cell_type": "code",
   "execution_count": null,
   "metadata": {},
   "outputs": [],
   "source": [
    "df.groupby('Team').apply(top)"
   ]
  },
  {
   "cell_type": "code",
   "execution_count": null,
   "metadata": {},
   "outputs": [],
   "source": [
    "data = {'Name':['Tom','James','Ricky'],\n",
    "        'Age':[25,26,25],\n",
    "        'Rating':[4.23,3.24,3.98]\n",
    "        }\n",
    "df = pd.DataFrame(data)\n",
    "df"
   ]
  },
  {
   "cell_type": "code",
   "execution_count": null,
   "metadata": {
    "scrolled": true
   },
   "outputs": [],
   "source": [
    "import pandas_profiling\n",
    "\n",
    "df.profile_report()"
   ]
  },
  {
   "cell_type": "code",
   "execution_count": null,
   "metadata": {},
   "outputs": [],
   "source": [
    "left = pd.DataFrame({\n",
    "         'id':[1,2,3,4,5],\n",
    "         'Name': ['Alex', 'Amy', 'Allen', 'Alice', 'Ayoung'],\n",
    "         'subject_id':['sub1','sub2','sub4','sub6','sub5']})\n",
    "right = pd.DataFrame(\n",
    "         {'id':[1,2,3,4,5],\n",
    "         'Name': ['Billy', 'Brian', 'Bran', 'Bryce', 'Betty'],\n",
    "         'subject_id':['sub2','sub4','sub3','sub6','sub5']})"
   ]
  },
  {
   "cell_type": "code",
   "execution_count": null,
   "metadata": {},
   "outputs": [],
   "source": [
    "pd.merge(left, right, on='subject_id', how='outer',indicator=True)"
   ]
  },
  {
   "cell_type": "code",
   "execution_count": null,
   "metadata": {},
   "outputs": [],
   "source": [
    "left = left.rename(columns = {'id':'left_id'})  # 改变连接关键列的名称\n",
    "right = right.rename(columns = {'id':'right_id'})   # 改变连接关键列的名称\n",
    "\n",
    "pd.merge(left,right,left_on = 'left_id',right_on = 'right_id')"
   ]
  },
  {
   "cell_type": "markdown",
   "metadata": {},
   "source": [
    "--- 2019.8.23 ---"
   ]
  },
  {
   "cell_type": "code",
   "execution_count": null,
   "metadata": {},
   "outputs": [],
   "source": [
    "s = 'tteese@xiaojilicai.cn,yc666yc@139.com'"
   ]
  },
  {
   "cell_type": "code",
   "execution_count": null,
   "metadata": {},
   "outputs": [],
   "source": [
    "type(s)"
   ]
  },
  {
   "cell_type": "code",
   "execution_count": null,
   "metadata": {},
   "outputs": [],
   "source": [
    "[s]"
   ]
  },
  {
   "cell_type": "code",
   "execution_count": null,
   "metadata": {},
   "outputs": [],
   "source": [
    "type([s])"
   ]
  },
  {
   "cell_type": "code",
   "execution_count": null,
   "metadata": {},
   "outputs": [],
   "source": [
    "import smtplib\n",
    "from email.mime.text import MIMEText\n",
    "from email.header import Header\n",
    "from smtplib import SMTP_SSL\n",
    "\n",
    "from email.mime.multipart import MIMEMultipart\n",
    "from email.header import Header\n",
    "from email.mime.base import MIMEBase\n",
    "from email import encoders\n",
    "\n",
    "smtp_server = 'smtp.mxhichina.com'\n",
    "\n",
    "##发件人和收件人信息\n",
    "sender = 'yingchao@xiaojilicai.cn' ## 发件人邮箱, 多人逗号分开\n",
    "password = 'xiaoji.1111'\n",
    "receiver = 'tteese@xiaojilicai.cn,yc666yc@139.com' ## 收件人邮箱, 多人逗号分开\n",
    "cc='dahuisdhaisduh@xiaojilicai.cn,yingchao@xiaojilicai.cn'  # #抄送邮箱, 多人逗号分开\n",
    "\n",
    "receiver_list = [\"tteese@xiaojilicai.cn\",\"yc666yc@139.com\"] ## 收件人邮箱, 多人逗号分开\n",
    "cc_list = [\"dahuisdhaisduh@xiaojilicai.cn\",\"yingchao@xiaojilicai.cn\"]  # #抄送邮箱, 多人逗号分开\n",
    "\n",
    "tolist=[\"one@one.org\",\"two@two.org\",\"three@three.org\",\"four@four.org\"]\n",
    "\n",
    "#邮件的正文内容\n",
    "mail_content = \"测试实施\"\n",
    "#邮件标题\n",
    "mail_title = '回款派券'\n",
    "\n",
    "msg = MIMEMultipart() \n",
    "msg.add_header('From',sender) \n",
    "msg.add_header('To',receiver) \n",
    "msg.add_header('Cc',cc)\n",
    "msg.add_header('Subject',mail_title) \n",
    "msg.attach(MIMEText(mail_content,'plain','utf-8')) \n",
    "##所有收信人信息\n",
    "toaddrs = receiver_list + cc_list\n",
    "\n",
    "\n",
    "# 添加附件就是加上一个MIMEBase，从本地读取一个图片:\n",
    "with open(r'C:\\百度云同步盘\\小鸡理财\\每日数据\\派券\\2019.08.22派券名单.xlsx', 'rb') as f:\n",
    "    # 设置附件的MIME和文件名，这里是png类型:\n",
    "    mime = MIMEBase('application','vnd.ms-excel')\n",
    "    # 加上必要的头信息:\n",
    "    mime.add_header('Content-Disposition', 'attachment', filename='派券名单.xlsx')\n",
    "    mime.add_header('Content-ID', '<0>')\n",
    "    mime.add_header('X-Attachment-Id', '0')\n",
    "    # 把附件的内容读进来:\n",
    "    mime.set_payload(f.read())\n",
    "    # 用Base64编码:\n",
    "    encoders.encode_base64(mime)\n",
    "    # 添加到MIMEMultipart:\n",
    "    msg.attach(mime)\n",
    "\n",
    "server = smtplib.SMTP(smtp_server, 25)\n",
    "server.set_debuglevel(0)\n",
    "server.login(sender, password)\n",
    "server.sendmail(sender, toaddrs, msg.as_string())\n",
    "server.quit()"
   ]
  },
  {
   "cell_type": "code",
   "execution_count": null,
   "metadata": {},
   "outputs": [],
   "source": [
    "dt_today = pd.to_datetime('today').strftime('%Y-%m-%d')\n",
    "dt_today"
   ]
  },
  {
   "cell_type": "code",
   "execution_count": null,
   "metadata": {},
   "outputs": [],
   "source": [
    "dt_today == '2019-08-23'"
   ]
  },
  {
   "cell_type": "code",
   "execution_count": null,
   "metadata": {},
   "outputs": [],
   "source": [
    "pd.to_datetime('today').strftime('%Y-%m-01')"
   ]
  },
  {
   "cell_type": "code",
   "execution_count": null,
   "metadata": {},
   "outputs": [],
   "source": [
    "dt_today = pd.to_datetime('today').strftime('%Y-%m-%d')\n",
    "day_of_week = pd.to_datetime('today').day_name()\n",
    "dt_hour = pd.datetime.now().hour\n",
    "print('\\nToday is {}\\t{}'.format(dt_today,day_of_week))"
   ]
  },
  {
   "cell_type": "code",
   "execution_count": null,
   "metadata": {},
   "outputs": [],
   "source": [
    "print('a')\n",
    "time.sleep(10)\n",
    "print('b')"
   ]
  },
  {
   "cell_type": "code",
   "execution_count": null,
   "metadata": {},
   "outputs": [],
   "source": [
    "x = [1,2,3]\n",
    "3 isin x"
   ]
  },
  {
   "cell_type": "code",
   "execution_count": null,
   "metadata": {},
   "outputs": [],
   "source": [
    "import time\n",
    "lineLength = 20\n",
    "delaySeconds = 0.05\n",
    "frontSymbol = '='\n",
    "frontSymbol2 = ['—', '\\\\', '|', '/']\n",
    "backSymbol  = ' '\n",
    "\n",
    "for i in range(10):\n",
    "    lineTmpla = \"{:%s<%s} {} {:<2}\"%(backSymbol, lineLength)\n",
    "    for j in range(lineLength):\n",
    "        tmpSymbol = frontSymbol2[j%(len(frontSymbol2))]\n",
    "        print(\"\\r\" + lineTmpla.format(frontSymbol * j, tmpSymbol, j), end='')\n",
    "        time.sleep(delaySeconds)"
   ]
  },
  {
   "cell_type": "code",
   "execution_count": null,
   "metadata": {},
   "outputs": [],
   "source": [
    "def count_down(n,s='离程序关闭还有'):\n",
    "    while n+1:\n",
    "        print('\\n\\r{}：{:>2d}s'.format(s,n),end='')\n",
    "        time.sleep(1)\n",
    "        n -= 1"
   ]
  },
  {
   "cell_type": "code",
   "execution_count": null,
   "metadata": {
    "scrolled": true
   },
   "outputs": [],
   "source": [
    "count_down(10)"
   ]
  },
  {
   "cell_type": "code",
   "execution_count": null,
   "metadata": {},
   "outputs": [],
   "source": [
    "import math\n",
    "starttime = int(time.time())\n",
    "jishi = input ( \"请设置倒计时时间____分钟：\")\n",
    "jishi *=60\n",
    "endtime = int(starttime +jishi)\n",
    "for i in range (endtime,starttime,-1):\n",
    "    time.sleep(1)\n",
    "    if i <= endtime+1:\n",
    "        print (i-starttime)\n",
    "time.sleep(1)\n",
    "print (\"time is over !!!\")"
   ]
  },
  {
   "cell_type": "code",
   "execution_count": null,
   "metadata": {},
   "outputs": [],
   "source": [
    "time.process_time()"
   ]
  },
  {
   "cell_type": "code",
   "execution_count": null,
   "metadata": {},
   "outputs": [],
   "source": [
    "for x in range(30, 0, -1):\n",
    "    print(\"\\r %d\" % x, end=\"\")\n",
    "    time.sleep(1)"
   ]
  },
  {
   "cell_type": "markdown",
   "metadata": {},
   "source": [
    "--- 2019.8.22 ---"
   ]
  },
  {
   "cell_type": "code",
   "execution_count": null,
   "metadata": {},
   "outputs": [],
   "source": [
    "1 == 2 or ''"
   ]
  },
  {
   "cell_type": "code",
   "execution_count": null,
   "metadata": {},
   "outputs": [],
   "source": [
    "os.getcwd()"
   ]
  },
  {
   "cell_type": "code",
   "execution_count": null,
   "metadata": {},
   "outputs": [],
   "source": [
    "from email import encoders\n",
    "from email.header import Header\n",
    "from email.mime.text import MIMEText\n",
    "from email.utils import parseaddr, formataddr\n",
    "\n",
    "import smtplib\n",
    "    \n",
    "def _format_addr(s):\n",
    "    name, addr = parseaddr(s)\n",
    "    return formataddr((Header(name, 'utf-8').encode(), addr))\n",
    "\n",
    "from_addr = 'yingchao@xiaojilicai.cn'\n",
    "password = 'xiaoji.1111'\n",
    "to_addr = 'yingchao@xiaojilicai.cn'\n",
    "smtp_server = 'smtp.mxhichina.com'\n",
    "\n",
    "# msg = MIMEText('hello, send by Python...', 'plain', 'utf-8')\n",
    "msg = MIMEText('<html><body><h1>Hello</h1>' +\n",
    "    '<p>send by <a href=\"http://www.python.org\">Python</a>...</p>' +\n",
    "    '</body></html>', 'html', 'utf-8')\n",
    "msg['From'] = _format_addr('Python爱好者 <%s>' % from_addr)\n",
    "msg['To'] = _format_addr('管理员 <%s>' % to_addr)\n",
    "msg['Subject'] = Header('来自SMTP的问候……', 'utf-8').encode()\n",
    "    \n",
    "server = smtplib.SMTP(smtp_server, 25)\n",
    "server.set_debuglevel(2)\n",
    "server.login(from_addr, password)\n",
    "server.sendmail(from_addr, [to_addr], msg.as_string())\n",
    "server.quit()"
   ]
  },
  {
   "cell_type": "code",
   "execution_count": null,
   "metadata": {},
   "outputs": [],
   "source": [
    "import smtplib\n",
    "from email.mime.text import MIMEText\n",
    "from email.header import Header\n",
    "from smtplib import SMTP_SSL\n",
    "\n",
    "from email.mime.multipart import MIMEMultipart\n",
    "from email.header import Header\n",
    "from email.mime.base import MIMEBase\n",
    "from email import encoders\n",
    "\n",
    "\n",
    "# #qq邮箱smtp服务器\n",
    "# host_server = 'smtp.mxhichina.com'\n",
    "# #pwd为qq邮箱的授权码\n",
    "# pwd = 'xiaoji.1111' ##\n",
    "# #发件人的邮箱\n",
    "# sender_qq_mail = 'yingchao@xiaojilicai.cn'\n",
    "# #收件人邮箱\n",
    "# receiver = 'yingchao@xiaojilicai.cn'\n",
    "\n",
    "\n",
    "# def _format_addr(s):\n",
    "#     name, addr = parseaddr(s)\n",
    "#     return formataddr((Header(name, 'utf-8').encode(), addr))\n",
    "\n",
    "# sender = 'yingchao@xiaojilicai.cn'\n",
    "\n",
    "# to_addr = ['yingchao@xiaojilicai.cn','yc66yc@139.com']\n",
    "smtp_server = 'smtp.mxhichina.com'\n",
    "\n",
    "##发件人和收件人信息\n",
    "sender = 'yingchao@xiaojilicai.cn' ## 发件人邮箱, 多人逗号分开\n",
    "password = 'xiaoji.1111'\n",
    "receiver = 'tteese@xiaojilicai.cn,yc666yc@139.com' ## 收件人邮箱, 多人逗号分开\n",
    "cc='dahuisdhaisduh@xiaojilicai.cn,yingchao@xiaojilicai.cn'  # #抄送邮箱, 多人逗号分开\n",
    "# bcc='bcc1@126.com,bcc2@126.com' # 暗抄邮箱, 多人逗号分开\n",
    "\n",
    "receiver_list = ['tteese@xiaojilicai.cn','yc666yc@139.com'] ## 收件人邮箱, 多人逗号分开\n",
    "cc_list = ['dahuisdhaisduh@xiaojilicai.cn','yingchao@xiaojilicai.cn']  # #抄送邮箱, 多人逗号分开\n",
    "\n",
    "#邮件的正文内容\n",
    "mail_content = \"测试实施\"\n",
    "#邮件标题\n",
    "mail_title = '回款派券'\n",
    "\n",
    "# msg = MIMEText(mail_content, 'plain', 'utf-8')\n",
    "# msg['Subject'] = Header(mail_title, 'utf-8').encode()\n",
    "msg = MIMEMultipart() \n",
    "msg.add_header('From',sender) \n",
    "msg.add_header('To',receiver) \n",
    "msg.add_header('Cc',cc)\n",
    "# msg.add_header('BCc',bcc) \n",
    "msg.add_header('Subject',mail_title) \n",
    "# msg.add_header('Date',subject)\n",
    "msg.attach(MIMEText(mail_content,'plain','utf-8')) \n",
    "##所有收信人信息\n",
    "toaddrs = [receiver_list] + [cc_list]\n",
    "\n",
    "# #邮件正文内容\n",
    "# msg = MIMEMultipart()\n",
    "# #msg = MIMEText(mail_content, \"plain\", 'utf-8')\n",
    "# msg[\"Subject\"] = Header(mail_title, 'utf-8')\n",
    "# msg[\"From\"] = sender_qq_mail\n",
    "# msg[\"To\"] = Header(\"接收者测试\", 'utf-8') ## 接收者的别名\n",
    "\n",
    "#邮件正文内容\n",
    "# msg.attach(MIMEText(mail_content, 'html', 'utf-8'))\n",
    "\n",
    "\n",
    "# # 构造附件1，传送当前目录下的 test.txt 文件\n",
    "# att1 = MIMEText(open(r'C:\\百度云同步盘\\小鸡理财\\每日数据\\派券\\2019.08.22派券名单.xlsx', 'rb').read(), 'base64', 'utf-8')\n",
    "# att1[\"Content-Type\"] = 'application/octet-stream'\n",
    "# # 这里的filename可以任意写，写什么名字，邮件中显示什么名字\n",
    "# att1[\"Content-Disposition\"] = 'attachment; filename=\"2019.08.22派券名单.xlsx\"'\n",
    "# msg.attach(att1)\n",
    "\n",
    "# 添加附件就是加上一个MIMEBase，从本地读取一个图片:\n",
    "with open(r'C:\\百度云同步盘\\小鸡理财\\每日数据\\派券\\2019.08.22派券名单.xlsx', 'rb') as f:\n",
    "    # 设置附件的MIME和文件名，这里是png类型:\n",
    "    mime = MIMEBase('application','vnd.ms-excel')\n",
    "    # 加上必要的头信息:\n",
    "    mime.add_header('Content-Disposition', 'attachment', filename='派券名单.xlsx')\n",
    "    mime.add_header('Content-ID', '<0>')\n",
    "    mime.add_header('X-Attachment-Id', '0')\n",
    "    # 把附件的内容读进来:\n",
    "    mime.set_payload(f.read())\n",
    "    # 用Base64编码:\n",
    "    encoders.encode_base64(mime)\n",
    "    # 添加到MIMEMultipart:\n",
    "    msg.attach(mime)\n",
    "\n",
    "\n",
    "# #ssl登录\n",
    "# smtp = SMTP_SSL(host_server)\n",
    "# #set_debuglevel()是用来调试的。参数值为1表示开启调试模式，参数值为0关闭调试模式\n",
    "# smtp.set_debuglevel(0)\n",
    "# smtp.ehlo(host_server)\n",
    "# smtp.login(sender_qq_mail, pwd)\n",
    "\n",
    "# smtp.sendmail(sender_qq_mail, receiver, msg.as_string())\n",
    "# smtp.quit()\n",
    "\n",
    "server = smtplib.SMTP(smtp_server, 25)\n",
    "server.set_debuglevel(0)\n",
    "server.login(sender, password)\n",
    "server.sendmail(sender, toaddrs, msg.as_string())\n",
    "server.quit()"
   ]
  },
  {
   "cell_type": "code",
   "execution_count": null,
   "metadata": {},
   "outputs": [],
   "source": [
    "from email.mime.text import MIMEText\n",
    "msg = MIMEText('hello...', 'plain', 'utf-8')"
   ]
  },
  {
   "cell_type": "code",
   "execution_count": null,
   "metadata": {},
   "outputs": [],
   "source": [
    "# 输入Email地址和口令:\n",
    "from_addr = 'yingchao@xiaojilicai.cn'\n",
    "password = 'xiaoji.1111'\n",
    "# 输入收件人地址:\n",
    "to_addr =  'yingchao@xiaojilicai.cn'\n",
    "# 输入SMTP服务器地址:\n",
    "smtp_server = 'smtp.mxhichina.com'\n",
    "\n",
    "import smtplib\n",
    "server = smtplib.SMTP(smtp_server, 25) # SMTP协议默认端口是25\n",
    "server.set_debuglevel(1)\n",
    "server.login(from_addr, password)\n",
    "server.sendmail(from_addr, [to_addr], msg.as_string())\n",
    "server.quit()"
   ]
  },
  {
   "cell_type": "markdown",
   "metadata": {},
   "source": [
    "--- 2019.8.21 ---"
   ]
  },
  {
   "cell_type": "code",
   "execution_count": null,
   "metadata": {},
   "outputs": [],
   "source": [
    "path_1 = r'C:\\Users\\Dragon\\Downloads\\多开分身虚拟定位-v2.0.1.apk'\n",
    "path_2 = r'C:\\test\\多开分身虚拟定位-v2.0.1.apk'\n",
    "\n",
    "os.rename(path_1,path_2)"
   ]
  },
  {
   "cell_type": "code",
   "execution_count": null,
   "metadata": {},
   "outputs": [],
   "source": [
    "s1 = time.time()"
   ]
  },
  {
   "cell_type": "code",
   "execution_count": null,
   "metadata": {},
   "outputs": [],
   "source": [
    "s2 = time.time()\n",
    "s2-s1"
   ]
  },
  {
   "cell_type": "markdown",
   "metadata": {},
   "source": [
    "--- 2019.8.20 ---"
   ]
  },
  {
   "cell_type": "code",
   "execution_count": null,
   "metadata": {},
   "outputs": [],
   "source": [
    "import antigravity"
   ]
  },
  {
   "cell_type": "code",
   "execution_count": null,
   "metadata": {},
   "outputs": [],
   "source": [
    "import os\n",
    "os.system('\"C:/Program Files/Internet Explorer/iexplore.exe\" https://www.jianshu.com/p/d4eea5b503ed')"
   ]
  },
  {
   "cell_type": "code",
   "execution_count": null,
   "metadata": {},
   "outputs": [],
   "source": [
    "import webbrowser\n",
    "\n",
    "url = 'https://translate.google.cn/'\n",
    "\n",
    "webbrowser.open(url)\n",
    "\n",
    "print(webbrowser.get())"
   ]
  },
  {
   "cell_type": "code",
   "execution_count": null,
   "metadata": {},
   "outputs": [],
   "source": [
    "import webbrowser\n",
    "import os \n",
    "webbrowser.open_new_tab(\"//www.jb51.net/\")\n",
    "os.system(\"pause\")#运行windows的pause 命令，等待用户输入\n",
    "\n",
    "i = 0 \n",
    "while i<100: \n",
    "  if downloadUrlList == None: \n",
    "    break \n",
    "  webbrowser.open_new_tab(downloadUrlList.pop()) \n",
    "  i = i + 1 \n",
    "  if i % 10 == 0: \n",
    "    os.system(\"pause\") "
   ]
  },
  {
   "cell_type": "code",
   "execution_count": null,
   "metadata": {},
   "outputs": [],
   "source": [
    "url = 'https://cg.xiaojilicai.com/admin/coupon/publishcoupon?username=&realname=&cellphone=&company_name=&coupon_alias=&use_status=1&refer_id=&pack_name=&bill_id=&start_time=&end_time=&start_time2=&end_time2=&export=1&async=0&__hash__=e776bcc8348b125590c7d83c83cb054d_c884f04a16d4ae6d1fee5a9407ca9481'"
   ]
  },
  {
   "cell_type": "code",
   "execution_count": null,
   "metadata": {},
   "outputs": [],
   "source": [
    "import webbrowser\n",
    "\n",
    "webbrowser.open(url)"
   ]
  },
  {
   "cell_type": "code",
   "execution_count": null,
   "metadata": {},
   "outputs": [],
   "source": [
    "from openpyxl import load_workbook"
   ]
  },
  {
   "cell_type": "code",
   "execution_count": null,
   "metadata": {},
   "outputs": [],
   "source": [
    "wb2 = load_workbook(r'C:\\Users\\Dragon\\Downloads\\券发放记录.xls')"
   ]
  },
  {
   "cell_type": "code",
   "execution_count": null,
   "metadata": {},
   "outputs": [],
   "source": [
    "import xlrd\n",
    "from openpyxl.workbook import Workbook\n",
    "from openpyxl.reader.excel import load_workbook, InvalidFileException\n",
    "\n",
    "def open_xls_as_xlsx(filename):\n",
    "    # first open using xlrd\n",
    "    book = xlrd.open_workbook(filename)\n",
    "    index = 0\n",
    "    nrows, ncols = 0, 0\n",
    "    while nrows * ncols == 0:\n",
    "        sheet = book.sheet_by_index(index)\n",
    "        nrows = sheet.nrows\n",
    "        ncols = sheet.ncols\n",
    "        index += 1\n",
    "\n",
    "    # prepare a xlsx sheet\n",
    "    book1 = Workbook()\n",
    "    sheet1 = book1.get_active_sheet()\n",
    "\n",
    "    for row in xrange(0, nrows):\n",
    "        for col in xrange(0, ncols):\n",
    "            sheet1.cell(row=row, column=col).value = sheet.cell_value(row, col)\n",
    "\n",
    "    return book1"
   ]
  },
  {
   "cell_type": "code",
   "execution_count": null,
   "metadata": {},
   "outputs": [],
   "source": [
    "filename = r'C:\\Users\\Dragon\\Downloads\\券发放记录 - 副本.xml'"
   ]
  },
  {
   "cell_type": "code",
   "execution_count": null,
   "metadata": {
    "scrolled": true
   },
   "outputs": [],
   "source": [
    "b = xlrd.open_workbook(filename)"
   ]
  },
  {
   "cell_type": "code",
   "execution_count": null,
   "metadata": {
    "scrolled": true
   },
   "outputs": [],
   "source": [
    "from openpyxl import load_workbook\n",
    " \n",
    "workbook = load_workbook(filename)"
   ]
  },
  {
   "cell_type": "code",
   "execution_count": null,
   "metadata": {},
   "outputs": [],
   "source": [
    "import pandas as pd\n",
    "data = pd.read_html(filename)"
   ]
  },
  {
   "cell_type": "code",
   "execution_count": null,
   "metadata": {
    "scrolled": true
   },
   "outputs": [],
   "source": [
    "df = pd.read_table(r'C:\\Users\\Dragon\\Downloads\\券发放记录.xls')"
   ]
  },
  {
   "cell_type": "code",
   "execution_count": null,
   "metadata": {},
   "outputs": [],
   "source": [
    "df = pd.DataFrame()"
   ]
  },
  {
   "cell_type": "code",
   "execution_count": null,
   "metadata": {},
   "outputs": [],
   "source": [
    "import xlwings as xw"
   ]
  },
  {
   "cell_type": "code",
   "execution_count": null,
   "metadata": {},
   "outputs": [],
   "source": [
    "app = xw.App(visible=False, add_book=False)\n",
    "\n",
    "xls = app.books.open(r'C:\\Users\\Dragon\\Downloads\\券发放记录.xls')\n",
    "\n",
    "xls\n",
    "\n",
    "sheet = xls.sheets[0]\n",
    "sheet\n",
    "\n",
    "df = sheet.range('A1').options(pd.DataFrame, expand='table').value\n",
    "\n",
    "df\n",
    "\n",
    "xls.close()\n",
    "\n",
    "app.quit()"
   ]
  },
  {
   "cell_type": "code",
   "execution_count": null,
   "metadata": {},
   "outputs": [],
   "source": [
    "pd.to_datetime('today').strftime('%Y-%m-%d')"
   ]
  },
  {
   "cell_type": "code",
   "execution_count": null,
   "metadata": {},
   "outputs": [],
   "source": [
    "a=b=1"
   ]
  },
  {
   "cell_type": "code",
   "execution_count": null,
   "metadata": {},
   "outputs": [],
   "source": [
    "import os\n",
    "\n",
    "file_dir = r'C:\\Users\\Dragon\\Downloads'\n",
    "file_dict = {}\n",
    "lists = os.listdir(file_dir) #先获取文件夹内的所有文件\n",
    "for i in lists: # 遍历所有文件\n",
    "    ctime = os.stat(os.path.join(file_dir, i)).st_ctime\n",
    "    file_dict[ctime] = i # 添加创建时间和文件名到字典\n",
    "max_ctime = max(file_dict.keys()) # 取值最大的时间\n",
    "print (file_dict[max_ctime]) #打印出最新文件名"
   ]
  },
  {
   "cell_type": "code",
   "execution_count": null,
   "metadata": {},
   "outputs": [],
   "source": [
    "for i in range(3):\n",
    "    locals()['ex_'+str(i)]=i\n",
    "    print ('ex_'+str(i))"
   ]
  },
  {
   "cell_type": "code",
   "execution_count": null,
   "metadata": {},
   "outputs": [],
   "source": [
    "ex_2"
   ]
  },
  {
   "cell_type": "code",
   "execution_count": null,
   "metadata": {},
   "outputs": [],
   "source": [
    "quan_not_use = 'a'\n",
    "quan_use = 'b'"
   ]
  },
  {
   "cell_type": "code",
   "execution_count": null,
   "metadata": {},
   "outputs": [],
   "source": [
    "download_url = [quan_not_use,quan_use]"
   ]
  },
  {
   "cell_type": "code",
   "execution_count": null,
   "metadata": {},
   "outputs": [],
   "source": [
    "t = ['quan_not_use','quan_use']"
   ]
  },
  {
   "cell_type": "code",
   "execution_count": null,
   "metadata": {},
   "outputs": [],
   "source": [
    "for i in download_url:\n",
    "    locals()['ex_'+str(i)]=i\n",
    "    print ('ex_'+str(i))"
   ]
  },
  {
   "cell_type": "code",
   "execution_count": null,
   "metadata": {},
   "outputs": [],
   "source": [
    "for i,j in zip(t,download_url):\n",
    "    locals()['ex_'+str(i)]=j\n",
    "    print ('ex_'+str(i))\n",
    "    \n",
    "def f(ex_quan_not_use):\n",
    "    print('ok')\n",
    "    \n",
    "f(ex_quan_not_use)"
   ]
  },
  {
   "cell_type": "code",
   "execution_count": null,
   "metadata": {},
   "outputs": [],
   "source": [
    "# 导入库\n",
    "import os\n",
    "import time\n",
    "import webbrowser\n",
    "\n",
    "import numpy as np\n",
    "import pandas as pd\n",
    "import xlwings as xw\n",
    "\n",
    "\n",
    "# 下载券表格\n",
    "def download_data(url):\n",
    "    webbrowser.open(url)\n",
    "\n",
    "# 获得最新表格\n",
    "def newest_xls():\n",
    "    file_dir = r'C:\\Users\\Dragon\\Downloads'\n",
    "    file_dict = {}\n",
    "    lists = os.listdir(file_dir) #先获取文件夹内的所有文件\n",
    "    for i in lists: # 遍历所有文件\n",
    "        ctime = os.stat(os.path.join(file_dir, i)).st_ctime\n",
    "        file_dict[ctime] = i # 添加创建时间和文件名到字典\n",
    "    max_ctime = max(file_dict.keys()) # 取值最大的时间\n",
    "    print('当前目录最新文件为：',file_dict[max_ctime])\n",
    "\n",
    "    return file_dict[max_ctime]\n",
    "\n",
    "# 处理表格\n",
    "def handle_xls(new_xls):\n",
    "    app = xw.App(visible=False, add_book=False)\n",
    "    xls = app.books.open(new_xls)\n",
    "    sheet = xls.sheets[0]\n",
    "    dataframe = sheet.range('A1').options(pd.DataFrame, expand='table').value\n",
    "    xls.close()\n",
    "    app.quit()   \n",
    "    return dataframe\n",
    "\n",
    "# 券名单生成\n",
    "def coupon_list(df_quan_not_use,df_quan_use):\n",
    "    print('coupon_list')"
   ]
  },
  {
   "cell_type": "code",
   "execution_count": null,
   "metadata": {},
   "outputs": [],
   "source": [
    "print('\\n派券系统启动!\\n')\n",
    "os.chdir(r'C:\\Users\\Dragon\\Downloads')\n",
    "\n",
    "quan_not_use = 'https://cg.xiaojilicai.com/admin/coupon/publishcoupon?username=&realname=&cellphone=&company_name=&coupon_alias=&use_status=1&refer_id=&pack_name=&bill_id=&start_time=&end_time=&start_time2=&end_time2=&export=1&async=0&__hash__=e776bcc8348b125590c7d83c83cb054d_c884f04a16d4ae6d1fee5a9407ca9481'\n",
    "quan_use = 'https://cg.xiaojilicai.com/admin/coupon/publishcoupon?username=&realname=&cellphone=&company_name=&coupon_alias=%E6%B8%85%E5%87%89%E4%B8%80%E5%A4%8F&use_status=&refer_id=&pack_name=&bill_id=&start_time=2019-08-01&end_time=&start_time2=&end_time2=&export=1&async=0&__hash__=e776bcc8348b125590c7d83c83cb054d_deac4801fd900e593f387d8f4620f25c'\n",
    "download_url = [quan_not_use,quan_use]\n",
    "xls_name = ['quan_not_use','quan_use']\n",
    "\n",
    "origin_file = newest_xls()\n",
    "count = 0\n",
    "\n",
    "for i,j in zip(xls_name,download_url):\n",
    "    download_data(j)    # 下载\n",
    "    time.sleep(30)\n",
    "    new_xls = newest_xls()  # 捕获下载文件\n",
    "    while new_xls == origin_file:\n",
    "        time.sleep(30)\n",
    "        new_xls = newest_xls()\n",
    "\n",
    "    new_df = handle_xls(new_xls)    # 转换下载文件\n",
    "    locals()['df_'+str(i)] = new_df # 批量生成变量名\n",
    "    print ('df_'+str(i))\n",
    "\n",
    "    count += 1\n",
    "    print('第 {} 个表格已经完成。'.format(count))\n",
    "\n",
    "    origin_file = new_xls"
   ]
  },
  {
   "cell_type": "code",
   "execution_count": null,
   "metadata": {},
   "outputs": [],
   "source": [
    "df_quan_not_use.head()"
   ]
  },
  {
   "cell_type": "code",
   "execution_count": null,
   "metadata": {},
   "outputs": [],
   "source": [
    "coupon_list(df_quan_not_use,df_quan_use)"
   ]
  },
  {
   "cell_type": "markdown",
   "metadata": {},
   "source": [
    "--- 2019.8.19 ---"
   ]
  },
  {
   "cell_type": "code",
   "execution_count": null,
   "metadata": {},
   "outputs": [],
   "source": [
    "import os\n",
    "import cv2\n",
    "import numpy"
   ]
  },
  {
   "cell_type": "code",
   "execution_count": null,
   "metadata": {},
   "outputs": [],
   "source": [
    "img = cv2.imread(r'D:\\VDownload\\0233D65D37C5E3D69C1FC2B9DAB30759.jpg')"
   ]
  },
  {
   "cell_type": "code",
   "execution_count": null,
   "metadata": {},
   "outputs": [],
   "source": [
    "img"
   ]
  },
  {
   "cell_type": "code",
   "execution_count": null,
   "metadata": {},
   "outputs": [],
   "source": [
    "img.shape"
   ]
  },
  {
   "cell_type": "code",
   "execution_count": null,
   "metadata": {},
   "outputs": [],
   "source": [
    "def testRaise(number):\n",
    "    if number < 1:\n",
    "        raise ValueError('0') #或者 raise ValueError,'Invalid value'\n",
    " \n",
    "testRaise(0)"
   ]
  },
  {
   "cell_type": "code",
   "execution_count": null,
   "metadata": {},
   "outputs": [],
   "source": [
    "a = 'a'\n",
    "'a' is a"
   ]
  },
  {
   "cell_type": "code",
   "execution_count": null,
   "metadata": {},
   "outputs": [],
   "source": [
    "path = r'D:\\VDownload'"
   ]
  },
  {
   "cell_type": "code",
   "execution_count": null,
   "metadata": {},
   "outputs": [],
   "source": [
    "os.chdir(path)\n",
    "os.getcwd()"
   ]
  },
  {
   "cell_type": "code",
   "execution_count": null,
   "metadata": {
    "scrolled": true
   },
   "outputs": [],
   "source": [
    "for file in os.listdir('.'):\n",
    "    img = cv2.imread(file)\n",
    "    try:\n",
    "        img.shape\n",
    "    except AttributeError:\n",
    "        print(\"{} is not a jpg!\".format(file))\n",
    "    else:\n",
    "        print('-',end='')\n",
    "#     continue\n",
    "#     print(file)\n",
    "#     img = cv2.imread(file)\n",
    "#     print(file,':',img.shape)"
   ]
  },
  {
   "cell_type": "code",
   "execution_count": null,
   "metadata": {},
   "outputs": [],
   "source": [
    "print('\\r进度: {:.4%}'.format((50/75)),end='')"
   ]
  },
  {
   "cell_type": "code",
   "execution_count": null,
   "metadata": {},
   "outputs": [],
   "source": [
    "img = cv2.imread('quancai.jpg')"
   ]
  },
  {
   "cell_type": "code",
   "execution_count": null,
   "metadata": {},
   "outputs": [],
   "source": [
    "print(img.shape)"
   ]
  },
  {
   "cell_type": "code",
   "execution_count": null,
   "metadata": {},
   "outputs": [],
   "source": [
    "data = []\n",
    "\n",
    "for i in range(img.shape[0]):\n",
    "    for j in range(img.shape[1]):\n",
    "        d = max(img[i,j,:]) - min(img[i,j,:])\n",
    "        data.append(d)"
   ]
  },
  {
   "cell_type": "code",
   "execution_count": null,
   "metadata": {},
   "outputs": [],
   "source": [
    "max(data)"
   ]
  },
  {
   "cell_type": "code",
   "execution_count": null,
   "metadata": {
    "scrolled": true
   },
   "outputs": [],
   "source": [
    "img"
   ]
  },
  {
   "cell_type": "code",
   "execution_count": null,
   "metadata": {},
   "outputs": [],
   "source": [
    "a = np.array([[1,2,3],[3,4,5],[4,5,6]]) "
   ]
  },
  {
   "cell_type": "code",
   "execution_count": null,
   "metadata": {},
   "outputs": [],
   "source": [
    "a"
   ]
  },
  {
   "cell_type": "code",
   "execution_count": null,
   "metadata": {},
   "outputs": [],
   "source": [
    "a.shape"
   ]
  },
  {
   "cell_type": "code",
   "execution_count": null,
   "metadata": {},
   "outputs": [],
   "source": [
    "max(a[2])"
   ]
  },
  {
   "cell_type": "code",
   "execution_count": null,
   "metadata": {},
   "outputs": [],
   "source": [
    "for i in range(6):\n",
    "    print(i)"
   ]
  },
  {
   "cell_type": "code",
   "execution_count": null,
   "metadata": {},
   "outputs": [],
   "source": [
    "x = np.array([[  0,  1,  2],[  3,  4,  5],[  6,  7,  8],[  9,  10,  11]]) "
   ]
  },
  {
   "cell_type": "code",
   "execution_count": null,
   "metadata": {},
   "outputs": [],
   "source": [
    "x.shape"
   ]
  },
  {
   "cell_type": "code",
   "execution_count": null,
   "metadata": {},
   "outputs": [],
   "source": [
    "y = np.arange(24).reshape(2,3,4)"
   ]
  },
  {
   "cell_type": "code",
   "execution_count": null,
   "metadata": {},
   "outputs": [],
   "source": [
    "y"
   ]
  },
  {
   "cell_type": "code",
   "execution_count": null,
   "metadata": {},
   "outputs": [],
   "source": [
    "y[0][1]"
   ]
  },
  {
   "cell_type": "code",
   "execution_count": null,
   "metadata": {},
   "outputs": [],
   "source": [
    "y[0,1,:]"
   ]
  },
  {
   "cell_type": "code",
   "execution_count": null,
   "metadata": {},
   "outputs": [],
   "source": [
    "y.shape"
   ]
  },
  {
   "cell_type": "code",
   "execution_count": null,
   "metadata": {},
   "outputs": [],
   "source": [
    "l = []\n",
    "l.append(6)"
   ]
  },
  {
   "cell_type": "code",
   "execution_count": null,
   "metadata": {},
   "outputs": [],
   "source": [
    "l"
   ]
  },
  {
   "cell_type": "code",
   "execution_count": null,
   "metadata": {},
   "outputs": [],
   "source": [
    "import pprint"
   ]
  },
  {
   "cell_type": "code",
   "execution_count": null,
   "metadata": {},
   "outputs": [],
   "source": [
    "pprint.pprint(y)"
   ]
  },
  {
   "cell_type": "code",
   "execution_count": null,
   "metadata": {},
   "outputs": [],
   "source": [
    "os.getcwd()"
   ]
  },
  {
   "cell_type": "code",
   "execution_count": null,
   "metadata": {},
   "outputs": [],
   "source": [
    "os.path.exists(r'D:\\black and white')"
   ]
  },
  {
   "cell_type": "markdown",
   "metadata": {},
   "source": [
    "--- 2019.8.16 ---"
   ]
  },
  {
   "cell_type": "code",
   "execution_count": null,
   "metadata": {},
   "outputs": [],
   "source": [
    "#importing Pandas \n",
    "import pandas as pd\n",
    "#importing plotly and cufflinks in offline mode\n",
    "import cufflinks as cf\n",
    "\n",
    "import plotly.offline\n",
    "cf.go_offline()\n",
    "cf.set_config_file(offline=False, world_readable=True)"
   ]
  },
  {
   "cell_type": "code",
   "execution_count": null,
   "metadata": {},
   "outputs": [],
   "source": [
    "# Depreciated: pre 2.0.0 version\n",
    "df = pd.read_csv('../data/train.csv')"
   ]
  },
  {
   "cell_type": "code",
   "execution_count": null,
   "metadata": {},
   "outputs": [],
   "source": [
    "df.iplot()"
   ]
  },
  {
   "cell_type": "code",
   "execution_count": null,
   "metadata": {},
   "outputs": [],
   "source": [
    "%lsmagic"
   ]
  },
  {
   "cell_type": "code",
   "execution_count": null,
   "metadata": {},
   "outputs": [],
   "source": [
    "# file.py\n",
    "def foo(x):\n",
    "    return x"
   ]
  },
  {
   "cell_type": "code",
   "execution_count": null,
   "metadata": {},
   "outputs": [],
   "source": [
    "%pastebin file.py"
   ]
  },
  {
   "cell_type": "code",
   "execution_count": null,
   "metadata": {},
   "outputs": [],
   "source": [
    "%%writefile foo.py\n",
    "def foo(x):\n",
    "    return x"
   ]
  },
  {
   "cell_type": "markdown",
   "metadata": {},
   "source": [
    "<div class=\"alert alert-block alert-info\">\n",
    "<b>Tip:</b> Use blue boxes (alert-info) for tips and notes. \n",
    "If it’s a note, you don’t have to include the word “Note”.\n",
    "</div>"
   ]
  },
  {
   "cell_type": "markdown",
   "metadata": {},
   "source": [
    "<div class=\"alert alert-block alert-warning\">\n",
    "<b>Example:</b> Yellow Boxes are generally used to include additional examples or mathematical formulas.\n",
    "</div>"
   ]
  },
  {
   "cell_type": "markdown",
   "metadata": {},
   "source": [
    "<div class=\"alert alert-block alert-success\">\n",
    "Use green box only when necessary like to display links to related content.\n",
    "</div>"
   ]
  },
  {
   "cell_type": "markdown",
   "metadata": {},
   "source": [
    "<div class=\"alert alert-block alert-danger\">\n",
    "It is good to avoid red boxes but can be used to alert users to not delete some important part of code etc. \n",
    "</div>"
   ]
  },
  {
   "cell_type": "code",
   "execution_count": null,
   "metadata": {},
   "outputs": [],
   "source": [
    "from IPython.core.interactiveshell import InteractiveShell\n",
    "InteractiveShell.ast_node_interactivity = \"all\""
   ]
  },
  {
   "cell_type": "code",
   "execution_count": null,
   "metadata": {},
   "outputs": [],
   "source": [
    "0+5          \n",
    "11+6\n",
    "12+7"
   ]
  },
  {
   "cell_type": "code",
   "execution_count": null,
   "metadata": {},
   "outputs": [],
   "source": [
    "# To revert to the original setting :\n",
    "InteractiveShell.ast_node_interactivity = \"last_expr\""
   ]
  },
  {
   "cell_type": "code",
   "execution_count": null,
   "metadata": {},
   "outputs": [],
   "source": []
  },
  {
   "cell_type": "markdown",
   "metadata": {},
   "source": [
    "--- 2019.8.15 ---"
   ]
  },
  {
   "cell_type": "code",
   "execution_count": null,
   "metadata": {},
   "outputs": [],
   "source": [
    "#importing the necessary packages\n",
    "import pandas as pd\n",
    "import pandas_profiling"
   ]
  },
  {
   "cell_type": "code",
   "execution_count": null,
   "metadata": {},
   "outputs": [],
   "source": [
    "# Depreciated: pre 2.0.0 version\n",
    "df = pd.read_csv('../data/train.csv')\n",
    "pandas_profiling.ProfileReport(df)"
   ]
  },
  {
   "cell_type": "code",
   "execution_count": null,
   "metadata": {},
   "outputs": [],
   "source": [
    "#Pandas-Profiling 2.0.0\n",
    "df.profile_report()"
   ]
  },
  {
   "cell_type": "code",
   "execution_count": null,
   "metadata": {},
   "outputs": [],
   "source": [
    "profile = df.profile_report(title='Pandas Profiling Report')\n",
    "profile.to_file(\"Titanic data profiling.html\")"
   ]
  },
  {
   "cell_type": "markdown",
   "metadata": {},
   "source": [
    "--- 2019.8.14 ---"
   ]
  },
  {
   "cell_type": "code",
   "execution_count": null,
   "metadata": {},
   "outputs": [],
   "source": [
    "# 导入库\n",
    "import numpy as np\n",
    "import pandas as pd\n",
    "\n",
    "# 导入表格\n",
    "df = pd.read_excel(r'C:\\百度云同步盘\\小鸡理财\\短信发送记录\\短信名单.xlsx')\n",
    "\n",
    "# 短信黑名单\n",
    "black_list = np.array([13175198841,13588059774], dtype=np.float64)\n",
    "\n",
    "# 计算列数\n",
    "n = df.shape[1]\n",
    "\n",
    "# 合并数据\n",
    "res = pd.DataFrame()\n",
    "for i in range(int(n/2)):\n",
    "    temp = df.iloc[:,[i*2,i*2+1]]\n",
    "    temp.columns = ['用户名', '手机号']\n",
    "    res = res.append(temp)\n",
    "\n",
    "# 去重\n",
    "res.drop_duplicates('用户名',inplace=True)\n",
    "\n",
    "# 去空值\n",
    "res.dropna(how = 'all',inplace=True)"
   ]
  },
  {
   "cell_type": "code",
   "execution_count": null,
   "metadata": {},
   "outputs": [],
   "source": [
    "res.head()"
   ]
  },
  {
   "cell_type": "code",
   "execution_count": null,
   "metadata": {},
   "outputs": [],
   "source": [
    "1.597916e+10 in res['手机号']"
   ]
  },
  {
   "cell_type": "code",
   "execution_count": null,
   "metadata": {},
   "outputs": [],
   "source": [
    "type(res.iloc[0,1])"
   ]
  },
  {
   "cell_type": "code",
   "execution_count": null,
   "metadata": {},
   "outputs": [],
   "source": [
    "x = res['手机号'].astype(str)"
   ]
  },
  {
   "cell_type": "code",
   "execution_count": null,
   "metadata": {},
   "outputs": [],
   "source": [
    "x.head()"
   ]
  },
  {
   "cell_type": "code",
   "execution_count": null,
   "metadata": {},
   "outputs": [],
   "source": [
    "'15979162336.0' in x"
   ]
  },
  {
   "cell_type": "code",
   "execution_count": null,
   "metadata": {},
   "outputs": [],
   "source": [
    "black_list = [13175198841,13588059774]\n",
    "\n",
    "for i in black_list:\n",
    "    for j in res['手机号']:\n",
    "        if i == j:\n",
    "            print('hit')"
   ]
  },
  {
   "cell_type": "code",
   "execution_count": null,
   "metadata": {},
   "outputs": [],
   "source": [
    "df = pd.DataFrame(np.arange(15).reshape(5,3),columns=['col1','col2','col3'])"
   ]
  },
  {
   "cell_type": "code",
   "execution_count": null,
   "metadata": {},
   "outputs": [],
   "source": [
    "df"
   ]
  },
  {
   "cell_type": "code",
   "execution_count": null,
   "metadata": {},
   "outputs": [],
   "source": [
    "del df[df.col3 == 5]"
   ]
  },
  {
   "cell_type": "markdown",
   "metadata": {},
   "source": [
    "--- 2019.8.13 ---"
   ]
  },
  {
   "cell_type": "code",
   "execution_count": null,
   "metadata": {},
   "outputs": [],
   "source": [
    "data = []"
   ]
  },
  {
   "cell_type": "code",
   "execution_count": null,
   "metadata": {},
   "outputs": [],
   "source": [
    "with open('..\\data\\home.ics','r', encoding='UTF-8') as f:\n",
    "    content = f.readlines()\n",
    "    cnt = 1\n",
    "    tp_list = []\n",
    "    for i in content:\n",
    "        \n",
    "        if i.startswith('DTSTART'):           \n",
    "            tp_list.append(cnt)\n",
    "            cnt += 1\n",
    "            tp_list.append(i.strip().split(':')[1].split('T')[0])\n",
    "            \n",
    "        elif i.startswith('SUMMARY'):          \n",
    "            tp_list.append(i.strip().split(':')[1])\n",
    "            data.append(tp_list)\n",
    "            tp_list = []    \n",
    "        else:\n",
    "            pass"
   ]
  },
  {
   "cell_type": "code",
   "execution_count": null,
   "metadata": {},
   "outputs": [],
   "source": [
    "data"
   ]
  },
  {
   "cell_type": "code",
   "execution_count": null,
   "metadata": {},
   "outputs": [],
   "source": [
    "df = pd.DataFrame(data)\n",
    "df.to_excel('test_calender.xlsx')"
   ]
  },
  {
   "cell_type": "code",
   "execution_count": null,
   "metadata": {},
   "outputs": [],
   "source": [
    "with open('..\\data\\ics.txt','r', encoding='UTF-8') as f:\n",
    "    cnt = 0\n",
    "    tp_list = []\n",
    "    while f.readline():\n",
    "        print(f.readline())"
   ]
  },
  {
   "cell_type": "code",
   "execution_count": null,
   "metadata": {},
   "outputs": [],
   "source": [
    "f = open('..\\data\\ics.txt','r', encoding='UTF-8')"
   ]
  },
  {
   "cell_type": "code",
   "execution_count": null,
   "metadata": {},
   "outputs": [],
   "source": [
    "content = f.readlines()\n",
    "content"
   ]
  },
  {
   "cell_type": "code",
   "execution_count": null,
   "metadata": {},
   "outputs": [],
   "source": [
    "c = '20120403'"
   ]
  },
  {
   "cell_type": "code",
   "execution_count": null,
   "metadata": {},
   "outputs": [],
   "source": [
    "c.split(':')"
   ]
  },
  {
   "cell_type": "markdown",
   "metadata": {},
   "source": [
    "--- 2019.8.9 ---"
   ]
  },
  {
   "cell_type": "code",
   "execution_count": null,
   "metadata": {},
   "outputs": [],
   "source": [
    "df = pd.DataFrame(np.arange(15).reshape(5,3),columns=['col1','col2','col3'])\n",
    "df"
   ]
  },
  {
   "cell_type": "code",
   "execution_count": null,
   "metadata": {},
   "outputs": [],
   "source": [
    "df.columns = ['x','col1','col2']\n",
    "df"
   ]
  },
  {
   "cell_type": "code",
   "execution_count": null,
   "metadata": {},
   "outputs": [],
   "source": [
    "l = ['y','col2','col2','t']\n",
    "df = df.reindex(columns=l)\n",
    "df"
   ]
  },
  {
   "cell_type": "markdown",
   "metadata": {},
   "source": [
    "--- 2019.8.6 ---"
   ]
  },
  {
   "cell_type": "code",
   "execution_count": null,
   "metadata": {},
   "outputs": [],
   "source": [
    "with pd.ExcelFile(r'C:\\Users\\Dragon\\Desktop\\表格3.xlsx') as xlsx:\n",
    "    df_1 = pd.read_excel(xlsx,'邀请')\n",
    "    df_2 = pd.read_excel(xlsx,'业务')\n",
    "    df_3 = pd.read_excel(xlsx,'回款')"
   ]
  },
  {
   "cell_type": "code",
   "execution_count": null,
   "metadata": {},
   "outputs": [],
   "source": [
    "df_hr = pd.merge(df_1,df_2,\n",
    "                 how='inner', \n",
    "                 left_on='邀请人', right_on='邀请人手机号码')"
   ]
  },
  {
   "cell_type": "code",
   "execution_count": null,
   "metadata": {},
   "outputs": [],
   "source": [
    "df_3['发放时间'] = pd.to_datetime(df_3['预计本次发放时间']).dt.strftime('%Y-%m')\n",
    "# df_3['发放时间'] = df_3['发放时间'].dt.strftime('%Y-%m')"
   ]
  },
  {
   "cell_type": "code",
   "execution_count": null,
   "metadata": {
    "scrolled": true
   },
   "outputs": [],
   "source": [
    "df_hk = df_3.groupby(['投资用户','真实姓名','手机号码','会员类型','发放时间'], as_index=False)['本次发放金额'].sum()"
   ]
  },
  {
   "cell_type": "code",
   "execution_count": null,
   "metadata": {},
   "outputs": [],
   "source": [
    "df = pd.merge(df_hr,df_hk,\n",
    "             how='inner',\n",
    "             left_on='用户名', right_on='投资用户',)"
   ]
  },
  {
   "cell_type": "code",
   "execution_count": null,
   "metadata": {},
   "outputs": [],
   "source": [
    "df.loc[:,['邀请人用户名', '邀请人真实姓名', '邀请人手机号码', '投资用户', '真实姓名', '手机号码','会员类型', '发放时间', '本次发放金额']].to_excel(r'C:\\Users\\Dragon\\Desktop\\表格4.xlsx',index=False)"
   ]
  },
  {
   "cell_type": "code",
   "execution_count": null,
   "metadata": {},
   "outputs": [],
   "source": [
    "exit()"
   ]
  },
  {
   "cell_type": "markdown",
   "metadata": {},
   "source": [
    "--- 2019.7.31 ---"
   ]
  },
  {
   "cell_type": "code",
   "execution_count": null,
   "metadata": {},
   "outputs": [],
   "source": [
    "a=1\n",
    "b=2\n",
    "a,b=b,a"
   ]
  },
  {
   "cell_type": "code",
   "execution_count": null,
   "metadata": {},
   "outputs": [],
   "source": [
    "a"
   ]
  },
  {
   "cell_type": "code",
   "execution_count": null,
   "metadata": {},
   "outputs": [],
   "source": [
    "b"
   ]
  },
  {
   "cell_type": "code",
   "execution_count": null,
   "metadata": {},
   "outputs": [],
   "source": [
    "print()\n",
    "print(\"\\#{'}${\\\"}@/\")\n",
    "print(\"\\#{'}${\"'\"'\"}@/\")\n",
    "print(r\"\"\"\\#{'}${\"}@/\"\"\")\n",
    "print('\\#{\\'}${\"}@/')\n",
    "print('\\#{'\"'\"'}${\"}@/')\n",
    "print(r'''\\#{'}${\"}@/''')\n",
    "print()"
   ]
  },
  {
   "cell_type": "code",
   "execution_count": null,
   "metadata": {},
   "outputs": [],
   "source": [
    "id(a)"
   ]
  },
  {
   "cell_type": "code",
   "execution_count": null,
   "metadata": {},
   "outputs": [],
   "source": [
    "s = b'abcdefg'\n",
    "list(s)"
   ]
  },
  {
   "cell_type": "code",
   "execution_count": null,
   "metadata": {},
   "outputs": [],
   "source": [
    "s.isdigit()"
   ]
  },
  {
   "cell_type": "code",
   "execution_count": null,
   "metadata": {},
   "outputs": [],
   "source": [
    "import time\n",
    "print()\n",
    "print(time.ctime())\n",
    "print()\n",
    "print(time.time())"
   ]
  },
  {
   "cell_type": "code",
   "execution_count": null,
   "metadata": {},
   "outputs": [],
   "source": [
    "import os\n",
    "import time\n",
    "# for windows\n",
    "# os.system('cls')\n",
    "os.system(\"ls\")\n",
    "time.sleep(2)"
   ]
  },
  {
   "cell_type": "code",
   "execution_count": null,
   "metadata": {},
   "outputs": [],
   "source": [
    "num_list = [45, 55, 60, 37, 100, 105, 220]\n",
    "# use anonymous function to filter\n",
    "result = list(filter(lambda x: (x % 15 == 0), num_list))\n",
    "print(\"Numbers divisible by 15 are\",result)"
   ]
  },
  {
   "cell_type": "code",
   "execution_count": null,
   "metadata": {},
   "outputs": [],
   "source": [
    "import glob\n",
    "file_list = glob.glob('*.*')\n",
    "print(file_list)"
   ]
  },
  {
   "cell_type": "code",
   "execution_count": null,
   "metadata": {},
   "outputs": [],
   "source": [
    "x = input(':')\n",
    "\n",
    "if x.isdigit():\n",
    "    print('it is a number')\n",
    "else:\n",
    "    print('it is not a number')"
   ]
  },
  {
   "cell_type": "code",
   "execution_count": null,
   "metadata": {},
   "outputs": [],
   "source": [
    "num_list = [1,2,3,-1,-5,50,-50]\n",
    "list(filter(lambda x:x>0,num_list))"
   ]
  },
  {
   "cell_type": "code",
   "execution_count": null,
   "metadata": {},
   "outputs": [],
   "source": [
    "sum(num_list)"
   ]
  },
  {
   "cell_type": "code",
   "execution_count": null,
   "metadata": {},
   "outputs": [],
   "source": [
    "reduce( (lambda x, y: x * y), num_list)"
   ]
  },
  {
   "cell_type": "code",
   "execution_count": null,
   "metadata": {},
   "outputs": [],
   "source": [
    "nums = [10, 20, 56, 35, 17, 99]\n",
    "# Create bytearray from list of integers.\n",
    "values = bytearray(nums)\n",
    "values"
   ]
  },
  {
   "cell_type": "code",
   "execution_count": null,
   "metadata": {},
   "outputs": [],
   "source": [
    "str_num = \"1234567890\"\n",
    "print()\n",
    "print(str_num[:6])\n",
    "print()"
   ]
  },
  {
   "cell_type": "code",
   "execution_count": null,
   "metadata": {},
   "outputs": [],
   "source": [
    "n=20\n",
    "type(n)()"
   ]
  },
  {
   "cell_type": "code",
   "execution_count": null,
   "metadata": {},
   "outputs": [],
   "source": [
    "n"
   ]
  },
  {
   "cell_type": "code",
   "execution_count": null,
   "metadata": {},
   "outputs": [],
   "source": [
    "s = 'JOIJDASNDOJOJASOFNOAS'\n",
    "\n",
    "for i in s:\n",
    "    if i != i.upper():\n",
    "        print('lowercase:',i)\n",
    "        break"
   ]
  },
  {
   "cell_type": "code",
   "execution_count": null,
   "metadata": {},
   "outputs": [],
   "source": [
    "ds = pd.Series([2, 4, 6, 8, 10])\n",
    "ds"
   ]
  },
  {
   "cell_type": "code",
   "execution_count": null,
   "metadata": {},
   "outputs": [],
   "source": [
    "ds.tolist()"
   ]
  },
  {
   "cell_type": "code",
   "execution_count": null,
   "metadata": {},
   "outputs": [],
   "source": [
    "ds1 = pd.Series([1, 3, 5, 7, 9])\n",
    "ds + ds1"
   ]
  },
  {
   "cell_type": "code",
   "execution_count": null,
   "metadata": {},
   "outputs": [],
   "source": [
    "ds2 = pd.Series({'a': 100, 'b': 200, 'c': 300, 'd': 400, 'e': 800})\n",
    "ds2"
   ]
  },
  {
   "cell_type": "code",
   "execution_count": null,
   "metadata": {},
   "outputs": [],
   "source": [
    "ds.astype('float64')"
   ]
  },
  {
   "cell_type": "code",
   "execution_count": null,
   "metadata": {},
   "outputs": [],
   "source": [
    "s = pd.Series([\n",
    "    ['Red', 'Green', 'White'],\n",
    "    ['Red', 'Black'],\n",
    "    ['Yellow']])\n",
    "s"
   ]
  },
  {
   "cell_type": "code",
   "execution_count": null,
   "metadata": {},
   "outputs": [],
   "source": [
    "s.apply(pd.Series).stack().reset_index(drop=1)"
   ]
  },
  {
   "cell_type": "code",
   "execution_count": null,
   "metadata": {},
   "outputs": [],
   "source": [
    "s = pd.Series(['100', '200', 'python', '300.12', '400'])\n",
    "s"
   ]
  },
  {
   "cell_type": "code",
   "execution_count": null,
   "metadata": {},
   "outputs": [],
   "source": [
    "s.sort_values()"
   ]
  },
  {
   "cell_type": "code",
   "execution_count": null,
   "metadata": {
    "scrolled": true
   },
   "outputs": [],
   "source": [
    "s.append(pd.Series(['500', 'php']))"
   ]
  },
  {
   "cell_type": "markdown",
   "metadata": {},
   "source": [
    "--- 2019.7.26 ---"
   ]
  },
  {
   "cell_type": "code",
   "execution_count": null,
   "metadata": {},
   "outputs": [],
   "source": [
    "from PIL import Image, ImageFont, ImageDraw # 导入模块\n",
    "im = Image.open(r'C:\\Users\\Dragon\\Downloads\\image.jpg') # 打开文件\n",
    "print(im.format, im.size, im.mode)\n",
    "draw = ImageDraw.Draw(im) #修改图片\n",
    "\n",
    "draw.text((500,100), 'smile', fill = (255, 0 ,0)) #利用ImageDraw的内置函数，在图片上写入文字\n",
    "im.show()\n",
    "im.save('mysmile.jpg', jpg)"
   ]
  },
  {
   "cell_type": "code",
   "execution_count": null,
   "metadata": {},
   "outputs": [],
   "source": [
    "from PIL import Image, ImageDraw, ImageFont\n",
    "img = Image.open(r'C:\\Users\\Dragon\\Downloads\\image.jpg')"
   ]
  },
  {
   "cell_type": "code",
   "execution_count": null,
   "metadata": {},
   "outputs": [],
   "source": [
    "draw = ImageDraw.Draw(img)\n",
    "ttfront = ImageFont.truetype('simhei.ttf', 50)#字体大小\n",
    "draw.text((90, 550),\"评论“666”可显示\",fill=(0,25,25), font=ttfront)#文字位置，内容，字体"
   ]
  },
  {
   "cell_type": "code",
   "execution_count": null,
   "metadata": {},
   "outputs": [],
   "source": [
    "img.show()"
   ]
  },
  {
   "cell_type": "code",
   "execution_count": null,
   "metadata": {},
   "outputs": [],
   "source": [
    "img.save(r'C:\\Users\\Dragon\\Downloads\\01.jpg)"
   ]
  },
  {
   "cell_type": "markdown",
   "metadata": {},
   "source": [
    "--- 2019.7.22 ---"
   ]
  },
  {
   "cell_type": "code",
   "execution_count": null,
   "metadata": {},
   "outputs": [],
   "source": [
    "import sys\n",
    "print(\"\\nPython Copyright Information\")\n",
    "print(sys.copyright)\n",
    "print()"
   ]
  },
  {
   "cell_type": "code",
   "execution_count": null,
   "metadata": {},
   "outputs": [],
   "source": [
    "import sys\n",
    "import textwrap\n",
    "module_name = ', '.join(sorted(sys.builtin_module_names))\n",
    "print(textwrap.fill(module_name, width=70))"
   ]
  },
  {
   "cell_type": "code",
   "execution_count": null,
   "metadata": {},
   "outputs": [],
   "source": [
    "import sys\n",
    "print()\n",
    "print(\"Current value of the recursion limit:\")\n",
    "print(sys.getrecursionlimit())\n",
    "print()"
   ]
  },
  {
   "cell_type": "code",
   "execution_count": null,
   "metadata": {},
   "outputs": [],
   "source": [
    "list_of_colors = ['Red', 'White', 'Black']  \n",
    "colors = '-'.join(list_of_colors)\n",
    "print()\n",
    "print(\"All Colors: \"+colors)\n",
    "print()"
   ]
  },
  {
   "cell_type": "code",
   "execution_count": null,
   "metadata": {},
   "outputs": [],
   "source": [
    "x = [10,20,'30']\n",
    "\n",
    "s = 0\n",
    "for i in x:\n",
    "    s += i\n",
    "s"
   ]
  },
  {
   "cell_type": "code",
   "execution_count": null,
   "metadata": {},
   "outputs": [],
   "source": [
    "ss = sum(x)\n",
    "ss"
   ]
  },
  {
   "cell_type": "code",
   "execution_count": null,
   "metadata": {},
   "outputs": [],
   "source": [
    "x = [10,20,30]\n",
    "\n",
    "c = 5\n",
    "\n",
    "min(x) > c"
   ]
  },
  {
   "cell_type": "code",
   "execution_count": null,
   "metadata": {},
   "outputs": [],
   "source": [
    "s = 'hdaoshdoasndoasiujdoasjfpjasdf'\n",
    "\n",
    "sep = 'j'\n",
    "\n",
    "s.count(sep)"
   ]
  },
  {
   "cell_type": "code",
   "execution_count": null,
   "metadata": {},
   "outputs": [],
   "source": [
    "import os  \n",
    "path=r\"C:\\Users\\Dragon\\Downloads\"  \n",
    "if os.path.isdir(path):  \n",
    "    print(\"\\nIt is a directory\")  \n",
    "elif os.path.isfile(path):  \n",
    "    print(\"\\nIt is a normal file\")  \n",
    "else:  \n",
    "    print(\"It is a special file (socket, FIFO, device file)\" )\n",
    "print()"
   ]
  },
  {
   "cell_type": "code",
   "execution_count": null,
   "metadata": {},
   "outputs": [],
   "source": [
    "print()\n",
    "print(ord('a'))\n",
    "print(ord('A'))\n",
    "print(ord('1'))\n",
    "print(ord('@'))\n",
    "print()"
   ]
  },
  {
   "cell_type": "code",
   "execution_count": null,
   "metadata": {},
   "outputs": [],
   "source": [
    "os.path.getsize(r\"C:\\Users\\Dragon\\Downloads\\存管标还款计划 (2).xls\")"
   ]
  },
  {
   "cell_type": "code",
   "execution_count": null,
   "metadata": {},
   "outputs": [],
   "source": [
    "print()\n",
    "print((lambda str='print(lambda str=%r: (str %% str))()': (str % str))())\n",
    "print()"
   ]
  },
  {
   "cell_type": "markdown",
   "metadata": {},
   "source": [
    "--- 2019.7.19 ---"
   ]
  },
  {
   "cell_type": "code",
   "execution_count": null,
   "metadata": {},
   "outputs": [],
   "source": [
    "players=['Garsol','Hardon','Bill','Duran','James','Barter']\n",
    "scores=[22,34,12,31,26,19]\n",
    "teams=['West','West','East','West','East','East']\n",
    "\n",
    "df = pd.DataFrame({'player':players,\n",
    "                  'score':scores,\n",
    "                  'team':teams})"
   ]
  },
  {
   "cell_type": "code",
   "execution_count": null,
   "metadata": {},
   "outputs": [],
   "source": [
    "df"
   ]
  },
  {
   "cell_type": "code",
   "execution_count": null,
   "metadata": {},
   "outputs": [],
   "source": [
    "df.info()"
   ]
  },
  {
   "cell_type": "code",
   "execution_count": null,
   "metadata": {},
   "outputs": [],
   "source": [
    "df.team.astype('category')"
   ]
  },
  {
   "cell_type": "code",
   "execution_count": null,
   "metadata": {},
   "outputs": [],
   "source": [
    "d = pd.Series(scores).describe()"
   ]
  },
  {
   "cell_type": "code",
   "execution_count": null,
   "metadata": {},
   "outputs": [],
   "source": [
    "d"
   ]
  },
  {
   "cell_type": "code",
   "execution_count": null,
   "metadata": {},
   "outputs": [],
   "source": [
    "score_ranges = [d['min']-1,d['mean'],d['max']+1]\n",
    "score_ranges"
   ]
  },
  {
   "cell_type": "code",
   "execution_count": null,
   "metadata": {},
   "outputs": [],
   "source": [
    "score_labels = ['role','star']\n",
    "score_labels"
   ]
  },
  {
   "cell_type": "code",
   "execution_count": null,
   "metadata": {},
   "outputs": [],
   "source": [
    "df['level'] = pd.cut(df['score'],bins=score_ranges,labels=score_labels)"
   ]
  },
  {
   "cell_type": "code",
   "execution_count": null,
   "metadata": {},
   "outputs": [],
   "source": [
    "df"
   ]
  },
  {
   "cell_type": "code",
   "execution_count": null,
   "metadata": {},
   "outputs": [],
   "source": [
    "cg=pd.Categorical(['Role','Role','Star','Role','Killer','Star'],categories=['Role', 'Star'])\n",
    "cg"
   ]
  },
  {
   "cell_type": "code",
   "execution_count": null,
   "metadata": {},
   "outputs": [],
   "source": [
    "s = pd.Series(cg)\n",
    "s"
   ]
  },
  {
   "cell_type": "code",
   "execution_count": null,
   "metadata": {},
   "outputs": [],
   "source": [
    "df=pd.DataFrame({'players':['Garsol','Hardon','Bill','Duran','James','Barter']})\n",
    "df"
   ]
  },
  {
   "cell_type": "code",
   "execution_count": null,
   "metadata": {
    "scrolled": true
   },
   "outputs": [],
   "source": [
    "df['level']=cg\n",
    "df"
   ]
  },
  {
   "cell_type": "markdown",
   "metadata": {},
   "source": [
    "--- 2019.7.18 ---"
   ]
  },
  {
   "cell_type": "code",
   "execution_count": null,
   "metadata": {},
   "outputs": [],
   "source": [
    "# 49. Write a Python program to list all files in a directory in Python. \n",
    "\n",
    "path = r'C:\\Users\\Dragon\\Downloads'\n",
    "\n",
    "os.listdir(path)"
   ]
  },
  {
   "cell_type": "code",
   "execution_count": null,
   "metadata": {
    "scrolled": true
   },
   "outputs": [],
   "source": [
    "import os\n",
    "# Access all environment variables \n",
    "print('*----------------------------------*')\n",
    "print(os.environ)\n",
    "print('*----------------------------------*')\n",
    "# Access a particular environment variable \n",
    "print(os.environ['HOME'])\n",
    "print('*----------------------------------*')\n",
    "print(os.environ['PATH'])\n",
    "print('*----------------------------------*')"
   ]
  },
  {
   "cell_type": "code",
   "execution_count": null,
   "metadata": {},
   "outputs": [],
   "source": [
    "import getpass\n",
    "print(getpass.getuser())"
   ]
  },
  {
   "cell_type": "code",
   "execution_count": null,
   "metadata": {},
   "outputs": [],
   "source": [
    "import socket\n",
    "print([l for l in ([ip for ip in socket.gethostbyname_ex(socket.gethostname())[2] \n",
    "if not ip.startswith(\"127.\")][:1], [[(s.connect(('8.8.8.8', 53)), \n",
    "s.getsockname()[0], s.close()) for s in [socket.socket(socket.AF_INET, \n",
    "socket.SOCK_DGRAM)]][0][1]]) if l][0][0])"
   ]
  },
  {
   "cell_type": "code",
   "execution_count": null,
   "metadata": {},
   "outputs": [],
   "source": [
    "import time\n",
    "def sum_of_n_numbers(n):\n",
    "    start_time = time.time()\n",
    "    s = 0\n",
    "    for i in range(1,n+1):\n",
    "        s = s + i\n",
    "    end_time = time.time()\n",
    "    return s,end_time-start_time\n",
    "\n",
    "n = 50000000\n",
    "print(\"\\nTime to sum of 1 to \",n,\" and required time to calculate is :\",sum_of_n_numbers(n))\n"
   ]
  },
  {
   "cell_type": "code",
   "execution_count": null,
   "metadata": {},
   "outputs": [],
   "source": [
    "import math\n",
    "\n",
    "math.sqrt(3**2 + 4**2)"
   ]
  },
  {
   "cell_type": "code",
   "execution_count": null,
   "metadata": {},
   "outputs": [],
   "source": [
    "import os\n",
    "\n",
    "os.path.abspath('tempt_notebook.ipynb')"
   ]
  },
  {
   "cell_type": "code",
   "execution_count": null,
   "metadata": {},
   "outputs": [],
   "source": [
    "os.path.getctime('tempt_notebook.ipynb')"
   ]
  },
  {
   "cell_type": "code",
   "execution_count": null,
   "metadata": {},
   "outputs": [],
   "source": [
    "import os.path, time\n",
    "\n",
    "file = 'tempt_notebook.ipynb'\n",
    "print(\"Last modified: %s\" % time.ctime(os.path.getmtime(file)))\n",
    "print(\"Created: %s\" % time.ctime(os.path.getctime(file)))"
   ]
  },
  {
   "cell_type": "code",
   "execution_count": null,
   "metadata": {},
   "outputs": [],
   "source": [
    "6 % 4"
   ]
  },
  {
   "cell_type": "code",
   "execution_count": null,
   "metadata": {},
   "outputs": [],
   "source": [
    "x = 12345678987654321\n",
    "s = 0\n",
    "\n",
    "for i in str(x):\n",
    "    s += int(i)\n",
    "    \n",
    "print(s)\n"
   ]
  },
  {
   "cell_type": "code",
   "execution_count": null,
   "metadata": {},
   "outputs": [],
   "source": [
    "print(hash('wynfrith'))"
   ]
  },
  {
   "cell_type": "code",
   "execution_count": null,
   "metadata": {},
   "outputs": [],
   "source": [
    "print(hash('wynfrith'))"
   ]
  },
  {
   "cell_type": "markdown",
   "metadata": {},
   "source": [
    "--- 2019.7.16 ---"
   ]
  },
  {
   "cell_type": "code",
   "execution_count": null,
   "metadata": {},
   "outputs": [],
   "source": [
    "df = pd.read_excel(r'C:\\Users\\Dragon\\Downloads\\短信名单.xlsx')"
   ]
  },
  {
   "cell_type": "code",
   "execution_count": null,
   "metadata": {},
   "outputs": [],
   "source": [
    "df.head()"
   ]
  },
  {
   "cell_type": "code",
   "execution_count": null,
   "metadata": {},
   "outputs": [],
   "source": [
    "n = df.shape[1]"
   ]
  },
  {
   "cell_type": "code",
   "execution_count": null,
   "metadata": {},
   "outputs": [],
   "source": [
    "n"
   ]
  },
  {
   "cell_type": "code",
   "execution_count": null,
   "metadata": {},
   "outputs": [],
   "source": [
    "res = pd.DataFrame()\n",
    "for i in range(int(n/2)):\n",
    "    temp = df.iloc[:,[i*2,i*2+1]]\n",
    "    temp.columns = ['From', 'To']\n",
    "    res = res.append(temp)"
   ]
  },
  {
   "cell_type": "code",
   "execution_count": null,
   "metadata": {},
   "outputs": [],
   "source": [
    "res.info()"
   ]
  },
  {
   "cell_type": "code",
   "execution_count": null,
   "metadata": {},
   "outputs": [],
   "source": [
    "res.drop_duplicates('From',inplace=True)\n",
    "\n",
    "res.dropna(how = 'all',inplace=True)"
   ]
  },
  {
   "cell_type": "code",
   "execution_count": null,
   "metadata": {},
   "outputs": [],
   "source": [
    "m = res.shape[0]\n",
    "print('一共有 {} 人'.format(m))\n",
    "\n",
    "res.to_excel(r'C:\\Users\\Dragon\\Desktop\\名单result.xlsx',index=False)\n",
    "\n",
    "quit = input('是否退出：y/n')\n",
    "\n",
    "if quit == 'y':\n",
    "    exit()"
   ]
  },
  {
   "cell_type": "markdown",
   "metadata": {},
   "source": [
    "--- 2019.7.10 ---"
   ]
  },
  {
   "cell_type": "code",
   "execution_count": null,
   "metadata": {},
   "outputs": [],
   "source": [
    "df = pd.DataFrame({'id':[i for i in range(1,6)],\n",
    "                   'gender':np.random.choice(['f','m'],5),\n",
    "                   'age':np.random.randint(20,30,size = 5),\n",
    "                   'level':pd.date_range('2019/11/03', periods=5)\n",
    "                   })"
   ]
  },
  {
   "cell_type": "code",
   "execution_count": null,
   "metadata": {},
   "outputs": [],
   "source": [
    "df"
   ]
  },
  {
   "cell_type": "code",
   "execution_count": null,
   "metadata": {},
   "outputs": [],
   "source": [
    "pd.get_dummies(df,columns = ['gender','level'])"
   ]
  },
  {
   "cell_type": "code",
   "execution_count": null,
   "metadata": {},
   "outputs": [],
   "source": [
    "df_1 = df.sample(frac=0.6,random_state=42)\n",
    "df_2 = df.drop(df_1.index)"
   ]
  },
  {
   "cell_type": "code",
   "execution_count": null,
   "metadata": {},
   "outputs": [],
   "source": [
    "df_1"
   ]
  },
  {
   "cell_type": "code",
   "execution_count": null,
   "metadata": {},
   "outputs": [],
   "source": [
    "df_2"
   ]
  },
  {
   "cell_type": "code",
   "execution_count": null,
   "metadata": {},
   "outputs": [],
   "source": [
    "df.select_dtypes(include='number')"
   ]
  },
  {
   "cell_type": "code",
   "execution_count": null,
   "metadata": {},
   "outputs": [],
   "source": [
    "df.select_dtypes(include=['number','object'])"
   ]
  },
  {
   "cell_type": "code",
   "execution_count": null,
   "metadata": {},
   "outputs": [],
   "source": [
    "df.select_dtypes(exclude=['datetime'])"
   ]
  },
  {
   "cell_type": "code",
   "execution_count": null,
   "metadata": {},
   "outputs": [],
   "source": [
    "s1 = pd.Series([1,2,3])"
   ]
  },
  {
   "cell_type": "code",
   "execution_count": null,
   "metadata": {},
   "outputs": [],
   "source": [
    "s2 = pd.Series([3,2,1])"
   ]
  },
  {
   "cell_type": "code",
   "execution_count": null,
   "metadata": {},
   "outputs": [],
   "source": [
    "s1 == s2"
   ]
  },
  {
   "cell_type": "code",
   "execution_count": null,
   "metadata": {},
   "outputs": [],
   "source": [
    "s1.equals(s2)"
   ]
  },
  {
   "cell_type": "code",
   "execution_count": null,
   "metadata": {},
   "outputs": [],
   "source": [
    "df = pd.util.testing.makeMixedDataFrame()"
   ]
  },
  {
   "cell_type": "code",
   "execution_count": null,
   "metadata": {},
   "outputs": [],
   "source": [
    "df"
   ]
  },
  {
   "cell_type": "code",
   "execution_count": null,
   "metadata": {},
   "outputs": [],
   "source": [
    "df.info()"
   ]
  },
  {
   "cell_type": "code",
   "execution_count": null,
   "metadata": {},
   "outputs": [],
   "source": [
    "d = {'one' : pd.Series([1, 2, 3], index=['a', 'b', 'c']),\n",
    "      'two' : pd.Series([1, 2, 3, 4], index=['a', 'b', 'c', 'd'])}\n",
    "\n",
    "df = pd.DataFrame(d)"
   ]
  },
  {
   "cell_type": "code",
   "execution_count": null,
   "metadata": {},
   "outputs": [],
   "source": [
    "df"
   ]
  },
  {
   "cell_type": "markdown",
   "metadata": {},
   "source": [
    "--- 2019.6.19 ---"
   ]
  },
  {
   "cell_type": "code",
   "execution_count": null,
   "metadata": {},
   "outputs": [],
   "source": [
    "x = [1,2,3,4,5,6,4,8,95,4]\n",
    "\n",
    "x.count(4)"
   ]
  },
  {
   "cell_type": "code",
   "execution_count": null,
   "metadata": {},
   "outputs": [],
   "source": [
    "s = 'Isa i am ok'\n",
    "if s.startswith('Is'):\n",
    "    print(s)\n",
    "else:\n",
    "    print('Is ' + s)"
   ]
  },
  {
   "cell_type": "code",
   "execution_count": null,
   "metadata": {},
   "outputs": [],
   "source": [
    "import datetime as dt\n",
    "\n",
    "d1 = dt.datetime.now().strftime('%Y-%m-%d %H:%M:%S')\n",
    "\n",
    "print(d1)"
   ]
  },
  {
   "cell_type": "code",
   "execution_count": null,
   "metadata": {},
   "outputs": [],
   "source": [
    "abs.__doc__"
   ]
  },
  {
   "cell_type": "code",
   "execution_count": null,
   "metadata": {},
   "outputs": [],
   "source": [
    "s = 'Isa i am ok'\n",
    "\n",
    "print(s[::-1])"
   ]
  },
  {
   "cell_type": "code",
   "execution_count": null,
   "metadata": {},
   "outputs": [],
   "source": [
    "def lcm(x, y):\n",
    "   if x > y:\n",
    "       z = x\n",
    "   else:\n",
    "       z = y\n",
    "\n",
    "   while(True):\n",
    "       if((z % x == 0) and (z % y == 0)):\n",
    "           lcm = z\n",
    "           break\n",
    "       z += 1\n",
    "\n",
    "   return lcm\n",
    "print(lcm(4, 6))\n",
    "print(lcm(15, 17))"
   ]
  },
  {
   "cell_type": "code",
   "execution_count": null,
   "metadata": {},
   "outputs": [],
   "source": [
    "a,b,c = 1,2,2\n",
    "\n",
    "if a==b or b==c or c==a:\n",
    "    s = 0\n",
    "else:\n",
    "    s = a+b+c\n",
    "\n",
    "s"
   ]
  },
  {
   "cell_type": "code",
   "execution_count": null,
   "metadata": {},
   "outputs": [],
   "source": [
    "a,b,c = 1,2,2\n",
    "\n",
    "(c==a or c==b)"
   ]
  },
  {
   "cell_type": "code",
   "execution_count": null,
   "metadata": {},
   "outputs": [],
   "source": [
    "a,b,c = 16,2,2\n",
    "\n",
    "if a+b >=15 and a+b <=20:\n",
    "    print('20')\n",
    "else:\n",
    "    print(a+b)"
   ]
  },
  {
   "cell_type": "code",
   "execution_count": null,
   "metadata": {},
   "outputs": [],
   "source": [
    "a,b,c = 16,'2',2\n",
    "\n",
    "if type(a) == type(b) == int:\n",
    "    print(a+b)\n",
    "    "
   ]
  },
  {
   "cell_type": "code",
   "execution_count": null,
   "metadata": {},
   "outputs": [],
   "source": [
    "a,b = 16,'2'\n",
    "if not (isinstance(a, int) and isinstance(b, int)):\n",
    "         print(\"Inputs must be integers\")\n",
    "else:\n",
    "    print(a+b)"
   ]
  },
  {
   "cell_type": "code",
   "execution_count": null,
   "metadata": {},
   "outputs": [],
   "source": [
    "x = 4\n",
    "y = 3\n",
    "\n",
    "s = (x+y)^2\n",
    "s2 = pow(x+y,3)\n",
    "print(s)"
   ]
  },
  {
   "cell_type": "code",
   "execution_count": null,
   "metadata": {},
   "outputs": [],
   "source": [
    "amt = 10000\n",
    "ints = 3.5\n",
    "years = 7\n",
    "\n",
    "s = amt * pow((1+ints/100),7)\n",
    "\n",
    "print(round(s,2))"
   ]
  },
  {
   "cell_type": "code",
   "execution_count": null,
   "metadata": {},
   "outputs": [],
   "source": [
    "x1, y1 = 1,1\n",
    "x2, y2 = 2,2\n",
    "\n",
    "s = pow((x2-x1)**2 + (y2-y1)**2,0.5)\n",
    "\n",
    "print(s)"
   ]
  },
  {
   "cell_type": "code",
   "execution_count": null,
   "metadata": {},
   "outputs": [],
   "source": [
    "import os\n",
    "\n",
    "f = open('abc.txt','w')\n",
    "f.close()\n",
    "\n",
    "print(os.path.isfile('abc.txt'))"
   ]
  },
  {
   "cell_type": "code",
   "execution_count": null,
   "metadata": {},
   "outputs": [],
   "source": [
    "import struct\n",
    "print(struct.calcsize(\"P\") * 8)"
   ]
  },
  {
   "cell_type": "code",
   "execution_count": null,
   "metadata": {},
   "outputs": [],
   "source": [
    "import sys\n",
    "sys.version"
   ]
  },
  {
   "cell_type": "code",
   "execution_count": null,
   "metadata": {},
   "outputs": [],
   "source": [
    "import platform\n",
    "import os\n",
    "print(os.name)\n",
    "print(platform.system())\n",
    "print(platform.release())"
   ]
  },
  {
   "cell_type": "code",
   "execution_count": null,
   "metadata": {},
   "outputs": [],
   "source": [
    "import platform,os\n",
    "\n",
    "def main():\n",
    "    print(os.name+'\\n'+platform.system()+'\\n'+platform.release())\n",
    "main()"
   ]
  },
  {
   "cell_type": "code",
   "execution_count": null,
   "metadata": {},
   "outputs": [],
   "source": [
    "import os, sys\n",
    "print(os.path.dirname(os.path.realpath(sys.argv[0])))"
   ]
  },
  {
   "cell_type": "code",
   "execution_count": null,
   "metadata": {},
   "outputs": [],
   "source": [
    "import os\n",
    "print(os.cpu_count())"
   ]
  },
  {
   "cell_type": "code",
   "execution_count": null,
   "metadata": {},
   "outputs": [],
   "source": [
    "s = '1'\n",
    "\n",
    "int(s)"
   ]
  },
  {
   "cell_type": "code",
   "execution_count": null,
   "metadata": {},
   "outputs": [],
   "source": [
    "import os\n",
    "\n",
    "d = os.getcwd()\n",
    "for i in os.listdir(d):\n",
    "    print(i)"
   ]
  },
  {
   "cell_type": "code",
   "execution_count": null,
   "metadata": {},
   "outputs": [],
   "source": [
    "for i in range(10):\n",
    "    print(i,end='')"
   ]
  },
  {
   "cell_type": "code",
   "execution_count": null,
   "metadata": {},
   "outputs": [],
   "source": [
    "import cProfile\n",
    "def sum():\n",
    "    s = 0\n",
    "    for i in range(19999999):\n",
    "        s += i\n",
    "    print(s)\n",
    "cProfile.run('sum()')"
   ]
  },
  {
   "cell_type": "markdown",
   "metadata": {},
   "source": [
    "--- 2019.6.13 ---"
   ]
  },
  {
   "cell_type": "code",
   "execution_count": null,
   "metadata": {},
   "outputs": [],
   "source": [
    "import sys\n",
    "sys.version"
   ]
  },
  {
   "cell_type": "code",
   "execution_count": null,
   "metadata": {},
   "outputs": [],
   "source": [
    "import datetime as dt\n",
    "\n",
    "dt.datetime.now().strftime(\"%Y-%m-%d %H:%M:%S\")"
   ]
  },
  {
   "cell_type": "code",
   "execution_count": null,
   "metadata": {},
   "outputs": [],
   "source": [
    "x = 'abcdefg'\n",
    "# reversed(x)\n",
    "x[::-1]"
   ]
  },
  {
   "cell_type": "code",
   "execution_count": null,
   "metadata": {},
   "outputs": [],
   "source": [
    "abs.__doc__"
   ]
  },
  {
   "cell_type": "code",
   "execution_count": null,
   "metadata": {},
   "outputs": [],
   "source": [
    "import datetime as dt\n",
    "\n",
    "x1 = dt.date(2014, 7, 2)\n",
    "x2 = dt.date(2014, 7, 11)\n",
    "\n",
    "print((x2-x1).days)"
   ]
  },
  {
   "cell_type": "code",
   "execution_count": null,
   "metadata": {},
   "outputs": [],
   "source": [
    "x = input('number:')\n",
    "if float(x) > 17:\n",
    "    print(abs(float(x)-17) * 2)"
   ]
  },
  {
   "cell_type": "code",
   "execution_count": null,
   "metadata": {},
   "outputs": [],
   "source": [
    "float(17.0) > 17"
   ]
  },
  {
   "cell_type": "code",
   "execution_count": null,
   "metadata": {},
   "outputs": [],
   "source": [
    "a,b,c = (3,3,3)\n",
    "\n",
    "if a == b == c:\n",
    "    print(a*3*3)\n",
    "else:\n",
    "    print(a+b+c)"
   ]
  },
  {
   "cell_type": "code",
   "execution_count": null,
   "metadata": {},
   "outputs": [],
   "source": [
    "s = 'a Is i am ok'\n",
    "\n",
    "if s.startswith('Is'):\n",
    "    print(s)\n",
    "else:\n",
    "    print('Is ' + s)"
   ]
  },
  {
   "cell_type": "code",
   "execution_count": null,
   "metadata": {},
   "outputs": [],
   "source": [
    "s = \"this is string example....wow!!!\"\n",
    "\n",
    "s.startswith( 'is', 3, 4 )"
   ]
  },
  {
   "cell_type": "code",
   "execution_count": null,
   "metadata": {},
   "outputs": [],
   "source": [
    "s = \"this is string example....wow!!!\"\n",
    "n = 3\n",
    "\n",
    "print(s*3)"
   ]
  },
  {
   "cell_type": "code",
   "execution_count": null,
   "metadata": {},
   "outputs": [],
   "source": [
    "n = 9\n",
    "\n",
    "if n%2:\n",
    "    print('odd')\n",
    "else:\n",
    "    print('even')"
   ]
  },
  {
   "cell_type": "code",
   "execution_count": null,
   "metadata": {},
   "outputs": [],
   "source": [
    "x = [1,2,3,4,5,4,3,2,1]\n",
    "n = 0\n",
    "for i in x:\n",
    "    if i == 5:\n",
    "        n += 1\n",
    "print(n)"
   ]
  },
  {
   "cell_type": "code",
   "execution_count": null,
   "metadata": {},
   "outputs": [],
   "source": [
    "x.count(4)"
   ]
  },
  {
   "cell_type": "code",
   "execution_count": null,
   "metadata": {},
   "outputs": [],
   "source": [
    "s = 'aeiou'\n",
    "n = 3\n",
    "\n",
    "if len(s) > 2:\n",
    "    print(s[:2]*n)\n",
    "else:\n",
    "    print(s*n)"
   ]
  },
  {
   "cell_type": "code",
   "execution_count": null,
   "metadata": {},
   "outputs": [],
   "source": [
    "'ae' in s"
   ]
  },
  {
   "cell_type": "code",
   "execution_count": null,
   "metadata": {},
   "outputs": [],
   "source": [
    "for i in x:\n",
    "    print('@'*i)\n",
    "#     print('\\n')"
   ]
  },
  {
   "cell_type": "code",
   "execution_count": null,
   "metadata": {},
   "outputs": [],
   "source": [
    "m = ''\n",
    "\n",
    "for i in x:\n",
    "    m = m + str(i)\n",
    "    \n",
    "print(m)"
   ]
  },
  {
   "cell_type": "code",
   "execution_count": null,
   "metadata": {},
   "outputs": [],
   "source": [
    "concat(x)"
   ]
  },
  {
   "cell_type": "code",
   "execution_count": null,
   "metadata": {},
   "outputs": [],
   "source": [
    "numbers = [    \n",
    "    386, 462, 47, 418, 907, 344, 236, 375, 823, 566, 597, 978, 328, 615, 953, 345, \n",
    "    399, 162, 758, 219, 918, 237, 412, 566, 826, 248, 866, 950, 626, 949, 687, 217, \n",
    "    815, 67, 104, 58, 512, 24, 892, 894, 767, 553, 81, 379, 843, 831, 445, 742, 717, \n",
    "    958,743, 527\n",
    "    ]\n",
    "\n",
    "for i in numbers:\n",
    "    if i == 237:\n",
    "        break\n",
    "    elif i%2==0:\n",
    "        print(i)"
   ]
  },
  {
   "cell_type": "code",
   "execution_count": null,
   "metadata": {},
   "outputs": [],
   "source": [
    "color_list_1 = set([\"White\", \"Black\", \"Red\"]) \n",
    "color_list_2 = set([\"Red\", \"Green\"])\n",
    "\n",
    "color_list_1 - color_list_2"
   ]
  },
  {
   "cell_type": "code",
   "execution_count": null,
   "metadata": {},
   "outputs": [],
   "source": [
    "int(17 / 2)"
   ]
  },
  {
   "cell_type": "code",
   "execution_count": null,
   "metadata": {},
   "outputs": [],
   "source": [
    "a = 3\n",
    "b = 9\n",
    "while b:\n",
    "    a,b=b,a%b\n",
    "print(a)"
   ]
  },
  {
   "cell_type": "code",
   "execution_count": null,
   "metadata": {},
   "outputs": [],
   "source": [
    "def gcd(x, y):\n",
    "    gcd = 1\n",
    "    \n",
    "    if x % y == 0:\n",
    "        return y\n",
    "    \n",
    "    for k in range(y, 0, -1):\n",
    "        if x % k == 0 and y % k == 0:\n",
    "            gcd = k\n",
    "            break  \n",
    "    return gcd\n",
    "\n",
    "print(gcd(12, 17))\n",
    "print(gcd(14, 16))"
   ]
  },
  {
   "cell_type": "markdown",
   "metadata": {},
   "source": [
    "--- line ---"
   ]
  },
  {
   "cell_type": "code",
   "execution_count": null,
   "metadata": {},
   "outputs": [],
   "source": [
    "import datetime\n",
    "print('Current date and time : ')\n",
    "print(datetime.datetime.now())\n",
    "print(datetime.datetime.now().strftime('%Y-%m-%d %H:%M:%S'))"
   ]
  },
  {
   "cell_type": "code",
   "execution_count": null,
   "metadata": {},
   "outputs": [],
   "source": [
    "import time\n",
    "print(time.ctime())"
   ]
  },
  {
   "cell_type": "code",
   "execution_count": null,
   "metadata": {},
   "outputs": [],
   "source": [
    "import math\n",
    "r = input('r:')\n",
    "area = float(r)**2 * math.pi\n",
    "print(area)"
   ]
  },
  {
   "cell_type": "code",
   "execution_count": null,
   "metadata": {},
   "outputs": [],
   "source": [
    "fname = input('first name:')\n",
    "lname = input('last name:')\n",
    "print(lname,' ',fname)\n",
    "print(''.join(reversed(lname+' '+fname)))"
   ]
  },
  {
   "cell_type": "code",
   "execution_count": null,
   "metadata": {},
   "outputs": [],
   "source": [
    "def reverse_slicing(s):\n",
    "    return s[::-1]\n",
    "\n",
    "input_str = 'ABç∂EF'\n",
    "\n",
    "if __name__ == \"__main__\":\n",
    "    print('Reverse String using slicing =', reverse_slicing(input_str))"
   ]
  },
  {
   "cell_type": "code",
   "execution_count": null,
   "metadata": {},
   "outputs": [],
   "source": [
    "sample = input('number')\n",
    "l = list(sample.split(','))\n",
    "t = tuple(sample.split(','))\n",
    "print(l)\n",
    "print(t)"
   ]
  },
  {
   "cell_type": "code",
   "execution_count": null,
   "metadata": {},
   "outputs": [],
   "source": [
    "filename = input('filename:')\n",
    "ext = filename.split('.')[-1]\n",
    "print('Output :',ext)"
   ]
  },
  {
   "cell_type": "code",
   "execution_count": null,
   "metadata": {},
   "outputs": [],
   "source": [
    "color  = [\"Red\",\"Green\",\"White\" ,\"Black\"]\n",
    "print('1st color:',color[0])\n",
    "print('last color:',color[-1])"
   ]
  },
  {
   "cell_type": "code",
   "execution_count": null,
   "metadata": {},
   "outputs": [],
   "source": [
    "n = (input('number:'))\n",
    "print('Result :',int(n) + int(n*2) + int(n*3))"
   ]
  },
  {
   "cell_type": "code",
   "execution_count": null,
   "metadata": {},
   "outputs": [],
   "source": [
    "print(abs.__doc__)"
   ]
  },
  {
   "cell_type": "code",
   "execution_count": null,
   "metadata": {},
   "outputs": [],
   "source": [
    "import calendar\n",
    "y = int(input(\"Input the year : \"))\n",
    "m = int(input(\"Input the month : \"))\n",
    "print(calendar.month(y, m))"
   ]
  },
  {
   "cell_type": "code",
   "execution_count": null,
   "metadata": {},
   "outputs": [],
   "source": [
    "print('''\n",
    "a string that you \"don\\'t\" have to escape\n",
    "This\n",
    "is a ....... multi-line\n",
    "heredoc string --------> example\n",
    "''')"
   ]
  },
  {
   "cell_type": "code",
   "execution_count": null,
   "metadata": {},
   "outputs": [],
   "source": [
    "import datetime as dt\n",
    "d1 = dt.date(2014, 7, 2)\n",
    "d2 = dt.date(2014, 7, 11)\n",
    "d = d2-d1\n",
    "print('gap:',d.days)"
   ]
  },
  {
   "cell_type": "code",
   "execution_count": null,
   "metadata": {},
   "outputs": [],
   "source": [
    "import math\n",
    "r = 6\n",
    "print('sphere:', 4/3 * math.pi * (r**3))"
   ]
  },
  {
   "cell_type": "markdown",
   "metadata": {},
   "source": [
    "--- line ---"
   ]
  },
  {
   "cell_type": "code",
   "execution_count": null,
   "metadata": {},
   "outputs": [],
   "source": [
    "import baostock as bs"
   ]
  },
  {
   "cell_type": "code",
   "execution_count": null,
   "metadata": {},
   "outputs": [],
   "source": [
    "#### 登陆系统 ####\n",
    "lg = bs.login()\n",
    "# 显示登陆返回信息\n",
    "print('login respond error_code:'+lg.error_code)\n",
    "print('login respond  error_msg:'+lg.error_msg)"
   ]
  },
  {
   "cell_type": "code",
   "execution_count": null,
   "metadata": {},
   "outputs": [],
   "source": [
    "#### 获取历史K线数据 ####\n",
    "# 详细指标参数，参见“历史行情指标参数”章节\n",
    "rs = bs.query_history_k_data_plus(\"sh.000001\",\n",
    "    \"date,code,open,high,low,close,preclose,volume,amount,adjustflag,turn,tradestatus,pctChg,peTTM,pbMRQ,psTTM,pcfNcfTTM,isST\",\n",
    "    start_date='2006-06-01', \n",
    "    frequency=\"d\", adjustflag=\"3\") #frequency=\"d\"取日k线，adjustflag=\"3\"默认不复权\n",
    "print('query_history_k_data_plus respond error_code:'+rs.error_code)\n",
    "print('query_history_k_data_plus respond  error_msg:'+rs.error_msg)"
   ]
  },
  {
   "cell_type": "code",
   "execution_count": null,
   "metadata": {
    "scrolled": true
   },
   "outputs": [],
   "source": [
    "#### 打印结果集 ####\n",
    "data_list = []\n",
    "while (rs.error_code == '0') & rs.next():\n",
    "    # 获取一条记录，将记录合并在一起\n",
    "    data_list.append(rs.get_row_data())\n",
    "result = pd.DataFrame(data_list, columns=rs.fields)\n",
    "#### 结果集输出到csv文件 ####\n",
    "result.to_csv(\"D:/history_k_data.csv\", encoding=\"gbk\", index=False)\n",
    "print('result')"
   ]
  },
  {
   "cell_type": "code",
   "execution_count": null,
   "metadata": {},
   "outputs": [],
   "source": [
    "result.head()"
   ]
  },
  {
   "cell_type": "markdown",
   "metadata": {},
   "source": [
    "--- line ---"
   ]
  },
  {
   "cell_type": "code",
   "execution_count": null,
   "metadata": {},
   "outputs": [],
   "source": [
    "import tushare as ts"
   ]
  },
  {
   "cell_type": "code",
   "execution_count": null,
   "metadata": {},
   "outputs": [],
   "source": [
    "pro = ts.pro_api()"
   ]
  },
  {
   "cell_type": "code",
   "execution_count": null,
   "metadata": {},
   "outputs": [],
   "source": [
    "pro = ts.pro_api('38a19bf305ac51e9a8e2f44bde3879cdb80723985cb204869d04c401')"
   ]
  },
  {
   "cell_type": "code",
   "execution_count": null,
   "metadata": {},
   "outputs": [],
   "source": [
    "df = pro.daily(ts_code='601766.SH', start_date='20060101', end_date='20190512')"
   ]
  },
  {
   "cell_type": "code",
   "execution_count": null,
   "metadata": {},
   "outputs": [],
   "source": [
    "df.head()"
   ]
  },
  {
   "cell_type": "code",
   "execution_count": null,
   "metadata": {},
   "outputs": [],
   "source": [
    "df.to_excel('601766SH.xlsx')"
   ]
  },
  {
   "cell_type": "code",
   "execution_count": null,
   "metadata": {
    "scrolled": true
   },
   "outputs": [],
   "source": [
    "ts.get_h_data('000001', index=True)"
   ]
  },
  {
   "cell_type": "code",
   "execution_count": null,
   "metadata": {},
   "outputs": [],
   "source": [
    "df = ts.get_h_data('000001', index=True)"
   ]
  },
  {
   "cell_type": "code",
   "execution_count": null,
   "metadata": {},
   "outputs": [],
   "source": [
    "df.to_excel('000001.xlsx')"
   ]
  },
  {
   "cell_type": "markdown",
   "metadata": {},
   "source": [
    "--- line ---"
   ]
  },
  {
   "cell_type": "code",
   "execution_count": null,
   "metadata": {},
   "outputs": [],
   "source": [
    "df = pd.DataFrame(np.arange(15).reshape(5,3),columns=['col1','col2','col3'])"
   ]
  },
  {
   "cell_type": "code",
   "execution_count": null,
   "metadata": {},
   "outputs": [],
   "source": [
    "df"
   ]
  },
  {
   "cell_type": "code",
   "execution_count": null,
   "metadata": {},
   "outputs": [],
   "source": [
    "for row,row_value in df.iterrows():\n",
    "   print (row,':',type(row_value))"
   ]
  },
  {
   "cell_type": "code",
   "execution_count": null,
   "metadata": {},
   "outputs": [],
   "source": [
    "d = {'one' : pd.Series([1, 2, 3], index=['a', 'b', 'c']),\n",
    "      'two' : pd.Series([1, 2, 3, 4], index=['a', 'b', 'c', 'd'])}\n",
    "\n",
    "df = pd.DataFrame(d)"
   ]
  },
  {
   "cell_type": "code",
   "execution_count": null,
   "metadata": {},
   "outputs": [],
   "source": [
    "df"
   ]
  },
  {
   "cell_type": "code",
   "execution_count": null,
   "metadata": {},
   "outputs": [],
   "source": [
    "df.select_dtypes(include=[np.number])"
   ]
  },
  {
   "cell_type": "code",
   "execution_count": null,
   "metadata": {},
   "outputs": [],
   "source": [
    "df.select_dtypes(exclude=['int64'])"
   ]
  },
  {
   "cell_type": "code",
   "execution_count": null,
   "metadata": {},
   "outputs": [],
   "source": [
    "df.dtypes"
   ]
  },
  {
   "cell_type": "code",
   "execution_count": null,
   "metadata": {},
   "outputs": [],
   "source": [
    "pd.crosstab(a,b)"
   ]
  },
  {
   "cell_type": "code",
   "execution_count": null,
   "metadata": {},
   "outputs": [],
   "source": [
    "a = np.array([\"foo\", \"foo\", \"foo\", \"foo\", \"bar\", \"bar\",\"bar\", \"bar\", \"foo\", \"foo\", \"foo\"], dtype=object)\n",
    "b = np.array([\"one\", \"one\", \"one\", \"two\", \"one\", \"one\",\"one\", \"two\", \"two\", \"two\", \"one\"], dtype=object)\n",
    "c = np.array([\"dull\", \"dull\", \"shiny\", \"dull\", \"dull\", \"shiny\",\"shiny\", \"dull\", \"shiny\", \"shiny\", \"shiny\"],dtype=object)"
   ]
  },
  {
   "cell_type": "code",
   "execution_count": null,
   "metadata": {},
   "outputs": [],
   "source": [
    "a"
   ]
  },
  {
   "cell_type": "code",
   "execution_count": null,
   "metadata": {},
   "outputs": [],
   "source": [
    "b"
   ]
  },
  {
   "cell_type": "code",
   "execution_count": null,
   "metadata": {},
   "outputs": [],
   "source": [
    "data = {'Name':['Tom','James','Ricky'],\n",
    "        'Age':[25,26,25],\n",
    "        'Rating':[4.23,3.24,3.98]\n",
    "        }\n",
    "\n",
    "df = pd.DataFrame(data)"
   ]
  },
  {
   "cell_type": "code",
   "execution_count": null,
   "metadata": {},
   "outputs": [],
   "source": [
    "pd.crosstab(df.Age,df.Rating)"
   ]
  },
  {
   "cell_type": "code",
   "execution_count": null,
   "metadata": {},
   "outputs": [],
   "source": [
    "df = pd.DataFrame({'a':np.random.randn(1000)+1,\n",
    "                   'b':np.random.randn(1000),\n",
    "                   'c':np.random.randn(1000) - 1},\n",
    "                   columns=['a', 'b', 'c'])\n",
    "\n",
    "# 直方图，按列分图\n",
    "df.plot.hist(bins=50)      # 列合并在一张图，参数bins表示宽度"
   ]
  },
  {
   "cell_type": "code",
   "execution_count": null,
   "metadata": {},
   "outputs": [],
   "source": [
    "df.hist(bins=20)      # 几列就几张图"
   ]
  },
  {
   "cell_type": "markdown",
   "metadata": {},
   "source": [
    "--- line ---"
   ]
  },
  {
   "cell_type": "code",
   "execution_count": null,
   "metadata": {},
   "outputs": [],
   "source": [
    "#首先定义一个字典，用来存放二维表格中的数据，并映射列名和对应列的值\n",
    "salesDict = {\n",
    "     '购药时间':[\"2018-01-01 星期五\",\"2018-01-02 星期六\",\"2018-01-03 星期日\"],\n",
    "     '社保卡号':['001616528','001616528','0012602828'],\n",
    "     '商品编码':[236701,236701,236701],\n",
    "     '商品名称':['强力VC银翘片','清热解毒口服液','感康'],\n",
    "     '销售数量':[6,1,2],\n",
    "     '应收金额':[82.8,28,16.8],\n",
    "     '实收金额':[69,24.64,15]\n",
    "     }"
   ]
  },
  {
   "cell_type": "code",
   "execution_count": null,
   "metadata": {},
   "outputs": [],
   "source": [
    "#接着使用DataFrame方法来定义数据框，将字典作为参数传入其中\n",
    "salesDf = pd.DataFrame(salesDict)"
   ]
  },
  {
   "cell_type": "code",
   "execution_count": null,
   "metadata": {},
   "outputs": [],
   "source": [
    "salesDf"
   ]
  },
  {
   "cell_type": "code",
   "execution_count": null,
   "metadata": {},
   "outputs": [],
   "source": [
    "from collections import OrderedDict"
   ]
  },
  {
   "cell_type": "code",
   "execution_count": null,
   "metadata": {},
   "outputs": [],
   "source": [
    "#首先定义一个字典，用来存放二维表格中的数据，并映射列名和对应列的值\n",
    "salesOrderDict = OrderedDict([\\\n",
    "     ('购药时间',[\"2018-01-01 星期五\",\"2018-01-02 星期六\",\"2018-01-03 星期日\"]),\\\n",
    "     ('社保卡号',['001616528','001616528','0012602828']),\\\n",
    "     ('商品编码',[236701,236701,236701]),\\\n",
    "     ('商品名称',['强力VC银翘片','清热解毒口服液','感康']),\\\n",
    "     ('销售数量',[6,1,2]),\\\n",
    "     ('应收金额',[82.8,28,16.8]),\\\n",
    "     ('实收金额',[69,24.64,15])\\\n",
    "     ])"
   ]
  },
  {
   "cell_type": "code",
   "execution_count": null,
   "metadata": {},
   "outputs": [],
   "source": [
    "#接着使用DataFrame方法来定义数据框，将字典作为参数传入其中\n",
    "salesDf = pd.DataFrame(salesOrderDict)"
   ]
  },
  {
   "cell_type": "code",
   "execution_count": null,
   "metadata": {},
   "outputs": [],
   "source": [
    "salesDf"
   ]
  },
  {
   "cell_type": "code",
   "execution_count": null,
   "metadata": {},
   "outputs": [],
   "source": [
    "salesDf.mean() #按每列来求平均值"
   ]
  },
  {
   "cell_type": "code",
   "execution_count": null,
   "metadata": {},
   "outputs": [],
   "source": [
    "salesDf.iloc[1,3] #根据行号列号查询"
   ]
  },
  {
   "cell_type": "code",
   "execution_count": null,
   "metadata": {},
   "outputs": [],
   "source": [
    "salesDf.iloc[1,:] #获取第2行全部数据"
   ]
  },
  {
   "cell_type": "code",
   "execution_count": null,
   "metadata": {},
   "outputs": [],
   "source": [
    "salesDf.iloc[:3,1] #第2列的第1至3行"
   ]
  },
  {
   "cell_type": "code",
   "execution_count": null,
   "metadata": {},
   "outputs": [],
   "source": [
    "salesDf.loc[0,'实收金额']"
   ]
  },
  {
   "cell_type": "code",
   "execution_count": null,
   "metadata": {},
   "outputs": [],
   "source": [
    "salesDf.loc[0,:] #获取第一行数据"
   ]
  },
  {
   "cell_type": "code",
   "execution_count": null,
   "metadata": {},
   "outputs": [],
   "source": [
    "salesDf.loc[0:3,'销售数量']"
   ]
  },
  {
   "cell_type": "code",
   "execution_count": null,
   "metadata": {},
   "outputs": [],
   "source": [
    "salesDf.loc[:,'商品名称':'销售数量']"
   ]
  },
  {
   "cell_type": "code",
   "execution_count": null,
   "metadata": {},
   "outputs": [],
   "source": [
    "querySer = salesDf.loc[:,'销售数量']>1"
   ]
  },
  {
   "cell_type": "code",
   "execution_count": null,
   "metadata": {},
   "outputs": [],
   "source": [
    "querySer"
   ]
  },
  {
   "cell_type": "code",
   "execution_count": null,
   "metadata": {},
   "outputs": [],
   "source": [
    "salesDf = pd.read_excel('..\\data\\朝阳医院2016年销售数据.xlsx')"
   ]
  },
  {
   "cell_type": "code",
   "execution_count": null,
   "metadata": {},
   "outputs": [],
   "source": [
    "salesDf.head(5)"
   ]
  },
  {
   "cell_type": "code",
   "execution_count": null,
   "metadata": {},
   "outputs": [],
   "source": [
    "salesDf.loc[:,'实收金额'].dtype"
   ]
  },
  {
   "cell_type": "code",
   "execution_count": null,
   "metadata": {},
   "outputs": [],
   "source": [
    "salesDf.shape"
   ]
  },
  {
   "cell_type": "code",
   "execution_count": null,
   "metadata": {},
   "outputs": [],
   "source": [
    "salesDf.describe()"
   ]
  },
  {
   "cell_type": "code",
   "execution_count": null,
   "metadata": {},
   "outputs": [],
   "source": [
    "subSalesDf = salesDf.loc[0:3,'购药时间':'商品名称']"
   ]
  },
  {
   "cell_type": "code",
   "execution_count": null,
   "metadata": {},
   "outputs": [],
   "source": [
    "subSalesDf"
   ]
  },
  {
   "cell_type": "code",
   "execution_count": null,
   "metadata": {},
   "outputs": [],
   "source": [
    "colNameDict = {'购药时间':'销售时间'} #先建立旧列名与新列名对应的字典关系\n",
    "salesDf.rename(columns = colNameDict,inplace = True) #再重命名\n",
    "salesDf.head(5)"
   ]
  },
  {
   "cell_type": "code",
   "execution_count": null,
   "metadata": {},
   "outputs": [],
   "source": [
    "salesDf = salesDf.dropna(subset = ['销售时间','社保卡号'], how = 'any')\n",
    "print('删除后的行数列数',salesDf.shape)"
   ]
  },
  {
   "cell_type": "markdown",
   "metadata": {},
   "source": [
    "--- line ---"
   ]
  },
  {
   "cell_type": "code",
   "execution_count": null,
   "metadata": {},
   "outputs": [],
   "source": [
    "print('\\n派券系统启动!\\n')\n",
    "os.chdir(r'C:\\百度云同步盘\\小鸡理财\\每日数据\\派券')\n",
    "\n",
    "start = time.time()"
   ]
  },
  {
   "cell_type": "code",
   "execution_count": null,
   "metadata": {},
   "outputs": [],
   "source": [
    "# 导入待派券名单\n",
    "with pd.ExcelFile(r'C:\\百度云同步盘\\小鸡理财\\每日数据\\派券\\5月派券.xlsx') as xlsx:\n",
    "    df_cg = pd.read_excel(xlsx,'存管回款')\n",
    "    df_quan = pd.read_excel(xlsx,'券')\n",
    "    df_quaned = pd.read_excel(xlsx,'已派券')\n",
    "    df_quan_used = pd.read_excel(xlsx,'券使用')"
   ]
  },
  {
   "cell_type": "code",
   "execution_count": null,
   "metadata": {},
   "outputs": [],
   "source": [
    "df_cg.head()"
   ]
  },
  {
   "cell_type": "code",
   "execution_count": null,
   "metadata": {},
   "outputs": [],
   "source": [
    "# 合并回款表\n",
    "df_hk = df_cg.copy()"
   ]
  },
  {
   "cell_type": "code",
   "execution_count": null,
   "metadata": {},
   "outputs": [],
   "source": [
    "# 整理回款表\n",
    "df_hk['发放时间'] = pd.to_datetime(df_hk['预计本次发放时间'])\n",
    "del df_hk['预计本次发放时间']"
   ]
  },
  {
   "cell_type": "code",
   "execution_count": null,
   "metadata": {},
   "outputs": [],
   "source": [
    "dtnow = pd.to_datetime('today')\n",
    "day_of_week = dtnow.day_name()\n",
    "dt_hour = pd.datetime.now().hour\n",
    "print('Today is ',day_of_week)"
   ]
  },
  {
   "cell_type": "code",
   "execution_count": null,
   "metadata": {},
   "outputs": [],
   "source": [
    "if day_of_week == 'Tuesday':\n",
    "\tprint('---happy 周末 !---\\n')\n",
    "\n",
    "\ttimediff = pd.Timedelta(1,unit='d')\n",
    "\tdt_ff_1 = dtnow + timediff\n",
    "\tdt_ff_1 = dt_ff_1.strftime('%Y.%m.%d')\n",
    "    \n",
    "    # 周末天数，默认 2 天\n",
    "\tweekend_num = 4\n",
    "\ttimediff = pd.Timedelta(weekend_num,unit='d')\n",
    "\tdt_ff_2 = dtnow + timediff\n",
    "\tdt_ff_2 = dt_ff_2.strftime('%Y.%m.%d')\n",
    "\n",
    "\tdf_hk_today = df_hk[(df_hk['发放时间'] >= dt_ff_1) & (df_hk['发放时间'] <= dt_ff_2)]\n",
    "\n",
    "\tdt_ff = str(dt_ff_1) + '-' + str(dt_ff_2)\n",
    "elif day_of_week == 'Sunday' and dt_hour < 12:\n",
    "\tprint('---上班干活!---\\n')\n",
    "\ttimediff = pd.Timedelta(0,unit='d')\n",
    "\tdt_ff = dtnow + timediff\n",
    "\tdt_ff = dt_ff.strftime('%Y.%m.%d')\n",
    "\n",
    "\tdf_hk_today = df_hk[(df_hk['发放时间'] == dt_ff)]\n",
    "else:\n",
    "\tprint('---平时 is choosed!---\\n')\n",
    "\ttimediff = pd.Timedelta(1,unit='d')\n",
    "\tdt_ff = dtnow + timediff\n",
    "\tdt_ff = dt_ff.strftime('%Y.%m.%d')\n",
    "\tdf_hk_today = df_hk[(df_hk['发放时间'] == dt_ff)]"
   ]
  },
  {
   "cell_type": "code",
   "execution_count": null,
   "metadata": {},
   "outputs": [],
   "source": [
    "# 归类\n",
    "class_pai = dict({360:'派券2',\n",
    "                  180:'派券2',\n",
    "                  90:'派券1',\n",
    "                  30:'派券1'})\n",
    "df_hk_today = df_hk_today.copy()\n",
    "df_hk_today['分类'] = df_hk_today.loc[:,'投资期限'].map(class_pai)"
   ]
  },
  {
   "cell_type": "code",
   "execution_count": null,
   "metadata": {},
   "outputs": [],
   "source": [
    "df_hk_today.head()"
   ]
  },
  {
   "cell_type": "code",
   "execution_count": null,
   "metadata": {},
   "outputs": [],
   "source": [
    "# 记录回款人数和金额\n",
    "hk_pp = df_hk_today['会员名'].nunique()\n",
    "hk_money = round(df_hk_today['本次发放金额'].sum() / 10000)"
   ]
  },
  {
   "cell_type": "code",
   "execution_count": null,
   "metadata": {},
   "outputs": [],
   "source": [
    "# 合并计算，排除当日回款金额小于 0 元\n",
    "# 排除总金额 < 0\n",
    "gp_hk = df_hk_today.groupby('会员名',as_index=False)['本次发放金额'].sum()\n",
    "l500 = gp_hk[gp_hk['本次发放金额'] >= 0]['会员名']\n",
    "# l500\n",
    "df_hk_today_res_1 = df_hk_today[df_hk_today['会员名'].isin(l500)]\n",
    "# 记录回款金额小于500元的人数\n",
    "pp_500 = gp_hk[gp_hk['本次发放金额'] < 0]['会员名']\n",
    "pp_500_num = len(pp_500)"
   ]
  },
  {
   "cell_type": "code",
   "execution_count": null,
   "metadata": {},
   "outputs": [],
   "source": [
    "# 排除有 3 张券以上的人\n",
    "df_quan['mark'] = 1\n",
    "df_quan_1 = df_quan[~(df_quan['大类'] == '现金券')]\t# 排除现金券\n",
    "gp_quan = df_quan_1.groupby('会员名',as_index=False)['mark'].sum()\n",
    "q3 = gp_quan[gp_quan['mark'] >= 3]['会员名']\n",
    "df_hk_today_res_2 = df_hk_today_res_1[~(df_hk_today_res_1['会员名'].isin(q3))]\n",
    "# 记录拥有 3 张券以上的人数\n",
    "df_q3 = df_hk_today[df_hk_today['会员名'].isin(q3)]\n",
    "df_q3_num = df_q3['会员名'].nunique()"
   ]
  },
  {
   "cell_type": "code",
   "execution_count": null,
   "metadata": {},
   "outputs": [],
   "source": [
    "# 排除已经派了 4 次的人\n",
    "df_quaned_select = df_quaned.loc[df_quaned['券别名'].isin(['小鸡春季福利（5）','小鸡春季福利（7）']),:]\n",
    "gp_quaned = df_quaned_select.groupby('会员名',as_index=False)['ID'].count()\n",
    "p4 = gp_quaned[gp_quaned['ID'] >= 4]\n",
    "df_hk_today_res_3 = df_hk_today_res_2[~(df_hk_today_res_2['会员名'].isin(p4['会员名']))]\n",
    "# 记录已经发放 4 次券包的人数\n",
    "df_p4 = df_hk_today[df_hk_today['会员名'].isin(p4['会员名'])]\n",
    "df_p4_num = df_p4['会员名'].nunique()"
   ]
  },
  {
   "cell_type": "code",
   "execution_count": null,
   "metadata": {},
   "outputs": [],
   "source": [
    "# 确定要派哪类券\n",
    "gp_class = df_hk_today_res_3.groupby(['会员名','真实姓名','分类'])['本次发放金额'].sum().unstack()\n",
    "gp_class.fillna(0,inplace=True)"
   ]
  },
  {
   "cell_type": "code",
   "execution_count": null,
   "metadata": {},
   "outputs": [],
   "source": [
    "gp_class.head()"
   ]
  },
  {
   "cell_type": "code",
   "execution_count": null,
   "metadata": {},
   "outputs": [],
   "source": [
    "if len(gp_class.columns) == 1:\n",
    "\tgp_class['派券分类'] = gp_class.columns[0]\n",
    "else:\n",
    "\tgp_class['派券分类'] = np.where(gp_class['派券2'] == 0,'派券1','派券2')\n",
    "\n",
    "print('名单整理完成! 开始导出EXCEL...')\n",
    "\n",
    "# 查找用户名等信息\n",
    "res_temp = gp_class.copy()\n",
    "res_temp = res_temp.reset_index()\n",
    "res = res_temp.loc[:,['会员名','真实姓名','派券分类']]\n",
    "# 记录本次派券人数\n",
    "p_num_13 = res.loc[res['派券分类']=='派券1','会员名'].nunique()\n",
    "p_num_612 = res.loc[res['派券分类']=='派券2','会员名'].nunique()\n",
    "p_num = res['会员名'].nunique()\n",
    "\n",
    "# 导出到表格\n",
    "name = str(dt_ff) + '派券名单' + '.xlsx'\n",
    "res.to_excel(name)\n",
    "\n",
    "print('名单导出完成!')\n",
    "\n",
    "write_time = time.time()\n",
    "\n",
    "print('本次派券运行: {:.2f} s\\n'.format(write_time-start))\n",
    "\n",
    "\n",
    "print('''\n",
    "TO 财务部：\n",
    "\n",
    "附件是 {} 派券名单!\n",
    "\t'''.format(dt_ff))\n",
    "print('{} 回款信息:共发放 {:.0f} 人，合计发放金额 {:.0f} 万元。'.format(dt_ff,hk_pp,hk_money))\n",
    "\n",
    "# print('其中发放金额小于500元 {} 人，当日拥有3张券及以上的 {} 人，当月已发放3次券包的 {} 人。\\n\\n{} 需派 券包1: {} 人，券包2: {} 人，合计 {} 人！'.format(\n",
    "#         pp_500_num,df_q3_num,df_p4_num,dt_ff,p_num_13,p_num_612,p_num))\n",
    "\n",
    "print('其中当日拥有3张券及以上的 {} 人，当月已发放4次券包的 {} 人。\\n\\n{} 需派 券包1: {} 人，券包2: {} 人，合计 {} 人！'.format(\n",
    "        df_q3_num,df_p4_num,dt_ff,p_num_13,p_num_612,p_num))"
   ]
  },
  {
   "cell_type": "markdown",
   "metadata": {},
   "source": [
    "--- line ---"
   ]
  },
  {
   "cell_type": "code",
   "execution_count": null,
   "metadata": {},
   "outputs": [],
   "source": [
    "pd.DataFrame(np.arange(20).reshape(4,5),index=list('cabd'))"
   ]
  },
  {
   "cell_type": "code",
   "execution_count": null,
   "metadata": {},
   "outputs": [],
   "source": [
    "data = {'Name':['Tom','James','Ricky','Vin','Steve','Minsu','Jack'],\n",
    "        'Age':[25,26,25,23,30,29,23],\n",
    "        'Rating':[4.23,3.24,3.98,2.56,3.20,4.6,3.8]\n",
    "        }\n",
    "\n",
    "df = pd.DataFrame(data)"
   ]
  },
  {
   "cell_type": "code",
   "execution_count": null,
   "metadata": {},
   "outputs": [],
   "source": [
    "df.columns.delete(2)"
   ]
  },
  {
   "cell_type": "code",
   "execution_count": null,
   "metadata": {},
   "outputs": [],
   "source": [
    "df.columns.insert(2,'insert_column')"
   ]
  },
  {
   "cell_type": "code",
   "execution_count": null,
   "metadata": {},
   "outputs": [],
   "source": [
    "df = pd.DataFrame([[1, 2], [3, 4]], columns = ['a','b'])"
   ]
  },
  {
   "cell_type": "code",
   "execution_count": null,
   "metadata": {},
   "outputs": [],
   "source": [
    "df"
   ]
  },
  {
   "cell_type": "code",
   "execution_count": null,
   "metadata": {},
   "outputs": [],
   "source": [
    "df.insert(1,'insert',value=9)"
   ]
  },
  {
   "cell_type": "code",
   "execution_count": null,
   "metadata": {},
   "outputs": [],
   "source": [
    "df"
   ]
  },
  {
   "cell_type": "code",
   "execution_count": null,
   "metadata": {},
   "outputs": [],
   "source": [
    "df.columns.insert(1,'insert')"
   ]
  },
  {
   "cell_type": "code",
   "execution_count": null,
   "metadata": {},
   "outputs": [],
   "source": [
    "df"
   ]
  },
  {
   "cell_type": "code",
   "execution_count": null,
   "metadata": {},
   "outputs": [],
   "source": [
    "d = {'one' : pd.Series([1, 2, 3], index=['a', 'b', 'c']),\n",
    "     'two' : pd.Series([1, 2, 3, 4], index=['a', 'b', 'c', 'd']),\n",
    "     'three' : pd.Series([10,20,30], index=['a','b','c'])}"
   ]
  },
  {
   "cell_type": "code",
   "execution_count": null,
   "metadata": {},
   "outputs": [],
   "source": [
    "df = pd.DataFrame(d)"
   ]
  },
  {
   "cell_type": "code",
   "execution_count": null,
   "metadata": {},
   "outputs": [],
   "source": [
    "df"
   ]
  },
  {
   "cell_type": "code",
   "execution_count": null,
   "metadata": {},
   "outputs": [],
   "source": [
    "df.drop('one',axis=1)"
   ]
  },
  {
   "cell_type": "code",
   "execution_count": null,
   "metadata": {},
   "outputs": [],
   "source": [
    "df"
   ]
  },
  {
   "cell_type": "code",
   "execution_count": null,
   "metadata": {},
   "outputs": [],
   "source": [
    "df.columns.delete(2)"
   ]
  },
  {
   "cell_type": "code",
   "execution_count": null,
   "metadata": {},
   "outputs": [],
   "source": [
    "df.index.delete(2)"
   ]
  },
  {
   "cell_type": "code",
   "execution_count": null,
   "metadata": {},
   "outputs": [],
   "source": [
    "df = pd.DataFrame({'c2':np.random.randn(10),\n",
    "                  'c3':np.random.randn(10)})"
   ]
  },
  {
   "cell_type": "code",
   "execution_count": null,
   "metadata": {},
   "outputs": [],
   "source": [
    "df"
   ]
  },
  {
   "cell_type": "code",
   "execution_count": null,
   "metadata": {},
   "outputs": [],
   "source": [
    "def func(x):\n",
    "    print('1-')\n",
    "    print(type(x))\n",
    "    print('-1')\n",
    "    level = x.apply(lambda x:'1' if x >=0 else '0')\n",
    "    print('2-')\n",
    "    print(level)\n",
    "    print('-2')    \n",
    "    label = level.c3\n",
    "    d = {'0':'no','1':'yes'}\n",
    "    result = d[label]\n",
    "    return result"
   ]
  },
  {
   "cell_type": "code",
   "execution_count": null,
   "metadata": {
    "scrolled": true
   },
   "outputs": [],
   "source": [
    "df.label = df.apply(func,axis=1)"
   ]
  },
  {
   "cell_type": "code",
   "execution_count": null,
   "metadata": {},
   "outputs": [],
   "source": [
    "df.label"
   ]
  },
  {
   "cell_type": "code",
   "execution_count": null,
   "metadata": {},
   "outputs": [],
   "source": []
  },
  {
   "cell_type": "code",
   "execution_count": null,
   "metadata": {},
   "outputs": [],
   "source": [
    "list('abcdefg')"
   ]
  },
  {
   "cell_type": "code",
   "execution_count": null,
   "metadata": {},
   "outputs": [],
   "source": [
    "np.random.rand(10)"
   ]
  },
  {
   "cell_type": "code",
   "execution_count": null,
   "metadata": {},
   "outputs": [],
   "source": [
    "df = pd.DataFrame({'c1':list('abcabcabca'),\n",
    "                  'c2':list('klmnopqrst'),\n",
    "                  'c3':np.random.rand(10)})"
   ]
  },
  {
   "cell_type": "code",
   "execution_count": null,
   "metadata": {},
   "outputs": [],
   "source": [
    "df"
   ]
  },
  {
   "cell_type": "code",
   "execution_count": null,
   "metadata": {},
   "outputs": [],
   "source": [
    "def func(x,n=3,asc=False):\n",
    "    r = x.sort_values('c3',ascending=asc)\n",
    "    return r[:n]"
   ]
  },
  {
   "cell_type": "code",
   "execution_count": null,
   "metadata": {},
   "outputs": [],
   "source": [
    "df.groupby('c1').apply(func,n=2,asc=True)"
   ]
  },
  {
   "cell_type": "code",
   "execution_count": null,
   "metadata": {},
   "outputs": [],
   "source": [
    "x = df.query('c3 < 0.3')"
   ]
  },
  {
   "cell_type": "code",
   "execution_count": null,
   "metadata": {},
   "outputs": [],
   "source": [
    "type(x)"
   ]
  },
  {
   "cell_type": "code",
   "execution_count": null,
   "metadata": {},
   "outputs": [],
   "source": [
    "df[df.c3 < 0.3]"
   ]
  },
  {
   "cell_type": "code",
   "execution_count": null,
   "metadata": {},
   "outputs": [],
   "source": [
    "df = pd.DataFrame({'data1' : ['a'] * 4 + ['b'] * 4,\n",
    "                   'data2' : np.random.randint(0, 4, 8)})"
   ]
  },
  {
   "cell_type": "code",
   "execution_count": null,
   "metadata": {},
   "outputs": [],
   "source": [
    "df"
   ]
  },
  {
   "cell_type": "code",
   "execution_count": null,
   "metadata": {},
   "outputs": [],
   "source": [
    "df[~df.duplicated()]"
   ]
  },
  {
   "cell_type": "code",
   "execution_count": null,
   "metadata": {},
   "outputs": [],
   "source": [
    "left = pd.DataFrame({\n",
    "         'id':[1,2,3,4,5],\n",
    "         'Name': ['Alex', 'Amy', 'Allen', 'Alice', 'Ayoung'],\n",
    "         'subject_id':['sub1','sub2','sub4','sub6','sub5']})\n",
    "right = pd.DataFrame(\n",
    "         {'id':[1,2,3,4,5],\n",
    "         'Name': ['Billy', 'Brian', 'Bran', 'Bryce', 'Betty'],\n",
    "         'subject_id':['sub2','sub4','sub3','sub6','sub5']})"
   ]
  },
  {
   "cell_type": "code",
   "execution_count": null,
   "metadata": {},
   "outputs": [],
   "source": [
    "left.join(right, lsuffix='_left', rsuffix='right')"
   ]
  },
  {
   "cell_type": "code",
   "execution_count": null,
   "metadata": {},
   "outputs": [],
   "source": [
    "s = pd.Series([\n",
    "    ['Red', 'Green', 'White'],\n",
    "    ['Red', 'Black'],\n",
    "    ['Yellow']])"
   ]
  },
  {
   "cell_type": "code",
   "execution_count": null,
   "metadata": {},
   "outputs": [],
   "source": [
    "s"
   ]
  },
  {
   "cell_type": "code",
   "execution_count": null,
   "metadata": {},
   "outputs": [],
   "source": [
    "s.apply(pd.Series).stack().reset_index()"
   ]
  },
  {
   "cell_type": "code",
   "execution_count": null,
   "metadata": {},
   "outputs": [],
   "source": [
    "s = s.apply(pd.Series).stack().reset_index(drop=True)"
   ]
  },
  {
   "cell_type": "code",
   "execution_count": null,
   "metadata": {},
   "outputs": [],
   "source": [
    "s"
   ]
  },
  {
   "cell_type": "code",
   "execution_count": null,
   "metadata": {},
   "outputs": [],
   "source": []
  },
  {
   "cell_type": "code",
   "execution_count": null,
   "metadata": {},
   "outputs": [],
   "source": [
    "s1 = pd.Series(['100', '200', 'python', '300.12', '400'])"
   ]
  },
  {
   "cell_type": "code",
   "execution_count": null,
   "metadata": {},
   "outputs": [],
   "source": [
    "s1"
   ]
  },
  {
   "cell_type": "code",
   "execution_count": null,
   "metadata": {},
   "outputs": [],
   "source": [
    "s2 = pd.to_numeric(s1, errors='coerce')"
   ]
  },
  {
   "cell_type": "code",
   "execution_count": null,
   "metadata": {},
   "outputs": [],
   "source": [
    "s2"
   ]
  },
  {
   "cell_type": "code",
   "execution_count": null,
   "metadata": {},
   "outputs": [],
   "source": [
    "s = pd.Series([2, 4, 6, 8, 10])"
   ]
  },
  {
   "cell_type": "code",
   "execution_count": null,
   "metadata": {},
   "outputs": [],
   "source": [
    "s"
   ]
  },
  {
   "cell_type": "code",
   "execution_count": null,
   "metadata": {},
   "outputs": [],
   "source": [
    "s.tolist()"
   ]
  },
  {
   "cell_type": "code",
   "execution_count": null,
   "metadata": {},
   "outputs": [],
   "source": [
    "pd.to_datetime('today') - pd.Timedelta(1,unit = 'd')"
   ]
  },
  {
   "cell_type": "code",
   "execution_count": null,
   "metadata": {},
   "outputs": [],
   "source": [
    "data = {'Name':['Tom','James','Ricky'],\n",
    "        'Age':[25,26,25],\n",
    "        'Rating':[4.23,3.24,3.98]\n",
    "        }\n",
    "\n",
    "df = pd.DataFrame(data)"
   ]
  },
  {
   "cell_type": "code",
   "execution_count": null,
   "metadata": {},
   "outputs": [],
   "source": [
    "df"
   ]
  },
  {
   "cell_type": "code",
   "execution_count": null,
   "metadata": {},
   "outputs": [],
   "source": [
    "df.Age.cumcount()"
   ]
  },
  {
   "cell_type": "code",
   "execution_count": null,
   "metadata": {},
   "outputs": [],
   "source": [
    "df = pd.DataFrame({'Team': ['Riders', 'Riders', 'Devils',],\n",
    "         'Rank': [1, 2, 2,],\n",
    "         'Year': [2014,2015,2014],\n",
    "         'Points':[876,789,863]})"
   ]
  },
  {
   "cell_type": "code",
   "execution_count": null,
   "metadata": {},
   "outputs": [],
   "source": [
    "df.groupby('Year').cumcount()"
   ]
  },
  {
   "cell_type": "code",
   "execution_count": null,
   "metadata": {},
   "outputs": [],
   "source": [
    "df = pd.DataFrame(np.arange(15).reshape(5,3),columns=['col1','col2','col3'])"
   ]
  },
  {
   "cell_type": "code",
   "execution_count": null,
   "metadata": {},
   "outputs": [],
   "source": [
    "df"
   ]
  },
  {
   "cell_type": "code",
   "execution_count": null,
   "metadata": {},
   "outputs": [],
   "source": [
    "def f(a, b):\n",
    "    if a >= b:\n",
    "        return b\n",
    "    else:\n",
    "        return a"
   ]
  },
  {
   "cell_type": "code",
   "execution_count": null,
   "metadata": {},
   "outputs": [],
   "source": [
    "s = df.apply(lambda x:f(x['col1'],x['col2']),axis=1)"
   ]
  },
  {
   "cell_type": "code",
   "execution_count": null,
   "metadata": {},
   "outputs": [],
   "source": [
    "s"
   ]
  },
  {
   "cell_type": "code",
   "execution_count": null,
   "metadata": {},
   "outputs": [],
   "source": [
    "time = pd.DataFrame({'时间':pd.date_range(start='20180301', end='20180731', freq='D')})\n",
    "time\n",
    "\n",
    "#构造一个二级行索引，使得每人对应20180301-20180731的每一天\n",
    "index = pd.MultiIndex.from_product([time['时间'],df_md['身份证']], names = ['时间','身份证'])\n",
    "s = pd.Series(1,index=index)\n",
    "\n",
    "df= s.to_frame().reset_index()\n",
    "del df[0]"
   ]
  },
  {
   "cell_type": "code",
   "execution_count": null,
   "metadata": {},
   "outputs": [],
   "source": [
    "t = pd.date_range(start='20180301', end='20180303', freq='D')\n",
    "\n",
    "s = pd.Series([1,2])\n",
    "\n",
    "index = pd.MultiIndex.from_product([t,s], names = ['t','value'])\n",
    "\n",
    "df = pd.DataFrame(index=index).reset_index()"
   ]
  },
  {
   "cell_type": "code",
   "execution_count": null,
   "metadata": {},
   "outputs": [],
   "source": [
    "s = pd.Series([1,2])"
   ]
  },
  {
   "cell_type": "code",
   "execution_count": null,
   "metadata": {
    "scrolled": false
   },
   "outputs": [],
   "source": [
    "index = pd.MultiIndex.from_product([t,s], names = ['t','value'])"
   ]
  },
  {
   "cell_type": "code",
   "execution_count": null,
   "metadata": {},
   "outputs": [],
   "source": [
    "df = pd.DataFrame(index=index).reset_index()"
   ]
  },
  {
   "cell_type": "code",
   "execution_count": null,
   "metadata": {},
   "outputs": [],
   "source": [
    "df"
   ]
  },
  {
   "cell_type": "code",
   "execution_count": null,
   "metadata": {},
   "outputs": [],
   "source": [
    "df = pd.read_excel('sales-funnel.xlsx')"
   ]
  },
  {
   "cell_type": "code",
   "execution_count": null,
   "metadata": {},
   "outputs": [],
   "source": [
    "df = pd.DataFrame(index=['a','b','c'])"
   ]
  },
  {
   "cell_type": "code",
   "execution_count": null,
   "metadata": {},
   "outputs": [],
   "source": [
    "df"
   ]
  },
  {
   "cell_type": "code",
   "execution_count": null,
   "metadata": {},
   "outputs": [],
   "source": [
    "df[\"Status\"] = df[\"Status\"].astype(\"category\")"
   ]
  },
  {
   "cell_type": "code",
   "execution_count": null,
   "metadata": {},
   "outputs": [],
   "source": [
    "df[\"Status\"].cat.set_categories([\"won\",\"pending\",\"presented\",\"declined\"],inplace=True)"
   ]
  },
  {
   "cell_type": "code",
   "execution_count": null,
   "metadata": {},
   "outputs": [],
   "source": [
    "table = pd.pivot_table(df,index=[\"Manager\",\"Status\"],columns=[\"Product\"],values=[\"Quantity\",\"Price\"],\n",
    "               aggfunc={\"Quantity\":len,\"Price\":np.sum},fill_value=0,margins=True)"
   ]
  },
  {
   "cell_type": "code",
   "execution_count": null,
   "metadata": {},
   "outputs": [],
   "source": [
    "table"
   ]
  },
  {
   "cell_type": "code",
   "execution_count": null,
   "metadata": {},
   "outputs": [],
   "source": [
    "table.query('Status == [\"pending\",\"won\"]')"
   ]
  },
  {
   "cell_type": "code",
   "execution_count": null,
   "metadata": {},
   "outputs": [],
   "source": [
    "table.stack('Product')"
   ]
  },
  {
   "cell_type": "code",
   "execution_count": null,
   "metadata": {},
   "outputs": [],
   "source": [
    "age = np.random.randint(12,80,size = 10)\n",
    "s = pd.Series(age)\n",
    "s"
   ]
  },
  {
   "cell_type": "code",
   "execution_count": null,
   "metadata": {},
   "outputs": [],
   "source": [
    "age_cut = pd.cut(s,bins = [0,18,45,60,80],right = False,labels = ['未成年','青年','中年','老年'])\n",
    "age_cut"
   ]
  },
  {
   "cell_type": "code",
   "execution_count": null,
   "metadata": {},
   "outputs": [],
   "source": [
    "age_cut = pd.cut(s,4,labels = ['未成年','青年','中年','老年'])\n",
    "age_cut"
   ]
  },
  {
   "cell_type": "code",
   "execution_count": null,
   "metadata": {},
   "outputs": [],
   "source": [
    "age_cut = pd.qcut(s,4)"
   ]
  },
  {
   "cell_type": "code",
   "execution_count": null,
   "metadata": {},
   "outputs": [],
   "source": [
    "age_cut"
   ]
  },
  {
   "cell_type": "code",
   "execution_count": null,
   "metadata": {},
   "outputs": [],
   "source": [
    "pd.value_counts(age_cut)"
   ]
  },
  {
   "cell_type": "code",
   "execution_count": null,
   "metadata": {},
   "outputs": [],
   "source": [
    "df = pd.DataFrame([[1, 2], [3, 4]], columns = ['a','b'])\n",
    "df2 = pd.DataFrame([[5, 6], [7, 8]], columns = ['a','b'])"
   ]
  },
  {
   "cell_type": "code",
   "execution_count": null,
   "metadata": {},
   "outputs": [],
   "source": [
    "df = df.append(df2)"
   ]
  },
  {
   "cell_type": "code",
   "execution_count": null,
   "metadata": {},
   "outputs": [],
   "source": [
    "df"
   ]
  },
  {
   "cell_type": "code",
   "execution_count": null,
   "metadata": {},
   "outputs": [],
   "source": [
    "df.drop(0)"
   ]
  },
  {
   "cell_type": "code",
   "execution_count": null,
   "metadata": {},
   "outputs": [],
   "source": [
    "del df['one']"
   ]
  },
  {
   "cell_type": "code",
   "execution_count": null,
   "metadata": {},
   "outputs": [],
   "source": [
    "os.chdir(r'C:\\Users\\Dragon\\Desktop')"
   ]
  },
  {
   "cell_type": "code",
   "execution_count": null,
   "metadata": {},
   "outputs": [],
   "source": [
    "# start = time.time()\n",
    "\n",
    "# - 导入待派券名单\n",
    "with pd.ExcelFile(r'C:\\Users\\Dragon\\Desktop\\工作簿8.xlsx') as xlsx:\n",
    "    df_1 = pd.read_excel(xlsx,'1')\n",
    "    df_2 = pd.read_excel(xlsx,'2')\n",
    "#     df_cg = pd.read_excel(xlsx,'存管回款')\n",
    "#     df_quan = pd.read_excel(xlsx,'券')"
   ]
  },
  {
   "cell_type": "code",
   "execution_count": null,
   "metadata": {},
   "outputs": [],
   "source": [
    "df = pd.merge(df_1,df_2,\n",
    "             on = '手机号',\n",
    "             how = 'left')"
   ]
  },
  {
   "cell_type": "code",
   "execution_count": null,
   "metadata": {},
   "outputs": [],
   "source": [
    "df.shape"
   ]
  },
  {
   "cell_type": "code",
   "execution_count": null,
   "metadata": {},
   "outputs": [],
   "source": [
    "df_1.shape"
   ]
  },
  {
   "cell_type": "code",
   "execution_count": null,
   "metadata": {},
   "outputs": [],
   "source": [
    "df.to_excel('1111.xlsx')"
   ]
  },
  {
   "cell_type": "code",
   "execution_count": null,
   "metadata": {},
   "outputs": [],
   "source": [
    "# - 导入已派券名单\n",
    "df_rcd = pd.read_excel(r'D:\\小鸡理财\\百度云同步盘\\小鸡理财\\每日数据\\派券\\已派券记录.xlsx')\n",
    "\n",
    "print('派券名单导入完成!\\n')"
   ]
  },
  {
   "cell_type": "code",
   "execution_count": null,
   "metadata": {},
   "outputs": [],
   "source": [
    "# - 合并回款表\n",
    "df_hk = df_jd_bj.append([df_jd_lx,df_cg], ignore_index=True,sort=True)\n",
    "\n",
    "# - 整理回款表\n",
    "df_hk['发放时间'] = pd.to_datetime(df_hk['预计本次发放时间'])\n",
    "del df_hk['预计本次发放时间']"
   ]
  },
  {
   "cell_type": "code",
   "execution_count": null,
   "metadata": {},
   "outputs": [],
   "source": [
    "dtnow = pd.to_datetime('today')\n",
    "day_of_week = dtnow.day_name()\n",
    "hour_of_day = int(dtnow.hour)\n",
    "print('Today is ',day_of_week)\n",
    "\n",
    "if day_of_week == 'Friday':\n",
    "\tprint('---happy 周末 !---\\n')\n",
    "\n",
    "\ttimediff = pd.Timedelta(1,unit='d')\n",
    "\tdt_ff_1 = dtnow + timediff\n",
    "\tdt_ff_1 = dt_ff_1.strftime('%Y.%m.%d')\n",
    "\n",
    "\ttimediff = pd.Timedelta(2,unit='d')\n",
    "\tdt_ff_2 = dtnow + timediff\n",
    "\tdt_ff_2 = dt_ff_2.strftime('%Y.%m.%d')\n",
    "\n",
    "\ttimediff = pd.Timedelta(3,unit='d')\n",
    "\tdt_ff_3 = dtnow + timediff\n",
    "\tdt_ff_3 = dt_ff_3.strftime('%Y.%m.%d')\n",
    "\n",
    "\tdf_hk_today = df_hk[(df_hk['发放时间'] == dt_ff_1) | (df_hk['发放时间'] == dt_ff_2) | (df_hk['发放时间'] == dt_ff_3)]\n",
    "\n",
    "\tdt_ff = str(dt_ff_1) + '-' + str(dt_ff_3)\n",
    "\n",
    "else:\n",
    "\tprint('---平时 is choosed!---\\n')\n",
    "\ttimediff = pd.Timedelta(1,unit='d')\n",
    "\tdt_ff = dtnow + timediff\n",
    "\tdt_ff = dt_ff.strftime('%Y.%m.%d')\n",
    "\tdf_hk_today = df_hk[(df_hk['发放时间'] == dt_ff)]"
   ]
  },
  {
   "cell_type": "code",
   "execution_count": null,
   "metadata": {},
   "outputs": [],
   "source": [
    "#归类\n",
    "class_pai = dict({'6月标':'派券2',\n",
    "                  '12月标':'派券2',\n",
    "                  360:'派券2',\n",
    "                  180:'派券2',\n",
    "                  90:'派券1',\n",
    "                  30:'派券1'})\n",
    "\n",
    "df_hk_today = df_hk_today.copy()\n",
    "df_hk_today['分类'] = df_hk_today.loc[:,'投资期限'].map(class_pai)"
   ]
  },
  {
   "cell_type": "code",
   "execution_count": null,
   "metadata": {},
   "outputs": [],
   "source": [
    "df_hk_today.head(10)"
   ]
  },
  {
   "cell_type": "code",
   "execution_count": null,
   "metadata": {},
   "outputs": [],
   "source": [
    "hk_pp = df_hk_today['会员名'].nunique()"
   ]
  },
  {
   "cell_type": "code",
   "execution_count": null,
   "metadata": {},
   "outputs": [],
   "source": [
    "hk_money = round(df_hk_today['本次发放金额'].sum() / 10000)"
   ]
  },
  {
   "cell_type": "code",
   "execution_count": null,
   "metadata": {},
   "outputs": [],
   "source": [
    "hk_money"
   ]
  },
  {
   "cell_type": "code",
   "execution_count": null,
   "metadata": {},
   "outputs": [],
   "source": [
    "print('{} 回款信息:共回款 {:.0f} 人，合计回款金额 {:.0f} 万元'.format(dt_ff,hk_pp,hk_money))"
   ]
  },
  {
   "cell_type": "code",
   "execution_count": null,
   "metadata": {},
   "outputs": [],
   "source": [
    "# - 合并计算，排除当日回款金额小于500元\n",
    "#排除总金额<500\n",
    "gp_hk = df_hk_today.groupby('会员名',as_index=False)['本次发放金额'].sum()\n",
    "l500 = gp_hk[gp_hk['本次发放金额'] >= 500]['会员名']\n",
    "# l500\n",
    "df_hk_today_res_1 = df_hk_today[df_hk_today['会员名'].isin(l500)]"
   ]
  },
  {
   "cell_type": "code",
   "execution_count": null,
   "metadata": {},
   "outputs": [],
   "source": [
    "pp_500_num = len(gp_hk[gp_hk['本次发放金额'] < 500]['会员名'])"
   ]
  },
  {
   "cell_type": "code",
   "execution_count": null,
   "metadata": {},
   "outputs": [],
   "source": [
    "pp_500"
   ]
  },
  {
   "cell_type": "code",
   "execution_count": null,
   "metadata": {},
   "outputs": [],
   "source": [
    "# - 排除有3张券以上的人\n",
    "df_quan['mark'] = 1\n",
    "gp_quan = df_quan.groupby('会员名',as_index=False)['mark'].sum()\n",
    "q3 = gp_quan[gp_quan['mark'] >= 3]['会员名']\n",
    "df_hk_today_res_2 = df_hk_today_res_1[~df_hk_today_res_1['会员名'].isin(q3)]"
   ]
  },
  {
   "cell_type": "code",
   "execution_count": null,
   "metadata": {},
   "outputs": [],
   "source": [
    "df_q3 = df_hk_today[df_hk_today['会员名'].isin(q3)]"
   ]
  },
  {
   "cell_type": "code",
   "execution_count": null,
   "metadata": {},
   "outputs": [],
   "source": [
    "df_q3.head()"
   ]
  },
  {
   "cell_type": "code",
   "execution_count": null,
   "metadata": {},
   "outputs": [],
   "source": [
    "df_q3_num = df_q3['会员名'].nunique()"
   ]
  },
  {
   "cell_type": "code",
   "execution_count": null,
   "metadata": {},
   "outputs": [],
   "source": [
    "# - 排除已经派了4次的人\n",
    "df_rcd['mark'] = 1\n",
    "gp_rcd = df_rcd.groupby('会员名',as_index=False)['mark'].sum()\n",
    "p4 = gp_rcd[gp_rcd['mark'] >= 4]\n",
    "df_hk_today_res_3 = df_hk_today_res_2[~df_hk_today_res_2['会员名'].isin(p4['会员名'])]"
   ]
  },
  {
   "cell_type": "code",
   "execution_count": null,
   "metadata": {},
   "outputs": [],
   "source": [
    "df_p4 = df_hk_today[df_hk_today['会员名'].isin(p4['会员名'])]"
   ]
  },
  {
   "cell_type": "code",
   "execution_count": null,
   "metadata": {},
   "outputs": [],
   "source": [
    "df_p4_num = df_p4['会员名'].nunique()"
   ]
  },
  {
   "cell_type": "code",
   "execution_count": null,
   "metadata": {},
   "outputs": [],
   "source": [
    "# - 确定要派哪类券\n",
    "gp_class = df_hk_today_res_3.groupby(['会员名','真实姓名','分类'])['本次发放金额'].sum().unstack()\n",
    "gp_class.fillna(0,inplace=True)\n",
    "\n",
    "if len(gp_class.columns) == 1:\n",
    "\tgp_class['派券分类'] = gp_class.columns[0]\n",
    "else:\n",
    "\tgp_class['派券分类'] = np.where(gp_class['派券2'] == 0,'派券1','派券2')\n",
    "\n",
    "print('class_ok!\\n')\n",
    "\n",
    "# class_time = time.time()\n",
    "# print('class_time:{} s\\n'.format(class_time-filter_time))\n",
    "\n",
    "# - 查找用户名等信息\n",
    "res_temp = gp_class.copy()\n",
    "res_temp = res_temp.reset_index()\n",
    "res = res_temp.loc[:,['会员名','真实姓名','派券分类']]\n"
   ]
  },
  {
   "cell_type": "code",
   "execution_count": null,
   "metadata": {},
   "outputs": [],
   "source": [
    "p_num = res['会员名'].nunique()"
   ]
  },
  {
   "cell_type": "code",
   "execution_count": null,
   "metadata": {},
   "outputs": [],
   "source": [
    "print('其中回款金额小于500元 {} 人，拥有3张券以上的 {} 人，已经发放4次券包的 {} 人。\\n{} 派券 {} 人！'.format(\n",
    "        pp_500,df_q3_num,df_p4_num,dt_ff,p_num))"
   ]
  },
  {
   "cell_type": "code",
   "execution_count": null,
   "metadata": {},
   "outputs": [],
   "source": [
    "print('''\n",
    "TO 财务部：\n",
    "\n",
    "附件是 {} 新规则派券名单\n",
    "\t'''.format(dt_ff))\n",
    "print('{} 回款信息:共回款 {:.0f} 人，合计回款金额 {:.0f} 万元。'.format(dt_ff,hk_pp,hk_money))\n",
    "print('其中回款金额小于500元 {} 人，拥有3张券以上的 {} 人，已经发放4次券包的 {} 人。\\n\\n{} 派券 {} 人！'.format(\n",
    "        pp_500_num,df_q3_num,df_p4_num,dt_ff,p_num))"
   ]
  },
  {
   "cell_type": "code",
   "execution_count": null,
   "metadata": {},
   "outputs": [],
   "source": [
    "%timeit df = pd.read_csv(r\"D:\\VDownload\\NYC Yellow Taxi data\\fhv_tripdata_2018-03.csv\")"
   ]
  },
  {
   "cell_type": "code",
   "execution_count": null,
   "metadata": {},
   "outputs": [],
   "source": [
    "df.shape"
   ]
  },
  {
   "cell_type": "code",
   "execution_count": null,
   "metadata": {},
   "outputs": [],
   "source": [
    "df.head()"
   ]
  },
  {
   "cell_type": "code",
   "execution_count": null,
   "metadata": {},
   "outputs": [],
   "source": [
    "with pd.ExcelFile(r'C:\\Users\\Xiaoji\\Desktop\\渠道表.xlsx') as xlsx:\n",
    "    df_tz = pd.read_excel(xlsx,'投资')\n",
    "    df_zc = pd.read_excel(xlsx,'注册')\n",
    "#     df_yj = pd.read_excel(xlsx,'佣金')\n",
    "#     df_vip = pd.read_excel(xlsx,'VIP变动')\n",
    "#     df_quan = pd.read_excel(xlsx,'券')\n",
    "#     df_zht = pd.read_excel(xlsx,'智慧投')"
   ]
  },
  {
   "cell_type": "code",
   "execution_count": null,
   "metadata": {},
   "outputs": [],
   "source": [
    "df = pd.merge(df_tz,df_zc,\n",
    "             on='手机号',\n",
    "             how='left')"
   ]
  },
  {
   "cell_type": "code",
   "execution_count": null,
   "metadata": {},
   "outputs": [],
   "source": [
    "df.to_excel('1030.xlsx')"
   ]
  },
  {
   "cell_type": "code",
   "execution_count": null,
   "metadata": {},
   "outputs": [],
   "source": [
    "df = pd.read_csv(r'D:\\VDownload\\NYC Yellow Taxi data\\green_tripdata_2013-08_2.csv',\n",
    "                     sep=r'(?:,|\\t|\\r|\\f|\\v)',\n",
    "                    engine='python')"
   ]
  },
  {
   "cell_type": "code",
   "execution_count": null,
   "metadata": {},
   "outputs": [],
   "source": [
    "df.head()"
   ]
  },
  {
   "cell_type": "code",
   "execution_count": null,
   "metadata": {},
   "outputs": [],
   "source": [
    "reader = pd.read_csv(r'D:\\VDownload\\NYC Yellow Taxi data\\green_tripdata_2013-08_2.csv',\n",
    "                     sep=',',nrows=0)\n",
    "#                      chunksize=10)"
   ]
  },
  {
   "cell_type": "code",
   "execution_count": null,
   "metadata": {},
   "outputs": [],
   "source": [
    "reader.info()"
   ]
  },
  {
   "cell_type": "code",
   "execution_count": null,
   "metadata": {},
   "outputs": [],
   "source": [
    "reader = pd.read_csv(r'D:\\VDownload\\NYC Yellow Taxi data\\yellow_tripdata_2012-03.csv',\n",
    "                     sep=',',\n",
    "                     nrows=0)"
   ]
  },
  {
   "cell_type": "code",
   "execution_count": null,
   "metadata": {},
   "outputs": [],
   "source": [
    "reader.info()"
   ]
  },
  {
   "cell_type": "code",
   "execution_count": null,
   "metadata": {},
   "outputs": [],
   "source": [
    "reader.info()"
   ]
  },
  {
   "cell_type": "code",
   "execution_count": null,
   "metadata": {},
   "outputs": [],
   "source": [
    "reader"
   ]
  },
  {
   "cell_type": "code",
   "execution_count": null,
   "metadata": {},
   "outputs": [],
   "source": [
    "for chunk in reader:\n",
    "    print(chunk.shape[0])\n",
    "#     print(chunk.head())\n",
    "    print('='*50)"
   ]
  },
  {
   "cell_type": "code",
   "execution_count": null,
   "metadata": {},
   "outputs": [],
   "source": [
    "n = 1"
   ]
  },
  {
   "cell_type": "code",
   "execution_count": null,
   "metadata": {},
   "outputs": [],
   "source": [
    "while n:\n",
    "    "
   ]
  },
  {
   "cell_type": "code",
   "execution_count": null,
   "metadata": {},
   "outputs": [],
   "source": [
    "l = [1,2,3]"
   ]
  },
  {
   "cell_type": "code",
   "execution_count": null,
   "metadata": {},
   "outputs": [],
   "source": [
    "print(reader.next())"
   ]
  },
  {
   "cell_type": "code",
   "execution_count": null,
   "metadata": {},
   "outputs": [],
   "source": [
    "import re"
   ]
  },
  {
   "cell_type": "code",
   "execution_count": null,
   "metadata": {},
   "outputs": [],
   "source": [
    "m = re.match(r'a([bcd]*)e','abce')"
   ]
  },
  {
   "cell_type": "code",
   "execution_count": null,
   "metadata": {},
   "outputs": [],
   "source": [
    "m.string"
   ]
  },
  {
   "cell_type": "code",
   "execution_count": null,
   "metadata": {},
   "outputs": [],
   "source": [
    "sep=r'(?:,|\\s+)'"
   ]
  },
  {
   "cell_type": "code",
   "execution_count": null,
   "metadata": {},
   "outputs": [],
   "source": [
    "l = [1,5,12,2]\n",
    "s = ''\n",
    "\n",
    "for i in l:\n",
    "    s = s + str(i)\n",
    "print(s)"
   ]
  },
  {
   "cell_type": "code",
   "execution_count": null,
   "metadata": {},
   "outputs": [],
   "source": [
    "color_list_1 = set([\"White\", \"Black\", \"Red\"])\n",
    "color_list_2 = set([\"Red\", \"Green\"])\n",
    "\n",
    "print(color_list_1.difference(color_list_2))"
   ]
  },
  {
   "cell_type": "code",
   "execution_count": null,
   "metadata": {},
   "outputs": [],
   "source": [
    "def gcd(a, b):\n",
    "    return a if b == 0 else gcd(b, a%b)\n",
    "\n",
    "gcd(336,360)"
   ]
  },
  {
   "cell_type": "code",
   "execution_count": null,
   "metadata": {},
   "outputs": [],
   "source": [
    "def lcm(a, b):\n",
    "    return int(a * b / gcd(a, b))\n",
    "\n",
    "print(lcm(15, 17))"
   ]
  },
  {
   "cell_type": "code",
   "execution_count": null,
   "metadata": {},
   "outputs": [],
   "source": [
    "char = '@'\n",
    "\n",
    "l = [2,3,6,5]\n",
    "\n",
    "for i in l:\n",
    "    print(char * i)"
   ]
  },
  {
   "cell_type": "code",
   "execution_count": null,
   "metadata": {},
   "outputs": [],
   "source": [
    "s = pd.Series([1,2,3,4,5])\n",
    "s"
   ]
  },
  {
   "cell_type": "code",
   "execution_count": null,
   "metadata": {},
   "outputs": [],
   "source": [
    "l = list(s)\n",
    "l"
   ]
  },
  {
   "cell_type": "code",
   "execution_count": null,
   "metadata": {},
   "outputs": [],
   "source": [
    "s.tolist()"
   ]
  },
  {
   "cell_type": "code",
   "execution_count": null,
   "metadata": {},
   "outputs": [],
   "source": [
    "s1 = pd.Series([2, 4, 6, 8, 10])\n",
    "s2 = pd.Series([1, 3, 5, 7, 9])"
   ]
  },
  {
   "cell_type": "code",
   "execution_count": null,
   "metadata": {},
   "outputs": [],
   "source": [
    "s1+s2"
   ]
  },
  {
   "cell_type": "code",
   "execution_count": null,
   "metadata": {},
   "outputs": [],
   "source": [
    "s1-s2"
   ]
  },
  {
   "cell_type": "code",
   "execution_count": null,
   "metadata": {},
   "outputs": [],
   "source": [
    "s1 * s2"
   ]
  },
  {
   "cell_type": "code",
   "execution_count": null,
   "metadata": {},
   "outputs": [],
   "source": [
    "s1 / s2"
   ]
  },
  {
   "cell_type": "code",
   "execution_count": null,
   "metadata": {},
   "outputs": [],
   "source": [
    "s = pd.Series({'a': 100, 'b': 200, 'c': 300, 'd': 400, 'e': 800})"
   ]
  },
  {
   "cell_type": "code",
   "execution_count": null,
   "metadata": {},
   "outputs": [],
   "source": [
    "s"
   ]
  },
  {
   "cell_type": "code",
   "execution_count": null,
   "metadata": {},
   "outputs": [],
   "source": [
    "n = np.array([10, 20, 30, 40, 50])"
   ]
  },
  {
   "cell_type": "code",
   "execution_count": null,
   "metadata": {},
   "outputs": [],
   "source": [
    "n"
   ]
  },
  {
   "cell_type": "code",
   "execution_count": null,
   "metadata": {},
   "outputs": [],
   "source": [
    "s = pd.Series(n)"
   ]
  },
  {
   "cell_type": "code",
   "execution_count": null,
   "metadata": {},
   "outputs": [],
   "source": [
    "s"
   ]
  },
  {
   "cell_type": "code",
   "execution_count": null,
   "metadata": {},
   "outputs": [],
   "source": [
    "s1 = pd.Series(['100', '200', 'python', '300.12', '400'])"
   ]
  },
  {
   "cell_type": "code",
   "execution_count": null,
   "metadata": {},
   "outputs": [],
   "source": [
    "s2 = pd.to_numeric(s1, errors='coerce')"
   ]
  },
  {
   "cell_type": "code",
   "execution_count": null,
   "metadata": {},
   "outputs": [],
   "source": [
    "s2"
   ]
  },
  {
   "cell_type": "code",
   "execution_count": null,
   "metadata": {},
   "outputs": [],
   "source": [
    "d = {'col1': [1, 2, 3, 4, 7, 11], 'col2': [4, 5, 6, 9, 5, 0], 'col3': [7, 5, 8, 12, 1,11]}\n",
    "df = pd.DataFrame(data=d)"
   ]
  },
  {
   "cell_type": "code",
   "execution_count": null,
   "metadata": {},
   "outputs": [],
   "source": [
    "s = df.col1"
   ]
  },
  {
   "cell_type": "code",
   "execution_count": null,
   "metadata": {},
   "outputs": [],
   "source": [
    "s"
   ]
  },
  {
   "cell_type": "code",
   "execution_count": null,
   "metadata": {},
   "outputs": [],
   "source": [
    "s = pd.Series([\n",
    "    ['Red', 'Green', 'White'],\n",
    "    ['Red', 'Black'],\n",
    "    ['Yellow']])"
   ]
  },
  {
   "cell_type": "code",
   "execution_count": null,
   "metadata": {},
   "outputs": [],
   "source": [
    "s"
   ]
  },
  {
   "cell_type": "code",
   "execution_count": null,
   "metadata": {},
   "outputs": [],
   "source": [
    "s.apply(pd.Series).stack().reset_index(drop=True)"
   ]
  },
  {
   "cell_type": "code",
   "execution_count": null,
   "metadata": {},
   "outputs": [],
   "source": [
    "s = pd.Series(['100', '200', 'python', '300.12', '400'])\n",
    "s.sort_values()"
   ]
  },
  {
   "cell_type": "code",
   "execution_count": null,
   "metadata": {},
   "outputs": [],
   "source": [
    "s = pd.Series([0, 1,2,3,4,5,6,7,8,9,10])\n",
    "print(\"Original Data Series:\")\n",
    "print(s)\n",
    "print(\"\\nSubset of the above Data Series:\")\n",
    "n = 3\n",
    "new_s = s[s < n]\n",
    "print(new_s)"
   ]
  },
  {
   "cell_type": "code",
   "execution_count": null,
   "metadata": {},
   "outputs": [],
   "source": [
    "s = pd.Series(data = [1,2,3,4,5,6,7,8,9,5,3])"
   ]
  },
  {
   "cell_type": "code",
   "execution_count": null,
   "metadata": {},
   "outputs": [],
   "source": [
    "s.std()"
   ]
  },
  {
   "cell_type": "code",
   "execution_count": null,
   "metadata": {},
   "outputs": [],
   "source": [
    "df = pd.DataFrame( {'X':[78,85,96,80,86], 'Y':[84,94,89,83,86],'Z':[86,97,96,72,83]})"
   ]
  },
  {
   "cell_type": "code",
   "execution_count": null,
   "metadata": {},
   "outputs": [],
   "source": [
    "df"
   ]
  },
  {
   "cell_type": "code",
   "execution_count": null,
   "metadata": {},
   "outputs": [],
   "source": [
    "exam_data = {'name': ['Anastasia', 'Dima', 'Katherine', 'James', 'Emily', 'Michael', 'Matthew', 'Laura', 'Kevin', 'Jonas'],\n",
    "'score': [12.5, 9, 16.5, np.nan, 9, 20, 14.5, np.nan, 8, 19],\n",
    "'attempts': [1, 3, 2, 3, 2, 3, 1, 1, 2, 1],\n",
    "'qualify': ['yes', 'no', 'yes', 'no', 'no', 'yes', 'yes', 'no', 'no', 'yes']}\n",
    "\n",
    "labels = ['a', 'b', 'c', 'd', 'e', 'f', 'g', 'h', 'i', 'j']\n",
    "\n",
    "df = pd.DataFrame(exam_data,index=labels)\n",
    "df"
   ]
  },
  {
   "cell_type": "code",
   "execution_count": null,
   "metadata": {},
   "outputs": [],
   "source": [
    "df.info()"
   ]
  },
  {
   "cell_type": "code",
   "execution_count": null,
   "metadata": {},
   "outputs": [],
   "source": [
    "df.iloc[:3,:]"
   ]
  },
  {
   "cell_type": "code",
   "execution_count": null,
   "metadata": {},
   "outputs": [],
   "source": [
    "df.loc[df.attempts > 2]"
   ]
  },
  {
   "cell_type": "code",
   "execution_count": null,
   "metadata": {},
   "outputs": [],
   "source": [
    "df.shape"
   ]
  },
  {
   "cell_type": "code",
   "execution_count": null,
   "metadata": {},
   "outputs": [],
   "source": [
    "df.isnull()"
   ]
  }
 ],
 "metadata": {
  "kernelspec": {
   "display_name": "Python 3",
   "language": "python",
   "name": "python3"
  },
  "language_info": {
   "codemirror_mode": {
    "name": "ipython",
    "version": 3
   },
   "file_extension": ".py",
   "mimetype": "text/x-python",
   "name": "python",
   "nbconvert_exporter": "python",
   "pygments_lexer": "ipython3",
   "version": "3.7.4"
  }
 },
 "nbformat": 4,
 "nbformat_minor": 2
}
